{
 "cells": [
  {
   "cell_type": "code",
   "execution_count": 62,
   "id": "c95230c6",
   "metadata": {},
   "outputs": [],
   "source": [
    "from sklearn.metrics import confusion_matrix, ConfusionMatrixDisplay"
   ]
  },
  {
   "cell_type": "code",
   "execution_count": 147,
   "id": "c210f8a7",
   "metadata": {},
   "outputs": [],
   "source": [
    "def recall(tp, fn):\n",
    "    return tp/(tp+fn)\n",
    "\n",
    "def precision(tp, fp):\n",
    "    return tp/(tp+fp)\n",
    "\n",
    "def f1(recall, precision):\n",
    "    return 2 * precision * recall/ (precision + recall)"
   ]
  },
  {
   "cell_type": "markdown",
   "id": "a4288358",
   "metadata": {},
   "source": [
    "### CM1 30% "
   ]
  },
  {
   "cell_type": "markdown",
   "id": "a0cba9b4",
   "metadata": {},
   "source": [
    "### k=3"
   ]
  },
  {
   "cell_type": "code",
   "execution_count": 63,
   "id": "f38718a9",
   "metadata": {},
   "outputs": [
    {
     "data": {
      "text/plain": [
       "364"
      ]
     },
     "execution_count": 63,
     "metadata": {},
     "output_type": "execute_result"
    }
   ],
   "source": [
    "cm1_30_k3_results = [\"b'false'\", \"b'true'\",\"b'true'\",\"b'true'\",\"b'true'\",\"b'false'\", \"b'true'\", \"b'false'\", \"b'false'\", \"b'false'\", \"b'true'\" ,\"b'false'\", \"b'true'\" ,\"b'true'\", \"b'true'\" ,\"b'true'\" ,\"b'true'\" ,\"b'true'\" ,\"b'false'\", \"b'true'\" ,\"b'false'\", \"b'true'\" ,\"b'false'\", \"b'true'\" ,\"b'false'\", \"b'true'\" ,\"b'true'\" ,\"b'false'\",\"b'false'\", \"b'true'\" ,\"b'true'\" ,\"b'true'\" ,\"b'false'\", \"b'true'\" ,\"b'false'\", \"b'true'\" ,\"b'false'\", \"b'false'\", \"b'false'\", \"b'true'\" ,\"b'false'\", \"b'true'\", \"b'true'\" ,\"b'true'\" ,\"b'false'\", \"b'false'\", \"b'true'\" ,\"b'false'\", \"b'true'\", \"b'true'\" ,\"b'false'\", \"b'false'\", \"b'false'\", \"b'false'\", \"b'false'\", \"b'false'\", \"b'true'\" ,\"b'true'\" ,\"b'true'\" ,\"b'false'\", \"b'true'\" ,\"b'true'\", \"b'false'\", \"b'true'\" ,\"b'false'\", \"b'false'\", \"b'true'\" ,\"b'false'\", \"b'true'\", \"b'false'\", \"b'false'\", \"b'true'\" ,\"b'false'\", \"b'true'\" ,\"b'true'\" ,\"b'false'\", \"b'true'\" ,\"b'false'\", \"b'false'\", \"b'false'\", \"b'true'\" ,\"b'false'\", \"b'true'\", \"b'false'\", \"b'true'\" ,\"b'false'\", \"b'false'\", \"b'true'\" ,\"b'false'\", \"b'true'\", \"b'true'\" ,\"b'true'\" ,\"b'false'\", \"b'true'\" ,\"b'false'\", \"b'false'\", \"b'true'\", \"b'true'\" ,\"b'true'\" ,\"b'true'\" ,\"b'false'\", \"b'false'\", \"b'false'\", \"b'false'\", \"b'false'\", \"b'true'\" ,\"b'false'\", \"b'true'\" ,\"b'true'\" ,\"b'true'\" ,\"b'true'\", \"b'true'\" ,\"b'true'\" ,\"b'true'\" ,\"b'true'\" ,\"b'false'\", \"b'false'\", \"b'true'\", \"b'false'\", \"b'false'\", \"b'false'\", \"b'false'\", \"b'false'\", \"b'true'\", \"b'false'\", \"b'true'\" ,\"b'false'\", \"b'false'\", \"b'true'\" ,\"b'false'\", \"b'false'\", \"b'false'\", \"b'false'\", \"b'false'\", \"b'false'\", \"b'false'\", \"b'false'\", \"b'true'\" ,\"b'false'\", \"b'true'\" ,\"b'true'\" ,\"b'false'\", \"b'false'\", \"b'true'\" ,\"b'false'\", \"b'false'\", \"b'true'\" ,\"b'true'\" ,\"b'true'\" ,\"b'false'\", \"b'true'\" ,\"b'false'\", \"b'true'\" ,\"b'false'\", \"b'true'\" ,\"b'true'\" ,\"b'true'\", \"b'false'\", \"b'false'\", \"b'true'\" ,\"b'false'\", \"b'false'\", \"b'false'\", \"b'true'\" ,\"b'false'\", \"b'false'\", \"b'false'\", \"b'true'\" ,\"b'false'\", \"b'true'\", \"b'false'\", \"b'false'\", \"b'false'\", \"b'true'\" ,\"b'false'\", \"b'false'\", \"b'false'\", \"b'true'\" ,\"b'false'\", \"b'false'\", \"b'false'\", \"b'true'\", \"b'false'\", \"b'false'\", \"b'false'\", \"b'true'\" ,\"b'true'\" ,\"b'true'\" ,\"b'true'\", \"b'true'\" ,\"b'false'\", \"b'false'\", \"b'false'\", \"b'false'\", \"b'true'\", \"b'false'\", \"b'false'\", \"b'false'\", \"b'true'\" ,\"b'false'\", \"b'false'\", \"b'true'\" ,\"b'false'\", \"b'false'\", \"b'false'\", \"b'false'\", \"b'true'\", \"b'false'\", \"b'false'\", \"b'false'\", \"b'true'\" ,\"b'false'\", \"b'false'\", \"b'true'\" ,\"b'true'\" ,\"b'true'\" ,\"b'false'\", \"b'true'\" ,\"b'false'\", \"b'false'\", \"b'true'\" ,\"b'true'\" ,\"b'false'\", \"b'false'\", \"b'false'\", \"b'false'\", \"b'true'\", \"b'false'\", \"b'true'\" ,\"b'true'\" ,\"b'false'\", \"b'false'\", \"b'true'\" ,\"b'true'\", \"b'false'\", \"b'true'\" ,\"b'false'\", \"b'false'\", \"b'false'\", \"b'false'\", \"b'false'\", \"b'false'\", \"b'true'\" ,\"b'true'\" ,\"b'false'\", \"b'false'\", \"b'true'\", \"b'true'\" ,\"b'false'\", \"b'true'\" ,\"b'false'\", \"b'false'\", \"b'false'\", \"b'false'\", \"b'true'\" ,\"b'false'\", \"b'false'\", \"b'false'\", \"b'false'\", \"b'false'\", \"b'false'\", \"b'true'\" ,\"b'false'\", \"b'false'\", \"b'true'\" ,\"b'true'\", \"b'false'\", \"b'true'\" ,\"b'false'\", \"b'true'\" ,\"b'true'\" ,\"b'true'\" ,\"b'true'\", \"b'true'\" ,\"b'false'\", \"b'false'\", \"b'false'\", \"b'false'\", \"b'true'\" ,\"b'true'\", \"b'true'\" ,\"b'true'\" ,\"b'false'\", \"b'false'\", \"b'true'\" ,\"b'false'\", \"b'true'\", \"b'false'\", \"b'false'\", \"b'true'\" ,\"b'false'\", \"b'true'\" ,\"b'true'\" ,\"b'true'\", \"b'true'\" ,\"b'true'\" ,\"b'false'\", \"b'true'\" ,\"b'false'\", \"b'false'\", \"b'true'\", \"b'false'\", \"b'true'\" ,\"b'false'\", \"b'false'\", \"b'false'\", \"b'true'\" ,\"b'true'\", \"b'true'\" ,\"b'false'\", \"b'true'\" ,\"b'false'\", \"b'false'\", \"b'true'\", \"b'false'\"]\n",
    "outliers = [\"b'true'\",\"b'false'\",\"b'false'\",\"b'true'\",\"b'true'\",\"b'true'\",\"b'false'\",\"b'false'\",\"b'true'\",\"b'false'\",\"b'true'\",\"b'true'\",\"b'false'\",\"b'true'\",\"b'false'\",\"b'false'\",\"b'true'\",\"b'true'\",\"b'false'\",\"b'false'\",\"b'true'\",\"b'false'\",\"b'false'\",\"b'true'\",\"b'true'\",\"b'true'\",\"b'true'\",\"b'true'\",\"b'false'\",\"b'true'\",\"b'false'\",\"b'false'\",\"b'false'\",\"b'false'\",\"b'true'\",\"b'true'\",\"b'true'\",\"b'false'\",\"b'false'\",\"b'true'\",\"b'false'\",\"b'true'\",\"b'true'\",\"b'true'\",\"b'true'\",\"b'false'\",\"b'false'\",\"b'false'\",\"b'true'\"]\n",
    "results = cm1_30_k3_results + outliers\n",
    "len(results)"
   ]
  },
  {
   "cell_type": "code",
   "execution_count": 64,
   "id": "173c9a20",
   "metadata": {},
   "outputs": [
    {
     "data": {
      "text/plain": [
       "364"
      ]
     },
     "execution_count": 64,
     "metadata": {},
     "output_type": "execute_result"
    }
   ],
   "source": [
    "gt_false = [\"b'false'\" for _ in range(len(cm1_30_k3_results))]\n",
    "gt_true = [\"b'true'\" for _ in range(len(outliers))]\n",
    "gt = gt_false + gt_true\n",
    "len(gt)"
   ]
  },
  {
   "cell_type": "code",
   "execution_count": 65,
   "id": "426474b1",
   "metadata": {
    "scrolled": true
   },
   "outputs": [
    {
     "data": {
      "text/plain": [
       "<sklearn.metrics._plot.confusion_matrix.ConfusionMatrixDisplay at 0x7f69b76ead00>"
      ]
     },
     "execution_count": 65,
     "metadata": {},
     "output_type": "execute_result"
    },
    {
     "data": {
      "image/png": "[encoded data removed]",
      "text/plain": [
       "<Figure size 432x288 with 2 Axes>"
      ]
     },
     "metadata": {
      "needs_background": "light"
     },
     "output_type": "display_data"
    }
   ],
   "source": [
    "matrix = confusion_matrix(gt, results, labels=[\"b'false'\", \"b'true'\"])\n",
    "display = ConfusionMatrixDisplay(confusion_matrix=matrix, display_labels=[\"b'false'\", \"b'true'\"])\n",
    "display.plot()"
   ]
  },
  {
   "cell_type": "code",
   "execution_count": 149,
   "id": "dfcb1544",
   "metadata": {},
   "outputs": [
    {
     "data": {
      "text/plain": [
       "0.23963133640552997"
      ]
     },
     "execution_count": 149,
     "metadata": {},
     "output_type": "execute_result"
    }
   ],
   "source": [
    "tn = 173\n",
    "fp = 142\n",
    "fn = 23\n",
    "tp = 26\n",
    "r = recall(tp, fn)\n",
    "p = precision(tp, fp)\n",
    "f1_measure = f1(r, p)\n",
    "f1_measure"
   ]
  },
  {
   "cell_type": "markdown",
   "id": "c0d32d7c",
   "metadata": {},
   "source": [
    "### k=5"
   ]
  },
  {
   "cell_type": "code",
   "execution_count": 66,
   "id": "a9b00311",
   "metadata": {},
   "outputs": [],
   "source": [
    "cm1_30_k5 = [\"b'false'\",\"b'true'\",\"b'true'\",\"b'true'\",\"b'true'\",\"b'false'\",\"b'true'\",\"b'false'\",\"b'false'\",\"b'true'\",\"b'true'\",\"b'false'\",\"b'true'\",\"b'true'\",\"b'true'\",\"b'true'\",\"b'true'\",\"b'true'\",\"b'false'\",\"b'true'\",\"b'false'\",\"b'true'\",\"b'false'\",\"b'true'\",\"b'false'\",\"b'true'\",\"b'true'\",\"b'false'\",\"b'false'\",\"b'true'\",\"b'true'\",\"b'true'\",\"b'true'\",\"b'true'\",\"b'false'\",\"b'true'\",\"b'false'\",\"b'false'\",\"b'false'\",\"b'true'\",\"b'false'\",\"b'true'\",\"b'true'\",\"b'true'\",\"b'false'\",\"b'false'\",\"b'true'\",\"b'true'\",\"b'true'\",\"b'true'\",\"b'false'\",\"b'false'\",\"b'true'\",\"b'false'\",\"b'false'\",\"b'false'\",\"b'true'\",\"b'true'\",\"b'true'\",\"b'true'\",\"b'true'\",\"b'true'\",\"b'false'\",\"b'true'\",\"b'false'\",\"b'false'\",\"b'true'\",\"b'false'\",\"b'true'\",\"b'false'\",\"b'true'\",\"b'true'\",\"b'false'\",\"b'true'\",\"b'true'\",\"b'false'\",\"b'true'\",\"b'false'\",\"b'false'\",\"b'false'\",\"b'true'\",\"b'false'\",\"b'true'\",\"b'false'\",\"b'true'\",\"b'false'\",\"b'false'\",\"b'true'\",\"b'false'\",\"b'true'\",\"b'true'\",\"b'true'\",\"b'false'\",\"b'true'\",\"b'false'\",\"b'false'\",\"b'true'\",\"b'true'\",\"b'true'\",\"b'true'\",\"b'false'\",\"b'true'\",\"b'false'\",\"b'true'\",\"b'false'\",\"b'true'\",\"b'false'\",\"b'true'\",\"b'true'\",\"b'true'\",\"b'true'\",\"b'true'\",\"b'true'\",\"b'true'\",\"b'true'\",\"b'false'\",\"b'false'\",\"b'true'\",\"b'false'\",\"b'false'\",\"b'false'\",\"b'false'\",\"b'false'\",\"b'true'\",\"b'true'\",\"b'true'\",\"b'false'\",\"b'false'\",\"b'true'\",\"b'false'\",\"b'false'\",\"b'true'\",\"b'false'\",\"b'false'\",\"b'false'\",\"b'true'\",\"b'false'\",\"b'true'\",\"b'false'\",\"b'true'\",\"b'true'\",\"b'false'\",\"b'false'\",\"b'true'\",\"b'false'\",\"b'true'\",\"b'true'\",\"b'true'\",\"b'true'\",\"b'false'\",\"b'true'\",\"b'false'\",\"b'true'\",\"b'false'\",\"b'true'\",\"b'true'\",\"b'true'\",\"b'false'\",\"b'false'\",\"b'true'\",\"b'true'\",\"b'true'\",\"b'false'\",\"b'true'\",\"b'false'\",\"b'false'\",\"b'false'\",\"b'true'\",\"b'false'\",\"b'true'\",\"b'false'\",\"b'false'\",\"b'true'\",\"b'true'\",\"b'false'\",\"b'false'\",\"b'false'\",\"b'true'\",\"b'false'\",\"b'false'\",\"b'false'\",\"b'true'\",\"b'false'\",\"b'false'\",\"b'false'\",\"b'true'\",\"b'true'\",\"b'true'\",\"b'true'\",\"b'true'\",\"b'false'\",\"b'false'\",\"b'false'\",\"b'false'\",\"b'true'\",\"b'false'\",\"b'true'\",\"b'false'\",\"b'true'\",\"b'false'\",\"b'false'\",\"b'true'\",\"b'false'\",\"b'false'\",\"b'false'\",\"b'false'\",\"b'true'\",\"b'false'\",\"b'false'\",\"b'false'\",\"b'true'\",\"b'false'\",\"b'false'\",\"b'true'\",\"b'true'\",\"b'true'\",\"b'false'\",\"b'true'\",\"b'false'\",\"b'false'\",\"b'true'\",\"b'true'\",\"b'false'\",\"b'false'\",\"b'false'\",\"b'false'\",\"b'true'\",\"b'false'\",\"b'true'\",\"b'true'\",\"b'true'\",\"b'false'\",\"b'true'\",\"b'true'\",\"b'false'\",\"b'true'\",\"b'false'\",\"b'false'\",\"b'false'\",\"b'false'\",\"b'true'\",\"b'false'\",\"b'true'\",\"b'true'\",\"b'false'\",\"b'false'\",\"b'true'\",\"b'true'\",\"b'false'\",\"b'true'\",\"b'false'\",\"b'false'\",\"b'false'\",\"b'true'\",\"b'true'\",\"b'false'\",\"b'false'\",\"b'false'\",\"b'true'\",\"b'true'\",\"b'false'\",\"b'true'\",\"b'false'\",\"b'false'\",\"b'true'\",\"b'true'\",\"b'false'\",\"b'true'\",\"b'false'\",\"b'true'\",\"b'true'\",\"b'true'\",\"b'true'\",\"b'true'\",\"b'false'\",\"b'true'\",\"b'false'\",\"b'true'\",\"b'true'\",\"b'true'\",\"b'true'\",\"b'true'\",\"b'false'\",\"b'false'\",\"b'true'\",\"b'true'\",\"b'true'\",\"b'false'\",\"b'false'\",\"b'true'\",\"b'false'\",\"b'true'\",\"b'true'\",\"b'true'\",\"b'true'\",\"b'true'\",\"b'false'\",\"b'true'\",\"b'false'\",\"b'false'\",\"b'true'\",\"b'false'\",\"b'true'\",\"b'false'\",\"b'true'\",\"b'false'\",\"b'true'\",\"b'true'\",\"b'true'\",\"b'false'\",\"b'true'\",\"b'false'\",\"b'true'\",\"b'true'\",\"b'false'\"]\n",
    "outliers = [\"b'true'\",\"b'false'\",\"b'false'\",\"b'true'\",\"b'true'\",\"b'true'\",\"b'false'\",\"b'true'\",\"b'true'\",\"b'false'\",\"b'true'\",\"b'true'\",\"b'false'\",\"b'true'\",\"b'false'\",\"b'true'\",\"b'true'\",\"b'true'\",\"b'false'\",\"b'true'\",\"b'true'\",\"b'false'\",\"b'false'\",\"b'true'\",\"b'true'\",\"b'true'\",\"b'true'\",\"b'true'\",\"b'false'\",\"b'true'\",\"b'false'\",\"b'false'\",\"b'false'\",\"b'false'\",\"b'true'\",\"b'true'\",\"b'true'\",\"b'false'\",\"b'false'\",\"b'true'\",\"b'false'\",\"b'true'\",\"b'true'\",\"b'true'\",\"b'true'\",\"b'false'\",\"b'false'\",\"b'false'\",\"b'true'\"]\n",
    "results = cm1_30_k5 + outliers\n"
   ]
  },
  {
   "cell_type": "code",
   "execution_count": 67,
   "id": "deea4498",
   "metadata": {},
   "outputs": [
    {
     "data": {
      "text/plain": [
       "364"
      ]
     },
     "execution_count": 67,
     "metadata": {},
     "output_type": "execute_result"
    }
   ],
   "source": [
    "gt_false = [\"b'false'\" for _ in range(len(cm1_30_k5))]\n",
    "gt_true = [\"b'true'\" for _ in range(len(outliers))]\n",
    "gt = gt_false + gt_true\n",
    "len(gt)"
   ]
  },
  {
   "cell_type": "code",
   "execution_count": 68,
   "id": "f50103d5",
   "metadata": {
    "scrolled": false
   },
   "outputs": [
    {
     "data": {
      "text/plain": [
       "<sklearn.metrics._plot.confusion_matrix.ConfusionMatrixDisplay at 0x7f69b75ab790>"
      ]
     },
     "execution_count": 68,
     "metadata": {},
     "output_type": "execute_result"
    },
    {
     "data": {
      "image/png": "[encoded data removed]",
      "text/plain": [
       "<Figure size 432x288 with 2 Axes>"
      ]
     },
     "metadata": {
      "needs_background": "light"
     },
     "output_type": "display_data"
    }
   ],
   "source": [
    "matrix = confusion_matrix(gt, results, labels=[\"b'false'\", \"b'true'\"])\n",
    "display = ConfusionMatrixDisplay(confusion_matrix=matrix, display_labels=[\"b'false'\", \"b'true'\"])\n",
    "display.plot()"
   ]
  },
  {
   "cell_type": "code",
   "execution_count": 150,
   "id": "9b6f3a41",
   "metadata": {},
   "outputs": [
    {
     "data": {
      "text/plain": [
       "0.23577235772357721"
      ]
     },
     "execution_count": 150,
     "metadata": {},
     "output_type": "execute_result"
    }
   ],
   "source": [
    "tn = 147\n",
    "fp = 168\n",
    "fn = 20\n",
    "tp = 29\n",
    "r = recall(tp, fn)\n",
    "p = precision(tp, fp)\n",
    "f1_measure = f1(r, p)\n",
    "f1_measure"
   ]
  },
  {
   "cell_type": "markdown",
   "id": "a577b176",
   "metadata": {},
   "source": [
    "### k=7"
   ]
  },
  {
   "cell_type": "code",
   "execution_count": 74,
   "id": "76b9bbc5",
   "metadata": {},
   "outputs": [
    {
     "data": {
      "text/plain": [
       "315"
      ]
     },
     "execution_count": 74,
     "metadata": {},
     "output_type": "execute_result"
    }
   ],
   "source": [
    "cm1_30_k7 = [\"b'true'\",\"b'true'\",\"b'true'\",\"b'true'\",\"b'true'\",\"b'false'\",\"b'true'\",\"b'false'\",\"b'false'\",\"b'true'\",\"b'true'\",\"b'false'\",\"b'true'\",\"b'true'\",\"b'true'\",\"b'true'\",\"b'true'\",\"b'true'\",\"b'false'\",\"b'true'\",\"b'false'\",\"b'true'\",\"b'false'\",\"b'true'\",\"b'false'\",\"b'true'\",\"b'true'\",\"b'false'\",\"b'true'\",\"b'true'\",\"b'true'\",\"b'true'\",\"b'true'\",\"b'true'\",\"b'false'\",\"b'true'\",\"b'false'\",\"b'false'\",\"b'false'\",\"b'true'\",\"b'false'\",\"b'true'\",\"b'true'\",\"b'true'\",\"b'false'\",\"b'false'\",\"b'true'\",\"b'true'\",\"b'true'\",\"b'true'\",\"b'false'\",\"b'true'\",\"b'true'\",\"b'false'\",\"b'false'\",\"b'false'\",\"b'true'\",\"b'true'\",\"b'true'\",\"b'true'\",\"b'true'\",\"b'true'\",\"b'false'\",\"b'true'\",\"b'false'\",\"b'false'\",\"b'true'\",\"b'false'\",\"b'true'\",\"b'false'\",\"b'true'\",\"b'true'\",\"b'false'\",\"b'true'\",\"b'true'\",\"b'false'\",\"b'true'\",\"b'false'\",\"b'false'\",\"b'false'\",\"b'true'\",\"b'false'\",\"b'true'\",\"b'false'\",\"b'true'\",\"b'false'\",\"b'false'\",\"b'true'\",\"b'false'\",\"b'true'\",\"b'true'\",\"b'true'\",\"b'false'\",\"b'true'\",\"b'false'\",\"b'false'\",\"b'true'\",\"b'true'\",\"b'true'\",\"b'true'\",\"b'true'\",\"b'true'\",\"b'true'\",\"b'true'\",\"b'false'\",\"b'true'\",\"b'false'\",\"b'true'\",\"b'true'\",\"b'true'\",\"b'true'\",\"b'true'\",\"b'true'\",\"b'true'\",\"b'true'\",\"b'false'\",\"b'false'\",\"b'true'\",\"b'false'\",\"b'false'\",\"b'false'\",\"b'false'\",\"b'false'\",\"b'true'\",\"b'true'\",\"b'true'\",\"b'false'\",\"b'false'\",\"b'true'\",\"b'false'\",\"b'false'\",\"b'true'\",\"b'false'\",\"b'false'\",\"b'false'\",\"b'true'\",\"b'false'\",\"b'true'\",\"b'false'\",\"b'true'\",\"b'true'\",\"b'false'\",\"b'false'\",\"b'true'\",\"b'false'\",\"b'true'\",\"b'true'\",\"b'true'\",\"b'true'\",\"b'false'\",\"b'true'\",\"b'true'\",\"b'true'\",\"b'false'\",\"b'true'\",\"b'true'\",\"b'true'\",\"b'false'\",\"b'false'\",\"b'true'\",\"b'true'\",\"b'true'\",\"b'false'\",\"b'true'\",\"b'false'\",\"b'false'\",\"b'false'\",\"b'true'\",\"b'false'\",\"b'true'\",\"b'false'\",\"b'true'\",\"b'true'\",\"b'true'\",\"b'false'\",\"b'false'\",\"b'false'\",\"b'true'\",\"b'false'\",\"b'false'\",\"b'false'\",\"b'true'\",\"b'false'\",\"b'false'\",\"b'false'\",\"b'true'\",\"b'true'\",\"b'true'\",\"b'true'\",\"b'true'\",\"b'false'\",\"b'false'\",\"b'false'\",\"b'false'\",\"b'true'\",\"b'false'\",\"b'true'\",\"b'false'\",\"b'true'\",\"b'false'\",\"b'false'\",\"b'true'\",\"b'false'\",\"b'false'\",\"b'false'\",\"b'false'\",\"b'true'\",\"b'true'\",\"b'false'\",\"b'false'\",\"b'true'\",\"b'false'\",\"b'false'\",\"b'true'\",\"b'true'\",\"b'true'\",\"b'true'\",\"b'true'\",\"b'false'\",\"b'false'\",\"b'true'\",\"b'true'\",\"b'false'\",\"b'false'\",\"b'true'\",\"b'false'\",\"b'true'\",\"b'false'\",\"b'true'\",\"b'true'\",\"b'true'\",\"b'true'\",\"b'true'\",\"b'true'\",\"b'false'\",\"b'true'\",\"b'false'\",\"b'false'\",\"b'false'\",\"b'false'\",\"b'true'\",\"b'false'\",\"b'true'\",\"b'true'\",\"b'false'\",\"b'false'\",\"b'true'\",\"b'true'\",\"b'false'\",\"b'true'\",\"b'false'\",\"b'false'\",\"b'false'\",\"b'true'\",\"b'true'\",\"b'false'\",\"b'false'\",\"b'false'\",\"b'true'\",\"b'true'\",\"b'false'\",\"b'true'\",\"b'false'\",\"b'false'\",\"b'true'\",\"b'true'\",\"b'false'\",\"b'true'\",\"b'false'\",\"b'true'\",\"b'true'\",\"b'true'\",\"b'true'\",\"b'true'\",\"b'false'\",\"b'true'\",\"b'true'\",\"b'true'\",\"b'true'\",\"b'true'\",\"b'true'\",\"b'true'\",\"b'false'\",\"b'false'\",\"b'true'\",\"b'true'\",\"b'true'\",\"b'false'\",\"b'false'\",\"b'true'\",\"b'true'\",\"b'true'\",\"b'true'\",\"b'true'\",\"b'true'\",\"b'true'\",\"b'false'\",\"b'true'\",\"b'false'\",\"b'false'\",\"b'true'\",\"b'false'\",\"b'true'\",\"b'false'\",\"b'true'\",\"b'false'\",\"b'true'\",\"b'true'\",\"b'true'\",\"b'false'\",\"b'true'\",\"b'true'\",\"b'true'\",\"b'true'\",\"b'false'\"]\n",
    "outliers = [\"b'true'\",\"b'false'\",\"b'false'\",\"b'true'\",\"b'true'\",\"b'true'\",\"b'false'\",\"b'true'\",\"b'true'\",\"b'false'\",\"b'true'\",\"b'true'\",\"b'false'\",\"b'true'\",\"b'true'\",\"b'true'\",\"b'true'\",\"b'true'\",\"b'false'\",\"b'true'\",\"b'true'\",\"b'false'\",\"b'false'\",\"b'true'\",\"b'true'\",\"b'true'\",\"b'true'\",\"b'true'\",\"b'false'\",\"b'true'\",\"b'false'\",\"b'false'\",\"b'false'\",\"b'false'\",\"b'true'\",\"b'true'\",\"b'true'\",\"b'false'\",\"b'false'\",\"b'true'\",\"b'false'\",\"b'true'\",\"b'true'\",\"b'true'\",\"b'true'\",\"b'false'\",\"b'false'\",\"b'false'\",\"b'true'\"]\n",
    "results = cm1_30_k7 + outliers\n",
    "len(cm1_30_k7)"
   ]
  },
  {
   "cell_type": "code",
   "execution_count": 70,
   "id": "f743bae8",
   "metadata": {},
   "outputs": [
    {
     "data": {
      "text/plain": [
       "364"
      ]
     },
     "execution_count": 70,
     "metadata": {},
     "output_type": "execute_result"
    }
   ],
   "source": [
    "gt_false = [\"b'false'\" for _ in range(len(cm1_30_k7))]\n",
    "gt_true = [\"b'true'\" for _ in range(len(outliers))]\n",
    "gt = gt_false + gt_true\n",
    "len(gt)"
   ]
  },
  {
   "cell_type": "code",
   "execution_count": 71,
   "id": "29735189",
   "metadata": {
    "scrolled": false
   },
   "outputs": [
    {
     "data": {
      "text/plain": [
       "<sklearn.metrics._plot.confusion_matrix.ConfusionMatrixDisplay at 0x7f69b74da640>"
      ]
     },
     "execution_count": 71,
     "metadata": {},
     "output_type": "execute_result"
    },
    {
     "data": {
      "image/png": "[encoded data removed]",
      "text/plain": [
       "<Figure size 432x288 with 2 Axes>"
      ]
     },
     "metadata": {
      "needs_background": "light"
     },
     "output_type": "display_data"
    }
   ],
   "source": [
    "matrix = confusion_matrix(gt, results, labels=[\"b'false'\", \"b'true'\"])\n",
    "display = ConfusionMatrixDisplay(confusion_matrix=matrix, display_labels=[\"b'false'\", \"b'true'\"])\n",
    "display.plot()"
   ]
  },
  {
   "cell_type": "code",
   "execution_count": 151,
   "id": "d632d77f",
   "metadata": {},
   "outputs": [
    {
     "data": {
      "text/plain": [
       "0.22988505747126436"
      ]
     },
     "execution_count": 151,
     "metadata": {},
     "output_type": "execute_result"
    }
   ],
   "source": [
    "tn = 133\n",
    "fp = 182\n",
    "fn = 19\n",
    "tp = 30\n",
    "r = recall(tp, fn)\n",
    "p = precision(tp, fp)\n",
    "f1_measure = f1(r, p)\n",
    "f1_measure"
   ]
  },
  {
   "cell_type": "markdown",
   "id": "3ed34a57",
   "metadata": {},
   "source": [
    "### CM1 40%"
   ]
  },
  {
   "cell_type": "markdown",
   "id": "f733b7c9",
   "metadata": {},
   "source": [
    "### k= 3"
   ]
  },
  {
   "cell_type": "code",
   "execution_count": 77,
   "id": "51487d20",
   "metadata": {},
   "outputs": [
    {
     "data": {
      "text/plain": [
       "319"
      ]
     },
     "execution_count": 77,
     "metadata": {},
     "output_type": "execute_result"
    }
   ],
   "source": [
    "cm1_40_k3 = [\"b'false'\",\"b'false'\",\"b'false'\",\"b'false'\",\"b'false'\",\"b'false'\",\"b'false'\",\"b'false'\",\"b'false'\",\"b'false'\",\"b'false'\",\"b'false'\",\"b'false'\",\"b'false'\",\"b'false'\",\"b'true'\",\"b'false'\",\"b'false'\",\"b'true'\",\"b'false'\",\"b'false'\",\"b'false'\",\"b'true'\",\"b'false'\",\"b'false'\",\"b'false'\",\"b'true'\",\"b'false'\",\"b'false'\",\"b'false'\",\"b'false'\",\"b'true'\",\"b'false'\",\"b'false'\",\"b'false'\",\"b'true'\",\"b'false'\",\"b'true'\",\"b'false'\",\"b'false'\",\"b'false'\",\"b'false'\",\"b'false'\",\"b'false'\",\"b'false'\",\"b'false'\",\"b'true'\",\"b'false'\",\"b'false'\",\"b'true'\",\"b'false'\",\"b'true'\",\"b'false'\",\"b'true'\",\"b'false'\",\"b'false'\",\"b'false'\",\"b'false'\",\"b'false'\",\"b'false'\",\"b'false'\",\"b'false'\",\"b'false'\",\"b'false'\",\"b'false'\",\"b'false'\",\"b'false'\",\"b'false'\",\"b'false'\",\"b'false'\",\"b'true'\",\"b'false'\",\"b'true'\",\"b'false'\",\"b'false'\",\"b'false'\",\"b'false'\",\"b'false'\",\"b'true'\",\"b'false'\",\"b'true'\",\"b'false'\",\"b'true'\",\"b'true'\",\"b'false'\",\"b'false'\",\"b'false'\",\"b'false'\",\"b'false'\",\"b'false'\",\"b'false'\",\"b'false'\",\"b'false'\",\"b'false'\",\"b'true'\",\"b'false'\",\"b'false'\",\"b'false'\",\"b'true'\",\"b'false'\",\"b'false'\",\"b'false'\",\"b'false'\",\"b'true'\",\"b'true'\",\"b'false'\",\"b'false'\",\"b'true'\",\"b'false'\",\"b'true'\",\"b'false'\",\"b'false'\",\"b'false'\",\"b'false'\",\"b'false'\",\"b'false'\",\"b'false'\",\"b'false'\",\"b'false'\",\"b'false'\",\"b'true'\",\"b'false'\",\"b'true'\",\"b'false'\",\"b'false'\",\"b'false'\",\"b'false'\",\"b'false'\",\"b'false'\",\"b'false'\",\"b'false'\",\"b'false'\",\"b'false'\",\"b'false'\",\"b'false'\",\"b'false'\",\"b'false'\",\"b'false'\",\"b'false'\",\"b'false'\",\"b'true'\",\"b'false'\",\"b'false'\",\"b'true'\",\"b'false'\",\"b'false'\",\"b'false'\",\"b'false'\",\"b'false'\",\"b'false'\",\"b'false'\",\"b'false'\",\"b'false'\",\"b'false'\",\"b'false'\",\"b'false'\",\"b'true'\",\"b'false'\",\"b'false'\",\"b'false'\",\"b'false'\",\"b'false'\",\"b'false'\",\"b'false'\",\"b'false'\",\"b'false'\",\"b'false'\",\"b'false'\",\"b'true'\",\"b'false'\",\"b'false'\",\"b'false'\",\"b'true'\",\"b'false'\",\"b'false'\",\"b'false'\",\"b'false'\",\"b'false'\",\"b'false'\",\"b'false'\",\"b'false'\",\"b'true'\",\"b'false'\",\"b'true'\",\"b'true'\",\"b'false'\",\"b'false'\",\"b'true'\",\"b'true'\",\"b'false'\",\"b'true'\",\"b'false'\",\"b'false'\",\"b'false'\",\"b'false'\",\"b'false'\",\"b'false'\",\"b'true'\",\"b'false'\",\"b'false'\",\"b'false'\",\"b'true'\",\"b'false'\",\"b'false'\",\"b'false'\",\"b'false'\",\"b'false'\",\"b'false'\",\"b'false'\",\"b'true'\",\"b'false'\",\"b'false'\",\"b'false'\",\"b'false'\",\"b'false'\",\"b'false'\",\"b'false'\",\"b'false'\",\"b'false'\",\"b'false'\",\"b'true'\",\"b'false'\",\"b'true'\",\"b'false'\",\"b'false'\",\"b'true'\",\"b'false'\",\"b'true'\",\"b'false'\",\"b'false'\",\"b'false'\",\"b'false'\",\"b'false'\",\"b'false'\",\"b'false'\",\"b'true'\",\"b'false'\",\"b'false'\",\"b'false'\",\"b'false'\",\"b'false'\",\"b'false'\",\"b'false'\",\"b'false'\",\"b'false'\",\"b'false'\",\"b'true'\",\"b'false'\",\"b'true'\",\"b'true'\",\"b'false'\",\"b'false'\",\"b'false'\",\"b'false'\",\"b'false'\",\"b'false'\",\"b'false'\",\"b'true'\",\"b'false'\",\"b'false'\",\"b'false'\",\"b'false'\",\"b'false'\",\"b'false'\",\"b'false'\",\"b'false'\",\"b'false'\",\"b'true'\",\"b'false'\",\"b'false'\"]\n",
    "outliers = [\"b'false'\",\"b'false'\",\"b'false'\",\"b'true'\",\"b'true'\",\"b'true'\",\"b'false'\",\"b'true'\",\"b'true'\",\"b'true'\",\"b'true'\",\"b'false'\",\"b'false'\",\"b'false'\",\"b'false'\",\"b'false'\",\"b'false'\",\"b'true'\",\"b'false'\",\"b'true'\",\"b'true'\",\"b'false'\",\"b'true'\",\"b'false'\",\"b'true'\",\"b'true'\",\"b'false'\",\"b'true'\",\"b'false'\",\"b'false'\",\"b'false'\",\"b'false'\",\"b'true'\",\"b'false'\",\"b'true'\",\"b'true'\",\"b'true'\",\"b'false'\",\"b'false'\",\"b'true'\",\"b'false'\",\"b'false'\",\"b'false'\",\"b'true'\",\"b'true'\",\"b'false'\",\"b'false'\",\"b'false'\",\"b'false'\"]\n",
    "results = cm1_40_k3 + outliers\n",
    "len(results)"
   ]
  },
  {
   "cell_type": "code",
   "execution_count": 79,
   "id": "bf5a72be",
   "metadata": {},
   "outputs": [
    {
     "data": {
      "text/plain": [
       "319"
      ]
     },
     "execution_count": 79,
     "metadata": {},
     "output_type": "execute_result"
    }
   ],
   "source": [
    "gt_false = [\"b'false'\" for _ in range(len(cm1_40_k3))]\n",
    "gt_true = [\"b'true'\" for _ in range(len(outliers))]\n",
    "gt = gt_false + gt_true\n",
    "len(gt)"
   ]
  },
  {
   "cell_type": "code",
   "execution_count": 80,
   "id": "a17e1d8c",
   "metadata": {
    "scrolled": true
   },
   "outputs": [
    {
     "data": {
      "text/plain": [
       "<sklearn.metrics._plot.confusion_matrix.ConfusionMatrixDisplay at 0x7f69b74d0eb0>"
      ]
     },
     "execution_count": 80,
     "metadata": {},
     "output_type": "execute_result"
    },
    {
     "data": {
      "image/png": "[encoded data removed]",
      "text/plain": [
       "<Figure size 432x288 with 2 Axes>"
      ]
     },
     "metadata": {
      "needs_background": "light"
     },
     "output_type": "display_data"
    }
   ],
   "source": [
    "matrix = confusion_matrix(gt, results, labels=[\"b'false'\", \"b'true'\"])\n",
    "display = ConfusionMatrixDisplay(confusion_matrix=matrix, display_labels=[\"b'false'\", \"b'true'\"])\n",
    "display.plot()"
   ]
  },
  {
   "cell_type": "code",
   "execution_count": 152,
   "id": "8473e01c",
   "metadata": {},
   "outputs": [
    {
     "data": {
      "text/plain": [
       "0.3529411764705882"
      ]
     },
     "execution_count": 152,
     "metadata": {},
     "output_type": "execute_result"
    }
   ],
   "source": [
    "tn = 221\n",
    "fp = 49\n",
    "fn = 28\n",
    "tp = 21\n",
    "r = recall(tp, fn)\n",
    "p = precision(tp, fp)\n",
    "f1_measure = f1(r, p)\n",
    "f1_measure"
   ]
  },
  {
   "cell_type": "markdown",
   "id": "321dbcba",
   "metadata": {},
   "source": [
    "### k=5"
   ]
  },
  {
   "cell_type": "code",
   "execution_count": 82,
   "id": "89d9d13a",
   "metadata": {},
   "outputs": [
    {
     "data": {
      "text/plain": [
       "319"
      ]
     },
     "execution_count": 82,
     "metadata": {},
     "output_type": "execute_result"
    }
   ],
   "source": [
    "cm1_40_k5 = [\"b'false'\",\"b'false'\",\"b'false'\",\"b'false'\",\"b'false'\",\"b'false'\",\"b'false'\",\"b'false'\",\"b'false'\",\"b'false'\",\"b'false'\",\"b'false'\",\"b'false'\",\"b'false'\",\"b'false'\",\"b'true'\",\"b'false'\",\"b'false'\",\"b'true'\",\"b'false'\",\"b'false'\",\"b'false'\",\"b'true'\",\"b'true'\",\"b'false'\",\"b'false'\",\"b'true'\",\"b'false'\",\"b'false'\",\"b'true'\",\"b'false'\",\"b'true'\",\"b'true'\",\"b'false'\",\"b'false'\",\"b'true'\",\"b'false'\",\"b'true'\",\"b'false'\",\"b'false'\",\"b'false'\",\"b'false'\",\"b'false'\",\"b'false'\",\"b'false'\",\"b'true'\",\"b'true'\",\"b'false'\",\"b'false'\",\"b'true'\",\"b'false'\",\"b'true'\",\"b'false'\",\"b'true'\",\"b'false'\",\"b'false'\",\"b'true'\",\"b'false'\",\"b'false'\",\"b'false'\",\"b'false'\",\"b'false'\",\"b'false'\",\"b'false'\",\"b'false'\",\"b'false'\",\"b'true'\",\"b'false'\",\"b'true'\",\"b'false'\",\"b'true'\",\"b'false'\",\"b'true'\",\"b'false'\",\"b'false'\",\"b'false'\",\"b'false'\",\"b'false'\",\"b'true'\",\"b'false'\",\"b'true'\",\"b'false'\",\"b'true'\",\"b'true'\",\"b'false'\",\"b'false'\",\"b'false'\",\"b'false'\",\"b'false'\",\"b'false'\",\"b'false'\",\"b'false'\",\"b'false'\",\"b'false'\",\"b'true'\",\"b'false'\",\"b'false'\",\"b'false'\",\"b'true'\",\"b'false'\",\"b'false'\",\"b'false'\",\"b'false'\",\"b'true'\",\"b'true'\",\"b'false'\",\"b'false'\",\"b'true'\",\"b'false'\",\"b'true'\",\"b'false'\",\"b'false'\",\"b'false'\",\"b'false'\",\"b'false'\",\"b'false'\",\"b'false'\",\"b'false'\",\"b'true'\",\"b'false'\",\"b'true'\",\"b'false'\",\"b'true'\",\"b'true'\",\"b'false'\",\"b'false'\",\"b'false'\",\"b'false'\",\"b'false'\",\"b'false'\",\"b'false'\",\"b'false'\",\"b'false'\",\"b'false'\",\"b'false'\",\"b'false'\",\"b'false'\",\"b'false'\",\"b'false'\",\"b'false'\",\"b'true'\",\"b'false'\",\"b'false'\",\"b'true'\",\"b'false'\",\"b'false'\",\"b'false'\",\"b'false'\",\"b'false'\",\"b'false'\",\"b'false'\",\"b'false'\",\"b'false'\",\"b'false'\",\"b'false'\",\"b'false'\",\"b'true'\",\"b'false'\",\"b'false'\",\"b'false'\",\"b'false'\",\"b'false'\",\"b'false'\",\"b'false'\",\"b'false'\",\"b'false'\",\"b'false'\",\"b'false'\",\"b'true'\",\"b'false'\",\"b'false'\",\"b'false'\",\"b'true'\",\"b'false'\",\"b'false'\",\"b'false'\",\"b'true'\",\"b'false'\",\"b'false'\",\"b'false'\",\"b'false'\",\"b'true'\",\"b'false'\",\"b'true'\",\"b'true'\",\"b'false'\",\"b'false'\",\"b'true'\",\"b'true'\",\"b'false'\",\"b'true'\",\"b'false'\",\"b'false'\",\"b'false'\",\"b'false'\",\"b'false'\",\"b'false'\",\"b'true'\",\"b'false'\",\"b'false'\",\"b'false'\",\"b'true'\",\"b'false'\",\"b'false'\",\"b'false'\",\"b'false'\",\"b'false'\",\"b'false'\",\"b'true'\",\"b'true'\",\"b'false'\",\"b'false'\",\"b'false'\",\"b'true'\",\"b'true'\",\"b'false'\",\"b'false'\",\"b'false'\",\"b'false'\",\"b'false'\",\"b'true'\",\"b'false'\",\"b'true'\",\"b'false'\",\"b'false'\",\"b'true'\",\"b'true'\",\"b'true'\",\"b'false'\",\"b'false'\",\"b'false'\",\"b'false'\",\"b'false'\",\"b'false'\",\"b'false'\",\"b'true'\",\"b'false'\",\"b'false'\",\"b'false'\",\"b'true'\",\"b'false'\",\"b'false'\",\"b'false'\",\"b'false'\",\"b'false'\",\"b'false'\",\"b'true'\",\"b'false'\",\"b'true'\",\"b'true'\",\"b'false'\",\"b'false'\",\"b'false'\",\"b'false'\",\"b'false'\",\"b'false'\",\"b'false'\",\"b'true'\",\"b'false'\",\"b'false'\",\"b'false'\",\"b'false'\",\"b'false'\",\"b'false'\",\"b'false'\",\"b'false'\",\"b'false'\",\"b'true'\",\"b'false'\",\"b'true'\"]\n",
    "outliers = [\"b'false'\",\"b'false'\",\"b'false'\",\"b'true'\",\"b'true'\",\"b'true'\",\"b'false'\",\"b'true'\",\"b'true'\",\"b'true'\",\"b'true'\",\"b'false'\",\"b'false'\",\"b'false'\",\"b'false'\",\"b'false'\",\"b'true'\",\"b'true'\",\"b'false'\",\"b'true'\",\"b'true'\",\"b'false'\",\"b'true'\",\"b'false'\",\"b'true'\",\"b'true'\",\"b'true'\",\"b'true'\",\"b'false'\",\"b'false'\",\"b'false'\",\"b'false'\",\"b'true'\",\"b'false'\",\"b'true'\",\"b'true'\",\"b'true'\",\"b'false'\",\"b'false'\",\"b'true'\",\"b'false'\",\"b'false'\",\"b'false'\",\"b'true'\",\"b'true'\",\"b'false'\",\"b'false'\",\"b'false'\",\"b'false'\"]\n",
    "results = cm1_40_k5 + outliers\n",
    "len(results)"
   ]
  },
  {
   "cell_type": "code",
   "execution_count": 83,
   "id": "5f469575",
   "metadata": {},
   "outputs": [
    {
     "data": {
      "text/plain": [
       "319"
      ]
     },
     "execution_count": 83,
     "metadata": {},
     "output_type": "execute_result"
    }
   ],
   "source": [
    "gt_false = [\"b'false'\" for _ in range(len(cm1_40_k3))]\n",
    "gt_true = [\"b'true'\" for _ in range(len(outliers))]\n",
    "gt = gt_false + gt_true\n",
    "len(gt)"
   ]
  },
  {
   "cell_type": "code",
   "execution_count": 84,
   "id": "990110be",
   "metadata": {},
   "outputs": [
    {
     "data": {
      "text/plain": [
       "<sklearn.metrics._plot.confusion_matrix.ConfusionMatrixDisplay at 0x7f69b7454e80>"
      ]
     },
     "execution_count": 84,
     "metadata": {},
     "output_type": "execute_result"
    },
    {
     "data": {
      "image/png": "[encoded data removed]",
      "text/plain": [
       "<Figure size 432x288 with 2 Axes>"
      ]
     },
     "metadata": {
      "needs_background": "light"
     },
     "output_type": "display_data"
    }
   ],
   "source": [
    "matrix = confusion_matrix(gt, results, labels=[\"b'false'\", \"b'true'\"])\n",
    "display = ConfusionMatrixDisplay(confusion_matrix=matrix, display_labels=[\"b'false'\", \"b'true'\"])\n",
    "display.plot()"
   ]
  },
  {
   "cell_type": "code",
   "execution_count": 153,
   "id": "4ddedc75",
   "metadata": {},
   "outputs": [
    {
     "data": {
      "text/plain": [
       "0.33576642335766427"
      ]
     },
     "execution_count": 153,
     "metadata": {},
     "output_type": "execute_result"
    }
   ],
   "source": [
    "tn = 205\n",
    "fp = 65\n",
    "fn = 26\n",
    "tp = 23\n",
    "r = recall(tp, fn)\n",
    "p = precision(tp, fp)\n",
    "f1_measure = f1(r, p)\n",
    "f1_measure"
   ]
  },
  {
   "cell_type": "markdown",
   "id": "8fec3ea3",
   "metadata": {},
   "source": [
    "### k=7"
   ]
  },
  {
   "cell_type": "code",
   "execution_count": 90,
   "id": "f679f096",
   "metadata": {},
   "outputs": [
    {
     "data": {
      "text/plain": [
       "319"
      ]
     },
     "execution_count": 90,
     "metadata": {},
     "output_type": "execute_result"
    }
   ],
   "source": [
    "cm1_40_k7 = [\"b'false'\",\"b'true'\",\"b'false'\",\"b'true'\",\"b'false'\",\"b'false'\",\"b'false'\",\"b'false'\",\"b'false'\",\"b'false'\",\"b'false'\",\"b'false'\",\"b'false'\",\"b'false'\",\"b'false'\",\"b'true'\",\"b'false'\",\"b'false'\",\"b'true'\",\"b'false'\",\"b'false'\",\"b'false'\",\"b'true'\",\"b'true'\",\"b'true'\",\"b'false'\",\"b'true'\",\"b'false'\",\"b'false'\",\"b'true'\",\"b'false'\",\"b'true'\",\"b'true'\",\"b'true'\",\"b'false'\",\"b'true'\",\"b'false'\",\"b'true'\",\"b'false'\",\"b'false'\",\"b'false'\",\"b'false'\",\"b'false'\",\"b'true'\",\"b'false'\",\"b'true'\",\"b'true'\",\"b'false'\",\"b'false'\",\"b'true'\",\"b'false'\",\"b'true'\",\"b'false'\",\"b'true'\",\"b'false'\",\"b'true'\",\"b'true'\",\"b'false'\",\"b'false'\",\"b'false'\",\"b'false'\",\"b'false'\",\"b'false'\",\"b'false'\",\"b'false'\",\"b'false'\",\"b'true'\",\"b'false'\",\"b'true'\",\"b'false'\",\"b'true'\",\"b'false'\",\"b'true'\",\"b'false'\",\"b'false'\",\"b'true'\",\"b'false'\",\"b'false'\",\"b'true'\",\"b'false'\",\"b'true'\",\"b'false'\",\"b'true'\",\"b'true'\",\"b'false'\",\"b'false'\",\"b'false'\",\"b'false'\",\"b'false'\",\"b'false'\",\"b'false'\",\"b'false'\",\"b'true'\",\"b'false'\",\"b'true'\",\"b'false'\",\"b'true'\",\"b'false'\",\"b'true'\",\"b'false'\",\"b'false'\",\"b'false'\",\"b'false'\",\"b'true'\",\"b'true'\",\"b'false'\",\"b'true'\",\"b'true'\",\"b'false'\",\"b'true'\",\"b'true'\",\"b'true'\",\"b'false'\",\"b'false'\",\"b'false'\",\"b'false'\",\"b'false'\",\"b'false'\",\"b'true'\",\"b'false'\",\"b'true'\",\"b'false'\",\"b'true'\",\"b'true'\",\"b'false'\",\"b'true'\",\"b'true'\",\"b'false'\",\"b'false'\",\"b'false'\",\"b'false'\",\"b'false'\",\"b'false'\",\"b'false'\",\"b'false'\",\"b'false'\",\"b'false'\",\"b'false'\",\"b'false'\",\"b'false'\",\"b'true'\",\"b'false'\",\"b'false'\",\"b'true'\",\"b'true'\",\"b'false'\",\"b'false'\",\"b'false'\",\"b'false'\",\"b'true'\",\"b'false'\",\"b'false'\",\"b'false'\",\"b'false'\",\"b'false'\",\"b'false'\",\"b'true'\",\"b'false'\",\"b'false'\",\"b'false'\",\"b'false'\",\"b'false'\",\"b'false'\",\"b'false'\",\"b'false'\",\"b'false'\",\"b'true'\",\"b'false'\",\"b'true'\",\"b'true'\",\"b'false'\",\"b'false'\",\"b'true'\",\"b'false'\",\"b'false'\",\"b'false'\",\"b'true'\",\"b'false'\",\"b'false'\",\"b'false'\",\"b'false'\",\"b'true'\",\"b'false'\",\"b'true'\",\"b'true'\",\"b'false'\",\"b'false'\",\"b'true'\",\"b'true'\",\"b'false'\",\"b'true'\",\"b'false'\",\"b'true'\",\"b'false'\",\"b'false'\",\"b'true'\",\"b'false'\",\"b'true'\",\"b'true'\",\"b'false'\",\"b'false'\",\"b'true'\",\"b'false'\",\"b'true'\",\"b'true'\",\"b'false'\",\"b'false'\",\"b'false'\",\"b'true'\",\"b'true'\",\"b'false'\",\"b'false'\",\"b'false'\",\"b'true'\",\"b'true'\",\"b'false'\",\"b'false'\",\"b'false'\",\"b'false'\",\"b'true'\",\"b'true'\",\"b'true'\",\"b'true'\",\"b'false'\",\"b'false'\",\"b'true'\",\"b'true'\",\"b'true'\",\"b'false'\",\"b'false'\",\"b'false'\",\"b'false'\",\"b'false'\",\"b'false'\",\"b'false'\",\"b'true'\",\"b'false'\",\"b'false'\",\"b'true'\",\"b'true'\",\"b'false'\",\"b'false'\",\"b'true'\",\"b'false'\",\"b'false'\",\"b'false'\",\"b'true'\",\"b'false'\",\"b'true'\",\"b'true'\",\"b'false'\",\"b'false'\",\"b'false'\",\"b'false'\",\"b'false'\",\"b'false'\",\"b'false'\",\"b'true'\",\"b'false'\",\"b'false'\",\"b'false'\",\"b'false'\",\"b'false'\",\"b'false'\",\"b'true'\",\"b'false'\",\"b'false'\",\"b'true'\",\"b'false'\",\"b'true'\"]\n",
    "outliers = [\"b'false'\",\"b'false'\",\"b'false'\",\"b'true'\",\"b'true'\",\"b'true'\",\"b'true'\",\"b'true'\",\"b'true'\",\"b'true'\",\"b'true'\",\"b'false'\",\"b'false'\",\"b'false'\",\"b'false'\",\"b'false'\",\"b'true'\",\"b'true'\",\"b'false'\",\"b'true'\",\"b'true'\",\"b'false'\",\"b'true'\",\"b'true'\",\"b'true'\",\"b'true'\",\"b'true'\",\"b'true'\",\"b'false'\",\"b'false'\",\"b'false'\",\"b'true'\",\"b'true'\",\"b'false'\",\"b'true'\",\"b'true'\",\"b'true'\",\"b'false'\",\"b'false'\",\"b'true'\",\"b'false'\",\"b'false'\",\"b'false'\",\"b'true'\",\"b'true'\",\"b'false'\",\"b'false'\",\"b'false'\",\"b'false'\"]\n",
    "results = cm1_40_k7 + outliers\n",
    "len(results)"
   ]
  },
  {
   "cell_type": "code",
   "execution_count": 91,
   "id": "9d12228e",
   "metadata": {},
   "outputs": [
    {
     "data": {
      "text/plain": [
       "319"
      ]
     },
     "execution_count": 91,
     "metadata": {},
     "output_type": "execute_result"
    }
   ],
   "source": [
    "gt_false = [\"b'false'\" for _ in range(len(cm1_40_k7))]\n",
    "gt_true = [\"b'true'\" for _ in range(len(outliers))]\n",
    "gt = gt_false + gt_true\n",
    "len(gt)"
   ]
  },
  {
   "cell_type": "code",
   "execution_count": 92,
   "id": "f45be93c",
   "metadata": {
    "scrolled": false
   },
   "outputs": [
    {
     "data": {
      "text/plain": [
       "<sklearn.metrics._plot.confusion_matrix.ConfusionMatrixDisplay at 0x7f69b73e1d30>"
      ]
     },
     "execution_count": 92,
     "metadata": {},
     "output_type": "execute_result"
    },
    {
     "data": {
      "image/png": "[encoded data removed]",
      "text/plain": [
       "<Figure size 432x288 with 2 Axes>"
      ]
     },
     "metadata": {
      "needs_background": "light"
     },
     "output_type": "display_data"
    }
   ],
   "source": [
    "matrix = confusion_matrix(gt, results, labels=[\"b'false'\", \"b'true'\"])\n",
    "display = ConfusionMatrixDisplay(confusion_matrix=matrix, display_labels=[\"b'false'\", \"b'true'\"])\n",
    "display.plot()"
   ]
  },
  {
   "cell_type": "code",
   "execution_count": 154,
   "id": "47c2e4bf",
   "metadata": {},
   "outputs": [
    {
     "data": {
      "text/plain": [
       "0.30952380952380953"
      ]
     },
     "execution_count": 154,
     "metadata": {},
     "output_type": "execute_result"
    }
   ],
   "source": [
    "tn = 177\n",
    "fp = 93\n",
    "fn = 23\n",
    "tp = 26\n",
    "r = recall(tp, fn)\n",
    "p = precision(tp, fp)\n",
    "f1_measure = f1(r, p)\n",
    "f1_measure"
   ]
  },
  {
   "cell_type": "markdown",
   "id": "50a4c0ce",
   "metadata": {},
   "source": [
    "### CM1 50%"
   ]
  },
  {
   "cell_type": "markdown",
   "id": "caf404c7",
   "metadata": {},
   "source": [
    "### k=3"
   ]
  },
  {
   "cell_type": "code",
   "execution_count": 93,
   "id": "01f13fa7",
   "metadata": {},
   "outputs": [
    {
     "data": {
      "text/plain": [
       "274"
      ]
     },
     "execution_count": 93,
     "metadata": {},
     "output_type": "execute_result"
    }
   ],
   "source": [
    "cm1_50_k3 = [\"b'true'\",\"b'true'\",\"b'false'\",\"b'false'\",\"b'false'\",\"b'false'\",\"b'true'\",\"b'false'\",\"b'true'\",\"b'false'\",\"b'false'\",\"b'true'\",\"b'false'\",\"b'false'\",\"b'false'\",\"b'false'\",\"b'true'\",\"b'false'\",\"b'false'\",\"b'true'\",\"b'false'\",\"b'false'\",\"b'false'\",\"b'false'\",\"b'false'\",\"b'false'\",\"b'false'\",\"b'false'\",\"b'false'\",\"b'false'\",\"b'false'\",\"b'false'\",\"b'false'\",\"b'true'\",\"b'false'\",\"b'false'\",\"b'false'\",\"b'true'\",\"b'true'\",\"b'false'\",\"b'false'\",\"b'false'\",\"b'false'\",\"b'false'\",\"b'false'\",\"b'false'\",\"b'false'\",\"b'false'\",\"b'false'\",\"b'true'\",\"b'false'\",\"b'false'\",\"b'false'\",\"b'false'\",\"b'false'\",\"b'false'\",\"b'false'\",\"b'false'\",\"b'true'\",\"b'true'\",\"b'false'\",\"b'false'\",\"b'true'\",\"b'false'\",\"b'true'\",\"b'false'\",\"b'false'\",\"b'false'\",\"b'false'\",\"b'false'\",\"b'false'\",\"b'false'\",\"b'false'\",\"b'false'\",\"b'false'\",\"b'true'\",\"b'false'\",\"b'false'\",\"b'false'\",\"b'false'\",\"b'false'\",\"b'false'\",\"b'false'\",\"b'false'\",\"b'false'\",\"b'false'\",\"b'false'\",\"b'false'\",\"b'false'\",\"b'false'\",\"b'false'\",\"b'false'\",\"b'false'\",\"b'false'\",\"b'false'\",\"b'false'\",\"b'false'\",\"b'false'\",\"b'true'\",\"b'false'\",\"b'false'\",\"b'false'\",\"b'false'\",\"b'false'\",\"b'false'\",\"b'false'\",\"b'false'\",\"b'false'\",\"b'false'\",\"b'false'\",\"b'false'\",\"b'true'\",\"b'false'\",\"b'false'\",\"b'false'\",\"b'false'\",\"b'false'\",\"b'false'\",\"b'false'\",\"b'false'\",\"b'false'\",\"b'false'\",\"b'false'\",\"b'true'\",\"b'false'\",\"b'false'\",\"b'true'\",\"b'true'\",\"b'false'\",\"b'false'\",\"b'false'\",\"b'true'\",\"b'false'\",\"b'false'\",\"b'false'\",\"b'false'\",\"b'false'\",\"b'false'\",\"b'false'\",\"b'true'\",\"b'false'\",\"b'false'\",\"b'false'\",\"b'false'\",\"b'false'\",\"b'true'\",\"b'false'\",\"b'false'\",\"b'false'\",\"b'false'\",\"b'true'\",\"b'false'\",\"b'false'\",\"b'false'\",\"b'false'\",\"b'false'\",\"b'true'\",\"b'false'\",\"b'false'\",\"b'false'\",\"b'false'\",\"b'false'\",\"b'false'\",\"b'false'\",\"b'false'\",\"b'false'\",\"b'false'\",\"b'false'\",\"b'false'\",\"b'true'\",\"b'false'\",\"b'true'\",\"b'false'\",\"b'false'\",\"b'false'\",\"b'true'\",\"b'false'\",\"b'true'\",\"b'false'\",\"b'false'\",\"b'true'\",\"b'false'\",\"b'true'\",\"b'false'\",\"b'false'\",\"b'false'\",\"b'false'\",\"b'false'\",\"b'false'\",\"b'true'\",\"b'false'\",\"b'false'\",\"b'false'\",\"b'false'\",\"b'false'\",\"b'false'\",\"b'false'\",\"b'false'\",\"b'false'\",\"b'false'\",\"b'false'\",\"b'true'\",\"b'false'\",\"b'true'\",\"b'false'\",\"b'false'\",\"b'false'\",\"b'false'\",\"b'false'\",\"b'false'\",\"b'false'\",\"b'false'\",\"b'false'\",\"b'false'\",\"b'false'\",\"b'false'\",\"b'false'\",\"b'false'\",\"b'false'\",\"b'false'\",\"b'false'\",\"b'false'\",\"b'true'\",\"b'false'\",\"b'false'\"]\n",
    "outliers = [\"b'false'\",\"b'false'\",\"b'false'\",\"b'true'\",\"b'true'\",\"b'true'\",\"b'false'\",\"b'true'\",\"b'true'\",\"b'false'\",\"b'true'\",\"b'false'\",\"b'false'\",\"b'true'\",\"b'false'\",\"b'false'\",\"b'false'\",\"b'true'\",\"b'false'\",\"b'true'\",\"b'true'\",\"b'false'\",\"b'true'\",\"b'false'\",\"b'true'\",\"b'true'\",\"b'false'\",\"b'false'\",\"b'false'\",\"b'false'\",\"b'false'\",\"b'false'\",\"b'true'\",\"b'false'\",\"b'true'\",\"b'true'\",\"b'true'\",\"b'false'\",\"b'false'\",\"b'false'\",\"b'false'\",\"b'false'\",\"b'false'\",\"b'true'\",\"b'true'\",\"b'false'\",\"b'false'\",\"b'false'\",\"b'false'\"]\n",
    "results = cm1_50_k3 + outliers\n",
    "len(results)"
   ]
  },
  {
   "cell_type": "code",
   "execution_count": 94,
   "id": "4154e2ef",
   "metadata": {},
   "outputs": [
    {
     "data": {
      "text/plain": [
       "274"
      ]
     },
     "execution_count": 94,
     "metadata": {},
     "output_type": "execute_result"
    }
   ],
   "source": [
    "gt_false = [\"b'false'\" for _ in range(len(cm1_50_k3))]\n",
    "gt_true = [\"b'true'\" for _ in range(len(outliers))]\n",
    "gt = gt_false + gt_true\n",
    "len(gt)"
   ]
  },
  {
   "cell_type": "code",
   "execution_count": 95,
   "id": "f4527392",
   "metadata": {
    "scrolled": true
   },
   "outputs": [
    {
     "data": {
      "text/plain": [
       "<sklearn.metrics._plot.confusion_matrix.ConfusionMatrixDisplay at 0x7f69b71796d0>"
      ]
     },
     "execution_count": 95,
     "metadata": {},
     "output_type": "execute_result"
    },
    {
     "data": {
      "image/png": "[encoded data removed]",
      "text/plain": [
       "<Figure size 432x288 with 2 Axes>"
      ]
     },
     "metadata": {
      "needs_background": "light"
     },
     "output_type": "display_data"
    }
   ],
   "source": [
    "matrix = confusion_matrix(gt, results, labels=[\"b'false'\", \"b'true'\"])\n",
    "display = ConfusionMatrixDisplay(confusion_matrix=matrix, display_labels=[\"b'false'\", \"b'true'\"])\n",
    "display.plot()"
   ]
  },
  {
   "cell_type": "code",
   "execution_count": 155,
   "id": "85470969",
   "metadata": {},
   "outputs": [
    {
     "data": {
      "text/plain": [
       "0.3653846153846154"
      ]
     },
     "execution_count": 155,
     "metadata": {},
     "output_type": "execute_result"
    }
   ],
   "source": [
    "tn = 189\n",
    "fp = 36\n",
    "fn = 30\n",
    "tp = 19\n",
    "r = recall(tp, fn)\n",
    "p = precision(tp, fp)\n",
    "f1_measure = f1(r, p)\n",
    "f1_measure"
   ]
  },
  {
   "cell_type": "markdown",
   "id": "ec12a07c",
   "metadata": {},
   "source": [
    "### k=5"
   ]
  },
  {
   "cell_type": "code",
   "execution_count": 96,
   "id": "a25c8ca6",
   "metadata": {},
   "outputs": [
    {
     "data": {
      "text/plain": [
       "274"
      ]
     },
     "execution_count": 96,
     "metadata": {},
     "output_type": "execute_result"
    }
   ],
   "source": [
    "cm1_50_k5 = [\"b'true'\",\"b'true'\",\"b'false'\",\"b'false'\",\"b'false'\",\"b'false'\",\"b'true'\",\"b'false'\",\"b'true'\",\"b'false'\",\"b'false'\",\"b'true'\",\"b'false'\",\"b'false'\",\"b'false'\",\"b'false'\",\"b'true'\",\"b'false'\",\"b'false'\",\"b'true'\",\"b'false'\",\"b'true'\",\"b'false'\",\"b'false'\",\"b'false'\",\"b'false'\",\"b'false'\",\"b'false'\",\"b'false'\",\"b'false'\",\"b'false'\",\"b'false'\",\"b'false'\",\"b'true'\",\"b'false'\",\"b'false'\",\"b'false'\",\"b'true'\",\"b'true'\",\"b'false'\",\"b'false'\",\"b'false'\",\"b'false'\",\"b'false'\",\"b'false'\",\"b'false'\",\"b'false'\",\"b'false'\",\"b'false'\",\"b'true'\",\"b'false'\",\"b'false'\",\"b'false'\",\"b'false'\",\"b'false'\",\"b'false'\",\"b'false'\",\"b'false'\",\"b'true'\",\"b'true'\",\"b'false'\",\"b'false'\",\"b'true'\",\"b'false'\",\"b'true'\",\"b'false'\",\"b'false'\",\"b'false'\",\"b'false'\",\"b'false'\",\"b'false'\",\"b'false'\",\"b'false'\",\"b'false'\",\"b'false'\",\"b'true'\",\"b'false'\",\"b'false'\",\"b'false'\",\"b'false'\",\"b'false'\",\"b'false'\",\"b'false'\",\"b'false'\",\"b'false'\",\"b'false'\",\"b'false'\",\"b'false'\",\"b'false'\",\"b'false'\",\"b'false'\",\"b'false'\",\"b'false'\",\"b'false'\",\"b'false'\",\"b'false'\",\"b'false'\",\"b'false'\",\"b'true'\",\"b'false'\",\"b'false'\",\"b'false'\",\"b'false'\",\"b'false'\",\"b'false'\",\"b'false'\",\"b'false'\",\"b'false'\",\"b'false'\",\"b'false'\",\"b'false'\",\"b'true'\",\"b'false'\",\"b'false'\",\"b'false'\",\"b'false'\",\"b'false'\",\"b'false'\",\"b'false'\",\"b'false'\",\"b'false'\",\"b'false'\",\"b'false'\",\"b'true'\",\"b'true'\",\"b'false'\",\"b'true'\",\"b'true'\",\"b'false'\",\"b'false'\",\"b'false'\",\"b'true'\",\"b'false'\",\"b'false'\",\"b'false'\",\"b'false'\",\"b'false'\",\"b'false'\",\"b'false'\",\"b'true'\",\"b'false'\",\"b'false'\",\"b'false'\",\"b'false'\",\"b'false'\",\"b'true'\",\"b'false'\",\"b'false'\",\"b'false'\",\"b'false'\",\"b'true'\",\"b'false'\",\"b'false'\",\"b'false'\",\"b'false'\",\"b'false'\",\"b'true'\",\"b'false'\",\"b'false'\",\"b'false'\",\"b'false'\",\"b'false'\",\"b'false'\",\"b'false'\",\"b'false'\",\"b'false'\",\"b'false'\",\"b'false'\",\"b'false'\",\"b'true'\",\"b'false'\",\"b'true'\",\"b'false'\",\"b'false'\",\"b'false'\",\"b'true'\",\"b'false'\",\"b'true'\",\"b'false'\",\"b'false'\",\"b'true'\",\"b'false'\",\"b'true'\",\"b'false'\",\"b'false'\",\"b'false'\",\"b'false'\",\"b'false'\",\"b'false'\",\"b'true'\",\"b'false'\",\"b'false'\",\"b'false'\",\"b'false'\",\"b'false'\",\"b'false'\",\"b'false'\",\"b'false'\",\"b'false'\",\"b'false'\",\"b'false'\",\"b'true'\",\"b'false'\",\"b'true'\",\"b'false'\",\"b'false'\",\"b'false'\",\"b'false'\",\"b'false'\",\"b'false'\",\"b'false'\",\"b'false'\",\"b'false'\",\"b'false'\",\"b'false'\",\"b'false'\",\"b'false'\",\"b'false'\",\"b'false'\",\"b'false'\",\"b'false'\",\"b'false'\",\"b'true'\",\"b'false'\",\"b'false'\"]\n",
    "outliers = [\"b'false'\",\"b'false'\",\"b'false'\",\"b'true'\",\"b'true'\",\"b'true'\",\"b'false'\",\"b'true'\",\"b'true'\",\"b'true'\",\"b'true'\",\"b'false'\",\"b'false'\",\"b'true'\",\"b'false'\",\"b'false'\",\"b'false'\",\"b'true'\",\"b'false'\",\"b'true'\",\"b'true'\",\"b'false'\",\"b'true'\",\"b'true'\",\"b'true'\",\"b'true'\",\"b'false'\",\"b'false'\",\"b'false'\",\"b'false'\",\"b'false'\",\"b'true'\",\"b'true'\",\"b'false'\",\"b'true'\",\"b'true'\",\"b'true'\",\"b'false'\",\"b'false'\",\"b'false'\",\"b'false'\",\"b'false'\",\"b'false'\",\"b'true'\",\"b'true'\",\"b'false'\",\"b'false'\",\"b'false'\",\"b'false'\"]\n",
    "results = cm1_50_k5 + outliers\n",
    "len(results)"
   ]
  },
  {
   "cell_type": "code",
   "execution_count": 97,
   "id": "cd4bd81b",
   "metadata": {},
   "outputs": [
    {
     "data": {
      "text/plain": [
       "274"
      ]
     },
     "execution_count": 97,
     "metadata": {},
     "output_type": "execute_result"
    }
   ],
   "source": [
    "gt_false = [\"b'false'\" for _ in range(len(cm1_50_k5))]\n",
    "gt_true = [\"b'true'\" for _ in range(len(outliers))]\n",
    "gt = gt_false + gt_true\n",
    "len(gt)"
   ]
  },
  {
   "cell_type": "code",
   "execution_count": 98,
   "id": "8c6b2301",
   "metadata": {
    "scrolled": true
   },
   "outputs": [
    {
     "data": {
      "text/plain": [
       "<sklearn.metrics._plot.confusion_matrix.ConfusionMatrixDisplay at 0x7f69b7254d60>"
      ]
     },
     "execution_count": 98,
     "metadata": {},
     "output_type": "execute_result"
    },
    {
     "data": {
      "image/png": "[encoded data removed]",
      "text/plain": [
       "<Figure size 432x288 with 2 Axes>"
      ]
     },
     "metadata": {
      "needs_background": "light"
     },
     "output_type": "display_data"
    }
   ],
   "source": [
    "matrix = confusion_matrix(gt, results, labels=[\"b'false'\", \"b'true'\"])\n",
    "display = ConfusionMatrixDisplay(confusion_matrix=matrix, display_labels=[\"b'false'\", \"b'true'\"])\n",
    "display.plot()"
   ]
  },
  {
   "cell_type": "code",
   "execution_count": 156,
   "id": "54471d9a",
   "metadata": {},
   "outputs": [
    {
     "data": {
      "text/plain": [
       "0.4036697247706422"
      ]
     },
     "execution_count": 156,
     "metadata": {},
     "output_type": "execute_result"
    }
   ],
   "source": [
    "tn = 187\n",
    "fp = 38\n",
    "fn = 27\n",
    "tp = 22\n",
    "r = recall(tp, fn)\n",
    "p = precision(tp, fp)\n",
    "f1_measure = f1(r, p)\n",
    "f1_measure"
   ]
  },
  {
   "cell_type": "markdown",
   "id": "cc5d5755",
   "metadata": {},
   "source": [
    "### k=7"
   ]
  },
  {
   "cell_type": "code",
   "execution_count": 99,
   "id": "f0ae3163",
   "metadata": {},
   "outputs": [
    {
     "data": {
      "text/plain": [
       "274"
      ]
     },
     "execution_count": 99,
     "metadata": {},
     "output_type": "execute_result"
    }
   ],
   "source": [
    "cm1_50_k7 = [\"b'true'\",\"b'true'\",\"b'false'\",\"b'true'\",\"b'false'\",\"b'false'\",\"b'true'\",\"b'false'\",\"b'true'\",\"b'false'\",\"b'false'\",\"b'true'\",\"b'false'\",\"b'false'\",\"b'false'\",\"b'false'\",\"b'true'\",\"b'false'\",\"b'false'\",\"b'true'\",\"b'false'\",\"b'true'\",\"b'false'\",\"b'false'\",\"b'false'\",\"b'false'\",\"b'false'\",\"b'true'\",\"b'false'\",\"b'false'\",\"b'false'\",\"b'false'\",\"b'false'\",\"b'true'\",\"b'false'\",\"b'true'\",\"b'false'\",\"b'true'\",\"b'true'\",\"b'false'\",\"b'false'\",\"b'false'\",\"b'false'\",\"b'false'\",\"b'false'\",\"b'false'\",\"b'false'\",\"b'false'\",\"b'false'\",\"b'true'\",\"b'false'\",\"b'false'\",\"b'false'\",\"b'false'\",\"b'false'\",\"b'false'\",\"b'false'\",\"b'false'\",\"b'true'\",\"b'true'\",\"b'false'\",\"b'false'\",\"b'true'\",\"b'false'\",\"b'true'\",\"b'false'\",\"b'false'\",\"b'false'\",\"b'false'\",\"b'false'\",\"b'false'\",\"b'false'\",\"b'false'\",\"b'true'\",\"b'false'\",\"b'true'\",\"b'false'\",\"b'true'\",\"b'false'\",\"b'false'\",\"b'false'\",\"b'false'\",\"b'false'\",\"b'false'\",\"b'false'\",\"b'false'\",\"b'false'\",\"b'false'\",\"b'false'\",\"b'false'\",\"b'false'\",\"b'false'\",\"b'false'\",\"b'false'\",\"b'false'\",\"b'true'\",\"b'false'\",\"b'false'\",\"b'true'\",\"b'false'\",\"b'false'\",\"b'false'\",\"b'false'\",\"b'false'\",\"b'false'\",\"b'false'\",\"b'false'\",\"b'false'\",\"b'false'\",\"b'false'\",\"b'false'\",\"b'true'\",\"b'false'\",\"b'false'\",\"b'false'\",\"b'false'\",\"b'false'\",\"b'false'\",\"b'false'\",\"b'false'\",\"b'false'\",\"b'false'\",\"b'false'\",\"b'true'\",\"b'true'\",\"b'false'\",\"b'true'\",\"b'true'\",\"b'false'\",\"b'false'\",\"b'false'\",\"b'true'\",\"b'false'\",\"b'false'\",\"b'false'\",\"b'false'\",\"b'true'\",\"b'false'\",\"b'true'\",\"b'true'\",\"b'false'\",\"b'false'\",\"b'false'\",\"b'true'\",\"b'false'\",\"b'true'\",\"b'false'\",\"b'false'\",\"b'false'\",\"b'false'\",\"b'true'\",\"b'false'\",\"b'false'\",\"b'false'\",\"b'false'\",\"b'false'\",\"b'true'\",\"b'false'\",\"b'false'\",\"b'false'\",\"b'false'\",\"b'false'\",\"b'false'\",\"b'false'\",\"b'true'\",\"b'false'\",\"b'false'\",\"b'false'\",\"b'true'\",\"b'true'\",\"b'false'\",\"b'true'\",\"b'false'\",\"b'false'\",\"b'false'\",\"b'true'\",\"b'false'\",\"b'true'\",\"b'false'\",\"b'false'\",\"b'true'\",\"b'false'\",\"b'true'\",\"b'false'\",\"b'false'\",\"b'false'\",\"b'false'\",\"b'false'\",\"b'false'\",\"b'true'\",\"b'true'\",\"b'false'\",\"b'false'\",\"b'false'\",\"b'true'\",\"b'false'\",\"b'false'\",\"b'false'\",\"b'false'\",\"b'false'\",\"b'false'\",\"b'true'\",\"b'false'\",\"b'true'\",\"b'true'\",\"b'false'\",\"b'false'\",\"b'false'\",\"b'false'\",\"b'false'\",\"b'false'\",\"b'false'\",\"b'false'\",\"b'false'\",\"b'false'\",\"b'false'\",\"b'false'\",\"b'false'\",\"b'false'\",\"b'false'\",\"b'false'\",\"b'false'\",\"b'true'\",\"b'false'\",\"b'true'\"]\n",
    "outliers = [\"b'false'\",\"b'false'\",\"b'false'\",\"b'true'\",\"b'true'\",\"b'true'\",\"b'false'\",\"b'true'\",\"b'true'\",\"b'true'\",\"b'true'\",\"b'true'\",\"b'false'\",\"b'true'\",\"b'false'\",\"b'false'\",\"b'false'\",\"b'true'\",\"b'false'\",\"b'true'\",\"b'true'\",\"b'false'\",\"b'true'\",\"b'true'\",\"b'true'\",\"b'true'\",\"b'true'\",\"b'false'\",\"b'false'\",\"b'false'\",\"b'false'\",\"b'true'\",\"b'true'\",\"b'false'\",\"b'true'\",\"b'true'\",\"b'true'\",\"b'false'\",\"b'false'\",\"b'true'\",\"b'false'\",\"b'false'\",\"b'false'\",\"b'true'\",\"b'true'\",\"b'false'\",\"b'false'\",\"b'false'\",\"b'false'\"]\n",
    "results = cm1_50_k7 + outliers\n",
    "len(results)"
   ]
  },
  {
   "cell_type": "code",
   "execution_count": 101,
   "id": "21d73154",
   "metadata": {},
   "outputs": [
    {
     "data": {
      "text/plain": [
       "274"
      ]
     },
     "execution_count": 101,
     "metadata": {},
     "output_type": "execute_result"
    }
   ],
   "source": [
    "gt_false = [\"b'false'\" for _ in range(len(cm1_50_k5))]\n",
    "gt_true = [\"b'true'\" for _ in range(len(outliers))]\n",
    "gt = gt_false + gt_true\n",
    "len(gt)"
   ]
  },
  {
   "cell_type": "code",
   "execution_count": 102,
   "id": "bf4f4da4",
   "metadata": {
    "scrolled": false
   },
   "outputs": [
    {
     "data": {
      "text/plain": [
       "<sklearn.metrics._plot.confusion_matrix.ConfusionMatrixDisplay at 0x7f69b70434f0>"
      ]
     },
     "execution_count": 102,
     "metadata": {},
     "output_type": "execute_result"
    },
    {
     "data": {
      "image/png": "[encoded data removed]",
      "text/plain": [
       "<Figure size 432x288 with 2 Axes>"
      ]
     },
     "metadata": {
      "needs_background": "light"
     },
     "output_type": "display_data"
    }
   ],
   "source": [
    "matrix = confusion_matrix(gt, results, labels=[\"b'false'\", \"b'true'\"])\n",
    "display = ConfusionMatrixDisplay(confusion_matrix=matrix, display_labels=[\"b'false'\", \"b'true'\"])\n",
    "display.plot()"
   ]
  },
  {
   "cell_type": "code",
   "execution_count": 157,
   "id": "8e092605",
   "metadata": {},
   "outputs": [
    {
     "data": {
      "text/plain": [
       "0.3937007874015748"
      ]
     },
     "execution_count": 157,
     "metadata": {},
     "output_type": "execute_result"
    }
   ],
   "source": [
    "tn = 172\n",
    "fp = 53\n",
    "fn = 24\n",
    "tp = 25\n",
    "r = recall(tp, fn)\n",
    "p = precision(tp, fp)\n",
    "f1_measure = f1(r, p)\n",
    "f1_measure"
   ]
  },
  {
   "cell_type": "markdown",
   "id": "6e72204d",
   "metadata": {},
   "source": [
    "   # KC1 30%\n",
    "  "
   ]
  },
  {
   "cell_type": "markdown",
   "id": "ab1fa5b2",
   "metadata": {},
   "source": [
    "### k=3"
   ]
  },
  {
   "cell_type": "code",
   "execution_count": 103,
   "id": "b131ed3d",
   "metadata": {},
   "outputs": [
    {
     "data": {
      "text/plain": [
       "1575"
      ]
     },
     "execution_count": 103,
     "metadata": {},
     "output_type": "execute_result"
    }
   ],
   "source": [
    "kc1_30_k3 = [\"b'false'\",\"b'false'\",\"b'false'\",\"b'false'\",\"b'false'\",\"b'false'\",\"b'false'\",\"b'true'\",\"b'false'\",\"b'true'\",\"b'false'\",\"b'true'\",\"b'false'\",\"b'false'\",\"b'false'\",\"b'false'\",\"b'false'\",\"b'true'\",\"b'false'\",\"b'false'\",\"b'false'\",\"b'false'\",\"b'false'\",\"b'false'\",\"b'true'\",\"b'false'\",\"b'false'\",\"b'false'\",\"b'false'\",\"b'false'\",\"b'false'\",\"b'false'\",\"b'false'\",\"b'false'\",\"b'true'\",\"b'false'\",\"b'false'\",\"b'false'\",\"b'false'\",\"b'false'\",\"b'false'\",\"b'true'\",\"b'false'\",\"b'false'\",\"b'false'\",\"b'false'\",\"b'false'\",\"b'false'\",\"b'false'\",\"b'false'\",\"b'false'\",\"b'false'\",\"b'false'\",\"b'false'\",\"b'true'\",\"b'false'\",\"b'false'\",\"b'false'\",\"b'false'\",\"b'false'\",\"b'false'\",\"b'false'\",\"b'false'\",\"b'true'\",\"b'true'\",\"b'false'\",\"b'false'\",\"b'false'\",\"b'false'\",\"b'false'\",\"b'false'\",\"b'false'\",\"b'false'\",\"b'false'\",\"b'false'\",\"b'false'\",\"b'false'\",\"b'false'\",\"b'true'\",\"b'false'\",\"b'false'\",\"b'false'\",\"b'false'\",\"b'false'\",\"b'true'\",\"b'false'\",\"b'false'\",\"b'false'\",\"b'false'\",\"b'false'\",\"b'false'\",\"b'false'\",\"b'false'\",\"b'true'\",\"b'false'\",\"b'false'\",\"b'false'\",\"b'false'\",\"b'false'\",\"b'false'\",\"b'true'\",\"b'true'\",\"b'false'\",\"b'false'\",\"b'false'\",\"b'false'\",\"b'false'\",\"b'false'\",\"b'false'\",\"b'false'\",\"b'false'\",\"b'false'\",\"b'true'\",\"b'false'\",\"b'false'\",\"b'false'\",\"b'false'\",\"b'false'\",\"b'false'\",\"b'false'\",\"b'false'\",\"b'false'\",\"b'false'\",\"b'false'\",\"b'false'\",\"b'false'\",\"b'false'\",\"b'false'\",\"b'false'\",\"b'false'\",\"b'false'\",\"b'false'\",\"b'false'\",\"b'false'\",\"b'false'\",\"b'false'\",\"b'true'\",\"b'false'\",\"b'false'\",\"b'false'\",\"b'false'\",\"b'false'\",\"b'false'\",\"b'false'\",\"b'false'\",\"b'false'\",\"b'false'\",\"b'false'\",\"b'true'\",\"b'false'\",\"b'true'\",\"b'false'\",\"b'false'\",\"b'false'\",\"b'true'\",\"b'false'\",\"b'false'\",\"b'false'\",\"b'false'\",\"b'false'\",\"b'false'\",\"b'false'\",\"b'false'\",\"b'false'\",\"b'false'\",\"b'false'\",\"b'true'\",\"b'false'\",\"b'false'\",\"b'true'\",\"b'false'\",\"b'true'\",\"b'false'\",\"b'false'\",\"b'true'\",\"b'true'\",\"b'true'\",\"b'false'\",\"b'false'\",\"b'false'\",\"b'true'\",\"b'false'\",\"b'false'\",\"b'true'\",\"b'false'\",\"b'false'\",\"b'false'\",\"b'false'\",\"b'true'\",\"b'false'\",\"b'false'\",\"b'false'\",\"b'false'\",\"b'false'\",\"b'false'\",\"b'false'\",\"b'false'\",\"b'false'\",\"b'false'\",\"b'false'\",\"b'false'\",\"b'false'\",\"b'false'\",\"b'false'\",\"b'false'\",\"b'false'\",\"b'false'\",\"b'false'\",\"b'true'\",\"b'false'\",\"b'false'\",\"b'false'\",\"b'true'\",\"b'false'\",\"b'false'\",\"b'false'\",\"b'true'\",\"b'false'\",\"b'false'\",\"b'false'\",\"b'false'\",\"b'false'\",\"b'false'\",\"b'true'\",\"b'false'\",\"b'false'\",\"b'false'\",\"b'false'\",\"b'false'\",\"b'false'\",\"b'false'\",\"b'false'\",\"b'false'\",\"b'false'\",\"b'false'\",\"b'false'\",\"b'false'\",\"b'false'\",\"b'false'\",\"b'true'\",\"b'false'\",\"b'false'\",\"b'false'\",\"b'false'\",\"b'false'\",\"b'false'\",\"b'false'\",\"b'true'\",\"b'false'\",\"b'false'\",\"b'false'\",\"b'false'\",\"b'false'\",\"b'false'\",\"b'false'\",\"b'false'\",\"b'true'\",\"b'false'\",\"b'false'\",\"b'true'\",\"b'false'\",\"b'false'\",\"b'false'\",\"b'false'\",\"b'true'\",\"b'false'\",\"b'true'\",\"b'false'\",\"b'false'\",\"b'false'\",\"b'false'\",\"b'false'\",\"b'false'\",\"b'false'\",\"b'false'\",\"b'false'\",\"b'false'\",\"b'false'\",\"b'false'\",\"b'false'\",\"b'false'\",\"b'false'\",\"b'false'\",\"b'false'\",\"b'false'\",\"b'false'\",\"b'true'\",\"b'false'\",\"b'false'\",\"b'false'\",\"b'false'\",\"b'true'\",\"b'false'\",\"b'false'\",\"b'true'\",\"b'false'\",\"b'false'\",\"b'false'\",\"b'false'\",\"b'false'\",\"b'false'\",\"b'true'\",\"b'false'\",\"b'false'\",\"b'false'\",\"b'false'\",\"b'false'\",\"b'false'\",\"b'false'\",\"b'false'\",\"b'false'\",\"b'false'\",\"b'false'\",\"b'false'\",\"b'true'\",\"b'false'\",\"b'false'\",\"b'false'\",\"b'false'\",\"b'false'\",\"b'false'\",\"b'false'\",\"b'true'\",\"b'false'\",\"b'false'\",\"b'false'\",\"b'false'\",\"b'false'\",\"b'false'\",\"b'false'\",\"b'false'\",\"b'false'\",\"b'false'\",\"b'false'\",\"b'false'\",\"b'false'\",\"b'false'\",\"b'false'\",\"b'false'\",\"b'false'\",\"b'false'\",\"b'false'\",\"b'false'\",\"b'false'\",\"b'false'\",\"b'false'\",\"b'false'\",\"b'false'\",\"b'false'\",\"b'false'\",\"b'false'\",\"b'false'\",\"b'false'\",\"b'true'\",\"b'false'\",\"b'false'\",\"b'false'\",\"b'false'\",\"b'false'\",\"b'false'\",\"b'false'\",\"b'true'\",\"b'false'\",\"b'true'\",\"b'false'\",\"b'true'\",\"b'true'\",\"b'false'\",\"b'false'\",\"b'false'\",\"b'false'\",\"b'false'\",\"b'false'\",\"b'false'\",\"b'false'\",\"b'false'\",\"b'false'\",\"b'true'\",\"b'false'\",\"b'false'\",\"b'false'\",\"b'false'\",\"b'false'\",\"b'false'\",\"b'false'\",\"b'false'\",\"b'false'\",\"b'false'\",\"b'false'\",\"b'false'\",\"b'false'\",\"b'false'\",\"b'false'\",\"b'false'\",\"b'true'\",\"b'false'\",\"b'false'\",\"b'false'\",\"b'false'\",\"b'false'\",\"b'true'\",\"b'false'\",\"b'false'\",\"b'false'\",\"b'true'\",\"b'false'\",\"b'false'\",\"b'false'\",\"b'false'\",\"b'false'\",\"b'false'\",\"b'false'\",\"b'false'\",\"b'false'\",\"b'false'\",\"b'false'\",\"b'false'\",\"b'true'\",\"b'false'\",\"b'false'\",\"b'false'\",\"b'false'\",\"b'false'\",\"b'false'\",\"b'false'\",\"b'false'\",\"b'false'\",\"b'false'\",\"b'false'\",\"b'false'\",\"b'true'\",\"b'false'\",\"b'false'\",\"b'false'\",\"b'false'\",\"b'true'\",\"b'false'\",\"b'false'\",\"b'true'\",\"b'false'\",\"b'false'\",\"b'false'\",\"b'false'\",\"b'false'\",\"b'false'\",\"b'false'\",\"b'false'\",\"b'false'\",\"b'false'\",\"b'true'\",\"b'false'\",\"b'false'\",\"b'true'\",\"b'false'\",\"b'false'\",\"b'true'\",\"b'true'\",\"b'false'\",\"b'false'\",\"b'false'\",\"b'false'\",\"b'false'\",\"b'false'\",\"b'false'\",\"b'false'\",\"b'false'\",\"b'false'\",\"b'true'\",\"b'false'\",\"b'false'\",\"b'false'\",\"b'false'\",\"b'false'\",\"b'false'\",\"b'false'\",\"b'true'\",\"b'false'\",\"b'false'\",\"b'false'\",\"b'false'\",\"b'false'\",\"b'false'\",\"b'true'\",\"b'false'\",\"b'false'\",\"b'false'\",\"b'false'\",\"b'false'\",\"b'false'\",\"b'false'\",\"b'false'\",\"b'false'\",\"b'false'\",\"b'false'\",\"b'false'\",\"b'true'\",\"b'false'\",\"b'false'\",\"b'false'\",\"b'false'\",\"b'true'\",\"b'false'\",\"b'false'\",\"b'false'\",\"b'false'\",\"b'false'\",\"b'false'\",\"b'true'\",\"b'false'\",\"b'true'\",\"b'true'\",\"b'false'\",\"b'false'\",\"b'false'\",\"b'false'\",\"b'false'\",\"b'false'\",\"b'false'\",\"b'false'\",\"b'false'\",\"b'false'\",\"b'false'\",\"b'false'\",\"b'false'\",\"b'false'\",\"b'false'\",\"b'true'\",\"b'false'\",\"b'false'\",\"b'false'\",\"b'false'\",\"b'false'\",\"b'false'\",\"b'false'\",\"b'true'\",\"b'false'\",\"b'false'\",\"b'true'\",\"b'false'\",\"b'false'\",\"b'false'\",\"b'false'\",\"b'false'\",\"b'false'\",\"b'true'\",\"b'false'\",\"b'false'\",\"b'true'\",\"b'false'\",\"b'false'\",\"b'true'\",\"b'false'\",\"b'false'\",\"b'false'\",\"b'false'\",\"b'false'\",\"b'false'\",\"b'false'\",\"b'false'\",\"b'false'\",\"b'true'\",\"b'false'\",\"b'false'\",\"b'true'\",\"b'true'\",\"b'false'\",\"b'false'\",\"b'false'\",\"b'false'\",\"b'false'\",\"b'false'\",\"b'false'\",\"b'true'\",\"b'false'\",\"b'false'\",\"b'false'\",\"b'false'\",\"b'false'\",\"b'true'\",\"b'false'\",\"b'false'\",\"b'false'\",\"b'false'\",\"b'true'\",\"b'false'\",\"b'false'\",\"b'false'\",\"b'false'\",\"b'false'\",\"b'false'\",\"b'false'\",\"b'true'\",\"b'false'\",\"b'false'\",\"b'false'\",\"b'false'\",\"b'false'\",\"b'false'\",\"b'false'\",\"b'false'\",\"b'false'\",\"b'false'\",\"b'false'\",\"b'false'\",\"b'false'\",\"b'false'\",\"b'false'\",\"b'false'\",\"b'false'\",\"b'false'\",\"b'false'\",\"b'false'\",\"b'false'\",\"b'false'\",\"b'false'\",\"b'false'\",\"b'false'\",\"b'false'\",\"b'false'\",\"b'false'\",\"b'false'\",\"b'true'\",\"b'false'\",\"b'true'\",\"b'true'\",\"b'false'\",\"b'false'\",\"b'false'\",\"b'false'\",\"b'false'\",\"b'false'\",\"b'false'\",\"b'false'\",\"b'false'\",\"b'false'\",\"b'false'\",\"b'false'\",\"b'false'\",\"b'true'\",\"b'false'\",\"b'false'\",\"b'false'\",\"b'false'\",\"b'false'\",\"b'false'\",\"b'false'\",\"b'true'\",\"b'false'\",\"b'false'\",\"b'false'\",\"b'false'\",\"b'false'\",\"b'true'\",\"b'true'\",\"b'false'\",\"b'false'\",\"b'true'\",\"b'false'\",\"b'true'\",\"b'false'\",\"b'false'\",\"b'false'\",\"b'false'\",\"b'false'\",\"b'false'\",\"b'true'\",\"b'false'\",\"b'false'\",\"b'false'\",\"b'false'\",\"b'false'\",\"b'true'\",\"b'false'\",\"b'true'\",\"b'true'\",\"b'false'\",\"b'false'\",\"b'true'\",\"b'false'\",\"b'false'\",\"b'false'\",\"b'false'\",\"b'false'\",\"b'true'\",\"b'true'\",\"b'false'\",\"b'false'\",\"b'false'\",\"b'false'\",\"b'false'\",\"b'false'\",\"b'false'\",\"b'true'\",\"b'false'\",\"b'false'\",\"b'false'\",\"b'false'\",\"b'false'\",\"b'false'\",\"b'false'\",\"b'false'\",\"b'false'\",\"b'true'\",\"b'true'\",\"b'false'\",\"b'false'\",\"b'false'\",\"b'true'\",\"b'false'\",\"b'false'\",\"b'true'\",\"b'false'\",\"b'false'\",\"b'false'\",\"b'false'\",\"b'false'\",\"b'false'\",\"b'false'\",\"b'false'\",\"b'false'\",\"b'true'\",\"b'false'\",\"b'true'\",\"b'false'\",\"b'false'\",\"b'false'\",\"b'true'\",\"b'true'\",\"b'false'\",\"b'false'\",\"b'false'\",\"b'false'\",\"b'false'\",\"b'false'\",\"b'false'\",\"b'false'\",\"b'false'\",\"b'false'\",\"b'false'\",\"b'false'\",\"b'false'\",\"b'false'\",\"b'true'\",\"b'false'\",\"b'false'\",\"b'true'\",\"b'false'\",\"b'false'\",\"b'false'\",\"b'false'\",\"b'true'\",\"b'true'\",\"b'false'\",\"b'true'\",\"b'false'\",\"b'false'\",\"b'false'\",\"b'false'\",\"b'false'\",\"b'true'\",\"b'false'\",\"b'false'\",\"b'false'\",\"b'false'\",\"b'false'\",\"b'false'\",\"b'true'\",\"b'false'\",\"b'false'\",\"b'false'\",\"b'false'\",\"b'false'\",\"b'false'\",\"b'false'\",\"b'false'\",\"b'false'\",\"b'false'\",\"b'false'\",\"b'true'\",\"b'false'\",\"b'false'\",\"b'true'\",\"b'false'\",\"b'false'\",\"b'true'\",\"b'true'\",\"b'false'\",\"b'false'\",\"b'false'\",\"b'false'\",\"b'false'\",\"b'false'\",\"b'false'\",\"b'true'\",\"b'false'\",\"b'false'\",\"b'false'\",\"b'false'\",\"b'false'\",\"b'true'\",\"b'false'\",\"b'false'\",\"b'false'\",\"b'false'\",\"b'false'\",\"b'false'\",\"b'false'\",\"b'false'\",\"b'true'\",\"b'false'\",\"b'false'\",\"b'false'\",\"b'false'\",\"b'false'\",\"b'false'\",\"b'false'\",\"b'false'\",\"b'false'\",\"b'false'\",\"b'false'\",\"b'false'\",\"b'false'\",\"b'false'\",\"b'false'\",\"b'false'\",\"b'true'\",\"b'true'\",\"b'false'\",\"b'false'\",\"b'false'\",\"b'false'\",\"b'true'\",\"b'false'\",\"b'false'\",\"b'false'\",\"b'true'\",\"b'false'\",\"b'false'\",\"b'false'\",\"b'true'\",\"b'false'\",\"b'false'\",\"b'false'\",\"b'false'\",\"b'false'\",\"b'true'\",\"b'true'\",\"b'false'\",\"b'false'\",\"b'false'\",\"b'false'\",\"b'false'\",\"b'false'\",\"b'false'\",\"b'false'\",\"b'false'\",\"b'false'\",\"b'false'\",\"b'false'\",\"b'false'\",\"b'false'\",\"b'false'\",\"b'true'\",\"b'false'\",\"b'false'\",\"b'false'\",\"b'true'\",\"b'false'\",\"b'false'\",\"b'false'\",\"b'true'\",\"b'false'\",\"b'true'\",\"b'false'\",\"b'false'\",\"b'false'\",\"b'false'\",\"b'false'\",\"b'false'\",\"b'false'\",\"b'false'\",\"b'false'\",\"b'false'\",\"b'false'\",\"b'false'\",\"b'false'\",\"b'false'\",\"b'false'\",\"b'false'\",\"b'false'\",\"b'false'\",\"b'false'\",\"b'false'\",\"b'false'\",\"b'false'\",\"b'false'\",\"b'false'\",\"b'true'\",\"b'false'\",\"b'false'\",\"b'false'\",\"b'false'\",\"b'false'\",\"b'false'\",\"b'false'\",\"b'true'\",\"b'false'\",\"b'false'\",\"b'false'\",\"b'true'\",\"b'true'\",\"b'false'\",\"b'false'\",\"b'false'\",\"b'false'\",\"b'false'\",\"b'false'\",\"b'false'\",\"b'false'\",\"b'false'\",\"b'false'\",\"b'true'\",\"b'true'\",\"b'true'\",\"b'false'\",\"b'false'\",\"b'false'\",\"b'false'\",\"b'false'\",\"b'true'\",\"b'true'\",\"b'false'\",\"b'false'\",\"b'false'\",\"b'false'\",\"b'false'\",\"b'false'\",\"b'false'\",\"b'false'\",\"b'false'\",\"b'true'\",\"b'false'\",\"b'false'\",\"b'false'\",\"b'false'\",\"b'false'\",\"b'true'\",\"b'false'\",\"b'false'\",\"b'false'\",\"b'false'\",\"b'false'\",\"b'false'\",\"b'false'\",\"b'false'\",\"b'false'\",\"b'true'\",\"b'false'\",\"b'false'\",\"b'true'\",\"b'false'\",\"b'true'\",\"b'false'\",\"b'false'\",\"b'false'\",\"b'false'\",\"b'false'\",\"b'false'\",\"b'true'\",\"b'false'\",\"b'false'\",\"b'false'\",\"b'true'\",\"b'false'\",\"b'false'\",\"b'false'\",\"b'false'\",\"b'true'\",\"b'false'\",\"b'false'\",\"b'false'\",\"b'true'\",\"b'false'\",\"b'false'\",\"b'false'\",\"b'false'\",\"b'false'\",\"b'false'\",\"b'false'\",\"b'true'\",\"b'false'\",\"b'false'\",\"b'false'\",\"b'false'\",\"b'false'\",\"b'false'\",\"b'false'\",\"b'false'\",\"b'false'\",\"b'false'\",\"b'true'\",\"b'false'\",\"b'false'\",\"b'true'\",\"b'true'\",\"b'false'\",\"b'false'\",\"b'false'\",\"b'true'\",\"b'true'\",\"b'false'\",\"b'false'\",\"b'true'\",\"b'false'\",\"b'false'\",\"b'true'\",\"b'true'\",\"b'false'\",\"b'false'\",\"b'false'\",\"b'false'\",\"b'false'\",\"b'false'\",\"b'true'\",\"b'false'\",\"b'false'\",\"b'true'\",\"b'false'\",\"b'false'\",\"b'false'\",\"b'false'\",\"b'false'\",\"b'false'\",\"b'false'\",\"b'false'\",\"b'false'\",\"b'true'\",\"b'false'\",\"b'false'\",\"b'true'\",\"b'false'\",\"b'false'\",\"b'false'\",\"b'false'\",\"b'true'\",\"b'false'\",\"b'false'\",\"b'false'\",\"b'false'\",\"b'true'\",\"b'false'\",\"b'false'\",\"b'true'\",\"b'false'\",\"b'false'\",\"b'false'\",\"b'false'\",\"b'false'\",\"b'false'\",\"b'false'\",\"b'true'\",\"b'false'\",\"b'false'\",\"b'true'\",\"b'false'\",\"b'false'\",\"b'false'\",\"b'false'\",\"b'false'\",\"b'false'\",\"b'true'\",\"b'true'\",\"b'false'\",\"b'true'\",\"b'true'\",\"b'false'\",\"b'false'\",\"b'true'\",\"b'false'\",\"b'false'\",\"b'false'\",\"b'true'\",\"b'false'\",\"b'false'\",\"b'false'\",\"b'false'\",\"b'false'\",\"b'false'\",\"b'true'\",\"b'false'\",\"b'false'\",\"b'false'\",\"b'true'\",\"b'false'\",\"b'true'\",\"b'false'\",\"b'true'\",\"b'false'\",\"b'false'\",\"b'false'\",\"b'false'\",\"b'false'\",\"b'false'\",\"b'true'\",\"b'true'\",\"b'false'\",\"b'true'\",\"b'false'\",\"b'true'\",\"b'false'\",\"b'false'\",\"b'false'\",\"b'false'\",\"b'false'\",\"b'false'\",\"b'false'\",\"b'false'\",\"b'false'\",\"b'false'\",\"b'false'\",\"b'false'\",\"b'false'\",\"b'true'\",\"b'false'\",\"b'true'\",\"b'false'\",\"b'false'\",\"b'false'\",\"b'false'\",\"b'false'\",\"b'false'\",\"b'false'\",\"b'false'\",\"b'false'\",\"b'false'\",\"b'false'\",\"b'true'\",\"b'true'\",\"b'false'\",\"b'false'\",\"b'false'\",\"b'false'\",\"b'false'\",\"b'false'\",\"b'false'\",\"b'false'\",\"b'false'\",\"b'false'\",\"b'false'\",\"b'false'\",\"b'false'\",\"b'false'\",\"b'false'\",\"b'false'\",\"b'false'\",\"b'false'\",\"b'false'\",\"b'false'\",\"b'false'\",\"b'true'\",\"b'false'\",\"b'false'\",\"b'false'\",\"b'false'\",\"b'false'\",\"b'false'\",\"b'false'\",\"b'false'\",\"b'true'\",\"b'false'\",\"b'false'\",\"b'false'\",\"b'false'\",\"b'false'\",\"b'true'\",\"b'false'\",\"b'true'\",\"b'false'\",\"b'false'\",\"b'false'\",\"b'false'\",\"b'false'\",\"b'false'\",\"b'false'\",\"b'false'\",\"b'false'\",\"b'false'\",\"b'false'\",\"b'false'\",\"b'false'\",\"b'true'\",\"b'false'\",\"b'false'\",\"b'false'\",\"b'false'\",\"b'false'\",\"b'true'\",\"b'true'\",\"b'false'\",\"b'false'\",\"b'true'\",\"b'false'\",\"b'false'\",\"b'false'\",\"b'false'\",\"b'true'\",\"b'false'\",\"b'true'\",\"b'false'\",\"b'true'\",\"b'false'\",\"b'false'\",\"b'false'\",\"b'false'\",\"b'false'\",\"b'false'\",\"b'true'\",\"b'false'\",\"b'true'\",\"b'false'\",\"b'false'\",\"b'false'\",\"b'false'\",\"b'false'\",\"b'false'\",\"b'false'\",\"b'false'\",\"b'true'\",\"b'true'\",\"b'false'\",\"b'false'\",\"b'false'\",\"b'false'\",\"b'false'\",\"b'false'\",\"b'false'\",\"b'false'\",\"b'true'\",\"b'true'\",\"b'true'\",\"b'false'\",\"b'true'\",\"b'false'\",\"b'false'\",\"b'false'\",\"b'false'\",\"b'false'\",\"b'false'\",\"b'true'\",]\n",
    "outliers = [\"b'true'\",\"b'false'\",\"b'false'\",\"b'false'\",\"b'true'\",\"b'false'\"\n",
    ",\"b'false'\",\"b'false'\",\"b'false'\",\"b'false'\",\"b'true'\",\"b'false'\"\n",
    ",\"b'false'\",\"b'false'\",\"b'false'\",\"b'true'\",\"b'false'\",\"b'false'\"\n",
    ",\"b'false'\",\"b'false'\",\"b'false'\",\"b'true'\",\"b'false'\",\"b'false'\"\n",
    ",\"b'true'\",\"b'false'\",\"b'false'\",\"b'false'\",\"b'true'\",\"b'false'\"\n",
    ",\"b'false'\",\"b'false'\",\"b'false'\",\"b'true'\",\"b'false'\",\"b'false'\"\n",
    ",\"b'false'\",\"b'false'\",\"b'false'\",\"b'false'\",\"b'true'\",\"b'true'\"\n",
    ",\"b'false'\",\"b'false'\",\"b'false'\",\"b'false'\",\"b'true'\",\"b'false'\"\n",
    ",\"b'false'\",\"b'true'\",\"b'true'\",\"b'true'\",\"b'false'\",\"b'false'\",\"b'false'\"\n",
    ",\"b'false'\",\"b'false'\",\"b'false'\",\"b'false'\",\"b'false'\",\"b'false'\"\n",
    ",\"b'false'\",\"b'false'\",\"b'true'\",\"b'true'\",\"b'false'\",\"b'false'\"\n",
    ",\"b'false'\",\"b'false'\",\"b'false'\",\"b'false'\",\"b'false'\",\"b'false'\"\n",
    ",\"b'false'\",\"b'false'\",\"b'false'\",\"b'false'\",\"b'false'\",\"b'true'\"\n",
    ",\"b'false'\",\"b'false'\",\"b'false'\",\"b'false'\",\"b'false'\",\"b'false'\"\n",
    ",\"b'true'\",\"b'false'\",\"b'true'\",\"b'true'\",\"b'false'\",\"b'false'\",\"b'false'\"\n",
    ",\"b'false'\",\"b'true'\",\"b'false'\",\"b'false'\",\"b'false'\",\"b'false'\"\n",
    ",\"b'false'\",\"b'false'\",\"b'true'\",\"b'false'\",\"b'true'\",\"b'false'\",\"b'true'\"\n",
    ",\"b'false'\",\"b'true'\",\"b'true'\",\"b'false'\",\"b'false'\",\"b'false'\"\n",
    ",\"b'false'\",\"b'false'\",\"b'false'\",\"b'false'\",\"b'false'\",\"b'true'\"\n",
    ",\"b'false'\",\"b'true'\",\"b'true'\",\"b'false'\",\"b'false'\",\"b'false'\"\n",
    ",\"b'false'\",\"b'true'\",\"b'true'\",\"b'false'\",\"b'false'\",\"b'false'\",\"b'true'\"\n",
    ",\"b'true'\",\"b'false'\",\"b'false'\",\"b'false'\",\"b'false'\",\"b'false'\"\n",
    ",\"b'true'\",\"b'true'\",\"b'false'\",\"b'false'\",\"b'true'\",\"b'true'\",\"b'false'\"\n",
    ",\"b'true'\",\"b'false'\",\"b'false'\",\"b'false'\",\"b'false'\",\"b'false'\"\n",
    ",\"b'false'\",\"b'false'\",\"b'false'\",\"b'false'\",\"b'false'\",\"b'false'\"\n",
    ",\"b'false'\",\"b'false'\",\"b'false'\",\"b'false'\",\"b'true'\",\"b'false'\"\n",
    ",\"b'false'\",\"b'false'\",\"b'false'\",\"b'false'\",\"b'false'\",\"b'false'\"\n",
    ",\"b'true'\",\"b'true'\",\"b'false'\",\"b'false'\",\"b'false'\",\"b'false'\",\"b'true'\"\n",
    ",\"b'true'\",\"b'false'\",\"b'true'\",\"b'true'\",\"b'false'\",\"b'false'\",\"b'false'\"\n",
    ",\"b'true'\",\"b'false'\",\"b'false'\",\"b'false'\",\"b'false'\",\"b'false'\"\n",
    ",\"b'true'\",\"b'false'\",\"b'false'\",\"b'false'\",\"b'false'\",\"b'false'\"\n",
    ",\"b'false'\",\"b'false'\",\"b'true'\",\"b'true'\",\"b'false'\",\"b'false'\"\n",
    ",\"b'false'\",\"b'false'\",\"b'false'\",\"b'false'\",\"b'false'\",\"b'false'\"\n",
    ",\"b'false'\",\"b'false'\",\"b'false'\",\"b'false'\",\"b'false'\",\"b'false'\"\n",
    ",\"b'true'\",\"b'true'\",\"b'false'\",\"b'false'\",\"b'false'\",\"b'false'\"\n",
    ",\"b'false'\",\"b'false'\",\"b'false'\",\"b'false'\",\"b'false'\",\"b'true'\"\n",
    ",\"b'false'\",\"b'false'\",\"b'false'\",\"b'false'\",\"b'false'\",\"b'false'\"\n",
    ",\"b'false'\",\"b'false'\",\"b'false'\",\"b'true'\",\"b'true'\",\"b'false'\"\n",
    ",\"b'false'\",\"b'false'\",\"b'true'\",\"b'false'\",\"b'false'\",\"b'false'\"\n",
    ",\"b'false'\",\"b'false'\",\"b'true'\",\"b'false'\",\"b'false'\",\"b'true'\",\"b'true'\"\n",
    ",\"b'true'\",\"b'false'\",\"b'true'\",\"b'false'\",\"b'false'\",\"b'false'\"\n",
    ",\"b'false'\",\"b'false'\",\"b'false'\",\"b'false'\",\"b'false'\",\"b'false'\"\n",
    ",\"b'false'\",\"b'false'\",\"b'true'\",\"b'true'\",\"b'false'\",\"b'true'\",\"b'true'\"\n",
    ",\"b'false'\",\"b'false'\",\"b'false'\",\"b'false'\",\"b'false'\",\"b'false'\"\n",
    ",\"b'false'\",\"b'false'\",\"b'true'\",\"b'false'\",\"b'false'\",\"b'false'\"\n",
    ",\"b'false'\",\"b'false'\",\"b'false'\",\"b'false'\",\"b'false'\",\"b'false'\"\n",
    ",\"b'false'\",\"b'false'\",\"b'false'\",\"b'true'\",\"b'false'\",\"b'false'\"\n",
    ",\"b'false'\",\"b'false'\",\"b'true'\",\"b'false'\",\"b'false'\",\"b'true'\"\n",
    ",\"b'false'\",\"b'false'\",\"b'false'\",\"b'false'\",\"b'false'\",\"b'false'\"\n",
    ",\"b'false'\",\"b'false'\",\"b'false'\",\"b'false'\",\"b'false'\",\"b'false'\"\n",
    ",\"b'true'\",\"b'false'\",\"b'false'\",\"b'true'\",\"b'false'\",\"b'false'\"\n",
    ",\"b'false'\",\"b'false'\",\"b'false'\",\"b'false'\",\"b'false'\",\"b'false'\"\n",
    ",\"b'false'\",\"b'true'\",\"b'false'\",\"b'false'\",\"b'true'\"]\n",
    "results = kc1_30_k3 + outliers\n",
    "len(results)"
   ]
  },
  {
   "cell_type": "code",
   "execution_count": 104,
   "id": "793ee0fa",
   "metadata": {},
   "outputs": [
    {
     "data": {
      "text/plain": [
       "1575"
      ]
     },
     "execution_count": 104,
     "metadata": {},
     "output_type": "execute_result"
    }
   ],
   "source": [
    "gt_false = [\"b'false'\" for _ in range(len(kc1_30_k3))]\n",
    "gt_true = [\"b'true'\" for _ in range(len(outliers))]\n",
    "gt = gt_false + gt_true\n",
    "len(gt)"
   ]
  },
  {
   "cell_type": "code",
   "execution_count": 105,
   "id": "7becf631",
   "metadata": {
    "scrolled": false
   },
   "outputs": [
    {
     "data": {
      "text/plain": [
       "<sklearn.metrics._plot.confusion_matrix.ConfusionMatrixDisplay at 0x7f69b705d730>"
      ]
     },
     "execution_count": 105,
     "metadata": {},
     "output_type": "execute_result"
    },
    {
     "data": {
      "image/png": "[encoded data removed]",
      "text/plain": [
       "<Figure size 432x288 with 2 Axes>"
      ]
     },
     "metadata": {
      "needs_background": "light"
     },
     "output_type": "display_data"
    }
   ],
   "source": [
    "matrix = confusion_matrix(gt, results, labels=[\"b'false'\", \"b'true'\"])\n",
    "display = ConfusionMatrixDisplay(confusion_matrix=matrix, display_labels=[\"b'false'\", \"b'true'\"])\n",
    "display.plot()"
   ]
  },
  {
   "cell_type": "code",
   "execution_count": 158,
   "id": "7f253224",
   "metadata": {},
   "outputs": [
    {
     "data": {
      "text/plain": [
       "0.23801652892561984"
      ]
     },
     "execution_count": 158,
     "metadata": {},
     "output_type": "execute_result"
    }
   ],
   "source": [
    "tn = 1042\n",
    "fp = 207\n",
    "fn = 254\n",
    "tp = 72\n",
    "r = recall(tp, fn)\n",
    "p = precision(tp, fp)\n",
    "f1_measure = f1(r, p)\n",
    "f1_measure"
   ]
  },
  {
   "cell_type": "markdown",
   "id": "76416c8e",
   "metadata": {},
   "source": [
    "### k=5"
   ]
  },
  {
   "cell_type": "code",
   "execution_count": 106,
   "id": "70ec6159",
   "metadata": {},
   "outputs": [
    {
     "data": {
      "text/plain": [
       "1575"
      ]
     },
     "execution_count": 106,
     "metadata": {},
     "output_type": "execute_result"
    }
   ],
   "source": [
    "kc1_30_k5 = [\"b'false'\",\"b'false'\",\"b'false'\",\"b'false'\",\"b'false'\",\"b'false'\",\"b'false'\",\"b'true'\",\"b'false'\",\"b'true'\",\"b'false'\",\"b'true'\",\"b'false'\",\"b'false'\",\"b'false'\",\"b'false'\",\"b'false'\",\"b'true'\",\"b'false'\",\"b'false'\",\"b'false'\",\"b'false'\",\"b'false'\",\"b'false'\",\"b'true'\",\"b'false'\",\"b'false'\",\"b'false'\",\"b'false'\",\"b'false'\",\"b'true'\",\"b'false'\",\"b'false'\",\"b'false'\",\"b'true'\",\"b'false'\",\"b'false'\",\"b'false'\",\"b'true'\",\"b'false'\",\"b'false'\",\"b'true'\",\"b'true'\",\"b'false'\",\"b'false'\",\"b'false'\",\"b'false'\",\"b'true'\",\"b'false'\",\"b'true'\",\"b'false'\",\"b'false'\",\"b'false'\",\"b'true'\",\"b'true'\",\"b'false'\",\"b'false'\",\"b'true'\",\"b'false'\",\"b'false'\",\"b'false'\",\"b'false'\",\"b'false'\",\"b'true'\",\"b'true'\",\"b'false'\",\"b'false'\",\"b'false'\",\"b'false'\",\"b'false'\",\"b'true'\",\"b'true'\",\"b'false'\",\"b'false'\",\"b'false'\",\"b'false'\",\"b'false'\",\"b'false'\",\"b'true'\",\"b'false'\",\"b'false'\",\"b'false'\",\"b'false'\",\"b'true'\",\"b'true'\",\"b'true'\",\"b'false'\",\"b'false'\",\"b'false'\",\"b'false'\",\"b'false'\",\"b'false'\",\"b'false'\",\"b'true'\",\"b'true'\",\"b'false'\",\"b'false'\",\"b'false'\",\"b'false'\",\"b'false'\",\"b'true'\",\"b'true'\",\"b'false'\",\"b'false'\",\"b'true'\",\"b'false'\",\"b'false'\",\"b'false'\",\"b'true'\",\"b'true'\",\"b'false'\",\"b'true'\",\"b'true'\",\"b'false'\",\"b'true'\",\"b'false'\",\"b'false'\",\"b'false'\",\"b'false'\",\"b'false'\",\"b'false'\",\"b'false'\",\"b'false'\",\"b'false'\",\"b'false'\",\"b'true'\",\"b'true'\",\"b'false'\",\"b'false'\",\"b'false'\",\"b'false'\",\"b'true'\",\"b'false'\",\"b'false'\",\"b'true'\",\"b'true'\",\"b'true'\",\"b'false'\",\"b'false'\",\"b'false'\",\"b'false'\",\"b'false'\",\"b'false'\",\"b'false'\",\"b'false'\",\"b'false'\",\"b'false'\",\"b'false'\",\"b'true'\",\"b'false'\",\"b'true'\",\"b'false'\",\"b'false'\",\"b'false'\",\"b'true'\",\"b'false'\",\"b'true'\",\"b'false'\",\"b'false'\",\"b'false'\",\"b'false'\",\"b'false'\",\"b'false'\",\"b'true'\",\"b'true'\",\"b'false'\",\"b'true'\",\"b'false'\",\"b'false'\",\"b'true'\",\"b'false'\",\"b'true'\",\"b'false'\",\"b'false'\",\"b'true'\",\"b'true'\",\"b'true'\",\"b'false'\",\"b'false'\",\"b'true'\",\"b'true'\",\"b'false'\",\"b'false'\",\"b'true'\",\"b'false'\",\"b'false'\",\"b'false'\",\"b'false'\",\"b'true'\",\"b'false'\",\"b'false'\",\"b'false'\",\"b'false'\",\"b'false'\",\"b'false'\",\"b'false'\",\"b'false'\",\"b'false'\",\"b'false'\",\"b'false'\",\"b'true'\",\"b'false'\",\"b'false'\",\"b'false'\",\"b'false'\",\"b'false'\",\"b'true'\",\"b'false'\",\"b'true'\",\"b'false'\",\"b'false'\",\"b'false'\",\"b'true'\",\"b'false'\",\"b'false'\",\"b'false'\",\"b'true'\",\"b'false'\",\"b'false'\",\"b'false'\",\"b'false'\",\"b'false'\",\"b'false'\",\"b'true'\",\"b'false'\",\"b'false'\",\"b'false'\",\"b'false'\",\"b'false'\",\"b'false'\",\"b'false'\",\"b'false'\",\"b'false'\",\"b'false'\",\"b'false'\",\"b'false'\",\"b'false'\",\"b'false'\",\"b'false'\",\"b'true'\",\"b'false'\",\"b'false'\",\"b'false'\",\"b'false'\",\"b'false'\",\"b'false'\",\"b'false'\",\"b'true'\",\"b'false'\",\"b'false'\",\"b'false'\",\"b'false'\",\"b'false'\",\"b'false'\",\"b'false'\",\"b'false'\",\"b'true'\",\"b'true'\",\"b'false'\",\"b'true'\",\"b'false'\",\"b'false'\",\"b'false'\",\"b'false'\",\"b'true'\",\"b'false'\",\"b'true'\",\"b'false'\",\"b'false'\",\"b'false'\",\"b'false'\",\"b'false'\",\"b'true'\",\"b'false'\",\"b'false'\",\"b'false'\",\"b'true'\",\"b'false'\",\"b'true'\",\"b'false'\",\"b'false'\",\"b'false'\",\"b'false'\",\"b'false'\",\"b'false'\",\"b'false'\",\"b'true'\",\"b'true'\",\"b'false'\",\"b'false'\",\"b'false'\",\"b'true'\",\"b'false'\",\"b'false'\",\"b'true'\",\"b'false'\",\"b'true'\",\"b'false'\",\"b'false'\",\"b'false'\",\"b'false'\",\"b'true'\",\"b'false'\",\"b'false'\",\"b'false'\",\"b'false'\",\"b'false'\",\"b'false'\",\"b'false'\",\"b'false'\",\"b'false'\",\"b'false'\",\"b'false'\",\"b'false'\",\"b'true'\",\"b'false'\",\"b'false'\",\"b'false'\",\"b'false'\",\"b'false'\",\"b'false'\",\"b'false'\",\"b'true'\",\"b'false'\",\"b'true'\",\"b'false'\",\"b'false'\",\"b'false'\",\"b'true'\",\"b'true'\",\"b'false'\",\"b'false'\",\"b'false'\",\"b'false'\",\"b'false'\",\"b'false'\",\"b'false'\",\"b'false'\",\"b'false'\",\"b'false'\",\"b'false'\",\"b'false'\",\"b'false'\",\"b'true'\",\"b'true'\",\"b'false'\",\"b'false'\",\"b'false'\",\"b'false'\",\"b'false'\",\"b'true'\",\"b'false'\",\"b'false'\",\"b'true'\",\"b'false'\",\"b'false'\",\"b'false'\",\"b'false'\",\"b'false'\",\"b'true'\",\"b'false'\",\"b'true'\",\"b'false'\",\"b'true'\",\"b'false'\",\"b'true'\",\"b'true'\",\"b'true'\",\"b'false'\",\"b'false'\",\"b'false'\",\"b'false'\",\"b'true'\",\"b'true'\",\"b'false'\",\"b'false'\",\"b'true'\",\"b'true'\",\"b'true'\",\"b'false'\",\"b'false'\",\"b'false'\",\"b'false'\",\"b'false'\",\"b'false'\",\"b'true'\",\"b'false'\",\"b'false'\",\"b'true'\",\"b'false'\",\"b'false'\",\"b'false'\",\"b'false'\",\"b'false'\",\"b'true'\",\"b'false'\",\"b'false'\",\"b'false'\",\"b'false'\",\"b'false'\",\"b'true'\",\"b'false'\",\"b'false'\",\"b'false'\",\"b'true'\",\"b'false'\",\"b'true'\",\"b'false'\",\"b'true'\",\"b'false'\",\"b'false'\",\"b'false'\",\"b'true'\",\"b'false'\",\"b'false'\",\"b'false'\",\"b'false'\",\"b'true'\",\"b'false'\",\"b'false'\",\"b'true'\",\"b'false'\",\"b'false'\",\"b'false'\",\"b'false'\",\"b'false'\",\"b'false'\",\"b'false'\",\"b'false'\",\"b'false'\",\"b'true'\",\"b'true'\",\"b'false'\",\"b'false'\",\"b'false'\",\"b'true'\",\"b'false'\",\"b'false'\",\"b'true'\",\"b'false'\",\"b'false'\",\"b'false'\",\"b'true'\",\"b'false'\",\"b'false'\",\"b'false'\",\"b'false'\",\"b'false'\",\"b'false'\",\"b'true'\",\"b'false'\",\"b'true'\",\"b'true'\",\"b'false'\",\"b'false'\",\"b'true'\",\"b'true'\",\"b'false'\",\"b'false'\",\"b'false'\",\"b'false'\",\"b'false'\",\"b'false'\",\"b'false'\",\"b'true'\",\"b'false'\",\"b'false'\",\"b'true'\",\"b'false'\",\"b'false'\",\"b'false'\",\"b'false'\",\"b'false'\",\"b'false'\",\"b'false'\",\"b'true'\",\"b'false'\",\"b'false'\",\"b'true'\",\"b'false'\",\"b'false'\",\"b'false'\",\"b'true'\",\"b'false'\",\"b'false'\",\"b'false'\",\"b'false'\",\"b'false'\",\"b'true'\",\"b'false'\",\"b'false'\",\"b'false'\",\"b'false'\",\"b'false'\",\"b'false'\",\"b'true'\",\"b'false'\",\"b'false'\",\"b'true'\",\"b'false'\",\"b'true'\",\"b'false'\",\"b'false'\",\"b'false'\",\"b'false'\",\"b'false'\",\"b'true'\",\"b'true'\",\"b'true'\",\"b'true'\",\"b'true'\",\"b'false'\",\"b'false'\",\"b'false'\",\"b'false'\",\"b'false'\",\"b'false'\",\"b'false'\",\"b'true'\",\"b'false'\",\"b'false'\",\"b'true'\",\"b'false'\",\"b'false'\",\"b'false'\",\"b'false'\",\"b'true'\",\"b'false'\",\"b'false'\",\"b'false'\",\"b'false'\",\"b'false'\",\"b'false'\",\"b'true'\",\"b'true'\",\"b'false'\",\"b'false'\",\"b'true'\",\"b'false'\",\"b'false'\",\"b'false'\",\"b'false'\",\"b'false'\",\"b'false'\",\"b'true'\",\"b'false'\",\"b'true'\",\"b'true'\",\"b'false'\",\"b'false'\",\"b'true'\",\"b'true'\",\"b'false'\",\"b'false'\",\"b'false'\",\"b'false'\",\"b'false'\",\"b'false'\",\"b'false'\",\"b'false'\",\"b'true'\",\"b'false'\",\"b'false'\",\"b'true'\",\"b'true'\",\"b'false'\",\"b'false'\",\"b'false'\",\"b'false'\",\"b'true'\",\"b'true'\",\"b'false'\",\"b'true'\",\"b'false'\",\"b'false'\",\"b'false'\",\"b'true'\",\"b'false'\",\"b'true'\",\"b'false'\",\"b'false'\",\"b'false'\",\"b'false'\",\"b'true'\",\"b'false'\",\"b'false'\",\"b'false'\",\"b'false'\",\"b'false'\",\"b'false'\",\"b'false'\",\"b'true'\",\"b'false'\",\"b'true'\",\"b'false'\",\"b'false'\",\"b'false'\",\"b'false'\",\"b'false'\",\"b'true'\",\"b'true'\",\"b'false'\",\"b'true'\",\"b'true'\",\"b'false'\",\"b'false'\",\"b'true'\",\"b'false'\",\"b'false'\",\"b'false'\",\"b'false'\",\"b'false'\",\"b'false'\",\"b'false'\",\"b'false'\",\"b'false'\",\"b'false'\",\"b'false'\",\"b'false'\",\"b'false'\",\"b'false'\",\"b'true'\",\"b'false'\",\"b'true'\",\"b'true'\",\"b'false'\",\"b'false'\",\"b'true'\",\"b'false'\",\"b'false'\",\"b'false'\",\"b'false'\",\"b'false'\",\"b'false'\",\"b'false'\",\"b'false'\",\"b'false'\",\"b'false'\",\"b'true'\",\"b'false'\",\"b'false'\",\"b'false'\",\"b'false'\",\"b'false'\",\"b'false'\",\"b'false'\",\"b'true'\",\"b'false'\",\"b'true'\",\"b'false'\",\"b'false'\",\"b'true'\",\"b'true'\",\"b'true'\",\"b'true'\",\"b'false'\",\"b'true'\",\"b'false'\",\"b'true'\",\"b'false'\",\"b'false'\",\"b'false'\",\"b'false'\",\"b'false'\",\"b'false'\",\"b'true'\",\"b'false'\",\"b'false'\",\"b'false'\",\"b'false'\",\"b'false'\",\"b'true'\",\"b'false'\",\"b'true'\",\"b'true'\",\"b'false'\",\"b'false'\",\"b'true'\",\"b'true'\",\"b'false'\",\"b'false'\",\"b'false'\",\"b'false'\",\"b'true'\",\"b'true'\",\"b'false'\",\"b'false'\",\"b'false'\",\"b'true'\",\"b'false'\",\"b'false'\",\"b'false'\",\"b'true'\",\"b'false'\",\"b'false'\",\"b'false'\",\"b'false'\",\"b'false'\",\"b'false'\",\"b'false'\",\"b'true'\",\"b'false'\",\"b'true'\",\"b'true'\",\"b'false'\",\"b'false'\",\"b'false'\",\"b'true'\",\"b'false'\",\"b'false'\",\"b'true'\",\"b'false'\",\"b'false'\",\"b'true'\",\"b'true'\",\"b'false'\",\"b'false'\",\"b'false'\",\"b'false'\",\"b'false'\",\"b'true'\",\"b'false'\",\"b'true'\",\"b'true'\",\"b'false'\",\"b'false'\",\"b'true'\",\"b'true'\",\"b'false'\",\"b'false'\",\"b'false'\",\"b'false'\",\"b'false'\",\"b'false'\",\"b'false'\",\"b'false'\",\"b'false'\",\"b'false'\",\"b'false'\",\"b'false'\",\"b'false'\",\"b'true'\",\"b'true'\",\"b'false'\",\"b'false'\",\"b'true'\",\"b'false'\",\"b'false'\",\"b'false'\",\"b'true'\",\"b'true'\",\"b'true'\",\"b'false'\",\"b'true'\",\"b'false'\",\"b'false'\",\"b'false'\",\"b'false'\",\"b'false'\",\"b'true'\",\"b'false'\",\"b'false'\",\"b'false'\",\"b'false'\",\"b'false'\",\"b'false'\",\"b'true'\",\"b'false'\",\"b'false'\",\"b'false'\",\"b'false'\",\"b'false'\",\"b'true'\",\"b'false'\",\"b'false'\",\"b'false'\",\"b'false'\",\"b'false'\",\"b'true'\",\"b'false'\",\"b'false'\",\"b'true'\",\"b'true'\",\"b'false'\",\"b'true'\",\"b'true'\",\"b'false'\",\"b'false'\",\"b'false'\",\"b'false'\",\"b'false'\",\"b'false'\",\"b'false'\",\"b'true'\",\"b'false'\",\"b'false'\",\"b'false'\",\"b'false'\",\"b'false'\",\"b'true'\",\"b'false'\",\"b'false'\",\"b'false'\",\"b'false'\",\"b'false'\",\"b'false'\",\"b'false'\",\"b'true'\",\"b'true'\",\"b'false'\",\"b'false'\",\"b'false'\",\"b'false'\",\"b'false'\",\"b'false'\",\"b'false'\",\"b'false'\",\"b'false'\",\"b'false'\",\"b'false'\",\"b'false'\",\"b'false'\",\"b'false'\",\"b'true'\",\"b'false'\",\"b'true'\",\"b'true'\",\"b'false'\",\"b'false'\",\"b'false'\",\"b'false'\",\"b'true'\",\"b'false'\",\"b'false'\",\"b'false'\",\"b'true'\",\"b'false'\",\"b'false'\",\"b'false'\",\"b'true'\",\"b'false'\",\"b'false'\",\"b'false'\",\"b'false'\",\"b'true'\",\"b'true'\",\"b'true'\",\"b'false'\",\"b'false'\",\"b'false'\",\"b'true'\",\"b'false'\",\"b'false'\",\"b'false'\",\"b'false'\",\"b'false'\",\"b'false'\",\"b'false'\",\"b'false'\",\"b'false'\",\"b'false'\",\"b'false'\",\"b'true'\",\"b'false'\",\"b'false'\",\"b'false'\",\"b'true'\",\"b'false'\",\"b'false'\",\"b'true'\",\"b'true'\",\"b'false'\",\"b'true'\",\"b'false'\",\"b'false'\",\"b'false'\",\"b'false'\",\"b'false'\",\"b'false'\",\"b'false'\",\"b'false'\",\"b'false'\",\"b'false'\",\"b'false'\",\"b'false'\",\"b'false'\",\"b'false'\",\"b'false'\",\"b'false'\",\"b'true'\",\"b'false'\",\"b'true'\",\"b'false'\",\"b'false'\",\"b'false'\",\"b'false'\",\"b'false'\",\"b'true'\",\"b'false'\",\"b'false'\",\"b'true'\",\"b'false'\",\"b'false'\",\"b'false'\",\"b'false'\",\"b'true'\",\"b'false'\",\"b'true'\",\"b'false'\",\"b'true'\",\"b'true'\",\"b'false'\",\"b'false'\",\"b'true'\",\"b'false'\",\"b'false'\",\"b'false'\",\"b'false'\",\"b'false'\",\"b'true'\",\"b'false'\",\"b'true'\",\"b'true'\",\"b'true'\",\"b'false'\",\"b'false'\",\"b'false'\",\"b'false'\",\"b'false'\",\"b'true'\",\"b'true'\",\"b'false'\",\"b'false'\",\"b'false'\",\"b'false'\",\"b'false'\",\"b'false'\",\"b'false'\",\"b'false'\",\"b'false'\",\"b'true'\",\"b'false'\",\"b'true'\",\"b'false'\",\"b'false'\",\"b'true'\",\"b'true'\",\"b'true'\",\"b'true'\",\"b'false'\",\"b'false'\",\"b'false'\",\"b'false'\",\"b'false'\",\"b'false'\",\"b'false'\",\"b'true'\",\"b'false'\",\"b'true'\",\"b'true'\",\"b'false'\",\"b'true'\",\"b'false'\",\"b'true'\",\"b'true'\",\"b'false'\",\"b'true'\",\"b'false'\",\"b'true'\",\"b'false'\",\"b'false'\",\"b'false'\",\"b'true'\",\"b'false'\",\"b'false'\",\"b'false'\",\"b'false'\",\"b'true'\",\"b'false'\",\"b'false'\",\"b'false'\",\"b'true'\",\"b'true'\",\"b'false'\",\"b'false'\",\"b'false'\",\"b'false'\",\"b'false'\",\"b'false'\",\"b'true'\",\"b'false'\",\"b'false'\",\"b'false'\",\"b'false'\",\"b'false'\",\"b'false'\",\"b'false'\",\"b'false'\",\"b'false'\",\"b'false'\",\"b'true'\",\"b'false'\",\"b'true'\",\"b'true'\",\"b'true'\",\"b'false'\",\"b'false'\",\"b'false'\",\"b'true'\",\"b'true'\",\"b'true'\",\"b'true'\",\"b'true'\",\"b'false'\",\"b'false'\",\"b'true'\",\"b'true'\",\"b'false'\",\"b'false'\",\"b'false'\",\"b'false'\",\"b'false'\",\"b'true'\",\"b'true'\",\"b'false'\",\"b'false'\",\"b'true'\",\"b'false'\",\"b'false'\",\"b'false'\",\"b'false'\",\"b'false'\",\"b'false'\",\"b'false'\",\"b'false'\",\"b'true'\",\"b'true'\",\"b'false'\",\"b'false'\",\"b'true'\",\"b'true'\",\"b'false'\",\"b'false'\",\"b'false'\",\"b'true'\",\"b'true'\",\"b'false'\",\"b'false'\",\"b'false'\",\"b'true'\",\"b'false'\",\"b'true'\",\"b'true'\",\"b'false'\",\"b'false'\",\"b'false'\",\"b'true'\",\"b'false'\",\"b'false'\",\"b'false'\",\"b'true'\",\"b'false'\",\"b'false'\",\"b'true'\",\"b'false'\",\"b'false'\",\"b'false'\",\"b'false'\",\"b'true'\",\"b'true'\",\"b'true'\",\"b'true'\",\"b'false'\",\"b'true'\",\"b'true'\",\"b'true'\",\"b'false'\",\"b'true'\",\"b'false'\",\"b'false'\",\"b'false'\",\"b'true'\",\"b'false'\",\"b'true'\",\"b'true'\",\"b'true'\",\"b'false'\",\"b'false'\",\"b'true'\",\"b'true'\",\"b'true'\",\"b'false'\",\"b'true'\",\"b'false'\",\"b'true'\",\"b'true'\",\"b'true'\",\"b'false'\",\"b'false'\",\"b'false'\",\"b'false'\",\"b'false'\",\"b'false'\",\"b'true'\",\"b'true'\",\"b'false'\",\"b'true'\",\"b'false'\",\"b'true'\",\"b'false'\",\"b'false'\",\"b'false'\",\"b'false'\",\"b'true'\",\"b'false'\",\"b'false'\",\"b'false'\",\"b'true'\",\"b'false'\",\"b'false'\",\"b'false'\",\"b'false'\",\"b'true'\",\"b'false'\",\"b'true'\",\"b'false'\",\"b'false'\",\"b'false'\",\"b'false'\",\"b'false'\",\"b'false'\",\"b'false'\",\"b'false'\",\"b'false'\",\"b'false'\",\"b'false'\",\"b'true'\",\"b'true'\",\"b'true'\",\"b'false'\",\"b'false'\",\"b'false'\",\"b'false'\",\"b'false'\",\"b'false'\",\"b'false'\",\"b'false'\",\"b'false'\",\"b'false'\",\"b'true'\",\"b'false'\",\"b'false'\",\"b'false'\",\"b'false'\",\"b'false'\",\"b'false'\",\"b'false'\",\"b'false'\",\"b'false'\",\"b'true'\",\"b'false'\",\"b'false'\",\"b'false'\",\"b'false'\",\"b'false'\",\"b'false'\",\"b'false'\",\"b'false'\",\"b'true'\",\"b'false'\",\"b'true'\",\"b'false'\",\"b'false'\",\"b'false'\",\"b'true'\",\"b'false'\",\"b'true'\",\"b'false'\",\"b'false'\",\"b'false'\",\"b'false'\",\"b'true'\",\"b'false'\",\"b'false'\",\"b'false'\",\"b'true'\",\"b'false'\",\"b'false'\",\"b'false'\",\"b'false'\",\"b'true'\",\"b'false'\",\"b'false'\",\"b'false'\",\"b'false'\",\"b'false'\",\"b'true'\",\"b'true'\",\"b'false'\",\"b'false'\",\"b'true'\",\"b'false'\",\"b'false'\",\"b'false'\",\"b'true'\",\"b'true'\",\"b'false'\",\"b'true'\",\"b'false'\",\"b'true'\",\"b'true'\",\"b'false'\",\"b'false'\",\"b'false'\",\"b'false'\",\"b'true'\",\"b'true'\",\"b'false'\",\"b'true'\",\"b'false'\",\"b'true'\",\"b'false'\",\"b'false'\",\"b'false'\",\"b'false'\",\"b'false'\",\"b'false'\",\"b'true'\",\"b'true'\",\"b'false'\",\"b'false'\",\"b'true'\",\"b'true'\",\"b'false'\",\"b'false'\",\"b'false'\",\"b'false'\",\"b'true'\",\"b'true'\",\"b'true'\",\"b'false'\",\"b'true'\",\"b'true'\",\"b'false'\",\"b'false'\",\"b'false'\",\"b'false'\",\"b'false'\",\"b'true'\",]\n",
    "outliers = [\"b'true'\",\"b'false'\",\"b'false'\",\"b'false'\",\"b'true'\",\"b'true'\",\"b'false'\"\n",
    ",\"b'true'\",\"b'false'\",\"b'false'\",\"b'true'\",\"b'false'\",\"b'false'\"\n",
    ",\"b'false'\",\"b'false'\",\"b'true'\",\"b'true'\",\"b'false'\",\"b'false'\"\n",
    ",\"b'false'\",\"b'false'\",\"b'true'\",\"b'true'\",\"b'false'\",\"b'true'\",\"b'false'\"\n",
    ",\"b'false'\",\"b'false'\",\"b'true'\",\"b'false'\",\"b'true'\",\"b'false'\"\n",
    ",\"b'false'\",\"b'true'\",\"b'false'\",\"b'false'\",\"b'false'\",\"b'false'\"\n",
    ",\"b'false'\",\"b'false'\",\"b'true'\",\"b'true'\",\"b'false'\",\"b'false'\"\n",
    ",\"b'false'\",\"b'false'\",\"b'true'\",\"b'true'\",\"b'false'\",\"b'true'\",\"b'true'\"\n",
    ",\"b'true'\",\"b'false'\",\"b'false'\",\"b'true'\",\"b'false'\",\"b'false'\",\"b'true'\"\n",
    ",\"b'false'\",\"b'false'\",\"b'false'\",\"b'false'\",\"b'false'\",\"b'true'\"\n",
    ",\"b'true'\",\"b'false'\",\"b'false'\",\"b'false'\",\"b'false'\",\"b'false'\"\n",
    ",\"b'false'\",\"b'false'\",\"b'false'\",\"b'false'\",\"b'false'\",\"b'false'\"\n",
    ",\"b'false'\",\"b'false'\",\"b'true'\",\"b'false'\",\"b'false'\",\"b'false'\"\n",
    ",\"b'false'\",\"b'false'\",\"b'false'\",\"b'true'\",\"b'false'\",\"b'true'\",\"b'true'\"\n",
    ",\"b'false'\",\"b'false'\",\"b'false'\",\"b'false'\",\"b'true'\",\"b'false'\"\n",
    ",\"b'false'\",\"b'false'\",\"b'false'\",\"b'false'\",\"b'false'\",\"b'true'\"\n",
    ",\"b'false'\",\"b'true'\",\"b'false'\",\"b'true'\",\"b'true'\",\"b'true'\",\"b'true'\"\n",
    ",\"b'false'\",\"b'false'\",\"b'false'\",\"b'false'\",\"b'false'\",\"b'true'\"\n",
    ",\"b'false'\",\"b'false'\",\"b'true'\",\"b'false'\",\"b'true'\",\"b'true'\",\"b'false'\"\n",
    ",\"b'false'\",\"b'false'\",\"b'false'\",\"b'true'\",\"b'true'\",\"b'false'\"\n",
    ",\"b'false'\",\"b'false'\",\"b'true'\",\"b'true'\",\"b'false'\",\"b'false'\"\n",
    ",\"b'false'\",\"b'false'\",\"b'false'\",\"b'true'\",\"b'true'\",\"b'true'\",\"b'false'\"\n",
    ",\"b'true'\",\"b'true'\",\"b'false'\",\"b'true'\",\"b'false'\",\"b'false'\",\"b'false'\"\n",
    ",\"b'false'\",\"b'false'\",\"b'false'\",\"b'false'\",\"b'false'\",\"b'false'\"\n",
    ",\"b'false'\",\"b'false'\",\"b'false'\",\"b'false'\",\"b'false'\",\"b'false'\"\n",
    ",\"b'true'\",\"b'false'\",\"b'false'\",\"b'false'\",\"b'false'\",\"b'false'\"\n",
    ",\"b'false'\",\"b'false'\",\"b'true'\",\"b'true'\",\"b'false'\",\"b'false'\"\n",
    ",\"b'false'\",\"b'false'\",\"b'true'\",\"b'true'\",\"b'false'\",\"b'true'\",\"b'true'\"\n",
    ",\"b'true'\",\"b'false'\",\"b'false'\",\"b'true'\",\"b'false'\",\"b'false'\"\n",
    ",\"b'false'\",\"b'false'\",\"b'true'\",\"b'true'\",\"b'false'\",\"b'false'\"\n",
    ",\"b'false'\",\"b'false'\",\"b'false'\",\"b'false'\",\"b'false'\",\"b'true'\"\n",
    ",\"b'true'\",\"b'false'\",\"b'false'\",\"b'false'\",\"b'false'\",\"b'false'\"\n",
    ",\"b'false'\",\"b'false'\",\"b'false'\",\"b'false'\",\"b'false'\",\"b'false'\"\n",
    ",\"b'true'\",\"b'false'\",\"b'false'\",\"b'true'\",\"b'true'\",\"b'false'\",\"b'false'\"\n",
    ",\"b'false'\",\"b'true'\",\"b'false'\",\"b'false'\",\"b'false'\",\"b'true'\",\"b'true'\"\n",
    ",\"b'true'\",\"b'false'\",\"b'false'\",\"b'false'\",\"b'false'\",\"b'false'\"\n",
    ",\"b'false'\",\"b'false'\",\"b'false'\",\"b'false'\",\"b'true'\",\"b'true'\"\n",
    ",\"b'false'\",\"b'false'\",\"b'false'\",\"b'true'\",\"b'false'\",\"b'false'\"\n",
    ",\"b'false'\",\"b'false'\",\"b'false'\",\"b'true'\",\"b'false'\",\"b'false'\"\n",
    ",\"b'true'\",\"b'true'\",\"b'true'\",\"b'true'\",\"b'true'\",\"b'false'\",\"b'false'\"\n",
    ",\"b'true'\",\"b'false'\",\"b'false'\",\"b'false'\",\"b'false'\",\"b'false'\"\n",
    ",\"b'false'\",\"b'false'\",\"b'true'\",\"b'true'\",\"b'true'\",\"b'false'\",\"b'true'\"\n",
    ",\"b'true'\",\"b'false'\",\"b'false'\",\"b'false'\",\"b'false'\",\"b'false'\"\n",
    ",\"b'true'\",\"b'false'\",\"b'false'\",\"b'true'\",\"b'false'\",\"b'false'\"\n",
    ",\"b'false'\",\"b'false'\",\"b'false'\",\"b'false'\",\"b'false'\",\"b'false'\"\n",
    ",\"b'false'\",\"b'false'\",\"b'false'\",\"b'false'\",\"b'true'\",\"b'false'\"\n",
    ",\"b'false'\",\"b'false'\",\"b'false'\",\"b'true'\",\"b'false'\",\"b'false'\"\n",
    ",\"b'true'\",\"b'false'\",\"b'false'\",\"b'false'\",\"b'false'\",\"b'false'\"\n",
    ",\"b'false'\",\"b'false'\",\"b'false'\",\"b'false'\",\"b'false'\",\"b'false'\"\n",
    ",\"b'false'\",\"b'true'\",\"b'false'\",\"b'false'\",\"b'true'\",\"b'false'\"\n",
    ",\"b'false'\",\"b'false'\",\"b'false'\",\"b'false'\",\"b'false'\",\"b'false'\"\n",
    ",\"b'false'\",\"b'false'\",\"b'true'\",\"b'false'\",\"b'true'\",\"b'true'\"]\n",
    "results = kc1_30_k5 + outliers\n",
    "len(results)"
   ]
  },
  {
   "cell_type": "code",
   "execution_count": 108,
   "id": "31a882c9",
   "metadata": {},
   "outputs": [
    {
     "data": {
      "text/plain": [
       "1575"
      ]
     },
     "execution_count": 108,
     "metadata": {},
     "output_type": "execute_result"
    }
   ],
   "source": [
    "gt_false = [\"b'false'\" for _ in range(len(kc1_30_k5))]\n",
    "gt_true = [\"b'true'\" for _ in range(len(outliers))]\n",
    "gt = gt_false + gt_true\n",
    "len(gt)"
   ]
  },
  {
   "cell_type": "code",
   "execution_count": 109,
   "id": "c363e81f",
   "metadata": {
    "scrolled": true
   },
   "outputs": [
    {
     "data": {
      "text/plain": [
       "<sklearn.metrics._plot.confusion_matrix.ConfusionMatrixDisplay at 0x7f69b7396f10>"
      ]
     },
     "execution_count": 109,
     "metadata": {},
     "output_type": "execute_result"
    },
    {
     "data": {
      "image/png": "[encoded data removed]",
      "text/plain": [
       "<Figure size 432x288 with 2 Axes>"
      ]
     },
     "metadata": {
      "needs_background": "light"
     },
     "output_type": "display_data"
    }
   ],
   "source": [
    "matrix = confusion_matrix(gt, results, labels=[\"b'false'\", \"b'true'\"])\n",
    "display = ConfusionMatrixDisplay(confusion_matrix=matrix, display_labels=[\"b'false'\", \"b'true'\"])\n",
    "display.plot()"
   ]
  },
  {
   "cell_type": "code",
   "execution_count": 159,
   "id": "c60d8710",
   "metadata": {},
   "outputs": [
    {
     "data": {
      "text/plain": [
       "0.24479166666666666"
      ]
     },
     "execution_count": 159,
     "metadata": {},
     "output_type": "execute_result"
    }
   ],
   "source": [
    "tn = 901\n",
    "fp = 348\n",
    "fn = 232\n",
    "tp = 94\n",
    "r = recall(tp, fn)\n",
    "p = precision(tp, fp)\n",
    "f1_measure = f1(r, p)\n",
    "f1_measure"
   ]
  },
  {
   "cell_type": "markdown",
   "id": "c3c505cb",
   "metadata": {},
   "source": [
    "### k=7"
   ]
  },
  {
   "cell_type": "code",
   "execution_count": 110,
   "id": "dc5bb527",
   "metadata": {},
   "outputs": [
    {
     "data": {
      "text/plain": [
       "1575"
      ]
     },
     "execution_count": 110,
     "metadata": {},
     "output_type": "execute_result"
    }
   ],
   "source": [
    "kc1_30_k7 = [\"b'false'\",\"b'false'\",\"b'true'\",\"b'false'\",\"b'false'\",\"b'false'\",\"b'false'\",\"b'true'\",\"b'true'\",\"b'true'\",\"b'false'\",\"b'true'\",\"b'true'\",\"b'false'\",\"b'false'\",\"b'false'\",\"b'false'\",\"b'true'\",\"b'false'\",\"b'false'\",\"b'false'\",\"b'false'\",\"b'false'\",\"b'false'\",\"b'true'\",\"b'false'\",\"b'false'\",\"b'false'\",\"b'false'\",\"b'false'\",\"b'true'\",\"b'false'\",\"b'false'\",\"b'false'\",\"b'true'\",\"b'false'\",\"b'false'\",\"b'false'\",\"b'true'\",\"b'true'\",\"b'false'\",\"b'true'\",\"b'true'\",\"b'false'\",\"b'false'\",\"b'false'\",\"b'false'\",\"b'true'\",\"b'false'\",\"b'true'\",\"b'true'\",\"b'false'\",\"b'false'\",\"b'true'\",\"b'true'\",\"b'false'\",\"b'false'\",\"b'true'\",\"b'false'\",\"b'false'\",\"b'false'\",\"b'false'\",\"b'false'\",\"b'true'\",\"b'true'\",\"b'false'\",\"b'false'\",\"b'false'\",\"b'false'\",\"b'false'\",\"b'true'\",\"b'true'\",\"b'false'\",\"b'false'\",\"b'false'\",\"b'false'\",\"b'false'\",\"b'false'\",\"b'true'\",\"b'false'\",\"b'false'\",\"b'false'\",\"b'false'\",\"b'true'\",\"b'true'\",\"b'true'\",\"b'false'\",\"b'true'\",\"b'false'\",\"b'false'\",\"b'false'\",\"b'false'\",\"b'true'\",\"b'true'\",\"b'true'\",\"b'false'\",\"b'false'\",\"b'false'\",\"b'false'\",\"b'false'\",\"b'true'\",\"b'true'\",\"b'false'\",\"b'false'\",\"b'true'\",\"b'false'\",\"b'false'\",\"b'false'\",\"b'true'\",\"b'true'\",\"b'false'\",\"b'true'\",\"b'true'\",\"b'false'\",\"b'true'\",\"b'false'\",\"b'false'\",\"b'false'\",\"b'false'\",\"b'false'\",\"b'false'\",\"b'false'\",\"b'false'\",\"b'false'\",\"b'false'\",\"b'true'\",\"b'true'\",\"b'false'\",\"b'false'\",\"b'false'\",\"b'false'\",\"b'true'\",\"b'false'\",\"b'false'\",\"b'true'\",\"b'true'\",\"b'true'\",\"b'false'\",\"b'false'\",\"b'false'\",\"b'false'\",\"b'false'\",\"b'false'\",\"b'false'\",\"b'false'\",\"b'false'\",\"b'false'\",\"b'true'\",\"b'true'\",\"b'false'\",\"b'true'\",\"b'false'\",\"b'false'\",\"b'false'\",\"b'true'\",\"b'false'\",\"b'true'\",\"b'false'\",\"b'false'\",\"b'false'\",\"b'false'\",\"b'false'\",\"b'false'\",\"b'true'\",\"b'true'\",\"b'false'\",\"b'true'\",\"b'true'\",\"b'false'\",\"b'true'\",\"b'false'\",\"b'true'\",\"b'false'\",\"b'false'\",\"b'true'\",\"b'true'\",\"b'true'\",\"b'false'\",\"b'false'\",\"b'true'\",\"b'true'\",\"b'false'\",\"b'false'\",\"b'true'\",\"b'false'\",\"b'false'\",\"b'false'\",\"b'false'\",\"b'true'\",\"b'false'\",\"b'false'\",\"b'false'\",\"b'false'\",\"b'false'\",\"b'false'\",\"b'false'\",\"b'false'\",\"b'false'\",\"b'false'\",\"b'false'\",\"b'true'\",\"b'false'\",\"b'false'\",\"b'false'\",\"b'false'\",\"b'true'\",\"b'true'\",\"b'false'\",\"b'true'\",\"b'false'\",\"b'false'\",\"b'false'\",\"b'true'\",\"b'false'\",\"b'false'\",\"b'false'\",\"b'true'\",\"b'false'\",\"b'false'\",\"b'false'\",\"b'false'\",\"b'false'\",\"b'false'\",\"b'true'\",\"b'false'\",\"b'false'\",\"b'false'\",\"b'false'\",\"b'true'\",\"b'false'\",\"b'false'\",\"b'false'\",\"b'false'\",\"b'false'\",\"b'false'\",\"b'false'\",\"b'false'\",\"b'false'\",\"b'true'\",\"b'true'\",\"b'false'\",\"b'false'\",\"b'false'\",\"b'false'\",\"b'false'\",\"b'false'\",\"b'false'\",\"b'true'\",\"b'false'\",\"b'false'\",\"b'false'\",\"b'false'\",\"b'true'\",\"b'false'\",\"b'false'\",\"b'false'\",\"b'true'\",\"b'true'\",\"b'false'\",\"b'true'\",\"b'false'\",\"b'false'\",\"b'false'\",\"b'false'\",\"b'true'\",\"b'false'\",\"b'true'\",\"b'false'\",\"b'false'\",\"b'false'\",\"b'false'\",\"b'false'\",\"b'true'\",\"b'false'\",\"b'false'\",\"b'false'\",\"b'true'\",\"b'false'\",\"b'true'\",\"b'false'\",\"b'false'\",\"b'false'\",\"b'false'\",\"b'false'\",\"b'false'\",\"b'false'\",\"b'true'\",\"b'true'\",\"b'false'\",\"b'false'\",\"b'false'\",\"b'true'\",\"b'false'\",\"b'false'\",\"b'true'\",\"b'false'\",\"b'true'\",\"b'false'\",\"b'false'\",\"b'false'\",\"b'false'\",\"b'true'\",\"b'false'\",\"b'false'\",\"b'false'\",\"b'false'\",\"b'false'\",\"b'false'\",\"b'false'\",\"b'false'\",\"b'true'\",\"b'false'\",\"b'false'\",\"b'true'\",\"b'true'\",\"b'false'\",\"b'false'\",\"b'false'\",\"b'false'\",\"b'false'\",\"b'true'\",\"b'false'\",\"b'true'\",\"b'false'\",\"b'true'\",\"b'false'\",\"b'false'\",\"b'false'\",\"b'true'\",\"b'true'\",\"b'false'\",\"b'false'\",\"b'false'\",\"b'false'\",\"b'true'\",\"b'false'\",\"b'false'\",\"b'false'\",\"b'false'\",\"b'false'\",\"b'false'\",\"b'false'\",\"b'false'\",\"b'true'\",\"b'true'\",\"b'false'\",\"b'false'\",\"b'false'\",\"b'false'\",\"b'false'\",\"b'true'\",\"b'false'\",\"b'false'\",\"b'true'\",\"b'false'\",\"b'false'\",\"b'false'\",\"b'false'\",\"b'false'\",\"b'true'\",\"b'false'\",\"b'true'\",\"b'false'\",\"b'true'\",\"b'false'\",\"b'true'\",\"b'true'\",\"b'true'\",\"b'false'\",\"b'false'\",\"b'false'\",\"b'false'\",\"b'true'\",\"b'true'\",\"b'false'\",\"b'false'\",\"b'true'\",\"b'true'\",\"b'true'\",\"b'false'\",\"b'false'\",\"b'false'\",\"b'false'\",\"b'false'\",\"b'false'\",\"b'true'\",\"b'false'\",\"b'false'\",\"b'true'\",\"b'false'\",\"b'false'\",\"b'false'\",\"b'false'\",\"b'false'\",\"b'true'\",\"b'false'\",\"b'false'\",\"b'false'\",\"b'false'\",\"b'false'\",\"b'true'\",\"b'false'\",\"b'false'\",\"b'false'\",\"b'true'\",\"b'false'\",\"b'true'\",\"b'false'\",\"b'true'\",\"b'false'\",\"b'false'\",\"b'false'\",\"b'true'\",\"b'false'\",\"b'false'\",\"b'false'\",\"b'true'\",\"b'true'\",\"b'false'\",\"b'false'\",\"b'true'\",\"b'true'\",\"b'false'\",\"b'false'\",\"b'false'\",\"b'false'\",\"b'false'\",\"b'false'\",\"b'false'\",\"b'false'\",\"b'true'\",\"b'true'\",\"b'false'\",\"b'false'\",\"b'false'\",\"b'true'\",\"b'false'\",\"b'false'\",\"b'true'\",\"b'false'\",\"b'false'\",\"b'false'\",\"b'true'\",\"b'false'\",\"b'false'\",\"b'false'\",\"b'false'\",\"b'false'\",\"b'false'\",\"b'true'\",\"b'false'\",\"b'true'\",\"b'true'\",\"b'false'\",\"b'false'\",\"b'true'\",\"b'true'\",\"b'false'\",\"b'false'\",\"b'false'\",\"b'false'\",\"b'true'\",\"b'false'\",\"b'false'\",\"b'true'\",\"b'false'\",\"b'false'\",\"b'true'\",\"b'false'\",\"b'false'\",\"b'false'\",\"b'false'\",\"b'false'\",\"b'false'\",\"b'false'\",\"b'true'\",\"b'false'\",\"b'false'\",\"b'true'\",\"b'false'\",\"b'false'\",\"b'false'\",\"b'true'\",\"b'false'\",\"b'false'\",\"b'false'\",\"b'false'\",\"b'false'\",\"b'true'\",\"b'false'\",\"b'false'\",\"b'false'\",\"b'false'\",\"b'false'\",\"b'true'\",\"b'true'\",\"b'false'\",\"b'true'\",\"b'true'\",\"b'false'\",\"b'true'\",\"b'false'\",\"b'false'\",\"b'false'\",\"b'true'\",\"b'false'\",\"b'true'\",\"b'true'\",\"b'true'\",\"b'true'\",\"b'true'\",\"b'false'\",\"b'false'\",\"b'false'\",\"b'true'\",\"b'false'\",\"b'false'\",\"b'false'\",\"b'true'\",\"b'false'\",\"b'false'\",\"b'true'\",\"b'false'\",\"b'false'\",\"b'false'\",\"b'false'\",\"b'true'\",\"b'false'\",\"b'false'\",\"b'false'\",\"b'false'\",\"b'false'\",\"b'false'\",\"b'true'\",\"b'true'\",\"b'false'\",\"b'false'\",\"b'true'\",\"b'false'\",\"b'false'\",\"b'false'\",\"b'false'\",\"b'false'\",\"b'false'\",\"b'true'\",\"b'false'\",\"b'true'\",\"b'true'\",\"b'false'\",\"b'false'\",\"b'true'\",\"b'true'\",\"b'false'\",\"b'false'\",\"b'false'\",\"b'true'\",\"b'false'\",\"b'false'\",\"b'false'\",\"b'false'\",\"b'true'\",\"b'false'\",\"b'false'\",\"b'true'\",\"b'true'\",\"b'false'\",\"b'false'\",\"b'false'\",\"b'false'\",\"b'true'\",\"b'true'\",\"b'false'\",\"b'true'\",\"b'false'\",\"b'false'\",\"b'false'\",\"b'true'\",\"b'true'\",\"b'true'\",\"b'false'\",\"b'false'\",\"b'false'\",\"b'false'\",\"b'true'\",\"b'false'\",\"b'false'\",\"b'false'\",\"b'false'\",\"b'false'\",\"b'false'\",\"b'false'\",\"b'true'\",\"b'false'\",\"b'true'\",\"b'false'\",\"b'false'\",\"b'false'\",\"b'false'\",\"b'false'\",\"b'true'\",\"b'true'\",\"b'false'\",\"b'true'\",\"b'true'\",\"b'false'\",\"b'false'\",\"b'true'\",\"b'true'\",\"b'false'\",\"b'false'\",\"b'false'\",\"b'true'\",\"b'false'\",\"b'false'\",\"b'true'\",\"b'false'\",\"b'false'\",\"b'false'\",\"b'false'\",\"b'false'\",\"b'false'\",\"b'true'\",\"b'false'\",\"b'true'\",\"b'true'\",\"b'true'\",\"b'false'\",\"b'true'\",\"b'false'\",\"b'false'\",\"b'false'\",\"b'false'\",\"b'false'\",\"b'false'\",\"b'false'\",\"b'false'\",\"b'false'\",\"b'false'\",\"b'true'\",\"b'false'\",\"b'false'\",\"b'false'\",\"b'false'\",\"b'false'\",\"b'false'\",\"b'false'\",\"b'true'\",\"b'false'\",\"b'true'\",\"b'false'\",\"b'false'\",\"b'true'\",\"b'true'\",\"b'true'\",\"b'true'\",\"b'false'\",\"b'true'\",\"b'false'\",\"b'true'\",\"b'false'\",\"b'false'\",\"b'false'\",\"b'false'\",\"b'false'\",\"b'false'\",\"b'true'\",\"b'false'\",\"b'false'\",\"b'false'\",\"b'false'\",\"b'false'\",\"b'true'\",\"b'false'\",\"b'true'\",\"b'true'\",\"b'false'\",\"b'false'\",\"b'true'\",\"b'true'\",\"b'false'\",\"b'false'\",\"b'false'\",\"b'false'\",\"b'true'\",\"b'true'\",\"b'false'\",\"b'false'\",\"b'false'\",\"b'true'\",\"b'false'\",\"b'false'\",\"b'false'\",\"b'true'\",\"b'false'\",\"b'false'\",\"b'false'\",\"b'false'\",\"b'true'\",\"b'false'\",\"b'false'\",\"b'true'\",\"b'false'\",\"b'true'\",\"b'true'\",\"b'true'\",\"b'false'\",\"b'false'\",\"b'true'\",\"b'false'\",\"b'false'\",\"b'true'\",\"b'false'\",\"b'false'\",\"b'true'\",\"b'true'\",\"b'true'\",\"b'false'\",\"b'false'\",\"b'false'\",\"b'false'\",\"b'true'\",\"b'true'\",\"b'true'\",\"b'true'\",\"b'false'\",\"b'false'\",\"b'true'\",\"b'true'\",\"b'false'\",\"b'false'\",\"b'false'\",\"b'false'\",\"b'false'\",\"b'false'\",\"b'false'\",\"b'false'\",\"b'false'\",\"b'false'\",\"b'false'\",\"b'false'\",\"b'false'\",\"b'true'\",\"b'true'\",\"b'false'\",\"b'true'\",\"b'true'\",\"b'false'\",\"b'false'\",\"b'false'\",\"b'true'\",\"b'true'\",\"b'true'\",\"b'false'\",\"b'true'\",\"b'false'\",\"b'false'\",\"b'false'\",\"b'false'\",\"b'false'\",\"b'true'\",\"b'true'\",\"b'false'\",\"b'false'\",\"b'false'\",\"b'true'\",\"b'false'\",\"b'true'\",\"b'false'\",\"b'false'\",\"b'false'\",\"b'false'\",\"b'false'\",\"b'true'\",\"b'false'\",\"b'false'\",\"b'false'\",\"b'false'\",\"b'false'\",\"b'true'\",\"b'false'\",\"b'false'\",\"b'true'\",\"b'true'\",\"b'false'\",\"b'true'\",\"b'true'\",\"b'false'\",\"b'false'\",\"b'false'\",\"b'false'\",\"b'false'\",\"b'false'\",\"b'false'\",\"b'true'\",\"b'false'\",\"b'false'\",\"b'false'\",\"b'false'\",\"b'false'\",\"b'true'\",\"b'false'\",\"b'false'\",\"b'false'\",\"b'false'\",\"b'false'\",\"b'false'\",\"b'false'\",\"b'true'\",\"b'true'\",\"b'false'\",\"b'false'\",\"b'false'\",\"b'false'\",\"b'false'\",\"b'false'\",\"b'false'\",\"b'false'\",\"b'true'\",\"b'false'\",\"b'false'\",\"b'false'\",\"b'false'\",\"b'true'\",\"b'true'\",\"b'false'\",\"b'true'\",\"b'true'\",\"b'false'\",\"b'false'\",\"b'false'\",\"b'false'\",\"b'true'\",\"b'true'\",\"b'false'\",\"b'false'\",\"b'true'\",\"b'false'\",\"b'false'\",\"b'false'\",\"b'true'\",\"b'false'\",\"b'false'\",\"b'false'\",\"b'false'\",\"b'true'\",\"b'true'\",\"b'true'\",\"b'true'\",\"b'false'\",\"b'false'\",\"b'true'\",\"b'false'\",\"b'false'\",\"b'false'\",\"b'false'\",\"b'false'\",\"b'true'\",\"b'false'\",\"b'true'\",\"b'false'\",\"b'false'\",\"b'false'\",\"b'true'\",\"b'false'\",\"b'false'\",\"b'false'\",\"b'true'\",\"b'false'\",\"b'false'\",\"b'true'\",\"b'true'\",\"b'false'\",\"b'true'\",\"b'false'\",\"b'false'\",\"b'false'\",\"b'false'\",\"b'false'\",\"b'false'\",\"b'false'\",\"b'false'\",\"b'false'\",\"b'false'\",\"b'true'\",\"b'true'\",\"b'false'\",\"b'false'\",\"b'false'\",\"b'false'\",\"b'true'\",\"b'false'\",\"b'true'\",\"b'false'\",\"b'false'\",\"b'false'\",\"b'false'\",\"b'false'\",\"b'true'\",\"b'false'\",\"b'false'\",\"b'true'\",\"b'true'\",\"b'false'\",\"b'false'\",\"b'false'\",\"b'true'\",\"b'false'\",\"b'true'\",\"b'false'\",\"b'true'\",\"b'true'\",\"b'false'\",\"b'false'\",\"b'true'\",\"b'true'\",\"b'false'\",\"b'false'\",\"b'false'\",\"b'false'\",\"b'true'\",\"b'false'\",\"b'true'\",\"b'true'\",\"b'true'\",\"b'false'\",\"b'false'\",\"b'false'\",\"b'false'\",\"b'false'\",\"b'true'\",\"b'true'\",\"b'false'\",\"b'false'\",\"b'false'\",\"b'true'\",\"b'false'\",\"b'false'\",\"b'false'\",\"b'false'\",\"b'false'\",\"b'true'\",\"b'false'\",\"b'true'\",\"b'false'\",\"b'false'\",\"b'true'\",\"b'true'\",\"b'true'\",\"b'true'\",\"b'false'\",\"b'false'\",\"b'false'\",\"b'false'\",\"b'false'\",\"b'true'\",\"b'false'\",\"b'true'\",\"b'false'\",\"b'true'\",\"b'true'\",\"b'true'\",\"b'true'\",\"b'false'\",\"b'true'\",\"b'true'\",\"b'false'\",\"b'true'\",\"b'false'\",\"b'true'\",\"b'false'\",\"b'false'\",\"b'false'\",\"b'true'\",\"b'false'\",\"b'false'\",\"b'false'\",\"b'true'\",\"b'true'\",\"b'false'\",\"b'false'\",\"b'false'\",\"b'true'\",\"b'true'\",\"b'false'\",\"b'false'\",\"b'false'\",\"b'false'\",\"b'false'\",\"b'false'\",\"b'true'\",\"b'true'\",\"b'false'\",\"b'false'\",\"b'false'\",\"b'false'\",\"b'true'\",\"b'false'\",\"b'false'\",\"b'false'\",\"b'false'\",\"b'true'\",\"b'false'\",\"b'true'\",\"b'true'\",\"b'true'\",\"b'false'\",\"b'false'\",\"b'false'\",\"b'true'\",\"b'true'\",\"b'true'\",\"b'true'\",\"b'true'\",\"b'true'\",\"b'false'\",\"b'true'\",\"b'true'\",\"b'false'\",\"b'false'\",\"b'false'\",\"b'false'\",\"b'false'\",\"b'true'\",\"b'true'\",\"b'false'\",\"b'false'\",\"b'true'\",\"b'false'\",\"b'true'\",\"b'false'\",\"b'false'\",\"b'false'\",\"b'false'\",\"b'false'\",\"b'false'\",\"b'true'\",\"b'true'\",\"b'false'\",\"b'false'\",\"b'true'\",\"b'true'\",\"b'false'\",\"b'false'\",\"b'false'\",\"b'true'\",\"b'true'\",\"b'false'\",\"b'false'\",\"b'false'\",\"b'true'\",\"b'false'\",\"b'true'\",\"b'true'\",\"b'false'\",\"b'false'\",\"b'false'\",\"b'true'\",\"b'false'\",\"b'false'\",\"b'false'\",\"b'true'\",\"b'false'\",\"b'false'\",\"b'true'\",\"b'true'\",\"b'true'\",\"b'false'\",\"b'false'\",\"b'true'\",\"b'true'\",\"b'true'\",\"b'true'\",\"b'false'\",\"b'true'\",\"b'true'\",\"b'true'\",\"b'false'\",\"b'true'\",\"b'false'\",\"b'false'\",\"b'false'\",\"b'true'\",\"b'true'\",\"b'true'\",\"b'true'\",\"b'true'\",\"b'false'\",\"b'false'\",\"b'true'\",\"b'true'\",\"b'true'\",\"b'false'\",\"b'true'\",\"b'false'\",\"b'true'\",\"b'true'\",\"b'true'\",\"b'false'\",\"b'false'\",\"b'false'\",\"b'false'\",\"b'false'\",\"b'false'\",\"b'true'\",\"b'true'\",\"b'false'\",\"b'true'\",\"b'false'\",\"b'true'\",\"b'false'\",\"b'false'\",\"b'false'\",\"b'true'\",\"b'true'\",\"b'false'\",\"b'false'\",\"b'false'\",\"b'true'\",\"b'false'\",\"b'false'\",\"b'false'\",\"b'false'\",\"b'true'\",\"b'false'\",\"b'true'\",\"b'false'\",\"b'false'\",\"b'false'\",\"b'false'\",\"b'false'\",\"b'false'\",\"b'false'\",\"b'false'\",\"b'false'\",\"b'false'\",\"b'false'\",\"b'true'\",\"b'true'\",\"b'true'\",\"b'false'\",\"b'false'\",\"b'false'\",\"b'false'\",\"b'false'\",\"b'false'\",\"b'false'\",\"b'false'\",\"b'false'\",\"b'false'\",\"b'true'\",\"b'false'\",\"b'true'\",\"b'false'\",\"b'false'\",\"b'true'\",\"b'true'\",\"b'false'\",\"b'false'\",\"b'false'\",\"b'true'\",\"b'false'\",\"b'false'\",\"b'false'\",\"b'false'\",\"b'false'\",\"b'false'\",\"b'false'\",\"b'false'\",\"b'true'\",\"b'false'\",\"b'true'\",\"b'false'\",\"b'false'\",\"b'true'\",\"b'true'\",\"b'false'\",\"b'true'\",\"b'false'\",\"b'true'\",\"b'false'\",\"b'false'\",\"b'true'\",\"b'false'\",\"b'true'\",\"b'false'\",\"b'true'\",\"b'false'\",\"b'false'\",\"b'true'\",\"b'false'\",\"b'true'\",\"b'false'\",\"b'false'\",\"b'false'\",\"b'false'\",\"b'false'\",\"b'true'\",\"b'true'\",\"b'false'\",\"b'false'\",\"b'true'\",\"b'false'\",\"b'false'\",\"b'false'\",\"b'true'\",\"b'true'\",\"b'false'\",\"b'true'\",\"b'false'\",\"b'true'\",\"b'true'\",\"b'false'\",\"b'false'\",\"b'true'\",\"b'false'\",\"b'true'\",\"b'true'\",\"b'false'\",\"b'true'\",\"b'false'\",\"b'true'\",\"b'false'\",\"b'false'\",\"b'false'\",\"b'false'\",\"b'false'\",\"b'false'\",\"b'true'\",\"b'true'\",\"b'false'\",\"b'false'\",\"b'true'\",\"b'true'\",\"b'false'\",\"b'false'\",\"b'false'\",\"b'false'\",\"b'true'\",\"b'true'\",\"b'true'\",\"b'false'\",\"b'true'\",\"b'true'\",\"b'false'\",\"b'false'\",\"b'false'\",\"b'false'\",\"b'false'\",\"b'true'\",]\n",
    "outliers = [\"b'true'\",\"b'false'\",\"b'false'\",\"b'false'\",\"b'true'\",\"b'true'\",\"b'false'\"\n",
    ",\"b'true'\",\"b'false'\",\"b'false'\",\"b'true'\",\"b'false'\",\"b'false'\"\n",
    ",\"b'false'\",\"b'false'\",\"b'true'\",\"b'true'\",\"b'false'\",\"b'false'\"\n",
    ",\"b'false'\",\"b'false'\",\"b'true'\",\"b'true'\",\"b'false'\",\"b'true'\",\"b'false'\"\n",
    ",\"b'false'\",\"b'false'\",\"b'true'\",\"b'false'\",\"b'true'\",\"b'true'\",\"b'true'\"\n",
    ",\"b'true'\",\"b'false'\",\"b'false'\",\"b'false'\",\"b'false'\",\"b'false'\"\n",
    ",\"b'false'\",\"b'true'\",\"b'true'\",\"b'false'\",\"b'true'\",\"b'false'\",\"b'false'\"\n",
    ",\"b'true'\",\"b'true'\",\"b'false'\",\"b'true'\",\"b'true'\",\"b'true'\",\"b'false'\"\n",
    ",\"b'false'\",\"b'true'\",\"b'false'\",\"b'false'\",\"b'true'\",\"b'false'\"\n",
    ",\"b'false'\",\"b'false'\",\"b'false'\",\"b'false'\",\"b'true'\",\"b'true'\"\n",
    ",\"b'false'\",\"b'false'\",\"b'false'\",\"b'false'\",\"b'false'\",\"b'false'\"\n",
    ",\"b'true'\",\"b'false'\",\"b'false'\",\"b'true'\",\"b'false'\",\"b'false'\"\n",
    ",\"b'false'\",\"b'true'\",\"b'true'\",\"b'false'\",\"b'false'\",\"b'false'\"\n",
    ",\"b'false'\",\"b'false'\",\"b'true'\",\"b'false'\",\"b'true'\",\"b'true'\",\"b'false'\"\n",
    ",\"b'false'\",\"b'false'\",\"b'false'\",\"b'true'\",\"b'false'\",\"b'true'\"\n",
    ",\"b'false'\",\"b'true'\",\"b'false'\",\"b'false'\",\"b'true'\",\"b'true'\",\"b'true'\"\n",
    ",\"b'false'\",\"b'true'\",\"b'true'\",\"b'true'\",\"b'true'\",\"b'false'\",\"b'false'\"\n",
    ",\"b'false'\",\"b'true'\",\"b'false'\",\"b'true'\",\"b'false'\",\"b'false'\",\"b'true'\"\n",
    ",\"b'false'\",\"b'true'\",\"b'true'\",\"b'false'\",\"b'false'\",\"b'false'\"\n",
    ",\"b'false'\",\"b'true'\",\"b'true'\",\"b'false'\",\"b'false'\",\"b'false'\",\"b'true'\"\n",
    ",\"b'true'\",\"b'false'\",\"b'false'\",\"b'false'\",\"b'false'\",\"b'false'\"\n",
    ",\"b'true'\",\"b'true'\",\"b'true'\",\"b'false'\",\"b'true'\",\"b'true'\",\"b'false'\"\n",
    ",\"b'true'\",\"b'false'\",\"b'false'\",\"b'false'\",\"b'false'\",\"b'false'\"\n",
    ",\"b'false'\",\"b'false'\",\"b'false'\",\"b'false'\",\"b'false'\",\"b'false'\"\n",
    ",\"b'true'\",\"b'false'\",\"b'false'\",\"b'false'\",\"b'true'\",\"b'false'\"\n",
    ",\"b'false'\",\"b'false'\",\"b'false'\",\"b'false'\",\"b'false'\",\"b'false'\"\n",
    ",\"b'true'\",\"b'true'\",\"b'false'\",\"b'false'\",\"b'false'\",\"b'false'\",\"b'true'\"\n",
    ",\"b'true'\",\"b'false'\",\"b'true'\",\"b'true'\",\"b'true'\",\"b'true'\",\"b'true'\"\n",
    ",\"b'true'\",\"b'false'\",\"b'false'\",\"b'false'\",\"b'false'\",\"b'true'\",\"b'true'\"\n",
    ",\"b'false'\",\"b'false'\",\"b'false'\",\"b'false'\",\"b'false'\",\"b'true'\"\n",
    ",\"b'false'\",\"b'true'\",\"b'true'\",\"b'false'\",\"b'true'\",\"b'false'\",\"b'false'\"\n",
    ",\"b'false'\",\"b'false'\",\"b'false'\",\"b'false'\",\"b'false'\",\"b'false'\"\n",
    ",\"b'false'\",\"b'true'\",\"b'false'\",\"b'false'\",\"b'true'\",\"b'true'\",\"b'false'\"\n",
    ",\"b'false'\",\"b'false'\",\"b'true'\",\"b'false'\",\"b'false'\",\"b'false'\"\n",
    ",\"b'true'\",\"b'true'\",\"b'true'\",\"b'false'\",\"b'false'\",\"b'false'\",\"b'false'\"\n",
    ",\"b'false'\",\"b'false'\",\"b'false'\",\"b'false'\",\"b'false'\",\"b'true'\"\n",
    ",\"b'true'\",\"b'false'\",\"b'false'\",\"b'false'\",\"b'true'\",\"b'false'\"\n",
    ",\"b'false'\",\"b'false'\",\"b'false'\",\"b'false'\",\"b'true'\",\"b'false'\"\n",
    ",\"b'false'\",\"b'true'\",\"b'true'\",\"b'true'\",\"b'true'\",\"b'true'\",\"b'false'\"\n",
    ",\"b'false'\",\"b'true'\",\"b'false'\",\"b'false'\",\"b'false'\",\"b'false'\"\n",
    ",\"b'false'\",\"b'false'\",\"b'false'\",\"b'true'\",\"b'true'\",\"b'true'\",\"b'false'\"\n",
    ",\"b'true'\",\"b'true'\",\"b'false'\",\"b'false'\",\"b'false'\",\"b'false'\"\n",
    ",\"b'false'\",\"b'true'\",\"b'false'\",\"b'false'\",\"b'true'\",\"b'false'\"\n",
    ",\"b'false'\",\"b'false'\",\"b'false'\",\"b'false'\",\"b'false'\",\"b'false'\"\n",
    ",\"b'false'\",\"b'false'\",\"b'false'\",\"b'false'\",\"b'false'\",\"b'true'\"\n",
    ",\"b'false'\",\"b'false'\",\"b'false'\",\"b'false'\",\"b'true'\",\"b'false'\"\n",
    ",\"b'false'\",\"b'true'\",\"b'false'\",\"b'false'\",\"b'false'\",\"b'false'\"\n",
    ",\"b'false'\",\"b'false'\",\"b'false'\",\"b'true'\",\"b'false'\",\"b'false'\"\n",
    ",\"b'false'\",\"b'false'\",\"b'true'\",\"b'false'\",\"b'false'\",\"b'true'\"\n",
    ",\"b'false'\",\"b'false'\",\"b'false'\",\"b'false'\",\"b'false'\",\"b'false'\"\n",
    ",\"b'false'\",\"b'false'\",\"b'true'\",\"b'true'\",\"b'false'\",\"b'true'\",\"b'true'\"]\n",
    "results = kc1_30_k7 + outliers\n",
    "len(results)"
   ]
  },
  {
   "cell_type": "code",
   "execution_count": 113,
   "id": "e2aa543d",
   "metadata": {},
   "outputs": [
    {
     "data": {
      "text/plain": [
       "1575"
      ]
     },
     "execution_count": 113,
     "metadata": {},
     "output_type": "execute_result"
    }
   ],
   "source": [
    "gt_false = [\"b'false'\" for _ in range(len(kc1_30_k7))]\n",
    "gt_true = [\"b'true'\" for _ in range(len(outliers))]\n",
    "gt = gt_false + gt_true\n",
    "len(gt)"
   ]
  },
  {
   "cell_type": "code",
   "execution_count": 114,
   "id": "1c71ec7a",
   "metadata": {
    "scrolled": false
   },
   "outputs": [
    {
     "data": {
      "text/plain": [
       "<sklearn.metrics._plot.confusion_matrix.ConfusionMatrixDisplay at 0x7f69b7049f70>"
      ]
     },
     "execution_count": 114,
     "metadata": {},
     "output_type": "execute_result"
    },
    {
     "data": {
      "image/png": "[encoded data removed]",
      "text/plain": [
       "<Figure size 432x288 with 2 Axes>"
      ]
     },
     "metadata": {
      "needs_background": "light"
     },
     "output_type": "display_data"
    }
   ],
   "source": [
    "matrix = confusion_matrix(gt, results, labels=[\"b'false'\", \"b'true'\"])\n",
    "display = ConfusionMatrixDisplay(confusion_matrix=matrix, display_labels=[\"b'false'\", \"b'true'\"])\n",
    "display.plot()"
   ]
  },
  {
   "cell_type": "code",
   "execution_count": 160,
   "id": "86066296",
   "metadata": {},
   "outputs": [
    {
     "data": {
      "text/plain": [
       "0.2605633802816901"
      ]
     },
     "execution_count": 160,
     "metadata": {},
     "output_type": "execute_result"
    }
   ],
   "source": [
    "tn = 834\n",
    "fp = 415\n",
    "fn = 215\n",
    "tp = 111\n",
    "r = recall(tp, fn)\n",
    "p = precision(tp, fp)\n",
    "f1_measure = f1(r, p)\n",
    "f1_measure"
   ]
  },
  {
   "cell_type": "markdown",
   "id": "d2733a49",
   "metadata": {},
   "source": [
    "# KC1 40%"
   ]
  },
  {
   "cell_type": "markdown",
   "id": "2e9d1886",
   "metadata": {},
   "source": [
    "### k = 3"
   ]
  },
  {
   "cell_type": "code",
   "execution_count": 117,
   "id": "7bf25129",
   "metadata": {},
   "outputs": [
    {
     "data": {
      "text/plain": [
       "1396"
      ]
     },
     "execution_count": 117,
     "metadata": {},
     "output_type": "execute_result"
    }
   ],
   "source": [
    "kc1_40_k3 = [\"b'false'\",\"b'true'\",\"b'false'\",\"b'false'\",\"b'false'\",\"b'false'\",\"b'false'\",\"b'false'\",\"b'false'\",\"b'true'\",\"b'true'\",\"b'false'\",\"b'false'\",\"b'false'\",\"b'false'\",\"b'false'\",\"b'false'\",\"b'false'\",\"b'false'\",\"b'false'\",\"b'false'\",\"b'true'\",\"b'false'\",\"b'false'\",\"b'false'\",\"b'false'\",\"b'true'\",\"b'false'\",\"b'false'\",\"b'true'\",\"b'true'\",\"b'false'\",\"b'false'\",\"b'true'\",\"b'false'\",\"b'false'\",\"b'false'\",\"b'true'\",\"b'false'\",\"b'false'\",\"b'false'\",\"b'false'\",\"b'false'\",\"b'false'\",\"b'true'\",\"b'false'\",\"b'false'\",\"b'false'\",\"b'false'\",\"b'false'\",\"b'false'\",\"b'false'\",\"b'false'\",\"b'true'\",\"b'false'\",\"b'false'\",\"b'false'\",\"b'false'\",\"b'false'\",\"b'true'\",\"b'true'\",\"b'false'\",\"b'false'\",\"b'false'\",\"b'false'\",\"b'false'\",\"b'false'\",\"b'false'\",\"b'true'\",\"b'false'\",\"b'false'\",\"b'false'\",\"b'true'\",\"b'true'\",\"b'false'\",\"b'true'\",\"b'false'\",\"b'true'\",\"b'false'\",\"b'false'\",\"b'true'\",\"b'false'\",\"b'false'\",\"b'false'\",\"b'false'\",\"b'false'\",\"b'false'\",\"b'true'\",\"b'false'\",\"b'true'\",\"b'true'\",\"b'false'\",\"b'false'\",\"b'false'\",\"b'false'\",\"b'false'\",\"b'false'\",\"b'false'\",\"b'false'\",\"b'false'\",\"b'false'\",\"b'false'\",\"b'false'\",\"b'false'\",\"b'false'\",\"b'false'\",\"b'false'\",\"b'false'\",\"b'false'\",\"b'false'\",\"b'false'\",\"b'true'\",\"b'false'\",\"b'true'\",\"b'false'\",\"b'true'\",\"b'false'\",\"b'true'\",\"b'false'\",\"b'false'\",\"b'true'\",\"b'false'\",\"b'true'\",\"b'false'\",\"b'false'\",\"b'true'\",\"b'false'\",\"b'false'\",\"b'false'\",\"b'false'\",\"b'false'\",\"b'false'\",\"b'false'\",\"b'false'\",\"b'false'\",\"b'true'\",\"b'false'\",\"b'false'\",\"b'false'\",\"b'true'\",\"b'false'\",\"b'true'\",\"b'false'\",\"b'true'\",\"b'true'\",\"b'true'\",\"b'false'\",\"b'false'\",\"b'false'\",\"b'false'\",\"b'false'\",\"b'false'\",\"b'false'\",\"b'false'\",\"b'false'\",\"b'false'\",\"b'false'\",\"b'false'\",\"b'true'\",\"b'false'\",\"b'false'\",\"b'false'\",\"b'false'\",\"b'false'\",\"b'false'\",\"b'true'\",\"b'false'\",\"b'true'\",\"b'false'\",\"b'false'\",\"b'false'\",\"b'false'\",\"b'false'\",\"b'false'\",\"b'true'\",\"b'false'\",\"b'false'\",\"b'false'\",\"b'false'\",\"b'false'\",\"b'false'\",\"b'false'\",\"b'true'\",\"b'false'\",\"b'true'\",\"b'false'\",\"b'true'\",\"b'true'\",\"b'false'\",\"b'false'\",\"b'true'\",\"b'false'\",\"b'false'\",\"b'false'\",\"b'true'\",\"b'false'\",\"b'false'\",\"b'true'\",\"b'false'\",\"b'false'\",\"b'false'\",\"b'true'\",\"b'false'\",\"b'false'\",\"b'false'\",\"b'false'\",\"b'false'\",\"b'false'\",\"b'true'\",\"b'false'\",\"b'false'\",\"b'false'\",\"b'false'\",\"b'true'\",\"b'false'\",\"b'true'\",\"b'false'\",\"b'false'\",\"b'false'\",\"b'false'\",\"b'false'\",\"b'true'\",\"b'true'\",\"b'false'\",\"b'false'\",\"b'true'\",\"b'false'\",\"b'false'\",\"b'false'\",\"b'false'\",\"b'true'\",\"b'false'\",\"b'false'\",\"b'false'\",\"b'false'\",\"b'false'\",\"b'false'\",\"b'false'\",\"b'true'\",\"b'false'\",\"b'true'\",\"b'false'\",\"b'false'\",\"b'false'\",\"b'false'\",\"b'false'\",\"b'false'\",\"b'false'\",\"b'false'\",\"b'false'\",\"b'false'\",\"b'true'\",\"b'true'\",\"b'false'\",\"b'false'\",\"b'false'\",\"b'false'\",\"b'false'\",\"b'false'\",\"b'true'\",\"b'true'\",\"b'false'\",\"b'true'\",\"b'false'\",\"b'false'\",\"b'false'\",\"b'true'\",\"b'false'\",\"b'false'\",\"b'false'\",\"b'true'\",\"b'false'\",\"b'false'\",\"b'true'\",\"b'false'\",\"b'true'\",\"b'true'\",\"b'true'\",\"b'false'\",\"b'false'\",\"b'false'\",\"b'false'\",\"b'false'\",\"b'false'\",\"b'false'\",\"b'false'\",\"b'false'\",\"b'false'\",\"b'true'\",\"b'false'\",\"b'false'\",\"b'true'\",\"b'false'\",\"b'false'\",\"b'true'\",\"b'false'\",\"b'true'\",\"b'false'\",\"b'false'\",\"b'false'\",\"b'false'\",\"b'true'\",\"b'false'\",\"b'true'\",\"b'false'\",\"b'false'\",\"b'false'\",\"b'false'\",\"b'false'\",\"b'false'\",\"b'false'\",\"b'false'\",\"b'false'\",\"b'false'\",\"b'false'\",\"b'true'\",\"b'true'\",\"b'true'\",\"b'false'\",\"b'false'\",\"b'false'\",\"b'true'\",\"b'false'\",\"b'false'\",\"b'false'\",\"b'false'\",\"b'false'\",\"b'false'\",\"b'false'\",\"b'true'\",\"b'false'\",\"b'true'\",\"b'false'\",\"b'true'\",\"b'false'\",\"b'true'\",\"b'true'\",\"b'false'\",\"b'false'\",\"b'false'\",\"b'true'\",\"b'true'\",\"b'false'\",\"b'false'\",\"b'true'\",\"b'false'\",\"b'false'\",\"b'true'\",\"b'false'\",\"b'false'\",\"b'false'\",\"b'true'\",\"b'false'\",\"b'false'\",\"b'true'\",\"b'false'\",\"b'false'\",\"b'false'\",\"b'false'\",\"b'false'\",\"b'false'\",\"b'false'\",\"b'false'\",\"b'false'\",\"b'false'\",\"b'false'\",\"b'false'\",\"b'false'\",\"b'true'\",\"b'false'\",\"b'false'\",\"b'true'\",\"b'false'\",\"b'false'\",\"b'false'\",\"b'false'\",\"b'true'\",\"b'false'\",\"b'false'\",\"b'false'\",\"b'false'\",\"b'true'\",\"b'true'\",\"b'false'\",\"b'true'\",\"b'true'\",\"b'false'\",\"b'true'\",\"b'false'\",\"b'false'\",\"b'true'\",\"b'true'\",\"b'false'\",\"b'false'\",\"b'false'\",\"b'false'\",\"b'false'\",\"b'false'\",\"b'false'\",\"b'false'\",\"b'false'\",\"b'true'\",\"b'false'\",\"b'false'\",\"b'true'\",\"b'false'\",\"b'false'\",\"b'true'\",\"b'false'\",\"b'false'\",\"b'true'\",\"b'false'\",\"b'true'\",\"b'false'\",\"b'false'\",\"b'false'\",\"b'false'\",\"b'false'\",\"b'false'\",\"b'true'\",\"b'false'\",\"b'true'\",\"b'false'\",\"b'true'\",\"b'false'\",\"b'false'\",\"b'false'\",\"b'true'\",\"b'false'\",\"b'false'\",\"b'false'\",\"b'false'\",\"b'true'\",\"b'false'\",\"b'false'\",\"b'false'\",\"b'false'\",\"b'false'\",\"b'false'\",\"b'false'\",\"b'false'\",\"b'false'\",\"b'true'\",\"b'false'\",\"b'false'\",\"b'true'\",\"b'false'\",\"b'false'\",\"b'true'\",\"b'true'\",\"b'false'\",\"b'false'\",\"b'false'\",\"b'false'\",\"b'false'\",\"b'false'\",\"b'false'\",\"b'false'\",\"b'false'\",\"b'true'\",\"b'false'\",\"b'false'\",\"b'false'\",\"b'false'\",\"b'false'\",\"b'false'\",\"b'false'\",\"b'true'\",\"b'false'\",\"b'false'\",\"b'false'\",\"b'false'\",\"b'false'\",\"b'true'\",\"b'false'\",\"b'false'\",\"b'false'\",\"b'false'\",\"b'false'\",\"b'true'\",\"b'false'\",\"b'false'\",\"b'false'\",\"b'false'\",\"b'false'\",\"b'false'\",\"b'true'\",\"b'false'\",\"b'false'\",\"b'false'\",\"b'false'\",\"b'true'\",\"b'false'\",\"b'false'\",\"b'true'\",\"b'false'\",\"b'false'\",\"b'false'\",\"b'false'\",\"b'false'\",\"b'false'\",\"b'false'\",\"b'false'\",\"b'false'\",\"b'true'\",\"b'true'\",\"b'false'\",\"b'false'\",\"b'false'\",\"b'false'\",\"b'false'\",\"b'false'\",\"b'false'\",\"b'true'\",\"b'false'\",\"b'false'\",\"b'false'\",\"b'false'\",\"b'true'\",\"b'false'\",\"b'false'\",\"b'false'\",\"b'false'\",\"b'true'\",\"b'true'\",\"b'true'\",\"b'false'\",\"b'true'\",\"b'false'\",\"b'false'\",\"b'false'\",\"b'false'\",\"b'true'\",\"b'false'\",\"b'true'\",\"b'false'\",\"b'false'\",\"b'false'\",\"b'false'\",\"b'false'\",\"b'false'\",\"b'true'\",\"b'false'\",\"b'true'\",\"b'true'\",\"b'false'\",\"b'false'\",\"b'true'\",\"b'false'\",\"b'false'\",\"b'false'\",\"b'false'\",\"b'false'\",\"b'true'\",\"b'false'\",\"b'false'\",\"b'false'\",\"b'false'\",\"b'false'\",\"b'false'\",\"b'false'\",\"b'false'\",\"b'false'\",\"b'true'\",\"b'false'\",\"b'true'\",\"b'true'\",\"b'false'\",\"b'false'\",\"b'false'\",\"b'false'\",\"b'true'\",\"b'false'\",\"b'false'\",\"b'true'\",\"b'false'\",\"b'false'\",\"b'false'\",\"b'false'\",\"b'false'\",\"b'true'\",\"b'true'\",\"b'false'\",\"b'false'\",\"b'false'\",\"b'true'\",\"b'false'\",\"b'false'\",\"b'false'\",\"b'false'\",\"b'false'\",\"b'false'\",\"b'false'\",\"b'false'\",\"b'false'\",\"b'false'\",\"b'false'\",\"b'false'\",\"b'true'\",\"b'true'\",\"b'false'\",\"b'false'\",\"b'true'\",\"b'false'\",\"b'false'\",\"b'true'\",\"b'true'\",\"b'true'\",\"b'false'\",\"b'false'\",\"b'true'\",\"b'false'\",\"b'false'\",\"b'false'\",\"b'false'\",\"b'false'\",\"b'false'\",\"b'false'\",\"b'false'\",\"b'false'\",\"b'true'\",\"b'true'\",\"b'false'\",\"b'false'\",\"b'false'\",\"b'false'\",\"b'false'\",\"b'true'\",\"b'false'\",\"b'false'\",\"b'false'\",\"b'false'\",\"b'true'\",\"b'false'\",\"b'false'\",\"b'false'\",\"b'false'\",\"b'false'\",\"b'true'\",\"b'true'\",\"b'false'\",\"b'false'\",\"b'false'\",\"b'true'\",\"b'false'\",\"b'false'\",\"b'true'\",\"b'true'\",\"b'false'\",\"b'false'\",\"b'false'\",\"b'false'\",\"b'true'\",\"b'true'\",\"b'false'\",\"b'false'\",\"b'true'\",\"b'false'\",\"b'true'\",\"b'false'\",\"b'true'\",\"b'false'\",\"b'false'\",\"b'true'\",\"b'true'\",\"b'true'\",\"b'true'\",\"b'true'\",\"b'false'\",\"b'false'\",\"b'false'\",\"b'true'\",\"b'false'\",\"b'false'\",\"b'false'\",\"b'false'\",\"b'false'\",\"b'false'\",\"b'false'\",\"b'false'\",\"b'false'\",\"b'false'\",\"b'false'\",\"b'true'\",\"b'false'\",\"b'false'\",\"b'false'\",\"b'false'\",\"b'false'\",\"b'false'\",\"b'false'\",\"b'true'\",\"b'false'\",\"b'true'\",\"b'false'\",\"b'true'\",\"b'false'\",\"b'false'\",\"b'false'\",\"b'false'\",\"b'false'\",\"b'false'\",\"b'true'\",\"b'false'\",\"b'false'\",\"b'true'\",\"b'false'\",\"b'false'\",\"b'false'\",\"b'true'\",\"b'false'\",\"b'false'\",\"b'false'\",\"b'false'\",\"b'false'\",\"b'false'\",\"b'false'\",\"b'false'\",\"b'true'\",\"b'false'\",\"b'false'\",\"b'false'\",\"b'true'\",\"b'true'\",\"b'false'\",\"b'false'\",\"b'true'\",\"b'false'\",\"b'true'\",\"b'true'\",\"b'true'\",\"b'false'\",\"b'false'\",\"b'false'\",\"b'false'\",\"b'false'\",\"b'false'\",\"b'false'\",\"b'false'\",\"b'false'\",\"b'false'\",\"b'false'\",\"b'true'\",\"b'true'\",\"b'false'\",\"b'false'\",\"b'true'\",\"b'false'\",\"b'false'\",\"b'false'\",\"b'true'\",\"b'true'\",\"b'false'\",\"b'false'\",\"b'false'\",\"b'false'\",\"b'true'\",\"b'true'\",\"b'true'\",\"b'false'\",\"b'true'\",\"b'true'\",\"b'false'\",\"b'true'\",\"b'false'\",\"b'false'\",\"b'false'\",\"b'true'\",\"b'true'\",\"b'false'\",\"b'false'\",\"b'false'\",\"b'false'\",\"b'false'\",\"b'false'\",\"b'true'\",\"b'false'\",\"b'true'\",\"b'false'\",\"b'false'\",\"b'false'\",\"b'false'\",\"b'false'\",\"b'false'\",\"b'true'\",\"b'true'\",\"b'true'\",\"b'false'\",\"b'false'\",\"b'true'\",\"b'false'\",\"b'false'\",\"b'true'\",\"b'false'\",\"b'false'\",\"b'false'\",\"b'false'\",\"b'false'\",\"b'true'\",\"b'false'\",\"b'false'\",\"b'false'\",\"b'true'\",\"b'true'\",\"b'false'\",\"b'false'\",\"b'false'\",\"b'false'\",\"b'false'\",\"b'false'\",\"b'true'\",\"b'false'\",\"b'true'\",\"b'false'\",\"b'false'\",\"b'false'\",\"b'true'\",\"b'false'\",\"b'false'\",\"b'false'\",\"b'false'\",\"b'true'\",\"b'false'\",\"b'false'\",\"b'false'\",\"b'true'\",\"b'false'\",\"b'false'\",\"b'false'\",\"b'true'\",\"b'false'\",\"b'false'\",\"b'false'\",\"b'true'\",\"b'false'\",\"b'false'\",\"b'true'\",\"b'true'\",\"b'false'\",\"b'false'\",\"b'false'\",\"b'false'\",\"b'false'\",\"b'false'\",\"b'true'\",\"b'false'\",\"b'false'\",\"b'true'\",\"b'false'\",\"b'false'\",\"b'false'\",\"b'true'\",\"b'false'\",\"b'false'\",\"b'false'\",\"b'false'\",\"b'false'\",\"b'true'\",\"b'true'\",\"b'false'\",\"b'true'\",\"b'false'\",\"b'false'\",\"b'true'\",\"b'false'\",\"b'true'\",\"b'true'\",\"b'false'\",\"b'false'\",\"b'true'\",\"b'true'\",\"b'false'\",\"b'false'\",\"b'true'\",\"b'false'\",\"b'false'\",\"b'true'\",\"b'true'\",\"b'false'\",\"b'true'\",\"b'true'\",\"b'true'\",\"b'true'\",\"b'false'\",\"b'false'\",\"b'false'\",\"b'false'\",\"b'false'\",\"b'false'\",\"b'false'\",\"b'false'\",\"b'true'\",\"b'true'\",\"b'false'\",\"b'true'\",\"b'true'\",\"b'true'\",\"b'false'\",\"b'true'\",\"b'false'\",\"b'true'\",\"b'false'\",\"b'false'\",\"b'false'\",\"b'false'\",\"b'true'\",\"b'false'\",\"b'false'\",\"b'false'\",\"b'true'\",\"b'false'\",\"b'false'\",\"b'false'\",\"b'true'\",\"b'false'\",\"b'false'\",\"b'false'\",\"b'false'\",\"b'false'\",\"b'false'\",\"b'true'\",\"b'false'\",\"b'true'\",\"b'false'\",\"b'false'\",\"b'true'\",\"b'false'\",\"b'true'\",\"b'false'\",\"b'true'\",\"b'false'\",\"b'false'\",\"b'false'\",\"b'false'\",\"b'true'\",\"b'false'\",\"b'false'\",\"b'false'\",\"b'true'\",\"b'true'\",\"b'false'\",\"b'false'\",\"b'false'\",\"b'false'\",\"b'false'\",\"b'true'\",\"b'true'\",\"b'false'\",\"b'false'\",\"b'false'\",\"b'true'\",\"b'false'\",\"b'false'\",\"b'false'\",\"b'false'\",\"b'false'\",\"b'false'\",\"b'false'\",\"b'false'\",\"b'false'\",\"b'false'\",\"b'true'\",\"b'false'\",\"b'false'\",\"b'false'\",\"b'false'\",\"b'false'\",\"b'false'\",\"b'false'\",\"b'false'\",\"b'false'\",\"b'false'\",\"b'false'\",\"b'true'\",\"b'true'\",\"b'false'\",\"b'false'\",\"b'false'\",\"b'true'\",\"b'false'\",\"b'false'\",\"b'false'\",\"b'false'\",\"b'false'\",\"b'false'\",\"b'true'\",\"b'false'\",\"b'false'\",\"b'false'\",\"b'true'\",\"b'false'\",\"b'false'\",\"b'true'\",\"b'false'\",\"b'false'\",\"b'false'\",\"b'true'\",\"b'true'\",\"b'false'\",\"b'true'\",\"b'false'\",\"b'true'\",\"b'false'\",\"b'false'\",\"b'false'\",\"b'false'\",\"b'true'\",\"b'false'\",\"b'false'\",\"b'false'\",\"b'false'\",\"b'false'\",\"b'false'\",\"b'false'\",\"b'false'\",\"b'false'\",\"b'false'\",\"b'true'\",\"b'false'\",\"b'false'\",\"b'false'\",\"b'true'\",\"b'false'\",\"b'true'\",\"b'false'\",\"b'true'\",\"b'true'\",\"b'false'\",\"b'true'\",\"b'false'\",\"b'false'\",\"b'false'\",\"b'false'\",\"b'true'\",\"b'false'\",\"b'false'\",\"b'false'\",\"b'true'\",\"b'false'\",\"b'true'\",\"b'false'\",\"b'false'\",\"b'false'\",\"b'false'\",\"b'true'\",\"b'false'\",\"b'false'\",\"b'false'\",\"b'true'\",\"b'true'\",\"b'false'\",\"b'false'\",\"b'false'\",\"b'false'\",\"b'false'\",\"b'false'\",\"b'true'\",\"b'false'\",\"b'true'\",\"b'false'\",\"b'true'\",\"b'false'\",\"b'true'\",\"b'false'\",\"b'false'\",\"b'false'\",\"b'true'\",\"b'false'\",\"b'false'\",\"b'true'\"]\n",
    "outliers = [\"b'true'\",\"b'false'\",\"b'false'\",\"b'false'\",\"b'false'\",\"b'false'\"\n",
    ",\"b'true'\",\"b'false'\",\"b'false'\",\"b'false'\",\"b'false'\",\"b'false'\"\n",
    ",\"b'false'\",\"b'false'\",\"b'true'\",\"b'true'\",\"b'false'\",\"b'false'\"\n",
    ",\"b'false'\",\"b'false'\",\"b'true'\",\"b'true'\",\"b'true'\",\"b'false'\",\"b'false'\"\n",
    ",\"b'false'\",\"b'false'\",\"b'true'\",\"b'false'\",\"b'false'\",\"b'true'\",\"b'true'\"\n",
    ",\"b'false'\",\"b'false'\",\"b'false'\",\"b'false'\",\"b'false'\",\"b'false'\"\n",
    ",\"b'true'\",\"b'false'\",\"b'true'\",\"b'true'\",\"b'false'\",\"b'false'\",\"b'true'\"\n",
    ",\"b'false'\",\"b'true'\",\"b'false'\",\"b'false'\",\"b'true'\",\"b'true'\",\"b'false'\"\n",
    ",\"b'false'\",\"b'false'\",\"b'true'\",\"b'false'\",\"b'false'\",\"b'false'\"\n",
    ",\"b'false'\",\"b'false'\",\"b'false'\",\"b'false'\",\"b'false'\",\"b'true'\"\n",
    ",\"b'true'\",\"b'true'\",\"b'false'\",\"b'false'\",\"b'true'\",\"b'false'\",\"b'false'\"\n",
    ",\"b'false'\",\"b'false'\",\"b'false'\",\"b'false'\",\"b'false'\",\"b'false'\"\n",
    ",\"b'true'\",\"b'true'\",\"b'false'\",\"b'false'\",\"b'false'\",\"b'false'\",\"b'true'\"\n",
    ",\"b'false'\",\"b'true'\",\"b'false'\",\"b'true'\",\"b'false'\",\"b'false'\"\n",
    ",\"b'false'\",\"b'false'\",\"b'false'\",\"b'true'\",\"b'false'\",\"b'false'\"\n",
    ",\"b'false'\",\"b'false'\",\"b'false'\",\"b'false'\",\"b'true'\",\"b'false'\"\n",
    ",\"b'true'\",\"b'false'\",\"b'false'\",\"b'true'\",\"b'false'\",\"b'false'\"\n",
    ",\"b'false'\",\"b'false'\",\"b'false'\",\"b'true'\",\"b'false'\",\"b'false'\"\n",
    ",\"b'false'\",\"b'false'\",\"b'false'\",\"b'false'\",\"b'false'\",\"b'true'\"\n",
    ",\"b'false'\",\"b'false'\",\"b'false'\",\"b'false'\",\"b'false'\",\"b'true'\"\n",
    ",\"b'true'\",\"b'true'\",\"b'false'\",\"b'true'\",\"b'false'\",\"b'false'\",\"b'false'\"\n",
    ",\"b'false'\",\"b'false'\",\"b'false'\",\"b'true'\",\"b'false'\",\"b'true'\",\"b'true'\"\n",
    ",\"b'false'\",\"b'true'\",\"b'true'\",\"b'false'\",\"b'false'\",\"b'true'\",\"b'false'\"\n",
    ",\"b'false'\",\"b'true'\",\"b'true'\",\"b'false'\",\"b'false'\",\"b'false'\",\"b'true'\"\n",
    ",\"b'true'\",\"b'false'\",\"b'false'\",\"b'false'\",\"b'false'\",\"b'false'\"\n",
    ",\"b'false'\",\"b'false'\",\"b'false'\",\"b'false'\",\"b'false'\",\"b'false'\"\n",
    ",\"b'false'\",\"b'false'\",\"b'true'\",\"b'false'\",\"b'false'\",\"b'false'\"\n",
    ",\"b'false'\",\"b'false'\",\"b'false'\",\"b'false'\",\"b'false'\",\"b'true'\"\n",
    ",\"b'false'\",\"b'true'\",\"b'false'\",\"b'false'\",\"b'false'\",\"b'true'\"\n",
    ",\"b'false'\",\"b'true'\",\"b'false'\",\"b'false'\",\"b'false'\",\"b'false'\"\n",
    ",\"b'false'\",\"b'false'\",\"b'false'\",\"b'false'\",\"b'true'\",\"b'true'\",\"b'true'\"\n",
    ",\"b'true'\",\"b'false'\",\"b'false'\",\"b'false'\",\"b'false'\",\"b'false'\"\n",
    ",\"b'false'\",\"b'true'\",\"b'false'\",\"b'false'\",\"b'true'\",\"b'false'\"\n",
    ",\"b'false'\",\"b'true'\",\"b'true'\",\"b'false'\",\"b'false'\",\"b'false'\"\n",
    ",\"b'false'\",\"b'true'\",\"b'true'\",\"b'true'\",\"b'false'\",\"b'false'\",\"b'true'\"\n",
    ",\"b'true'\",\"b'false'\",\"b'true'\",\"b'false'\",\"b'false'\",\"b'false'\"\n",
    ",\"b'false'\",\"b'false'\",\"b'false'\",\"b'true'\",\"b'true'\",\"b'false'\"\n",
    ",\"b'false'\",\"b'false'\",\"b'false'\",\"b'false'\",\"b'false'\",\"b'false'\"\n",
    ",\"b'false'\",\"b'false'\",\"b'false'\",\"b'true'\",\"b'false'\",\"b'false'\"\n",
    ",\"b'false'\",\"b'false'\",\"b'true'\",\"b'false'\",\"b'false'\",\"b'false'\"\n",
    ",\"b'true'\",\"b'true'\",\"b'false'\",\"b'true'\",\"b'true'\",\"b'true'\",\"b'false'\"\n",
    ",\"b'false'\",\"b'false'\",\"b'false'\",\"b'false'\",\"b'true'\",\"b'false'\"\n",
    ",\"b'true'\",\"b'false'\",\"b'false'\",\"b'false'\",\"b'true'\",\"b'true'\",\"b'true'\"\n",
    ",\"b'true'\",\"b'false'\",\"b'true'\",\"b'true'\",\"b'true'\",\"b'true'\",\"b'false'\"\n",
    ",\"b'false'\",\"b'false'\",\"b'false'\",\"b'true'\",\"b'true'\",\"b'false'\"\n",
    ",\"b'false'\",\"b'true'\",\"b'true'\",\"b'false'\",\"b'false'\",\"b'true'\",\"b'false'\"\n",
    ",\"b'false'\",\"b'true'\",\"b'true'\",\"b'false'\",\"b'false'\",\"b'false'\"\n",
    ",\"b'false'\",\"b'true'\",\"b'false'\",\"b'false'\",\"b'false'\",\"b'false'\"\n",
    ",\"b'false'\",\"b'true'\",\"b'false'\",\"b'false'\",\"b'false'\",\"b'false'\"\n",
    ",\"b'false'\",\"b'false'\",\"b'true'\",\"b'true'\",\"b'false'\",\"b'false'\",\"b'true'\"\n",
    ",\"b'true'\",\"b'false'\",\"b'true'\",\"b'false'\",\"b'true'\",\"b'true'\",\"b'false'\"\n",
    ",\"b'false'\",\"b'false'\"]\n",
    "results = kc1_40_k3 + outliers\n",
    "len(results)"
   ]
  },
  {
   "cell_type": "code",
   "execution_count": 120,
   "id": "a45ca3cd",
   "metadata": {},
   "outputs": [
    {
     "data": {
      "text/plain": [
       "1396"
      ]
     },
     "execution_count": 120,
     "metadata": {},
     "output_type": "execute_result"
    }
   ],
   "source": [
    "gt_false = [\"b'false'\" for _ in range(len(kc1_40_k3))]\n",
    "gt_true = [\"b'true'\" for _ in range(len(outliers))]\n",
    "gt = gt_false + gt_true\n",
    "len(gt)"
   ]
  },
  {
   "cell_type": "code",
   "execution_count": 121,
   "id": "313afb75",
   "metadata": {
    "scrolled": false
   },
   "outputs": [
    {
     "data": {
      "text/plain": [
       "<sklearn.metrics._plot.confusion_matrix.ConfusionMatrixDisplay at 0x7f69b6feebb0>"
      ]
     },
     "execution_count": 121,
     "metadata": {},
     "output_type": "execute_result"
    },
    {
     "data": {
      "image/png": "[encoded data removed]",
      "text/plain": [
       "<Figure size 432x288 with 2 Axes>"
      ]
     },
     "metadata": {
      "needs_background": "light"
     },
     "output_type": "display_data"
    }
   ],
   "source": [
    "matrix = confusion_matrix(gt, results, labels=[\"b'false'\", \"b'true'\"])\n",
    "display = ConfusionMatrixDisplay(confusion_matrix=matrix, display_labels=[\"b'false'\", \"b'true'\"])\n",
    "display.plot()"
   ]
  },
  {
   "cell_type": "code",
   "execution_count": 161,
   "id": "ce0dde2d",
   "metadata": {},
   "outputs": [
    {
     "data": {
      "text/plain": [
       "0.28410689170182835"
      ]
     },
     "execution_count": 161,
     "metadata": {},
     "output_type": "execute_result"
    }
   ],
   "source": [
    "tn = 786\n",
    "fp = 284\n",
    "fn = 225\n",
    "tp = 101\n",
    "r = recall(tp, fn)\n",
    "p = precision(tp, fp)\n",
    "f1_measure = f1(r, p)\n",
    "f1_measure"
   ]
  },
  {
   "cell_type": "markdown",
   "id": "8ad727e8",
   "metadata": {},
   "source": [
    "### k=5"
   ]
  },
  {
   "cell_type": "code",
   "execution_count": 132,
   "id": "25bf316b",
   "metadata": {},
   "outputs": [
    {
     "data": {
      "text/plain": [
       "1396"
      ]
     },
     "execution_count": 132,
     "metadata": {},
     "output_type": "execute_result"
    }
   ],
   "source": [
    "kc1_40_k5 = [\"b'false'\",\"b'true'\",\"b'true'\",\"b'false'\",\"b'true'\",\"b'false'\",\"b'false'\",\"b'false'\",\"b'false'\",\"b'true'\",\"b'true'\",\"b'false'\",\"b'false'\",\"b'false'\",\"b'false'\",\"b'false'\",\"b'false'\",\"b'false'\",\"b'false'\",\"b'false'\",\"b'false'\",\"b'true'\",\"b'false'\",\"b'false'\",\"b'false'\",\"b'false'\",\"b'true'\",\"b'false'\",\"b'false'\",\"b'true'\",\"b'true'\",\"b'false'\",\"b'false'\",\"b'true'\",\"b'false'\",\"b'false'\",\"b'false'\",\"b'true'\",\"b'false'\",\"b'false'\",\"b'false'\",\"b'false'\",\"b'false'\",\"b'false'\",\"b'true'\",\"b'false'\",\"b'false'\",\"b'false'\",\"b'false'\",\"b'false'\",\"b'false'\",\"b'false'\",\"b'false'\",\"b'true'\",\"b'false'\",\"b'false'\",\"b'false'\",\"b'false'\",\"b'false'\",\"b'true'\",\"b'true'\",\"b'false'\",\"b'false'\",\"b'false'\",\"b'true'\",\"b'false'\",\"b'false'\",\"b'false'\",\"b'true'\",\"b'false'\",\"b'false'\",\"b'false'\",\"b'true'\",\"b'true'\",\"b'false'\",\"b'true'\",\"b'false'\",\"b'true'\",\"b'false'\",\"b'false'\",\"b'true'\",\"b'false'\",\"b'false'\",\"b'false'\",\"b'false'\",\"b'false'\",\"b'false'\",\"b'true'\",\"b'false'\",\"b'true'\",\"b'true'\",\"b'false'\",\"b'false'\",\"b'false'\",\"b'true'\",\"b'false'\",\"b'false'\",\"b'false'\",\"b'false'\",\"b'false'\",\"b'false'\",\"b'false'\",\"b'false'\",\"b'false'\",\"b'true'\",\"b'false'\",\"b'true'\",\"b'true'\",\"b'true'\",\"b'false'\",\"b'false'\",\"b'true'\",\"b'true'\",\"b'true'\",\"b'true'\",\"b'true'\",\"b'false'\",\"b'true'\",\"b'true'\",\"b'false'\",\"b'true'\",\"b'false'\",\"b'true'\",\"b'false'\",\"b'false'\",\"b'true'\",\"b'false'\",\"b'false'\",\"b'false'\",\"b'false'\",\"b'false'\",\"b'false'\",\"b'false'\",\"b'false'\",\"b'true'\",\"b'true'\",\"b'false'\",\"b'false'\",\"b'false'\",\"b'true'\",\"b'false'\",\"b'true'\",\"b'false'\",\"b'true'\",\"b'true'\",\"b'true'\",\"b'false'\",\"b'false'\",\"b'false'\",\"b'false'\",\"b'false'\",\"b'false'\",\"b'false'\",\"b'false'\",\"b'false'\",\"b'false'\",\"b'false'\",\"b'false'\",\"b'true'\",\"b'false'\",\"b'false'\",\"b'false'\",\"b'false'\",\"b'false'\",\"b'false'\",\"b'true'\",\"b'false'\",\"b'true'\",\"b'false'\",\"b'false'\",\"b'false'\",\"b'true'\",\"b'false'\",\"b'false'\",\"b'true'\",\"b'false'\",\"b'false'\",\"b'false'\",\"b'false'\",\"b'false'\",\"b'false'\",\"b'false'\",\"b'true'\",\"b'false'\",\"b'true'\",\"b'false'\",\"b'true'\",\"b'true'\",\"b'true'\",\"b'false'\",\"b'true'\",\"b'false'\",\"b'true'\",\"b'true'\",\"b'true'\",\"b'false'\",\"b'false'\",\"b'true'\",\"b'false'\",\"b'false'\",\"b'false'\",\"b'true'\",\"b'false'\",\"b'false'\",\"b'false'\",\"b'false'\",\"b'false'\",\"b'false'\",\"b'true'\",\"b'false'\",\"b'false'\",\"b'false'\",\"b'false'\",\"b'true'\",\"b'false'\",\"b'true'\",\"b'false'\",\"b'false'\",\"b'false'\",\"b'false'\",\"b'false'\",\"b'true'\",\"b'true'\",\"b'false'\",\"b'false'\",\"b'true'\",\"b'false'\",\"b'false'\",\"b'false'\",\"b'false'\",\"b'true'\",\"b'true'\",\"b'false'\",\"b'false'\",\"b'true'\",\"b'false'\",\"b'false'\",\"b'false'\",\"b'true'\",\"b'false'\",\"b'true'\",\"b'false'\",\"b'false'\",\"b'false'\",\"b'false'\",\"b'false'\",\"b'false'\",\"b'false'\",\"b'false'\",\"b'false'\",\"b'false'\",\"b'true'\",\"b'true'\",\"b'false'\",\"b'false'\",\"b'false'\",\"b'true'\",\"b'false'\",\"b'true'\",\"b'true'\",\"b'true'\",\"b'false'\",\"b'true'\",\"b'false'\",\"b'true'\",\"b'false'\",\"b'true'\",\"b'false'\",\"b'false'\",\"b'false'\",\"b'true'\",\"b'false'\",\"b'false'\",\"b'true'\",\"b'false'\",\"b'true'\",\"b'true'\",\"b'true'\",\"b'false'\",\"b'false'\",\"b'false'\",\"b'false'\",\"b'false'\",\"b'false'\",\"b'false'\",\"b'false'\",\"b'false'\",\"b'false'\",\"b'true'\",\"b'false'\",\"b'false'\",\"b'true'\",\"b'false'\",\"b'true'\",\"b'true'\",\"b'false'\",\"b'true'\",\"b'false'\",\"b'false'\",\"b'false'\",\"b'false'\",\"b'true'\",\"b'false'\",\"b'true'\",\"b'false'\",\"b'false'\",\"b'false'\",\"b'false'\",\"b'false'\",\"b'false'\",\"b'false'\",\"b'false'\",\"b'false'\",\"b'false'\",\"b'false'\",\"b'true'\",\"b'true'\",\"b'true'\",\"b'false'\",\"b'false'\",\"b'false'\",\"b'true'\",\"b'false'\",\"b'true'\",\"b'false'\",\"b'false'\",\"b'false'\",\"b'false'\",\"b'true'\",\"b'true'\",\"b'true'\",\"b'true'\",\"b'false'\",\"b'true'\",\"b'false'\",\"b'true'\",\"b'true'\",\"b'false'\",\"b'true'\",\"b'false'\",\"b'true'\",\"b'true'\",\"b'true'\",\"b'false'\",\"b'true'\",\"b'false'\",\"b'false'\",\"b'true'\",\"b'false'\",\"b'false'\",\"b'false'\",\"b'true'\",\"b'false'\",\"b'false'\",\"b'true'\",\"b'false'\",\"b'false'\",\"b'false'\",\"b'true'\",\"b'false'\",\"b'false'\",\"b'true'\",\"b'false'\",\"b'false'\",\"b'false'\",\"b'true'\",\"b'false'\",\"b'false'\",\"b'true'\",\"b'false'\",\"b'false'\",\"b'true'\",\"b'false'\",\"b'false'\",\"b'false'\",\"b'false'\",\"b'true'\",\"b'false'\",\"b'false'\",\"b'false'\",\"b'false'\",\"b'true'\",\"b'true'\",\"b'false'\",\"b'true'\",\"b'true'\",\"b'false'\",\"b'true'\",\"b'false'\",\"b'true'\",\"b'true'\",\"b'true'\",\"b'false'\",\"b'true'\",\"b'false'\",\"b'false'\",\"b'false'\",\"b'false'\",\"b'false'\",\"b'true'\",\"b'false'\",\"b'true'\",\"b'false'\",\"b'false'\",\"b'true'\",\"b'false'\",\"b'false'\",\"b'true'\",\"b'false'\",\"b'false'\",\"b'true'\",\"b'false'\",\"b'true'\",\"b'false'\",\"b'false'\",\"b'false'\",\"b'false'\",\"b'true'\",\"b'false'\",\"b'true'\",\"b'false'\",\"b'true'\",\"b'false'\",\"b'true'\",\"b'false'\",\"b'false'\",\"b'false'\",\"b'true'\",\"b'false'\",\"b'false'\",\"b'false'\",\"b'false'\",\"b'true'\",\"b'false'\",\"b'false'\",\"b'false'\",\"b'false'\",\"b'true'\",\"b'false'\",\"b'false'\",\"b'false'\",\"b'false'\",\"b'true'\",\"b'false'\",\"b'false'\",\"b'true'\",\"b'false'\",\"b'false'\",\"b'true'\",\"b'true'\",\"b'false'\",\"b'false'\",\"b'false'\",\"b'true'\",\"b'false'\",\"b'false'\",\"b'false'\",\"b'false'\",\"b'true'\",\"b'true'\",\"b'false'\",\"b'false'\",\"b'false'\",\"b'false'\",\"b'false'\",\"b'false'\",\"b'false'\",\"b'true'\",\"b'false'\",\"b'false'\",\"b'false'\",\"b'false'\",\"b'false'\",\"b'true'\",\"b'false'\",\"b'false'\",\"b'false'\",\"b'false'\",\"b'false'\",\"b'true'\",\"b'false'\",\"b'false'\",\"b'true'\",\"b'false'\",\"b'false'\",\"b'false'\",\"b'true'\",\"b'true'\",\"b'false'\",\"b'false'\",\"b'false'\",\"b'true'\",\"b'true'\",\"b'false'\",\"b'true'\",\"b'false'\",\"b'false'\",\"b'false'\",\"b'false'\",\"b'false'\",\"b'false'\",\"b'false'\",\"b'false'\",\"b'false'\",\"b'true'\",\"b'true'\",\"b'false'\",\"b'false'\",\"b'false'\",\"b'false'\",\"b'false'\",\"b'false'\",\"b'true'\",\"b'true'\",\"b'false'\",\"b'false'\",\"b'false'\",\"b'false'\",\"b'true'\",\"b'false'\",\"b'false'\",\"b'false'\",\"b'false'\",\"b'true'\",\"b'true'\",\"b'true'\",\"b'false'\",\"b'true'\",\"b'false'\",\"b'false'\",\"b'false'\",\"b'false'\",\"b'true'\",\"b'false'\",\"b'true'\",\"b'false'\",\"b'false'\",\"b'false'\",\"b'false'\",\"b'false'\",\"b'false'\",\"b'true'\",\"b'false'\",\"b'true'\",\"b'true'\",\"b'false'\",\"b'false'\",\"b'true'\",\"b'true'\",\"b'false'\",\"b'false'\",\"b'false'\",\"b'false'\",\"b'true'\",\"b'false'\",\"b'false'\",\"b'true'\",\"b'false'\",\"b'false'\",\"b'false'\",\"b'false'\",\"b'true'\",\"b'false'\",\"b'true'\",\"b'false'\",\"b'true'\",\"b'true'\",\"b'false'\",\"b'false'\",\"b'false'\",\"b'false'\",\"b'true'\",\"b'true'\",\"b'false'\",\"b'true'\",\"b'false'\",\"b'false'\",\"b'true'\",\"b'false'\",\"b'false'\",\"b'true'\",\"b'true'\",\"b'false'\",\"b'false'\",\"b'false'\",\"b'true'\",\"b'false'\",\"b'false'\",\"b'false'\",\"b'true'\",\"b'false'\",\"b'false'\",\"b'false'\",\"b'false'\",\"b'false'\",\"b'false'\",\"b'false'\",\"b'false'\",\"b'true'\",\"b'true'\",\"b'false'\",\"b'false'\",\"b'true'\",\"b'false'\",\"b'false'\",\"b'true'\",\"b'true'\",\"b'true'\",\"b'false'\",\"b'false'\",\"b'true'\",\"b'false'\",\"b'false'\",\"b'false'\",\"b'true'\",\"b'false'\",\"b'false'\",\"b'false'\",\"b'false'\",\"b'false'\",\"b'true'\",\"b'true'\",\"b'false'\",\"b'false'\",\"b'false'\",\"b'false'\",\"b'false'\",\"b'true'\",\"b'false'\",\"b'true'\",\"b'false'\",\"b'false'\",\"b'true'\",\"b'false'\",\"b'false'\",\"b'false'\",\"b'false'\",\"b'false'\",\"b'true'\",\"b'true'\",\"b'false'\",\"b'false'\",\"b'false'\",\"b'true'\",\"b'false'\",\"b'false'\",\"b'true'\",\"b'true'\",\"b'false'\",\"b'true'\",\"b'false'\",\"b'false'\",\"b'true'\",\"b'true'\",\"b'false'\",\"b'false'\",\"b'true'\",\"b'false'\",\"b'true'\",\"b'false'\",\"b'true'\",\"b'false'\",\"b'false'\",\"b'true'\",\"b'true'\",\"b'true'\",\"b'true'\",\"b'true'\",\"b'false'\",\"b'false'\",\"b'true'\",\"b'true'\",\"b'false'\",\"b'false'\",\"b'false'\",\"b'true'\",\"b'false'\",\"b'false'\",\"b'false'\",\"b'false'\",\"b'false'\",\"b'true'\",\"b'false'\",\"b'true'\",\"b'false'\",\"b'false'\",\"b'false'\",\"b'false'\",\"b'false'\",\"b'false'\",\"b'false'\",\"b'true'\",\"b'false'\",\"b'true'\",\"b'false'\",\"b'true'\",\"b'false'\",\"b'false'\",\"b'false'\",\"b'false'\",\"b'false'\",\"b'false'\",\"b'true'\",\"b'false'\",\"b'true'\",\"b'true'\",\"b'false'\",\"b'false'\",\"b'false'\",\"b'true'\",\"b'false'\",\"b'false'\",\"b'true'\",\"b'false'\",\"b'false'\",\"b'false'\",\"b'false'\",\"b'false'\",\"b'true'\",\"b'false'\",\"b'false'\",\"b'false'\",\"b'true'\",\"b'true'\",\"b'false'\",\"b'false'\",\"b'true'\",\"b'false'\",\"b'true'\",\"b'true'\",\"b'true'\",\"b'true'\",\"b'false'\",\"b'false'\",\"b'false'\",\"b'false'\",\"b'false'\",\"b'false'\",\"b'false'\",\"b'false'\",\"b'false'\",\"b'false'\",\"b'true'\",\"b'true'\",\"b'true'\",\"b'false'\",\"b'true'\",\"b'false'\",\"b'false'\",\"b'true'\",\"b'true'\",\"b'true'\",\"b'false'\",\"b'true'\",\"b'false'\",\"b'false'\",\"b'true'\",\"b'true'\",\"b'true'\",\"b'false'\",\"b'true'\",\"b'true'\",\"b'false'\",\"b'true'\",\"b'false'\",\"b'false'\",\"b'false'\",\"b'true'\",\"b'true'\",\"b'false'\",\"b'true'\",\"b'false'\",\"b'false'\",\"b'false'\",\"b'false'\",\"b'true'\",\"b'true'\",\"b'true'\",\"b'false'\",\"b'false'\",\"b'true'\",\"b'true'\",\"b'true'\",\"b'false'\",\"b'true'\",\"b'true'\",\"b'true'\",\"b'false'\",\"b'false'\",\"b'true'\",\"b'false'\",\"b'false'\",\"b'true'\",\"b'false'\",\"b'false'\",\"b'false'\",\"b'false'\",\"b'true'\",\"b'true'\",\"b'false'\",\"b'false'\",\"b'false'\",\"b'true'\",\"b'true'\",\"b'false'\",\"b'false'\",\"b'false'\",\"b'false'\",\"b'false'\",\"b'false'\",\"b'true'\",\"b'false'\",\"b'true'\",\"b'false'\",\"b'false'\",\"b'false'\",\"b'true'\",\"b'false'\",\"b'false'\",\"b'false'\",\"b'false'\",\"b'true'\",\"b'false'\",\"b'true'\",\"b'true'\",\"b'true'\",\"b'false'\",\"b'true'\",\"b'false'\",\"b'true'\",\"b'false'\",\"b'false'\",\"b'false'\",\"b'true'\",\"b'false'\",\"b'false'\",\"b'true'\",\"b'true'\",\"b'false'\",\"b'false'\",\"b'false'\",\"b'false'\",\"b'false'\",\"b'false'\",\"b'true'\",\"b'false'\",\"b'false'\",\"b'true'\",\"b'false'\",\"b'false'\",\"b'false'\",\"b'true'\",\"b'true'\",\"b'false'\",\"b'false'\",\"b'false'\",\"b'false'\",\"b'true'\",\"b'true'\",\"b'false'\",\"b'true'\",\"b'false'\",\"b'false'\",\"b'true'\",\"b'false'\",\"b'true'\",\"b'true'\",\"b'false'\",\"b'false'\",\"b'true'\",\"b'true'\",\"b'false'\",\"b'false'\",\"b'true'\",\"b'true'\",\"b'false'\",\"b'true'\",\"b'true'\",\"b'false'\",\"b'true'\",\"b'true'\",\"b'true'\",\"b'true'\",\"b'false'\",\"b'true'\",\"b'false'\",\"b'false'\",\"b'false'\",\"b'false'\",\"b'false'\",\"b'false'\",\"b'true'\",\"b'true'\",\"b'false'\",\"b'true'\",\"b'true'\",\"b'true'\",\"b'false'\",\"b'true'\",\"b'false'\",\"b'true'\",\"b'false'\",\"b'false'\",\"b'true'\",\"b'false'\",\"b'true'\",\"b'true'\",\"b'false'\",\"b'false'\",\"b'true'\",\"b'true'\",\"b'false'\",\"b'false'\",\"b'true'\",\"b'false'\",\"b'false'\",\"b'false'\",\"b'true'\",\"b'false'\",\"b'false'\",\"b'true'\",\"b'false'\",\"b'true'\",\"b'false'\",\"b'true'\",\"b'true'\",\"b'false'\",\"b'true'\",\"b'false'\",\"b'true'\",\"b'false'\",\"b'false'\",\"b'false'\",\"b'true'\",\"b'true'\",\"b'false'\",\"b'false'\",\"b'false'\",\"b'true'\",\"b'true'\",\"b'false'\",\"b'false'\",\"b'true'\",\"b'true'\",\"b'true'\",\"b'true'\",\"b'true'\",\"b'false'\",\"b'false'\",\"b'false'\",\"b'true'\",\"b'false'\",\"b'false'\",\"b'true'\",\"b'false'\",\"b'false'\",\"b'false'\",\"b'false'\",\"b'false'\",\"b'false'\",\"b'false'\",\"b'true'\",\"b'false'\",\"b'true'\",\"b'false'\",\"b'false'\",\"b'false'\",\"b'false'\",\"b'false'\",\"b'false'\",\"b'false'\",\"b'false'\",\"b'false'\",\"b'true'\",\"b'true'\",\"b'false'\",\"b'true'\",\"b'false'\",\"b'true'\",\"b'false'\",\"b'true'\",\"b'false'\",\"b'false'\",\"b'false'\",\"b'false'\",\"b'true'\",\"b'false'\",\"b'false'\",\"b'false'\",\"b'true'\",\"b'false'\",\"b'false'\",\"b'true'\",\"b'true'\",\"b'false'\",\"b'false'\",\"b'true'\",\"b'true'\",\"b'false'\",\"b'true'\",\"b'false'\",\"b'true'\",\"b'false'\",\"b'false'\",\"b'false'\",\"b'false'\",\"b'true'\",\"b'false'\",\"b'false'\",\"b'false'\",\"b'false'\",\"b'true'\",\"b'false'\",\"b'true'\",\"b'false'\",\"b'false'\",\"b'false'\",\"b'true'\",\"b'true'\",\"b'false'\",\"b'false'\",\"b'true'\",\"b'false'\",\"b'true'\",\"b'false'\",\"b'true'\",\"b'true'\",\"b'false'\",\"b'true'\",\"b'false'\",\"b'true'\",\"b'false'\",\"b'true'\",\"b'true'\",\"b'true'\",\"b'false'\",\"b'false'\",\"b'true'\",\"b'false'\",\"b'true'\",\"b'false'\",\"b'true'\",\"b'false'\",\"b'false'\",\"b'true'\",\"b'false'\",\"b'false'\",\"b'false'\",\"b'true'\",\"b'true'\",\"b'false'\",\"b'false'\",\"b'false'\",\"b'true'\",\"b'false'\",\"b'false'\",\"b'true'\",\"b'false'\",\"b'true'\",\"b'false'\",\"b'true'\",\"b'false'\",\"b'true'\",\"b'false'\",\"b'false'\",\"b'false'\",\"b'true'\",\"b'false'\",\"b'false'\",\"b'true'\"]\n",
    "outliers = [\"b'true'\",\"b'false'\",\"b'false'\",\"b'false'\",\"b'true'\",\"b'false'\",\"b'true'\",\"b'false'\",\"b'false'\",\"b'false'\",\"b'false'\",\"b'true'\",\"b'false'\",\"b'false'\",\"b'true'\",\"b'true'\",\"b'true'\",\"b'false'\",\"b'false'\",\"b'false'\",\"b'true'\",\"b'true'\",\"b'true'\",\"b'false'\",\"b'false'\",\"b'false'\",\"b'false'\",\"b'true'\",\"b'true'\",\"b'false'\",\"b'true'\",\"b'true'\",\"b'false'\",\"b'false'\",\"b'true'\",\"b'false'\",\"b'false'\",\"b'false'\",\"b'true'\",\"b'false'\",\"b'true'\",\"b'true'\",\"b'false'\",\"b'false'\",\"b'true'\",\"b'true'\",\"b'true'\",\"b'false'\",\"b'false'\",\"b'true'\",\"b'true'\",\"b'true'\",\"b'false'\",\"b'false'\",\"b'true'\",\"b'false'\",\"b'false'\",\"b'false'\",\"b'false'\",\"b'false'\",\"b'false'\",\"b'false'\",\"b'false'\",\"b'true'\",\"b'true'\",\"b'true'\",\"b'false'\",\"b'false'\",\"b'true'\",\"b'false'\",\"b'false'\",\"b'false'\",\"b'false'\",\"b'true'\",\"b'false'\",\"b'false'\",\"b'false'\",\"b'true'\",\"b'true'\",\"b'false'\",\"b'false'\",\"b'true'\",\"b'false'\",\"b'true'\",\"b'false'\",\"b'true'\",\"b'false'\",\"b'true'\",\"b'false'\",\"b'false'\",\"b'true'\",\"b'false'\",\"b'false'\",\"b'true'\",\"b'false'\",\"b'true'\",\"b'false'\",\"b'true'\",\"b'false'\",\"b'false'\",\"b'true'\",\"b'false'\",\"b'true'\",\"b'false'\",\"b'false'\",\"b'true'\",\"b'false'\",\"b'true'\",\"b'true'\",\"b'false'\",\"b'false'\",\"b'true'\",\"b'false'\",\"b'false'\",\"b'false'\",\"b'false'\",\"b'false'\",\"b'false'\",\"b'false'\",\"b'true'\",\"b'false'\",\"b'false'\",\"b'false'\",\"b'false'\",\"b'false'\",\"b'true'\",\"b'true'\",\"b'true'\",\"b'false'\",\"b'true'\",\"b'false'\",\"b'false'\",\"b'false'\",\"b'false'\",\"b'false'\",\"b'false'\",\"b'true'\",\"b'true'\",\"b'true'\",\"b'true'\",\"b'false'\",\"b'true'\",\"b'true'\",\"b'true'\",\"b'false'\",\"b'true'\",\"b'false'\",\"b'false'\",\"b'true'\",\"b'true'\",\"b'false'\",\"b'false'\",\"b'false'\",\"b'true'\",\"b'true'\",\"b'false'\",\"b'true'\",\"b'false'\",\"b'false'\",\"b'false'\",\"b'false'\",\"b'true'\",\"b'false'\",\"b'false'\",\"b'true'\",\"b'false'\",\"b'false'\",\"b'false'\",\"b'true'\",\"b'false'\",\"b'false'\",\"b'false'\",\"b'false'\",\"b'true'\",\"b'true'\",\"b'false'\",\"b'false'\",\"b'true'\",\"b'false'\",\"b'true'\",\"b'false'\",\"b'true'\",\"b'false'\",\"b'true'\",\"b'false'\",\"b'true'\",\"b'false'\",\"b'false'\",\"b'false'\",\"b'false'\",\"b'false'\",\"b'false'\",\"b'false'\",\"b'false'\",\"b'true'\",\"b'true'\",\"b'true'\",\"b'true'\",\"b'true'\",\"b'false'\",\"b'false'\",\"b'false'\",\"b'false'\",\"b'false'\",\"b'true'\",\"b'false'\",\"b'false'\",\"b'true'\",\"b'false'\",\"b'false'\",\"b'true'\",\"b'true'\",\"b'false'\",\"b'false'\",\"b'false'\",\"b'true'\",\"b'true'\",\"b'true'\",\"b'true'\",\"b'false'\",\"b'false'\",\"b'true'\",\"b'true'\",\"b'false'\",\"b'true'\",\"b'false'\",\"b'false'\",\"b'true'\",\"b'false'\",\"b'false'\",\"b'true'\",\"b'true'\",\"b'true'\",\"b'false'\",\"b'false'\",\"b'false'\",\"b'false'\",\"b'true'\",\"b'false'\",\"b'false'\",\"b'false'\",\"b'false'\",\"b'false'\",\"b'true'\",\"b'true'\",\"b'true'\",\"b'true'\",\"b'false'\",\"b'true'\",\"b'false'\",\"b'true'\",\"b'false'\",\"b'true'\",\"b'true'\",\"b'false'\",\"b'true'\",\"b'true'\",\"b'true'\",\"b'false'\",\"b'false'\",\"b'false'\",\"b'false'\",\"b'false'\",\"b'true'\",\"b'false'\",\"b'true'\",\"b'false'\",\"b'false'\",\"b'false'\",\"b'true'\",\"b'true'\",\"b'true'\",\"b'true'\",\"b'false'\",\"b'true'\",\"b'true'\",\"b'true'\",\"b'true'\",\"b'false'\",\"b'false'\",\"b'false'\",\"b'false'\",\"b'true'\",\"b'true'\",\"b'false'\",\"b'false'\",\"b'true'\",\"b'true'\",\"b'false'\",\"b'false'\",\"b'true'\",\"b'false'\",\"b'false'\",\"b'true'\",\"b'true'\",\"b'false'\",\"b'false'\",\"b'false'\",\"b'true'\",\"b'true'\",\"b'false'\",\"b'false'\",\"b'false'\",\"b'false'\",\"b'false'\",\"b'true'\",\"b'false'\",\"b'true'\",\"b'false'\",\"b'true'\",\"b'false'\",\"b'false'\",\"b'true'\",\"b'true'\",\"b'false'\",\"b'true'\",\"b'true'\",\"b'true'\",\"b'false'\",\"b'true'\",\"b'false'\",\"b'true'\",\"b'true'\",\"b'false'\",\"b'false'\",\"b'false'\"]\n",
    "results = kc1_40_k5 + outliers\n",
    "len(results)\n"
   ]
  },
  {
   "cell_type": "code",
   "execution_count": 123,
   "id": "84f713ea",
   "metadata": {},
   "outputs": [
    {
     "data": {
      "text/plain": [
       "1396"
      ]
     },
     "execution_count": 123,
     "metadata": {},
     "output_type": "execute_result"
    }
   ],
   "source": [
    "gt_false = [\"b'false'\" for _ in range(len(kc1_40_k5))]\n",
    "gt_true = [\"b'true'\" for _ in range(len(outliers))]\n",
    "gt = gt_false + gt_true\n",
    "len(gt)"
   ]
  },
  {
   "cell_type": "code",
   "execution_count": 124,
   "id": "e0122587",
   "metadata": {
    "scrolled": true
   },
   "outputs": [
    {
     "data": {
      "text/plain": [
       "<sklearn.metrics._plot.confusion_matrix.ConfusionMatrixDisplay at 0x7f69b6ef42b0>"
      ]
     },
     "execution_count": 124,
     "metadata": {},
     "output_type": "execute_result"
    },
    {
     "data": {
      "image/png": "[encoded data removed]",
      "text/plain": [
       "<Figure size 432x288 with 2 Axes>"
      ]
     },
     "metadata": {
      "needs_background": "light"
     },
     "output_type": "display_data"
    }
   ],
   "source": [
    "matrix = confusion_matrix(gt, results, labels=[\"b'false'\", \"b'true'\"])\n",
    "display = ConfusionMatrixDisplay(confusion_matrix=matrix, display_labels=[\"b'false'\", \"b'true'\"])\n",
    "display.plot()"
   ]
  },
  {
   "cell_type": "code",
   "execution_count": 162,
   "id": "1640bbd8",
   "metadata": {},
   "outputs": [
    {
     "data": {
      "text/plain": [
       "0.3241954707985697"
      ]
     },
     "execution_count": 162,
     "metadata": {},
     "output_type": "execute_result"
    }
   ],
   "source": [
    "tn = 693\n",
    "fp = 377\n",
    "fn = 190\n",
    "tp = 136\n",
    "r = recall(tp, fn)\n",
    "p = precision(tp, fp)\n",
    "f1_measure = f1(r, p)\n",
    "f1_measure"
   ]
  },
  {
   "cell_type": "markdown",
   "id": "8b33618e",
   "metadata": {},
   "source": [
    "### k=7"
   ]
  },
  {
   "cell_type": "code",
   "execution_count": 129,
   "id": "52640347",
   "metadata": {},
   "outputs": [
    {
     "data": {
      "text/plain": [
       "1396"
      ]
     },
     "execution_count": 129,
     "metadata": {},
     "output_type": "execute_result"
    }
   ],
   "source": [
    "kc1_40_k7=[\"b'false'\",\"b'true'\",\"b'true'\",\"b'false'\",\"b'true'\",\"b'false'\",\"b'false'\",\"b'false'\",\"b'false'\",\"b'true'\",\"b'true'\",\"b'true'\",\"b'false'\",\"b'false'\",\"b'false'\",\"b'false'\",\"b'false'\",\"b'false'\",\"b'false'\",\"b'false'\",\"b'false'\",\"b'true'\",\"b'false'\",\"b'false'\",\"b'false'\",\"b'false'\",\"b'true'\",\"b'false'\",\"b'false'\",\"b'true'\",\"b'true'\",\"b'false'\",\"b'false'\",\"b'true'\",\"b'true'\",\"b'false'\",\"b'false'\",\"b'true'\",\"b'false'\",\"b'false'\",\"b'false'\",\"b'false'\",\"b'false'\",\"b'false'\",\"b'true'\",\"b'false'\",\"b'false'\",\"b'false'\",\"b'false'\",\"b'false'\",\"b'false'\",\"b'false'\",\"b'false'\",\"b'true'\",\"b'false'\",\"b'false'\",\"b'false'\",\"b'false'\",\"b'false'\",\"b'true'\",\"b'true'\",\"b'false'\",\"b'false'\",\"b'false'\",\"b'true'\",\"b'false'\",\"b'true'\",\"b'false'\",\"b'true'\",\"b'false'\",\"b'false'\",\"b'false'\",\"b'true'\",\"b'true'\",\"b'false'\",\"b'true'\",\"b'false'\",\"b'true'\",\"b'false'\",\"b'false'\",\"b'true'\",\"b'false'\",\"b'false'\",\"b'false'\",\"b'false'\",\"b'true'\",\"b'false'\",\"b'true'\",\"b'false'\",\"b'true'\",\"b'true'\",\"b'false'\",\"b'false'\",\"b'false'\",\"b'true'\",\"b'false'\",\"b'false'\",\"b'false'\",\"b'false'\",\"b'false'\",\"b'false'\",\"b'false'\",\"b'false'\",\"b'false'\",\"b'true'\",\"b'false'\",\"b'true'\",\"b'true'\",\"b'true'\",\"b'false'\",\"b'false'\",\"b'true'\",\"b'true'\",\"b'true'\",\"b'true'\",\"b'true'\",\"b'false'\",\"b'true'\",\"b'true'\",\"b'false'\",\"b'true'\",\"b'false'\",\"b'true'\",\"b'false'\",\"b'false'\",\"b'true'\",\"b'false'\",\"b'false'\",\"b'false'\",\"b'true'\",\"b'false'\",\"b'true'\",\"b'false'\",\"b'false'\",\"b'true'\",\"b'true'\",\"b'false'\",\"b'false'\",\"b'false'\",\"b'true'\",\"b'false'\",\"b'true'\",\"b'false'\",\"b'true'\",\"b'true'\",\"b'true'\",\"b'false'\",\"b'false'\",\"b'false'\",\"b'false'\",\"b'false'\",\"b'false'\",\"b'true'\",\"b'false'\",\"b'false'\",\"b'true'\",\"b'false'\",\"b'false'\",\"b'true'\",\"b'false'\",\"b'false'\",\"b'false'\",\"b'false'\",\"b'false'\",\"b'false'\",\"b'true'\",\"b'false'\",\"b'true'\",\"b'false'\",\"b'false'\",\"b'false'\",\"b'true'\",\"b'false'\",\"b'false'\",\"b'true'\",\"b'false'\",\"b'true'\",\"b'false'\",\"b'false'\",\"b'false'\",\"b'false'\",\"b'false'\",\"b'true'\",\"b'true'\",\"b'true'\",\"b'false'\",\"b'true'\",\"b'true'\",\"b'true'\",\"b'false'\",\"b'true'\",\"b'false'\",\"b'true'\",\"b'true'\",\"b'true'\",\"b'false'\",\"b'false'\",\"b'true'\",\"b'false'\",\"b'false'\",\"b'true'\",\"b'true'\",\"b'false'\",\"b'false'\",\"b'false'\",\"b'false'\",\"b'false'\",\"b'false'\",\"b'true'\",\"b'false'\",\"b'false'\",\"b'false'\",\"b'false'\",\"b'true'\",\"b'false'\",\"b'true'\",\"b'false'\",\"b'false'\",\"b'false'\",\"b'false'\",\"b'false'\",\"b'true'\",\"b'true'\",\"b'false'\",\"b'false'\",\"b'true'\",\"b'false'\",\"b'false'\",\"b'false'\",\"b'false'\",\"b'true'\",\"b'true'\",\"b'false'\",\"b'false'\",\"b'true'\",\"b'false'\",\"b'false'\",\"b'false'\",\"b'true'\",\"b'false'\",\"b'true'\",\"b'false'\",\"b'false'\",\"b'false'\",\"b'false'\",\"b'false'\",\"b'false'\",\"b'true'\",\"b'false'\",\"b'true'\",\"b'false'\",\"b'true'\",\"b'true'\",\"b'false'\",\"b'false'\",\"b'false'\",\"b'true'\",\"b'false'\",\"b'true'\",\"b'true'\",\"b'true'\",\"b'true'\",\"b'true'\",\"b'false'\",\"b'true'\",\"b'false'\",\"b'true'\",\"b'false'\",\"b'false'\",\"b'false'\",\"b'true'\",\"b'false'\",\"b'false'\",\"b'true'\",\"b'false'\",\"b'true'\",\"b'true'\",\"b'true'\",\"b'false'\",\"b'false'\",\"b'false'\",\"b'false'\",\"b'false'\",\"b'false'\",\"b'false'\",\"b'false'\",\"b'false'\",\"b'false'\",\"b'true'\",\"b'false'\",\"b'false'\",\"b'true'\",\"b'false'\",\"b'true'\",\"b'true'\",\"b'false'\",\"b'true'\",\"b'false'\",\"b'false'\",\"b'false'\",\"b'false'\",\"b'true'\",\"b'false'\",\"b'true'\",\"b'false'\",\"b'false'\",\"b'false'\",\"b'false'\",\"b'false'\",\"b'false'\",\"b'false'\",\"b'false'\",\"b'false'\",\"b'false'\",\"b'false'\",\"b'true'\",\"b'true'\",\"b'true'\",\"b'true'\",\"b'false'\",\"b'true'\",\"b'true'\",\"b'false'\",\"b'true'\",\"b'true'\",\"b'false'\",\"b'false'\",\"b'false'\",\"b'true'\",\"b'true'\",\"b'true'\",\"b'true'\",\"b'false'\",\"b'true'\",\"b'false'\",\"b'true'\",\"b'true'\",\"b'false'\",\"b'true'\",\"b'false'\",\"b'true'\",\"b'true'\",\"b'true'\",\"b'false'\",\"b'true'\",\"b'false'\",\"b'false'\",\"b'true'\",\"b'false'\",\"b'false'\",\"b'false'\",\"b'true'\",\"b'false'\",\"b'false'\",\"b'true'\",\"b'false'\",\"b'false'\",\"b'true'\",\"b'true'\",\"b'false'\",\"b'false'\",\"b'true'\",\"b'false'\",\"b'false'\",\"b'false'\",\"b'true'\",\"b'false'\",\"b'false'\",\"b'true'\",\"b'false'\",\"b'false'\",\"b'true'\",\"b'false'\",\"b'false'\",\"b'false'\",\"b'false'\",\"b'true'\",\"b'false'\",\"b'false'\",\"b'false'\",\"b'false'\",\"b'true'\",\"b'true'\",\"b'false'\",\"b'true'\",\"b'true'\",\"b'false'\",\"b'true'\",\"b'false'\",\"b'true'\",\"b'true'\",\"b'true'\",\"b'false'\",\"b'true'\",\"b'false'\",\"b'false'\",\"b'false'\",\"b'false'\",\"b'true'\",\"b'true'\",\"b'false'\",\"b'true'\",\"b'false'\",\"b'false'\",\"b'true'\",\"b'false'\",\"b'false'\",\"b'true'\",\"b'false'\",\"b'false'\",\"b'true'\",\"b'false'\",\"b'true'\",\"b'false'\",\"b'false'\",\"b'false'\",\"b'false'\",\"b'true'\",\"b'false'\",\"b'true'\",\"b'false'\",\"b'true'\",\"b'false'\",\"b'true'\",\"b'false'\",\"b'true'\",\"b'false'\",\"b'true'\",\"b'false'\",\"b'false'\",\"b'false'\",\"b'false'\",\"b'true'\",\"b'false'\",\"b'false'\",\"b'false'\",\"b'false'\",\"b'true'\",\"b'false'\",\"b'false'\",\"b'false'\",\"b'false'\",\"b'true'\",\"b'false'\",\"b'false'\",\"b'true'\",\"b'true'\",\"b'false'\",\"b'true'\",\"b'true'\",\"b'false'\",\"b'false'\",\"b'false'\",\"b'true'\",\"b'false'\",\"b'false'\",\"b'false'\",\"b'false'\",\"b'true'\",\"b'true'\",\"b'false'\",\"b'false'\",\"b'false'\",\"b'false'\",\"b'false'\",\"b'false'\",\"b'false'\",\"b'true'\",\"b'false'\",\"b'false'\",\"b'false'\",\"b'false'\",\"b'false'\",\"b'true'\",\"b'true'\",\"b'false'\",\"b'false'\",\"b'false'\",\"b'false'\",\"b'true'\",\"b'false'\",\"b'false'\",\"b'true'\",\"b'true'\",\"b'false'\",\"b'false'\",\"b'true'\",\"b'true'\",\"b'false'\",\"b'false'\",\"b'false'\",\"b'true'\",\"b'true'\",\"b'false'\",\"b'true'\",\"b'false'\",\"b'false'\",\"b'false'\",\"b'false'\",\"b'false'\",\"b'false'\",\"b'false'\",\"b'false'\",\"b'false'\",\"b'true'\",\"b'true'\",\"b'false'\",\"b'false'\",\"b'false'\",\"b'false'\",\"b'false'\",\"b'false'\",\"b'true'\",\"b'true'\",\"b'false'\",\"b'true'\",\"b'false'\",\"b'false'\",\"b'true'\",\"b'false'\",\"b'false'\",\"b'false'\",\"b'false'\",\"b'true'\",\"b'true'\",\"b'true'\",\"b'false'\",\"b'true'\",\"b'false'\",\"b'false'\",\"b'false'\",\"b'false'\",\"b'true'\",\"b'false'\",\"b'true'\",\"b'false'\",\"b'true'\",\"b'false'\",\"b'false'\",\"b'false'\",\"b'false'\",\"b'true'\",\"b'false'\",\"b'true'\",\"b'true'\",\"b'false'\",\"b'true'\",\"b'true'\",\"b'true'\",\"b'false'\",\"b'false'\",\"b'false'\",\"b'false'\",\"b'true'\",\"b'true'\",\"b'true'\",\"b'true'\",\"b'true'\",\"b'false'\",\"b'false'\",\"b'false'\",\"b'true'\",\"b'false'\",\"b'true'\",\"b'false'\",\"b'true'\",\"b'true'\",\"b'false'\",\"b'false'\",\"b'true'\",\"b'false'\",\"b'true'\",\"b'true'\",\"b'false'\",\"b'true'\",\"b'false'\",\"b'false'\",\"b'true'\",\"b'false'\",\"b'false'\",\"b'true'\",\"b'true'\",\"b'false'\",\"b'false'\",\"b'false'\",\"b'true'\",\"b'false'\",\"b'false'\",\"b'false'\",\"b'true'\",\"b'false'\",\"b'false'\",\"b'false'\",\"b'false'\",\"b'false'\",\"b'false'\",\"b'false'\",\"b'false'\",\"b'true'\",\"b'true'\",\"b'false'\",\"b'false'\",\"b'true'\",\"b'false'\",\"b'false'\",\"b'true'\",\"b'true'\",\"b'true'\",\"b'false'\",\"b'false'\",\"b'true'\",\"b'false'\",\"b'false'\",\"b'false'\",\"b'true'\",\"b'false'\",\"b'false'\",\"b'false'\",\"b'true'\",\"b'false'\",\"b'true'\",\"b'true'\",\"b'false'\",\"b'false'\",\"b'false'\",\"b'false'\",\"b'false'\",\"b'true'\",\"b'false'\",\"b'true'\",\"b'false'\",\"b'false'\",\"b'true'\",\"b'false'\",\"b'false'\",\"b'false'\",\"b'false'\",\"b'false'\",\"b'true'\",\"b'true'\",\"b'false'\",\"b'false'\",\"b'false'\",\"b'true'\",\"b'false'\",\"b'false'\",\"b'true'\",\"b'true'\",\"b'false'\",\"b'true'\",\"b'false'\",\"b'false'\",\"b'true'\",\"b'true'\",\"b'true'\",\"b'false'\",\"b'true'\",\"b'false'\",\"b'true'\",\"b'false'\",\"b'true'\",\"b'false'\",\"b'false'\",\"b'true'\",\"b'true'\",\"b'true'\",\"b'true'\",\"b'true'\",\"b'false'\",\"b'false'\",\"b'true'\",\"b'true'\",\"b'false'\",\"b'false'\",\"b'false'\",\"b'true'\",\"b'false'\",\"b'false'\",\"b'false'\",\"b'true'\",\"b'false'\",\"b'true'\",\"b'false'\",\"b'true'\",\"b'false'\",\"b'false'\",\"b'false'\",\"b'true'\",\"b'false'\",\"b'false'\",\"b'false'\",\"b'true'\",\"b'false'\",\"b'true'\",\"b'false'\",\"b'true'\",\"b'false'\",\"b'false'\",\"b'false'\",\"b'false'\",\"b'false'\",\"b'false'\",\"b'true'\",\"b'false'\",\"b'true'\",\"b'true'\",\"b'false'\",\"b'false'\",\"b'false'\",\"b'true'\",\"b'false'\",\"b'false'\",\"b'true'\",\"b'false'\",\"b'false'\",\"b'false'\",\"b'false'\",\"b'false'\",\"b'true'\",\"b'false'\",\"b'false'\",\"b'false'\",\"b'true'\",\"b'true'\",\"b'false'\",\"b'false'\",\"b'true'\",\"b'false'\",\"b'true'\",\"b'true'\",\"b'true'\",\"b'true'\",\"b'false'\",\"b'false'\",\"b'true'\",\"b'false'\",\"b'false'\",\"b'false'\",\"b'false'\",\"b'false'\",\"b'false'\",\"b'false'\",\"b'true'\",\"b'true'\",\"b'true'\",\"b'false'\",\"b'true'\",\"b'false'\",\"b'false'\",\"b'true'\",\"b'true'\",\"b'true'\",\"b'false'\",\"b'true'\",\"b'false'\",\"b'false'\",\"b'true'\",\"b'true'\",\"b'true'\",\"b'false'\",\"b'true'\",\"b'true'\",\"b'false'\",\"b'true'\",\"b'false'\",\"b'false'\",\"b'false'\",\"b'true'\",\"b'true'\",\"b'false'\",\"b'true'\",\"b'false'\",\"b'false'\",\"b'false'\",\"b'true'\",\"b'true'\",\"b'true'\",\"b'true'\",\"b'false'\",\"b'false'\",\"b'true'\",\"b'true'\",\"b'true'\",\"b'false'\",\"b'true'\",\"b'true'\",\"b'true'\",\"b'false'\",\"b'false'\",\"b'true'\",\"b'true'\",\"b'false'\",\"b'true'\",\"b'false'\",\"b'false'\",\"b'false'\",\"b'false'\",\"b'true'\",\"b'true'\",\"b'false'\",\"b'false'\",\"b'false'\",\"b'true'\",\"b'true'\",\"b'false'\",\"b'false'\",\"b'false'\",\"b'false'\",\"b'false'\",\"b'false'\",\"b'true'\",\"b'false'\",\"b'true'\",\"b'false'\",\"b'false'\",\"b'false'\",\"b'true'\",\"b'false'\",\"b'false'\",\"b'false'\",\"b'false'\",\"b'true'\",\"b'true'\",\"b'true'\",\"b'true'\",\"b'true'\",\"b'false'\",\"b'true'\",\"b'false'\",\"b'true'\",\"b'false'\",\"b'false'\",\"b'false'\",\"b'true'\",\"b'true'\",\"b'false'\",\"b'true'\",\"b'true'\",\"b'false'\",\"b'false'\",\"b'false'\",\"b'false'\",\"b'false'\",\"b'false'\",\"b'true'\",\"b'false'\",\"b'false'\",\"b'true'\",\"b'false'\",\"b'false'\",\"b'false'\",\"b'true'\",\"b'true'\",\"b'false'\",\"b'false'\",\"b'false'\",\"b'false'\",\"b'true'\",\"b'true'\",\"b'false'\",\"b'true'\",\"b'false'\",\"b'false'\",\"b'true'\",\"b'false'\",\"b'true'\",\"b'true'\",\"b'false'\",\"b'false'\",\"b'true'\",\"b'true'\",\"b'false'\",\"b'false'\",\"b'true'\",\"b'true'\",\"b'false'\",\"b'true'\",\"b'true'\",\"b'false'\",\"b'true'\",\"b'true'\",\"b'true'\",\"b'true'\",\"b'false'\",\"b'true'\",\"b'false'\",\"b'false'\",\"b'false'\",\"b'false'\",\"b'false'\",\"b'false'\",\"b'true'\",\"b'true'\",\"b'false'\",\"b'true'\",\"b'true'\",\"b'true'\",\"b'false'\",\"b'true'\",\"b'false'\",\"b'true'\",\"b'false'\",\"b'false'\",\"b'true'\",\"b'false'\",\"b'true'\",\"b'true'\",\"b'false'\",\"b'false'\",\"b'true'\",\"b'true'\",\"b'false'\",\"b'false'\",\"b'true'\",\"b'false'\",\"b'false'\",\"b'false'\",\"b'true'\",\"b'false'\",\"b'false'\",\"b'true'\",\"b'true'\",\"b'true'\",\"b'false'\",\"b'true'\",\"b'true'\",\"b'false'\",\"b'true'\",\"b'false'\",\"b'true'\",\"b'false'\",\"b'false'\",\"b'false'\",\"b'true'\",\"b'true'\",\"b'false'\",\"b'false'\",\"b'false'\",\"b'true'\",\"b'true'\",\"b'false'\",\"b'false'\",\"b'true'\",\"b'true'\",\"b'true'\",\"b'true'\",\"b'true'\",\"b'false'\",\"b'false'\",\"b'true'\",\"b'true'\",\"b'false'\",\"b'false'\",\"b'true'\",\"b'false'\",\"b'false'\",\"b'false'\",\"b'false'\",\"b'false'\",\"b'false'\",\"b'false'\",\"b'true'\",\"b'false'\",\"b'true'\",\"b'false'\",\"b'false'\",\"b'false'\",\"b'false'\",\"b'false'\",\"b'true'\",\"b'false'\",\"b'false'\",\"b'true'\",\"b'true'\",\"b'true'\",\"b'false'\",\"b'true'\",\"b'false'\",\"b'true'\",\"b'true'\",\"b'true'\",\"b'false'\",\"b'false'\",\"b'false'\",\"b'false'\",\"b'true'\",\"b'false'\",\"b'false'\",\"b'false'\",\"b'true'\",\"b'false'\",\"b'false'\",\"b'true'\",\"b'true'\",\"b'true'\",\"b'false'\",\"b'true'\",\"b'true'\",\"b'false'\",\"b'true'\",\"b'false'\",\"b'true'\",\"b'false'\",\"b'false'\",\"b'false'\",\"b'false'\",\"b'true'\",\"b'false'\",\"b'false'\",\"b'true'\",\"b'false'\",\"b'true'\",\"b'false'\",\"b'true'\",\"b'false'\",\"b'false'\",\"b'false'\",\"b'true'\",\"b'true'\",\"b'false'\",\"b'false'\",\"b'true'\",\"b'false'\",\"b'true'\",\"b'false'\",\"b'true'\",\"b'true'\",\"b'false'\",\"b'true'\",\"b'false'\",\"b'true'\",\"b'false'\",\"b'true'\",\"b'true'\",\"b'true'\",\"b'false'\",\"b'false'\",\"b'true'\",\"b'false'\",\"b'true'\",\"b'false'\",\"b'true'\",\"b'false'\",\"b'false'\",\"b'true'\",\"b'false'\",\"b'false'\",\"b'false'\",\"b'true'\",\"b'true'\",\"b'false'\",\"b'false'\",\"b'false'\",\"b'true'\",\"b'false'\",\"b'false'\",\"b'true'\",\"b'false'\",\"b'true'\",\"b'false'\",\"b'true'\",\"b'false'\",\"b'true'\",\"b'false'\",\"b'false'\",\"b'false'\",\"b'true'\",\"b'false'\",\"b'false'\",\"b'true'\"]\n",
    "outliers = [\"b'true'\",\"b'false'\",\"b'false'\",\"b'false'\",\"b'true'\",\"b'true'\",\"b'true'\",\"b'true'\",\"b'false'\",\"b'false'\",\"b'true'\",\"b'true'\",\"b'false'\",\"b'false'\",\"b'true'\",\"b'true'\",\"b'true'\",\"b'false'\",\"b'false'\",\"b'false'\",\"b'true'\",\"b'true'\",\"b'true'\",\"b'false'\",\"b'false'\",\"b'true'\",\"b'false'\",\"b'true'\",\"b'true'\",\"b'false'\",\"b'true'\",\"b'true'\",\"b'true'\",\"b'true'\",\"b'true'\",\"b'true'\",\"b'true'\",\"b'false'\",\"b'true'\",\"b'false'\",\"b'true'\",\"b'true'\",\"b'false'\",\"b'false'\",\"b'true'\",\"b'true'\",\"b'true'\",\"b'true'\",\"b'false'\",\"b'true'\",\"b'true'\",\"b'true'\",\"b'false'\",\"b'false'\",\"b'true'\",\"b'false'\",\"b'false'\",\"b'false'\",\"b'false'\",\"b'false'\",\"b'false'\",\"b'true'\",\"b'false'\",\"b'true'\",\"b'true'\",\"b'true'\",\"b'false'\",\"b'false'\",\"b'true'\",\"b'false'\",\"b'false'\",\"b'false'\",\"b'false'\",\"b'true'\",\"b'false'\",\"b'false'\",\"b'false'\",\"b'true'\",\"b'true'\",\"b'false'\",\"b'false'\",\"b'true'\",\"b'true'\",\"b'true'\",\"b'false'\",\"b'true'\",\"b'true'\",\"b'true'\",\"b'false'\",\"b'false'\",\"b'true'\",\"b'false'\",\"b'false'\",\"b'true'\",\"b'false'\",\"b'true'\",\"b'false'\",\"b'true'\",\"b'true'\",\"b'false'\",\"b'true'\",\"b'false'\",\"b'true'\",\"b'false'\",\"b'false'\",\"b'true'\",\"b'false'\",\"b'true'\",\"b'true'\",\"b'false'\",\"b'false'\",\"b'true'\",\"b'false'\",\"b'false'\",\"b'false'\",\"b'false'\",\"b'false'\",\"b'false'\",\"b'false'\",\"b'true'\",\"b'false'\",\"b'false'\",\"b'false'\",\"b'false'\",\"b'false'\",\"b'true'\",\"b'true'\",\"b'true'\",\"b'true'\",\"b'true'\",\"b'false'\",\"b'false'\",\"b'false'\",\"b'false'\",\"b'false'\",\"b'false'\",\"b'true'\",\"b'true'\",\"b'true'\",\"b'true'\",\"b'true'\",\"b'true'\",\"b'true'\",\"b'true'\",\"b'false'\",\"b'true'\",\"b'false'\",\"b'false'\",\"b'true'\",\"b'true'\",\"b'false'\",\"b'false'\",\"b'false'\",\"b'true'\",\"b'true'\",\"b'false'\",\"b'true'\",\"b'false'\",\"b'false'\",\"b'false'\",\"b'false'\",\"b'true'\",\"b'false'\",\"b'true'\",\"b'true'\",\"b'false'\",\"b'false'\",\"b'false'\",\"b'true'\",\"b'false'\",\"b'false'\",\"b'false'\",\"b'false'\",\"b'true'\",\"b'true'\",\"b'false'\",\"b'false'\",\"b'true'\",\"b'false'\",\"b'true'\",\"b'false'\",\"b'true'\",\"b'false'\",\"b'true'\",\"b'true'\",\"b'true'\",\"b'false'\",\"b'false'\",\"b'false'\",\"b'false'\",\"b'false'\",\"b'false'\",\"b'false'\",\"b'false'\",\"b'true'\",\"b'true'\",\"b'true'\",\"b'true'\",\"b'true'\",\"b'false'\",\"b'false'\",\"b'false'\",\"b'false'\",\"b'false'\",\"b'true'\",\"b'false'\",\"b'false'\",\"b'true'\",\"b'false'\",\"b'false'\",\"b'true'\",\"b'true'\",\"b'false'\",\"b'false'\",\"b'false'\",\"b'true'\",\"b'true'\",\"b'true'\",\"b'true'\",\"b'true'\",\"b'false'\",\"b'true'\",\"b'true'\",\"b'false'\",\"b'true'\",\"b'true'\",\"b'false'\",\"b'true'\",\"b'false'\",\"b'false'\",\"b'true'\",\"b'true'\",\"b'true'\",\"b'false'\",\"b'false'\",\"b'false'\",\"b'true'\",\"b'true'\",\"b'false'\",\"b'false'\",\"b'false'\",\"b'false'\",\"b'false'\",\"b'true'\",\"b'true'\",\"b'true'\",\"b'true'\",\"b'false'\",\"b'true'\",\"b'false'\",\"b'true'\",\"b'true'\",\"b'true'\",\"b'true'\",\"b'false'\",\"b'true'\",\"b'true'\",\"b'true'\",\"b'false'\",\"b'false'\",\"b'false'\",\"b'false'\",\"b'false'\",\"b'true'\",\"b'false'\",\"b'true'\",\"b'false'\",\"b'false'\",\"b'false'\",\"b'true'\",\"b'true'\",\"b'true'\",\"b'true'\",\"b'false'\",\"b'true'\",\"b'true'\",\"b'true'\",\"b'true'\",\"b'false'\",\"b'false'\",\"b'false'\",\"b'false'\",\"b'true'\",\"b'true'\",\"b'false'\",\"b'true'\",\"b'true'\",\"b'true'\",\"b'false'\",\"b'false'\",\"b'true'\",\"b'true'\",\"b'true'\",\"b'true'\",\"b'true'\",\"b'false'\",\"b'false'\",\"b'true'\",\"b'true'\",\"b'true'\",\"b'false'\",\"b'false'\",\"b'false'\",\"b'false'\",\"b'false'\",\"b'true'\",\"b'false'\",\"b'true'\",\"b'true'\",\"b'true'\",\"b'false'\",\"b'false'\",\"b'true'\",\"b'true'\",\"b'false'\",\"b'true'\",\"b'true'\",\"b'true'\",\"b'true'\",\"b'true'\",\"b'false'\",\"b'true'\",\"b'true'\",\"b'false'\",\"b'false'\",\"b'false'\"]\n",
    "results = kc1_40_k7 + outliers\n",
    "len(results)"
   ]
  },
  {
   "cell_type": "code",
   "execution_count": 130,
   "id": "3debce78",
   "metadata": {},
   "outputs": [
    {
     "data": {
      "text/plain": [
       "1396"
      ]
     },
     "execution_count": 130,
     "metadata": {},
     "output_type": "execute_result"
    }
   ],
   "source": [
    "gt_false = [\"b'false'\" for _ in range(len(kc1_40_k7))]\n",
    "gt_true = [\"b'true'\" for _ in range(len(outliers))]\n",
    "gt = gt_false + gt_true\n",
    "len(gt)"
   ]
  },
  {
   "cell_type": "code",
   "execution_count": 131,
   "id": "305544e6",
   "metadata": {
    "scrolled": false
   },
   "outputs": [
    {
     "data": {
      "text/plain": [
       "<sklearn.metrics._plot.confusion_matrix.ConfusionMatrixDisplay at 0x7f69b6faf190>"
      ]
     },
     "execution_count": 131,
     "metadata": {},
     "output_type": "execute_result"
    },
    {
     "data": {
      "image/png": "[encoded data removed]",
      "text/plain": [
       "<Figure size 432x288 with 2 Axes>"
      ]
     },
     "metadata": {
      "needs_background": "light"
     },
     "output_type": "display_data"
    }
   ],
   "source": [
    "matrix = confusion_matrix(gt, results, labels=[\"b'false'\", \"b'true'\"])\n",
    "display = ConfusionMatrixDisplay(confusion_matrix=matrix, display_labels=[\"b'false'\", \"b'true'\"])\n",
    "display.plot()"
   ]
  },
  {
   "cell_type": "code",
   "execution_count": 163,
   "id": "16224b84",
   "metadata": {},
   "outputs": [
    {
     "data": {
      "text/plain": [
       "0.35745614035087714"
      ]
     },
     "execution_count": 163,
     "metadata": {},
     "output_type": "execute_result"
    }
   ],
   "source": [
    "tn = 647\n",
    "fp = 423\n",
    "fn = 163\n",
    "tp = 163\n",
    "r = recall(tp, fn)\n",
    "p = precision(tp, fp)\n",
    "f1_measure = f1(r, p)\n",
    "f1_measure"
   ]
  },
  {
   "cell_type": "markdown",
   "id": "de82b68e",
   "metadata": {},
   "source": [
    "### KC1 = 50%"
   ]
  },
  {
   "cell_type": "markdown",
   "id": "92819ade",
   "metadata": {},
   "source": [
    "### k=3"
   ]
  },
  {
   "cell_type": "code",
   "execution_count": 134,
   "id": "0746b630",
   "metadata": {},
   "outputs": [
    {
     "data": {
      "text/plain": [
       "1218"
      ]
     },
     "execution_count": 134,
     "metadata": {},
     "output_type": "execute_result"
    }
   ],
   "source": [
    "kc1_50_k3 = [\"b'false'\",\"b'false'\",\"b'false'\",\"b'true'\",\"b'true'\",\"b'false'\",\"b'true'\",\"b'false'\",\"b'true'\",\"b'true'\",\"b'false'\",\"b'false'\",\"b'false'\",\"b'false'\",\"b'false'\",\"b'false'\",\"b'true'\",\"b'false'\",\"b'false'\",\"b'true'\",\"b'false'\",\"b'false'\",\"b'false'\",\"b'true'\",\"b'false'\",\"b'true'\",\"b'false'\",\"b'false'\",\"b'false'\",\"b'false'\",\"b'true'\",\"b'false'\",\"b'false'\",\"b'false'\",\"b'false'\",\"b'true'\",\"b'false'\",\"b'true'\",\"b'false'\",\"b'false'\",\"b'false'\",\"b'false'\",\"b'false'\",\"b'true'\",\"b'true'\",\"b'false'\",\"b'false'\",\"b'false'\",\"b'false'\",\"b'false'\",\"b'false'\",\"b'false'\",\"b'true'\",\"b'false'\",\"b'false'\",\"b'false'\",\"b'false'\",\"b'false'\",\"b'false'\",\"b'false'\",\"b'true'\",\"b'false'\",\"b'false'\",\"b'false'\",\"b'false'\",\"b'false'\",\"b'false'\",\"b'false'\",\"b'false'\",\"b'false'\",\"b'false'\",\"b'false'\",\"b'false'\",\"b'true'\",\"b'true'\",\"b'false'\",\"b'false'\",\"b'false'\",\"b'false'\",\"b'false'\",\"b'false'\",\"b'true'\",\"b'true'\",\"b'false'\",\"b'false'\",\"b'true'\",\"b'false'\",\"b'false'\",\"b'true'\",\"b'false'\",\"b'false'\",\"b'false'\",\"b'false'\",\"b'false'\",\"b'false'\",\"b'true'\",\"b'false'\",\"b'true'\",\"b'true'\",\"b'true'\",\"b'false'\",\"b'false'\",\"b'false'\",\"b'false'\",\"b'false'\",\"b'false'\",\"b'false'\",\"b'true'\",\"b'false'\",\"b'false'\",\"b'true'\",\"b'false'\",\"b'false'\",\"b'true'\",\"b'false'\",\"b'false'\",\"b'false'\",\"b'false'\",\"b'true'\",\"b'false'\",\"b'false'\",\"b'false'\",\"b'false'\",\"b'true'\",\"b'false'\",\"b'true'\",\"b'false'\",\"b'false'\",\"b'false'\",\"b'false'\",\"b'false'\",\"b'false'\",\"b'false'\",\"b'false'\",\"b'false'\",\"b'false'\",\"b'true'\",\"b'true'\",\"b'true'\",\"b'true'\",\"b'false'\",\"b'false'\",\"b'false'\",\"b'true'\",\"b'false'\",\"b'false'\",\"b'false'\",\"b'true'\",\"b'false'\",\"b'false'\",\"b'false'\",\"b'true'\",\"b'true'\",\"b'true'\",\"b'false'\",\"b'false'\",\"b'false'\",\"b'false'\",\"b'false'\",\"b'false'\",\"b'false'\",\"b'false'\",\"b'true'\",\"b'false'\",\"b'false'\",\"b'false'\",\"b'false'\",\"b'false'\",\"b'false'\",\"b'true'\",\"b'false'\",\"b'false'\",\"b'false'\",\"b'true'\",\"b'false'\",\"b'false'\",\"b'true'\",\"b'true'\",\"b'false'\",\"b'false'\",\"b'false'\",\"b'false'\",\"b'false'\",\"b'false'\",\"b'false'\",\"b'false'\",\"b'false'\",\"b'false'\",\"b'true'\",\"b'false'\",\"b'true'\",\"b'true'\",\"b'false'\",\"b'true'\",\"b'false'\",\"b'false'\",\"b'false'\",\"b'false'\",\"b'true'\",\"b'false'\",\"b'false'\",\"b'false'\",\"b'false'\",\"b'true'\",\"b'true'\",\"b'false'\",\"b'true'\",\"b'true'\",\"b'false'\",\"b'false'\",\"b'false'\",\"b'false'\",\"b'false'\",\"b'true'\",\"b'false'\",\"b'false'\",\"b'false'\",\"b'false'\",\"b'false'\",\"b'false'\",\"b'false'\",\"b'false'\",\"b'false'\",\"b'true'\",\"b'false'\",\"b'false'\",\"b'true'\",\"b'false'\",\"b'false'\",\"b'false'\",\"b'false'\",\"b'false'\",\"b'true'\",\"b'false'\",\"b'true'\",\"b'false'\",\"b'false'\",\"b'false'\",\"b'false'\",\"b'false'\",\"b'false'\",\"b'true'\",\"b'false'\",\"b'true'\",\"b'false'\",\"b'true'\",\"b'false'\",\"b'false'\",\"b'false'\",\"b'true'\",\"b'false'\",\"b'false'\",\"b'false'\",\"b'false'\",\"b'false'\",\"b'false'\",\"b'false'\",\"b'false'\",\"b'false'\",\"b'false'\",\"b'true'\",\"b'false'\",\"b'false'\",\"b'false'\",\"b'false'\",\"b'false'\",\"b'true'\",\"b'true'\",\"b'false'\",\"b'false'\",\"b'true'\",\"b'true'\",\"b'false'\",\"b'false'\",\"b'false'\",\"b'false'\",\"b'false'\",\"b'true'\",\"b'false'\",\"b'false'\",\"b'false'\",\"b'true'\",\"b'false'\",\"b'false'\",\"b'false'\",\"b'false'\",\"b'false'\",\"b'false'\",\"b'false'\",\"b'true'\",\"b'false'\",\"b'false'\",\"b'false'\",\"b'false'\",\"b'false'\",\"b'true'\",\"b'false'\",\"b'false'\",\"b'false'\",\"b'false'\",\"b'false'\",\"b'true'\",\"b'false'\",\"b'false'\",\"b'false'\",\"b'false'\",\"b'false'\",\"b'false'\",\"b'true'\",\"b'false'\",\"b'false'\",\"b'false'\",\"b'false'\",\"b'true'\",\"b'false'\",\"b'false'\",\"b'false'\",\"b'false'\",\"b'false'\",\"b'false'\",\"b'false'\",\"b'true'\",\"b'false'\",\"b'false'\",\"b'false'\",\"b'false'\",\"b'true'\",\"b'false'\",\"b'false'\",\"b'false'\",\"b'false'\",\"b'false'\",\"b'false'\",\"b'false'\",\"b'false'\",\"b'true'\",\"b'false'\",\"b'false'\",\"b'false'\",\"b'false'\",\"b'true'\",\"b'false'\",\"b'false'\",\"b'false'\",\"b'false'\",\"b'true'\",\"b'false'\",\"b'true'\",\"b'false'\",\"b'false'\",\"b'false'\",\"b'false'\",\"b'false'\",\"b'false'\",\"b'false'\",\"b'false'\",\"b'true'\",\"b'false'\",\"b'false'\",\"b'false'\",\"b'false'\",\"b'false'\",\"b'false'\",\"b'true'\",\"b'false'\",\"b'true'\",\"b'true'\",\"b'false'\",\"b'false'\",\"b'true'\",\"b'false'\",\"b'false'\",\"b'false'\",\"b'false'\",\"b'false'\",\"b'true'\",\"b'false'\",\"b'false'\",\"b'true'\",\"b'false'\",\"b'false'\",\"b'false'\",\"b'false'\",\"b'false'\",\"b'false'\",\"b'false'\",\"b'false'\",\"b'true'\",\"b'true'\",\"b'false'\",\"b'false'\",\"b'false'\",\"b'false'\",\"b'true'\",\"b'false'\",\"b'false'\",\"b'true'\",\"b'false'\",\"b'false'\",\"b'false'\",\"b'false'\",\"b'false'\",\"b'true'\",\"b'true'\",\"b'false'\",\"b'false'\",\"b'false'\",\"b'true'\",\"b'false'\",\"b'false'\",\"b'false'\",\"b'false'\",\"b'false'\",\"b'false'\",\"b'true'\",\"b'false'\",\"b'false'\",\"b'false'\",\"b'false'\",\"b'false'\",\"b'true'\",\"b'true'\",\"b'false'\",\"b'false'\",\"b'false'\",\"b'false'\",\"b'false'\",\"b'true'\",\"b'true'\",\"b'true'\",\"b'false'\",\"b'false'\",\"b'false'\",\"b'false'\",\"b'false'\",\"b'false'\",\"b'false'\",\"b'false'\",\"b'false'\",\"b'false'\",\"b'false'\",\"b'false'\",\"b'true'\",\"b'true'\",\"b'true'\",\"b'false'\",\"b'false'\",\"b'false'\",\"b'false'\",\"b'true'\",\"b'false'\",\"b'false'\",\"b'false'\",\"b'false'\",\"b'false'\",\"b'false'\",\"b'false'\",\"b'false'\",\"b'false'\",\"b'false'\",\"b'true'\",\"b'true'\",\"b'false'\",\"b'true'\",\"b'false'\",\"b'true'\",\"b'false'\",\"b'true'\",\"b'true'\",\"b'true'\",\"b'false'\",\"b'false'\",\"b'false'\",\"b'false'\",\"b'true'\",\"b'true'\",\"b'false'\",\"b'false'\",\"b'false'\",\"b'false'\",\"b'false'\",\"b'false'\",\"b'true'\",\"b'false'\",\"b'false'\",\"b'false'\",\"b'false'\",\"b'false'\",\"b'true'\",\"b'true'\",\"b'false'\",\"b'false'\",\"b'true'\",\"b'true'\",\"b'false'\",\"b'false'\",\"b'false'\",\"b'false'\",\"b'false'\",\"b'false'\",\"b'false'\",\"b'false'\",\"b'false'\",\"b'false'\",\"b'false'\",\"b'true'\",\"b'false'\",\"b'false'\",\"b'false'\",\"b'false'\",\"b'false'\",\"b'false'\",\"b'false'\",\"b'true'\",\"b'false'\",\"b'true'\",\"b'false'\",\"b'false'\",\"b'false'\",\"b'false'\",\"b'false'\",\"b'false'\",\"b'true'\",\"b'false'\",\"b'true'\",\"b'false'\",\"b'false'\",\"b'true'\",\"b'false'\",\"b'false'\",\"b'false'\",\"b'false'\",\"b'false'\",\"b'false'\",\"b'false'\",\"b'false'\",\"b'false'\",\"b'false'\",\"b'false'\",\"b'false'\",\"b'true'\",\"b'false'\",\"b'false'\",\"b'false'\",\"b'true'\",\"b'true'\",\"b'false'\",\"b'false'\",\"b'true'\",\"b'false'\",\"b'true'\",\"b'true'\",\"b'true'\",\"b'false'\",\"b'false'\",\"b'false'\",\"b'false'\",\"b'false'\",\"b'false'\",\"b'false'\",\"b'false'\",\"b'false'\",\"b'false'\",\"b'false'\",\"b'true'\",\"b'true'\",\"b'false'\",\"b'false'\",\"b'false'\",\"b'false'\",\"b'false'\",\"b'false'\",\"b'true'\",\"b'true'\",\"b'false'\",\"b'false'\",\"b'false'\",\"b'false'\",\"b'false'\",\"b'true'\",\"b'true'\",\"b'false'\",\"b'true'\",\"b'true'\",\"b'false'\",\"b'true'\",\"b'false'\",\"b'false'\",\"b'false'\",\"b'true'\",\"b'true'\",\"b'false'\",\"b'false'\",\"b'false'\",\"b'false'\",\"b'false'\",\"b'false'\",\"b'false'\",\"b'false'\",\"b'true'\",\"b'false'\",\"b'false'\",\"b'false'\",\"b'false'\",\"b'false'\",\"b'false'\",\"b'true'\",\"b'false'\",\"b'true'\",\"b'false'\",\"b'false'\",\"b'true'\",\"b'false'\",\"b'false'\",\"b'false'\",\"b'false'\",\"b'false'\",\"b'false'\",\"b'false'\",\"b'false'\",\"b'true'\",\"b'false'\",\"b'false'\",\"b'false'\",\"b'true'\",\"b'true'\",\"b'false'\",\"b'false'\",\"b'false'\",\"b'false'\",\"b'false'\",\"b'false'\",\"b'true'\",\"b'false'\",\"b'false'\",\"b'false'\",\"b'false'\",\"b'false'\",\"b'true'\",\"b'false'\",\"b'false'\",\"b'false'\",\"b'false'\",\"b'true'\",\"b'true'\",\"b'false'\",\"b'false'\",\"b'false'\",\"b'false'\",\"b'false'\",\"b'false'\",\"b'false'\",\"b'false'\",\"b'false'\",\"b'false'\",\"b'true'\",\"b'false'\",\"b'false'\",\"b'true'\",\"b'true'\",\"b'false'\",\"b'false'\",\"b'false'\",\"b'false'\",\"b'false'\",\"b'false'\",\"b'true'\",\"b'false'\",\"b'false'\",\"b'true'\",\"b'false'\",\"b'false'\",\"b'false'\",\"b'true'\",\"b'false'\",\"b'false'\",\"b'false'\",\"b'false'\",\"b'false'\",\"b'true'\",\"b'true'\",\"b'false'\",\"b'true'\",\"b'false'\",\"b'false'\",\"b'true'\",\"b'false'\",\"b'true'\",\"b'true'\",\"b'false'\",\"b'false'\",\"b'true'\",\"b'true'\",\"b'false'\",\"b'false'\",\"b'false'\",\"b'false'\",\"b'false'\",\"b'true'\",\"b'true'\",\"b'false'\",\"b'true'\",\"b'false'\",\"b'true'\",\"b'true'\",\"b'false'\",\"b'false'\",\"b'false'\",\"b'false'\",\"b'false'\",\"b'false'\",\"b'true'\",\"b'false'\",\"b'true'\",\"b'true'\",\"b'false'\",\"b'true'\",\"b'false'\",\"b'true'\",\"b'false'\",\"b'true'\",\"b'false'\",\"b'false'\",\"b'false'\",\"b'false'\",\"b'false'\",\"b'false'\",\"b'true'\",\"b'false'\",\"b'false'\",\"b'false'\",\"b'false'\",\"b'false'\",\"b'false'\",\"b'true'\",\"b'false'\",\"b'false'\",\"b'false'\",\"b'false'\",\"b'false'\",\"b'false'\",\"b'false'\",\"b'true'\",\"b'false'\",\"b'true'\",\"b'false'\",\"b'false'\",\"b'true'\",\"b'false'\",\"b'false'\",\"b'false'\",\"b'true'\",\"b'false'\",\"b'false'\",\"b'false'\",\"b'false'\",\"b'true'\",\"b'false'\",\"b'false'\",\"b'false'\",\"b'true'\",\"b'true'\",\"b'false'\",\"b'false'\",\"b'false'\",\"b'true'\",\"b'false'\",\"b'true'\",\"b'true'\",\"b'false'\",\"b'false'\",\"b'false'\",\"b'true'\",\"b'false'\",\"b'false'\",\"b'false'\",\"b'false'\",\"b'false'\",\"b'false'\",\"b'false'\",\"b'false'\",\"b'false'\",\"b'false'\",\"b'true'\",\"b'false'\",\"b'false'\",\"b'false'\",\"b'false'\",\"b'false'\",\"b'false'\",\"b'false'\",\"b'false'\",\"b'false'\",\"b'false'\",\"b'false'\",\"b'false'\",\"b'true'\",\"b'false'\",\"b'false'\",\"b'false'\",\"b'true'\",\"b'false'\",\"b'false'\",\"b'false'\",\"b'false'\",\"b'false'\",\"b'false'\",\"b'true'\",\"b'false'\",\"b'false'\",\"b'false'\",\"b'true'\",\"b'true'\",\"b'true'\",\"b'true'\",\"b'true'\",\"b'false'\",\"b'false'\",\"b'true'\",\"b'false'\",\"b'false'\",\"b'true'\",\"b'true'\",\"b'true'\",\"b'false'\",\"b'false'\",\"b'false'\",\"b'false'\",\"b'true'\",\"b'false'\",\"b'false'\",\"b'false'\",\"b'false'\",\"b'false'\",\"b'false'\",\"b'true'\",\"b'false'\",\"b'false'\",\"b'false'\",\"b'true'\",\"b'false'\",\"b'false'\",\"b'false'\",\"b'false'\",\"b'false'\",\"b'true'\",\"b'false'\",\"b'true'\",\"b'true'\",\"b'false'\",\"b'true'\",\"b'false'\",\"b'false'\",\"b'false'\",\"b'false'\",\"b'true'\",\"b'false'\",\"b'false'\",\"b'false'\",\"b'true'\",\"b'false'\",\"b'true'\",\"b'false'\",\"b'false'\",\"b'false'\",\"b'false'\",\"b'true'\",\"b'false'\",\"b'false'\",\"b'false'\",\"b'true'\",\"b'true'\",\"b'false'\",\"b'false'\",\"b'false'\",\"b'false'\",\"b'false'\",\"b'false'\",\"b'false'\",\"b'false'\",\"b'true'\",\"b'false'\",\"b'true'\",\"b'false'\",\"b'true'\",\"b'true'\",\"b'false'\",\"b'false'\",\"b'false'\",\"b'false'\",\"b'false'\",\"b'true'\"]\n",
    "outliers = [\"b'true'\",\"b'false'\",\"b'false'\",\"b'false'\",\"b'false'\",\"b'false'\",\"b'false'\",\"b'false'\",\"b'false'\",\"b'false'\",\"b'false'\",\"b'false'\",\"b'false'\",\"b'false'\",\"b'true'\",\"b'true'\",\"b'true'\",\"b'false'\",\"b'false'\",\"b'false'\",\"b'false'\",\"b'true'\",\"b'true'\",\"b'false'\",\"b'false'\",\"b'false'\",\"b'false'\",\"b'false'\",\"b'false'\",\"b'true'\",\"b'true'\",\"b'true'\",\"b'false'\",\"b'false'\",\"b'false'\",\"b'false'\",\"b'false'\",\"b'false'\",\"b'true'\",\"b'false'\",\"b'true'\",\"b'true'\",\"b'false'\",\"b'false'\",\"b'true'\",\"b'false'\",\"b'true'\",\"b'false'\",\"b'false'\",\"b'true'\",\"b'true'\",\"b'false'\",\"b'false'\",\"b'false'\",\"b'true'\",\"b'true'\",\"b'false'\",\"b'false'\",\"b'false'\",\"b'false'\",\"b'false'\",\"b'false'\",\"b'false'\",\"b'true'\",\"b'true'\",\"b'false'\",\"b'false'\",\"b'false'\",\"b'false'\",\"b'true'\",\"b'false'\",\"b'false'\",\"b'false'\",\"b'false'\",\"b'false'\",\"b'false'\",\"b'false'\",\"b'true'\",\"b'true'\",\"b'false'\",\"b'false'\",\"b'false'\",\"b'false'\",\"b'true'\",\"b'false'\",\"b'true'\",\"b'false'\",\"b'true'\",\"b'false'\",\"b'false'\",\"b'true'\",\"b'false'\",\"b'false'\",\"b'false'\",\"b'false'\",\"b'false'\",\"b'false'\",\"b'true'\",\"b'false'\",\"b'false'\",\"b'true'\",\"b'true'\",\"b'true'\",\"b'false'\",\"b'false'\",\"b'true'\",\"b'false'\",\"b'false'\",\"b'false'\",\"b'false'\",\"b'false'\",\"b'true'\",\"b'false'\",\"b'false'\",\"b'false'\",\"b'false'\",\"b'true'\",\"b'false'\",\"b'false'\",\"b'false'\",\"b'false'\",\"b'false'\",\"b'true'\",\"b'false'\",\"b'false'\",\"b'false'\",\"b'true'\",\"b'false'\",\"b'true'\",\"b'false'\",\"b'false'\",\"b'false'\",\"b'false'\",\"b'true'\",\"b'false'\",\"b'false'\",\"b'true'\",\"b'false'\",\"b'true'\",\"b'false'\",\"b'false'\",\"b'false'\",\"b'false'\",\"b'false'\",\"b'false'\",\"b'true'\",\"b'false'\",\"b'false'\",\"b'false'\",\"b'true'\",\"b'false'\",\"b'false'\",\"b'false'\",\"b'true'\",\"b'false'\",\"b'false'\",\"b'true'\",\"b'false'\",\"b'false'\",\"b'false'\",\"b'false'\",\"b'false'\",\"b'false'\",\"b'false'\",\"b'false'\",\"b'false'\",\"b'false'\",\"b'false'\",\"b'true'\",\"b'false'\",\"b'false'\",\"b'false'\",\"b'false'\",\"b'false'\",\"b'false'\",\"b'false'\",\"b'false'\",\"b'true'\",\"b'false'\",\"b'false'\",\"b'false'\",\"b'false'\",\"b'false'\",\"b'false'\",\"b'false'\",\"b'true'\",\"b'false'\",\"b'false'\",\"b'false'\",\"b'true'\",\"b'false'\",\"b'false'\",\"b'false'\",\"b'false'\",\"b'true'\",\"b'true'\",\"b'true'\",\"b'true'\",\"b'false'\",\"b'false'\",\"b'false'\",\"b'true'\",\"b'false'\",\"b'false'\",\"b'true'\",\"b'false'\",\"b'false'\",\"b'true'\",\"b'false'\",\"b'false'\",\"b'false'\",\"b'false'\",\"b'false'\",\"b'false'\",\"b'false'\",\"b'true'\",\"b'true'\",\"b'true'\",\"b'false'\",\"b'false'\",\"b'true'\",\"b'false'\",\"b'true'\",\"b'false'\",\"b'false'\",\"b'false'\",\"b'false'\",\"b'false'\",\"b'false'\",\"b'false'\",\"b'false'\",\"b'false'\",\"b'false'\",\"b'false'\",\"b'false'\",\"b'false'\",\"b'false'\",\"b'false'\",\"b'false'\",\"b'false'\",\"b'false'\",\"b'false'\",\"b'false'\",\"b'true'\",\"b'false'\",\"b'false'\",\"b'false'\",\"b'false'\",\"b'true'\",\"b'false'\",\"b'true'\",\"b'false'\",\"b'true'\",\"b'true'\",\"b'false'\",\"b'true'\",\"b'true'\",\"b'false'\",\"b'false'\",\"b'false'\",\"b'false'\",\"b'true'\",\"b'false'\",\"b'true'\",\"b'false'\",\"b'false'\",\"b'false'\",\"b'false'\",\"b'false'\",\"b'true'\",\"b'true'\",\"b'true'\",\"b'false'\",\"b'false'\",\"b'false'\",\"b'true'\",\"b'false'\",\"b'true'\",\"b'true'\",\"b'false'\",\"b'false'\",\"b'false'\",\"b'true'\",\"b'true'\",\"b'false'\",\"b'true'\",\"b'true'\",\"b'true'\",\"b'false'\",\"b'false'\",\"b'true'\",\"b'true'\",\"b'false'\",\"b'false'\",\"b'false'\",\"b'true'\",\"b'false'\",\"b'false'\",\"b'false'\",\"b'true'\",\"b'false'\",\"b'false'\",\"b'false'\",\"b'false'\",\"b'false'\",\"b'false'\",\"b'false'\",\"b'true'\",\"b'false'\",\"b'false'\",\"b'false'\",\"b'false'\",\"b'true'\",\"b'false'\",\"b'false'\",\"b'false'\",\"b'true'\",\"b'false'\",\"b'false'\",\"b'false'\",\"b'false'\",\"b'true'\",\"b'true'\",\"b'false'\",\"b'true'\",\"b'false'\"]\n",
    "results = kc1_50_k3 + outliers\n",
    "len(results)"
   ]
  },
  {
   "cell_type": "code",
   "execution_count": 135,
   "id": "b4d66c1b",
   "metadata": {},
   "outputs": [
    {
     "data": {
      "text/plain": [
       "1218"
      ]
     },
     "execution_count": 135,
     "metadata": {},
     "output_type": "execute_result"
    }
   ],
   "source": [
    "gt_false = [\"b'false'\" for _ in range(len(kc1_50_k3))]\n",
    "gt_true = [\"b'true'\" for _ in range(len(outliers))]\n",
    "gt = gt_false + gt_true\n",
    "len(gt)"
   ]
  },
  {
   "cell_type": "code",
   "execution_count": 136,
   "id": "5f4a7c22",
   "metadata": {
    "scrolled": false
   },
   "outputs": [
    {
     "data": {
      "text/plain": [
       "<sklearn.metrics._plot.confusion_matrix.ConfusionMatrixDisplay at 0x7f69b6b2b8b0>"
      ]
     },
     "execution_count": 136,
     "metadata": {},
     "output_type": "execute_result"
    },
    {
     "data": {
      "image/png": "[encoded data removed]",
      "text/plain": [
       "<Figure size 432x288 with 2 Axes>"
      ]
     },
     "metadata": {
      "needs_background": "light"
     },
     "output_type": "display_data"
    }
   ],
   "source": [
    "matrix = confusion_matrix(gt, results, labels=[\"b'false'\", \"b'true'\"])\n",
    "display = ConfusionMatrixDisplay(confusion_matrix=matrix, display_labels=[\"b'false'\", \"b'true'\"])\n",
    "display.plot()"
   ]
  },
  {
   "cell_type": "code",
   "execution_count": 164,
   "id": "83f391f2",
   "metadata": {},
   "outputs": [
    {
     "data": {
      "text/plain": [
       "0.28125"
      ]
     },
     "execution_count": 164,
     "metadata": {},
     "output_type": "execute_result"
    }
   ],
   "source": [
    "tn = 668\n",
    "fp = 224\n",
    "fn = 236\n",
    "tp = 90\n",
    "r = recall(tp, fn)\n",
    "p = precision(tp, fp)\n",
    "f1_measure = f1(r, p)\n",
    "f1_measure"
   ]
  },
  {
   "cell_type": "markdown",
   "id": "9370d22b",
   "metadata": {},
   "source": [
    "### k=5"
   ]
  },
  {
   "cell_type": "code",
   "execution_count": 138,
   "id": "f1144072",
   "metadata": {},
   "outputs": [
    {
     "data": {
      "text/plain": [
       "1218"
      ]
     },
     "execution_count": 138,
     "metadata": {},
     "output_type": "execute_result"
    }
   ],
   "source": [
    "kc1_50_k5 = [\"b'false'\",\"b'false'\",\"b'false'\",\"b'true'\",\"b'true'\",\"b'false'\",\"b'true'\",\"b'false'\",\"b'true'\",\"b'true'\",\"b'false'\",\"b'false'\",\"b'false'\",\"b'false'\",\"b'false'\",\"b'false'\",\"b'true'\",\"b'false'\",\"b'false'\",\"b'true'\",\"b'false'\",\"b'false'\",\"b'false'\",\"b'true'\",\"b'false'\",\"b'true'\",\"b'false'\",\"b'false'\",\"b'false'\",\"b'false'\",\"b'true'\",\"b'false'\",\"b'false'\",\"b'false'\",\"b'false'\",\"b'true'\",\"b'false'\",\"b'true'\",\"b'false'\",\"b'false'\",\"b'true'\",\"b'false'\",\"b'false'\",\"b'true'\",\"b'true'\",\"b'false'\",\"b'false'\",\"b'false'\",\"b'false'\",\"b'false'\",\"b'false'\",\"b'false'\",\"b'true'\",\"b'false'\",\"b'false'\",\"b'false'\",\"b'true'\",\"b'false'\",\"b'false'\",\"b'false'\",\"b'true'\",\"b'false'\",\"b'false'\",\"b'false'\",\"b'false'\",\"b'false'\",\"b'false'\",\"b'false'\",\"b'false'\",\"b'false'\",\"b'false'\",\"b'false'\",\"b'false'\",\"b'true'\",\"b'true'\",\"b'false'\",\"b'false'\",\"b'false'\",\"b'false'\",\"b'false'\",\"b'false'\",\"b'true'\",\"b'true'\",\"b'false'\",\"b'true'\",\"b'true'\",\"b'false'\",\"b'false'\",\"b'true'\",\"b'false'\",\"b'false'\",\"b'false'\",\"b'true'\",\"b'false'\",\"b'false'\",\"b'true'\",\"b'false'\",\"b'true'\",\"b'true'\",\"b'true'\",\"b'false'\",\"b'false'\",\"b'false'\",\"b'false'\",\"b'false'\",\"b'false'\",\"b'false'\",\"b'true'\",\"b'false'\",\"b'false'\",\"b'true'\",\"b'false'\",\"b'false'\",\"b'true'\",\"b'false'\",\"b'false'\",\"b'true'\",\"b'false'\",\"b'true'\",\"b'false'\",\"b'false'\",\"b'false'\",\"b'false'\",\"b'true'\",\"b'false'\",\"b'true'\",\"b'true'\",\"b'false'\",\"b'false'\",\"b'false'\",\"b'false'\",\"b'false'\",\"b'false'\",\"b'false'\",\"b'false'\",\"b'false'\",\"b'true'\",\"b'true'\",\"b'true'\",\"b'true'\",\"b'false'\",\"b'false'\",\"b'false'\",\"b'true'\",\"b'false'\",\"b'true'\",\"b'false'\",\"b'true'\",\"b'false'\",\"b'false'\",\"b'false'\",\"b'true'\",\"b'true'\",\"b'true'\",\"b'false'\",\"b'true'\",\"b'false'\",\"b'false'\",\"b'true'\",\"b'false'\",\"b'false'\",\"b'false'\",\"b'true'\",\"b'true'\",\"b'true'\",\"b'false'\",\"b'false'\",\"b'false'\",\"b'false'\",\"b'true'\",\"b'false'\",\"b'false'\",\"b'false'\",\"b'true'\",\"b'false'\",\"b'false'\",\"b'true'\",\"b'true'\",\"b'false'\",\"b'false'\",\"b'false'\",\"b'false'\",\"b'false'\",\"b'false'\",\"b'false'\",\"b'false'\",\"b'false'\",\"b'false'\",\"b'true'\",\"b'false'\",\"b'true'\",\"b'true'\",\"b'false'\",\"b'true'\",\"b'false'\",\"b'false'\",\"b'false'\",\"b'false'\",\"b'true'\",\"b'false'\",\"b'false'\",\"b'false'\",\"b'false'\",\"b'true'\",\"b'true'\",\"b'false'\",\"b'true'\",\"b'true'\",\"b'false'\",\"b'true'\",\"b'false'\",\"b'false'\",\"b'false'\",\"b'true'\",\"b'false'\",\"b'true'\",\"b'false'\",\"b'false'\",\"b'false'\",\"b'false'\",\"b'true'\",\"b'true'\",\"b'false'\",\"b'true'\",\"b'false'\",\"b'false'\",\"b'true'\",\"b'false'\",\"b'false'\",\"b'true'\",\"b'false'\",\"b'false'\",\"b'true'\",\"b'false'\",\"b'true'\",\"b'false'\",\"b'false'\",\"b'false'\",\"b'false'\",\"b'false'\",\"b'false'\",\"b'true'\",\"b'false'\",\"b'true'\",\"b'false'\",\"b'true'\",\"b'false'\",\"b'false'\",\"b'false'\",\"b'true'\",\"b'false'\",\"b'false'\",\"b'false'\",\"b'false'\",\"b'true'\",\"b'false'\",\"b'false'\",\"b'false'\",\"b'false'\",\"b'true'\",\"b'true'\",\"b'false'\",\"b'false'\",\"b'false'\",\"b'false'\",\"b'false'\",\"b'true'\",\"b'true'\",\"b'false'\",\"b'false'\",\"b'true'\",\"b'true'\",\"b'false'\",\"b'false'\",\"b'false'\",\"b'false'\",\"b'false'\",\"b'true'\",\"b'false'\",\"b'false'\",\"b'true'\",\"b'true'\",\"b'false'\",\"b'false'\",\"b'false'\",\"b'false'\",\"b'false'\",\"b'false'\",\"b'false'\",\"b'true'\",\"b'false'\",\"b'false'\",\"b'false'\",\"b'false'\",\"b'false'\",\"b'true'\",\"b'true'\",\"b'false'\",\"b'false'\",\"b'true'\",\"b'false'\",\"b'true'\",\"b'false'\",\"b'false'\",\"b'true'\",\"b'false'\",\"b'false'\",\"b'false'\",\"b'true'\",\"b'false'\",\"b'false'\",\"b'false'\",\"b'false'\",\"b'true'\",\"b'false'\",\"b'false'\",\"b'true'\",\"b'false'\",\"b'false'\",\"b'false'\",\"b'false'\",\"b'true'\",\"b'false'\",\"b'false'\",\"b'false'\",\"b'false'\",\"b'true'\",\"b'true'\",\"b'false'\",\"b'false'\",\"b'false'\",\"b'false'\",\"b'false'\",\"b'false'\",\"b'false'\",\"b'true'\",\"b'false'\",\"b'false'\",\"b'false'\",\"b'false'\",\"b'true'\",\"b'false'\",\"b'true'\",\"b'false'\",\"b'false'\",\"b'true'\",\"b'false'\",\"b'true'\",\"b'false'\",\"b'true'\",\"b'false'\",\"b'false'\",\"b'false'\",\"b'false'\",\"b'false'\",\"b'false'\",\"b'true'\",\"b'false'\",\"b'false'\",\"b'false'\",\"b'false'\",\"b'false'\",\"b'false'\",\"b'true'\",\"b'false'\",\"b'true'\",\"b'true'\",\"b'false'\",\"b'false'\",\"b'true'\",\"b'false'\",\"b'false'\",\"b'false'\",\"b'false'\",\"b'false'\",\"b'true'\",\"b'false'\",\"b'false'\",\"b'true'\",\"b'false'\",\"b'false'\",\"b'false'\",\"b'false'\",\"b'true'\",\"b'false'\",\"b'true'\",\"b'false'\",\"b'true'\",\"b'true'\",\"b'false'\",\"b'false'\",\"b'false'\",\"b'false'\",\"b'true'\",\"b'false'\",\"b'false'\",\"b'true'\",\"b'false'\",\"b'false'\",\"b'true'\",\"b'false'\",\"b'false'\",\"b'true'\",\"b'true'\",\"b'false'\",\"b'false'\",\"b'false'\",\"b'true'\",\"b'false'\",\"b'false'\",\"b'false'\",\"b'true'\",\"b'false'\",\"b'false'\",\"b'true'\",\"b'false'\",\"b'false'\",\"b'false'\",\"b'false'\",\"b'false'\",\"b'true'\",\"b'true'\",\"b'false'\",\"b'false'\",\"b'false'\",\"b'false'\",\"b'false'\",\"b'true'\",\"b'true'\",\"b'true'\",\"b'false'\",\"b'false'\",\"b'false'\",\"b'false'\",\"b'false'\",\"b'false'\",\"b'true'\",\"b'false'\",\"b'false'\",\"b'false'\",\"b'false'\",\"b'false'\",\"b'true'\",\"b'true'\",\"b'true'\",\"b'false'\",\"b'false'\",\"b'false'\",\"b'false'\",\"b'true'\",\"b'false'\",\"b'false'\",\"b'false'\",\"b'false'\",\"b'true'\",\"b'false'\",\"b'false'\",\"b'false'\",\"b'false'\",\"b'false'\",\"b'true'\",\"b'true'\",\"b'false'\",\"b'true'\",\"b'false'\",\"b'true'\",\"b'false'\",\"b'true'\",\"b'true'\",\"b'true'\",\"b'false'\",\"b'true'\",\"b'false'\",\"b'false'\",\"b'true'\",\"b'true'\",\"b'false'\",\"b'false'\",\"b'true'\",\"b'false'\",\"b'true'\",\"b'false'\",\"b'true'\",\"b'false'\",\"b'false'\",\"b'true'\",\"b'true'\",\"b'true'\",\"b'true'\",\"b'true'\",\"b'false'\",\"b'false'\",\"b'true'\",\"b'true'\",\"b'false'\",\"b'false'\",\"b'false'\",\"b'false'\",\"b'false'\",\"b'false'\",\"b'false'\",\"b'false'\",\"b'false'\",\"b'false'\",\"b'false'\",\"b'true'\",\"b'false'\",\"b'false'\",\"b'false'\",\"b'false'\",\"b'false'\",\"b'false'\",\"b'false'\",\"b'true'\",\"b'false'\",\"b'true'\",\"b'false'\",\"b'false'\",\"b'false'\",\"b'false'\",\"b'false'\",\"b'false'\",\"b'true'\",\"b'false'\",\"b'true'\",\"b'false'\",\"b'false'\",\"b'true'\",\"b'false'\",\"b'false'\",\"b'false'\",\"b'false'\",\"b'false'\",\"b'false'\",\"b'true'\",\"b'false'\",\"b'false'\",\"b'false'\",\"b'false'\",\"b'false'\",\"b'true'\",\"b'false'\",\"b'false'\",\"b'false'\",\"b'true'\",\"b'true'\",\"b'false'\",\"b'false'\",\"b'true'\",\"b'false'\",\"b'true'\",\"b'true'\",\"b'true'\",\"b'false'\",\"b'false'\",\"b'false'\",\"b'false'\",\"b'false'\",\"b'false'\",\"b'false'\",\"b'false'\",\"b'false'\",\"b'false'\",\"b'false'\",\"b'true'\",\"b'true'\",\"b'false'\",\"b'false'\",\"b'true'\",\"b'false'\",\"b'false'\",\"b'false'\",\"b'true'\",\"b'true'\",\"b'false'\",\"b'false'\",\"b'false'\",\"b'false'\",\"b'false'\",\"b'true'\",\"b'true'\",\"b'false'\",\"b'true'\",\"b'true'\",\"b'false'\",\"b'true'\",\"b'false'\",\"b'false'\",\"b'false'\",\"b'true'\",\"b'true'\",\"b'false'\",\"b'true'\",\"b'false'\",\"b'false'\",\"b'false'\",\"b'false'\",\"b'true'\",\"b'false'\",\"b'true'\",\"b'false'\",\"b'false'\",\"b'false'\",\"b'false'\",\"b'false'\",\"b'false'\",\"b'true'\",\"b'false'\",\"b'true'\",\"b'false'\",\"b'false'\",\"b'true'\",\"b'false'\",\"b'false'\",\"b'true'\",\"b'false'\",\"b'false'\",\"b'false'\",\"b'false'\",\"b'false'\",\"b'true'\",\"b'false'\",\"b'true'\",\"b'false'\",\"b'true'\",\"b'true'\",\"b'false'\",\"b'false'\",\"b'false'\",\"b'true'\",\"b'false'\",\"b'false'\",\"b'true'\",\"b'false'\",\"b'true'\",\"b'false'\",\"b'false'\",\"b'false'\",\"b'true'\",\"b'false'\",\"b'false'\",\"b'false'\",\"b'false'\",\"b'true'\",\"b'true'\",\"b'false'\",\"b'false'\",\"b'true'\",\"b'false'\",\"b'false'\",\"b'false'\",\"b'false'\",\"b'false'\",\"b'false'\",\"b'false'\",\"b'true'\",\"b'false'\",\"b'false'\",\"b'true'\",\"b'true'\",\"b'false'\",\"b'false'\",\"b'false'\",\"b'false'\",\"b'false'\",\"b'false'\",\"b'true'\",\"b'false'\",\"b'false'\",\"b'true'\",\"b'false'\",\"b'false'\",\"b'false'\",\"b'true'\",\"b'true'\",\"b'false'\",\"b'false'\",\"b'false'\",\"b'false'\",\"b'true'\",\"b'true'\",\"b'false'\",\"b'true'\",\"b'false'\",\"b'false'\",\"b'true'\",\"b'false'\",\"b'true'\",\"b'true'\",\"b'false'\",\"b'true'\",\"b'true'\",\"b'true'\",\"b'false'\",\"b'false'\",\"b'false'\",\"b'true'\",\"b'false'\",\"b'true'\",\"b'true'\",\"b'false'\",\"b'true'\",\"b'false'\",\"b'true'\",\"b'true'\",\"b'false'\",\"b'false'\",\"b'false'\",\"b'false'\",\"b'false'\",\"b'false'\",\"b'true'\",\"b'false'\",\"b'true'\",\"b'true'\",\"b'false'\",\"b'true'\",\"b'true'\",\"b'true'\",\"b'false'\",\"b'true'\",\"b'false'\",\"b'false'\",\"b'false'\",\"b'false'\",\"b'true'\",\"b'false'\",\"b'true'\",\"b'true'\",\"b'false'\",\"b'false'\",\"b'false'\",\"b'false'\",\"b'false'\",\"b'true'\",\"b'true'\",\"b'false'\",\"b'false'\",\"b'false'\",\"b'false'\",\"b'false'\",\"b'false'\",\"b'true'\",\"b'false'\",\"b'true'\",\"b'false'\",\"b'false'\",\"b'true'\",\"b'false'\",\"b'true'\",\"b'false'\",\"b'true'\",\"b'false'\",\"b'false'\",\"b'false'\",\"b'false'\",\"b'true'\",\"b'true'\",\"b'false'\",\"b'false'\",\"b'true'\",\"b'true'\",\"b'false'\",\"b'false'\",\"b'false'\",\"b'true'\",\"b'false'\",\"b'true'\",\"b'true'\",\"b'false'\",\"b'false'\",\"b'false'\",\"b'true'\",\"b'false'\",\"b'false'\",\"b'true'\",\"b'false'\",\"b'false'\",\"b'false'\",\"b'false'\",\"b'false'\",\"b'false'\",\"b'false'\",\"b'true'\",\"b'false'\",\"b'false'\",\"b'false'\",\"b'false'\",\"b'false'\",\"b'false'\",\"b'false'\",\"b'false'\",\"b'false'\",\"b'false'\",\"b'false'\",\"b'false'\",\"b'true'\",\"b'false'\",\"b'false'\",\"b'false'\",\"b'true'\",\"b'false'\",\"b'false'\",\"b'false'\",\"b'false'\",\"b'false'\",\"b'false'\",\"b'true'\",\"b'false'\",\"b'false'\",\"b'false'\",\"b'true'\",\"b'true'\",\"b'true'\",\"b'true'\",\"b'true'\",\"b'false'\",\"b'false'\",\"b'true'\",\"b'true'\",\"b'false'\",\"b'true'\",\"b'true'\",\"b'true'\",\"b'false'\",\"b'false'\",\"b'false'\",\"b'false'\",\"b'true'\",\"b'false'\",\"b'false'\",\"b'false'\",\"b'false'\",\"b'false'\",\"b'false'\",\"b'true'\",\"b'false'\",\"b'false'\",\"b'false'\",\"b'true'\",\"b'true'\",\"b'true'\",\"b'false'\",\"b'false'\",\"b'false'\",\"b'true'\",\"b'false'\",\"b'true'\",\"b'true'\",\"b'false'\",\"b'true'\",\"b'false'\",\"b'false'\",\"b'false'\",\"b'true'\",\"b'true'\",\"b'true'\",\"b'false'\",\"b'false'\",\"b'true'\",\"b'false'\",\"b'true'\",\"b'true'\",\"b'true'\",\"b'false'\",\"b'false'\",\"b'true'\",\"b'false'\",\"b'false'\",\"b'false'\",\"b'true'\",\"b'true'\",\"b'false'\",\"b'false'\",\"b'false'\",\"b'false'\",\"b'false'\",\"b'false'\",\"b'true'\",\"b'false'\",\"b'true'\",\"b'false'\",\"b'true'\",\"b'false'\",\"b'true'\",\"b'true'\",\"b'false'\",\"b'false'\",\"b'false'\",\"b'false'\",\"b'false'\",\"b'true'\"]\n",
    "outliers = [\"b'true'\",\"b'false'\",\"b'false'\",\"b'false'\",\"b'true'\",\"b'false'\",\"b'true'\",\"b'false'\",\"b'false'\",\"b'false'\",\"b'false'\",\"b'false'\",\"b'false'\",\"b'false'\",\"b'true'\",\"b'true'\",\"b'true'\",\"b'false'\",\"b'false'\",\"b'false'\",\"b'false'\",\"b'true'\",\"b'true'\",\"b'false'\",\"b'false'\",\"b'false'\",\"b'false'\",\"b'false'\",\"b'true'\",\"b'true'\",\"b'true'\",\"b'true'\",\"b'false'\",\"b'false'\",\"b'false'\",\"b'false'\",\"b'false'\",\"b'false'\",\"b'true'\",\"b'false'\",\"b'true'\",\"b'true'\",\"b'false'\",\"b'false'\",\"b'true'\",\"b'false'\",\"b'true'\",\"b'false'\",\"b'false'\",\"b'true'\",\"b'true'\",\"b'true'\",\"b'false'\",\"b'false'\",\"b'true'\",\"b'true'\",\"b'false'\",\"b'false'\",\"b'false'\",\"b'false'\",\"b'false'\",\"b'false'\",\"b'false'\",\"b'true'\",\"b'true'\",\"b'false'\",\"b'false'\",\"b'false'\",\"b'false'\",\"b'true'\",\"b'false'\",\"b'false'\",\"b'false'\",\"b'true'\",\"b'false'\",\"b'false'\",\"b'false'\",\"b'true'\",\"b'true'\",\"b'false'\",\"b'false'\",\"b'false'\",\"b'false'\",\"b'true'\",\"b'false'\",\"b'true'\",\"b'false'\",\"b'true'\",\"b'false'\",\"b'false'\",\"b'true'\",\"b'false'\",\"b'false'\",\"b'true'\",\"b'false'\",\"b'true'\",\"b'false'\",\"b'true'\",\"b'false'\",\"b'false'\",\"b'true'\",\"b'true'\",\"b'true'\",\"b'false'\",\"b'false'\",\"b'true'\",\"b'false'\",\"b'false'\",\"b'false'\",\"b'false'\",\"b'false'\",\"b'true'\",\"b'false'\",\"b'true'\",\"b'false'\",\"b'false'\",\"b'true'\",\"b'false'\",\"b'false'\",\"b'true'\",\"b'false'\",\"b'false'\",\"b'true'\",\"b'false'\",\"b'true'\",\"b'false'\",\"b'true'\",\"b'true'\",\"b'true'\",\"b'true'\",\"b'false'\",\"b'false'\",\"b'false'\",\"b'true'\",\"b'false'\",\"b'false'\",\"b'true'\",\"b'false'\",\"b'true'\",\"b'false'\",\"b'false'\",\"b'false'\",\"b'true'\",\"b'false'\",\"b'false'\",\"b'true'\",\"b'false'\",\"b'false'\",\"b'false'\",\"b'true'\",\"b'false'\",\"b'false'\",\"b'false'\",\"b'true'\",\"b'false'\",\"b'false'\",\"b'true'\",\"b'false'\",\"b'false'\",\"b'false'\",\"b'false'\",\"b'true'\",\"b'false'\",\"b'false'\",\"b'true'\",\"b'false'\",\"b'false'\",\"b'false'\",\"b'true'\",\"b'false'\",\"b'false'\",\"b'false'\",\"b'false'\",\"b'false'\",\"b'false'\",\"b'false'\",\"b'false'\",\"b'true'\",\"b'false'\",\"b'true'\",\"b'false'\",\"b'true'\",\"b'false'\",\"b'false'\",\"b'false'\",\"b'true'\",\"b'false'\",\"b'false'\",\"b'false'\",\"b'true'\",\"b'true'\",\"b'false'\",\"b'false'\",\"b'false'\",\"b'true'\",\"b'true'\",\"b'true'\",\"b'true'\",\"b'true'\",\"b'false'\",\"b'false'\",\"b'true'\",\"b'false'\",\"b'false'\",\"b'true'\",\"b'false'\",\"b'false'\",\"b'true'\",\"b'false'\",\"b'false'\",\"b'false'\",\"b'true'\",\"b'false'\",\"b'false'\",\"b'false'\",\"b'true'\",\"b'true'\",\"b'true'\",\"b'true'\",\"b'false'\",\"b'true'\",\"b'true'\",\"b'true'\",\"b'false'\",\"b'false'\",\"b'false'\",\"b'false'\",\"b'false'\",\"b'false'\",\"b'true'\",\"b'true'\",\"b'false'\",\"b'true'\",\"b'false'\",\"b'false'\",\"b'false'\",\"b'false'\",\"b'true'\",\"b'false'\",\"b'false'\",\"b'false'\",\"b'false'\",\"b'false'\",\"b'true'\",\"b'true'\",\"b'false'\",\"b'false'\",\"b'false'\",\"b'true'\",\"b'false'\",\"b'true'\",\"b'false'\",\"b'true'\",\"b'true'\",\"b'false'\",\"b'true'\",\"b'true'\",\"b'false'\",\"b'true'\",\"b'false'\",\"b'false'\",\"b'true'\",\"b'true'\",\"b'true'\",\"b'false'\",\"b'false'\",\"b'false'\",\"b'false'\",\"b'false'\",\"b'true'\",\"b'true'\",\"b'true'\",\"b'true'\",\"b'false'\",\"b'false'\",\"b'true'\",\"b'false'\",\"b'true'\",\"b'true'\",\"b'false'\",\"b'false'\",\"b'false'\",\"b'true'\",\"b'true'\",\"b'false'\",\"b'true'\",\"b'true'\",\"b'true'\",\"b'true'\",\"b'false'\",\"b'true'\",\"b'true'\",\"b'false'\",\"b'true'\",\"b'true'\",\"b'true'\",\"b'false'\",\"b'false'\",\"b'false'\",\"b'true'\",\"b'false'\",\"b'false'\",\"b'false'\",\"b'false'\",\"b'true'\",\"b'true'\",\"b'false'\",\"b'true'\",\"b'false'\",\"b'false'\",\"b'false'\",\"b'false'\",\"b'true'\",\"b'false'\",\"b'false'\",\"b'true'\",\"b'true'\",\"b'false'\",\"b'false'\",\"b'true'\",\"b'true'\",\"b'true'\",\"b'true'\",\"b'false'\",\"b'true'\",\"b'false'\"]\n",
    "results = kc1_50_k5 + outliers\n",
    "len(results)"
   ]
  },
  {
   "cell_type": "code",
   "execution_count": 140,
   "id": "ee96e7de",
   "metadata": {},
   "outputs": [
    {
     "data": {
      "text/plain": [
       "1218"
      ]
     },
     "execution_count": 140,
     "metadata": {},
     "output_type": "execute_result"
    }
   ],
   "source": [
    "gt_false = [\"b'false'\" for _ in range(len(kc1_50_k3))]\n",
    "gt_true = [\"b'true'\" for _ in range(len(outliers))]\n",
    "gt = gt_false + gt_true\n",
    "len(gt)"
   ]
  },
  {
   "cell_type": "code",
   "execution_count": 141,
   "id": "b920c6b1",
   "metadata": {
    "scrolled": false
   },
   "outputs": [
    {
     "data": {
      "text/plain": [
       "<sklearn.metrics._plot.confusion_matrix.ConfusionMatrixDisplay at 0x7f69b6b86a30>"
      ]
     },
     "execution_count": 141,
     "metadata": {},
     "output_type": "execute_result"
    },
    {
     "data": {
      "image/png": "[encoded data removed]",
      "text/plain": [
       "<Figure size 432x288 with 2 Axes>"
      ]
     },
     "metadata": {
      "needs_background": "light"
     },
     "output_type": "display_data"
    }
   ],
   "source": [
    "matrix = confusion_matrix(gt, results, labels=[\"b'false'\", \"b'true'\"])\n",
    "display = ConfusionMatrixDisplay(confusion_matrix=matrix, display_labels=[\"b'false'\", \"b'true'\"])\n",
    "display.plot()"
   ]
  },
  {
   "cell_type": "code",
   "execution_count": 165,
   "id": "f0d893d1",
   "metadata": {},
   "outputs": [
    {
     "data": {
      "text/plain": [
       "0.3445491251682368"
      ]
     },
     "execution_count": 165,
     "metadata": {},
     "output_type": "execute_result"
    }
   ],
   "source": [
    "tn = 603\n",
    "fp = 289\n",
    "fn = 198\n",
    "tp = 128\n",
    "r = recall(tp, fn)\n",
    "p = precision(tp, fp)\n",
    "f1_measure = f1(r, p)\n",
    "f1_measure"
   ]
  },
  {
   "cell_type": "markdown",
   "id": "eaa257e9",
   "metadata": {},
   "source": [
    "### k=7"
   ]
  },
  {
   "cell_type": "code",
   "execution_count": 142,
   "id": "ab539ac2",
   "metadata": {},
   "outputs": [
    {
     "data": {
      "text/plain": [
       "1218"
      ]
     },
     "execution_count": 142,
     "metadata": {},
     "output_type": "execute_result"
    }
   ],
   "source": [
    "kc1_50_k7 = [\"b'false'\",\"b'false'\",\"b'false'\",\"b'true'\",\"b'true'\",\"b'true'\",\"b'true'\",\"b'false'\",\"b'true'\",\"b'true'\",\"b'true'\",\"b'false'\",\"b'false'\",\"b'false'\",\"b'false'\",\"b'true'\",\"b'true'\",\"b'false'\",\"b'false'\",\"b'true'\",\"b'false'\",\"b'false'\",\"b'false'\",\"b'true'\",\"b'false'\",\"b'true'\",\"b'false'\",\"b'false'\",\"b'false'\",\"b'false'\",\"b'true'\",\"b'false'\",\"b'false'\",\"b'false'\",\"b'false'\",\"b'true'\",\"b'false'\",\"b'true'\",\"b'false'\",\"b'false'\",\"b'true'\",\"b'false'\",\"b'false'\",\"b'true'\",\"b'true'\",\"b'false'\",\"b'false'\",\"b'false'\",\"b'false'\",\"b'false'\",\"b'false'\",\"b'false'\",\"b'true'\",\"b'true'\",\"b'false'\",\"b'false'\",\"b'true'\",\"b'false'\",\"b'false'\",\"b'false'\",\"b'true'\",\"b'false'\",\"b'true'\",\"b'false'\",\"b'false'\",\"b'false'\",\"b'false'\",\"b'false'\",\"b'false'\",\"b'false'\",\"b'false'\",\"b'true'\",\"b'false'\",\"b'true'\",\"b'true'\",\"b'false'\",\"b'false'\",\"b'false'\",\"b'false'\",\"b'false'\",\"b'false'\",\"b'true'\",\"b'true'\",\"b'true'\",\"b'true'\",\"b'true'\",\"b'true'\",\"b'false'\",\"b'true'\",\"b'false'\",\"b'true'\",\"b'false'\",\"b'true'\",\"b'false'\",\"b'false'\",\"b'true'\",\"b'false'\",\"b'true'\",\"b'true'\",\"b'true'\",\"b'false'\",\"b'false'\",\"b'false'\",\"b'false'\",\"b'false'\",\"b'false'\",\"b'false'\",\"b'true'\",\"b'true'\",\"b'false'\",\"b'true'\",\"b'false'\",\"b'false'\",\"b'true'\",\"b'false'\",\"b'false'\",\"b'true'\",\"b'false'\",\"b'true'\",\"b'false'\",\"b'false'\",\"b'false'\",\"b'false'\",\"b'true'\",\"b'false'\",\"b'true'\",\"b'true'\",\"b'false'\",\"b'false'\",\"b'false'\",\"b'false'\",\"b'false'\",\"b'false'\",\"b'false'\",\"b'false'\",\"b'false'\",\"b'true'\",\"b'true'\",\"b'true'\",\"b'true'\",\"b'false'\",\"b'false'\",\"b'false'\",\"b'true'\",\"b'false'\",\"b'true'\",\"b'false'\",\"b'true'\",\"b'false'\",\"b'false'\",\"b'false'\",\"b'true'\",\"b'true'\",\"b'true'\",\"b'false'\",\"b'true'\",\"b'false'\",\"b'false'\",\"b'true'\",\"b'false'\",\"b'true'\",\"b'false'\",\"b'true'\",\"b'true'\",\"b'true'\",\"b'false'\",\"b'true'\",\"b'false'\",\"b'false'\",\"b'true'\",\"b'false'\",\"b'false'\",\"b'false'\",\"b'true'\",\"b'false'\",\"b'false'\",\"b'true'\",\"b'true'\",\"b'false'\",\"b'false'\",\"b'false'\",\"b'false'\",\"b'false'\",\"b'false'\",\"b'false'\",\"b'false'\",\"b'false'\",\"b'true'\",\"b'true'\",\"b'false'\",\"b'true'\",\"b'true'\",\"b'false'\",\"b'true'\",\"b'false'\",\"b'false'\",\"b'false'\",\"b'false'\",\"b'true'\",\"b'false'\",\"b'false'\",\"b'false'\",\"b'false'\",\"b'true'\",\"b'true'\",\"b'false'\",\"b'true'\",\"b'true'\",\"b'false'\",\"b'true'\",\"b'false'\",\"b'false'\",\"b'false'\",\"b'true'\",\"b'false'\",\"b'true'\",\"b'false'\",\"b'false'\",\"b'false'\",\"b'false'\",\"b'true'\",\"b'true'\",\"b'false'\",\"b'true'\",\"b'false'\",\"b'false'\",\"b'true'\",\"b'false'\",\"b'false'\",\"b'true'\",\"b'false'\",\"b'false'\",\"b'true'\",\"b'false'\",\"b'true'\",\"b'false'\",\"b'false'\",\"b'false'\",\"b'false'\",\"b'true'\",\"b'false'\",\"b'true'\",\"b'false'\",\"b'true'\",\"b'false'\",\"b'true'\",\"b'false'\",\"b'false'\",\"b'false'\",\"b'true'\",\"b'false'\",\"b'false'\",\"b'false'\",\"b'false'\",\"b'true'\",\"b'false'\",\"b'false'\",\"b'false'\",\"b'false'\",\"b'true'\",\"b'true'\",\"b'true'\",\"b'false'\",\"b'false'\",\"b'false'\",\"b'false'\",\"b'true'\",\"b'true'\",\"b'false'\",\"b'false'\",\"b'true'\",\"b'true'\",\"b'false'\",\"b'false'\",\"b'false'\",\"b'true'\",\"b'false'\",\"b'true'\",\"b'false'\",\"b'false'\",\"b'true'\",\"b'true'\",\"b'false'\",\"b'false'\",\"b'false'\",\"b'false'\",\"b'false'\",\"b'false'\",\"b'false'\",\"b'true'\",\"b'false'\",\"b'false'\",\"b'false'\",\"b'false'\",\"b'false'\",\"b'true'\",\"b'true'\",\"b'false'\",\"b'false'\",\"b'true'\",\"b'false'\",\"b'true'\",\"b'false'\",\"b'false'\",\"b'true'\",\"b'true'\",\"b'false'\",\"b'false'\",\"b'true'\",\"b'false'\",\"b'false'\",\"b'false'\",\"b'false'\",\"b'true'\",\"b'true'\",\"b'false'\",\"b'true'\",\"b'false'\",\"b'false'\",\"b'false'\",\"b'false'\",\"b'true'\",\"b'false'\",\"b'false'\",\"b'true'\",\"b'false'\",\"b'true'\",\"b'true'\",\"b'true'\",\"b'false'\",\"b'true'\",\"b'false'\",\"b'false'\",\"b'false'\",\"b'false'\",\"b'true'\",\"b'false'\",\"b'false'\",\"b'false'\",\"b'false'\",\"b'true'\",\"b'false'\",\"b'true'\",\"b'false'\",\"b'false'\",\"b'true'\",\"b'true'\",\"b'true'\",\"b'false'\",\"b'true'\",\"b'false'\",\"b'false'\",\"b'false'\",\"b'false'\",\"b'true'\",\"b'false'\",\"b'true'\",\"b'false'\",\"b'false'\",\"b'false'\",\"b'false'\",\"b'false'\",\"b'false'\",\"b'true'\",\"b'false'\",\"b'true'\",\"b'true'\",\"b'false'\",\"b'false'\",\"b'true'\",\"b'false'\",\"b'false'\",\"b'false'\",\"b'false'\",\"b'false'\",\"b'true'\",\"b'true'\",\"b'true'\",\"b'true'\",\"b'false'\",\"b'false'\",\"b'false'\",\"b'false'\",\"b'true'\",\"b'false'\",\"b'true'\",\"b'false'\",\"b'true'\",\"b'true'\",\"b'false'\",\"b'false'\",\"b'false'\",\"b'false'\",\"b'true'\",\"b'true'\",\"b'false'\",\"b'true'\",\"b'false'\",\"b'false'\",\"b'true'\",\"b'false'\",\"b'false'\",\"b'true'\",\"b'true'\",\"b'false'\",\"b'false'\",\"b'false'\",\"b'true'\",\"b'false'\",\"b'false'\",\"b'false'\",\"b'true'\",\"b'false'\",\"b'false'\",\"b'true'\",\"b'false'\",\"b'false'\",\"b'false'\",\"b'false'\",\"b'false'\",\"b'true'\",\"b'true'\",\"b'false'\",\"b'false'\",\"b'true'\",\"b'false'\",\"b'false'\",\"b'true'\",\"b'true'\",\"b'true'\",\"b'false'\",\"b'false'\",\"b'true'\",\"b'false'\",\"b'false'\",\"b'false'\",\"b'true'\",\"b'false'\",\"b'false'\",\"b'false'\",\"b'true'\",\"b'false'\",\"b'true'\",\"b'true'\",\"b'true'\",\"b'false'\",\"b'false'\",\"b'false'\",\"b'false'\",\"b'true'\",\"b'false'\",\"b'false'\",\"b'false'\",\"b'false'\",\"b'true'\",\"b'false'\",\"b'false'\",\"b'false'\",\"b'false'\",\"b'false'\",\"b'true'\",\"b'true'\",\"b'false'\",\"b'true'\",\"b'false'\",\"b'true'\",\"b'false'\",\"b'true'\",\"b'true'\",\"b'true'\",\"b'false'\",\"b'true'\",\"b'false'\",\"b'false'\",\"b'true'\",\"b'true'\",\"b'true'\",\"b'false'\",\"b'true'\",\"b'false'\",\"b'true'\",\"b'false'\",\"b'true'\",\"b'false'\",\"b'false'\",\"b'true'\",\"b'true'\",\"b'true'\",\"b'true'\",\"b'true'\",\"b'false'\",\"b'false'\",\"b'true'\",\"b'true'\",\"b'false'\",\"b'false'\",\"b'false'\",\"b'true'\",\"b'false'\",\"b'false'\",\"b'false'\",\"b'false'\",\"b'false'\",\"b'false'\",\"b'false'\",\"b'true'\",\"b'false'\",\"b'false'\",\"b'false'\",\"b'false'\",\"b'false'\",\"b'false'\",\"b'false'\",\"b'true'\",\"b'false'\",\"b'true'\",\"b'false'\",\"b'false'\",\"b'false'\",\"b'false'\",\"b'false'\",\"b'false'\",\"b'true'\",\"b'false'\",\"b'true'\",\"b'false'\",\"b'false'\",\"b'true'\",\"b'false'\",\"b'false'\",\"b'false'\",\"b'true'\",\"b'false'\",\"b'false'\",\"b'true'\",\"b'false'\",\"b'false'\",\"b'false'\",\"b'false'\",\"b'false'\",\"b'true'\",\"b'false'\",\"b'false'\",\"b'false'\",\"b'true'\",\"b'true'\",\"b'false'\",\"b'false'\",\"b'true'\",\"b'false'\",\"b'true'\",\"b'true'\",\"b'true'\",\"b'false'\",\"b'false'\",\"b'false'\",\"b'false'\",\"b'false'\",\"b'false'\",\"b'false'\",\"b'false'\",\"b'false'\",\"b'false'\",\"b'false'\",\"b'true'\",\"b'true'\",\"b'false'\",\"b'false'\",\"b'true'\",\"b'false'\",\"b'false'\",\"b'false'\",\"b'true'\",\"b'true'\",\"b'false'\",\"b'false'\",\"b'false'\",\"b'false'\",\"b'false'\",\"b'true'\",\"b'true'\",\"b'false'\",\"b'true'\",\"b'true'\",\"b'false'\",\"b'true'\",\"b'false'\",\"b'false'\",\"b'true'\",\"b'true'\",\"b'true'\",\"b'false'\",\"b'true'\",\"b'false'\",\"b'false'\",\"b'false'\",\"b'true'\",\"b'true'\",\"b'true'\",\"b'true'\",\"b'false'\",\"b'false'\",\"b'true'\",\"b'false'\",\"b'false'\",\"b'false'\",\"b'true'\",\"b'true'\",\"b'true'\",\"b'false'\",\"b'false'\",\"b'true'\",\"b'false'\",\"b'false'\",\"b'true'\",\"b'false'\",\"b'false'\",\"b'false'\",\"b'false'\",\"b'false'\",\"b'true'\",\"b'false'\",\"b'true'\",\"b'false'\",\"b'true'\",\"b'true'\",\"b'false'\",\"b'false'\",\"b'false'\",\"b'true'\",\"b'false'\",\"b'false'\",\"b'true'\",\"b'false'\",\"b'true'\",\"b'false'\",\"b'false'\",\"b'false'\",\"b'true'\",\"b'false'\",\"b'false'\",\"b'false'\",\"b'false'\",\"b'true'\",\"b'true'\",\"b'true'\",\"b'false'\",\"b'true'\",\"b'false'\",\"b'true'\",\"b'false'\",\"b'true'\",\"b'true'\",\"b'false'\",\"b'false'\",\"b'true'\",\"b'false'\",\"b'false'\",\"b'true'\",\"b'true'\",\"b'false'\",\"b'false'\",\"b'false'\",\"b'false'\",\"b'false'\",\"b'false'\",\"b'true'\",\"b'false'\",\"b'false'\",\"b'true'\",\"b'false'\",\"b'false'\",\"b'false'\",\"b'true'\",\"b'true'\",\"b'false'\",\"b'false'\",\"b'false'\",\"b'false'\",\"b'true'\",\"b'true'\",\"b'false'\",\"b'true'\",\"b'false'\",\"b'false'\",\"b'true'\",\"b'false'\",\"b'true'\",\"b'true'\",\"b'false'\",\"b'true'\",\"b'true'\",\"b'true'\",\"b'false'\",\"b'false'\",\"b'false'\",\"b'true'\",\"b'false'\",\"b'true'\",\"b'true'\",\"b'false'\",\"b'true'\",\"b'true'\",\"b'true'\",\"b'true'\",\"b'false'\",\"b'false'\",\"b'false'\",\"b'false'\",\"b'false'\",\"b'false'\",\"b'true'\",\"b'false'\",\"b'true'\",\"b'true'\",\"b'false'\",\"b'true'\",\"b'true'\",\"b'true'\",\"b'false'\",\"b'true'\",\"b'false'\",\"b'true'\",\"b'false'\",\"b'false'\",\"b'true'\",\"b'false'\",\"b'true'\",\"b'true'\",\"b'false'\",\"b'false'\",\"b'true'\",\"b'true'\",\"b'false'\",\"b'true'\",\"b'true'\",\"b'false'\",\"b'false'\",\"b'false'\",\"b'true'\",\"b'false'\",\"b'false'\",\"b'true'\",\"b'true'\",\"b'true'\",\"b'false'\",\"b'true'\",\"b'true'\",\"b'false'\",\"b'true'\",\"b'false'\",\"b'true'\",\"b'false'\",\"b'false'\",\"b'false'\",\"b'true'\",\"b'true'\",\"b'true'\",\"b'false'\",\"b'false'\",\"b'true'\",\"b'true'\",\"b'false'\",\"b'false'\",\"b'true'\",\"b'true'\",\"b'false'\",\"b'true'\",\"b'true'\",\"b'false'\",\"b'false'\",\"b'true'\",\"b'true'\",\"b'false'\",\"b'false'\",\"b'true'\",\"b'false'\",\"b'false'\",\"b'false'\",\"b'false'\",\"b'false'\",\"b'false'\",\"b'false'\",\"b'true'\",\"b'false'\",\"b'false'\",\"b'false'\",\"b'false'\",\"b'false'\",\"b'false'\",\"b'false'\",\"b'true'\",\"b'false'\",\"b'false'\",\"b'false'\",\"b'false'\",\"b'true'\",\"b'false'\",\"b'true'\",\"b'false'\",\"b'true'\",\"b'true'\",\"b'false'\",\"b'false'\",\"b'false'\",\"b'false'\",\"b'false'\",\"b'true'\",\"b'false'\",\"b'false'\",\"b'false'\",\"b'true'\",\"b'true'\",\"b'true'\",\"b'true'\",\"b'true'\",\"b'false'\",\"b'false'\",\"b'true'\",\"b'true'\",\"b'false'\",\"b'true'\",\"b'true'\",\"b'true'\",\"b'false'\",\"b'false'\",\"b'false'\",\"b'false'\",\"b'true'\",\"b'false'\",\"b'false'\",\"b'true'\",\"b'false'\",\"b'true'\",\"b'false'\",\"b'true'\",\"b'false'\",\"b'false'\",\"b'false'\",\"b'true'\",\"b'true'\",\"b'true'\",\"b'false'\",\"b'false'\",\"b'false'\",\"b'true'\",\"b'false'\",\"b'true'\",\"b'true'\",\"b'false'\",\"b'true'\",\"b'false'\",\"b'true'\",\"b'false'\",\"b'true'\",\"b'true'\",\"b'true'\",\"b'false'\",\"b'false'\",\"b'true'\",\"b'false'\",\"b'true'\",\"b'true'\",\"b'true'\",\"b'false'\",\"b'false'\",\"b'true'\",\"b'false'\",\"b'false'\",\"b'false'\",\"b'true'\",\"b'true'\",\"b'false'\",\"b'false'\",\"b'false'\",\"b'false'\",\"b'false'\",\"b'false'\",\"b'true'\",\"b'false'\",\"b'true'\",\"b'false'\",\"b'true'\",\"b'false'\",\"b'true'\",\"b'true'\",\"b'false'\",\"b'false'\",\"b'false'\",\"b'false'\",\"b'false'\",\"b'true'\"]\n",
    "outliers = [\"b'true'\",\"b'false'\",\"b'false'\",\"b'false'\",\"b'true'\",\"b'true'\",\"b'true'\",\"b'true'\",\"b'false'\",\"b'false'\",\"b'false'\",\"b'false'\",\"b'false'\",\"b'false'\",\"b'true'\",\"b'true'\",\"b'true'\",\"b'false'\",\"b'false'\",\"b'false'\",\"b'false'\",\"b'true'\",\"b'true'\",\"b'false'\",\"b'false'\",\"b'false'\",\"b'false'\",\"b'false'\",\"b'true'\",\"b'true'\",\"b'true'\",\"b'true'\",\"b'false'\",\"b'true'\",\"b'false'\",\"b'true'\",\"b'false'\",\"b'false'\",\"b'true'\",\"b'false'\",\"b'true'\",\"b'true'\",\"b'false'\",\"b'false'\",\"b'true'\",\"b'false'\",\"b'true'\",\"b'true'\",\"b'false'\",\"b'true'\",\"b'true'\",\"b'true'\",\"b'false'\",\"b'false'\",\"b'true'\",\"b'true'\",\"b'false'\",\"b'false'\",\"b'false'\",\"b'false'\",\"b'false'\",\"b'true'\",\"b'false'\",\"b'true'\",\"b'true'\",\"b'false'\",\"b'false'\",\"b'false'\",\"b'true'\",\"b'true'\",\"b'false'\",\"b'false'\",\"b'false'\",\"b'true'\",\"b'false'\",\"b'false'\",\"b'false'\",\"b'true'\",\"b'true'\",\"b'false'\",\"b'false'\",\"b'true'\",\"b'true'\",\"b'true'\",\"b'false'\",\"b'true'\",\"b'false'\",\"b'true'\",\"b'false'\",\"b'false'\",\"b'true'\",\"b'false'\",\"b'false'\",\"b'true'\",\"b'false'\",\"b'true'\",\"b'false'\",\"b'true'\",\"b'false'\",\"b'false'\",\"b'true'\",\"b'true'\",\"b'true'\",\"b'false'\",\"b'true'\",\"b'true'\",\"b'false'\",\"b'true'\",\"b'false'\",\"b'false'\",\"b'false'\",\"b'true'\",\"b'false'\",\"b'true'\",\"b'false'\",\"b'false'\",\"b'true'\",\"b'false'\",\"b'false'\",\"b'true'\",\"b'false'\",\"b'false'\",\"b'true'\",\"b'false'\",\"b'true'\",\"b'true'\",\"b'true'\",\"b'true'\",\"b'true'\",\"b'true'\",\"b'false'\",\"b'false'\",\"b'false'\",\"b'true'\",\"b'false'\",\"b'false'\",\"b'true'\",\"b'true'\",\"b'true'\",\"b'false'\",\"b'false'\",\"b'true'\",\"b'true'\",\"b'true'\",\"b'false'\",\"b'true'\",\"b'false'\",\"b'false'\",\"b'true'\",\"b'true'\",\"b'false'\",\"b'false'\",\"b'false'\",\"b'true'\",\"b'false'\",\"b'false'\",\"b'true'\",\"b'false'\",\"b'false'\",\"b'false'\",\"b'false'\",\"b'true'\",\"b'false'\",\"b'true'\",\"b'true'\",\"b'false'\",\"b'false'\",\"b'false'\",\"b'true'\",\"b'false'\",\"b'false'\",\"b'false'\",\"b'false'\",\"b'true'\",\"b'false'\",\"b'false'\",\"b'false'\",\"b'true'\",\"b'false'\",\"b'true'\",\"b'false'\",\"b'true'\",\"b'false'\",\"b'false'\",\"b'false'\",\"b'true'\",\"b'false'\",\"b'false'\",\"b'false'\",\"b'true'\",\"b'true'\",\"b'false'\",\"b'false'\",\"b'false'\",\"b'true'\",\"b'true'\",\"b'true'\",\"b'true'\",\"b'true'\",\"b'false'\",\"b'false'\",\"b'true'\",\"b'false'\",\"b'false'\",\"b'true'\",\"b'true'\",\"b'false'\",\"b'true'\",\"b'false'\",\"b'false'\",\"b'false'\",\"b'true'\",\"b'true'\",\"b'false'\",\"b'false'\",\"b'true'\",\"b'true'\",\"b'true'\",\"b'true'\",\"b'false'\",\"b'true'\",\"b'true'\",\"b'true'\",\"b'false'\",\"b'false'\",\"b'true'\",\"b'false'\",\"b'false'\",\"b'false'\",\"b'true'\",\"b'true'\",\"b'false'\",\"b'true'\",\"b'true'\",\"b'false'\",\"b'false'\",\"b'false'\",\"b'true'\",\"b'false'\",\"b'true'\",\"b'false'\",\"b'false'\",\"b'false'\",\"b'true'\",\"b'true'\",\"b'false'\",\"b'true'\",\"b'false'\",\"b'true'\",\"b'false'\",\"b'true'\",\"b'false'\",\"b'true'\",\"b'true'\",\"b'false'\",\"b'true'\",\"b'true'\",\"b'false'\",\"b'true'\",\"b'false'\",\"b'false'\",\"b'true'\",\"b'true'\",\"b'true'\",\"b'false'\",\"b'false'\",\"b'false'\",\"b'false'\",\"b'false'\",\"b'true'\",\"b'true'\",\"b'true'\",\"b'true'\",\"b'false'\",\"b'false'\",\"b'true'\",\"b'false'\",\"b'true'\",\"b'true'\",\"b'false'\",\"b'false'\",\"b'false'\",\"b'true'\",\"b'true'\",\"b'false'\",\"b'true'\",\"b'true'\",\"b'true'\",\"b'true'\",\"b'false'\",\"b'true'\",\"b'true'\",\"b'true'\",\"b'true'\",\"b'true'\",\"b'true'\",\"b'false'\",\"b'false'\",\"b'false'\",\"b'true'\",\"b'false'\",\"b'false'\",\"b'false'\",\"b'false'\",\"b'true'\",\"b'true'\",\"b'false'\",\"b'true'\",\"b'false'\",\"b'false'\",\"b'false'\",\"b'false'\",\"b'true'\",\"b'true'\",\"b'false'\",\"b'true'\",\"b'true'\",\"b'false'\",\"b'false'\",\"b'true'\",\"b'true'\",\"b'true'\",\"b'true'\",\"b'false'\",\"b'true'\",\"b'false'\"]\n",
    "results = kc1_50_k7 + outliers\n",
    "len(results)"
   ]
  },
  {
   "cell_type": "code",
   "execution_count": 143,
   "id": "6ed00e57",
   "metadata": {},
   "outputs": [
    {
     "data": {
      "text/plain": [
       "1218"
      ]
     },
     "execution_count": 143,
     "metadata": {},
     "output_type": "execute_result"
    }
   ],
   "source": [
    "gt_false = [\"b'false'\" for _ in range(len(kc1_50_k3))]\n",
    "gt_true = [\"b'true'\" for _ in range(len(outliers))]\n",
    "gt = gt_false + gt_true\n",
    "len(gt)"
   ]
  },
  {
   "cell_type": "code",
   "execution_count": 144,
   "id": "7b0025a2",
   "metadata": {
    "scrolled": true
   },
   "outputs": [
    {
     "data": {
      "text/plain": [
       "<sklearn.metrics._plot.confusion_matrix.ConfusionMatrixDisplay at 0x7f69b8165700>"
      ]
     },
     "execution_count": 144,
     "metadata": {},
     "output_type": "execute_result"
    },
    {
     "data": {
      "image/png": "[encoded data removed]",
      "text/plain": [
       "<Figure size 432x288 with 2 Axes>"
      ]
     },
     "metadata": {
      "needs_background": "light"
     },
     "output_type": "display_data"
    }
   ],
   "source": [
    "matrix = confusion_matrix(gt, results, labels=[\"b'false'\", \"b'true'\"])\n",
    "display = ConfusionMatrixDisplay(confusion_matrix=matrix, display_labels=[\"b'false'\", \"b'true'\"])\n",
    "display.plot()"
   ]
  },
  {
   "cell_type": "code",
   "execution_count": 166,
   "id": "4f4279d5",
   "metadata": {},
   "outputs": [
    {
     "data": {
      "text/plain": [
       "0.37288135593220334"
      ]
     },
     "execution_count": 166,
     "metadata": {},
     "output_type": "execute_result"
    }
   ],
   "source": [
    "tn = 546\n",
    "fp = 346\n",
    "fn = 172\n",
    "tp = 154\n",
    "r = recall(tp, fn)\n",
    "p = precision(tp, fp)\n",
    "f1_measure = f1(r, p)\n",
    "f1_measure"
   ]
  }
 ],
 "metadata": {
  "kernelspec": {
   "display_name": "Python 3",
   "language": "python",
   "name": "python3"
  },
  "language_info": {
   "codemirror_mode": {
    "name": "ipython",
    "version": 3
   },
   "file_extension": ".py",
   "mimetype": "text/x-python",
   "name": "python",
   "nbconvert_exporter": "python",
   "pygments_lexer": "ipython3",
   "version": "3.8.5"
  }
 },
 "nbformat": 4,
 "nbformat_minor": 5
}
