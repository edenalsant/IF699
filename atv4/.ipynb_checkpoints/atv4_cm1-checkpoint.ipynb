{
 "cells": [
  {
   "cell_type": "code",
   "execution_count": 566,
   "metadata": {},
   "outputs": [],
   "source": [
    "# !pip3 install sklearn\n",
    "# !pip3 install scipy\n",
    "# !pip3 install pandas\n",
    "# !pip3 install numpy\n",
    "# !pip3 install kneed\n",
    "# !pip3 install plotly"
   ]
  },
  {
   "cell_type": "code",
   "execution_count": 567,
   "metadata": {},
   "outputs": [],
   "source": [
    "from sklearn import preprocessing\n",
    "from sklearn.cluster import KMeans\n",
    "from sklearn.decomposition import PCA\n",
    "from sklearn.model_selection import KFold\n",
    "from sklearn.naive_bayes import GaussianNB\n",
    "from sklearn.neighbors import KNeighborsClassifier\n",
    "from scipy.io import arff\n",
    "\n",
    "from kneed import KneeLocator\n",
    "\n",
    "import pandas as pd\n",
    "import numpy as np\n",
    "import plotly.graph_objects as go\n",
    "import plotly.express as px"
   ]
  },
  {
   "cell_type": "markdown",
   "metadata": {},
   "source": [
    "## Utils: Visualização"
   ]
  },
  {
   "cell_type": "code",
   "execution_count": 568,
   "metadata": {},
   "outputs": [],
   "source": [
    "def reduce_dimensions(df, n_dimensions):\n",
    "    pca = PCA(n_components=n_dimensions)\n",
    "    df = pca.fit_transform(df[df.columns].values)\n",
    "    return df\n",
    "\n",
    "def plot_clusters(df, kmeans):\n",
    "    fig = go.Figure(\n",
    "        data=[go.Bar(x=[1, 2, 3], y=[1, 3, 2])],\n",
    "        layout=dict(title=dict(text=\"A Figure Specified By A Graph Object\"))\n",
    "    )\n",
    "    fig.data = []\n",
    "    fig.layout = {}\n",
    "        \n",
    "    label = kmeans.fit_predict(df)\n",
    "    u_labels = np.unique(label)\n",
    "    \n",
    "    for i in u_labels:\n",
    "        fig.add_trace(\n",
    "            go.Scatter(\n",
    "                x=df[label == i , 0],\n",
    "                y=df[label == i , 1],\n",
    "                mode=\"markers\",\n",
    "                text=u_labels))\n",
    "    fig.show()"
   ]
  },
  {
   "cell_type": "markdown",
   "metadata": {},
   "source": [
    "## pré-processamento"
   ]
  },
  {
   "cell_type": "code",
   "execution_count": 569,
   "metadata": {},
   "outputs": [],
   "source": [
    "def group_by_class(X):\n",
    "    lines_to_remove = []\n",
    "    for index, row in X.iterrows():\n",
    "        if row['defects'] == b'true':\n",
    "            lines_to_remove.append(index)\n",
    "    defects_false = X.drop(lines_to_remove)\n",
    "    defects_true = X.iloc[lines_to_remove]\n",
    "    return defects_false, defects_true\n",
    "\n",
    "def normalize_data(X):\n",
    "    arr = X.values\n",
    "    scaler = preprocessing.MinMaxScaler()\n",
    "    X_scaled = scaler.fit_transform(arr)\n",
    "    return pd.DataFrame(X_scaled)\n",
    "\n",
    "def randomize_dataframe(df):\n",
    "    df = df.sample(frac=1, random_state=20)\n",
    "    df.reset_index(drop=True, inplace=True)\n",
    "    return df"
   ]
  },
  {
   "cell_type": "code",
   "execution_count": 570,
   "metadata": {},
   "outputs": [],
   "source": [
    "resultados = {\n",
    "    \"defects_false\": {},\n",
    "    \"defects_true\": {},\n",
    "    \"naive_bayes\": []\n",
    "}"
   ]
  },
  {
   "cell_type": "code",
   "execution_count": 571,
   "metadata": {},
   "outputs": [],
   "source": [
    "data = arff.loadarff('./datasets/CM1.arff')\n",
    "df = pd.DataFrame(data[0])\n",
    "df_false, df_true = group_by_class(df)\n",
    "\n",
    "df_false = df_false.drop(columns=['defects'])\n",
    "df_true = df_true.drop(columns=['defects'])\n",
    "\n",
    "df_false = normalize_data(df_false)\n",
    "df_true = normalize_data(df_true)"
   ]
  },
  {
   "cell_type": "markdown",
   "metadata": {},
   "source": [
    "## treinamento"
   ]
  },
  {
   "cell_type": "code",
   "execution_count": 572,
   "metadata": {},
   "outputs": [],
   "source": [
    "def get_sse(df, k_range, args):\n",
    "    sse = []\n",
    "    for k in k_range:\n",
    "        kmeans = KMeans(n_clusters=k, **args)\n",
    "        kmeans.fit(df)\n",
    "        sse.append(kmeans.inertia_)\n",
    "        \n",
    "    return sse\n",
    "\n",
    "def get_best_k(k_range, sse):\n",
    "    kl = KneeLocator(k_range, sse, curve=\"convex\", direction=\"decreasing\")\n",
    "    return kl.elbow\n",
    "\n",
    "def elbow_plot(k_range, sse):\n",
    "    fig = px.line(x=k_range, y=sse)\n",
    "    fig.show()\n",
    "    \n",
    "def generate_metaclasses(df, args):\n",
    "    kmeans = KMeans(**args)\n",
    "    metaclass = kmeans.fit_predict(df)\n",
    "    df['metaclass'] = metaclass\n",
    "    return df\n",
    "\n",
    "def nb_fit(df):\n",
    "    gnb = GaussianNB()\n",
    "    \n",
    "    y = df['metaclass']\n",
    "    X = df.drop(columns=['metaclass'])\n",
    "    \n",
    "    return gnb.fit(X, y)\n",
    "\n",
    "def nb_predict(gnb, test):\n",
    "    test = test.drop(columns=['metaclass'])\n",
    "    predicted_metaclasses = gnb.predict(test)\n",
    "    return predicted_metaclasses\n",
    "\n",
    "def nb_score(gnb, test_samples, true_labels):\n",
    "    return gnb.score(test_samples, true_labels)\n"
   ]
  },
  {
   "cell_type": "markdown",
   "metadata": {},
   "source": [
    "### clusters gerados com defects = false"
   ]
  },
  {
   "cell_type": "code",
   "execution_count": 573,
   "metadata": {
    "scrolled": false
   },
   "outputs": [
    {
     "data": {
      "application/vnd.plotly.v1+json": {
       "config": {
        "plotlyServerURL": "https://plot.ly"
       },
       "data": [
        {
         "hovertemplate": "x=%{x}<br>y=%{y}<extra></extra>",
         "legendgroup": "",
         "line": {
          "color": "#636efa",
          "dash": "solid"
         },
         "mode": "lines",
         "name": "",
         "orientation": "v",
         "showlegend": false,
         "type": "scatter",
         "x": [
          2,
          3,
          4,
          5,
          6
         ],
         "xaxis": "x",
         "y": [
          54.13466811321928,
          38.25035560766174,
          28.784659030716146,
          23.974472338501997,
          20.725706618775643
         ],
         "yaxis": "y"
        }
       ],
       "layout": {
        "legend": {
         "tracegroupgap": 0
        },
        "margin": {
         "t": 60
        },
        "template": {
         "data": {
          "bar": [
           {
            "error_x": {
             "color": "#2a3f5f"
            },
            "error_y": {
             "color": "#2a3f5f"
            },
            "marker": {
             "line": {
              "color": "#E5ECF6",
              "width": 0.5
             }
            },
            "type": "bar"
           }
          ],
          "barpolar": [
           {
            "marker": {
             "line": {
              "color": "#E5ECF6",
              "width": 0.5
             }
            },
            "type": "barpolar"
           }
          ],
          "carpet": [
           {
            "aaxis": {
             "endlinecolor": "#2a3f5f",
             "gridcolor": "white",
             "linecolor": "white",
             "minorgridcolor": "white",
             "startlinecolor": "#2a3f5f"
            },
            "baxis": {
             "endlinecolor": "#2a3f5f",
             "gridcolor": "white",
             "linecolor": "white",
             "minorgridcolor": "white",
             "startlinecolor": "#2a3f5f"
            },
            "type": "carpet"
           }
          ],
          "choropleth": [
           {
            "colorbar": {
             "outlinewidth": 0,
             "ticks": ""
            },
            "type": "choropleth"
           }
          ],
          "contour": [
           {
            "colorbar": {
             "outlinewidth": 0,
             "ticks": ""
            },
            "colorscale": [
             [
              0,
              "#0d0887"
             ],
             [
              0.1111111111111111,
              "#46039f"
             ],
             [
              0.2222222222222222,
              "#7201a8"
             ],
             [
              0.3333333333333333,
              "#9c179e"
             ],
             [
              0.4444444444444444,
              "#bd3786"
             ],
             [
              0.5555555555555556,
              "#d8576b"
             ],
             [
              0.6666666666666666,
              "#ed7953"
             ],
             [
              0.7777777777777778,
              "#fb9f3a"
             ],
             [
              0.8888888888888888,
              "#fdca26"
             ],
             [
              1,
              "#f0f921"
             ]
            ],
            "type": "contour"
           }
          ],
          "contourcarpet": [
           {
            "colorbar": {
             "outlinewidth": 0,
             "ticks": ""
            },
            "type": "contourcarpet"
           }
          ],
          "heatmap": [
           {
            "colorbar": {
             "outlinewidth": 0,
             "ticks": ""
            },
            "colorscale": [
             [
              0,
              "#0d0887"
             ],
             [
              0.1111111111111111,
              "#46039f"
             ],
             [
              0.2222222222222222,
              "#7201a8"
             ],
             [
              0.3333333333333333,
              "#9c179e"
             ],
             [
              0.4444444444444444,
              "#bd3786"
             ],
             [
              0.5555555555555556,
              "#d8576b"
             ],
             [
              0.6666666666666666,
              "#ed7953"
             ],
             [
              0.7777777777777778,
              "#fb9f3a"
             ],
             [
              0.8888888888888888,
              "#fdca26"
             ],
             [
              1,
              "#f0f921"
             ]
            ],
            "type": "heatmap"
           }
          ],
          "heatmapgl": [
           {
            "colorbar": {
             "outlinewidth": 0,
             "ticks": ""
            },
            "colorscale": [
             [
              0,
              "#0d0887"
             ],
             [
              0.1111111111111111,
              "#46039f"
             ],
             [
              0.2222222222222222,
              "#7201a8"
             ],
             [
              0.3333333333333333,
              "#9c179e"
             ],
             [
              0.4444444444444444,
              "#bd3786"
             ],
             [
              0.5555555555555556,
              "#d8576b"
             ],
             [
              0.6666666666666666,
              "#ed7953"
             ],
             [
              0.7777777777777778,
              "#fb9f3a"
             ],
             [
              0.8888888888888888,
              "#fdca26"
             ],
             [
              1,
              "#f0f921"
             ]
            ],
            "type": "heatmapgl"
           }
          ],
          "histogram": [
           {
            "marker": {
             "colorbar": {
              "outlinewidth": 0,
              "ticks": ""
             }
            },
            "type": "histogram"
           }
          ],
          "histogram2d": [
           {
            "colorbar": {
             "outlinewidth": 0,
             "ticks": ""
            },
            "colorscale": [
             [
              0,
              "#0d0887"
             ],
             [
              0.1111111111111111,
              "#46039f"
             ],
             [
              0.2222222222222222,
              "#7201a8"
             ],
             [
              0.3333333333333333,
              "#9c179e"
             ],
             [
              0.4444444444444444,
              "#bd3786"
             ],
             [
              0.5555555555555556,
              "#d8576b"
             ],
             [
              0.6666666666666666,
              "#ed7953"
             ],
             [
              0.7777777777777778,
              "#fb9f3a"
             ],
             [
              0.8888888888888888,
              "#fdca26"
             ],
             [
              1,
              "#f0f921"
             ]
            ],
            "type": "histogram2d"
           }
          ],
          "histogram2dcontour": [
           {
            "colorbar": {
             "outlinewidth": 0,
             "ticks": ""
            },
            "colorscale": [
             [
              0,
              "#0d0887"
             ],
             [
              0.1111111111111111,
              "#46039f"
             ],
             [
              0.2222222222222222,
              "#7201a8"
             ],
             [
              0.3333333333333333,
              "#9c179e"
             ],
             [
              0.4444444444444444,
              "#bd3786"
             ],
             [
              0.5555555555555556,
              "#d8576b"
             ],
             [
              0.6666666666666666,
              "#ed7953"
             ],
             [
              0.7777777777777778,
              "#fb9f3a"
             ],
             [
              0.8888888888888888,
              "#fdca26"
             ],
             [
              1,
              "#f0f921"
             ]
            ],
            "type": "histogram2dcontour"
           }
          ],
          "mesh3d": [
           {
            "colorbar": {
             "outlinewidth": 0,
             "ticks": ""
            },
            "type": "mesh3d"
           }
          ],
          "parcoords": [
           {
            "line": {
             "colorbar": {
              "outlinewidth": 0,
              "ticks": ""
             }
            },
            "type": "parcoords"
           }
          ],
          "pie": [
           {
            "automargin": true,
            "type": "pie"
           }
          ],
          "scatter": [
           {
            "marker": {
             "colorbar": {
              "outlinewidth": 0,
              "ticks": ""
             }
            },
            "type": "scatter"
           }
          ],
          "scatter3d": [
           {
            "line": {
             "colorbar": {
              "outlinewidth": 0,
              "ticks": ""
             }
            },
            "marker": {
             "colorbar": {
              "outlinewidth": 0,
              "ticks": ""
             }
            },
            "type": "scatter3d"
           }
          ],
          "scattercarpet": [
           {
            "marker": {
             "colorbar": {
              "outlinewidth": 0,
              "ticks": ""
             }
            },
            "type": "scattercarpet"
           }
          ],
          "scattergeo": [
           {
            "marker": {
             "colorbar": {
              "outlinewidth": 0,
              "ticks": ""
             }
            },
            "type": "scattergeo"
           }
          ],
          "scattergl": [
           {
            "marker": {
             "colorbar": {
              "outlinewidth": 0,
              "ticks": ""
             }
            },
            "type": "scattergl"
           }
          ],
          "scattermapbox": [
           {
            "marker": {
             "colorbar": {
              "outlinewidth": 0,
              "ticks": ""
             }
            },
            "type": "scattermapbox"
           }
          ],
          "scatterpolar": [
           {
            "marker": {
             "colorbar": {
              "outlinewidth": 0,
              "ticks": ""
             }
            },
            "type": "scatterpolar"
           }
          ],
          "scatterpolargl": [
           {
            "marker": {
             "colorbar": {
              "outlinewidth": 0,
              "ticks": ""
             }
            },
            "type": "scatterpolargl"
           }
          ],
          "scatterternary": [
           {
            "marker": {
             "colorbar": {
              "outlinewidth": 0,
              "ticks": ""
             }
            },
            "type": "scatterternary"
           }
          ],
          "surface": [
           {
            "colorbar": {
             "outlinewidth": 0,
             "ticks": ""
            },
            "colorscale": [
             [
              0,
              "#0d0887"
             ],
             [
              0.1111111111111111,
              "#46039f"
             ],
             [
              0.2222222222222222,
              "#7201a8"
             ],
             [
              0.3333333333333333,
              "#9c179e"
             ],
             [
              0.4444444444444444,
              "#bd3786"
             ],
             [
              0.5555555555555556,
              "#d8576b"
             ],
             [
              0.6666666666666666,
              "#ed7953"
             ],
             [
              0.7777777777777778,
              "#fb9f3a"
             ],
             [
              0.8888888888888888,
              "#fdca26"
             ],
             [
              1,
              "#f0f921"
             ]
            ],
            "type": "surface"
           }
          ],
          "table": [
           {
            "cells": {
             "fill": {
              "color": "#EBF0F8"
             },
             "line": {
              "color": "white"
             }
            },
            "header": {
             "fill": {
              "color": "#C8D4E3"
             },
             "line": {
              "color": "white"
             }
            },
            "type": "table"
           }
          ]
         },
         "layout": {
          "annotationdefaults": {
           "arrowcolor": "#2a3f5f",
           "arrowhead": 0,
           "arrowwidth": 1
          },
          "autotypenumbers": "strict",
          "coloraxis": {
           "colorbar": {
            "outlinewidth": 0,
            "ticks": ""
           }
          },
          "colorscale": {
           "diverging": [
            [
             0,
             "#8e0152"
            ],
            [
             0.1,
             "#c51b7d"
            ],
            [
             0.2,
             "#de77ae"
            ],
            [
             0.3,
             "#f1b6da"
            ],
            [
             0.4,
             "#fde0ef"
            ],
            [
             0.5,
             "#f7f7f7"
            ],
            [
             0.6,
             "#e6f5d0"
            ],
            [
             0.7,
             "#b8e186"
            ],
            [
             0.8,
             "#7fbc41"
            ],
            [
             0.9,
             "#4d9221"
            ],
            [
             1,
             "#276419"
            ]
           ],
           "sequential": [
            [
             0,
             "#0d0887"
            ],
            [
             0.1111111111111111,
             "#46039f"
            ],
            [
             0.2222222222222222,
             "#7201a8"
            ],
            [
             0.3333333333333333,
             "#9c179e"
            ],
            [
             0.4444444444444444,
             "#bd3786"
            ],
            [
             0.5555555555555556,
             "#d8576b"
            ],
            [
             0.6666666666666666,
             "#ed7953"
            ],
            [
             0.7777777777777778,
             "#fb9f3a"
            ],
            [
             0.8888888888888888,
             "#fdca26"
            ],
            [
             1,
             "#f0f921"
            ]
           ],
           "sequentialminus": [
            [
             0,
             "#0d0887"
            ],
            [
             0.1111111111111111,
             "#46039f"
            ],
            [
             0.2222222222222222,
             "#7201a8"
            ],
            [
             0.3333333333333333,
             "#9c179e"
            ],
            [
             0.4444444444444444,
             "#bd3786"
            ],
            [
             0.5555555555555556,
             "#d8576b"
            ],
            [
             0.6666666666666666,
             "#ed7953"
            ],
            [
             0.7777777777777778,
             "#fb9f3a"
            ],
            [
             0.8888888888888888,
             "#fdca26"
            ],
            [
             1,
             "#f0f921"
            ]
           ]
          },
          "colorway": [
           "#636efa",
           "#EF553B",
           "#00cc96",
           "#ab63fa",
           "#FFA15A",
           "#19d3f3",
           "#FF6692",
           "#B6E880",
           "#FF97FF",
           "#FECB52"
          ],
          "font": {
           "color": "#2a3f5f"
          },
          "geo": {
           "bgcolor": "white",
           "lakecolor": "white",
           "landcolor": "#E5ECF6",
           "showlakes": true,
           "showland": true,
           "subunitcolor": "white"
          },
          "hoverlabel": {
           "align": "left"
          },
          "hovermode": "closest",
          "mapbox": {
           "style": "light"
          },
          "paper_bgcolor": "white",
          "plot_bgcolor": "#E5ECF6",
          "polar": {
           "angularaxis": {
            "gridcolor": "white",
            "linecolor": "white",
            "ticks": ""
           },
           "bgcolor": "#E5ECF6",
           "radialaxis": {
            "gridcolor": "white",
            "linecolor": "white",
            "ticks": ""
           }
          },
          "scene": {
           "xaxis": {
            "backgroundcolor": "#E5ECF6",
            "gridcolor": "white",
            "gridwidth": 2,
            "linecolor": "white",
            "showbackground": true,
            "ticks": "",
            "zerolinecolor": "white"
           },
           "yaxis": {
            "backgroundcolor": "#E5ECF6",
            "gridcolor": "white",
            "gridwidth": 2,
            "linecolor": "white",
            "showbackground": true,
            "ticks": "",
            "zerolinecolor": "white"
           },
           "zaxis": {
            "backgroundcolor": "#E5ECF6",
            "gridcolor": "white",
            "gridwidth": 2,
            "linecolor": "white",
            "showbackground": true,
            "ticks": "",
            "zerolinecolor": "white"
           }
          },
          "shapedefaults": {
           "line": {
            "color": "#2a3f5f"
           }
          },
          "ternary": {
           "aaxis": {
            "gridcolor": "white",
            "linecolor": "white",
            "ticks": ""
           },
           "baxis": {
            "gridcolor": "white",
            "linecolor": "white",
            "ticks": ""
           },
           "bgcolor": "#E5ECF6",
           "caxis": {
            "gridcolor": "white",
            "linecolor": "white",
            "ticks": ""
           }
          },
          "title": {
           "x": 0.05
          },
          "xaxis": {
           "automargin": true,
           "gridcolor": "white",
           "linecolor": "white",
           "ticks": "",
           "title": {
            "standoff": 15
           },
           "zerolinecolor": "white",
           "zerolinewidth": 2
          },
          "yaxis": {
           "automargin": true,
           "gridcolor": "white",
           "linecolor": "white",
           "ticks": "",
           "title": {
            "standoff": 15
           },
           "zerolinecolor": "white",
           "zerolinewidth": 2
          }
         }
        },
        "xaxis": {
         "anchor": "y",
         "domain": [
          0,
          1
         ],
         "title": {
          "text": "x"
         }
        },
        "yaxis": {
         "anchor": "x",
         "domain": [
          0,
          1
         ],
         "title": {
          "text": "y"
         }
        }
       }
      },
      "text/html": [
       "<div>                            <div id=\"fe94b523-6268-49fb-8ea1-f7d07d0777f9\" class=\"plotly-graph-div\" style=\"height:525px; width:100%;\"></div>            <script type=\"text/javascript\">                require([\"plotly\"], function(Plotly) {                    window.PLOTLYENV=window.PLOTLYENV || {};                                    if (document.getElementById(\"fe94b523-6268-49fb-8ea1-f7d07d0777f9\")) {                    Plotly.newPlot(                        \"fe94b523-6268-49fb-8ea1-f7d07d0777f9\",                        [{\"hovertemplate\": \"x=%{x}<br>y=%{y}<extra></extra>\", \"legendgroup\": \"\", \"line\": {\"color\": \"#636efa\", \"dash\": \"solid\"}, \"mode\": \"lines\", \"name\": \"\", \"orientation\": \"v\", \"showlegend\": false, \"type\": \"scatter\", \"x\": [2, 3, 4, 5, 6], \"xaxis\": \"x\", \"y\": [54.13466811321928, 38.25035560766174, 28.784659030716146, 23.974472338501997, 20.725706618775643], \"yaxis\": \"y\"}],                        {\"legend\": {\"tracegroupgap\": 0}, \"margin\": {\"t\": 60}, \"template\": {\"data\": {\"bar\": [{\"error_x\": {\"color\": \"#2a3f5f\"}, \"error_y\": {\"color\": \"#2a3f5f\"}, \"marker\": {\"line\": {\"color\": \"#E5ECF6\", \"width\": 0.5}}, \"type\": \"bar\"}], \"barpolar\": [{\"marker\": {\"line\": {\"color\": \"#E5ECF6\", \"width\": 0.5}}, \"type\": \"barpolar\"}], \"carpet\": [{\"aaxis\": {\"endlinecolor\": \"#2a3f5f\", \"gridcolor\": \"white\", \"linecolor\": \"white\", \"minorgridcolor\": \"white\", \"startlinecolor\": \"#2a3f5f\"}, \"baxis\": {\"endlinecolor\": \"#2a3f5f\", \"gridcolor\": \"white\", \"linecolor\": \"white\", \"minorgridcolor\": \"white\", \"startlinecolor\": \"#2a3f5f\"}, \"type\": \"carpet\"}], \"choropleth\": [{\"colorbar\": {\"outlinewidth\": 0, \"ticks\": \"\"}, \"type\": \"choropleth\"}], \"contour\": [{\"colorbar\": {\"outlinewidth\": 0, \"ticks\": \"\"}, \"colorscale\": [[0.0, \"#0d0887\"], [0.1111111111111111, \"#46039f\"], [0.2222222222222222, \"#7201a8\"], [0.3333333333333333, \"#9c179e\"], [0.4444444444444444, \"#bd3786\"], [0.5555555555555556, \"#d8576b\"], [0.6666666666666666, \"#ed7953\"], [0.7777777777777778, \"#fb9f3a\"], [0.8888888888888888, \"#fdca26\"], [1.0, \"#f0f921\"]], \"type\": \"contour\"}], \"contourcarpet\": [{\"colorbar\": {\"outlinewidth\": 0, \"ticks\": \"\"}, \"type\": \"contourcarpet\"}], \"heatmap\": [{\"colorbar\": {\"outlinewidth\": 0, \"ticks\": \"\"}, \"colorscale\": [[0.0, \"#0d0887\"], [0.1111111111111111, \"#46039f\"], [0.2222222222222222, \"#7201a8\"], [0.3333333333333333, \"#9c179e\"], [0.4444444444444444, \"#bd3786\"], [0.5555555555555556, \"#d8576b\"], [0.6666666666666666, \"#ed7953\"], [0.7777777777777778, \"#fb9f3a\"], [0.8888888888888888, \"#fdca26\"], [1.0, \"#f0f921\"]], \"type\": \"heatmap\"}], \"heatmapgl\": [{\"colorbar\": {\"outlinewidth\": 0, \"ticks\": \"\"}, \"colorscale\": [[0.0, \"#0d0887\"], [0.1111111111111111, \"#46039f\"], [0.2222222222222222, \"#7201a8\"], [0.3333333333333333, \"#9c179e\"], [0.4444444444444444, \"#bd3786\"], [0.5555555555555556, \"#d8576b\"], [0.6666666666666666, \"#ed7953\"], [0.7777777777777778, \"#fb9f3a\"], [0.8888888888888888, \"#fdca26\"], [1.0, \"#f0f921\"]], \"type\": \"heatmapgl\"}], \"histogram\": [{\"marker\": {\"colorbar\": {\"outlinewidth\": 0, \"ticks\": \"\"}}, \"type\": \"histogram\"}], \"histogram2d\": [{\"colorbar\": {\"outlinewidth\": 0, \"ticks\": \"\"}, \"colorscale\": [[0.0, \"#0d0887\"], [0.1111111111111111, \"#46039f\"], [0.2222222222222222, \"#7201a8\"], [0.3333333333333333, \"#9c179e\"], [0.4444444444444444, \"#bd3786\"], [0.5555555555555556, \"#d8576b\"], [0.6666666666666666, \"#ed7953\"], [0.7777777777777778, \"#fb9f3a\"], [0.8888888888888888, \"#fdca26\"], [1.0, \"#f0f921\"]], \"type\": \"histogram2d\"}], \"histogram2dcontour\": [{\"colorbar\": {\"outlinewidth\": 0, \"ticks\": \"\"}, \"colorscale\": [[0.0, \"#0d0887\"], [0.1111111111111111, \"#46039f\"], [0.2222222222222222, \"#7201a8\"], [0.3333333333333333, \"#9c179e\"], [0.4444444444444444, \"#bd3786\"], [0.5555555555555556, \"#d8576b\"], [0.6666666666666666, \"#ed7953\"], [0.7777777777777778, \"#fb9f3a\"], [0.8888888888888888, \"#fdca26\"], [1.0, \"#f0f921\"]], \"type\": \"histogram2dcontour\"}], \"mesh3d\": [{\"colorbar\": {\"outlinewidth\": 0, \"ticks\": \"\"}, \"type\": \"mesh3d\"}], \"parcoords\": [{\"line\": {\"colorbar\": {\"outlinewidth\": 0, \"ticks\": \"\"}}, \"type\": \"parcoords\"}], \"pie\": [{\"automargin\": true, \"type\": \"pie\"}], \"scatter\": [{\"marker\": {\"colorbar\": {\"outlinewidth\": 0, \"ticks\": \"\"}}, \"type\": \"scatter\"}], \"scatter3d\": [{\"line\": {\"colorbar\": {\"outlinewidth\": 0, \"ticks\": \"\"}}, \"marker\": {\"colorbar\": {\"outlinewidth\": 0, \"ticks\": \"\"}}, \"type\": \"scatter3d\"}], \"scattercarpet\": [{\"marker\": {\"colorbar\": {\"outlinewidth\": 0, \"ticks\": \"\"}}, \"type\": \"scattercarpet\"}], \"scattergeo\": [{\"marker\": {\"colorbar\": {\"outlinewidth\": 0, \"ticks\": \"\"}}, \"type\": \"scattergeo\"}], \"scattergl\": [{\"marker\": {\"colorbar\": {\"outlinewidth\": 0, \"ticks\": \"\"}}, \"type\": \"scattergl\"}], \"scattermapbox\": [{\"marker\": {\"colorbar\": {\"outlinewidth\": 0, \"ticks\": \"\"}}, \"type\": \"scattermapbox\"}], \"scatterpolar\": [{\"marker\": {\"colorbar\": {\"outlinewidth\": 0, \"ticks\": \"\"}}, \"type\": \"scatterpolar\"}], \"scatterpolargl\": [{\"marker\": {\"colorbar\": {\"outlinewidth\": 0, \"ticks\": \"\"}}, \"type\": \"scatterpolargl\"}], \"scatterternary\": [{\"marker\": {\"colorbar\": {\"outlinewidth\": 0, \"ticks\": \"\"}}, \"type\": \"scatterternary\"}], \"surface\": [{\"colorbar\": {\"outlinewidth\": 0, \"ticks\": \"\"}, \"colorscale\": [[0.0, \"#0d0887\"], [0.1111111111111111, \"#46039f\"], [0.2222222222222222, \"#7201a8\"], [0.3333333333333333, \"#9c179e\"], [0.4444444444444444, \"#bd3786\"], [0.5555555555555556, \"#d8576b\"], [0.6666666666666666, \"#ed7953\"], [0.7777777777777778, \"#fb9f3a\"], [0.8888888888888888, \"#fdca26\"], [1.0, \"#f0f921\"]], \"type\": \"surface\"}], \"table\": [{\"cells\": {\"fill\": {\"color\": \"#EBF0F8\"}, \"line\": {\"color\": \"white\"}}, \"header\": {\"fill\": {\"color\": \"#C8D4E3\"}, \"line\": {\"color\": \"white\"}}, \"type\": \"table\"}]}, \"layout\": {\"annotationdefaults\": {\"arrowcolor\": \"#2a3f5f\", \"arrowhead\": 0, \"arrowwidth\": 1}, \"autotypenumbers\": \"strict\", \"coloraxis\": {\"colorbar\": {\"outlinewidth\": 0, \"ticks\": \"\"}}, \"colorscale\": {\"diverging\": [[0, \"#8e0152\"], [0.1, \"#c51b7d\"], [0.2, \"#de77ae\"], [0.3, \"#f1b6da\"], [0.4, \"#fde0ef\"], [0.5, \"#f7f7f7\"], [0.6, \"#e6f5d0\"], [0.7, \"#b8e186\"], [0.8, \"#7fbc41\"], [0.9, \"#4d9221\"], [1, \"#276419\"]], \"sequential\": [[0.0, \"#0d0887\"], [0.1111111111111111, \"#46039f\"], [0.2222222222222222, \"#7201a8\"], [0.3333333333333333, \"#9c179e\"], [0.4444444444444444, \"#bd3786\"], [0.5555555555555556, \"#d8576b\"], [0.6666666666666666, \"#ed7953\"], [0.7777777777777778, \"#fb9f3a\"], [0.8888888888888888, \"#fdca26\"], [1.0, \"#f0f921\"]], \"sequentialminus\": [[0.0, \"#0d0887\"], [0.1111111111111111, \"#46039f\"], [0.2222222222222222, \"#7201a8\"], [0.3333333333333333, \"#9c179e\"], [0.4444444444444444, \"#bd3786\"], [0.5555555555555556, \"#d8576b\"], [0.6666666666666666, \"#ed7953\"], [0.7777777777777778, \"#fb9f3a\"], [0.8888888888888888, \"#fdca26\"], [1.0, \"#f0f921\"]]}, \"colorway\": [\"#636efa\", \"#EF553B\", \"#00cc96\", \"#ab63fa\", \"#FFA15A\", \"#19d3f3\", \"#FF6692\", \"#B6E880\", \"#FF97FF\", \"#FECB52\"], \"font\": {\"color\": \"#2a3f5f\"}, \"geo\": {\"bgcolor\": \"white\", \"lakecolor\": \"white\", \"landcolor\": \"#E5ECF6\", \"showlakes\": true, \"showland\": true, \"subunitcolor\": \"white\"}, \"hoverlabel\": {\"align\": \"left\"}, \"hovermode\": \"closest\", \"mapbox\": {\"style\": \"light\"}, \"paper_bgcolor\": \"white\", \"plot_bgcolor\": \"#E5ECF6\", \"polar\": {\"angularaxis\": {\"gridcolor\": \"white\", \"linecolor\": \"white\", \"ticks\": \"\"}, \"bgcolor\": \"#E5ECF6\", \"radialaxis\": {\"gridcolor\": \"white\", \"linecolor\": \"white\", \"ticks\": \"\"}}, \"scene\": {\"xaxis\": {\"backgroundcolor\": \"#E5ECF6\", \"gridcolor\": \"white\", \"gridwidth\": 2, \"linecolor\": \"white\", \"showbackground\": true, \"ticks\": \"\", \"zerolinecolor\": \"white\"}, \"yaxis\": {\"backgroundcolor\": \"#E5ECF6\", \"gridcolor\": \"white\", \"gridwidth\": 2, \"linecolor\": \"white\", \"showbackground\": true, \"ticks\": \"\", \"zerolinecolor\": \"white\"}, \"zaxis\": {\"backgroundcolor\": \"#E5ECF6\", \"gridcolor\": \"white\", \"gridwidth\": 2, \"linecolor\": \"white\", \"showbackground\": true, \"ticks\": \"\", \"zerolinecolor\": \"white\"}}, \"shapedefaults\": {\"line\": {\"color\": \"#2a3f5f\"}}, \"ternary\": {\"aaxis\": {\"gridcolor\": \"white\", \"linecolor\": \"white\", \"ticks\": \"\"}, \"baxis\": {\"gridcolor\": \"white\", \"linecolor\": \"white\", \"ticks\": \"\"}, \"bgcolor\": \"#E5ECF6\", \"caxis\": {\"gridcolor\": \"white\", \"linecolor\": \"white\", \"ticks\": \"\"}}, \"title\": {\"x\": 0.05}, \"xaxis\": {\"automargin\": true, \"gridcolor\": \"white\", \"linecolor\": \"white\", \"ticks\": \"\", \"title\": {\"standoff\": 15}, \"zerolinecolor\": \"white\", \"zerolinewidth\": 2}, \"yaxis\": {\"automargin\": true, \"gridcolor\": \"white\", \"linecolor\": \"white\", \"ticks\": \"\", \"title\": {\"standoff\": 15}, \"zerolinecolor\": \"white\", \"zerolinewidth\": 2}}}, \"xaxis\": {\"anchor\": \"y\", \"domain\": [0.0, 1.0], \"title\": {\"text\": \"x\"}}, \"yaxis\": {\"anchor\": \"x\", \"domain\": [0.0, 1.0], \"title\": {\"text\": \"y\"}}},                        {\"responsive\": true}                    ).then(function(){\n",
       "                            \n",
       "var gd = document.getElementById('fe94b523-6268-49fb-8ea1-f7d07d0777f9');\n",
       "var x = new MutationObserver(function (mutations, observer) {{\n",
       "        var display = window.getComputedStyle(gd).display;\n",
       "        if (!display || display === 'none') {{\n",
       "            console.log([gd, 'removed!']);\n",
       "            Plotly.purge(gd);\n",
       "            observer.disconnect();\n",
       "        }}\n",
       "}});\n",
       "\n",
       "// Listen for the removal of the full notebook cells\n",
       "var notebookContainer = gd.closest('#notebook-container');\n",
       "if (notebookContainer) {{\n",
       "    x.observe(notebookContainer, {childList: true});\n",
       "}}\n",
       "\n",
       "// Listen for the clearing of the current output cell\n",
       "var outputEl = gd.closest('.output');\n",
       "if (outputEl) {{\n",
       "    x.observe(outputEl, {childList: true});\n",
       "}}\n",
       "\n",
       "                        })                };                });            </script>        </div>"
      ]
     },
     "metadata": {},
     "output_type": "display_data"
    }
   ],
   "source": [
    "k_range = [2,3,4,5,6]\n",
    "args = {\n",
    "    \"init\": \"random\",\n",
    "    \"n_init\": 10,\n",
    "    \"max_iter\": 300,\n",
    "    \"random_state\": 42,\n",
    "}\n",
    "sse = get_sse(df_false, k_range, args)\n",
    "best_k = get_best_k(k_range, sse) #if get_best_k(k_range, sse) else 4\n",
    "\n",
    "elbow_plot(k_range, sse)\n",
    "resultados[\"defects_false\"] = {\"best_k\": best_k}"
   ]
  },
  {
   "cell_type": "code",
   "execution_count": 574,
   "metadata": {},
   "outputs": [],
   "source": [
    "args[\"n_clusters\"] = best_k\n",
    "df_false = generate_metaclasses(df_false, args)\n",
    "df_false_copy = df_false.copy()"
   ]
  },
  {
   "cell_type": "markdown",
   "metadata": {},
   "source": [
    "### clusters gerados com defects = true"
   ]
  },
  {
   "cell_type": "code",
   "execution_count": 575,
   "metadata": {},
   "outputs": [
    {
     "name": "stdout",
     "output_type": "stream",
     "text": [
      "Melhor k: 3\n"
     ]
    },
    {
     "data": {
      "application/vnd.plotly.v1+json": {
       "config": {
        "plotlyServerURL": "https://plot.ly"
       },
       "data": [
        {
         "hovertemplate": "x=%{x}<br>y=%{y}<extra></extra>",
         "legendgroup": "",
         "line": {
          "color": "#636efa",
          "dash": "solid"
         },
         "mode": "lines",
         "name": "",
         "orientation": "v",
         "showlegend": false,
         "type": "scatter",
         "x": [
          2,
          3,
          4,
          5,
          6
         ],
         "xaxis": "x",
         "y": [
          18.235028362635614,
          9.717811128650707,
          8.178003833007983,
          6.474306231455226,
          4.959396154623512
         ],
         "yaxis": "y"
        }
       ],
       "layout": {
        "legend": {
         "tracegroupgap": 0
        },
        "margin": {
         "t": 60
        },
        "template": {
         "data": {
          "bar": [
           {
            "error_x": {
             "color": "#2a3f5f"
            },
            "error_y": {
             "color": "#2a3f5f"
            },
            "marker": {
             "line": {
              "color": "#E5ECF6",
              "width": 0.5
             }
            },
            "type": "bar"
           }
          ],
          "barpolar": [
           {
            "marker": {
             "line": {
              "color": "#E5ECF6",
              "width": 0.5
             }
            },
            "type": "barpolar"
           }
          ],
          "carpet": [
           {
            "aaxis": {
             "endlinecolor": "#2a3f5f",
             "gridcolor": "white",
             "linecolor": "white",
             "minorgridcolor": "white",
             "startlinecolor": "#2a3f5f"
            },
            "baxis": {
             "endlinecolor": "#2a3f5f",
             "gridcolor": "white",
             "linecolor": "white",
             "minorgridcolor": "white",
             "startlinecolor": "#2a3f5f"
            },
            "type": "carpet"
           }
          ],
          "choropleth": [
           {
            "colorbar": {
             "outlinewidth": 0,
             "ticks": ""
            },
            "type": "choropleth"
           }
          ],
          "contour": [
           {
            "colorbar": {
             "outlinewidth": 0,
             "ticks": ""
            },
            "colorscale": [
             [
              0,
              "#0d0887"
             ],
             [
              0.1111111111111111,
              "#46039f"
             ],
             [
              0.2222222222222222,
              "#7201a8"
             ],
             [
              0.3333333333333333,
              "#9c179e"
             ],
             [
              0.4444444444444444,
              "#bd3786"
             ],
             [
              0.5555555555555556,
              "#d8576b"
             ],
             [
              0.6666666666666666,
              "#ed7953"
             ],
             [
              0.7777777777777778,
              "#fb9f3a"
             ],
             [
              0.8888888888888888,
              "#fdca26"
             ],
             [
              1,
              "#f0f921"
             ]
            ],
            "type": "contour"
           }
          ],
          "contourcarpet": [
           {
            "colorbar": {
             "outlinewidth": 0,
             "ticks": ""
            },
            "type": "contourcarpet"
           }
          ],
          "heatmap": [
           {
            "colorbar": {
             "outlinewidth": 0,
             "ticks": ""
            },
            "colorscale": [
             [
              0,
              "#0d0887"
             ],
             [
              0.1111111111111111,
              "#46039f"
             ],
             [
              0.2222222222222222,
              "#7201a8"
             ],
             [
              0.3333333333333333,
              "#9c179e"
             ],
             [
              0.4444444444444444,
              "#bd3786"
             ],
             [
              0.5555555555555556,
              "#d8576b"
             ],
             [
              0.6666666666666666,
              "#ed7953"
             ],
             [
              0.7777777777777778,
              "#fb9f3a"
             ],
             [
              0.8888888888888888,
              "#fdca26"
             ],
             [
              1,
              "#f0f921"
             ]
            ],
            "type": "heatmap"
           }
          ],
          "heatmapgl": [
           {
            "colorbar": {
             "outlinewidth": 0,
             "ticks": ""
            },
            "colorscale": [
             [
              0,
              "#0d0887"
             ],
             [
              0.1111111111111111,
              "#46039f"
             ],
             [
              0.2222222222222222,
              "#7201a8"
             ],
             [
              0.3333333333333333,
              "#9c179e"
             ],
             [
              0.4444444444444444,
              "#bd3786"
             ],
             [
              0.5555555555555556,
              "#d8576b"
             ],
             [
              0.6666666666666666,
              "#ed7953"
             ],
             [
              0.7777777777777778,
              "#fb9f3a"
             ],
             [
              0.8888888888888888,
              "#fdca26"
             ],
             [
              1,
              "#f0f921"
             ]
            ],
            "type": "heatmapgl"
           }
          ],
          "histogram": [
           {
            "marker": {
             "colorbar": {
              "outlinewidth": 0,
              "ticks": ""
             }
            },
            "type": "histogram"
           }
          ],
          "histogram2d": [
           {
            "colorbar": {
             "outlinewidth": 0,
             "ticks": ""
            },
            "colorscale": [
             [
              0,
              "#0d0887"
             ],
             [
              0.1111111111111111,
              "#46039f"
             ],
             [
              0.2222222222222222,
              "#7201a8"
             ],
             [
              0.3333333333333333,
              "#9c179e"
             ],
             [
              0.4444444444444444,
              "#bd3786"
             ],
             [
              0.5555555555555556,
              "#d8576b"
             ],
             [
              0.6666666666666666,
              "#ed7953"
             ],
             [
              0.7777777777777778,
              "#fb9f3a"
             ],
             [
              0.8888888888888888,
              "#fdca26"
             ],
             [
              1,
              "#f0f921"
             ]
            ],
            "type": "histogram2d"
           }
          ],
          "histogram2dcontour": [
           {
            "colorbar": {
             "outlinewidth": 0,
             "ticks": ""
            },
            "colorscale": [
             [
              0,
              "#0d0887"
             ],
             [
              0.1111111111111111,
              "#46039f"
             ],
             [
              0.2222222222222222,
              "#7201a8"
             ],
             [
              0.3333333333333333,
              "#9c179e"
             ],
             [
              0.4444444444444444,
              "#bd3786"
             ],
             [
              0.5555555555555556,
              "#d8576b"
             ],
             [
              0.6666666666666666,
              "#ed7953"
             ],
             [
              0.7777777777777778,
              "#fb9f3a"
             ],
             [
              0.8888888888888888,
              "#fdca26"
             ],
             [
              1,
              "#f0f921"
             ]
            ],
            "type": "histogram2dcontour"
           }
          ],
          "mesh3d": [
           {
            "colorbar": {
             "outlinewidth": 0,
             "ticks": ""
            },
            "type": "mesh3d"
           }
          ],
          "parcoords": [
           {
            "line": {
             "colorbar": {
              "outlinewidth": 0,
              "ticks": ""
             }
            },
            "type": "parcoords"
           }
          ],
          "pie": [
           {
            "automargin": true,
            "type": "pie"
           }
          ],
          "scatter": [
           {
            "marker": {
             "colorbar": {
              "outlinewidth": 0,
              "ticks": ""
             }
            },
            "type": "scatter"
           }
          ],
          "scatter3d": [
           {
            "line": {
             "colorbar": {
              "outlinewidth": 0,
              "ticks": ""
             }
            },
            "marker": {
             "colorbar": {
              "outlinewidth": 0,
              "ticks": ""
             }
            },
            "type": "scatter3d"
           }
          ],
          "scattercarpet": [
           {
            "marker": {
             "colorbar": {
              "outlinewidth": 0,
              "ticks": ""
             }
            },
            "type": "scattercarpet"
           }
          ],
          "scattergeo": [
           {
            "marker": {
             "colorbar": {
              "outlinewidth": 0,
              "ticks": ""
             }
            },
            "type": "scattergeo"
           }
          ],
          "scattergl": [
           {
            "marker": {
             "colorbar": {
              "outlinewidth": 0,
              "ticks": ""
             }
            },
            "type": "scattergl"
           }
          ],
          "scattermapbox": [
           {
            "marker": {
             "colorbar": {
              "outlinewidth": 0,
              "ticks": ""
             }
            },
            "type": "scattermapbox"
           }
          ],
          "scatterpolar": [
           {
            "marker": {
             "colorbar": {
              "outlinewidth": 0,
              "ticks": ""
             }
            },
            "type": "scatterpolar"
           }
          ],
          "scatterpolargl": [
           {
            "marker": {
             "colorbar": {
              "outlinewidth": 0,
              "ticks": ""
             }
            },
            "type": "scatterpolargl"
           }
          ],
          "scatterternary": [
           {
            "marker": {
             "colorbar": {
              "outlinewidth": 0,
              "ticks": ""
             }
            },
            "type": "scatterternary"
           }
          ],
          "surface": [
           {
            "colorbar": {
             "outlinewidth": 0,
             "ticks": ""
            },
            "colorscale": [
             [
              0,
              "#0d0887"
             ],
             [
              0.1111111111111111,
              "#46039f"
             ],
             [
              0.2222222222222222,
              "#7201a8"
             ],
             [
              0.3333333333333333,
              "#9c179e"
             ],
             [
              0.4444444444444444,
              "#bd3786"
             ],
             [
              0.5555555555555556,
              "#d8576b"
             ],
             [
              0.6666666666666666,
              "#ed7953"
             ],
             [
              0.7777777777777778,
              "#fb9f3a"
             ],
             [
              0.8888888888888888,
              "#fdca26"
             ],
             [
              1,
              "#f0f921"
             ]
            ],
            "type": "surface"
           }
          ],
          "table": [
           {
            "cells": {
             "fill": {
              "color": "#EBF0F8"
             },
             "line": {
              "color": "white"
             }
            },
            "header": {
             "fill": {
              "color": "#C8D4E3"
             },
             "line": {
              "color": "white"
             }
            },
            "type": "table"
           }
          ]
         },
         "layout": {
          "annotationdefaults": {
           "arrowcolor": "#2a3f5f",
           "arrowhead": 0,
           "arrowwidth": 1
          },
          "autotypenumbers": "strict",
          "coloraxis": {
           "colorbar": {
            "outlinewidth": 0,
            "ticks": ""
           }
          },
          "colorscale": {
           "diverging": [
            [
             0,
             "#8e0152"
            ],
            [
             0.1,
             "#c51b7d"
            ],
            [
             0.2,
             "#de77ae"
            ],
            [
             0.3,
             "#f1b6da"
            ],
            [
             0.4,
             "#fde0ef"
            ],
            [
             0.5,
             "#f7f7f7"
            ],
            [
             0.6,
             "#e6f5d0"
            ],
            [
             0.7,
             "#b8e186"
            ],
            [
             0.8,
             "#7fbc41"
            ],
            [
             0.9,
             "#4d9221"
            ],
            [
             1,
             "#276419"
            ]
           ],
           "sequential": [
            [
             0,
             "#0d0887"
            ],
            [
             0.1111111111111111,
             "#46039f"
            ],
            [
             0.2222222222222222,
             "#7201a8"
            ],
            [
             0.3333333333333333,
             "#9c179e"
            ],
            [
             0.4444444444444444,
             "#bd3786"
            ],
            [
             0.5555555555555556,
             "#d8576b"
            ],
            [
             0.6666666666666666,
             "#ed7953"
            ],
            [
             0.7777777777777778,
             "#fb9f3a"
            ],
            [
             0.8888888888888888,
             "#fdca26"
            ],
            [
             1,
             "#f0f921"
            ]
           ],
           "sequentialminus": [
            [
             0,
             "#0d0887"
            ],
            [
             0.1111111111111111,
             "#46039f"
            ],
            [
             0.2222222222222222,
             "#7201a8"
            ],
            [
             0.3333333333333333,
             "#9c179e"
            ],
            [
             0.4444444444444444,
             "#bd3786"
            ],
            [
             0.5555555555555556,
             "#d8576b"
            ],
            [
             0.6666666666666666,
             "#ed7953"
            ],
            [
             0.7777777777777778,
             "#fb9f3a"
            ],
            [
             0.8888888888888888,
             "#fdca26"
            ],
            [
             1,
             "#f0f921"
            ]
           ]
          },
          "colorway": [
           "#636efa",
           "#EF553B",
           "#00cc96",
           "#ab63fa",
           "#FFA15A",
           "#19d3f3",
           "#FF6692",
           "#B6E880",
           "#FF97FF",
           "#FECB52"
          ],
          "font": {
           "color": "#2a3f5f"
          },
          "geo": {
           "bgcolor": "white",
           "lakecolor": "white",
           "landcolor": "#E5ECF6",
           "showlakes": true,
           "showland": true,
           "subunitcolor": "white"
          },
          "hoverlabel": {
           "align": "left"
          },
          "hovermode": "closest",
          "mapbox": {
           "style": "light"
          },
          "paper_bgcolor": "white",
          "plot_bgcolor": "#E5ECF6",
          "polar": {
           "angularaxis": {
            "gridcolor": "white",
            "linecolor": "white",
            "ticks": ""
           },
           "bgcolor": "#E5ECF6",
           "radialaxis": {
            "gridcolor": "white",
            "linecolor": "white",
            "ticks": ""
           }
          },
          "scene": {
           "xaxis": {
            "backgroundcolor": "#E5ECF6",
            "gridcolor": "white",
            "gridwidth": 2,
            "linecolor": "white",
            "showbackground": true,
            "ticks": "",
            "zerolinecolor": "white"
           },
           "yaxis": {
            "backgroundcolor": "#E5ECF6",
            "gridcolor": "white",
            "gridwidth": 2,
            "linecolor": "white",
            "showbackground": true,
            "ticks": "",
            "zerolinecolor": "white"
           },
           "zaxis": {
            "backgroundcolor": "#E5ECF6",
            "gridcolor": "white",
            "gridwidth": 2,
            "linecolor": "white",
            "showbackground": true,
            "ticks": "",
            "zerolinecolor": "white"
           }
          },
          "shapedefaults": {
           "line": {
            "color": "#2a3f5f"
           }
          },
          "ternary": {
           "aaxis": {
            "gridcolor": "white",
            "linecolor": "white",
            "ticks": ""
           },
           "baxis": {
            "gridcolor": "white",
            "linecolor": "white",
            "ticks": ""
           },
           "bgcolor": "#E5ECF6",
           "caxis": {
            "gridcolor": "white",
            "linecolor": "white",
            "ticks": ""
           }
          },
          "title": {
           "x": 0.05
          },
          "xaxis": {
           "automargin": true,
           "gridcolor": "white",
           "linecolor": "white",
           "ticks": "",
           "title": {
            "standoff": 15
           },
           "zerolinecolor": "white",
           "zerolinewidth": 2
          },
          "yaxis": {
           "automargin": true,
           "gridcolor": "white",
           "linecolor": "white",
           "ticks": "",
           "title": {
            "standoff": 15
           },
           "zerolinecolor": "white",
           "zerolinewidth": 2
          }
         }
        },
        "xaxis": {
         "anchor": "y",
         "domain": [
          0,
          1
         ],
         "title": {
          "text": "x"
         }
        },
        "yaxis": {
         "anchor": "x",
         "domain": [
          0,
          1
         ],
         "title": {
          "text": "y"
         }
        }
       }
      },
      "text/html": [
       "<div>                            <div id=\"8580a4fe-5c43-4218-a36d-8349518cfef3\" class=\"plotly-graph-div\" style=\"height:525px; width:100%;\"></div>            <script type=\"text/javascript\">                require([\"plotly\"], function(Plotly) {                    window.PLOTLYENV=window.PLOTLYENV || {};                                    if (document.getElementById(\"8580a4fe-5c43-4218-a36d-8349518cfef3\")) {                    Plotly.newPlot(                        \"8580a4fe-5c43-4218-a36d-8349518cfef3\",                        [{\"hovertemplate\": \"x=%{x}<br>y=%{y}<extra></extra>\", \"legendgroup\": \"\", \"line\": {\"color\": \"#636efa\", \"dash\": \"solid\"}, \"mode\": \"lines\", \"name\": \"\", \"orientation\": \"v\", \"showlegend\": false, \"type\": \"scatter\", \"x\": [2, 3, 4, 5, 6], \"xaxis\": \"x\", \"y\": [18.235028362635614, 9.717811128650707, 8.178003833007983, 6.474306231455226, 4.959396154623512], \"yaxis\": \"y\"}],                        {\"legend\": {\"tracegroupgap\": 0}, \"margin\": {\"t\": 60}, \"template\": {\"data\": {\"bar\": [{\"error_x\": {\"color\": \"#2a3f5f\"}, \"error_y\": {\"color\": \"#2a3f5f\"}, \"marker\": {\"line\": {\"color\": \"#E5ECF6\", \"width\": 0.5}}, \"type\": \"bar\"}], \"barpolar\": [{\"marker\": {\"line\": {\"color\": \"#E5ECF6\", \"width\": 0.5}}, \"type\": \"barpolar\"}], \"carpet\": [{\"aaxis\": {\"endlinecolor\": \"#2a3f5f\", \"gridcolor\": \"white\", \"linecolor\": \"white\", \"minorgridcolor\": \"white\", \"startlinecolor\": \"#2a3f5f\"}, \"baxis\": {\"endlinecolor\": \"#2a3f5f\", \"gridcolor\": \"white\", \"linecolor\": \"white\", \"minorgridcolor\": \"white\", \"startlinecolor\": \"#2a3f5f\"}, \"type\": \"carpet\"}], \"choropleth\": [{\"colorbar\": {\"outlinewidth\": 0, \"ticks\": \"\"}, \"type\": \"choropleth\"}], \"contour\": [{\"colorbar\": {\"outlinewidth\": 0, \"ticks\": \"\"}, \"colorscale\": [[0.0, \"#0d0887\"], [0.1111111111111111, \"#46039f\"], [0.2222222222222222, \"#7201a8\"], [0.3333333333333333, \"#9c179e\"], [0.4444444444444444, \"#bd3786\"], [0.5555555555555556, \"#d8576b\"], [0.6666666666666666, \"#ed7953\"], [0.7777777777777778, \"#fb9f3a\"], [0.8888888888888888, \"#fdca26\"], [1.0, \"#f0f921\"]], \"type\": \"contour\"}], \"contourcarpet\": [{\"colorbar\": {\"outlinewidth\": 0, \"ticks\": \"\"}, \"type\": \"contourcarpet\"}], \"heatmap\": [{\"colorbar\": {\"outlinewidth\": 0, \"ticks\": \"\"}, \"colorscale\": [[0.0, \"#0d0887\"], [0.1111111111111111, \"#46039f\"], [0.2222222222222222, \"#7201a8\"], [0.3333333333333333, \"#9c179e\"], [0.4444444444444444, \"#bd3786\"], [0.5555555555555556, \"#d8576b\"], [0.6666666666666666, \"#ed7953\"], [0.7777777777777778, \"#fb9f3a\"], [0.8888888888888888, \"#fdca26\"], [1.0, \"#f0f921\"]], \"type\": \"heatmap\"}], \"heatmapgl\": [{\"colorbar\": {\"outlinewidth\": 0, \"ticks\": \"\"}, \"colorscale\": [[0.0, \"#0d0887\"], [0.1111111111111111, \"#46039f\"], [0.2222222222222222, \"#7201a8\"], [0.3333333333333333, \"#9c179e\"], [0.4444444444444444, \"#bd3786\"], [0.5555555555555556, \"#d8576b\"], [0.6666666666666666, \"#ed7953\"], [0.7777777777777778, \"#fb9f3a\"], [0.8888888888888888, \"#fdca26\"], [1.0, \"#f0f921\"]], \"type\": \"heatmapgl\"}], \"histogram\": [{\"marker\": {\"colorbar\": {\"outlinewidth\": 0, \"ticks\": \"\"}}, \"type\": \"histogram\"}], \"histogram2d\": [{\"colorbar\": {\"outlinewidth\": 0, \"ticks\": \"\"}, \"colorscale\": [[0.0, \"#0d0887\"], [0.1111111111111111, \"#46039f\"], [0.2222222222222222, \"#7201a8\"], [0.3333333333333333, \"#9c179e\"], [0.4444444444444444, \"#bd3786\"], [0.5555555555555556, \"#d8576b\"], [0.6666666666666666, \"#ed7953\"], [0.7777777777777778, \"#fb9f3a\"], [0.8888888888888888, \"#fdca26\"], [1.0, \"#f0f921\"]], \"type\": \"histogram2d\"}], \"histogram2dcontour\": [{\"colorbar\": {\"outlinewidth\": 0, \"ticks\": \"\"}, \"colorscale\": [[0.0, \"#0d0887\"], [0.1111111111111111, \"#46039f\"], [0.2222222222222222, \"#7201a8\"], [0.3333333333333333, \"#9c179e\"], [0.4444444444444444, \"#bd3786\"], [0.5555555555555556, \"#d8576b\"], [0.6666666666666666, \"#ed7953\"], [0.7777777777777778, \"#fb9f3a\"], [0.8888888888888888, \"#fdca26\"], [1.0, \"#f0f921\"]], \"type\": \"histogram2dcontour\"}], \"mesh3d\": [{\"colorbar\": {\"outlinewidth\": 0, \"ticks\": \"\"}, \"type\": \"mesh3d\"}], \"parcoords\": [{\"line\": {\"colorbar\": {\"outlinewidth\": 0, \"ticks\": \"\"}}, \"type\": \"parcoords\"}], \"pie\": [{\"automargin\": true, \"type\": \"pie\"}], \"scatter\": [{\"marker\": {\"colorbar\": {\"outlinewidth\": 0, \"ticks\": \"\"}}, \"type\": \"scatter\"}], \"scatter3d\": [{\"line\": {\"colorbar\": {\"outlinewidth\": 0, \"ticks\": \"\"}}, \"marker\": {\"colorbar\": {\"outlinewidth\": 0, \"ticks\": \"\"}}, \"type\": \"scatter3d\"}], \"scattercarpet\": [{\"marker\": {\"colorbar\": {\"outlinewidth\": 0, \"ticks\": \"\"}}, \"type\": \"scattercarpet\"}], \"scattergeo\": [{\"marker\": {\"colorbar\": {\"outlinewidth\": 0, \"ticks\": \"\"}}, \"type\": \"scattergeo\"}], \"scattergl\": [{\"marker\": {\"colorbar\": {\"outlinewidth\": 0, \"ticks\": \"\"}}, \"type\": \"scattergl\"}], \"scattermapbox\": [{\"marker\": {\"colorbar\": {\"outlinewidth\": 0, \"ticks\": \"\"}}, \"type\": \"scattermapbox\"}], \"scatterpolar\": [{\"marker\": {\"colorbar\": {\"outlinewidth\": 0, \"ticks\": \"\"}}, \"type\": \"scatterpolar\"}], \"scatterpolargl\": [{\"marker\": {\"colorbar\": {\"outlinewidth\": 0, \"ticks\": \"\"}}, \"type\": \"scatterpolargl\"}], \"scatterternary\": [{\"marker\": {\"colorbar\": {\"outlinewidth\": 0, \"ticks\": \"\"}}, \"type\": \"scatterternary\"}], \"surface\": [{\"colorbar\": {\"outlinewidth\": 0, \"ticks\": \"\"}, \"colorscale\": [[0.0, \"#0d0887\"], [0.1111111111111111, \"#46039f\"], [0.2222222222222222, \"#7201a8\"], [0.3333333333333333, \"#9c179e\"], [0.4444444444444444, \"#bd3786\"], [0.5555555555555556, \"#d8576b\"], [0.6666666666666666, \"#ed7953\"], [0.7777777777777778, \"#fb9f3a\"], [0.8888888888888888, \"#fdca26\"], [1.0, \"#f0f921\"]], \"type\": \"surface\"}], \"table\": [{\"cells\": {\"fill\": {\"color\": \"#EBF0F8\"}, \"line\": {\"color\": \"white\"}}, \"header\": {\"fill\": {\"color\": \"#C8D4E3\"}, \"line\": {\"color\": \"white\"}}, \"type\": \"table\"}]}, \"layout\": {\"annotationdefaults\": {\"arrowcolor\": \"#2a3f5f\", \"arrowhead\": 0, \"arrowwidth\": 1}, \"autotypenumbers\": \"strict\", \"coloraxis\": {\"colorbar\": {\"outlinewidth\": 0, \"ticks\": \"\"}}, \"colorscale\": {\"diverging\": [[0, \"#8e0152\"], [0.1, \"#c51b7d\"], [0.2, \"#de77ae\"], [0.3, \"#f1b6da\"], [0.4, \"#fde0ef\"], [0.5, \"#f7f7f7\"], [0.6, \"#e6f5d0\"], [0.7, \"#b8e186\"], [0.8, \"#7fbc41\"], [0.9, \"#4d9221\"], [1, \"#276419\"]], \"sequential\": [[0.0, \"#0d0887\"], [0.1111111111111111, \"#46039f\"], [0.2222222222222222, \"#7201a8\"], [0.3333333333333333, \"#9c179e\"], [0.4444444444444444, \"#bd3786\"], [0.5555555555555556, \"#d8576b\"], [0.6666666666666666, \"#ed7953\"], [0.7777777777777778, \"#fb9f3a\"], [0.8888888888888888, \"#fdca26\"], [1.0, \"#f0f921\"]], \"sequentialminus\": [[0.0, \"#0d0887\"], [0.1111111111111111, \"#46039f\"], [0.2222222222222222, \"#7201a8\"], [0.3333333333333333, \"#9c179e\"], [0.4444444444444444, \"#bd3786\"], [0.5555555555555556, \"#d8576b\"], [0.6666666666666666, \"#ed7953\"], [0.7777777777777778, \"#fb9f3a\"], [0.8888888888888888, \"#fdca26\"], [1.0, \"#f0f921\"]]}, \"colorway\": [\"#636efa\", \"#EF553B\", \"#00cc96\", \"#ab63fa\", \"#FFA15A\", \"#19d3f3\", \"#FF6692\", \"#B6E880\", \"#FF97FF\", \"#FECB52\"], \"font\": {\"color\": \"#2a3f5f\"}, \"geo\": {\"bgcolor\": \"white\", \"lakecolor\": \"white\", \"landcolor\": \"#E5ECF6\", \"showlakes\": true, \"showland\": true, \"subunitcolor\": \"white\"}, \"hoverlabel\": {\"align\": \"left\"}, \"hovermode\": \"closest\", \"mapbox\": {\"style\": \"light\"}, \"paper_bgcolor\": \"white\", \"plot_bgcolor\": \"#E5ECF6\", \"polar\": {\"angularaxis\": {\"gridcolor\": \"white\", \"linecolor\": \"white\", \"ticks\": \"\"}, \"bgcolor\": \"#E5ECF6\", \"radialaxis\": {\"gridcolor\": \"white\", \"linecolor\": \"white\", \"ticks\": \"\"}}, \"scene\": {\"xaxis\": {\"backgroundcolor\": \"#E5ECF6\", \"gridcolor\": \"white\", \"gridwidth\": 2, \"linecolor\": \"white\", \"showbackground\": true, \"ticks\": \"\", \"zerolinecolor\": \"white\"}, \"yaxis\": {\"backgroundcolor\": \"#E5ECF6\", \"gridcolor\": \"white\", \"gridwidth\": 2, \"linecolor\": \"white\", \"showbackground\": true, \"ticks\": \"\", \"zerolinecolor\": \"white\"}, \"zaxis\": {\"backgroundcolor\": \"#E5ECF6\", \"gridcolor\": \"white\", \"gridwidth\": 2, \"linecolor\": \"white\", \"showbackground\": true, \"ticks\": \"\", \"zerolinecolor\": \"white\"}}, \"shapedefaults\": {\"line\": {\"color\": \"#2a3f5f\"}}, \"ternary\": {\"aaxis\": {\"gridcolor\": \"white\", \"linecolor\": \"white\", \"ticks\": \"\"}, \"baxis\": {\"gridcolor\": \"white\", \"linecolor\": \"white\", \"ticks\": \"\"}, \"bgcolor\": \"#E5ECF6\", \"caxis\": {\"gridcolor\": \"white\", \"linecolor\": \"white\", \"ticks\": \"\"}}, \"title\": {\"x\": 0.05}, \"xaxis\": {\"automargin\": true, \"gridcolor\": \"white\", \"linecolor\": \"white\", \"ticks\": \"\", \"title\": {\"standoff\": 15}, \"zerolinecolor\": \"white\", \"zerolinewidth\": 2}, \"yaxis\": {\"automargin\": true, \"gridcolor\": \"white\", \"linecolor\": \"white\", \"ticks\": \"\", \"title\": {\"standoff\": 15}, \"zerolinecolor\": \"white\", \"zerolinewidth\": 2}}}, \"xaxis\": {\"anchor\": \"y\", \"domain\": [0.0, 1.0], \"title\": {\"text\": \"x\"}}, \"yaxis\": {\"anchor\": \"x\", \"domain\": [0.0, 1.0], \"title\": {\"text\": \"y\"}}},                        {\"responsive\": true}                    ).then(function(){\n",
       "                            \n",
       "var gd = document.getElementById('8580a4fe-5c43-4218-a36d-8349518cfef3');\n",
       "var x = new MutationObserver(function (mutations, observer) {{\n",
       "        var display = window.getComputedStyle(gd).display;\n",
       "        if (!display || display === 'none') {{\n",
       "            console.log([gd, 'removed!']);\n",
       "            Plotly.purge(gd);\n",
       "            observer.disconnect();\n",
       "        }}\n",
       "}});\n",
       "\n",
       "// Listen for the removal of the full notebook cells\n",
       "var notebookContainer = gd.closest('#notebook-container');\n",
       "if (notebookContainer) {{\n",
       "    x.observe(notebookContainer, {childList: true});\n",
       "}}\n",
       "\n",
       "// Listen for the clearing of the current output cell\n",
       "var outputEl = gd.closest('.output');\n",
       "if (outputEl) {{\n",
       "    x.observe(outputEl, {childList: true});\n",
       "}}\n",
       "\n",
       "                        })                };                });            </script>        </div>"
      ]
     },
     "metadata": {},
     "output_type": "display_data"
    }
   ],
   "source": [
    "# criar meta classes de todo mundo\n",
    "k_range = [2,3,4,5,6]\n",
    "args = {\n",
    "    \"init\": \"random\",\n",
    "    \"n_init\": 10,\n",
    "    \"max_iter\": 300,\n",
    "    \"random_state\": 42,\n",
    "}\n",
    "sse = get_sse(df_true, k_range, args)\n",
    "best_k = get_best_k(k_range, sse)\n",
    "print(\"Melhor k: {}\".format(best_k))\n",
    "elbow_plot(k_range, sse)\n",
    "resultados[\"defects_true\"] = {\"best_k\": best_k}"
   ]
  },
  {
   "cell_type": "code",
   "execution_count": 576,
   "metadata": {},
   "outputs": [],
   "source": [
    "args[\"n_clusters\"] = best_k\n",
    "df_true = generate_metaclasses(df_true, args)\n",
    "df_true[\"metaclass\"] = df_true[\"metaclass\"].apply(lambda x: x + 4)\n",
    "df_true_copy = df_true.copy()"
   ]
  },
  {
   "cell_type": "code",
   "execution_count": 577,
   "metadata": {},
   "outputs": [
    {
     "data": {
      "application/vnd.plotly.v1+json": {
       "config": {
        "plotlyServerURL": "https://plot.ly"
       },
       "data": [
        {
         "mode": "markers",
         "text": [
          0,
          1,
          2,
          3,
          4,
          5,
          6
         ],
         "type": "scatter",
         "x": [
          1.0933788483876725,
          1.0736100371091948,
          1.0657186559924647,
          1.0644432099290924,
          1.0683178142872654,
          1.0683997249708543,
          1.064622685109485,
          1.0684650680922696,
          1.0670252206313744,
          1.0636573188375475,
          1.0631610355550494,
          1.0707005960884148,
          1.0724666672679815,
          1.064963855898944,
          1.0717254234653175,
          1.0646137630652892,
          1.0689208860726673,
          1.0647325869610358,
          1.069059774816633,
          1.063317341738909,
          1.0657066247894544,
          1.0648163473183476,
          1.064002643415855,
          1.0629670974074281,
          1.073732472520921,
          1.072030531163265,
          1.065333767257839,
          1.0643708711905002,
          1.0648724124168127,
          1.0722262883299967,
          1.0661250018865136,
          1.062427806067988,
          1.0679724576302927,
          1.066078212221331,
          1.0696356692352116,
          1.072030531163265,
          1.0706880533136411,
          1.069740661847908,
          1.062549569571866,
          1.0630083402306045,
          1.0623622483525375,
          1.0674729786945227,
          1.0705063363828302,
          1.0716868628093026,
          1.0624525271894882,
          1.06511747984643,
          1.0681257632227958,
          1.0745314244664386,
          1.0745314244664386,
          1.0745314244664386,
          1.0719497085783736,
          1.0697371921241563,
          1.0697652248976726,
          1.072438634494465,
          1.0742214552314222,
          1.065444276670575,
          1.062490085719062,
          1.0695261749463385,
          1.0643970858083942,
          1.0643970858083942,
          1.0693016243134512,
          1.0627927019174712,
          1.0779695189722622,
          1.0715759740840876,
          1.0681257632227958,
          1.0697371921241563,
          1.0745314244664386,
          1.0745314244664386,
          1.0781982639617127,
          1.0747295661369354,
          1.072438634494465,
          1.0720221889418897,
          1.0717960902634471,
          1.0645557938728656,
          1.0628902835376,
          1.0742214552314222,
          1.0662035535277707,
          1.0706725633148981,
          1.0681504808298692,
          1.0646823274854704,
          1.0781982639617127,
          1.0686286927055797,
          1.0705687322373596,
          1.070700823903983,
          1.072562542971785,
          1.0646226851094838,
          1.0684650680922687,
          1.067025220631375,
          1.0636573188375475,
          1.0631610355550494,
          1.0707005960884148,
          1.0724666672679815,
          1.0778302724683417,
          1.0778302724683417,
          1.0778302724683417,
          1.0778302724683417,
          1.074215250463024,
          1.0658159323233696,
          1.0629015418661851,
          1.0629015418661851,
          1.0744569594766777,
          1.0694775526274156,
          1.0658368822244098,
          1.0658368822244098,
          1.0658368822244098,
          1.0658368822244098,
          1.0658368822244098,
          1.0658368822244098,
          1.0658368822244098,
          1.0639543653275587,
          1.0632654868975588,
          1.0650228035332974,
          1.0648972559152383,
          1.063926190031743,
          1.0635821742676774,
          1.0647308997825429,
          1.0662939569419236,
          1.0678695757786387,
          1.0677634686987414,
          1.064385758241846,
          1.0651310329610795,
          1.063394755630983,
          1.0673867850097407,
          1.0653296946811783,
          1.065484935217378,
          1.062654677550888,
          1.0635031893202225,
          1.0640939171783732,
          1.0641791066314163,
          1.0665730576583832,
          1.074757598910452,
          1.0639229841263318,
          1.0647201227688623,
          1.0778383107254985,
          1.0662474701558742,
          1.0742724756887982,
          1.074312105725426,
          1.066228122646828,
          1.0698358044092768,
          1.069740641920406,
          1.070487647867152,
          1.070487647867152,
          1.0628883297342804,
          1.0662671638354728,
          1.0656841612489694,
          1.0671799589092092,
          1.0705810811094356,
          1.0645845638711826,
          1.063948073224928,
          1.0629082312754405,
          1.0708461276382808,
          1.0652795879904253,
          1.0629430611407427,
          1.0660938914827183,
          1.0663197678315304,
          1.063410692417103,
          1.0661482085112797,
          1.0741157854818708,
          1.063756867907545,
          1.0631554017699496,
          1.0626333635627336,
          1.070039872158583,
          1.0631462870148123,
          1.0665322499221064,
          1.0656501081285168,
          1.0652728023550226,
          1.0677912247961994,
          1.0653724672309557,
          1.0747166435686561,
          1.0777544950723852,
          1.0677912247961994,
          1.0659171567844594,
          1.0747166435686561,
          1.0777544950723852,
          1.0672020219517417,
          1.0679066171658065,
          1.0629812133024812,
          1.0664705409619766,
          1.0664705409619766,
          1.0713169979769779,
          1.0668025843737048,
          1.0673027830024824,
          1.065249635035559,
          1.0713169979769779,
          1.0668025843737048,
          1.0673027830024824,
          1.065249635035559,
          1.0660535362006898,
          1.0660535362006898,
          1.0653217388677003,
          1.0745646560846527,
          1.0678753316951997,
          1.0778302724683417,
          1.0692200606262217,
          1.0658488467249314,
          1.0636807978836698,
          1.0633781459246354,
          1.065144105116876,
          1.065122194937949,
          1.0638295658089258,
          1.0631427168181837,
          1.0643194744391251,
          1.0665399169774499,
          1.0689190072923305,
          1.0696556758721816,
          1.0615681207375307,
          1.0740645018761261,
          1.0640357187720653,
          1.0697147764231407,
          1.0646226851094838,
          1.0684650680922687,
          1.067025220631375,
          1.0636573188375475,
          1.0631610355550494,
          1.0707005960884148,
          1.0724666672679815,
          1.0635455634324484
         ],
         "y": [
          -0.34931645413470486,
          -0.30216996318223616,
          -0.2156992316894667,
          -0.2005759697082001,
          -0.2572080933693249,
          -0.25969526101240054,
          -0.2159677330403767,
          -0.27062690587750593,
          -0.24701488800485458,
          -0.18846222486982475,
          -0.17339268703439567,
          -0.2929068162062493,
          -0.30604528716887686,
          -0.21563840881966054,
          -0.2957055827840368,
          -0.19128854071867638,
          -0.26167755186122715,
          -0.21410217231573328,
          -0.2649266472597576,
          -0.17381020883153125,
          -0.22705387769274693,
          -0.1963004837963601,
          -0.19409770288010272,
          -0.1573848122977394,
          -0.30067397884651387,
          -0.29521299912934296,
          -0.21685533571156926,
          -0.1977660517683321,
          -0.214477441078893,
          -0.2990347068187829,
          -0.23123905988682367,
          -0.15524319425711924,
          -0.2625391832604954,
          -0.23822707950509045,
          -0.2746091161240261,
          -0.29521299912934296,
          -0.28761517608448206,
          -0.27780549533388615,
          -0.15447569981578463,
          -0.17025884691062285,
          -0.15298667279158343,
          -0.26384210561483823,
          -0.28527442638280154,
          -0.2955143958161948,
          -0.14201371839708157,
          -0.21226768679938585,
          -0.24836823132286096,
          -0.3187596374664341,
          -0.3187596374664341,
          -0.3187596374664341,
          -0.27291408920026256,
          -0.2611658815824371,
          -0.2626865818873204,
          -0.3045245868639936,
          -0.3134476615250057,
          -0.2166931970370089,
          -0.1604378647426993,
          -0.27520992260103383,
          -0.19555804195784604,
          -0.19555804195784604,
          -0.27713127666083504,
          -0.15083166650611812,
          -0.3392626317167181,
          -0.28030918132556126,
          -0.24836823132286096,
          -0.2611658815824371,
          -0.3187596374664341,
          -0.3187596374664341,
          -0.34314585476179016,
          -0.3225993859423073,
          -0.3045245868639936,
          -0.2956382841719002,
          -0.2791196183283193,
          -0.18437756475896555,
          -0.16303950687916463,
          -0.3134476615250057,
          -0.24333663208064576,
          -0.29138611590136604,
          -0.2675096127224435,
          -0.21614434989913534,
          -0.34314585476179016,
          -0.25356240213962833,
          -0.28531098606551947,
          -0.2867821491059538,
          -0.30780819223760847,
          -0.21596773304037672,
          -0.27062690587750593,
          -0.24701488800485458,
          -0.18846222486982475,
          -0.17339268703439567,
          -0.2929068162062493,
          -0.30604528716887686,
          -0.3337542270765014,
          -0.3337542270765014,
          -0.3337542270765014,
          -0.3337542270765014,
          -0.3083434510402074,
          -0.21237161675924232,
          -0.15525452579414314,
          -0.15525452579414314,
          -0.3100347071045528,
          -0.2708555098634078,
          -0.22318917318454412,
          -0.22318917318454412,
          -0.22318917318454412,
          -0.22318917318454412,
          -0.22318917318454412,
          -0.22318917318454412,
          -0.22318917318454412,
          -0.19217505625997686,
          -0.17450642116773485,
          -0.19456407293658262,
          -0.20625741733088165,
          -0.18575792283580655,
          -0.18248186903800928,
          -0.20571928005209467,
          -0.22699636407967458,
          -0.2535468802835963,
          -0.24955780895004356,
          -0.19469455856445436,
          -0.20465948432510936,
          -0.16517230270187075,
          -0.2468837690531221,
          -0.20471856841309236,
          -0.22425018024467347,
          -0.15146742423794665,
          -0.1765941196003163,
          -0.183474026735995,
          -0.1855031795548031,
          -0.22714867782324139,
          -0.32412008624719063,
          -0.17563153569425463,
          -0.20181486264699935,
          -0.33595716529466213,
          -0.23763193479141684,
          -0.31422781230273966,
          -0.31161794246616803,
          -0.22422963927778686,
          -0.2806086790114352,
          -0.27847517505771996,
          -0.2842606261795462,
          -0.2842606261795462,
          -0.1675532547230055,
          -0.2224041607394998,
          -0.2289468594322773,
          -0.245879841543289,
          -0.28623569055893405,
          -0.20665790409919044,
          -0.19225917442667204,
          -0.1547008746882223,
          -0.2914574549610289,
          -0.2154122572160097,
          -0.16343010532416716,
          -0.23103624711395432,
          -0.23774617188414626,
          -0.17178437525184292,
          -0.22679173174906592,
          -0.3059393816816665,
          -0.18640691542775034,
          -0.17336529198049622,
          -0.15695624171221634,
          -0.26948884507369786,
          -0.15650874388200867,
          -0.21045526152935576,
          -0.2284818472015179,
          -0.18858905617012528,
          -0.24831564383220583,
          -0.2124528785481313,
          -0.32287650242565274,
          -0.3360953279371867,
          -0.24831564383220583,
          -0.21910903661309655,
          -0.32287650242565274,
          -0.3360953279371867,
          -0.23826699637086374,
          -0.24603927030943434,
          -0.1671209607722846,
          -0.23316872751662782,
          -0.23316872751662782,
          -0.27827140490875535,
          -0.23740610440578647,
          -0.24417752158206568,
          -0.20232349121329907,
          -0.27827140490875535,
          -0.23740610440578647,
          -0.24417752158206568,
          -0.20232349121329907,
          -0.30580519852969934,
          -0.30580519852969934,
          -0.2842904804622119,
          -0.3148766156859274,
          -0.2511911590704459,
          -0.3337542270765014,
          -0.2714035671256293,
          -0.22257869482706477,
          -0.1815588395536843,
          -0.16736649819524546,
          -0.20793933874299225,
          -0.20676053376855918,
          -0.1854322022258021,
          -0.1578673780895434,
          -0.2023367924448073,
          -0.23528453442580363,
          -0.2657465113897726,
          -0.2569748042372736,
          -0.12958491015023843,
          -0.3097866940641215,
          -0.1800662623197285,
          -0.279699101498884,
          -0.21596773304037672,
          -0.27062690587750593,
          -0.24701488800485458,
          -0.18846222486982475,
          -0.17339268703439567,
          -0.2929068162062493,
          -0.30604528716887686,
          -0.18114356717772565
         ]
        },
        {
         "mode": "markers",
         "text": [
          0,
          1,
          2,
          3,
          4,
          5,
          6
         ],
         "type": "scatter",
         "x": [
          -0.007408383781413615,
          -0.004910418809668853
         ],
         "y": [
          3.2438221503193905,
          3.701086566852708
         ]
        },
        {
         "mode": "markers",
         "text": [
          0,
          1,
          2,
          3,
          4,
          5,
          6
         ],
         "type": "scatter",
         "x": [
          -1.9359360535904175,
          -1.9364837813686555,
          -1.9383613993878046,
          -1.9383613993878042,
          -1.9406084621524917,
          -1.946166067459349,
          -1.9432997078383782,
          -1.9419072394329864,
          -1.9403471945084536,
          -1.943705235542603,
          -1.9405670169381009,
          -1.935491563100167,
          -1.940031154017791,
          -1.9379553888240726,
          -1.9353899759047648,
          -1.9469022695223617,
          -1.9360045582785652,
          -1.9388873432267928,
          -1.9364213000574804,
          -1.9365856358660525,
          -1.9428866927543764,
          -1.9407612856836114,
          -1.9389520250458105,
          -1.9407890314424077,
          -1.9389174250771148,
          -1.9416281198218126,
          -1.9509471640455962,
          -1.9495259977633472,
          -1.937706334074977,
          -1.9500744093090114,
          -1.9395216461243865,
          -1.9431967579871812,
          -1.9448254074481806,
          -1.9357357495994338,
          -1.9375291617304968,
          -1.9380037838936055,
          -1.9427125397449005,
          -1.94334422347407,
          -1.9360334866008158,
          -1.9360334866008158,
          -1.9386512410752887,
          -1.9374031651735275,
          -1.9457849183888136,
          -1.9441806567926736,
          -1.940329586976719,
          -1.9463483811026705,
          -1.9406298188102653,
          -1.9501600469612834,
          -1.9366053850675817,
          -1.9403563093391312,
          -1.941433546432065,
          -1.9395865514569277,
          -1.938580409763228,
          -1.9403690597577243,
          -1.9399163825217693,
          -1.938539662391065,
          -1.9400006584131926,
          -1.943590708985088,
          -1.935389000480087,
          -1.9353480451382914,
          -1.9436956056604473,
          -1.9384029582252726,
          -1.935740522944525,
          -1.9354457560965246,
          -1.936690627594752,
          -1.9371193331945256,
          -1.940145878330327,
          -1.9509998990830342,
          -1.9431191247857604,
          -1.945076295637446,
          -1.940344322521855,
          -1.9360610736197095,
          -1.9369607841226812,
          -1.9417637960289946,
          -1.9356353056244475,
          -1.9376788607227338,
          -1.9453680633803556,
          -1.9502741816410107,
          -1.9377653732392164,
          -1.9430491769300995,
          -1.9363685205789032,
          -1.944634429468026,
          -1.936092469169565,
          -1.9375075848174057,
          -1.9356005369423535,
          -1.9372244548462536,
          -1.9400346033276146,
          -1.9357442305287198,
          -1.939383217180979,
          -1.9382538338195328,
          -1.942047291649812,
          -1.9363377454383361,
          -1.9437142939255143,
          -1.939533616961024,
          -1.9395955943162677,
          -1.93818714066168,
          -1.939003473958647,
          -1.9402400273217737,
          -1.9397263674678102,
          -1.942708731536491,
          -1.9394695240834756,
          -1.9354593813836338,
          -1.9391278426492584,
          -1.9436175167217,
          -1.9406282078071755,
          -1.9466509151272884,
          -1.9422610594465897,
          -1.9387151847881428,
          -1.9377676573150027,
          -1.9426597297113424,
          -1.93770004761108,
          -1.939353751172398,
          -1.9366218951871552,
          -1.9472352775862465,
          -1.9365592089101251,
          -1.935495133532567,
          -1.9442600024835583,
          -1.9375230008258801,
          -1.9388847594399363,
          -1.9356538465834798,
          -1.9399015657967686,
          -1.9399015657967686,
          -1.9401272376085001,
          -1.9401272376085001,
          -1.9477131722474395,
          -1.9436316643268838,
          -1.9477157962378961,
          -1.944337708192622,
          -1.9395665446951023,
          -1.9437955581944242,
          -1.9495771673525022,
          -1.9364008551167189,
          -1.9384257216192817,
          -1.9420829936314707,
          -1.937035032128327,
          -1.9365438578250074,
          -1.9423294904459443,
          -1.948409974508279,
          -1.9395939562494275,
          -1.937007950060092,
          -1.9421806493039648,
          -1.9375576438828586,
          -1.9379128911730268,
          -1.9390854552480197,
          -1.9403061510657453,
          -1.9368688683064776,
          -1.94328397266857,
          -1.9417856524741959,
          -1.941545497827699,
          -1.9436092712917235,
          -1.9387507772450905,
          -1.9413809782955629,
          -1.9370109457419338,
          -1.9493602181898964,
          -1.9366475479815315,
          -1.9352976718221644,
          -1.9485442618102067,
          -1.9385767151470314,
          -1.94096270718723,
          -1.9416710094916445,
          -1.9485132316223406,
          -1.9495868977659156,
          -1.9371222053944366,
          -1.9367479759480228,
          -1.939209440049575,
          -1.9359169017206064,
          -1.9447712335753222,
          -1.937701114362309,
          -1.9435723816603543,
          -1.9390059995594262,
          -1.9388913279187672,
          -1.9366449851907186,
          -1.9366111819516423,
          -1.9391062417597422,
          -1.9451103493340267,
          -1.9368127055766373,
          -1.9439659054497314,
          -1.942957284454025,
          -1.944537412909814,
          -1.9447404608773113,
          -1.9400346033276146,
          -1.9357442305287198,
          -1.939383217180979,
          -1.9416118639144944,
          -1.941426942387203,
          -1.9421202900314667,
          -1.936271233072084
         ],
         "y": [
          -0.18498311377815427,
          -0.18597894012413851,
          -0.13009483179532103,
          -0.13009483179532116,
          -0.04112582209156599,
          0.14051804135640364,
          0.03393643416725882,
          0.009512792044887875,
          -0.04614943647535797,
          0.06913838142406242,
          -0.05729065822400634,
          -0.20369483839076846,
          -0.09282132260336533,
          -0.12371946507683065,
          -0.19785938758247415,
          0.15067988584193612,
          -0.19308167570749032,
          -0.09258698084623615,
          -0.17181299259256202,
          -0.16693811225672756,
          0.022323326441954627,
          -0.061227491435255986,
          -0.1040378684984834,
          -0.028059945626042377,
          -0.09966290504345715,
          0.024860733372451198,
          0.27905115475698716,
          0.20955935825452518,
          -0.14543063047338545,
          0.20800492700910939,
          -0.09029494068161341,
          0.0098848275187223,
          0.08143772874266984,
          -0.1778222141854302,
          -0.1523427714990383,
          -0.1349428503110697,
          0.01844393355486244,
          0.030288422821451434,
          -0.18976970920960595,
          -0.18976970920960595,
          -0.10858006141009774,
          -0.1618658049889177,
          0.14723249331346258,
          0.022742489335629872,
          -0.06116400256163824,
          0.28256547653588815,
          -0.04733224281769672,
          0.26602754723345257,
          -0.16337960158838358,
          -0.05621823907635286,
          -0.024965686450864676,
          -0.08043750079106214,
          -0.12616726040607407,
          -0.07246545840826799,
          -0.05033368670643853,
          -0.10079667178007828,
          -0.06925501911692557,
          0.08340137580224893,
          -0.21854154092833203,
          -0.21978512474986991,
          0.032203470551694896,
          -0.12946294746025852,
          -0.20358140864884552,
          -0.21270744215287044,
          -0.17954967064504132,
          -0.1633469761736892,
          -0.060660363858880934,
          0.26078205441656355,
          -0.0014479109208720227,
          0.046748219783157574,
          -0.08111022371855794,
          -0.19039655201839292,
          -0.16976058742454211,
          -0.054402438965081776,
          -0.20515939596423965,
          -0.13418063772493266,
          0.16917906076773087,
          0.24350504723329203,
          -0.13676851680071173,
          0.033371352058657586,
          -0.17398915213104243,
          0.022047767435497315,
          -0.19161217687974288,
          -0.1685231500525863,
          -0.20281050202449266,
          -0.1656595996846905,
          -0.07003597214288151,
          -0.20948600607455797,
          -0.09575320770740293,
          -0.125742079419782,
          0.0283745658271191,
          -0.17735240892082596,
          0.0656914923189083,
          -0.07059114547844703,
          -0.06735155226102599,
          -0.12748066690917592,
          -0.08732981822905289,
          -0.042401453019432093,
          -0.082443696334049,
          0.0109727779630275,
          -0.10272108328233238,
          -0.19972739845463888,
          -0.10229106936068938,
          0.03251136067311453,
          -0.02620544332999194,
          0.126776158629119,
          0.020978108203281224,
          -0.10339656993987967,
          -0.13990464146298753,
          0.011340853398289507,
          -0.16566334660368773,
          -0.056026025521784206,
          -0.1818075232787009,
          0.2184472111952841,
          -0.17914472300618106,
          -0.2106353693800827,
          0.07675785008553172,
          -0.1558767789313982,
          -0.09234839724268945,
          -0.19720811527840365,
          -0.07735153480874979,
          -0.07735153480874979,
          -0.07035087868447505,
          -0.07035087868447505,
          0.30202256078573747,
          0.08464495962378674,
          0.22508788041554256,
          0.06508324807092203,
          -0.06394412386629897,
          0.05986935841476642,
          0.27068181206536823,
          -0.15228930461825618,
          -0.11505450090892914,
          -0.0038140786816688874,
          -0.17090335815421645,
          -0.17980825110545218,
          -0.0023126385352924936,
          0.21428237670707953,
          -0.07485901299174182,
          -0.15343894412523207,
          0.00933506688958887,
          -0.13492612069350637,
          -0.12719096735598037,
          -0.09651472952645503,
          -0.03314875292500443,
          -0.1680615568507345,
          -0.014851285443088287,
          0.005666777002731377,
          0.010044841416217769,
          0.10451948818429325,
          -0.09906056158495462,
          -0.044803550721892,
          -0.14187410262128775,
          0.2467779383269229,
          -0.19009214453176404,
          -0.2055382580434719,
          0.21134490615190285,
          -0.10389835344606206,
          0.01797052894610106,
          0.04422332769226869,
          0.11771970823689812,
          0.24879740999950528,
          -0.16522393042786868,
          -0.17127014260221124,
          -0.11255041631856795,
          -0.20491453997976536,
          0.09631639090206028,
          -0.14931646927802242,
          0.07334316325998803,
          -0.10808949001597146,
          -0.11413196401025383,
          -0.17822980855386192,
          -0.17721994566143262,
          -0.11501701484176237,
          0.06817333063518928,
          -0.17317201040639404,
          0.03987715140373281,
          0.02774056072259446,
          0.050233414636023876,
          0.11295763673025062,
          -0.07003597214288151,
          -0.20948600607455797,
          -0.09575320770740293,
          0.0018252161032767205,
          -0.008056766521646837,
          0.00816057831214015,
          -0.18088098920179896
         ]
        },
        {
         "mode": "markers",
         "text": [
          0,
          1,
          2,
          3,
          4,
          5,
          6
         ],
         "type": "scatter",
         "x": [
          -0.9537811159658776,
          -0.9712259861668683,
          -0.9534473493691126,
          -0.9674538922371809,
          -0.9631373845982312,
          -0.9557971243688794,
          -0.9661051122241813,
          -0.9696409516863933,
          -0.9576737063072956,
          -0.9619906457919041,
          -0.9636784516504198,
          -0.9648752892581953,
          -0.9588192966546082,
          -0.9652564728749341,
          -0.9566831970801167,
          -0.9530843139472298,
          -0.9512521640961062,
          -0.9512970257661787,
          -0.9627486757629269,
          -0.9794275204582908,
          -0.9582181028536525,
          -0.9623043191063747,
          -0.9510806327070487,
          -0.9675291224680757,
          -0.9522849780486385,
          -0.9528911227988467,
          -0.9504869542729854,
          -0.9504869542729854,
          -0.9520460950255715,
          -0.9520460950255715,
          -0.9536824313947786,
          -0.9748099436056142,
          -0.9515534858418069,
          -0.9582755807924825,
          -0.9522207465511032,
          -0.9607673099567333,
          -0.9592159996525723,
          -0.9677741794243512,
          -0.984968427738146,
          -0.9568858512920687,
          -0.9561834346864819,
          -0.9598952387825944,
          -0.950707276681473
         ],
         "y": [
          0.48637034016340436,
          1.3544046164500259,
          0.4104426268292806,
          0.8406105035825012,
          1.0656583587913062,
          0.5601300646466623,
          1.0575707570572823,
          1.0356082043228947,
          0.6414540624553999,
          0.7793527216332334,
          0.7681773688067598,
          0.9113713406499293,
          0.5936451170267324,
          0.8481571508867716,
          0.6606690153083544,
          0.4576160477692035,
          0.3682715109997809,
          0.3475590829323768,
          0.6659268738144462,
          1.234853328764045,
          0.6560844594925481,
          1.0190100632609653,
          0.38870193724535024,
          1.1099994227496002,
          0.5106565293617095,
          0.4134416440834401,
          0.3759895847896578,
          0.3759895847896578,
          0.4027007980591952,
          0.4027007980591952,
          0.5829380216830532,
          1.1748421615010314,
          0.33876684831395276,
          0.5842801129998378,
          0.3699823401519669,
          0.7099821740121718,
          0.6120358316593653,
          1.0739279211173658,
          1.7062933452061604,
          0.6260502536151105,
          0.6271572164042601,
          0.6974040397511331,
          0.4580033727303645
         ]
        },
        {
         "mode": "markers",
         "text": [
          0,
          1,
          2,
          3,
          4,
          5,
          6
         ],
         "type": "scatter",
         "x": [
          2.030245861723906,
          2.032912227437116,
          2.036684293930904,
          2.0371117359735424,
          2.03503777997523,
          2.0383437380219354,
          2.0355904790835018,
          2.04086820420155,
          2.042560586282327,
          2.037949264382113,
          2.036297427749034,
          2.0422699442816574
         ],
         "y": [
          1.2288817825001852,
          1.2030193783896304,
          1.4594356343021158,
          1.1325810349546694,
          1.161007108086477,
          0.8768694989460372,
          1.2742659976556427,
          0.9238874335009108,
          0.7193980868162471,
          1.1421628474494687,
          0.954586924337586,
          0.8720075443035127
         ]
        },
        {
         "mode": "markers",
         "text": [
          0,
          1,
          2,
          3,
          4,
          5,
          6
         ],
         "type": "scatter",
         "x": [
          3.0131322592246383,
          2.9870904952993236
         ],
         "y": [
          2.7573957215229967,
          3.683139310578668
         ]
        },
        {
         "mode": "markers",
         "text": [
          0,
          1,
          2,
          3,
          4,
          5,
          6
         ],
         "type": "scatter",
         "x": [
          4.091533017475248,
          4.052374677760081,
          4.053278714399759,
          4.046090206669685,
          4.057456330994707,
          4.051357082614984,
          4.046815035220359,
          4.061678267997485,
          4.061678267997485,
          4.056009231090174,
          4.0540684914692156,
          4.047299990169599,
          4.04900951223513,
          4.051128954035094,
          4.0502152927252135,
          4.052670759557012,
          4.0624523708915525,
          4.045401745731483,
          4.05616471952591,
          4.055541996453824,
          4.043669501043858,
          4.058337478772444,
          4.054618607082616,
          4.056147462973752,
          4.064460138221992,
          4.057301531225667,
          4.0585686823193265,
          4.056761547804985,
          4.058071927222686,
          4.064420556401687,
          4.050475943127434,
          4.0507563445121875,
          4.054553686016972,
          4.06201445879275,
          4.054363960984803
         ],
         "y": [
          -0.29350591095399403,
          0.2192869535427579,
          0.1791147479035791,
          0.505264857534795,
          0.028764621464976735,
          0.28153513542529507,
          0.47878574971959637,
          -0.09845829258567432,
          -0.09845829258567432,
          0.085208434097845,
          0.1452824837016101,
          0.4258515790420471,
          0.42284066512332247,
          0.2805133115355183,
          0.3415180366453737,
          0.205878295219468,
          -0.08734170933238003,
          0.5398216368204329,
          0.07411048374699386,
          0.09005681414587388,
          0.6306978999466362,
          1.884793159148748e-05,
          0.151368473849963,
          0.09995011290174187,
          -0.14953848940044018,
          0.0342804955910652,
          0.01764760397965408,
          0.0671958738950873,
          0.029431630330336953,
          -0.1372552588743131,
          0.2853685726313653,
          0.339592958849307,
          0.13495217940353854,
          -0.08834298691374035,
          0.1500813772997692
         ]
        }
       ],
       "layout": {
        "template": {
         "data": {
          "bar": [
           {
            "error_x": {
             "color": "#2a3f5f"
            },
            "error_y": {
             "color": "#2a3f5f"
            },
            "marker": {
             "line": {
              "color": "#E5ECF6",
              "width": 0.5
             }
            },
            "type": "bar"
           }
          ],
          "barpolar": [
           {
            "marker": {
             "line": {
              "color": "#E5ECF6",
              "width": 0.5
             }
            },
            "type": "barpolar"
           }
          ],
          "carpet": [
           {
            "aaxis": {
             "endlinecolor": "#2a3f5f",
             "gridcolor": "white",
             "linecolor": "white",
             "minorgridcolor": "white",
             "startlinecolor": "#2a3f5f"
            },
            "baxis": {
             "endlinecolor": "#2a3f5f",
             "gridcolor": "white",
             "linecolor": "white",
             "minorgridcolor": "white",
             "startlinecolor": "#2a3f5f"
            },
            "type": "carpet"
           }
          ],
          "choropleth": [
           {
            "colorbar": {
             "outlinewidth": 0,
             "ticks": ""
            },
            "type": "choropleth"
           }
          ],
          "contour": [
           {
            "colorbar": {
             "outlinewidth": 0,
             "ticks": ""
            },
            "colorscale": [
             [
              0,
              "#0d0887"
             ],
             [
              0.1111111111111111,
              "#46039f"
             ],
             [
              0.2222222222222222,
              "#7201a8"
             ],
             [
              0.3333333333333333,
              "#9c179e"
             ],
             [
              0.4444444444444444,
              "#bd3786"
             ],
             [
              0.5555555555555556,
              "#d8576b"
             ],
             [
              0.6666666666666666,
              "#ed7953"
             ],
             [
              0.7777777777777778,
              "#fb9f3a"
             ],
             [
              0.8888888888888888,
              "#fdca26"
             ],
             [
              1,
              "#f0f921"
             ]
            ],
            "type": "contour"
           }
          ],
          "contourcarpet": [
           {
            "colorbar": {
             "outlinewidth": 0,
             "ticks": ""
            },
            "type": "contourcarpet"
           }
          ],
          "heatmap": [
           {
            "colorbar": {
             "outlinewidth": 0,
             "ticks": ""
            },
            "colorscale": [
             [
              0,
              "#0d0887"
             ],
             [
              0.1111111111111111,
              "#46039f"
             ],
             [
              0.2222222222222222,
              "#7201a8"
             ],
             [
              0.3333333333333333,
              "#9c179e"
             ],
             [
              0.4444444444444444,
              "#bd3786"
             ],
             [
              0.5555555555555556,
              "#d8576b"
             ],
             [
              0.6666666666666666,
              "#ed7953"
             ],
             [
              0.7777777777777778,
              "#fb9f3a"
             ],
             [
              0.8888888888888888,
              "#fdca26"
             ],
             [
              1,
              "#f0f921"
             ]
            ],
            "type": "heatmap"
           }
          ],
          "heatmapgl": [
           {
            "colorbar": {
             "outlinewidth": 0,
             "ticks": ""
            },
            "colorscale": [
             [
              0,
              "#0d0887"
             ],
             [
              0.1111111111111111,
              "#46039f"
             ],
             [
              0.2222222222222222,
              "#7201a8"
             ],
             [
              0.3333333333333333,
              "#9c179e"
             ],
             [
              0.4444444444444444,
              "#bd3786"
             ],
             [
              0.5555555555555556,
              "#d8576b"
             ],
             [
              0.6666666666666666,
              "#ed7953"
             ],
             [
              0.7777777777777778,
              "#fb9f3a"
             ],
             [
              0.8888888888888888,
              "#fdca26"
             ],
             [
              1,
              "#f0f921"
             ]
            ],
            "type": "heatmapgl"
           }
          ],
          "histogram": [
           {
            "marker": {
             "colorbar": {
              "outlinewidth": 0,
              "ticks": ""
             }
            },
            "type": "histogram"
           }
          ],
          "histogram2d": [
           {
            "colorbar": {
             "outlinewidth": 0,
             "ticks": ""
            },
            "colorscale": [
             [
              0,
              "#0d0887"
             ],
             [
              0.1111111111111111,
              "#46039f"
             ],
             [
              0.2222222222222222,
              "#7201a8"
             ],
             [
              0.3333333333333333,
              "#9c179e"
             ],
             [
              0.4444444444444444,
              "#bd3786"
             ],
             [
              0.5555555555555556,
              "#d8576b"
             ],
             [
              0.6666666666666666,
              "#ed7953"
             ],
             [
              0.7777777777777778,
              "#fb9f3a"
             ],
             [
              0.8888888888888888,
              "#fdca26"
             ],
             [
              1,
              "#f0f921"
             ]
            ],
            "type": "histogram2d"
           }
          ],
          "histogram2dcontour": [
           {
            "colorbar": {
             "outlinewidth": 0,
             "ticks": ""
            },
            "colorscale": [
             [
              0,
              "#0d0887"
             ],
             [
              0.1111111111111111,
              "#46039f"
             ],
             [
              0.2222222222222222,
              "#7201a8"
             ],
             [
              0.3333333333333333,
              "#9c179e"
             ],
             [
              0.4444444444444444,
              "#bd3786"
             ],
             [
              0.5555555555555556,
              "#d8576b"
             ],
             [
              0.6666666666666666,
              "#ed7953"
             ],
             [
              0.7777777777777778,
              "#fb9f3a"
             ],
             [
              0.8888888888888888,
              "#fdca26"
             ],
             [
              1,
              "#f0f921"
             ]
            ],
            "type": "histogram2dcontour"
           }
          ],
          "mesh3d": [
           {
            "colorbar": {
             "outlinewidth": 0,
             "ticks": ""
            },
            "type": "mesh3d"
           }
          ],
          "parcoords": [
           {
            "line": {
             "colorbar": {
              "outlinewidth": 0,
              "ticks": ""
             }
            },
            "type": "parcoords"
           }
          ],
          "pie": [
           {
            "automargin": true,
            "type": "pie"
           }
          ],
          "scatter": [
           {
            "marker": {
             "colorbar": {
              "outlinewidth": 0,
              "ticks": ""
             }
            },
            "type": "scatter"
           }
          ],
          "scatter3d": [
           {
            "line": {
             "colorbar": {
              "outlinewidth": 0,
              "ticks": ""
             }
            },
            "marker": {
             "colorbar": {
              "outlinewidth": 0,
              "ticks": ""
             }
            },
            "type": "scatter3d"
           }
          ],
          "scattercarpet": [
           {
            "marker": {
             "colorbar": {
              "outlinewidth": 0,
              "ticks": ""
             }
            },
            "type": "scattercarpet"
           }
          ],
          "scattergeo": [
           {
            "marker": {
             "colorbar": {
              "outlinewidth": 0,
              "ticks": ""
             }
            },
            "type": "scattergeo"
           }
          ],
          "scattergl": [
           {
            "marker": {
             "colorbar": {
              "outlinewidth": 0,
              "ticks": ""
             }
            },
            "type": "scattergl"
           }
          ],
          "scattermapbox": [
           {
            "marker": {
             "colorbar": {
              "outlinewidth": 0,
              "ticks": ""
             }
            },
            "type": "scattermapbox"
           }
          ],
          "scatterpolar": [
           {
            "marker": {
             "colorbar": {
              "outlinewidth": 0,
              "ticks": ""
             }
            },
            "type": "scatterpolar"
           }
          ],
          "scatterpolargl": [
           {
            "marker": {
             "colorbar": {
              "outlinewidth": 0,
              "ticks": ""
             }
            },
            "type": "scatterpolargl"
           }
          ],
          "scatterternary": [
           {
            "marker": {
             "colorbar": {
              "outlinewidth": 0,
              "ticks": ""
             }
            },
            "type": "scatterternary"
           }
          ],
          "surface": [
           {
            "colorbar": {
             "outlinewidth": 0,
             "ticks": ""
            },
            "colorscale": [
             [
              0,
              "#0d0887"
             ],
             [
              0.1111111111111111,
              "#46039f"
             ],
             [
              0.2222222222222222,
              "#7201a8"
             ],
             [
              0.3333333333333333,
              "#9c179e"
             ],
             [
              0.4444444444444444,
              "#bd3786"
             ],
             [
              0.5555555555555556,
              "#d8576b"
             ],
             [
              0.6666666666666666,
              "#ed7953"
             ],
             [
              0.7777777777777778,
              "#fb9f3a"
             ],
             [
              0.8888888888888888,
              "#fdca26"
             ],
             [
              1,
              "#f0f921"
             ]
            ],
            "type": "surface"
           }
          ],
          "table": [
           {
            "cells": {
             "fill": {
              "color": "#EBF0F8"
             },
             "line": {
              "color": "white"
             }
            },
            "header": {
             "fill": {
              "color": "#C8D4E3"
             },
             "line": {
              "color": "white"
             }
            },
            "type": "table"
           }
          ]
         },
         "layout": {
          "annotationdefaults": {
           "arrowcolor": "#2a3f5f",
           "arrowhead": 0,
           "arrowwidth": 1
          },
          "autotypenumbers": "strict",
          "coloraxis": {
           "colorbar": {
            "outlinewidth": 0,
            "ticks": ""
           }
          },
          "colorscale": {
           "diverging": [
            [
             0,
             "#8e0152"
            ],
            [
             0.1,
             "#c51b7d"
            ],
            [
             0.2,
             "#de77ae"
            ],
            [
             0.3,
             "#f1b6da"
            ],
            [
             0.4,
             "#fde0ef"
            ],
            [
             0.5,
             "#f7f7f7"
            ],
            [
             0.6,
             "#e6f5d0"
            ],
            [
             0.7,
             "#b8e186"
            ],
            [
             0.8,
             "#7fbc41"
            ],
            [
             0.9,
             "#4d9221"
            ],
            [
             1,
             "#276419"
            ]
           ],
           "sequential": [
            [
             0,
             "#0d0887"
            ],
            [
             0.1111111111111111,
             "#46039f"
            ],
            [
             0.2222222222222222,
             "#7201a8"
            ],
            [
             0.3333333333333333,
             "#9c179e"
            ],
            [
             0.4444444444444444,
             "#bd3786"
            ],
            [
             0.5555555555555556,
             "#d8576b"
            ],
            [
             0.6666666666666666,
             "#ed7953"
            ],
            [
             0.7777777777777778,
             "#fb9f3a"
            ],
            [
             0.8888888888888888,
             "#fdca26"
            ],
            [
             1,
             "#f0f921"
            ]
           ],
           "sequentialminus": [
            [
             0,
             "#0d0887"
            ],
            [
             0.1111111111111111,
             "#46039f"
            ],
            [
             0.2222222222222222,
             "#7201a8"
            ],
            [
             0.3333333333333333,
             "#9c179e"
            ],
            [
             0.4444444444444444,
             "#bd3786"
            ],
            [
             0.5555555555555556,
             "#d8576b"
            ],
            [
             0.6666666666666666,
             "#ed7953"
            ],
            [
             0.7777777777777778,
             "#fb9f3a"
            ],
            [
             0.8888888888888888,
             "#fdca26"
            ],
            [
             1,
             "#f0f921"
            ]
           ]
          },
          "colorway": [
           "#636efa",
           "#EF553B",
           "#00cc96",
           "#ab63fa",
           "#FFA15A",
           "#19d3f3",
           "#FF6692",
           "#B6E880",
           "#FF97FF",
           "#FECB52"
          ],
          "font": {
           "color": "#2a3f5f"
          },
          "geo": {
           "bgcolor": "white",
           "lakecolor": "white",
           "landcolor": "#E5ECF6",
           "showlakes": true,
           "showland": true,
           "subunitcolor": "white"
          },
          "hoverlabel": {
           "align": "left"
          },
          "hovermode": "closest",
          "mapbox": {
           "style": "light"
          },
          "paper_bgcolor": "white",
          "plot_bgcolor": "#E5ECF6",
          "polar": {
           "angularaxis": {
            "gridcolor": "white",
            "linecolor": "white",
            "ticks": ""
           },
           "bgcolor": "#E5ECF6",
           "radialaxis": {
            "gridcolor": "white",
            "linecolor": "white",
            "ticks": ""
           }
          },
          "scene": {
           "xaxis": {
            "backgroundcolor": "#E5ECF6",
            "gridcolor": "white",
            "gridwidth": 2,
            "linecolor": "white",
            "showbackground": true,
            "ticks": "",
            "zerolinecolor": "white"
           },
           "yaxis": {
            "backgroundcolor": "#E5ECF6",
            "gridcolor": "white",
            "gridwidth": 2,
            "linecolor": "white",
            "showbackground": true,
            "ticks": "",
            "zerolinecolor": "white"
           },
           "zaxis": {
            "backgroundcolor": "#E5ECF6",
            "gridcolor": "white",
            "gridwidth": 2,
            "linecolor": "white",
            "showbackground": true,
            "ticks": "",
            "zerolinecolor": "white"
           }
          },
          "shapedefaults": {
           "line": {
            "color": "#2a3f5f"
           }
          },
          "ternary": {
           "aaxis": {
            "gridcolor": "white",
            "linecolor": "white",
            "ticks": ""
           },
           "baxis": {
            "gridcolor": "white",
            "linecolor": "white",
            "ticks": ""
           },
           "bgcolor": "#E5ECF6",
           "caxis": {
            "gridcolor": "white",
            "linecolor": "white",
            "ticks": ""
           }
          },
          "title": {
           "x": 0.05
          },
          "xaxis": {
           "automargin": true,
           "gridcolor": "white",
           "linecolor": "white",
           "ticks": "",
           "title": {
            "standoff": 15
           },
           "zerolinecolor": "white",
           "zerolinewidth": 2
          },
          "yaxis": {
           "automargin": true,
           "gridcolor": "white",
           "linecolor": "white",
           "ticks": "",
           "title": {
            "standoff": 15
           },
           "zerolinecolor": "white",
           "zerolinewidth": 2
          }
         }
        }
       }
      },
      "text/html": [
       "<div>                            <div id=\"fb77f4c1-897b-47f4-9d42-540c0c16a03b\" class=\"plotly-graph-div\" style=\"height:525px; width:100%;\"></div>            <script type=\"text/javascript\">                require([\"plotly\"], function(Plotly) {                    window.PLOTLYENV=window.PLOTLYENV || {};                                    if (document.getElementById(\"fb77f4c1-897b-47f4-9d42-540c0c16a03b\")) {                    Plotly.newPlot(                        \"fb77f4c1-897b-47f4-9d42-540c0c16a03b\",                        [{\"mode\": \"markers\", \"text\": [0.0, 1.0, 2.0, 3.0, 4.0, 5.0, 6.0], \"type\": \"scatter\", \"x\": [1.0933788483876725, 1.0736100371091948, 1.0657186559924647, 1.0644432099290924, 1.0683178142872654, 1.0683997249708543, 1.064622685109485, 1.0684650680922696, 1.0670252206313744, 1.0636573188375475, 1.0631610355550494, 1.0707005960884148, 1.0724666672679815, 1.064963855898944, 1.0717254234653175, 1.0646137630652892, 1.0689208860726673, 1.0647325869610358, 1.069059774816633, 1.063317341738909, 1.0657066247894544, 1.0648163473183476, 1.064002643415855, 1.0629670974074281, 1.073732472520921, 1.072030531163265, 1.065333767257839, 1.0643708711905002, 1.0648724124168127, 1.0722262883299967, 1.0661250018865136, 1.062427806067988, 1.0679724576302927, 1.066078212221331, 1.0696356692352116, 1.072030531163265, 1.0706880533136411, 1.069740661847908, 1.062549569571866, 1.0630083402306045, 1.0623622483525375, 1.0674729786945227, 1.0705063363828302, 1.0716868628093026, 1.0624525271894882, 1.06511747984643, 1.0681257632227958, 1.0745314244664386, 1.0745314244664386, 1.0745314244664386, 1.0719497085783736, 1.0697371921241563, 1.0697652248976726, 1.072438634494465, 1.0742214552314222, 1.065444276670575, 1.062490085719062, 1.0695261749463385, 1.0643970858083942, 1.0643970858083942, 1.0693016243134512, 1.0627927019174712, 1.0779695189722622, 1.0715759740840876, 1.0681257632227958, 1.0697371921241563, 1.0745314244664386, 1.0745314244664386, 1.0781982639617127, 1.0747295661369354, 1.072438634494465, 1.0720221889418897, 1.0717960902634471, 1.0645557938728656, 1.0628902835376, 1.0742214552314222, 1.0662035535277707, 1.0706725633148981, 1.0681504808298692, 1.0646823274854704, 1.0781982639617127, 1.0686286927055797, 1.0705687322373596, 1.070700823903983, 1.072562542971785, 1.0646226851094838, 1.0684650680922687, 1.067025220631375, 1.0636573188375475, 1.0631610355550494, 1.0707005960884148, 1.0724666672679815, 1.0778302724683417, 1.0778302724683417, 1.0778302724683417, 1.0778302724683417, 1.074215250463024, 1.0658159323233696, 1.0629015418661851, 1.0629015418661851, 1.0744569594766777, 1.0694775526274156, 1.0658368822244098, 1.0658368822244098, 1.0658368822244098, 1.0658368822244098, 1.0658368822244098, 1.0658368822244098, 1.0658368822244098, 1.0639543653275587, 1.0632654868975588, 1.0650228035332974, 1.0648972559152383, 1.063926190031743, 1.0635821742676774, 1.0647308997825429, 1.0662939569419236, 1.0678695757786387, 1.0677634686987414, 1.064385758241846, 1.0651310329610795, 1.063394755630983, 1.0673867850097407, 1.0653296946811783, 1.065484935217378, 1.062654677550888, 1.0635031893202225, 1.0640939171783732, 1.0641791066314163, 1.0665730576583832, 1.074757598910452, 1.0639229841263318, 1.0647201227688623, 1.0778383107254985, 1.0662474701558742, 1.0742724756887982, 1.074312105725426, 1.066228122646828, 1.0698358044092768, 1.069740641920406, 1.070487647867152, 1.070487647867152, 1.0628883297342804, 1.0662671638354728, 1.0656841612489694, 1.0671799589092092, 1.0705810811094356, 1.0645845638711826, 1.063948073224928, 1.0629082312754405, 1.0708461276382808, 1.0652795879904253, 1.0629430611407427, 1.0660938914827183, 1.0663197678315304, 1.063410692417103, 1.0661482085112797, 1.0741157854818708, 1.063756867907545, 1.0631554017699496, 1.0626333635627336, 1.070039872158583, 1.0631462870148123, 1.0665322499221064, 1.0656501081285168, 1.0652728023550226, 1.0677912247961994, 1.0653724672309557, 1.0747166435686561, 1.0777544950723852, 1.0677912247961994, 1.0659171567844594, 1.0747166435686561, 1.0777544950723852, 1.0672020219517417, 1.0679066171658065, 1.0629812133024812, 1.0664705409619766, 1.0664705409619766, 1.0713169979769779, 1.0668025843737048, 1.0673027830024824, 1.065249635035559, 1.0713169979769779, 1.0668025843737048, 1.0673027830024824, 1.065249635035559, 1.0660535362006898, 1.0660535362006898, 1.0653217388677003, 1.0745646560846527, 1.0678753316951997, 1.0778302724683417, 1.0692200606262217, 1.0658488467249314, 1.0636807978836698, 1.0633781459246354, 1.065144105116876, 1.065122194937949, 1.0638295658089258, 1.0631427168181837, 1.0643194744391251, 1.0665399169774499, 1.0689190072923305, 1.0696556758721816, 1.0615681207375307, 1.0740645018761261, 1.0640357187720653, 1.0697147764231407, 1.0646226851094838, 1.0684650680922687, 1.067025220631375, 1.0636573188375475, 1.0631610355550494, 1.0707005960884148, 1.0724666672679815, 1.0635455634324484], \"y\": [-0.34931645413470486, -0.30216996318223616, -0.2156992316894667, -0.2005759697082001, -0.2572080933693249, -0.25969526101240054, -0.2159677330403767, -0.27062690587750593, -0.24701488800485458, -0.18846222486982475, -0.17339268703439567, -0.2929068162062493, -0.30604528716887686, -0.21563840881966054, -0.2957055827840368, -0.19128854071867638, -0.26167755186122715, -0.21410217231573328, -0.2649266472597576, -0.17381020883153125, -0.22705387769274693, -0.1963004837963601, -0.19409770288010272, -0.1573848122977394, -0.30067397884651387, -0.29521299912934296, -0.21685533571156926, -0.1977660517683321, -0.214477441078893, -0.2990347068187829, -0.23123905988682367, -0.15524319425711924, -0.2625391832604954, -0.23822707950509045, -0.2746091161240261, -0.29521299912934296, -0.28761517608448206, -0.27780549533388615, -0.15447569981578463, -0.17025884691062285, -0.15298667279158343, -0.26384210561483823, -0.28527442638280154, -0.2955143958161948, -0.14201371839708157, -0.21226768679938585, -0.24836823132286096, -0.3187596374664341, -0.3187596374664341, -0.3187596374664341, -0.27291408920026256, -0.2611658815824371, -0.2626865818873204, -0.3045245868639936, -0.3134476615250057, -0.2166931970370089, -0.1604378647426993, -0.27520992260103383, -0.19555804195784604, -0.19555804195784604, -0.27713127666083504, -0.15083166650611812, -0.3392626317167181, -0.28030918132556126, -0.24836823132286096, -0.2611658815824371, -0.3187596374664341, -0.3187596374664341, -0.34314585476179016, -0.3225993859423073, -0.3045245868639936, -0.2956382841719002, -0.2791196183283193, -0.18437756475896555, -0.16303950687916463, -0.3134476615250057, -0.24333663208064576, -0.29138611590136604, -0.2675096127224435, -0.21614434989913534, -0.34314585476179016, -0.25356240213962833, -0.28531098606551947, -0.2867821491059538, -0.30780819223760847, -0.21596773304037672, -0.27062690587750593, -0.24701488800485458, -0.18846222486982475, -0.17339268703439567, -0.2929068162062493, -0.30604528716887686, -0.3337542270765014, -0.3337542270765014, -0.3337542270765014, -0.3337542270765014, -0.3083434510402074, -0.21237161675924232, -0.15525452579414314, -0.15525452579414314, -0.3100347071045528, -0.2708555098634078, -0.22318917318454412, -0.22318917318454412, -0.22318917318454412, -0.22318917318454412, -0.22318917318454412, -0.22318917318454412, -0.22318917318454412, -0.19217505625997686, -0.17450642116773485, -0.19456407293658262, -0.20625741733088165, -0.18575792283580655, -0.18248186903800928, -0.20571928005209467, -0.22699636407967458, -0.2535468802835963, -0.24955780895004356, -0.19469455856445436, -0.20465948432510936, -0.16517230270187075, -0.2468837690531221, -0.20471856841309236, -0.22425018024467347, -0.15146742423794665, -0.1765941196003163, -0.183474026735995, -0.1855031795548031, -0.22714867782324139, -0.32412008624719063, -0.17563153569425463, -0.20181486264699935, -0.33595716529466213, -0.23763193479141684, -0.31422781230273966, -0.31161794246616803, -0.22422963927778686, -0.2806086790114352, -0.27847517505771996, -0.2842606261795462, -0.2842606261795462, -0.1675532547230055, -0.2224041607394998, -0.2289468594322773, -0.245879841543289, -0.28623569055893405, -0.20665790409919044, -0.19225917442667204, -0.1547008746882223, -0.2914574549610289, -0.2154122572160097, -0.16343010532416716, -0.23103624711395432, -0.23774617188414626, -0.17178437525184292, -0.22679173174906592, -0.3059393816816665, -0.18640691542775034, -0.17336529198049622, -0.15695624171221634, -0.26948884507369786, -0.15650874388200867, -0.21045526152935576, -0.2284818472015179, -0.18858905617012528, -0.24831564383220583, -0.2124528785481313, -0.32287650242565274, -0.3360953279371867, -0.24831564383220583, -0.21910903661309655, -0.32287650242565274, -0.3360953279371867, -0.23826699637086374, -0.24603927030943434, -0.1671209607722846, -0.23316872751662782, -0.23316872751662782, -0.27827140490875535, -0.23740610440578647, -0.24417752158206568, -0.20232349121329907, -0.27827140490875535, -0.23740610440578647, -0.24417752158206568, -0.20232349121329907, -0.30580519852969934, -0.30580519852969934, -0.2842904804622119, -0.3148766156859274, -0.2511911590704459, -0.3337542270765014, -0.2714035671256293, -0.22257869482706477, -0.1815588395536843, -0.16736649819524546, -0.20793933874299225, -0.20676053376855918, -0.1854322022258021, -0.1578673780895434, -0.2023367924448073, -0.23528453442580363, -0.2657465113897726, -0.2569748042372736, -0.12958491015023843, -0.3097866940641215, -0.1800662623197285, -0.279699101498884, -0.21596773304037672, -0.27062690587750593, -0.24701488800485458, -0.18846222486982475, -0.17339268703439567, -0.2929068162062493, -0.30604528716887686, -0.18114356717772565]}, {\"mode\": \"markers\", \"text\": [0.0, 1.0, 2.0, 3.0, 4.0, 5.0, 6.0], \"type\": \"scatter\", \"x\": [-0.007408383781413615, -0.004910418809668853], \"y\": [3.2438221503193905, 3.701086566852708]}, {\"mode\": \"markers\", \"text\": [0.0, 1.0, 2.0, 3.0, 4.0, 5.0, 6.0], \"type\": \"scatter\", \"x\": [-1.9359360535904175, -1.9364837813686555, -1.9383613993878046, -1.9383613993878042, -1.9406084621524917, -1.946166067459349, -1.9432997078383782, -1.9419072394329864, -1.9403471945084536, -1.943705235542603, -1.9405670169381009, -1.935491563100167, -1.940031154017791, -1.9379553888240726, -1.9353899759047648, -1.9469022695223617, -1.9360045582785652, -1.9388873432267928, -1.9364213000574804, -1.9365856358660525, -1.9428866927543764, -1.9407612856836114, -1.9389520250458105, -1.9407890314424077, -1.9389174250771148, -1.9416281198218126, -1.9509471640455962, -1.9495259977633472, -1.937706334074977, -1.9500744093090114, -1.9395216461243865, -1.9431967579871812, -1.9448254074481806, -1.9357357495994338, -1.9375291617304968, -1.9380037838936055, -1.9427125397449005, -1.94334422347407, -1.9360334866008158, -1.9360334866008158, -1.9386512410752887, -1.9374031651735275, -1.9457849183888136, -1.9441806567926736, -1.940329586976719, -1.9463483811026705, -1.9406298188102653, -1.9501600469612834, -1.9366053850675817, -1.9403563093391312, -1.941433546432065, -1.9395865514569277, -1.938580409763228, -1.9403690597577243, -1.9399163825217693, -1.938539662391065, -1.9400006584131926, -1.943590708985088, -1.935389000480087, -1.9353480451382914, -1.9436956056604473, -1.9384029582252726, -1.935740522944525, -1.9354457560965246, -1.936690627594752, -1.9371193331945256, -1.940145878330327, -1.9509998990830342, -1.9431191247857604, -1.945076295637446, -1.940344322521855, -1.9360610736197095, -1.9369607841226812, -1.9417637960289946, -1.9356353056244475, -1.9376788607227338, -1.9453680633803556, -1.9502741816410107, -1.9377653732392164, -1.9430491769300995, -1.9363685205789032, -1.944634429468026, -1.936092469169565, -1.9375075848174057, -1.9356005369423535, -1.9372244548462536, -1.9400346033276146, -1.9357442305287198, -1.939383217180979, -1.9382538338195328, -1.942047291649812, -1.9363377454383361, -1.9437142939255143, -1.939533616961024, -1.9395955943162677, -1.93818714066168, -1.939003473958647, -1.9402400273217737, -1.9397263674678102, -1.942708731536491, -1.9394695240834756, -1.9354593813836338, -1.9391278426492584, -1.9436175167217, -1.9406282078071755, -1.9466509151272884, -1.9422610594465897, -1.9387151847881428, -1.9377676573150027, -1.9426597297113424, -1.93770004761108, -1.939353751172398, -1.9366218951871552, -1.9472352775862465, -1.9365592089101251, -1.935495133532567, -1.9442600024835583, -1.9375230008258801, -1.9388847594399363, -1.9356538465834798, -1.9399015657967686, -1.9399015657967686, -1.9401272376085001, -1.9401272376085001, -1.9477131722474395, -1.9436316643268838, -1.9477157962378961, -1.944337708192622, -1.9395665446951023, -1.9437955581944242, -1.9495771673525022, -1.9364008551167189, -1.9384257216192817, -1.9420829936314707, -1.937035032128327, -1.9365438578250074, -1.9423294904459443, -1.948409974508279, -1.9395939562494275, -1.937007950060092, -1.9421806493039648, -1.9375576438828586, -1.9379128911730268, -1.9390854552480197, -1.9403061510657453, -1.9368688683064776, -1.94328397266857, -1.9417856524741959, -1.941545497827699, -1.9436092712917235, -1.9387507772450905, -1.9413809782955629, -1.9370109457419338, -1.9493602181898964, -1.9366475479815315, -1.9352976718221644, -1.9485442618102067, -1.9385767151470314, -1.94096270718723, -1.9416710094916445, -1.9485132316223406, -1.9495868977659156, -1.9371222053944366, -1.9367479759480228, -1.939209440049575, -1.9359169017206064, -1.9447712335753222, -1.937701114362309, -1.9435723816603543, -1.9390059995594262, -1.9388913279187672, -1.9366449851907186, -1.9366111819516423, -1.9391062417597422, -1.9451103493340267, -1.9368127055766373, -1.9439659054497314, -1.942957284454025, -1.944537412909814, -1.9447404608773113, -1.9400346033276146, -1.9357442305287198, -1.939383217180979, -1.9416118639144944, -1.941426942387203, -1.9421202900314667, -1.936271233072084], \"y\": [-0.18498311377815427, -0.18597894012413851, -0.13009483179532103, -0.13009483179532116, -0.04112582209156599, 0.14051804135640364, 0.03393643416725882, 0.009512792044887875, -0.04614943647535797, 0.06913838142406242, -0.05729065822400634, -0.20369483839076846, -0.09282132260336533, -0.12371946507683065, -0.19785938758247415, 0.15067988584193612, -0.19308167570749032, -0.09258698084623615, -0.17181299259256202, -0.16693811225672756, 0.022323326441954627, -0.061227491435255986, -0.1040378684984834, -0.028059945626042377, -0.09966290504345715, 0.024860733372451198, 0.27905115475698716, 0.20955935825452518, -0.14543063047338545, 0.20800492700910939, -0.09029494068161341, 0.0098848275187223, 0.08143772874266984, -0.1778222141854302, -0.1523427714990383, -0.1349428503110697, 0.01844393355486244, 0.030288422821451434, -0.18976970920960595, -0.18976970920960595, -0.10858006141009774, -0.1618658049889177, 0.14723249331346258, 0.022742489335629872, -0.06116400256163824, 0.28256547653588815, -0.04733224281769672, 0.26602754723345257, -0.16337960158838358, -0.05621823907635286, -0.024965686450864676, -0.08043750079106214, -0.12616726040607407, -0.07246545840826799, -0.05033368670643853, -0.10079667178007828, -0.06925501911692557, 0.08340137580224893, -0.21854154092833203, -0.21978512474986991, 0.032203470551694896, -0.12946294746025852, -0.20358140864884552, -0.21270744215287044, -0.17954967064504132, -0.1633469761736892, -0.060660363858880934, 0.26078205441656355, -0.0014479109208720227, 0.046748219783157574, -0.08111022371855794, -0.19039655201839292, -0.16976058742454211, -0.054402438965081776, -0.20515939596423965, -0.13418063772493266, 0.16917906076773087, 0.24350504723329203, -0.13676851680071173, 0.033371352058657586, -0.17398915213104243, 0.022047767435497315, -0.19161217687974288, -0.1685231500525863, -0.20281050202449266, -0.1656595996846905, -0.07003597214288151, -0.20948600607455797, -0.09575320770740293, -0.125742079419782, 0.0283745658271191, -0.17735240892082596, 0.0656914923189083, -0.07059114547844703, -0.06735155226102599, -0.12748066690917592, -0.08732981822905289, -0.042401453019432093, -0.082443696334049, 0.0109727779630275, -0.10272108328233238, -0.19972739845463888, -0.10229106936068938, 0.03251136067311453, -0.02620544332999194, 0.126776158629119, 0.020978108203281224, -0.10339656993987967, -0.13990464146298753, 0.011340853398289507, -0.16566334660368773, -0.056026025521784206, -0.1818075232787009, 0.2184472111952841, -0.17914472300618106, -0.2106353693800827, 0.07675785008553172, -0.1558767789313982, -0.09234839724268945, -0.19720811527840365, -0.07735153480874979, -0.07735153480874979, -0.07035087868447505, -0.07035087868447505, 0.30202256078573747, 0.08464495962378674, 0.22508788041554256, 0.06508324807092203, -0.06394412386629897, 0.05986935841476642, 0.27068181206536823, -0.15228930461825618, -0.11505450090892914, -0.0038140786816688874, -0.17090335815421645, -0.17980825110545218, -0.0023126385352924936, 0.21428237670707953, -0.07485901299174182, -0.15343894412523207, 0.00933506688958887, -0.13492612069350637, -0.12719096735598037, -0.09651472952645503, -0.03314875292500443, -0.1680615568507345, -0.014851285443088287, 0.005666777002731377, 0.010044841416217769, 0.10451948818429325, -0.09906056158495462, -0.044803550721892, -0.14187410262128775, 0.2467779383269229, -0.19009214453176404, -0.2055382580434719, 0.21134490615190285, -0.10389835344606206, 0.01797052894610106, 0.04422332769226869, 0.11771970823689812, 0.24879740999950528, -0.16522393042786868, -0.17127014260221124, -0.11255041631856795, -0.20491453997976536, 0.09631639090206028, -0.14931646927802242, 0.07334316325998803, -0.10808949001597146, -0.11413196401025383, -0.17822980855386192, -0.17721994566143262, -0.11501701484176237, 0.06817333063518928, -0.17317201040639404, 0.03987715140373281, 0.02774056072259446, 0.050233414636023876, 0.11295763673025062, -0.07003597214288151, -0.20948600607455797, -0.09575320770740293, 0.0018252161032767205, -0.008056766521646837, 0.00816057831214015, -0.18088098920179896]}, {\"mode\": \"markers\", \"text\": [0.0, 1.0, 2.0, 3.0, 4.0, 5.0, 6.0], \"type\": \"scatter\", \"x\": [-0.9537811159658776, -0.9712259861668683, -0.9534473493691126, -0.9674538922371809, -0.9631373845982312, -0.9557971243688794, -0.9661051122241813, -0.9696409516863933, -0.9576737063072956, -0.9619906457919041, -0.9636784516504198, -0.9648752892581953, -0.9588192966546082, -0.9652564728749341, -0.9566831970801167, -0.9530843139472298, -0.9512521640961062, -0.9512970257661787, -0.9627486757629269, -0.9794275204582908, -0.9582181028536525, -0.9623043191063747, -0.9510806327070487, -0.9675291224680757, -0.9522849780486385, -0.9528911227988467, -0.9504869542729854, -0.9504869542729854, -0.9520460950255715, -0.9520460950255715, -0.9536824313947786, -0.9748099436056142, -0.9515534858418069, -0.9582755807924825, -0.9522207465511032, -0.9607673099567333, -0.9592159996525723, -0.9677741794243512, -0.984968427738146, -0.9568858512920687, -0.9561834346864819, -0.9598952387825944, -0.950707276681473], \"y\": [0.48637034016340436, 1.3544046164500259, 0.4104426268292806, 0.8406105035825012, 1.0656583587913062, 0.5601300646466623, 1.0575707570572823, 1.0356082043228947, 0.6414540624553999, 0.7793527216332334, 0.7681773688067598, 0.9113713406499293, 0.5936451170267324, 0.8481571508867716, 0.6606690153083544, 0.4576160477692035, 0.3682715109997809, 0.3475590829323768, 0.6659268738144462, 1.234853328764045, 0.6560844594925481, 1.0190100632609653, 0.38870193724535024, 1.1099994227496002, 0.5106565293617095, 0.4134416440834401, 0.3759895847896578, 0.3759895847896578, 0.4027007980591952, 0.4027007980591952, 0.5829380216830532, 1.1748421615010314, 0.33876684831395276, 0.5842801129998378, 0.3699823401519669, 0.7099821740121718, 0.6120358316593653, 1.0739279211173658, 1.7062933452061604, 0.6260502536151105, 0.6271572164042601, 0.6974040397511331, 0.4580033727303645]}, {\"mode\": \"markers\", \"text\": [0.0, 1.0, 2.0, 3.0, 4.0, 5.0, 6.0], \"type\": \"scatter\", \"x\": [2.030245861723906, 2.032912227437116, 2.036684293930904, 2.0371117359735424, 2.03503777997523, 2.0383437380219354, 2.0355904790835018, 2.04086820420155, 2.042560586282327, 2.037949264382113, 2.036297427749034, 2.0422699442816574], \"y\": [1.2288817825001852, 1.2030193783896304, 1.4594356343021158, 1.1325810349546694, 1.161007108086477, 0.8768694989460372, 1.2742659976556427, 0.9238874335009108, 0.7193980868162471, 1.1421628474494687, 0.954586924337586, 0.8720075443035127]}, {\"mode\": \"markers\", \"text\": [0.0, 1.0, 2.0, 3.0, 4.0, 5.0, 6.0], \"type\": \"scatter\", \"x\": [3.0131322592246383, 2.9870904952993236], \"y\": [2.7573957215229967, 3.683139310578668]}, {\"mode\": \"markers\", \"text\": [0.0, 1.0, 2.0, 3.0, 4.0, 5.0, 6.0], \"type\": \"scatter\", \"x\": [4.091533017475248, 4.052374677760081, 4.053278714399759, 4.046090206669685, 4.057456330994707, 4.051357082614984, 4.046815035220359, 4.061678267997485, 4.061678267997485, 4.056009231090174, 4.0540684914692156, 4.047299990169599, 4.04900951223513, 4.051128954035094, 4.0502152927252135, 4.052670759557012, 4.0624523708915525, 4.045401745731483, 4.05616471952591, 4.055541996453824, 4.043669501043858, 4.058337478772444, 4.054618607082616, 4.056147462973752, 4.064460138221992, 4.057301531225667, 4.0585686823193265, 4.056761547804985, 4.058071927222686, 4.064420556401687, 4.050475943127434, 4.0507563445121875, 4.054553686016972, 4.06201445879275, 4.054363960984803], \"y\": [-0.29350591095399403, 0.2192869535427579, 0.1791147479035791, 0.505264857534795, 0.028764621464976735, 0.28153513542529507, 0.47878574971959637, -0.09845829258567432, -0.09845829258567432, 0.085208434097845, 0.1452824837016101, 0.4258515790420471, 0.42284066512332247, 0.2805133115355183, 0.3415180366453737, 0.205878295219468, -0.08734170933238003, 0.5398216368204329, 0.07411048374699386, 0.09005681414587388, 0.6306978999466362, 1.884793159148748e-05, 0.151368473849963, 0.09995011290174187, -0.14953848940044018, 0.0342804955910652, 0.01764760397965408, 0.0671958738950873, 0.029431630330336953, -0.1372552588743131, 0.2853685726313653, 0.339592958849307, 0.13495217940353854, -0.08834298691374035, 0.1500813772997692]}],                        {\"template\": {\"data\": {\"bar\": [{\"error_x\": {\"color\": \"#2a3f5f\"}, \"error_y\": {\"color\": \"#2a3f5f\"}, \"marker\": {\"line\": {\"color\": \"#E5ECF6\", \"width\": 0.5}}, \"type\": \"bar\"}], \"barpolar\": [{\"marker\": {\"line\": {\"color\": \"#E5ECF6\", \"width\": 0.5}}, \"type\": \"barpolar\"}], \"carpet\": [{\"aaxis\": {\"endlinecolor\": \"#2a3f5f\", \"gridcolor\": \"white\", \"linecolor\": \"white\", \"minorgridcolor\": \"white\", \"startlinecolor\": \"#2a3f5f\"}, \"baxis\": {\"endlinecolor\": \"#2a3f5f\", \"gridcolor\": \"white\", \"linecolor\": \"white\", \"minorgridcolor\": \"white\", \"startlinecolor\": \"#2a3f5f\"}, \"type\": \"carpet\"}], \"choropleth\": [{\"colorbar\": {\"outlinewidth\": 0, \"ticks\": \"\"}, \"type\": \"choropleth\"}], \"contour\": [{\"colorbar\": {\"outlinewidth\": 0, \"ticks\": \"\"}, \"colorscale\": [[0.0, \"#0d0887\"], [0.1111111111111111, \"#46039f\"], [0.2222222222222222, \"#7201a8\"], [0.3333333333333333, \"#9c179e\"], [0.4444444444444444, \"#bd3786\"], [0.5555555555555556, \"#d8576b\"], [0.6666666666666666, \"#ed7953\"], [0.7777777777777778, \"#fb9f3a\"], [0.8888888888888888, \"#fdca26\"], [1.0, \"#f0f921\"]], \"type\": \"contour\"}], \"contourcarpet\": [{\"colorbar\": {\"outlinewidth\": 0, \"ticks\": \"\"}, \"type\": \"contourcarpet\"}], \"heatmap\": [{\"colorbar\": {\"outlinewidth\": 0, \"ticks\": \"\"}, \"colorscale\": [[0.0, \"#0d0887\"], [0.1111111111111111, \"#46039f\"], [0.2222222222222222, \"#7201a8\"], [0.3333333333333333, \"#9c179e\"], [0.4444444444444444, \"#bd3786\"], [0.5555555555555556, \"#d8576b\"], [0.6666666666666666, \"#ed7953\"], [0.7777777777777778, \"#fb9f3a\"], [0.8888888888888888, \"#fdca26\"], [1.0, \"#f0f921\"]], \"type\": \"heatmap\"}], \"heatmapgl\": [{\"colorbar\": {\"outlinewidth\": 0, \"ticks\": \"\"}, \"colorscale\": [[0.0, \"#0d0887\"], [0.1111111111111111, \"#46039f\"], [0.2222222222222222, \"#7201a8\"], [0.3333333333333333, \"#9c179e\"], [0.4444444444444444, \"#bd3786\"], [0.5555555555555556, \"#d8576b\"], [0.6666666666666666, \"#ed7953\"], [0.7777777777777778, \"#fb9f3a\"], [0.8888888888888888, \"#fdca26\"], [1.0, \"#f0f921\"]], \"type\": \"heatmapgl\"}], \"histogram\": [{\"marker\": {\"colorbar\": {\"outlinewidth\": 0, \"ticks\": \"\"}}, \"type\": \"histogram\"}], \"histogram2d\": [{\"colorbar\": {\"outlinewidth\": 0, \"ticks\": \"\"}, \"colorscale\": [[0.0, \"#0d0887\"], [0.1111111111111111, \"#46039f\"], [0.2222222222222222, \"#7201a8\"], [0.3333333333333333, \"#9c179e\"], [0.4444444444444444, \"#bd3786\"], [0.5555555555555556, \"#d8576b\"], [0.6666666666666666, \"#ed7953\"], [0.7777777777777778, \"#fb9f3a\"], [0.8888888888888888, \"#fdca26\"], [1.0, \"#f0f921\"]], \"type\": \"histogram2d\"}], \"histogram2dcontour\": [{\"colorbar\": {\"outlinewidth\": 0, \"ticks\": \"\"}, \"colorscale\": [[0.0, \"#0d0887\"], [0.1111111111111111, \"#46039f\"], [0.2222222222222222, \"#7201a8\"], [0.3333333333333333, \"#9c179e\"], [0.4444444444444444, \"#bd3786\"], [0.5555555555555556, \"#d8576b\"], [0.6666666666666666, \"#ed7953\"], [0.7777777777777778, \"#fb9f3a\"], [0.8888888888888888, \"#fdca26\"], [1.0, \"#f0f921\"]], \"type\": \"histogram2dcontour\"}], \"mesh3d\": [{\"colorbar\": {\"outlinewidth\": 0, \"ticks\": \"\"}, \"type\": \"mesh3d\"}], \"parcoords\": [{\"line\": {\"colorbar\": {\"outlinewidth\": 0, \"ticks\": \"\"}}, \"type\": \"parcoords\"}], \"pie\": [{\"automargin\": true, \"type\": \"pie\"}], \"scatter\": [{\"marker\": {\"colorbar\": {\"outlinewidth\": 0, \"ticks\": \"\"}}, \"type\": \"scatter\"}], \"scatter3d\": [{\"line\": {\"colorbar\": {\"outlinewidth\": 0, \"ticks\": \"\"}}, \"marker\": {\"colorbar\": {\"outlinewidth\": 0, \"ticks\": \"\"}}, \"type\": \"scatter3d\"}], \"scattercarpet\": [{\"marker\": {\"colorbar\": {\"outlinewidth\": 0, \"ticks\": \"\"}}, \"type\": \"scattercarpet\"}], \"scattergeo\": [{\"marker\": {\"colorbar\": {\"outlinewidth\": 0, \"ticks\": \"\"}}, \"type\": \"scattergeo\"}], \"scattergl\": [{\"marker\": {\"colorbar\": {\"outlinewidth\": 0, \"ticks\": \"\"}}, \"type\": \"scattergl\"}], \"scattermapbox\": [{\"marker\": {\"colorbar\": {\"outlinewidth\": 0, \"ticks\": \"\"}}, \"type\": \"scattermapbox\"}], \"scatterpolar\": [{\"marker\": {\"colorbar\": {\"outlinewidth\": 0, \"ticks\": \"\"}}, \"type\": \"scatterpolar\"}], \"scatterpolargl\": [{\"marker\": {\"colorbar\": {\"outlinewidth\": 0, \"ticks\": \"\"}}, \"type\": \"scatterpolargl\"}], \"scatterternary\": [{\"marker\": {\"colorbar\": {\"outlinewidth\": 0, \"ticks\": \"\"}}, \"type\": \"scatterternary\"}], \"surface\": [{\"colorbar\": {\"outlinewidth\": 0, \"ticks\": \"\"}, \"colorscale\": [[0.0, \"#0d0887\"], [0.1111111111111111, \"#46039f\"], [0.2222222222222222, \"#7201a8\"], [0.3333333333333333, \"#9c179e\"], [0.4444444444444444, \"#bd3786\"], [0.5555555555555556, \"#d8576b\"], [0.6666666666666666, \"#ed7953\"], [0.7777777777777778, \"#fb9f3a\"], [0.8888888888888888, \"#fdca26\"], [1.0, \"#f0f921\"]], \"type\": \"surface\"}], \"table\": [{\"cells\": {\"fill\": {\"color\": \"#EBF0F8\"}, \"line\": {\"color\": \"white\"}}, \"header\": {\"fill\": {\"color\": \"#C8D4E3\"}, \"line\": {\"color\": \"white\"}}, \"type\": \"table\"}]}, \"layout\": {\"annotationdefaults\": {\"arrowcolor\": \"#2a3f5f\", \"arrowhead\": 0, \"arrowwidth\": 1}, \"autotypenumbers\": \"strict\", \"coloraxis\": {\"colorbar\": {\"outlinewidth\": 0, \"ticks\": \"\"}}, \"colorscale\": {\"diverging\": [[0, \"#8e0152\"], [0.1, \"#c51b7d\"], [0.2, \"#de77ae\"], [0.3, \"#f1b6da\"], [0.4, \"#fde0ef\"], [0.5, \"#f7f7f7\"], [0.6, \"#e6f5d0\"], [0.7, \"#b8e186\"], [0.8, \"#7fbc41\"], [0.9, \"#4d9221\"], [1, \"#276419\"]], \"sequential\": [[0.0, \"#0d0887\"], [0.1111111111111111, \"#46039f\"], [0.2222222222222222, \"#7201a8\"], [0.3333333333333333, \"#9c179e\"], [0.4444444444444444, \"#bd3786\"], [0.5555555555555556, \"#d8576b\"], [0.6666666666666666, \"#ed7953\"], [0.7777777777777778, \"#fb9f3a\"], [0.8888888888888888, \"#fdca26\"], [1.0, \"#f0f921\"]], \"sequentialminus\": [[0.0, \"#0d0887\"], [0.1111111111111111, \"#46039f\"], [0.2222222222222222, \"#7201a8\"], [0.3333333333333333, \"#9c179e\"], [0.4444444444444444, \"#bd3786\"], [0.5555555555555556, \"#d8576b\"], [0.6666666666666666, \"#ed7953\"], [0.7777777777777778, \"#fb9f3a\"], [0.8888888888888888, \"#fdca26\"], [1.0, \"#f0f921\"]]}, \"colorway\": [\"#636efa\", \"#EF553B\", \"#00cc96\", \"#ab63fa\", \"#FFA15A\", \"#19d3f3\", \"#FF6692\", \"#B6E880\", \"#FF97FF\", \"#FECB52\"], \"font\": {\"color\": \"#2a3f5f\"}, \"geo\": {\"bgcolor\": \"white\", \"lakecolor\": \"white\", \"landcolor\": \"#E5ECF6\", \"showlakes\": true, \"showland\": true, \"subunitcolor\": \"white\"}, \"hoverlabel\": {\"align\": \"left\"}, \"hovermode\": \"closest\", \"mapbox\": {\"style\": \"light\"}, \"paper_bgcolor\": \"white\", \"plot_bgcolor\": \"#E5ECF6\", \"polar\": {\"angularaxis\": {\"gridcolor\": \"white\", \"linecolor\": \"white\", \"ticks\": \"\"}, \"bgcolor\": \"#E5ECF6\", \"radialaxis\": {\"gridcolor\": \"white\", \"linecolor\": \"white\", \"ticks\": \"\"}}, \"scene\": {\"xaxis\": {\"backgroundcolor\": \"#E5ECF6\", \"gridcolor\": \"white\", \"gridwidth\": 2, \"linecolor\": \"white\", \"showbackground\": true, \"ticks\": \"\", \"zerolinecolor\": \"white\"}, \"yaxis\": {\"backgroundcolor\": \"#E5ECF6\", \"gridcolor\": \"white\", \"gridwidth\": 2, \"linecolor\": \"white\", \"showbackground\": true, \"ticks\": \"\", \"zerolinecolor\": \"white\"}, \"zaxis\": {\"backgroundcolor\": \"#E5ECF6\", \"gridcolor\": \"white\", \"gridwidth\": 2, \"linecolor\": \"white\", \"showbackground\": true, \"ticks\": \"\", \"zerolinecolor\": \"white\"}}, \"shapedefaults\": {\"line\": {\"color\": \"#2a3f5f\"}}, \"ternary\": {\"aaxis\": {\"gridcolor\": \"white\", \"linecolor\": \"white\", \"ticks\": \"\"}, \"baxis\": {\"gridcolor\": \"white\", \"linecolor\": \"white\", \"ticks\": \"\"}, \"bgcolor\": \"#E5ECF6\", \"caxis\": {\"gridcolor\": \"white\", \"linecolor\": \"white\", \"ticks\": \"\"}}, \"title\": {\"x\": 0.05}, \"xaxis\": {\"automargin\": true, \"gridcolor\": \"white\", \"linecolor\": \"white\", \"ticks\": \"\", \"title\": {\"standoff\": 15}, \"zerolinecolor\": \"white\", \"zerolinewidth\": 2}, \"yaxis\": {\"automargin\": true, \"gridcolor\": \"white\", \"linecolor\": \"white\", \"ticks\": \"\", \"title\": {\"standoff\": 15}, \"zerolinecolor\": \"white\", \"zerolinewidth\": 2}}}},                        {\"responsive\": true}                    ).then(function(){\n",
       "                            \n",
       "var gd = document.getElementById('fb77f4c1-897b-47f4-9d42-540c0c16a03b');\n",
       "var x = new MutationObserver(function (mutations, observer) {{\n",
       "        var display = window.getComputedStyle(gd).display;\n",
       "        if (!display || display === 'none') {{\n",
       "            console.log([gd, 'removed!']);\n",
       "            Plotly.purge(gd);\n",
       "            observer.disconnect();\n",
       "        }}\n",
       "}});\n",
       "\n",
       "// Listen for the removal of the full notebook cells\n",
       "var notebookContainer = gd.closest('#notebook-container');\n",
       "if (notebookContainer) {{\n",
       "    x.observe(notebookContainer, {childList: true});\n",
       "}}\n",
       "\n",
       "// Listen for the clearing of the current output cell\n",
       "var outputEl = gd.closest('.output');\n",
       "if (outputEl) {{\n",
       "    x.observe(outputEl, {childList: true});\n",
       "}}\n",
       "\n",
       "                        })                };                });            </script>        </div>"
      ]
     },
     "metadata": {},
     "output_type": "display_data"
    }
   ],
   "source": [
    "args[\"n_clusters\"] = 7\n",
    "df_true_false = pd.concat([df_false_copy, df_true_copy])\n",
    "df_true_false_2d = reduce_dimensions(df_true_false, 2)\n",
    "plot_clusters(df_true_false_2d, KMeans(**args))"
   ]
  },
  {
   "cell_type": "markdown",
   "metadata": {},
   "source": [
    "## Pós processamento"
   ]
  },
  {
   "cell_type": "code",
   "execution_count": 578,
   "metadata": {},
   "outputs": [],
   "source": [
    "df_true_copy[\"metaclass\"] = df_true_copy[\"metaclass\"].apply(lambda x: x + 4)\n",
    "df_final = pd.concat([df_false_copy, df_true_copy])\n",
    "df_final = df_final.sample(frac=1, random_state=20)"
   ]
  },
  {
   "cell_type": "code",
   "execution_count": 579,
   "metadata": {
    "scrolled": true
   },
   "outputs": [
    {
     "name": "stdout",
     "output_type": "stream",
     "text": [
      "Running fold 0\n",
      "Running fold 1\n",
      "Running fold 2\n",
      "Running fold 3\n",
      "Running fold 4\n"
     ]
    }
   ],
   "source": [
    "# Verificar acertos por cluster\n",
    "\n",
    "kf = KFold(n_splits=5)\n",
    "\n",
    "results = []\n",
    "i = 0\n",
    "for train, test in kf.split(df_final):\n",
    "    fold_results = {}\n",
    "    fold_results[\"fold\"] = i\n",
    "    result = {}\n",
    "    print(\"Running fold {}\".format(i))\n",
    "    result[\"fold\"] = i\n",
    "    training_set = df_final.iloc[train]\n",
    "    gnb = nb_fit(training_set)\n",
    "\n",
    "    test_set = df_final.iloc[test]\n",
    "    \n",
    "    real_labels = test_set['metaclass']\n",
    "    result[\"real_labels\"] = real_labels\n",
    "    \n",
    "    predicted_classes = nb_predict(gnb, test_set)\n",
    "    result[\"predicted_classes\"] = predicted_classes\n",
    "    \n",
    "    test_set = test_set.drop(columns=['metaclass'])\n",
    "    acc = nb_score(gnb, test_set, real_labels)\n",
    "    fold_results[\"cluster_hit\"] = acc\n",
    "    resultados[\"naive_bayes\"].append(fold_results)\n",
    "    results.append(result)\n",
    "    i+=1\n",
    "    "
   ]
  },
  {
   "cell_type": "code",
   "execution_count": 580,
   "metadata": {},
   "outputs": [],
   "source": [
    "### Verificar acertos por label\n",
    "label_hits = 0\n",
    "label_false = set([0,1,2,3])\n",
    "label_true = set([4,5,6])\n",
    "\n",
    "for result in results:\n",
    "    predicted_classes = result[\"predicted_classes\"]\n",
    "    real_labels = result[\"real_labels\"]\n",
    "    \n",
    "    for i, j in zip(predicted_classes, real_labels):\n",
    "        if i == j:\n",
    "            label_hits += 1\n",
    "        elif ((i in label_false and j in label_false) or (i in label_true and j in label_true)):\n",
    "            label_hits += 1\n",
    "    \n",
    "    acc = label_hits/len(predicted_classes)\n",
    "    resultados[\"naive_bayes\"][result[\"fold\"]][\"label_hit\"] = acc\n",
    "    acc = 0\n",
    "    label_hits = 0"
   ]
  },
  {
   "cell_type": "code",
   "execution_count": 581,
   "metadata": {
    "scrolled": true
   },
   "outputs": [],
   "source": [
    "hit_rate = []\n",
    "cluster_hit = []\n",
    "label_hit = []\n",
    "for i in range(len(resultados['naive_bayes'])):\n",
    "    label_hit.append(resultados['naive_bayes'][i]['label_hit'])\n",
    "    cluster_hit.append(resultados['naive_bayes'][i]['cluster_hit'])\n",
    "\n",
    "resultados['std_cluster_hit'] = np.std(cluster_hit)\n",
    "resultados['std_label_hit'] = np.std(label_hit)\n",
    "resultados['mean_cluster_hit'] = np.mean(cluster_hit)\n",
    "resultados['mean_label_hit'] = np.mean(label_hit)\n"
   ]
  },
  {
   "cell_type": "code",
   "execution_count": 582,
   "metadata": {},
   "outputs": [
    {
     "data": {
      "text/plain": [
       "'{\"defects_false\": {\"best_k\": 4}, \"defects_true\": {\"best_k\": 3}, \"naive_bayes\": [{\"fold\": 0, \"hit_rate\": 0.95, \"cluster_hit\": 0.95, \"label_hit\": 0.95}, {\"fold\": 1, \"hit_rate\": 0.82, \"cluster_hit\": 0.82, \"label_hit\": 0.83}, {\"fold\": 2, \"hit_rate\": 0.9, \"cluster_hit\": 0.9, \"label_hit\": 0.92}, {\"fold\": 3, \"hit_rate\": 0.8585858585858586, \"cluster_hit\": 0.8585858585858586, \"label_hit\": 0.9090909090909091}, {\"fold\": 4, \"hit_rate\": 0.7676767676767676, \"cluster_hit\": 0.7676767676767676, \"label_hit\": 0.8787878787878788}], \"std_hit_rate\": 0.06296472890445597, \"std_cluster_hit\": 0.06296472890445597, \"std_label_hit\": 0.04075098516050726, \"mean_hit_rate\": 0.8592525252525253, \"mean_cluster_hit\": 0.8592525252525253, \"mean_label_hit\": 0.8975757575757575}'"
      ]
     },
     "execution_count": 582,
     "metadata": {},
     "output_type": "execute_result"
    }
   ],
   "source": [
    "s = \"{'defects_false': {'best_k': 4}, 'defects_true': {'best_k': 3}, 'naive_bayes': [{'fold': 0, 'hit_rate': 0.95, 'cluster_hit': 0.95, 'label_hit': 0.95}, {'fold': 1, 'hit_rate': 0.82, 'cluster_hit': 0.82, 'label_hit': 0.83}, {'fold': 2, 'hit_rate': 0.9, 'cluster_hit': 0.9, 'label_hit': 0.92}, {'fold': 3, 'hit_rate': 0.8585858585858586, 'cluster_hit': 0.8585858585858586, 'label_hit': 0.9090909090909091}, {'fold': 4, 'hit_rate': 0.7676767676767676, 'cluster_hit': 0.7676767676767676, 'label_hit': 0.8787878787878788}], 'std_hit_rate': 0.06296472890445597, 'std_cluster_hit': 0.06296472890445597, 'std_label_hit': 0.04075098516050726, 'mean_hit_rate': 0.8592525252525253, 'mean_cluster_hit': 0.8592525252525253, 'mean_label_hit': 0.8975757575757575}\"\n",
    "s = s.replace(\"'\", \"\\\"\")\n",
    "s"
   ]
  },
  {
   "cell_type": "markdown",
   "metadata": {},
   "source": [
    "-------------------------------------------"
   ]
  },
  {
   "cell_type": "markdown",
   "metadata": {},
   "source": [
    "## Naïve Bayes"
   ]
  },
  {
   "cell_type": "code",
   "execution_count": 583,
   "metadata": {},
   "outputs": [],
   "source": [
    "data = arff.loadarff('./datasets/CM1.arff')\n",
    "df = pd.DataFrame(data[0])"
   ]
  },
  {
   "cell_type": "code",
   "execution_count": 584,
   "metadata": {},
   "outputs": [
    {
     "name": "stderr",
     "output_type": "stream",
     "text": [
      "<ipython-input-584-ed92112f7322>:5: FutureWarning:\n",
      "\n",
      "The default value of regex will change from True to False in a future version.\n",
      "\n"
     ]
    }
   ],
   "source": [
    "defects = df['defects']# = df['defects'].apply(lambda x: 0 if x == \"b'false'\" else 1)\n",
    "df = df.drop(columns='defects')\n",
    "df = normalize_data(df)\n",
    "df['defects'] = defects\n",
    "df['defects'] = df['defects'].apply(str).str.replace(\"b|'\", '')\n",
    "df['defects'] = df['defects'].apply(lambda x: 1 if x == 'true' else 0)\n",
    "df = randomize_dataframe(df)"
   ]
  },
  {
   "cell_type": "code",
   "execution_count": 585,
   "metadata": {
    "scrolled": true
   },
   "outputs": [],
   "source": [
    "kf = KFold(n_splits=5)\n",
    "\n",
    "results = []\n",
    "i = 0\n",
    "for train, test in kf.split(df):\n",
    "    result = {}\n",
    "    \n",
    "    result[\"fold\"] = i\n",
    "    \n",
    "    training_set = df.iloc[train]\n",
    "    target_values = training_set['defects']\n",
    "    training_set = training_set.drop(columns=['defects'])\n",
    "    \n",
    "    gnb = GaussianNB()\n",
    "    gnb.fit(training_set, target_values)\n",
    "\n",
    "    test_set = df.iloc[test]\n",
    "    real_labels = test_set['defects']\n",
    "    result[\"real_labels\"] = real_labels\n",
    "    \n",
    "    test_set = test_set.drop(columns=['defects'])\n",
    "    predicted_classes = gnb.predict(test_set)\n",
    "    result[\"predicted_classes\"] = predicted_classes\n",
    "    \n",
    "\n",
    "    acc = gnb.score(test_set, real_labels)\n",
    "    results.append(result)\n",
    "    i+=1"
   ]
  },
  {
   "cell_type": "markdown",
   "metadata": {},
   "source": [
    "## 1NN"
   ]
  },
  {
   "cell_type": "code",
   "execution_count": 586,
   "metadata": {},
   "outputs": [],
   "source": [
    "\n",
    "kf = KFold(n_splits=5)\n",
    "\n",
    "results = []\n",
    "i = 0\n",
    "for train, test in kf.split(df):\n",
    "    result = {}\n",
    "    result[\"fold\"] = i\n",
    "    \n",
    "    \n",
    "    training_set = df.iloc[train]\n",
    "    target_values = training_set['defects']\n",
    "    training_set = training_set.drop(columns=['defects'])\n",
    "    \n",
    "    knn = KNeighborsClassifier(n_neighbors=1)\n",
    "    knn.fit(training_set, target_values)\n",
    "    \n",
    "    test_set = df.iloc[test]\n",
    "    real_labels = test_set['defects']\n",
    "    result[\"real_labels\"] = real_labels\n",
    "    \n",
    "    test_set = test_set.drop(columns=['defects'])\n",
    "    predicted_classes = knn.predict(test_set)\n",
    "    result[\"predicted_classes\"] = predicted_classes\n",
    "    \n",
    "    acc = 0\n",
    "    for j, k in  zip(predicted_classes, real_labels):\n",
    "        if j == k:\n",
    "            acc += 1\n",
    "    \n",
    "    acc = acc/len(predicted_classes)\n",
    "    i+=1\n"
   ]
  }
 ],
 "metadata": {
  "kernelspec": {
   "display_name": "Python 3",
   "language": "python",
   "name": "python3"
  },
  "language_info": {
   "codemirror_mode": {
    "name": "ipython",
    "version": 3
   },
   "file_extension": ".py",
   "mimetype": "text/x-python",
   "name": "python",
   "nbconvert_exporter": "python",
   "pygments_lexer": "ipython3",
   "version": "3.8.5"
  }
 },
 "nbformat": 4,
 "nbformat_minor": 4
}
