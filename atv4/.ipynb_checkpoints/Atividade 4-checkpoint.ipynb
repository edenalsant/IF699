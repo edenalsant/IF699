{
 "cells": [
  {
   "cell_type": "markdown",
   "metadata": {},
   "source": [
    "# Atividade 4"
   ]
  },
  {
   "cell_type": "markdown",
   "metadata": {},
   "source": [
    "### pré-processanto"
   ]
  },
  {
   "cell_type": "markdown",
   "metadata": {},
   "source": [
    "#### CM1"
   ]
  },
  {
   "cell_type": "code",
   "execution_count": 71,
   "metadata": {},
   "outputs": [],
   "source": [
    "from scipy.io import arff\n",
    "import pandas as pd"
   ]
  },
  {
   "cell_type": "markdown",
   "metadata": {},
   "source": [
    "### Funções de pré-processamento"
   ]
  },
  {
   "cell_type": "code",
   "execution_count": 72,
   "metadata": {},
   "outputs": [],
   "source": [
    "def group_by_class(X):\n",
    "    lines_to_remove = []\n",
    "    for index, row in X.iterrows():\n",
    "        if row['defects'] == b'true':\n",
    "            lines_to_remove.append(index)\n",
    "    defects_false = X.drop(lines_to_remove)\n",
    "    defects_true = X.iloc[lines_to_remove]\n",
    "    return defects_false, defects_true\n",
    "\n",
    "def randomize_dataframe(df):\n",
    "    df = df.sample(frac=1, random_state=20)\n",
    "    df.reset_index(drop=True, inplace=True)\n",
    "    return df\n",
    "\n",
    "def transform_column(dataframe, column):\n",
    "    dataframe[column] = dataframe[column].apply(str).str.replace(\"b|'\", '')\n",
    "    dataframe[column] = dataframe[column].apply(lambda x: 1 if x == 'true' else 0)\n",
    "    return dataframe\n",
    "    \n",
    "\n",
    "def build_dataframe(data):\n",
    "    full_dataframe = pd.DataFrame(data[0])\n",
    "    training_data = randomize_dataframe(full_dataframe)\n",
    "    training_data, outliers = remove_outliers(training_data)\n",
    "    \n",
    "    column = 'defects'\n",
    "    full_dataframe = transform_column(full_dataframe, column)\n",
    "    training_data = transform_column(training_data, column)\n",
    "    outliers = transform_column(outliers, column)   \n",
    "    \n",
    "    return full_dataframe, training_data, outliers\n",
    "\n",
    "def normalize_data(X):\n",
    "    arr = X.values\n",
    "    scaler = preprocessing.MinMaxScaler()\n",
    "    X_scaled = scaler.fit_transform(arr)\n",
    "    return pd.DataFrame(X_scaled)\n",
    "\n",
    "def drop_defects_column(dfs):\n",
    "    final_df = []\n",
    "    for df in dfs:\n",
    "        final_df.append(df.drop(columns=['defects']))\n",
    "    \n",
    "    return final_df[0], final_df[1], final_df[2]"
   ]
  },
  {
   "cell_type": "code",
   "execution_count": 73,
   "metadata": {
    "scrolled": true
   },
   "outputs": [
    {
     "name": "stderr",
     "output_type": "stream",
     "text": [
      "<ipython-input-72-bb8d35a2f4c8>:16: FutureWarning:\n",
      "\n",
      "The default value of regex will change from True to False in a future version.\n",
      "\n"
     ]
    }
   ],
   "source": [
    "data = arff.loadarff('./datasets/CM1.arff')\n",
    "full_dataframe, df_false, df_true = build_dataframe(data)\n",
    "feat_cols = [ str(i) for i in range(df_false.shape[1]) ]"
   ]
  },
  {
   "cell_type": "code",
   "execution_count": 74,
   "metadata": {
    "scrolled": true
   },
   "outputs": [
    {
     "data": {
      "text/html": [
       "<div>\n",
       "<style scoped>\n",
       "    .dataframe tbody tr th:only-of-type {\n",
       "        vertical-align: middle;\n",
       "    }\n",
       "\n",
       "    .dataframe tbody tr th {\n",
       "        vertical-align: top;\n",
       "    }\n",
       "\n",
       "    .dataframe thead th {\n",
       "        text-align: right;\n",
       "    }\n",
       "</style>\n",
       "<table border=\"1\" class=\"dataframe\">\n",
       "  <thead>\n",
       "    <tr style=\"text-align: right;\">\n",
       "      <th></th>\n",
       "      <th>loc</th>\n",
       "      <th>v(g)</th>\n",
       "      <th>ev(g)</th>\n",
       "      <th>iv(g)</th>\n",
       "      <th>n</th>\n",
       "      <th>v</th>\n",
       "      <th>l</th>\n",
       "      <th>d</th>\n",
       "      <th>i</th>\n",
       "      <th>e</th>\n",
       "      <th>...</th>\n",
       "      <th>lOCode</th>\n",
       "      <th>lOComment</th>\n",
       "      <th>lOBlank</th>\n",
       "      <th>locCodeAndComment</th>\n",
       "      <th>uniq_Op</th>\n",
       "      <th>uniq_Opnd</th>\n",
       "      <th>total_Op</th>\n",
       "      <th>total_Opnd</th>\n",
       "      <th>branchCount</th>\n",
       "      <th>defects</th>\n",
       "    </tr>\n",
       "  </thead>\n",
       "  <tbody>\n",
       "    <tr>\n",
       "      <th>12</th>\n",
       "      <td>18.0</td>\n",
       "      <td>3.0</td>\n",
       "      <td>1.0</td>\n",
       "      <td>3.0</td>\n",
       "      <td>60.0</td>\n",
       "      <td>297.25</td>\n",
       "      <td>0.11</td>\n",
       "      <td>9.47</td>\n",
       "      <td>31.39</td>\n",
       "      <td>2815.15</td>\n",
       "      <td>...</td>\n",
       "      <td>3.0</td>\n",
       "      <td>34.0</td>\n",
       "      <td>14.0</td>\n",
       "      <td>0.0</td>\n",
       "      <td>14.0</td>\n",
       "      <td>17.0</td>\n",
       "      <td>37.0</td>\n",
       "      <td>23.0</td>\n",
       "      <td>5.0</td>\n",
       "      <td>1</td>\n",
       "    </tr>\n",
       "    <tr>\n",
       "      <th>27</th>\n",
       "      <td>149.0</td>\n",
       "      <td>20.0</td>\n",
       "      <td>1.0</td>\n",
       "      <td>18.0</td>\n",
       "      <td>702.0</td>\n",
       "      <td>5081.36</td>\n",
       "      <td>0.03</td>\n",
       "      <td>29.58</td>\n",
       "      <td>171.78</td>\n",
       "      <td>150305.78</td>\n",
       "      <td>...</td>\n",
       "      <td>0.0</td>\n",
       "      <td>62.0</td>\n",
       "      <td>10.0</td>\n",
       "      <td>0.0</td>\n",
       "      <td>32.0</td>\n",
       "      <td>119.0</td>\n",
       "      <td>482.0</td>\n",
       "      <td>220.0</td>\n",
       "      <td>37.0</td>\n",
       "      <td>1</td>\n",
       "    </tr>\n",
       "    <tr>\n",
       "      <th>40</th>\n",
       "      <td>92.0</td>\n",
       "      <td>4.0</td>\n",
       "      <td>1.0</td>\n",
       "      <td>4.0</td>\n",
       "      <td>822.0</td>\n",
       "      <td>6234.84</td>\n",
       "      <td>0.04</td>\n",
       "      <td>26.64</td>\n",
       "      <td>234.02</td>\n",
       "      <td>166113.93</td>\n",
       "      <td>...</td>\n",
       "      <td>7.0</td>\n",
       "      <td>46.0</td>\n",
       "      <td>62.0</td>\n",
       "      <td>0.0</td>\n",
       "      <td>24.0</td>\n",
       "      <td>168.0</td>\n",
       "      <td>449.0</td>\n",
       "      <td>373.0</td>\n",
       "      <td>7.0</td>\n",
       "      <td>1</td>\n",
       "    </tr>\n",
       "    <tr>\n",
       "      <th>52</th>\n",
       "      <td>33.0</td>\n",
       "      <td>6.0</td>\n",
       "      <td>1.0</td>\n",
       "      <td>5.0</td>\n",
       "      <td>172.0</td>\n",
       "      <td>989.84</td>\n",
       "      <td>0.05</td>\n",
       "      <td>18.46</td>\n",
       "      <td>53.63</td>\n",
       "      <td>18269.63</td>\n",
       "      <td>...</td>\n",
       "      <td>7.0</td>\n",
       "      <td>30.0</td>\n",
       "      <td>31.0</td>\n",
       "      <td>0.0</td>\n",
       "      <td>19.0</td>\n",
       "      <td>35.0</td>\n",
       "      <td>104.0</td>\n",
       "      <td>68.0</td>\n",
       "      <td>11.0</td>\n",
       "      <td>1</td>\n",
       "    </tr>\n",
       "    <tr>\n",
       "      <th>68</th>\n",
       "      <td>196.0</td>\n",
       "      <td>37.0</td>\n",
       "      <td>21.0</td>\n",
       "      <td>26.0</td>\n",
       "      <td>1177.0</td>\n",
       "      <td>9135.35</td>\n",
       "      <td>0.01</td>\n",
       "      <td>71.54</td>\n",
       "      <td>127.70</td>\n",
       "      <td>653537.10</td>\n",
       "      <td>...</td>\n",
       "      <td>14.0</td>\n",
       "      <td>170.0</td>\n",
       "      <td>155.0</td>\n",
       "      <td>0.0</td>\n",
       "      <td>52.0</td>\n",
       "      <td>165.0</td>\n",
       "      <td>723.0</td>\n",
       "      <td>454.0</td>\n",
       "      <td>71.0</td>\n",
       "      <td>1</td>\n",
       "    </tr>\n",
       "    <tr>\n",
       "      <th>70</th>\n",
       "      <td>91.0</td>\n",
       "      <td>18.0</td>\n",
       "      <td>7.0</td>\n",
       "      <td>16.0</td>\n",
       "      <td>591.0</td>\n",
       "      <td>4176.06</td>\n",
       "      <td>0.05</td>\n",
       "      <td>21.41</td>\n",
       "      <td>195.05</td>\n",
       "      <td>89412.40</td>\n",
       "      <td>...</td>\n",
       "      <td>4.0</td>\n",
       "      <td>18.0</td>\n",
       "      <td>4.0</td>\n",
       "      <td>0.0</td>\n",
       "      <td>22.0</td>\n",
       "      <td>112.0</td>\n",
       "      <td>373.0</td>\n",
       "      <td>218.0</td>\n",
       "      <td>35.0</td>\n",
       "      <td>1</td>\n",
       "    </tr>\n",
       "    <tr>\n",
       "      <th>77</th>\n",
       "      <td>28.0</td>\n",
       "      <td>6.0</td>\n",
       "      <td>5.0</td>\n",
       "      <td>5.0</td>\n",
       "      <td>104.0</td>\n",
       "      <td>564.33</td>\n",
       "      <td>0.06</td>\n",
       "      <td>16.09</td>\n",
       "      <td>35.08</td>\n",
       "      <td>9078.38</td>\n",
       "      <td>...</td>\n",
       "      <td>2.0</td>\n",
       "      <td>7.0</td>\n",
       "      <td>0.0</td>\n",
       "      <td>0.0</td>\n",
       "      <td>20.0</td>\n",
       "      <td>23.0</td>\n",
       "      <td>67.0</td>\n",
       "      <td>37.0</td>\n",
       "      <td>11.0</td>\n",
       "      <td>1</td>\n",
       "    </tr>\n",
       "    <tr>\n",
       "      <th>88</th>\n",
       "      <td>91.0</td>\n",
       "      <td>20.0</td>\n",
       "      <td>9.0</td>\n",
       "      <td>4.0</td>\n",
       "      <td>568.0</td>\n",
       "      <td>3740.26</td>\n",
       "      <td>0.02</td>\n",
       "      <td>51.47</td>\n",
       "      <td>72.67</td>\n",
       "      <td>192513.32</td>\n",
       "      <td>...</td>\n",
       "      <td>20.0</td>\n",
       "      <td>96.0</td>\n",
       "      <td>46.0</td>\n",
       "      <td>0.0</td>\n",
       "      <td>28.0</td>\n",
       "      <td>68.0</td>\n",
       "      <td>318.0</td>\n",
       "      <td>250.0</td>\n",
       "      <td>39.0</td>\n",
       "      <td>1</td>\n",
       "    </tr>\n",
       "    <tr>\n",
       "      <th>114</th>\n",
       "      <td>411.0</td>\n",
       "      <td>73.0</td>\n",
       "      <td>30.0</td>\n",
       "      <td>41.0</td>\n",
       "      <td>1500.0</td>\n",
       "      <td>12749.77</td>\n",
       "      <td>0.02</td>\n",
       "      <td>43.41</td>\n",
       "      <td>293.68</td>\n",
       "      <td>553518.63</td>\n",
       "      <td>...</td>\n",
       "      <td>45.0</td>\n",
       "      <td>339.0</td>\n",
       "      <td>42.0</td>\n",
       "      <td>0.0</td>\n",
       "      <td>48.0</td>\n",
       "      <td>314.0</td>\n",
       "      <td>932.0</td>\n",
       "      <td>568.0</td>\n",
       "      <td>141.0</td>\n",
       "      <td>1</td>\n",
       "    </tr>\n",
       "    <tr>\n",
       "      <th>130</th>\n",
       "      <td>57.0</td>\n",
       "      <td>9.0</td>\n",
       "      <td>1.0</td>\n",
       "      <td>7.0</td>\n",
       "      <td>213.0</td>\n",
       "      <td>1318.43</td>\n",
       "      <td>0.03</td>\n",
       "      <td>29.27</td>\n",
       "      <td>45.05</td>\n",
       "      <td>38588.27</td>\n",
       "      <td>...</td>\n",
       "      <td>6.0</td>\n",
       "      <td>7.0</td>\n",
       "      <td>6.0</td>\n",
       "      <td>0.0</td>\n",
       "      <td>32.0</td>\n",
       "      <td>41.0</td>\n",
       "      <td>138.0</td>\n",
       "      <td>75.0</td>\n",
       "      <td>15.0</td>\n",
       "      <td>1</td>\n",
       "    </tr>\n",
       "    <tr>\n",
       "      <th>136</th>\n",
       "      <td>28.0</td>\n",
       "      <td>3.0</td>\n",
       "      <td>1.0</td>\n",
       "      <td>3.0</td>\n",
       "      <td>148.0</td>\n",
       "      <td>835.29</td>\n",
       "      <td>0.05</td>\n",
       "      <td>18.67</td>\n",
       "      <td>44.75</td>\n",
       "      <td>15592.09</td>\n",
       "      <td>...</td>\n",
       "      <td>2.0</td>\n",
       "      <td>11.0</td>\n",
       "      <td>40.0</td>\n",
       "      <td>0.0</td>\n",
       "      <td>20.0</td>\n",
       "      <td>30.0</td>\n",
       "      <td>92.0</td>\n",
       "      <td>56.0</td>\n",
       "      <td>5.0</td>\n",
       "      <td>1</td>\n",
       "    </tr>\n",
       "    <tr>\n",
       "      <th>150</th>\n",
       "      <td>28.0</td>\n",
       "      <td>3.0</td>\n",
       "      <td>1.0</td>\n",
       "      <td>2.0</td>\n",
       "      <td>104.0</td>\n",
       "      <td>557.19</td>\n",
       "      <td>0.07</td>\n",
       "      <td>15.24</td>\n",
       "      <td>36.57</td>\n",
       "      <td>8490.44</td>\n",
       "      <td>...</td>\n",
       "      <td>0.0</td>\n",
       "      <td>11.0</td>\n",
       "      <td>9.0</td>\n",
       "      <td>0.0</td>\n",
       "      <td>20.0</td>\n",
       "      <td>21.0</td>\n",
       "      <td>72.0</td>\n",
       "      <td>32.0</td>\n",
       "      <td>5.0</td>\n",
       "      <td>1</td>\n",
       "    </tr>\n",
       "    <tr>\n",
       "      <th>165</th>\n",
       "      <td>32.0</td>\n",
       "      <td>4.0</td>\n",
       "      <td>1.0</td>\n",
       "      <td>4.0</td>\n",
       "      <td>117.0</td>\n",
       "      <td>574.11</td>\n",
       "      <td>0.04</td>\n",
       "      <td>22.75</td>\n",
       "      <td>25.24</td>\n",
       "      <td>13060.92</td>\n",
       "      <td>...</td>\n",
       "      <td>0.0</td>\n",
       "      <td>4.0</td>\n",
       "      <td>17.0</td>\n",
       "      <td>0.0</td>\n",
       "      <td>14.0</td>\n",
       "      <td>16.0</td>\n",
       "      <td>65.0</td>\n",
       "      <td>52.0</td>\n",
       "      <td>5.0</td>\n",
       "      <td>1</td>\n",
       "    </tr>\n",
       "    <tr>\n",
       "      <th>188</th>\n",
       "      <td>32.0</td>\n",
       "      <td>4.0</td>\n",
       "      <td>1.0</td>\n",
       "      <td>4.0</td>\n",
       "      <td>121.0</td>\n",
       "      <td>648.26</td>\n",
       "      <td>0.05</td>\n",
       "      <td>18.57</td>\n",
       "      <td>34.91</td>\n",
       "      <td>12037.08</td>\n",
       "      <td>...</td>\n",
       "      <td>3.0</td>\n",
       "      <td>24.0</td>\n",
       "      <td>13.0</td>\n",
       "      <td>0.0</td>\n",
       "      <td>19.0</td>\n",
       "      <td>22.0</td>\n",
       "      <td>78.0</td>\n",
       "      <td>43.0</td>\n",
       "      <td>7.0</td>\n",
       "      <td>1</td>\n",
       "    </tr>\n",
       "    <tr>\n",
       "      <th>190</th>\n",
       "      <td>143.0</td>\n",
       "      <td>13.0</td>\n",
       "      <td>1.0</td>\n",
       "      <td>12.0</td>\n",
       "      <td>695.0</td>\n",
       "      <td>4996.93</td>\n",
       "      <td>0.04</td>\n",
       "      <td>28.52</td>\n",
       "      <td>175.18</td>\n",
       "      <td>142535.33</td>\n",
       "      <td>...</td>\n",
       "      <td>11.0</td>\n",
       "      <td>57.0</td>\n",
       "      <td>93.0</td>\n",
       "      <td>0.0</td>\n",
       "      <td>24.0</td>\n",
       "      <td>122.0</td>\n",
       "      <td>405.0</td>\n",
       "      <td>290.0</td>\n",
       "      <td>25.0</td>\n",
       "      <td>1</td>\n",
       "    </tr>\n",
       "    <tr>\n",
       "      <th>201</th>\n",
       "      <td>74.0</td>\n",
       "      <td>11.0</td>\n",
       "      <td>11.0</td>\n",
       "      <td>9.0</td>\n",
       "      <td>354.0</td>\n",
       "      <td>2274.90</td>\n",
       "      <td>0.03</td>\n",
       "      <td>36.74</td>\n",
       "      <td>61.92</td>\n",
       "      <td>83581.43</td>\n",
       "      <td>...</td>\n",
       "      <td>7.0</td>\n",
       "      <td>28.0</td>\n",
       "      <td>31.0</td>\n",
       "      <td>0.0</td>\n",
       "      <td>32.0</td>\n",
       "      <td>54.0</td>\n",
       "      <td>230.0</td>\n",
       "      <td>124.0</td>\n",
       "      <td>21.0</td>\n",
       "      <td>1</td>\n",
       "    </tr>\n",
       "    <tr>\n",
       "      <th>209</th>\n",
       "      <td>49.0</td>\n",
       "      <td>7.0</td>\n",
       "      <td>1.0</td>\n",
       "      <td>5.0</td>\n",
       "      <td>229.0</td>\n",
       "      <td>1341.48</td>\n",
       "      <td>0.07</td>\n",
       "      <td>13.60</td>\n",
       "      <td>98.60</td>\n",
       "      <td>18250.34</td>\n",
       "      <td>...</td>\n",
       "      <td>6.0</td>\n",
       "      <td>4.0</td>\n",
       "      <td>3.0</td>\n",
       "      <td>0.0</td>\n",
       "      <td>15.0</td>\n",
       "      <td>43.0</td>\n",
       "      <td>151.0</td>\n",
       "      <td>78.0</td>\n",
       "      <td>13.0</td>\n",
       "      <td>1</td>\n",
       "    </tr>\n",
       "    <tr>\n",
       "      <th>210</th>\n",
       "      <td>19.0</td>\n",
       "      <td>3.0</td>\n",
       "      <td>1.0</td>\n",
       "      <td>1.0</td>\n",
       "      <td>85.0</td>\n",
       "      <td>439.44</td>\n",
       "      <td>0.10</td>\n",
       "      <td>9.64</td>\n",
       "      <td>45.57</td>\n",
       "      <td>4237.49</td>\n",
       "      <td>...</td>\n",
       "      <td>2.0</td>\n",
       "      <td>22.0</td>\n",
       "      <td>12.0</td>\n",
       "      <td>0.0</td>\n",
       "      <td>15.0</td>\n",
       "      <td>21.0</td>\n",
       "      <td>58.0</td>\n",
       "      <td>27.0</td>\n",
       "      <td>5.0</td>\n",
       "      <td>1</td>\n",
       "    </tr>\n",
       "    <tr>\n",
       "      <th>225</th>\n",
       "      <td>8.0</td>\n",
       "      <td>1.0</td>\n",
       "      <td>1.0</td>\n",
       "      <td>1.0</td>\n",
       "      <td>24.0</td>\n",
       "      <td>103.73</td>\n",
       "      <td>0.20</td>\n",
       "      <td>5.00</td>\n",
       "      <td>20.75</td>\n",
       "      <td>518.63</td>\n",
       "      <td>...</td>\n",
       "      <td>0.0</td>\n",
       "      <td>7.0</td>\n",
       "      <td>7.0</td>\n",
       "      <td>0.0</td>\n",
       "      <td>10.0</td>\n",
       "      <td>10.0</td>\n",
       "      <td>14.0</td>\n",
       "      <td>10.0</td>\n",
       "      <td>1.0</td>\n",
       "      <td>1</td>\n",
       "    </tr>\n",
       "    <tr>\n",
       "      <th>238</th>\n",
       "      <td>130.0</td>\n",
       "      <td>20.0</td>\n",
       "      <td>9.0</td>\n",
       "      <td>10.0</td>\n",
       "      <td>607.0</td>\n",
       "      <td>4282.56</td>\n",
       "      <td>0.02</td>\n",
       "      <td>51.60</td>\n",
       "      <td>83.00</td>\n",
       "      <td>220979.91</td>\n",
       "      <td>...</td>\n",
       "      <td>23.0</td>\n",
       "      <td>65.0</td>\n",
       "      <td>12.0</td>\n",
       "      <td>0.0</td>\n",
       "      <td>38.0</td>\n",
       "      <td>95.0</td>\n",
       "      <td>349.0</td>\n",
       "      <td>258.0</td>\n",
       "      <td>37.0</td>\n",
       "      <td>1</td>\n",
       "    </tr>\n",
       "    <tr>\n",
       "      <th>242</th>\n",
       "      <td>22.0</td>\n",
       "      <td>5.0</td>\n",
       "      <td>5.0</td>\n",
       "      <td>3.0</td>\n",
       "      <td>84.0</td>\n",
       "      <td>440.83</td>\n",
       "      <td>0.08</td>\n",
       "      <td>12.55</td>\n",
       "      <td>35.13</td>\n",
       "      <td>5531.32</td>\n",
       "      <td>...</td>\n",
       "      <td>0.0</td>\n",
       "      <td>17.0</td>\n",
       "      <td>9.0</td>\n",
       "      <td>0.0</td>\n",
       "      <td>17.0</td>\n",
       "      <td>21.0</td>\n",
       "      <td>53.0</td>\n",
       "      <td>31.0</td>\n",
       "      <td>9.0</td>\n",
       "      <td>1</td>\n",
       "    </tr>\n",
       "    <tr>\n",
       "      <th>258</th>\n",
       "      <td>82.0</td>\n",
       "      <td>11.0</td>\n",
       "      <td>3.0</td>\n",
       "      <td>10.0</td>\n",
       "      <td>475.0</td>\n",
       "      <td>3155.83</td>\n",
       "      <td>0.02</td>\n",
       "      <td>44.71</td>\n",
       "      <td>70.59</td>\n",
       "      <td>141084.24</td>\n",
       "      <td>...</td>\n",
       "      <td>9.0</td>\n",
       "      <td>59.0</td>\n",
       "      <td>35.0</td>\n",
       "      <td>0.0</td>\n",
       "      <td>32.0</td>\n",
       "      <td>68.0</td>\n",
       "      <td>285.0</td>\n",
       "      <td>190.0</td>\n",
       "      <td>21.0</td>\n",
       "      <td>1</td>\n",
       "    </tr>\n",
       "    <tr>\n",
       "      <th>275</th>\n",
       "      <td>1.0</td>\n",
       "      <td>1.0</td>\n",
       "      <td>1.0</td>\n",
       "      <td>1.0</td>\n",
       "      <td>1.0</td>\n",
       "      <td>1.00</td>\n",
       "      <td>1.00</td>\n",
       "      <td>1.00</td>\n",
       "      <td>1.00</td>\n",
       "      <td>1.00</td>\n",
       "      <td>...</td>\n",
       "      <td>1.0</td>\n",
       "      <td>1.0</td>\n",
       "      <td>1.0</td>\n",
       "      <td>1.0</td>\n",
       "      <td>1.0</td>\n",
       "      <td>1.0</td>\n",
       "      <td>1.0</td>\n",
       "      <td>1.0</td>\n",
       "      <td>1.0</td>\n",
       "      <td>1</td>\n",
       "    </tr>\n",
       "    <tr>\n",
       "      <th>282</th>\n",
       "      <td>22.0</td>\n",
       "      <td>3.0</td>\n",
       "      <td>1.0</td>\n",
       "      <td>3.0</td>\n",
       "      <td>81.0</td>\n",
       "      <td>439.53</td>\n",
       "      <td>0.09</td>\n",
       "      <td>11.08</td>\n",
       "      <td>39.66</td>\n",
       "      <td>4871.43</td>\n",
       "      <td>...</td>\n",
       "      <td>3.0</td>\n",
       "      <td>11.0</td>\n",
       "      <td>10.0</td>\n",
       "      <td>0.0</td>\n",
       "      <td>19.0</td>\n",
       "      <td>24.0</td>\n",
       "      <td>53.0</td>\n",
       "      <td>28.0</td>\n",
       "      <td>5.0</td>\n",
       "      <td>1</td>\n",
       "    </tr>\n",
       "    <tr>\n",
       "      <th>285</th>\n",
       "      <td>44.0</td>\n",
       "      <td>7.0</td>\n",
       "      <td>1.0</td>\n",
       "      <td>7.0</td>\n",
       "      <td>269.0</td>\n",
       "      <td>1746.31</td>\n",
       "      <td>0.05</td>\n",
       "      <td>22.12</td>\n",
       "      <td>78.96</td>\n",
       "      <td>38620.28</td>\n",
       "      <td>...</td>\n",
       "      <td>6.0</td>\n",
       "      <td>14.0</td>\n",
       "      <td>36.0</td>\n",
       "      <td>0.0</td>\n",
       "      <td>25.0</td>\n",
       "      <td>65.0</td>\n",
       "      <td>154.0</td>\n",
       "      <td>115.0</td>\n",
       "      <td>13.0</td>\n",
       "      <td>1</td>\n",
       "    </tr>\n",
       "    <tr>\n",
       "      <th>286</th>\n",
       "      <td>19.0</td>\n",
       "      <td>1.0</td>\n",
       "      <td>1.0</td>\n",
       "      <td>1.0</td>\n",
       "      <td>118.0</td>\n",
       "      <td>561.08</td>\n",
       "      <td>0.08</td>\n",
       "      <td>12.00</td>\n",
       "      <td>46.76</td>\n",
       "      <td>6732.92</td>\n",
       "      <td>...</td>\n",
       "      <td>1.0</td>\n",
       "      <td>3.0</td>\n",
       "      <td>10.0</td>\n",
       "      <td>0.0</td>\n",
       "      <td>8.0</td>\n",
       "      <td>19.0</td>\n",
       "      <td>61.0</td>\n",
       "      <td>57.0</td>\n",
       "      <td>1.0</td>\n",
       "      <td>1</td>\n",
       "    </tr>\n",
       "    <tr>\n",
       "      <th>325</th>\n",
       "      <td>41.0</td>\n",
       "      <td>4.0</td>\n",
       "      <td>3.0</td>\n",
       "      <td>3.0</td>\n",
       "      <td>129.0</td>\n",
       "      <td>745.80</td>\n",
       "      <td>0.08</td>\n",
       "      <td>13.19</td>\n",
       "      <td>56.52</td>\n",
       "      <td>9840.36</td>\n",
       "      <td>...</td>\n",
       "      <td>0.0</td>\n",
       "      <td>12.0</td>\n",
       "      <td>1.0</td>\n",
       "      <td>0.0</td>\n",
       "      <td>19.0</td>\n",
       "      <td>36.0</td>\n",
       "      <td>79.0</td>\n",
       "      <td>50.0</td>\n",
       "      <td>7.0</td>\n",
       "      <td>1</td>\n",
       "    </tr>\n",
       "    <tr>\n",
       "      <th>361</th>\n",
       "      <td>44.0</td>\n",
       "      <td>8.0</td>\n",
       "      <td>4.0</td>\n",
       "      <td>7.0</td>\n",
       "      <td>159.0</td>\n",
       "      <td>971.26</td>\n",
       "      <td>0.08</td>\n",
       "      <td>13.06</td>\n",
       "      <td>74.36</td>\n",
       "      <td>12685.78</td>\n",
       "      <td>...</td>\n",
       "      <td>2.0</td>\n",
       "      <td>31.0</td>\n",
       "      <td>10.0</td>\n",
       "      <td>0.0</td>\n",
       "      <td>20.0</td>\n",
       "      <td>49.0</td>\n",
       "      <td>95.0</td>\n",
       "      <td>64.0</td>\n",
       "      <td>15.0</td>\n",
       "      <td>1</td>\n",
       "    </tr>\n",
       "    <tr>\n",
       "      <th>362</th>\n",
       "      <td>133.0</td>\n",
       "      <td>30.0</td>\n",
       "      <td>1.0</td>\n",
       "      <td>26.0</td>\n",
       "      <td>605.0</td>\n",
       "      <td>4185.91</td>\n",
       "      <td>0.01</td>\n",
       "      <td>77.46</td>\n",
       "      <td>54.04</td>\n",
       "      <td>324260.81</td>\n",
       "      <td>...</td>\n",
       "      <td>3.0</td>\n",
       "      <td>91.0</td>\n",
       "      <td>55.0</td>\n",
       "      <td>0.0</td>\n",
       "      <td>50.0</td>\n",
       "      <td>71.0</td>\n",
       "      <td>385.0</td>\n",
       "      <td>220.0</td>\n",
       "      <td>34.0</td>\n",
       "      <td>1</td>\n",
       "    </tr>\n",
       "    <tr>\n",
       "      <th>366</th>\n",
       "      <td>12.0</td>\n",
       "      <td>1.0</td>\n",
       "      <td>1.0</td>\n",
       "      <td>1.0</td>\n",
       "      <td>37.0</td>\n",
       "      <td>159.91</td>\n",
       "      <td>0.11</td>\n",
       "      <td>9.00</td>\n",
       "      <td>17.77</td>\n",
       "      <td>1439.20</td>\n",
       "      <td>...</td>\n",
       "      <td>0.0</td>\n",
       "      <td>1.0</td>\n",
       "      <td>7.0</td>\n",
       "      <td>0.0</td>\n",
       "      <td>12.0</td>\n",
       "      <td>8.0</td>\n",
       "      <td>25.0</td>\n",
       "      <td>12.0</td>\n",
       "      <td>1.0</td>\n",
       "      <td>1</td>\n",
       "    </tr>\n",
       "    <tr>\n",
       "      <th>380</th>\n",
       "      <td>47.0</td>\n",
       "      <td>3.0</td>\n",
       "      <td>1.0</td>\n",
       "      <td>3.0</td>\n",
       "      <td>256.0</td>\n",
       "      <td>1563.78</td>\n",
       "      <td>0.04</td>\n",
       "      <td>28.00</td>\n",
       "      <td>55.85</td>\n",
       "      <td>43785.90</td>\n",
       "      <td>...</td>\n",
       "      <td>2.0</td>\n",
       "      <td>13.0</td>\n",
       "      <td>2.0</td>\n",
       "      <td>0.0</td>\n",
       "      <td>23.0</td>\n",
       "      <td>46.0</td>\n",
       "      <td>144.0</td>\n",
       "      <td>112.0</td>\n",
       "      <td>5.0</td>\n",
       "      <td>1</td>\n",
       "    </tr>\n",
       "    <tr>\n",
       "      <th>392</th>\n",
       "      <td>15.0</td>\n",
       "      <td>2.0</td>\n",
       "      <td>1.0</td>\n",
       "      <td>2.0</td>\n",
       "      <td>74.0</td>\n",
       "      <td>385.50</td>\n",
       "      <td>0.07</td>\n",
       "      <td>14.25</td>\n",
       "      <td>27.05</td>\n",
       "      <td>5493.37</td>\n",
       "      <td>...</td>\n",
       "      <td>0.0</td>\n",
       "      <td>7.0</td>\n",
       "      <td>9.0</td>\n",
       "      <td>0.0</td>\n",
       "      <td>19.0</td>\n",
       "      <td>18.0</td>\n",
       "      <td>47.0</td>\n",
       "      <td>27.0</td>\n",
       "      <td>3.0</td>\n",
       "      <td>1</td>\n",
       "    </tr>\n",
       "    <tr>\n",
       "      <th>393</th>\n",
       "      <td>24.0</td>\n",
       "      <td>4.0</td>\n",
       "      <td>3.0</td>\n",
       "      <td>3.0</td>\n",
       "      <td>107.0</td>\n",
       "      <td>587.63</td>\n",
       "      <td>0.05</td>\n",
       "      <td>19.13</td>\n",
       "      <td>30.72</td>\n",
       "      <td>11241.58</td>\n",
       "      <td>...</td>\n",
       "      <td>1.0</td>\n",
       "      <td>7.0</td>\n",
       "      <td>4.0</td>\n",
       "      <td>0.0</td>\n",
       "      <td>22.0</td>\n",
       "      <td>23.0</td>\n",
       "      <td>67.0</td>\n",
       "      <td>40.0</td>\n",
       "      <td>7.0</td>\n",
       "      <td>1</td>\n",
       "    </tr>\n",
       "    <tr>\n",
       "      <th>394</th>\n",
       "      <td>22.0</td>\n",
       "      <td>2.0</td>\n",
       "      <td>1.0</td>\n",
       "      <td>2.0</td>\n",
       "      <td>114.0</td>\n",
       "      <td>575.06</td>\n",
       "      <td>0.06</td>\n",
       "      <td>15.43</td>\n",
       "      <td>37.27</td>\n",
       "      <td>8872.37</td>\n",
       "      <td>...</td>\n",
       "      <td>1.0</td>\n",
       "      <td>19.0</td>\n",
       "      <td>27.0</td>\n",
       "      <td>0.0</td>\n",
       "      <td>12.0</td>\n",
       "      <td>21.0</td>\n",
       "      <td>60.0</td>\n",
       "      <td>54.0</td>\n",
       "      <td>3.0</td>\n",
       "      <td>1</td>\n",
       "    </tr>\n",
       "    <tr>\n",
       "      <th>418</th>\n",
       "      <td>71.0</td>\n",
       "      <td>10.0</td>\n",
       "      <td>8.0</td>\n",
       "      <td>9.0</td>\n",
       "      <td>211.0</td>\n",
       "      <td>1251.39</td>\n",
       "      <td>0.04</td>\n",
       "      <td>27.11</td>\n",
       "      <td>46.15</td>\n",
       "      <td>33930.43</td>\n",
       "      <td>...</td>\n",
       "      <td>6.0</td>\n",
       "      <td>45.0</td>\n",
       "      <td>30.0</td>\n",
       "      <td>0.0</td>\n",
       "      <td>26.0</td>\n",
       "      <td>35.0</td>\n",
       "      <td>138.0</td>\n",
       "      <td>73.0</td>\n",
       "      <td>19.0</td>\n",
       "      <td>1</td>\n",
       "    </tr>\n",
       "    <tr>\n",
       "      <th>420</th>\n",
       "      <td>29.0</td>\n",
       "      <td>5.0</td>\n",
       "      <td>1.0</td>\n",
       "      <td>3.0</td>\n",
       "      <td>111.0</td>\n",
       "      <td>641.73</td>\n",
       "      <td>0.08</td>\n",
       "      <td>12.33</td>\n",
       "      <td>52.03</td>\n",
       "      <td>7914.68</td>\n",
       "      <td>...</td>\n",
       "      <td>4.0</td>\n",
       "      <td>22.0</td>\n",
       "      <td>27.0</td>\n",
       "      <td>0.0</td>\n",
       "      <td>22.0</td>\n",
       "      <td>33.0</td>\n",
       "      <td>74.0</td>\n",
       "      <td>37.0</td>\n",
       "      <td>9.0</td>\n",
       "      <td>1</td>\n",
       "    </tr>\n",
       "    <tr>\n",
       "      <th>437</th>\n",
       "      <td>59.0</td>\n",
       "      <td>7.0</td>\n",
       "      <td>1.0</td>\n",
       "      <td>7.0</td>\n",
       "      <td>349.0</td>\n",
       "      <td>2318.71</td>\n",
       "      <td>0.05</td>\n",
       "      <td>22.14</td>\n",
       "      <td>104.75</td>\n",
       "      <td>51324.87</td>\n",
       "      <td>...</td>\n",
       "      <td>16.0</td>\n",
       "      <td>23.0</td>\n",
       "      <td>32.0</td>\n",
       "      <td>0.0</td>\n",
       "      <td>26.0</td>\n",
       "      <td>74.0</td>\n",
       "      <td>223.0</td>\n",
       "      <td>126.0</td>\n",
       "      <td>13.0</td>\n",
       "      <td>1</td>\n",
       "    </tr>\n",
       "    <tr>\n",
       "      <th>440</th>\n",
       "      <td>107.0</td>\n",
       "      <td>18.0</td>\n",
       "      <td>9.0</td>\n",
       "      <td>10.0</td>\n",
       "      <td>516.0</td>\n",
       "      <td>3366.16</td>\n",
       "      <td>0.02</td>\n",
       "      <td>64.92</td>\n",
       "      <td>51.85</td>\n",
       "      <td>218524.86</td>\n",
       "      <td>...</td>\n",
       "      <td>9.0</td>\n",
       "      <td>73.0</td>\n",
       "      <td>51.0</td>\n",
       "      <td>0.0</td>\n",
       "      <td>37.0</td>\n",
       "      <td>55.0</td>\n",
       "      <td>323.0</td>\n",
       "      <td>193.0</td>\n",
       "      <td>35.0</td>\n",
       "      <td>1</td>\n",
       "    </tr>\n",
       "    <tr>\n",
       "      <th>444</th>\n",
       "      <td>31.0</td>\n",
       "      <td>4.0</td>\n",
       "      <td>1.0</td>\n",
       "      <td>2.0</td>\n",
       "      <td>141.0</td>\n",
       "      <td>829.45</td>\n",
       "      <td>0.05</td>\n",
       "      <td>21.52</td>\n",
       "      <td>38.55</td>\n",
       "      <td>17846.19</td>\n",
       "      <td>...</td>\n",
       "      <td>1.0</td>\n",
       "      <td>19.0</td>\n",
       "      <td>15.0</td>\n",
       "      <td>0.0</td>\n",
       "      <td>27.0</td>\n",
       "      <td>32.0</td>\n",
       "      <td>90.0</td>\n",
       "      <td>51.0</td>\n",
       "      <td>7.0</td>\n",
       "      <td>1</td>\n",
       "    </tr>\n",
       "    <tr>\n",
       "      <th>445</th>\n",
       "      <td>58.0</td>\n",
       "      <td>10.0</td>\n",
       "      <td>5.0</td>\n",
       "      <td>1.0</td>\n",
       "      <td>187.0</td>\n",
       "      <td>1038.71</td>\n",
       "      <td>0.03</td>\n",
       "      <td>33.52</td>\n",
       "      <td>30.99</td>\n",
       "      <td>34816.70</td>\n",
       "      <td>...</td>\n",
       "      <td>6.0</td>\n",
       "      <td>6.0</td>\n",
       "      <td>9.0</td>\n",
       "      <td>0.0</td>\n",
       "      <td>21.0</td>\n",
       "      <td>26.0</td>\n",
       "      <td>104.0</td>\n",
       "      <td>83.0</td>\n",
       "      <td>19.0</td>\n",
       "      <td>1</td>\n",
       "    </tr>\n",
       "    <tr>\n",
       "      <th>451</th>\n",
       "      <td>20.0</td>\n",
       "      <td>3.0</td>\n",
       "      <td>1.0</td>\n",
       "      <td>3.0</td>\n",
       "      <td>64.0</td>\n",
       "      <td>330.88</td>\n",
       "      <td>0.10</td>\n",
       "      <td>10.50</td>\n",
       "      <td>31.51</td>\n",
       "      <td>3474.19</td>\n",
       "      <td>...</td>\n",
       "      <td>2.0</td>\n",
       "      <td>19.0</td>\n",
       "      <td>8.0</td>\n",
       "      <td>0.0</td>\n",
       "      <td>18.0</td>\n",
       "      <td>18.0</td>\n",
       "      <td>43.0</td>\n",
       "      <td>21.0</td>\n",
       "      <td>5.0</td>\n",
       "      <td>1</td>\n",
       "    </tr>\n",
       "    <tr>\n",
       "      <th>464</th>\n",
       "      <td>12.0</td>\n",
       "      <td>1.0</td>\n",
       "      <td>1.0</td>\n",
       "      <td>1.0</td>\n",
       "      <td>37.0</td>\n",
       "      <td>159.91</td>\n",
       "      <td>0.11</td>\n",
       "      <td>9.00</td>\n",
       "      <td>17.77</td>\n",
       "      <td>1439.20</td>\n",
       "      <td>...</td>\n",
       "      <td>0.0</td>\n",
       "      <td>1.0</td>\n",
       "      <td>7.0</td>\n",
       "      <td>0.0</td>\n",
       "      <td>12.0</td>\n",
       "      <td>8.0</td>\n",
       "      <td>25.0</td>\n",
       "      <td>12.0</td>\n",
       "      <td>1.0</td>\n",
       "      <td>1</td>\n",
       "    </tr>\n",
       "    <tr>\n",
       "      <th>466</th>\n",
       "      <td>7.0</td>\n",
       "      <td>1.0</td>\n",
       "      <td>1.0</td>\n",
       "      <td>1.0</td>\n",
       "      <td>30.0</td>\n",
       "      <td>122.62</td>\n",
       "      <td>0.18</td>\n",
       "      <td>5.63</td>\n",
       "      <td>21.80</td>\n",
       "      <td>689.76</td>\n",
       "      <td>...</td>\n",
       "      <td>0.0</td>\n",
       "      <td>0.0</td>\n",
       "      <td>0.0</td>\n",
       "      <td>0.0</td>\n",
       "      <td>9.0</td>\n",
       "      <td>8.0</td>\n",
       "      <td>20.0</td>\n",
       "      <td>10.0</td>\n",
       "      <td>1.0</td>\n",
       "      <td>1</td>\n",
       "    </tr>\n",
       "    <tr>\n",
       "      <th>474</th>\n",
       "      <td>71.0</td>\n",
       "      <td>8.0</td>\n",
       "      <td>1.0</td>\n",
       "      <td>7.0</td>\n",
       "      <td>307.0</td>\n",
       "      <td>1993.00</td>\n",
       "      <td>0.05</td>\n",
       "      <td>21.94</td>\n",
       "      <td>90.85</td>\n",
       "      <td>43721.41</td>\n",
       "      <td>...</td>\n",
       "      <td>6.0</td>\n",
       "      <td>39.0</td>\n",
       "      <td>25.0</td>\n",
       "      <td>0.0</td>\n",
       "      <td>26.0</td>\n",
       "      <td>64.0</td>\n",
       "      <td>199.0</td>\n",
       "      <td>108.0</td>\n",
       "      <td>15.0</td>\n",
       "      <td>1</td>\n",
       "    </tr>\n",
       "    <tr>\n",
       "      <th>478</th>\n",
       "      <td>121.0</td>\n",
       "      <td>15.0</td>\n",
       "      <td>3.0</td>\n",
       "      <td>12.0</td>\n",
       "      <td>537.0</td>\n",
       "      <td>3817.28</td>\n",
       "      <td>0.04</td>\n",
       "      <td>23.26</td>\n",
       "      <td>164.09</td>\n",
       "      <td>88801.93</td>\n",
       "      <td>...</td>\n",
       "      <td>3.0</td>\n",
       "      <td>29.0</td>\n",
       "      <td>16.0</td>\n",
       "      <td>0.0</td>\n",
       "      <td>24.0</td>\n",
       "      <td>114.0</td>\n",
       "      <td>316.0</td>\n",
       "      <td>221.0</td>\n",
       "      <td>29.0</td>\n",
       "      <td>1</td>\n",
       "    </tr>\n",
       "    <tr>\n",
       "      <th>481</th>\n",
       "      <td>10.0</td>\n",
       "      <td>2.0</td>\n",
       "      <td>1.0</td>\n",
       "      <td>1.0</td>\n",
       "      <td>32.0</td>\n",
       "      <td>150.41</td>\n",
       "      <td>0.15</td>\n",
       "      <td>6.50</td>\n",
       "      <td>23.14</td>\n",
       "      <td>977.69</td>\n",
       "      <td>...</td>\n",
       "      <td>1.0</td>\n",
       "      <td>12.0</td>\n",
       "      <td>4.0</td>\n",
       "      <td>0.0</td>\n",
       "      <td>13.0</td>\n",
       "      <td>13.0</td>\n",
       "      <td>19.0</td>\n",
       "      <td>13.0</td>\n",
       "      <td>3.0</td>\n",
       "      <td>1</td>\n",
       "    </tr>\n",
       "    <tr>\n",
       "      <th>482</th>\n",
       "      <td>79.0</td>\n",
       "      <td>12.0</td>\n",
       "      <td>4.0</td>\n",
       "      <td>6.0</td>\n",
       "      <td>201.0</td>\n",
       "      <td>1227.81</td>\n",
       "      <td>0.07</td>\n",
       "      <td>13.73</td>\n",
       "      <td>89.42</td>\n",
       "      <td>16858.82</td>\n",
       "      <td>...</td>\n",
       "      <td>14.0</td>\n",
       "      <td>78.0</td>\n",
       "      <td>2.0</td>\n",
       "      <td>0.0</td>\n",
       "      <td>17.0</td>\n",
       "      <td>52.0</td>\n",
       "      <td>117.0</td>\n",
       "      <td>84.0</td>\n",
       "      <td>23.0</td>\n",
       "      <td>1</td>\n",
       "    </tr>\n",
       "    <tr>\n",
       "      <th>485</th>\n",
       "      <td>89.0</td>\n",
       "      <td>24.0</td>\n",
       "      <td>9.0</td>\n",
       "      <td>19.0</td>\n",
       "      <td>402.0</td>\n",
       "      <td>2603.24</td>\n",
       "      <td>0.02</td>\n",
       "      <td>47.60</td>\n",
       "      <td>54.69</td>\n",
       "      <td>123914.45</td>\n",
       "      <td>...</td>\n",
       "      <td>4.0</td>\n",
       "      <td>62.0</td>\n",
       "      <td>30.0</td>\n",
       "      <td>0.0</td>\n",
       "      <td>34.0</td>\n",
       "      <td>55.0</td>\n",
       "      <td>248.0</td>\n",
       "      <td>154.0</td>\n",
       "      <td>32.0</td>\n",
       "      <td>1</td>\n",
       "    </tr>\n",
       "    <tr>\n",
       "      <th>496</th>\n",
       "      <td>13.0</td>\n",
       "      <td>3.0</td>\n",
       "      <td>1.0</td>\n",
       "      <td>3.0</td>\n",
       "      <td>38.0</td>\n",
       "      <td>164.23</td>\n",
       "      <td>0.14</td>\n",
       "      <td>7.33</td>\n",
       "      <td>22.40</td>\n",
       "      <td>1204.38</td>\n",
       "      <td>...</td>\n",
       "      <td>2.0</td>\n",
       "      <td>0.0</td>\n",
       "      <td>0.0</td>\n",
       "      <td>0.0</td>\n",
       "      <td>11.0</td>\n",
       "      <td>9.0</td>\n",
       "      <td>26.0</td>\n",
       "      <td>12.0</td>\n",
       "      <td>5.0</td>\n",
       "      <td>1</td>\n",
       "    </tr>\n",
       "  </tbody>\n",
       "</table>\n",
       "<p>49 rows × 22 columns</p>\n",
       "</div>"
      ],
      "text/plain": [
       "       loc  v(g)  ev(g)  iv(g)       n         v     l      d       i  \\\n",
       "12    18.0   3.0    1.0    3.0    60.0    297.25  0.11   9.47   31.39   \n",
       "27   149.0  20.0    1.0   18.0   702.0   5081.36  0.03  29.58  171.78   \n",
       "40    92.0   4.0    1.0    4.0   822.0   6234.84  0.04  26.64  234.02   \n",
       "52    33.0   6.0    1.0    5.0   172.0    989.84  0.05  18.46   53.63   \n",
       "68   196.0  37.0   21.0   26.0  1177.0   9135.35  0.01  71.54  127.70   \n",
       "70    91.0  18.0    7.0   16.0   591.0   4176.06  0.05  21.41  195.05   \n",
       "77    28.0   6.0    5.0    5.0   104.0    564.33  0.06  16.09   35.08   \n",
       "88    91.0  20.0    9.0    4.0   568.0   3740.26  0.02  51.47   72.67   \n",
       "114  411.0  73.0   30.0   41.0  1500.0  12749.77  0.02  43.41  293.68   \n",
       "130   57.0   9.0    1.0    7.0   213.0   1318.43  0.03  29.27   45.05   \n",
       "136   28.0   3.0    1.0    3.0   148.0    835.29  0.05  18.67   44.75   \n",
       "150   28.0   3.0    1.0    2.0   104.0    557.19  0.07  15.24   36.57   \n",
       "165   32.0   4.0    1.0    4.0   117.0    574.11  0.04  22.75   25.24   \n",
       "188   32.0   4.0    1.0    4.0   121.0    648.26  0.05  18.57   34.91   \n",
       "190  143.0  13.0    1.0   12.0   695.0   4996.93  0.04  28.52  175.18   \n",
       "201   74.0  11.0   11.0    9.0   354.0   2274.90  0.03  36.74   61.92   \n",
       "209   49.0   7.0    1.0    5.0   229.0   1341.48  0.07  13.60   98.60   \n",
       "210   19.0   3.0    1.0    1.0    85.0    439.44  0.10   9.64   45.57   \n",
       "225    8.0   1.0    1.0    1.0    24.0    103.73  0.20   5.00   20.75   \n",
       "238  130.0  20.0    9.0   10.0   607.0   4282.56  0.02  51.60   83.00   \n",
       "242   22.0   5.0    5.0    3.0    84.0    440.83  0.08  12.55   35.13   \n",
       "258   82.0  11.0    3.0   10.0   475.0   3155.83  0.02  44.71   70.59   \n",
       "275    1.0   1.0    1.0    1.0     1.0      1.00  1.00   1.00    1.00   \n",
       "282   22.0   3.0    1.0    3.0    81.0    439.53  0.09  11.08   39.66   \n",
       "285   44.0   7.0    1.0    7.0   269.0   1746.31  0.05  22.12   78.96   \n",
       "286   19.0   1.0    1.0    1.0   118.0    561.08  0.08  12.00   46.76   \n",
       "325   41.0   4.0    3.0    3.0   129.0    745.80  0.08  13.19   56.52   \n",
       "361   44.0   8.0    4.0    7.0   159.0    971.26  0.08  13.06   74.36   \n",
       "362  133.0  30.0    1.0   26.0   605.0   4185.91  0.01  77.46   54.04   \n",
       "366   12.0   1.0    1.0    1.0    37.0    159.91  0.11   9.00   17.77   \n",
       "380   47.0   3.0    1.0    3.0   256.0   1563.78  0.04  28.00   55.85   \n",
       "392   15.0   2.0    1.0    2.0    74.0    385.50  0.07  14.25   27.05   \n",
       "393   24.0   4.0    3.0    3.0   107.0    587.63  0.05  19.13   30.72   \n",
       "394   22.0   2.0    1.0    2.0   114.0    575.06  0.06  15.43   37.27   \n",
       "418   71.0  10.0    8.0    9.0   211.0   1251.39  0.04  27.11   46.15   \n",
       "420   29.0   5.0    1.0    3.0   111.0    641.73  0.08  12.33   52.03   \n",
       "437   59.0   7.0    1.0    7.0   349.0   2318.71  0.05  22.14  104.75   \n",
       "440  107.0  18.0    9.0   10.0   516.0   3366.16  0.02  64.92   51.85   \n",
       "444   31.0   4.0    1.0    2.0   141.0    829.45  0.05  21.52   38.55   \n",
       "445   58.0  10.0    5.0    1.0   187.0   1038.71  0.03  33.52   30.99   \n",
       "451   20.0   3.0    1.0    3.0    64.0    330.88  0.10  10.50   31.51   \n",
       "464   12.0   1.0    1.0    1.0    37.0    159.91  0.11   9.00   17.77   \n",
       "466    7.0   1.0    1.0    1.0    30.0    122.62  0.18   5.63   21.80   \n",
       "474   71.0   8.0    1.0    7.0   307.0   1993.00  0.05  21.94   90.85   \n",
       "478  121.0  15.0    3.0   12.0   537.0   3817.28  0.04  23.26  164.09   \n",
       "481   10.0   2.0    1.0    1.0    32.0    150.41  0.15   6.50   23.14   \n",
       "482   79.0  12.0    4.0    6.0   201.0   1227.81  0.07  13.73   89.42   \n",
       "485   89.0  24.0    9.0   19.0   402.0   2603.24  0.02  47.60   54.69   \n",
       "496   13.0   3.0    1.0    3.0    38.0    164.23  0.14   7.33   22.40   \n",
       "\n",
       "             e  ...  lOCode  lOComment  lOBlank  locCodeAndComment  uniq_Op  \\\n",
       "12     2815.15  ...     3.0       34.0     14.0                0.0     14.0   \n",
       "27   150305.78  ...     0.0       62.0     10.0                0.0     32.0   \n",
       "40   166113.93  ...     7.0       46.0     62.0                0.0     24.0   \n",
       "52    18269.63  ...     7.0       30.0     31.0                0.0     19.0   \n",
       "68   653537.10  ...    14.0      170.0    155.0                0.0     52.0   \n",
       "70    89412.40  ...     4.0       18.0      4.0                0.0     22.0   \n",
       "77     9078.38  ...     2.0        7.0      0.0                0.0     20.0   \n",
       "88   192513.32  ...    20.0       96.0     46.0                0.0     28.0   \n",
       "114  553518.63  ...    45.0      339.0     42.0                0.0     48.0   \n",
       "130   38588.27  ...     6.0        7.0      6.0                0.0     32.0   \n",
       "136   15592.09  ...     2.0       11.0     40.0                0.0     20.0   \n",
       "150    8490.44  ...     0.0       11.0      9.0                0.0     20.0   \n",
       "165   13060.92  ...     0.0        4.0     17.0                0.0     14.0   \n",
       "188   12037.08  ...     3.0       24.0     13.0                0.0     19.0   \n",
       "190  142535.33  ...    11.0       57.0     93.0                0.0     24.0   \n",
       "201   83581.43  ...     7.0       28.0     31.0                0.0     32.0   \n",
       "209   18250.34  ...     6.0        4.0      3.0                0.0     15.0   \n",
       "210    4237.49  ...     2.0       22.0     12.0                0.0     15.0   \n",
       "225     518.63  ...     0.0        7.0      7.0                0.0     10.0   \n",
       "238  220979.91  ...    23.0       65.0     12.0                0.0     38.0   \n",
       "242    5531.32  ...     0.0       17.0      9.0                0.0     17.0   \n",
       "258  141084.24  ...     9.0       59.0     35.0                0.0     32.0   \n",
       "275       1.00  ...     1.0        1.0      1.0                1.0      1.0   \n",
       "282    4871.43  ...     3.0       11.0     10.0                0.0     19.0   \n",
       "285   38620.28  ...     6.0       14.0     36.0                0.0     25.0   \n",
       "286    6732.92  ...     1.0        3.0     10.0                0.0      8.0   \n",
       "325    9840.36  ...     0.0       12.0      1.0                0.0     19.0   \n",
       "361   12685.78  ...     2.0       31.0     10.0                0.0     20.0   \n",
       "362  324260.81  ...     3.0       91.0     55.0                0.0     50.0   \n",
       "366    1439.20  ...     0.0        1.0      7.0                0.0     12.0   \n",
       "380   43785.90  ...     2.0       13.0      2.0                0.0     23.0   \n",
       "392    5493.37  ...     0.0        7.0      9.0                0.0     19.0   \n",
       "393   11241.58  ...     1.0        7.0      4.0                0.0     22.0   \n",
       "394    8872.37  ...     1.0       19.0     27.0                0.0     12.0   \n",
       "418   33930.43  ...     6.0       45.0     30.0                0.0     26.0   \n",
       "420    7914.68  ...     4.0       22.0     27.0                0.0     22.0   \n",
       "437   51324.87  ...    16.0       23.0     32.0                0.0     26.0   \n",
       "440  218524.86  ...     9.0       73.0     51.0                0.0     37.0   \n",
       "444   17846.19  ...     1.0       19.0     15.0                0.0     27.0   \n",
       "445   34816.70  ...     6.0        6.0      9.0                0.0     21.0   \n",
       "451    3474.19  ...     2.0       19.0      8.0                0.0     18.0   \n",
       "464    1439.20  ...     0.0        1.0      7.0                0.0     12.0   \n",
       "466     689.76  ...     0.0        0.0      0.0                0.0      9.0   \n",
       "474   43721.41  ...     6.0       39.0     25.0                0.0     26.0   \n",
       "478   88801.93  ...     3.0       29.0     16.0                0.0     24.0   \n",
       "481     977.69  ...     1.0       12.0      4.0                0.0     13.0   \n",
       "482   16858.82  ...    14.0       78.0      2.0                0.0     17.0   \n",
       "485  123914.45  ...     4.0       62.0     30.0                0.0     34.0   \n",
       "496    1204.38  ...     2.0        0.0      0.0                0.0     11.0   \n",
       "\n",
       "     uniq_Opnd  total_Op  total_Opnd  branchCount  defects  \n",
       "12        17.0      37.0        23.0          5.0        1  \n",
       "27       119.0     482.0       220.0         37.0        1  \n",
       "40       168.0     449.0       373.0          7.0        1  \n",
       "52        35.0     104.0        68.0         11.0        1  \n",
       "68       165.0     723.0       454.0         71.0        1  \n",
       "70       112.0     373.0       218.0         35.0        1  \n",
       "77        23.0      67.0        37.0         11.0        1  \n",
       "88        68.0     318.0       250.0         39.0        1  \n",
       "114      314.0     932.0       568.0        141.0        1  \n",
       "130       41.0     138.0        75.0         15.0        1  \n",
       "136       30.0      92.0        56.0          5.0        1  \n",
       "150       21.0      72.0        32.0          5.0        1  \n",
       "165       16.0      65.0        52.0          5.0        1  \n",
       "188       22.0      78.0        43.0          7.0        1  \n",
       "190      122.0     405.0       290.0         25.0        1  \n",
       "201       54.0     230.0       124.0         21.0        1  \n",
       "209       43.0     151.0        78.0         13.0        1  \n",
       "210       21.0      58.0        27.0          5.0        1  \n",
       "225       10.0      14.0        10.0          1.0        1  \n",
       "238       95.0     349.0       258.0         37.0        1  \n",
       "242       21.0      53.0        31.0          9.0        1  \n",
       "258       68.0     285.0       190.0         21.0        1  \n",
       "275        1.0       1.0         1.0          1.0        1  \n",
       "282       24.0      53.0        28.0          5.0        1  \n",
       "285       65.0     154.0       115.0         13.0        1  \n",
       "286       19.0      61.0        57.0          1.0        1  \n",
       "325       36.0      79.0        50.0          7.0        1  \n",
       "361       49.0      95.0        64.0         15.0        1  \n",
       "362       71.0     385.0       220.0         34.0        1  \n",
       "366        8.0      25.0        12.0          1.0        1  \n",
       "380       46.0     144.0       112.0          5.0        1  \n",
       "392       18.0      47.0        27.0          3.0        1  \n",
       "393       23.0      67.0        40.0          7.0        1  \n",
       "394       21.0      60.0        54.0          3.0        1  \n",
       "418       35.0     138.0        73.0         19.0        1  \n",
       "420       33.0      74.0        37.0          9.0        1  \n",
       "437       74.0     223.0       126.0         13.0        1  \n",
       "440       55.0     323.0       193.0         35.0        1  \n",
       "444       32.0      90.0        51.0          7.0        1  \n",
       "445       26.0     104.0        83.0         19.0        1  \n",
       "451       18.0      43.0        21.0          5.0        1  \n",
       "464        8.0      25.0        12.0          1.0        1  \n",
       "466        8.0      20.0        10.0          1.0        1  \n",
       "474       64.0     199.0       108.0         15.0        1  \n",
       "478      114.0     316.0       221.0         29.0        1  \n",
       "481       13.0      19.0        13.0          3.0        1  \n",
       "482       52.0     117.0        84.0         23.0        1  \n",
       "485       55.0     248.0       154.0         32.0        1  \n",
       "496        9.0      26.0        12.0          5.0        1  \n",
       "\n",
       "[49 rows x 22 columns]"
      ]
     },
     "execution_count": 74,
     "metadata": {},
     "output_type": "execute_result"
    }
   ],
   "source": [
    "df_true"
   ]
  },
  {
   "cell_type": "code",
   "execution_count": 75,
   "metadata": {},
   "outputs": [],
   "source": [
    "from sklearn.decomposition import PCA"
   ]
  },
  {
   "cell_type": "code",
   "execution_count": 76,
   "metadata": {
    "scrolled": true
   },
   "outputs": [
    {
     "name": "stdout",
     "output_type": "stream",
     "text": [
      "Requirement already satisfied: plotly in /home/eeas/.local/lib/python3.8/site-packages (4.14.3)\n",
      "Requirement already satisfied: six in /usr/lib/python3/dist-packages (from plotly) (1.14.0)\n",
      "Requirement already satisfied: retrying>=1.3.3 in /home/eeas/.local/lib/python3.8/site-packages (from plotly) (1.3.3)\n"
     ]
    }
   ],
   "source": [
    "!pip3 install plotly\n",
    "import numpy as np\n",
    "import plotly.graph_objects as go"
   ]
  },
  {
   "cell_type": "code",
   "execution_count": 77,
   "metadata": {},
   "outputs": [],
   "source": [
    "pca = PCA(n_components=2)\n",
    "pca_result = pca.fit_transform(full_dataframe[full_dataframe.columns].values)"
   ]
  },
  {
   "cell_type": "code",
   "execution_count": 78,
   "metadata": {
    "scrolled": false
   },
   "outputs": [
    {
     "data": {
      "application/vnd.plotly.v1+json": {
       "config": {
        "plotlyServerURL": "https://plot.ly"
       },
       "data": [
        {
         "marker": {
          "color": [
           0,
           1,
           0,
           0,
           0,
           0,
           0,
           0,
           0,
           0,
           0,
           0,
           0,
           0,
           0,
           0,
           0,
           0,
           0,
           0,
           0,
           0,
           0,
           0,
           0,
           0,
           0,
           0,
           0,
           0,
           0,
           0,
           0,
           0,
           0,
           0,
           0,
           0,
           0,
           0,
           0,
           0,
           0,
           0,
           0,
           0,
           0,
           0,
           0,
           0,
           0,
           0,
           0,
           0,
           0,
           0,
           0,
           0,
           0,
           0,
           0,
           0,
           0,
           0,
           0,
           0,
           0,
           0,
           0,
           0,
           0,
           0,
           0,
           0,
           0,
           0,
           0,
           0,
           0,
           0,
           0,
           0,
           0,
           0,
           0,
           0,
           0,
           0,
           0,
           0,
           0,
           0,
           0,
           0,
           0,
           0,
           0,
           0,
           0,
           0,
           0,
           0,
           0,
           0,
           0,
           0,
           0,
           0,
           0,
           0,
           0,
           0,
           0,
           0,
           0,
           0,
           0,
           0,
           0,
           0,
           0,
           0,
           0,
           0,
           0,
           0,
           0,
           0,
           0,
           0,
           0,
           0,
           0,
           0,
           0,
           0,
           0,
           0,
           0,
           0,
           0,
           0,
           0,
           0,
           0,
           0,
           0,
           0,
           0,
           0,
           0,
           0,
           0,
           0,
           0,
           0,
           0,
           0,
           0,
           0,
           0,
           0,
           0,
           0,
           0,
           0,
           0,
           0,
           0,
           0,
           0,
           0,
           0,
           0,
           0,
           0,
           0,
           0,
           0,
           0,
           0,
           0,
           0,
           0,
           0,
           0,
           0,
           0,
           0,
           0,
           0,
           0,
           0,
           0,
           0,
           0,
           0,
           0,
           0,
           0,
           0,
           0,
           0,
           0,
           0,
           0,
           0,
           0,
           0,
           0,
           0,
           0,
           0,
           0,
           0,
           0,
           0,
           0,
           0,
           0,
           0,
           0,
           0,
           0,
           0,
           0,
           0,
           0,
           0,
           0,
           0,
           0,
           0,
           0,
           0,
           0,
           0,
           0,
           0,
           0,
           0,
           0,
           0,
           0,
           0,
           0,
           0,
           0,
           0,
           0,
           0,
           0,
           0,
           0,
           0,
           0,
           0,
           0,
           0,
           0,
           0,
           0,
           0,
           0,
           0,
           0,
           0,
           0,
           0,
           0,
           0,
           0,
           0,
           0,
           0,
           0,
           0,
           0,
           0,
           0,
           0,
           0,
           0,
           0,
           0,
           0,
           0,
           0,
           0,
           0,
           0,
           0,
           0,
           0,
           0,
           0,
           0,
           0,
           0,
           0,
           0,
           0,
           0,
           0,
           0,
           0,
           0,
           0,
           0,
           0,
           0,
           0,
           0,
           0,
           0,
           0,
           0,
           0,
           0,
           0,
           0,
           0,
           0,
           0,
           0,
           0,
           0,
           0,
           0,
           0,
           0,
           0,
           0,
           0,
           0,
           0,
           0,
           0,
           0,
           0,
           0,
           0,
           0,
           0,
           0,
           0,
           0,
           0,
           0,
           0,
           0,
           0,
           0,
           0,
           0,
           0,
           0,
           0,
           0,
           0,
           0,
           0,
           0,
           0,
           0,
           0,
           0,
           0,
           0,
           0,
           0,
           0,
           0,
           0,
           0,
           0,
           0,
           0,
           0,
           0,
           0,
           0,
           0,
           0,
           0,
           0,
           0,
           0,
           0,
           0,
           0,
           0,
           0,
           0,
           0,
           0,
           0,
           0,
           0,
           0,
           0,
           0,
           0,
           0,
           0,
           0,
           0,
           0,
           0,
           0,
           0,
           0,
           0,
           0,
           0,
           0,
           0,
           0,
           0,
           0,
           0,
           0,
           0,
           0,
           0,
           0,
           0,
           0,
           0,
           0,
           0,
           0,
           0,
           0,
           0,
           0,
           0,
           0,
           0,
           0,
           0,
           0,
           0,
           0,
           0,
           0,
           0,
           0,
           0,
           0,
           1,
           1,
           1,
           1,
           1,
           1,
           1,
           1,
           1,
           1,
           1,
           1,
           1,
           1,
           1,
           1,
           1,
           1,
           1,
           1,
           1,
           1,
           1,
           1,
           1,
           1,
           1,
           1,
           1,
           1,
           1,
           1,
           1,
           1,
           1,
           1,
           1,
           1,
           1,
           1,
           1,
           1,
           1,
           1,
           1,
           1,
           1,
           1
          ],
          "line": {
           "color": "grey",
           "width": 1
          },
          "size": 5
         },
         "mode": "markers",
         "text": [
          0,
          1,
          0,
          0,
          0,
          0,
          0,
          0,
          0,
          0,
          0,
          0,
          0,
          0,
          0,
          0,
          0,
          0,
          0,
          0,
          0,
          0,
          0,
          0,
          0,
          0,
          0,
          0,
          0,
          0,
          0,
          0,
          0,
          0,
          0,
          0,
          0,
          0,
          0,
          0,
          0,
          0,
          0,
          0,
          0,
          0,
          0,
          0,
          0,
          0,
          0,
          0,
          0,
          0,
          0,
          0,
          0,
          0,
          0,
          0,
          0,
          0,
          0,
          0,
          0,
          0,
          0,
          0,
          0,
          0,
          0,
          0,
          0,
          0,
          0,
          0,
          0,
          0,
          0,
          0,
          0,
          0,
          0,
          0,
          0,
          0,
          0,
          0,
          0,
          0,
          0,
          0,
          0,
          0,
          0,
          0,
          0,
          0,
          0,
          0,
          0,
          0,
          0,
          0,
          0,
          0,
          0,
          0,
          0,
          0,
          0,
          0,
          0,
          0,
          0,
          0,
          0,
          0,
          0,
          0,
          0,
          0,
          0,
          0,
          0,
          0,
          0,
          0,
          0,
          0,
          0,
          0,
          0,
          0,
          0,
          0,
          0,
          0,
          0,
          0,
          0,
          0,
          0,
          0,
          0,
          0,
          0,
          0,
          0,
          0,
          0,
          0,
          0,
          0,
          0,
          0,
          0,
          0,
          0,
          0,
          0,
          0,
          0,
          0,
          0,
          0,
          0,
          0,
          0,
          0,
          0,
          0,
          0,
          0,
          0,
          0,
          0,
          0,
          0,
          0,
          0,
          0,
          0,
          0,
          0,
          0,
          0,
          0,
          0,
          0,
          0,
          0,
          0,
          0,
          0,
          0,
          0,
          0,
          0,
          0,
          0,
          0,
          0,
          0,
          0,
          0,
          0,
          0,
          0,
          0,
          0,
          0,
          0,
          0,
          0,
          0,
          0,
          0,
          0,
          0,
          0,
          0,
          0,
          0,
          0,
          0,
          0,
          0,
          0,
          0,
          0,
          0,
          0,
          0,
          0,
          0,
          0,
          0,
          0,
          0,
          0,
          0,
          0,
          0,
          0,
          0,
          0,
          0,
          0,
          0,
          0,
          0,
          0,
          0,
          0,
          0,
          0,
          0,
          0,
          0,
          0,
          0,
          0,
          0,
          0,
          0,
          0,
          0,
          0,
          0,
          0,
          0,
          0,
          0,
          0,
          0,
          0,
          0,
          0,
          0,
          0,
          0,
          0,
          0,
          0,
          0,
          0,
          0,
          0,
          0,
          0,
          0,
          0,
          0,
          0,
          0,
          0,
          0,
          0,
          0,
          0,
          0,
          0,
          0,
          0,
          0,
          0,
          0,
          0,
          0,
          0,
          0,
          0,
          0,
          0,
          0,
          0,
          0,
          0,
          0,
          0,
          0,
          0,
          0,
          0,
          0,
          0,
          0,
          0,
          0,
          0,
          0,
          0,
          0,
          0,
          0,
          0,
          0,
          0,
          0,
          0,
          0,
          0,
          0,
          0,
          0,
          0,
          0,
          0,
          0,
          0,
          0,
          0,
          0,
          0,
          0,
          0,
          0,
          0,
          0,
          0,
          0,
          0,
          0,
          0,
          0,
          0,
          0,
          0,
          0,
          0,
          0,
          0,
          0,
          0,
          0,
          0,
          0,
          0,
          0,
          0,
          0,
          0,
          0,
          0,
          0,
          0,
          0,
          0,
          0,
          0,
          0,
          0,
          0,
          0,
          0,
          0,
          0,
          0,
          0,
          0,
          0,
          0,
          0,
          0,
          0,
          0,
          0,
          0,
          0,
          0,
          0,
          0,
          0,
          0,
          0,
          0,
          0,
          0,
          0,
          0,
          0,
          0,
          0,
          0,
          0,
          0,
          0,
          0,
          0,
          0,
          0,
          0,
          0,
          0,
          0,
          0,
          0,
          0,
          0,
          0,
          0,
          0,
          0,
          0,
          0,
          0,
          0,
          0,
          0,
          1,
          1,
          1,
          1,
          1,
          1,
          1,
          1,
          1,
          1,
          1,
          1,
          1,
          1,
          1,
          1,
          1,
          1,
          1,
          1,
          1,
          1,
          1,
          1,
          1,
          1,
          1,
          1,
          1,
          1,
          1,
          1,
          1,
          1,
          1,
          1,
          1,
          1,
          1,
          1,
          1,
          1,
          1,
          1,
          1,
          1,
          1,
          1
         ],
         "type": "scatter",
         "x": [
          -34945.4155980041,
          -34945.736237871235,
          -32002.1281893847,
          -31491.324442671536,
          -28934.36179399906,
          -28934.3617939989,
          -34876.548739574384,
          -34340.45642420314,
          -27108.05919440217,
          -4508.338924465243,
          -17137.626908014587,
          -33655.68973877157,
          -13246.320699875849,
          -21992.341979961857,
          973.7475785907659,
          -24966.563637715048,
          -32459.058966708933,
          -34723.79689640927,
          -26240.429890692536,
          -34723.79707234686,
          -33677.876061629344,
          -34734.03374979627,
          -34406.46279061307,
          -32523.287634862358,
          -31783.038392632527,
          -34829.170374044144,
          -34897.36772496678,
          -27670.849126715184,
          105096.47397302839,
          271497.75712921115,
          -32158.554374177118,
          1467129.749836046,
          27935.9093569466,
          25739.215077557663,
          -31316.470665824425,
          -23120.275891983532,
          -33073.15455240318,
          -31684.917146267606,
          -26073.033648360222,
          -25275.413035796017,
          -29813.912396620908,
          -18582.47732156944,
          -19634.997717943617,
          7845.067413118478,
          7565.1183840321255,
          -9783.262205222192,
          -33673.56276367791,
          -31553.972279719634,
          -34863.96493794477,
          -11750.113849515466,
          98148.6301638849,
          -31946.437527654518,
          -10779.60756693457,
          -17947.173853123248,
          -33083.05514245765,
          -34074.00574029023,
          -27805.801775883767,
          -34796.622806730324,
          -27129.205162966824,
          -14732.174418679528,
          -22910.183424754392,
          -31753.50411582023,
          -31753.50411582023,
          -33869.687516322316,
          -34745.07521519222,
          -23092.925706487225,
          -29013.57311083792,
          310.39556736800387,
          -20243.139123509958,
          -23530.825269427893,
          131550.52808526705,
          -12777.169756347055,
          -33102.11315661168,
          13025.264941940814,
          -34178.46718858481,
          -31714.081855091415,
          -34072.27125746038,
          -33265.96672549906,
          -33189.61535682571,
          -25470.553799554007,
          -24503.672523403584,
          -34890.23476244503,
          -27010.37421059797,
          -34878.88315324226,
          -34109.39317517738,
          -33658.436874054736,
          -33783.10232756624,
          -34890.30261245788,
          -28174.871595713532,
          -34358.77001283017,
          -30168.07549411286,
          -34728.90517194724,
          -34367.80523992263,
          -25526.20795788777,
          -34824.17105437436,
          -20388.895835196436,
          -34878.88315324226,
          -34856.31507337169,
          -34829.97048929783,
          -32772.07733481667,
          -32520.423272082036,
          -32083.82303499601,
          250703.86913689575,
          -21855.100646139792,
          -25664.234511083283,
          24935.74241965787,
          -31315.91149164403,
          -31315.91157961282,
          -8995.179443135969,
          -34553.123176331836,
          -34836.59179175894,
          -34863.96446045696,
          94649.76808206082,
          273329.8526444093,
          -28481.44293269579,
          -31995.30221232642,
          -32424.80261097434,
          -32368.83617824059,
          163801.4795432175,
          91321.70916265037,
          -34158.148545070704,
          135424.68143932422,
          -34576.93130572042,
          -30606.443436431735,
          -29701.690431846004,
          -19900.186682317333,
          43453.06465057165,
          2490.466227670164,
          -34915.551971229084,
          -34915.551971229084,
          -21753.756804041783,
          -34915.551971229084,
          -34795.12753301031,
          -34698.65709870927,
          -34698.65787625828,
          -11794.337197814011,
          -22406.375437259197,
          -34897.36694741779,
          -28868.58705807377,
          227144.1916146243,
          -34901.549497484455,
          -32214.741762077476,
          -33999.808249387956,
          -30314.22075611001,
          -34788.64369390182,
          -33538.63073277477,
          -33538.63073277477,
          -25960.07342908152,
          -32089.135694792094,
          -22847.91138944661,
          -34784.11659749153,
          -33524.069554445654,
          23090.634573637082,
          -34929.22712176027,
          -34803.531727445574,
          -34576.93130572042,
          -34698.65709870927,
          65662.40180446878,
          92570.310829065,
          -34915.551971229084,
          -34915.551971229084,
          -6157.327996740802,
          -34934.68734871517,
          -34923.40872044995,
          -34897.36694741779,
          -34878.88345352964,
          -34789.10192515616,
          -30348.495565191515,
          -34082.426510081765,
          -22137.367122617263,
          -30170.90365586255,
          -33411.86068659089,
          -16636.568278783954,
          -34901.549497484455,
          -31166.353645688923,
          -31142.910647275057,
          -34305.38276732843,
          -34829.16959649512,
          -29260.683124065883,
          -34760.02970958336,
          -33686.928112487716,
          -34934.68734871517,
          -34686.534173121734,
          -34851.18878639394,
          -30092.73494719081,
          -22033.653391546588,
          -27522.027612167793,
          -18467.219890472206,
          115977.27912551741,
          -29254.049934015868,
          -13326.903849173095,
          -34860.75077530234,
          -30128.64130546619,
          -34901.28086604854,
          -33677.876061629344,
          -34734.03374979627,
          -34406.46279061307,
          -32523.287634862358,
          -31783.038392632527,
          -34829.170374044144,
          -34897.36772496678,
          -5773.379004175511,
          -34929.227031559836,
          -19601.591159748572,
          -34929.227031559836,
          -19601.591288855656,
          46857.41350444631,
          -34929.227031559836,
          -34929.227031559836,
          -27065.507330640554,
          -34915.55118096503,
          51984.211905877455,
          -22756.517585249727,
          -24879.143264758968,
          -25307.17443203444,
          -22968.918065024398,
          -34339.43712712851,
          -23185.045077433642,
          -32919.46068011757,
          -32919.46068011757,
          -34923.40828335778,
          -32646.288874089598,
          -29081.553741870106,
          -23130.668945484013,
          -34824.171564522534,
          12788.666583333199,
          -34312.40217600025,
          -34312.40217600025,
          -34312.40217600025,
          -34312.40217600025,
          -34312.40217600025,
          -34312.40217600025,
          -34312.40217600025,
          -33373.37344599182,
          -32451.291659655028,
          -28276.181136030616,
          -34251.23670315894,
          -34033.695519838,
          -33238.5739213176,
          -32783.722437001954,
          58658.51607499382,
          93764.50482540892,
          -33720.71760142519,
          -3788.4938440756655,
          -12749.565718746699,
          -30458.69772210572,
          -34471.89343316094,
          -34712.72387894131,
          -34705.96717917066,
          -33621.624386468255,
          -33978.055746018465,
          -25725.40200934173,
          -33201.62450214746,
          125844.77835629034,
          -18003.542464438877,
          387377.2785984839,
          68841.72829299033,
          -34603.414312300956,
          -34209.28479989353,
          -30745.433943909215,
          -17925.969107733512,
          -34126.77598930057,
          -31766.21438768672,
          -32663.309929468,
          -33209.52177079881,
          22827.76880448536,
          -33654.55538986426,
          -33686.864729644636,
          -30312.053889484683,
          -34608.002714118884,
          -31252.91770856309,
          -34923.409497998946,
          -34147.04282647641,
          281691.88185056526,
          142917.40192570258,
          -2699.5311191004616,
          39283.85859871665,
          -29820.394457705042,
          -33761.24651101378,
          -17452.13476612888,
          -30480.046181884438,
          -34929.227158141264,
          93899.8307339963,
          93899.8307339963,
          78297.96857482613,
          78297.96857482613,
          -20357.205155287294,
          -20357.205155287294,
          -19371.4628483399,
          -19371.4628483399,
          133198.62123411772,
          270767.10087487305,
          24935.742507626655,
          39107.81996921718,
          -1026.3789201058585,
          -21600.978597834397,
          -474.05061610469164,
          8699.433091593517,
          -30793.207518185045,
          -24129.93697263242,
          159594.30071155066,
          -34418.1536379757,
          29037.75898483913,
          -22735.40770026644,
          -31186.256541364517,
          -34907.21226383504,
          -31917.431222266827,
          -20033.654514042515,
          65158.309368820555,
          -10353.887582544852,
          -34910.34337760316,
          -24784.728328705856,
          -34426.20435114305,
          -31362.846982251,
          -34824.17153758824,
          -34818.293980271534,
          -34836.59127339292,
          -34836.59127339292,
          -32175.49957453003,
          -34472.21148575524,
          -33972.18677428953,
          -34602.83681329433,
          -34846.6050916236,
          -33599.87458154901,
          -33224.97671439242,
          -33132.78416877876,
          -34865.364028067765,
          -18147.07448897901,
          -34084.01870050762,
          -32913.63744713225,
          -34254.60050987752,
          -34335.2508718937,
          -32292.497943356506,
          28233.296135883065,
          -27022.205247182425,
          -34459.10842302311,
          -25412.305220372775,
          -34907.21144194726,
          -32947.931522388266,
          -32432.06370590208,
          -30966.209071138397,
          -21541.472836853784,
          -34816.54368318387,
          -11041.172401898797,
          -31297.277357223604,
          89591.95045553915,
          -23658.082279661834,
          -32927.03029474583,
          -34400.951835177184,
          -34122.0010683049,
          -16527.654444904245,
          -498.5268965649913,
          19691.55424932233,
          -23788.507785989248,
          2122123.7843476636,
          -20475.67458327803,
          -34322.4383333254,
          46045.465987722724,
          172932.26240477245,
          -29253.13241351182,
          -2482.36733971296,
          333140.660059684,
          -30247.5332946777,
          -31447.295182951057,
          -5468.69284712426,
          99759.12787552823,
          -28457.240434900887,
          -18264.223427091092,
          -15513.92844414715,
          -18317.632352944605,
          -1200.8432841197853,
          120754.6147921512,
          89221.46780943182,
          -34734.03055023896,
          -34287.49966041026,
          -34923.409410030166,
          -34922.1916654154,
          -31268.292807634858,
          -34734.03055023896,
          -34348.363356296904,
          -30565.62202049559,
          -34923.409410030166,
          -34922.1916654154,
          -34654.35685466223,
          -34708.93034019507,
          -32991.1101255644,
          -34513.187052142624,
          -34513.187052142624,
          -24848.6540319678,
          -34838.17496742539,
          -34515.407759464564,
          -34585.53989762134,
          -34236.74984222365,
          -34838.17496742539,
          -34515.407759464564,
          -34585.53989762134,
          -34236.74984222365,
          -34946.80198831519,
          -34946.80198831519,
          -34946.79953728579,
          -34923.40889069533,
          -34718.82788017094,
          -28671.59444228686,
          -34929.227031559836,
          -34767.67023390847,
          -34281.536172174056,
          -33229.2889016454,
          -33209.522551133516,
          -13102.749128229745,
          -30055.446853885966,
          -10854.144248651448,
          -34178.278242436994,
          -34204.777350992365,
          -33569.62144557832,
          -29763.17723172515,
          -29763.177060250873,
          -33194.74154037599,
          -30806.987856522766,
          -30966.743519636788,
          -28150.561042390633,
          -18428.294890379257,
          -30344.520858843447,
          -34030.617763449176,
          -26707.60348175174,
          -21835.730809913905,
          -27229.548354314145,
          -10588.960494665962,
          -22033.653391546588,
          -27522.027612167793,
          -18467.219890472206,
          -34423.58304095674,
          -34704.56653806029,
          -6205.851511295963,
          -34740.7994451415,
          126321.0002539987,
          -2677.74148326405,
          -31323.368698334067,
          -34898.44768628842,
          -33949.34280486984,
          -1377.3776970560887,
          -30717.958887358873,
          -34806.60942109095,
          -33677.876061629344,
          -34734.03374979627,
          -34406.46279061307,
          -32523.287634862358,
          -31783.038392632527,
          -34829.170374044144,
          -34897.36772496678,
          -32571.603877292808,
          -17064.733482120577,
          -27013.06941895864,
          -951.8730977042517,
          -29440.882078532297,
          -16638.82743365429,
          131483.5062067876,
          3750.49093690019,
          107856.10903588636,
          619660.6432067084,
          -33503.62305692787,
          -33503.62305692787,
          289841.3052896336,
          -26437.412261922313,
          157893.87305426702,
          -25083.35522465877,
          115639.01932474243,
          519534.88536742266,
          54029.843323616915,
          186408.6576019674,
          -18049.014578124985,
          3713.591842284619,
          -16654.136674356054,
          -66.70886872029827,
          -19322.089908899015,
          -33738.740087875216,
          8861.988058410287,
          -26054.703636231265,
          -29402.238931090753,
          16480.378417370142,
          -28197.469521500047,
          89180.61256598833,
          -22884.481568606574,
          48784.18810100525,
          -21859.9613823334,
          183939.66830047203,
          -34254.60050966053,
          -30697.994457230052,
          -32124.06335996878,
          -30063.12592872324,
          -31463.669453723687,
          -34426.203660488,
          -22231.16504854929,
          54645.290958878584,
          8921.701880686554,
          -23681.86349538219,
          106382.05443303322,
          -33965.92980254547,
          -25848.525425415322
         ],
         "y": [
          527.3517849662211,
          527.7686734978175,
          241.9179226698091,
          344.19985916174306,
          238.45231146163601,
          238.45231146163803,
          492.32820131720064,
          437.3407821979226,
          50.75263363809831,
          -526.8996334019586,
          -151.0793461199207,
          394.1924818357532,
          -23.067311096541637,
          181.74783516652485,
          -406.05166230534115,
          -33.1548890421832,
          275.97788375265054,
          472.9220183719429,
          -139.79477814374573,
          472.94242509342325,
          433.0546144313147,
          480.240390526735,
          419.18177706950166,
          378.3151072103419,
          341.17595454074075,
          488.63899359405013,
          508.4010441379653,
          227.79756317906126,
          -1301.9237218364176,
          -1715.985065921413,
          367.67860120298013,
          1790.3093124620905,
          -756.3125604863419,
          -1508.2007383350074,
          206.0804863502898,
          104.40209595387573,
          280.4335430124241,
          260.672878976666,
          -78.5310786469288,
          -65.0581174649074,
          192.66648746437153,
          -13.89215819428385,
          56.43031219819902,
          -95.53998432080881,
          -1039.6237369665935,
          -879.7274880644054,
          352.90309976021473,
          125.03252266339187,
          496.62403958124634,
          -873.4190527306961,
          -3405.193128564863,
          156.87415779630518,
          -513.9969390414218,
          -292.2188484863598,
          303.42053774555717,
          373.8030692429612,
          118.61468073545261,
          488.18241603695367,
          65.44431396514659,
          -317.8592077955657,
          -166.54361671154703,
          244.2266823310168,
          244.2266823310168,
          438.8277196508879,
          470.5403779316009,
          75.0933230456862,
          121.82543007205133,
          -418.33141108192865,
          -265.39751377630114,
          143.3122493495821,
          -802.1976864218014,
          -158.28796255209835,
          279.7335552758263,
          -1142.681787620156,
          406.6233168044714,
          194.64503088432195,
          389.9116571674921,
          366.4369227823444,
          348.48314828683453,
          98.45781395991615,
          24.49584655291161,
          499.0702775947363,
          107.62709575284387,
          500.6637135106434,
          397.3517007026938,
          351.9611934090899,
          394.8251411409944,
          505.3137627980228,
          77.14305297945181,
          433.172098331132,
          202.8179580414185,
          482.0247944443527,
          448.59769994608206,
          -132.32265132738817,
          493.09731448164126,
          53.560774344574234,
          500.6637135106434,
          497.82084336663956,
          494.9357766677591,
          257.57555980913787,
          255.67940492834154,
          256.61316585884555,
          -1465.2884415700341,
          26.434793252978007,
          -161.61948133618333,
          -134.9035737438646,
          308.94795458726094,
          308.95815794800114,
          -336.42315050329927,
          459.39355161597877,
          491.33352230170914,
          496.57322516425734,
          -765.5974768647945,
          -1778.5078937681913,
          33.00760204258818,
          238.80603503504096,
          265.04344285674296,
          249.1098405284897,
          -2472.61795425647,
          -1244.3788578107205,
          433.2317917343642,
          -2347.0596880672933,
          416.7361383524552,
          193.6505783194568,
          120.4610939496902,
          -177.71778050123905,
          -2100.16452102481,
          -1076.4821542481898,
          512.4311574374653,
          512.4311574374653,
          -238.8031192199669,
          512.4311574374653,
          450.4127249390209,
          433.8376035326378,
          433.9144939293318,
          -717.7198383857046,
          -205.30138909784316,
          508.32415374127123,
          297.8207822046599,
          -2206.171910392651,
          505.18041328433964,
          194.30335440007076,
          351.2480252811902,
          271.39981634351483,
          483.094281999006,
          386.8677248281331,
          386.8677248281331,
          -135.0319333939489,
          250.77089556033454,
          123.49052175203768,
          484.9666109514618,
          351.88741372512123,
          -600.1859285441465,
          516.3490080995387,
          464.2520329029066,
          416.7361383524552,
          433.8376035326378,
          -1145.0847692240459,
          -2795.1787009157606,
          512.4311574374653,
          512.4311574374653,
          -758.7096985164186,
          520.1465045375876,
          516.4707078317554,
          508.32415374127123,
          500.6935781909503,
          452.6607501181397,
          171.61934478230634,
          307.3133260573112,
          -270.6612027328086,
          210.60358789523644,
          395.3466196933991,
          -611.5186656098699,
          505.18041328433964,
          231.63200588858336,
          100.45668754566981,
          442.95567002645623,
          488.56210319735624,
          296.65537957559707,
          488.7444555365108,
          421.99347025674786,
          520.1465045375876,
          453.60871616466466,
          496.1681647078954,
          148.14203131109977,
          149.25666078083898,
          232.84375177694298,
          18.013393045691505,
          -491.23290989439107,
          211.05364651027392,
          -261.400046955606,
          499.49283647577,
          229.96838542041624,
          509.9099942061516,
          433.0546144313147,
          480.240390526735,
          419.18177706950166,
          378.3151072103419,
          341.17595454074075,
          488.63899359405013,
          508.4010441379653,
          -320.7152872425196,
          516.3371096824742,
          93.16519931828927,
          516.3371096824742,
          93.17743836384372,
          -1215.79484558414,
          516.3371096824742,
          516.3371096824742,
          84.6641914841489,
          512.3458577698686,
          -1037.7028379987096,
          -90.21082736604075,
          123.33220986153395,
          -47.95255793951151,
          -160.2194920652929,
          409.45325386505937,
          -119.76592756589368,
          337.58586147889383,
          337.58586147889383,
          516.4245657590599,
          278.64899744450065,
          52.721841621144534,
          -169.99183930890055,
          493.1413567245889,
          -786.3852504149557,
          429.2828040349414,
          429.2828040349414,
          429.2828040349414,
          429.2828040349414,
          429.2828040349414,
          429.2828040349414,
          429.2828040349414,
          410.13150371064324,
          341.3117866231016,
          103.84898441125097,
          427.6867614242321,
          423.92682170912684,
          354.81592692285267,
          399.67376388213313,
          -1913.4200270637064,
          -3710.0349368629745,
          317.7115586836611,
          -779.3716441681564,
          -164.7630386696855,
          92.84962140761264,
          437.8383535414766,
          477.0288856522295,
          475.6272645993796,
          374.29204412264886,
          390.46104342968823,
          144.29149571748928,
          374.65311321111193,
          -1023.5943589151884,
          -215.717133850212,
          -608.305426805421,
          -573.9273520169162,
          453.1418593438377,
          383.8502076415419,
          51.84664759837715,
          -8.207584393379339,
          418.62133542548537,
          291.0461329441195,
          306.03148718906897,
          324.5761151054924,
          -487.3684969070652,
          357.88729445364305,
          362.17431450770584,
          229.87450811604734,
          458.6751434175114,
          265.4418738449245,
          516.5475982284493,
          408.1594975374626,
          -896.7938553688366,
          -1243.4678269571884,
          -228.43288126389552,
          -1434.7953773208187,
          118.11342710020901,
          373.2116218723612,
          -14.118515080567848,
          230.0973873530924,
          516.3482626976248,
          -393.31117776000673,
          -393.31117776000673,
          -525.0355692728522,
          -525.0355692728522,
          53.80892670598309,
          53.80892670598309,
          13.137987768469413,
          13.137987768469413,
          168.36488635758542,
          675.4802999347577,
          -134.91377710460475,
          -589.8801652216449,
          -376.195757701936,
          58.4093424671761,
          -572.0743434309444,
          -778.9746706563994,
          207.52888610310302,
          154.1295611696049,
          -2596.481227373433,
          455.6208194026397,
          -1003.5077194950045,
          -98.7455144462155,
          194.8265764262356,
          508.212905227802,
          336.44906815531004,
          -92.73104416026129,
          -815.6595687454205,
          -354.0839806239895,
          509.630545932056,
          59.170347043239836,
          426.45445088959787,
          190.01076674418704,
          493.15206202648056,
          491.53622875517306,
          491.2822620372463,
          491.2822620372463,
          289.09428285078474,
          442.0973407345763,
          376.81456980710414,
          460.7265417363371,
          494.7264642188232,
          344.0346162263639,
          362.43221010443784,
          371.04073962723015,
          500.95205851993387,
          -192.2469247693735,
          393.37337793320074,
          246.0863801514594,
          408.56218677318117,
          429.43488554203054,
          405.3388078858602,
          -1074.111845402453,
          136.64316429786356,
          446.48216918501265,
          94.26963114403199,
          508.13113204884706,
          356.020031667416,
          364.10453045723534,
          332.1223741418526,
          -71.85413235498613,
          484.4377824169618,
          -234.2185347965653,
          197.71529728028605,
          -1811.5106821761292,
          -486.8878110159451,
          355.3768783753422,
          328.8980301269375,
          430.5835615728476,
          -176.65128805804997,
          -252.75166823680226,
          -524.3093014692324,
          86.77482042148009,
          7306.777883985037,
          -397.4329620855123,
          421.08487488690804,
          -1218.8778644565098,
          -1249.6257517811157,
          233.05435292995003,
          -422.2421729563664,
          -4067.2456358098516,
          59.79397600808291,
          292.14889162363926,
          -749.0339455729948,
          -1367.67445722987,
          161.40486178271016,
          -77.02405483415274,
          -116.37030869715139,
          -955.3179371632158,
          -786.8232432068453,
          -1351.571715883616,
          -1375.768212747851,
          479.91360830108823,
          425.4475214090393,
          516.5373948677092,
          511.3532801261224,
          311.41124355653864,
          479.91360830108823,
          422.33141700679954,
          253.34561124812404,
          516.5373948677092,
          511.3532801261224,
          464.037838557823,
          469.07652914398426,
          360.520966720183,
          445.70674392081224,
          445.70674392081224,
          -6.264083010033335,
          484.06499081837546,
          443.6781814011076,
          449.0093968460249,
          419.26606793355705,
          484.06499081837546,
          443.6781814011076,
          449.0093968460249,
          419.26606793355705,
          528.8564322642809,
          528.8564322642809,
          528.5921693843234,
          516.4849825621242,
          476.4493345370475,
          176.63636430900166,
          516.3371096824742,
          480.43289167490593,
          425.9701216883029,
          370.17777315376674,
          324.6556813699312,
          -82.9267657698438,
          296.80132713457215,
          -86.74018264284501,
          406.7949416773424,
          410.9841443570976,
          396.055774636338,
          78.8303858817924,
          78.81336927296049,
          299.6459001675353,
          185.82260148422398,
          181.29190553980064,
          58.171179768388264,
          -426.8811068525096,
          259.10986017017797,
          443.5117686263969,
          -134.06743471507667,
          17.67932180523357,
          -164.85951065020774,
          -538.259133220437,
          149.25666078083898,
          232.84375177694298,
          18.013393045691505,
          425.8296067182483,
          457.53251778329945,
          -128.64628058060904,
          455.13514828634646,
          -705.8964199737388,
          -347.6001206473167,
          175.99745556378514,
          503.64090714227694,
          362.6742950584218,
          -462.4535823969973,
          203.15594750114528,
          488.27016017732745,
          433.0546144313147,
          480.240390526735,
          419.18177706950166,
          378.3151072103419,
          341.17595454074075,
          488.63899359405013,
          508.4010441379653,
          319.68017624122876,
          -120.90946536868665,
          -41.62212063045489,
          -373.1087630898398,
          193.40440577122385,
          -281.3431762396268,
          -3934.414901911098,
          -819.8932176080284,
          -2953.5065669311207,
          -1415.3112762893804,
          378.64875837025784,
          378.64875837025784,
          -100.28392446248526,
          50.647027280777436,
          -1125.4980761806798,
          -126.1846861787635,
          -2952.655958554579,
          -6174.261176933682,
          -2358.655129215896,
          -1350.261191342323,
          -540.5408757666563,
          -386.3073429611899,
          -641.4103437479253,
          -146.47864099516372,
          -153.4543870292926,
          371.3855959621329,
          -1015.5389423845687,
          35.650407778699496,
          136.55999030703416,
          -1260.0030591321447,
          24.909501135101202,
          -738.4654412099168,
          -3.0777758863271005,
          -855.9475519544766,
          83.22324472897415,
          -455.89466192295254,
          408.5620960525231,
          122.7854048887294,
          252.6601908894053,
          130.9085043753658,
          226.16213586934632,
          426.36533865855193,
          -323.90344925212287,
          -2716.928291803264,
          -578.1269081632597,
          51.35253799390674,
          -1105.7194072191548,
          383.5806912677161,
          50.42117011091075
         ]
        }
       ],
       "layout": {
        "template": {
         "data": {
          "bar": [
           {
            "error_x": {
             "color": "#2a3f5f"
            },
            "error_y": {
             "color": "#2a3f5f"
            },
            "marker": {
             "line": {
              "color": "#E5ECF6",
              "width": 0.5
             }
            },
            "type": "bar"
           }
          ],
          "barpolar": [
           {
            "marker": {
             "line": {
              "color": "#E5ECF6",
              "width": 0.5
             }
            },
            "type": "barpolar"
           }
          ],
          "carpet": [
           {
            "aaxis": {
             "endlinecolor": "#2a3f5f",
             "gridcolor": "white",
             "linecolor": "white",
             "minorgridcolor": "white",
             "startlinecolor": "#2a3f5f"
            },
            "baxis": {
             "endlinecolor": "#2a3f5f",
             "gridcolor": "white",
             "linecolor": "white",
             "minorgridcolor": "white",
             "startlinecolor": "#2a3f5f"
            },
            "type": "carpet"
           }
          ],
          "choropleth": [
           {
            "colorbar": {
             "outlinewidth": 0,
             "ticks": ""
            },
            "type": "choropleth"
           }
          ],
          "contour": [
           {
            "colorbar": {
             "outlinewidth": 0,
             "ticks": ""
            },
            "colorscale": [
             [
              0,
              "#0d0887"
             ],
             [
              0.1111111111111111,
              "#46039f"
             ],
             [
              0.2222222222222222,
              "#7201a8"
             ],
             [
              0.3333333333333333,
              "#9c179e"
             ],
             [
              0.4444444444444444,
              "#bd3786"
             ],
             [
              0.5555555555555556,
              "#d8576b"
             ],
             [
              0.6666666666666666,
              "#ed7953"
             ],
             [
              0.7777777777777778,
              "#fb9f3a"
             ],
             [
              0.8888888888888888,
              "#fdca26"
             ],
             [
              1,
              "#f0f921"
             ]
            ],
            "type": "contour"
           }
          ],
          "contourcarpet": [
           {
            "colorbar": {
             "outlinewidth": 0,
             "ticks": ""
            },
            "type": "contourcarpet"
           }
          ],
          "heatmap": [
           {
            "colorbar": {
             "outlinewidth": 0,
             "ticks": ""
            },
            "colorscale": [
             [
              0,
              "#0d0887"
             ],
             [
              0.1111111111111111,
              "#46039f"
             ],
             [
              0.2222222222222222,
              "#7201a8"
             ],
             [
              0.3333333333333333,
              "#9c179e"
             ],
             [
              0.4444444444444444,
              "#bd3786"
             ],
             [
              0.5555555555555556,
              "#d8576b"
             ],
             [
              0.6666666666666666,
              "#ed7953"
             ],
             [
              0.7777777777777778,
              "#fb9f3a"
             ],
             [
              0.8888888888888888,
              "#fdca26"
             ],
             [
              1,
              "#f0f921"
             ]
            ],
            "type": "heatmap"
           }
          ],
          "heatmapgl": [
           {
            "colorbar": {
             "outlinewidth": 0,
             "ticks": ""
            },
            "colorscale": [
             [
              0,
              "#0d0887"
             ],
             [
              0.1111111111111111,
              "#46039f"
             ],
             [
              0.2222222222222222,
              "#7201a8"
             ],
             [
              0.3333333333333333,
              "#9c179e"
             ],
             [
              0.4444444444444444,
              "#bd3786"
             ],
             [
              0.5555555555555556,
              "#d8576b"
             ],
             [
              0.6666666666666666,
              "#ed7953"
             ],
             [
              0.7777777777777778,
              "#fb9f3a"
             ],
             [
              0.8888888888888888,
              "#fdca26"
             ],
             [
              1,
              "#f0f921"
             ]
            ],
            "type": "heatmapgl"
           }
          ],
          "histogram": [
           {
            "marker": {
             "colorbar": {
              "outlinewidth": 0,
              "ticks": ""
             }
            },
            "type": "histogram"
           }
          ],
          "histogram2d": [
           {
            "colorbar": {
             "outlinewidth": 0,
             "ticks": ""
            },
            "colorscale": [
             [
              0,
              "#0d0887"
             ],
             [
              0.1111111111111111,
              "#46039f"
             ],
             [
              0.2222222222222222,
              "#7201a8"
             ],
             [
              0.3333333333333333,
              "#9c179e"
             ],
             [
              0.4444444444444444,
              "#bd3786"
             ],
             [
              0.5555555555555556,
              "#d8576b"
             ],
             [
              0.6666666666666666,
              "#ed7953"
             ],
             [
              0.7777777777777778,
              "#fb9f3a"
             ],
             [
              0.8888888888888888,
              "#fdca26"
             ],
             [
              1,
              "#f0f921"
             ]
            ],
            "type": "histogram2d"
           }
          ],
          "histogram2dcontour": [
           {
            "colorbar": {
             "outlinewidth": 0,
             "ticks": ""
            },
            "colorscale": [
             [
              0,
              "#0d0887"
             ],
             [
              0.1111111111111111,
              "#46039f"
             ],
             [
              0.2222222222222222,
              "#7201a8"
             ],
             [
              0.3333333333333333,
              "#9c179e"
             ],
             [
              0.4444444444444444,
              "#bd3786"
             ],
             [
              0.5555555555555556,
              "#d8576b"
             ],
             [
              0.6666666666666666,
              "#ed7953"
             ],
             [
              0.7777777777777778,
              "#fb9f3a"
             ],
             [
              0.8888888888888888,
              "#fdca26"
             ],
             [
              1,
              "#f0f921"
             ]
            ],
            "type": "histogram2dcontour"
           }
          ],
          "mesh3d": [
           {
            "colorbar": {
             "outlinewidth": 0,
             "ticks": ""
            },
            "type": "mesh3d"
           }
          ],
          "parcoords": [
           {
            "line": {
             "colorbar": {
              "outlinewidth": 0,
              "ticks": ""
             }
            },
            "type": "parcoords"
           }
          ],
          "pie": [
           {
            "automargin": true,
            "type": "pie"
           }
          ],
          "scatter": [
           {
            "marker": {
             "colorbar": {
              "outlinewidth": 0,
              "ticks": ""
             }
            },
            "type": "scatter"
           }
          ],
          "scatter3d": [
           {
            "line": {
             "colorbar": {
              "outlinewidth": 0,
              "ticks": ""
             }
            },
            "marker": {
             "colorbar": {
              "outlinewidth": 0,
              "ticks": ""
             }
            },
            "type": "scatter3d"
           }
          ],
          "scattercarpet": [
           {
            "marker": {
             "colorbar": {
              "outlinewidth": 0,
              "ticks": ""
             }
            },
            "type": "scattercarpet"
           }
          ],
          "scattergeo": [
           {
            "marker": {
             "colorbar": {
              "outlinewidth": 0,
              "ticks": ""
             }
            },
            "type": "scattergeo"
           }
          ],
          "scattergl": [
           {
            "marker": {
             "colorbar": {
              "outlinewidth": 0,
              "ticks": ""
             }
            },
            "type": "scattergl"
           }
          ],
          "scattermapbox": [
           {
            "marker": {
             "colorbar": {
              "outlinewidth": 0,
              "ticks": ""
             }
            },
            "type": "scattermapbox"
           }
          ],
          "scatterpolar": [
           {
            "marker": {
             "colorbar": {
              "outlinewidth": 0,
              "ticks": ""
             }
            },
            "type": "scatterpolar"
           }
          ],
          "scatterpolargl": [
           {
            "marker": {
             "colorbar": {
              "outlinewidth": 0,
              "ticks": ""
             }
            },
            "type": "scatterpolargl"
           }
          ],
          "scatterternary": [
           {
            "marker": {
             "colorbar": {
              "outlinewidth": 0,
              "ticks": ""
             }
            },
            "type": "scatterternary"
           }
          ],
          "surface": [
           {
            "colorbar": {
             "outlinewidth": 0,
             "ticks": ""
            },
            "colorscale": [
             [
              0,
              "#0d0887"
             ],
             [
              0.1111111111111111,
              "#46039f"
             ],
             [
              0.2222222222222222,
              "#7201a8"
             ],
             [
              0.3333333333333333,
              "#9c179e"
             ],
             [
              0.4444444444444444,
              "#bd3786"
             ],
             [
              0.5555555555555556,
              "#d8576b"
             ],
             [
              0.6666666666666666,
              "#ed7953"
             ],
             [
              0.7777777777777778,
              "#fb9f3a"
             ],
             [
              0.8888888888888888,
              "#fdca26"
             ],
             [
              1,
              "#f0f921"
             ]
            ],
            "type": "surface"
           }
          ],
          "table": [
           {
            "cells": {
             "fill": {
              "color": "#EBF0F8"
             },
             "line": {
              "color": "white"
             }
            },
            "header": {
             "fill": {
              "color": "#C8D4E3"
             },
             "line": {
              "color": "white"
             }
            },
            "type": "table"
           }
          ]
         },
         "layout": {
          "annotationdefaults": {
           "arrowcolor": "#2a3f5f",
           "arrowhead": 0,
           "arrowwidth": 1
          },
          "autotypenumbers": "strict",
          "coloraxis": {
           "colorbar": {
            "outlinewidth": 0,
            "ticks": ""
           }
          },
          "colorscale": {
           "diverging": [
            [
             0,
             "#8e0152"
            ],
            [
             0.1,
             "#c51b7d"
            ],
            [
             0.2,
             "#de77ae"
            ],
            [
             0.3,
             "#f1b6da"
            ],
            [
             0.4,
             "#fde0ef"
            ],
            [
             0.5,
             "#f7f7f7"
            ],
            [
             0.6,
             "#e6f5d0"
            ],
            [
             0.7,
             "#b8e186"
            ],
            [
             0.8,
             "#7fbc41"
            ],
            [
             0.9,
             "#4d9221"
            ],
            [
             1,
             "#276419"
            ]
           ],
           "sequential": [
            [
             0,
             "#0d0887"
            ],
            [
             0.1111111111111111,
             "#46039f"
            ],
            [
             0.2222222222222222,
             "#7201a8"
            ],
            [
             0.3333333333333333,
             "#9c179e"
            ],
            [
             0.4444444444444444,
             "#bd3786"
            ],
            [
             0.5555555555555556,
             "#d8576b"
            ],
            [
             0.6666666666666666,
             "#ed7953"
            ],
            [
             0.7777777777777778,
             "#fb9f3a"
            ],
            [
             0.8888888888888888,
             "#fdca26"
            ],
            [
             1,
             "#f0f921"
            ]
           ],
           "sequentialminus": [
            [
             0,
             "#0d0887"
            ],
            [
             0.1111111111111111,
             "#46039f"
            ],
            [
             0.2222222222222222,
             "#7201a8"
            ],
            [
             0.3333333333333333,
             "#9c179e"
            ],
            [
             0.4444444444444444,
             "#bd3786"
            ],
            [
             0.5555555555555556,
             "#d8576b"
            ],
            [
             0.6666666666666666,
             "#ed7953"
            ],
            [
             0.7777777777777778,
             "#fb9f3a"
            ],
            [
             0.8888888888888888,
             "#fdca26"
            ],
            [
             1,
             "#f0f921"
            ]
           ]
          },
          "colorway": [
           "#636efa",
           "#EF553B",
           "#00cc96",
           "#ab63fa",
           "#FFA15A",
           "#19d3f3",
           "#FF6692",
           "#B6E880",
           "#FF97FF",
           "#FECB52"
          ],
          "font": {
           "color": "#2a3f5f"
          },
          "geo": {
           "bgcolor": "white",
           "lakecolor": "white",
           "landcolor": "#E5ECF6",
           "showlakes": true,
           "showland": true,
           "subunitcolor": "white"
          },
          "hoverlabel": {
           "align": "left"
          },
          "hovermode": "closest",
          "mapbox": {
           "style": "light"
          },
          "paper_bgcolor": "white",
          "plot_bgcolor": "#E5ECF6",
          "polar": {
           "angularaxis": {
            "gridcolor": "white",
            "linecolor": "white",
            "ticks": ""
           },
           "bgcolor": "#E5ECF6",
           "radialaxis": {
            "gridcolor": "white",
            "linecolor": "white",
            "ticks": ""
           }
          },
          "scene": {
           "xaxis": {
            "backgroundcolor": "#E5ECF6",
            "gridcolor": "white",
            "gridwidth": 2,
            "linecolor": "white",
            "showbackground": true,
            "ticks": "",
            "zerolinecolor": "white"
           },
           "yaxis": {
            "backgroundcolor": "#E5ECF6",
            "gridcolor": "white",
            "gridwidth": 2,
            "linecolor": "white",
            "showbackground": true,
            "ticks": "",
            "zerolinecolor": "white"
           },
           "zaxis": {
            "backgroundcolor": "#E5ECF6",
            "gridcolor": "white",
            "gridwidth": 2,
            "linecolor": "white",
            "showbackground": true,
            "ticks": "",
            "zerolinecolor": "white"
           }
          },
          "shapedefaults": {
           "line": {
            "color": "#2a3f5f"
           }
          },
          "ternary": {
           "aaxis": {
            "gridcolor": "white",
            "linecolor": "white",
            "ticks": ""
           },
           "baxis": {
            "gridcolor": "white",
            "linecolor": "white",
            "ticks": ""
           },
           "bgcolor": "#E5ECF6",
           "caxis": {
            "gridcolor": "white",
            "linecolor": "white",
            "ticks": ""
           }
          },
          "title": {
           "x": 0.05
          },
          "xaxis": {
           "automargin": true,
           "gridcolor": "white",
           "linecolor": "white",
           "ticks": "",
           "title": {
            "standoff": 15
           },
           "zerolinecolor": "white",
           "zerolinewidth": 2
          },
          "yaxis": {
           "automargin": true,
           "gridcolor": "white",
           "linecolor": "white",
           "ticks": "",
           "title": {
            "standoff": 15
           },
           "zerolinecolor": "white",
           "zerolinewidth": 2
          }
         }
        }
       }
      },
      "text/html": [
       "<div>                            <div id=\"60b2105a-991d-4f53-b112-9ea205ba295e\" class=\"plotly-graph-div\" style=\"height:525px; width:100%;\"></div>            <script type=\"text/javascript\">                require([\"plotly\"], function(Plotly) {                    window.PLOTLYENV=window.PLOTLYENV || {};                                    if (document.getElementById(\"60b2105a-991d-4f53-b112-9ea205ba295e\")) {                    Plotly.newPlot(                        \"60b2105a-991d-4f53-b112-9ea205ba295e\",                        [{\"marker\": {\"color\": [0, 1, 0, 0, 0, 0, 0, 0, 0, 0, 0, 0, 0, 0, 0, 0, 0, 0, 0, 0, 0, 0, 0, 0, 0, 0, 0, 0, 0, 0, 0, 0, 0, 0, 0, 0, 0, 0, 0, 0, 0, 0, 0, 0, 0, 0, 0, 0, 0, 0, 0, 0, 0, 0, 0, 0, 0, 0, 0, 0, 0, 0, 0, 0, 0, 0, 0, 0, 0, 0, 0, 0, 0, 0, 0, 0, 0, 0, 0, 0, 0, 0, 0, 0, 0, 0, 0, 0, 0, 0, 0, 0, 0, 0, 0, 0, 0, 0, 0, 0, 0, 0, 0, 0, 0, 0, 0, 0, 0, 0, 0, 0, 0, 0, 0, 0, 0, 0, 0, 0, 0, 0, 0, 0, 0, 0, 0, 0, 0, 0, 0, 0, 0, 0, 0, 0, 0, 0, 0, 0, 0, 0, 0, 0, 0, 0, 0, 0, 0, 0, 0, 0, 0, 0, 0, 0, 0, 0, 0, 0, 0, 0, 0, 0, 0, 0, 0, 0, 0, 0, 0, 0, 0, 0, 0, 0, 0, 0, 0, 0, 0, 0, 0, 0, 0, 0, 0, 0, 0, 0, 0, 0, 0, 0, 0, 0, 0, 0, 0, 0, 0, 0, 0, 0, 0, 0, 0, 0, 0, 0, 0, 0, 0, 0, 0, 0, 0, 0, 0, 0, 0, 0, 0, 0, 0, 0, 0, 0, 0, 0, 0, 0, 0, 0, 0, 0, 0, 0, 0, 0, 0, 0, 0, 0, 0, 0, 0, 0, 0, 0, 0, 0, 0, 0, 0, 0, 0, 0, 0, 0, 0, 0, 0, 0, 0, 0, 0, 0, 0, 0, 0, 0, 0, 0, 0, 0, 0, 0, 0, 0, 0, 0, 0, 0, 0, 0, 0, 0, 0, 0, 0, 0, 0, 0, 0, 0, 0, 0, 0, 0, 0, 0, 0, 0, 0, 0, 0, 0, 0, 0, 0, 0, 0, 0, 0, 0, 0, 0, 0, 0, 0, 0, 0, 0, 0, 0, 0, 0, 0, 0, 0, 0, 0, 0, 0, 0, 0, 0, 0, 0, 0, 0, 0, 0, 0, 0, 0, 0, 0, 0, 0, 0, 0, 0, 0, 0, 0, 0, 0, 0, 0, 0, 0, 0, 0, 0, 0, 0, 0, 0, 0, 0, 0, 0, 0, 0, 0, 0, 0, 0, 0, 0, 0, 0, 0, 0, 0, 0, 0, 0, 0, 0, 0, 0, 0, 0, 0, 0, 0, 0, 0, 0, 0, 0, 0, 0, 0, 0, 0, 0, 0, 0, 0, 0, 0, 0, 0, 0, 0, 0, 0, 0, 0, 0, 0, 0, 0, 0, 0, 0, 0, 0, 0, 0, 0, 0, 0, 0, 0, 0, 0, 0, 0, 0, 0, 0, 0, 0, 0, 0, 1, 1, 1, 1, 1, 1, 1, 1, 1, 1, 1, 1, 1, 1, 1, 1, 1, 1, 1, 1, 1, 1, 1, 1, 1, 1, 1, 1, 1, 1, 1, 1, 1, 1, 1, 1, 1, 1, 1, 1, 1, 1, 1, 1, 1, 1, 1, 1], \"line\": {\"color\": \"grey\", \"width\": 1}, \"size\": 5}, \"mode\": \"markers\", \"text\": [0.0, 1.0, 0.0, 0.0, 0.0, 0.0, 0.0, 0.0, 0.0, 0.0, 0.0, 0.0, 0.0, 0.0, 0.0, 0.0, 0.0, 0.0, 0.0, 0.0, 0.0, 0.0, 0.0, 0.0, 0.0, 0.0, 0.0, 0.0, 0.0, 0.0, 0.0, 0.0, 0.0, 0.0, 0.0, 0.0, 0.0, 0.0, 0.0, 0.0, 0.0, 0.0, 0.0, 0.0, 0.0, 0.0, 0.0, 0.0, 0.0, 0.0, 0.0, 0.0, 0.0, 0.0, 0.0, 0.0, 0.0, 0.0, 0.0, 0.0, 0.0, 0.0, 0.0, 0.0, 0.0, 0.0, 0.0, 0.0, 0.0, 0.0, 0.0, 0.0, 0.0, 0.0, 0.0, 0.0, 0.0, 0.0, 0.0, 0.0, 0.0, 0.0, 0.0, 0.0, 0.0, 0.0, 0.0, 0.0, 0.0, 0.0, 0.0, 0.0, 0.0, 0.0, 0.0, 0.0, 0.0, 0.0, 0.0, 0.0, 0.0, 0.0, 0.0, 0.0, 0.0, 0.0, 0.0, 0.0, 0.0, 0.0, 0.0, 0.0, 0.0, 0.0, 0.0, 0.0, 0.0, 0.0, 0.0, 0.0, 0.0, 0.0, 0.0, 0.0, 0.0, 0.0, 0.0, 0.0, 0.0, 0.0, 0.0, 0.0, 0.0, 0.0, 0.0, 0.0, 0.0, 0.0, 0.0, 0.0, 0.0, 0.0, 0.0, 0.0, 0.0, 0.0, 0.0, 0.0, 0.0, 0.0, 0.0, 0.0, 0.0, 0.0, 0.0, 0.0, 0.0, 0.0, 0.0, 0.0, 0.0, 0.0, 0.0, 0.0, 0.0, 0.0, 0.0, 0.0, 0.0, 0.0, 0.0, 0.0, 0.0, 0.0, 0.0, 0.0, 0.0, 0.0, 0.0, 0.0, 0.0, 0.0, 0.0, 0.0, 0.0, 0.0, 0.0, 0.0, 0.0, 0.0, 0.0, 0.0, 0.0, 0.0, 0.0, 0.0, 0.0, 0.0, 0.0, 0.0, 0.0, 0.0, 0.0, 0.0, 0.0, 0.0, 0.0, 0.0, 0.0, 0.0, 0.0, 0.0, 0.0, 0.0, 0.0, 0.0, 0.0, 0.0, 0.0, 0.0, 0.0, 0.0, 0.0, 0.0, 0.0, 0.0, 0.0, 0.0, 0.0, 0.0, 0.0, 0.0, 0.0, 0.0, 0.0, 0.0, 0.0, 0.0, 0.0, 0.0, 0.0, 0.0, 0.0, 0.0, 0.0, 0.0, 0.0, 0.0, 0.0, 0.0, 0.0, 0.0, 0.0, 0.0, 0.0, 0.0, 0.0, 0.0, 0.0, 0.0, 0.0, 0.0, 0.0, 0.0, 0.0, 0.0, 0.0, 0.0, 0.0, 0.0, 0.0, 0.0, 0.0, 0.0, 0.0, 0.0, 0.0, 0.0, 0.0, 0.0, 0.0, 0.0, 0.0, 0.0, 0.0, 0.0, 0.0, 0.0, 0.0, 0.0, 0.0, 0.0, 0.0, 0.0, 0.0, 0.0, 0.0, 0.0, 0.0, 0.0, 0.0, 0.0, 0.0, 0.0, 0.0, 0.0, 0.0, 0.0, 0.0, 0.0, 0.0, 0.0, 0.0, 0.0, 0.0, 0.0, 0.0, 0.0, 0.0, 0.0, 0.0, 0.0, 0.0, 0.0, 0.0, 0.0, 0.0, 0.0, 0.0, 0.0, 0.0, 0.0, 0.0, 0.0, 0.0, 0.0, 0.0, 0.0, 0.0, 0.0, 0.0, 0.0, 0.0, 0.0, 0.0, 0.0, 0.0, 0.0, 0.0, 0.0, 0.0, 0.0, 0.0, 0.0, 0.0, 0.0, 0.0, 0.0, 0.0, 0.0, 0.0, 0.0, 0.0, 0.0, 0.0, 0.0, 0.0, 0.0, 0.0, 0.0, 0.0, 0.0, 0.0, 0.0, 0.0, 0.0, 0.0, 0.0, 0.0, 0.0, 0.0, 0.0, 0.0, 0.0, 0.0, 0.0, 0.0, 0.0, 0.0, 0.0, 0.0, 0.0, 0.0, 0.0, 0.0, 0.0, 0.0, 0.0, 0.0, 0.0, 0.0, 0.0, 0.0, 0.0, 0.0, 0.0, 0.0, 0.0, 0.0, 0.0, 0.0, 0.0, 0.0, 0.0, 0.0, 0.0, 0.0, 0.0, 0.0, 0.0, 0.0, 0.0, 0.0, 0.0, 0.0, 0.0, 0.0, 0.0, 0.0, 0.0, 0.0, 0.0, 0.0, 0.0, 0.0, 0.0, 0.0, 0.0, 0.0, 0.0, 0.0, 0.0, 0.0, 0.0, 0.0, 0.0, 0.0, 0.0, 0.0, 0.0, 1.0, 1.0, 1.0, 1.0, 1.0, 1.0, 1.0, 1.0, 1.0, 1.0, 1.0, 1.0, 1.0, 1.0, 1.0, 1.0, 1.0, 1.0, 1.0, 1.0, 1.0, 1.0, 1.0, 1.0, 1.0, 1.0, 1.0, 1.0, 1.0, 1.0, 1.0, 1.0, 1.0, 1.0, 1.0, 1.0, 1.0, 1.0, 1.0, 1.0, 1.0, 1.0, 1.0, 1.0, 1.0, 1.0, 1.0, 1.0], \"type\": \"scatter\", \"x\": [-34945.4155980041, -34945.736237871235, -32002.1281893847, -31491.324442671536, -28934.36179399906, -28934.3617939989, -34876.548739574384, -34340.45642420314, -27108.05919440217, -4508.338924465243, -17137.626908014587, -33655.68973877157, -13246.320699875849, -21992.341979961857, 973.7475785907659, -24966.563637715048, -32459.058966708933, -34723.79689640927, -26240.429890692536, -34723.79707234686, -33677.876061629344, -34734.03374979627, -34406.46279061307, -32523.287634862358, -31783.038392632527, -34829.170374044144, -34897.36772496678, -27670.849126715184, 105096.47397302839, 271497.75712921115, -32158.554374177118, 1467129.749836046, 27935.9093569466, 25739.215077557663, -31316.470665824425, -23120.275891983532, -33073.15455240318, -31684.917146267606, -26073.033648360222, -25275.413035796017, -29813.912396620908, -18582.47732156944, -19634.997717943617, 7845.067413118478, 7565.1183840321255, -9783.262205222192, -33673.56276367791, -31553.972279719634, -34863.96493794477, -11750.113849515466, 98148.6301638849, -31946.437527654518, -10779.60756693457, -17947.173853123248, -33083.05514245765, -34074.00574029023, -27805.801775883767, -34796.622806730324, -27129.205162966824, -14732.174418679528, -22910.183424754392, -31753.50411582023, -31753.50411582023, -33869.687516322316, -34745.07521519222, -23092.925706487225, -29013.57311083792, 310.39556736800387, -20243.139123509958, -23530.825269427893, 131550.52808526705, -12777.169756347055, -33102.11315661168, 13025.264941940814, -34178.46718858481, -31714.081855091415, -34072.27125746038, -33265.96672549906, -33189.61535682571, -25470.553799554007, -24503.672523403584, -34890.23476244503, -27010.37421059797, -34878.88315324226, -34109.39317517738, -33658.436874054736, -33783.10232756624, -34890.30261245788, -28174.871595713532, -34358.77001283017, -30168.07549411286, -34728.90517194724, -34367.80523992263, -25526.20795788777, -34824.17105437436, -20388.895835196436, -34878.88315324226, -34856.31507337169, -34829.97048929783, -32772.07733481667, -32520.423272082036, -32083.82303499601, 250703.86913689575, -21855.100646139792, -25664.234511083283, 24935.74241965787, -31315.91149164403, -31315.91157961282, -8995.179443135969, -34553.123176331836, -34836.59179175894, -34863.96446045696, 94649.76808206082, 273329.8526444093, -28481.44293269579, -31995.30221232642, -32424.80261097434, -32368.83617824059, 163801.4795432175, 91321.70916265037, -34158.148545070704, 135424.68143932422, -34576.93130572042, -30606.443436431735, -29701.690431846004, -19900.186682317333, 43453.06465057165, 2490.466227670164, -34915.551971229084, -34915.551971229084, -21753.756804041783, -34915.551971229084, -34795.12753301031, -34698.65709870927, -34698.65787625828, -11794.337197814011, -22406.375437259197, -34897.36694741779, -28868.58705807377, 227144.1916146243, -34901.549497484455, -32214.741762077476, -33999.808249387956, -30314.22075611001, -34788.64369390182, -33538.63073277477, -33538.63073277477, -25960.07342908152, -32089.135694792094, -22847.91138944661, -34784.11659749153, -33524.069554445654, 23090.634573637082, -34929.22712176027, -34803.531727445574, -34576.93130572042, -34698.65709870927, 65662.40180446878, 92570.310829065, -34915.551971229084, -34915.551971229084, -6157.327996740802, -34934.68734871517, -34923.40872044995, -34897.36694741779, -34878.88345352964, -34789.10192515616, -30348.495565191515, -34082.426510081765, -22137.367122617263, -30170.90365586255, -33411.86068659089, -16636.568278783954, -34901.549497484455, -31166.353645688923, -31142.910647275057, -34305.38276732843, -34829.16959649512, -29260.683124065883, -34760.02970958336, -33686.928112487716, -34934.68734871517, -34686.534173121734, -34851.18878639394, -30092.73494719081, -22033.653391546588, -27522.027612167793, -18467.219890472206, 115977.27912551741, -29254.049934015868, -13326.903849173095, -34860.75077530234, -30128.64130546619, -34901.28086604854, -33677.876061629344, -34734.03374979627, -34406.46279061307, -32523.287634862358, -31783.038392632527, -34829.170374044144, -34897.36772496678, -5773.379004175511, -34929.227031559836, -19601.591159748572, -34929.227031559836, -19601.591288855656, 46857.41350444631, -34929.227031559836, -34929.227031559836, -27065.507330640554, -34915.55118096503, 51984.211905877455, -22756.517585249727, -24879.143264758968, -25307.17443203444, -22968.918065024398, -34339.43712712851, -23185.045077433642, -32919.46068011757, -32919.46068011757, -34923.40828335778, -32646.288874089598, -29081.553741870106, -23130.668945484013, -34824.171564522534, 12788.666583333199, -34312.40217600025, -34312.40217600025, -34312.40217600025, -34312.40217600025, -34312.40217600025, -34312.40217600025, -34312.40217600025, -33373.37344599182, -32451.291659655028, -28276.181136030616, -34251.23670315894, -34033.695519838, -33238.5739213176, -32783.722437001954, 58658.51607499382, 93764.50482540892, -33720.71760142519, -3788.4938440756655, -12749.565718746699, -30458.69772210572, -34471.89343316094, -34712.72387894131, -34705.96717917066, -33621.624386468255, -33978.055746018465, -25725.40200934173, -33201.62450214746, 125844.77835629034, -18003.542464438877, 387377.2785984839, 68841.72829299033, -34603.414312300956, -34209.28479989353, -30745.433943909215, -17925.969107733512, -34126.77598930057, -31766.21438768672, -32663.309929468, -33209.52177079881, 22827.76880448536, -33654.55538986426, -33686.864729644636, -30312.053889484683, -34608.002714118884, -31252.91770856309, -34923.409497998946, -34147.04282647641, 281691.88185056526, 142917.40192570258, -2699.5311191004616, 39283.85859871665, -29820.394457705042, -33761.24651101378, -17452.13476612888, -30480.046181884438, -34929.227158141264, 93899.8307339963, 93899.8307339963, 78297.96857482613, 78297.96857482613, -20357.205155287294, -20357.205155287294, -19371.4628483399, -19371.4628483399, 133198.62123411772, 270767.10087487305, 24935.742507626655, 39107.81996921718, -1026.3789201058585, -21600.978597834397, -474.05061610469164, 8699.433091593517, -30793.207518185045, -24129.93697263242, 159594.30071155066, -34418.1536379757, 29037.75898483913, -22735.40770026644, -31186.256541364517, -34907.21226383504, -31917.431222266827, -20033.654514042515, 65158.309368820555, -10353.887582544852, -34910.34337760316, -24784.728328705856, -34426.20435114305, -31362.846982251, -34824.17153758824, -34818.293980271534, -34836.59127339292, -34836.59127339292, -32175.49957453003, -34472.21148575524, -33972.18677428953, -34602.83681329433, -34846.6050916236, -33599.87458154901, -33224.97671439242, -33132.78416877876, -34865.364028067765, -18147.07448897901, -34084.01870050762, -32913.63744713225, -34254.60050987752, -34335.2508718937, -32292.497943356506, 28233.296135883065, -27022.205247182425, -34459.10842302311, -25412.305220372775, -34907.21144194726, -32947.931522388266, -32432.06370590208, -30966.209071138397, -21541.472836853784, -34816.54368318387, -11041.172401898797, -31297.277357223604, 89591.95045553915, -23658.082279661834, -32927.03029474583, -34400.951835177184, -34122.0010683049, -16527.654444904245, -498.5268965649913, 19691.55424932233, -23788.507785989248, 2122123.7843476636, -20475.67458327803, -34322.4383333254, 46045.465987722724, 172932.26240477245, -29253.13241351182, -2482.36733971296, 333140.660059684, -30247.5332946777, -31447.295182951057, -5468.69284712426, 99759.12787552823, -28457.240434900887, -18264.223427091092, -15513.92844414715, -18317.632352944605, -1200.8432841197853, 120754.6147921512, 89221.46780943182, -34734.03055023896, -34287.49966041026, -34923.409410030166, -34922.1916654154, -31268.292807634858, -34734.03055023896, -34348.363356296904, -30565.62202049559, -34923.409410030166, -34922.1916654154, -34654.35685466223, -34708.93034019507, -32991.1101255644, -34513.187052142624, -34513.187052142624, -24848.6540319678, -34838.17496742539, -34515.407759464564, -34585.53989762134, -34236.74984222365, -34838.17496742539, -34515.407759464564, -34585.53989762134, -34236.74984222365, -34946.80198831519, -34946.80198831519, -34946.79953728579, -34923.40889069533, -34718.82788017094, -28671.59444228686, -34929.227031559836, -34767.67023390847, -34281.536172174056, -33229.2889016454, -33209.522551133516, -13102.749128229745, -30055.446853885966, -10854.144248651448, -34178.278242436994, -34204.777350992365, -33569.62144557832, -29763.17723172515, -29763.177060250873, -33194.74154037599, -30806.987856522766, -30966.743519636788, -28150.561042390633, -18428.294890379257, -30344.520858843447, -34030.617763449176, -26707.60348175174, -21835.730809913905, -27229.548354314145, -10588.960494665962, -22033.653391546588, -27522.027612167793, -18467.219890472206, -34423.58304095674, -34704.56653806029, -6205.851511295963, -34740.7994451415, 126321.0002539987, -2677.74148326405, -31323.368698334067, -34898.44768628842, -33949.34280486984, -1377.3776970560887, -30717.958887358873, -34806.60942109095, -33677.876061629344, -34734.03374979627, -34406.46279061307, -32523.287634862358, -31783.038392632527, -34829.170374044144, -34897.36772496678, -32571.603877292808, -17064.733482120577, -27013.06941895864, -951.8730977042517, -29440.882078532297, -16638.82743365429, 131483.5062067876, 3750.49093690019, 107856.10903588636, 619660.6432067084, -33503.62305692787, -33503.62305692787, 289841.3052896336, -26437.412261922313, 157893.87305426702, -25083.35522465877, 115639.01932474243, 519534.88536742266, 54029.843323616915, 186408.6576019674, -18049.014578124985, 3713.591842284619, -16654.136674356054, -66.70886872029827, -19322.089908899015, -33738.740087875216, 8861.988058410287, -26054.703636231265, -29402.238931090753, 16480.378417370142, -28197.469521500047, 89180.61256598833, -22884.481568606574, 48784.18810100525, -21859.9613823334, 183939.66830047203, -34254.60050966053, -30697.994457230052, -32124.06335996878, -30063.12592872324, -31463.669453723687, -34426.203660488, -22231.16504854929, 54645.290958878584, 8921.701880686554, -23681.86349538219, 106382.05443303322, -33965.92980254547, -25848.525425415322], \"y\": [527.3517849662211, 527.7686734978175, 241.9179226698091, 344.19985916174306, 238.45231146163601, 238.45231146163803, 492.32820131720064, 437.3407821979226, 50.75263363809831, -526.8996334019586, -151.0793461199207, 394.1924818357532, -23.067311096541637, 181.74783516652485, -406.05166230534115, -33.1548890421832, 275.97788375265054, 472.9220183719429, -139.79477814374573, 472.94242509342325, 433.0546144313147, 480.240390526735, 419.18177706950166, 378.3151072103419, 341.17595454074075, 488.63899359405013, 508.4010441379653, 227.79756317906126, -1301.9237218364176, -1715.985065921413, 367.67860120298013, 1790.3093124620905, -756.3125604863419, -1508.2007383350074, 206.0804863502898, 104.40209595387573, 280.4335430124241, 260.672878976666, -78.5310786469288, -65.0581174649074, 192.66648746437153, -13.89215819428385, 56.43031219819902, -95.53998432080881, -1039.6237369665935, -879.7274880644054, 352.90309976021473, 125.03252266339187, 496.62403958124634, -873.4190527306961, -3405.193128564863, 156.87415779630518, -513.9969390414218, -292.2188484863598, 303.42053774555717, 373.8030692429612, 118.61468073545261, 488.18241603695367, 65.44431396514659, -317.8592077955657, -166.54361671154703, 244.2266823310168, 244.2266823310168, 438.8277196508879, 470.5403779316009, 75.0933230456862, 121.82543007205133, -418.33141108192865, -265.39751377630114, 143.3122493495821, -802.1976864218014, -158.28796255209835, 279.7335552758263, -1142.681787620156, 406.6233168044714, 194.64503088432195, 389.9116571674921, 366.4369227823444, 348.48314828683453, 98.45781395991615, 24.49584655291161, 499.0702775947363, 107.62709575284387, 500.6637135106434, 397.3517007026938, 351.9611934090899, 394.8251411409944, 505.3137627980228, 77.14305297945181, 433.172098331132, 202.8179580414185, 482.0247944443527, 448.59769994608206, -132.32265132738817, 493.09731448164126, 53.560774344574234, 500.6637135106434, 497.82084336663956, 494.9357766677591, 257.57555980913787, 255.67940492834154, 256.61316585884555, -1465.2884415700341, 26.434793252978007, -161.61948133618333, -134.9035737438646, 308.94795458726094, 308.95815794800114, -336.42315050329927, 459.39355161597877, 491.33352230170914, 496.57322516425734, -765.5974768647945, -1778.5078937681913, 33.00760204258818, 238.80603503504096, 265.04344285674296, 249.1098405284897, -2472.61795425647, -1244.3788578107205, 433.2317917343642, -2347.0596880672933, 416.7361383524552, 193.6505783194568, 120.4610939496902, -177.71778050123905, -2100.16452102481, -1076.4821542481898, 512.4311574374653, 512.4311574374653, -238.8031192199669, 512.4311574374653, 450.4127249390209, 433.8376035326378, 433.9144939293318, -717.7198383857046, -205.30138909784316, 508.32415374127123, 297.8207822046599, -2206.171910392651, 505.18041328433964, 194.30335440007076, 351.2480252811902, 271.39981634351483, 483.094281999006, 386.8677248281331, 386.8677248281331, -135.0319333939489, 250.77089556033454, 123.49052175203768, 484.9666109514618, 351.88741372512123, -600.1859285441465, 516.3490080995387, 464.2520329029066, 416.7361383524552, 433.8376035326378, -1145.0847692240459, -2795.1787009157606, 512.4311574374653, 512.4311574374653, -758.7096985164186, 520.1465045375876, 516.4707078317554, 508.32415374127123, 500.6935781909503, 452.6607501181397, 171.61934478230634, 307.3133260573112, -270.6612027328086, 210.60358789523644, 395.3466196933991, -611.5186656098699, 505.18041328433964, 231.63200588858336, 100.45668754566981, 442.95567002645623, 488.56210319735624, 296.65537957559707, 488.7444555365108, 421.99347025674786, 520.1465045375876, 453.60871616466466, 496.1681647078954, 148.14203131109977, 149.25666078083898, 232.84375177694298, 18.013393045691505, -491.23290989439107, 211.05364651027392, -261.400046955606, 499.49283647577, 229.96838542041624, 509.9099942061516, 433.0546144313147, 480.240390526735, 419.18177706950166, 378.3151072103419, 341.17595454074075, 488.63899359405013, 508.4010441379653, -320.7152872425196, 516.3371096824742, 93.16519931828927, 516.3371096824742, 93.17743836384372, -1215.79484558414, 516.3371096824742, 516.3371096824742, 84.6641914841489, 512.3458577698686, -1037.7028379987096, -90.21082736604075, 123.33220986153395, -47.95255793951151, -160.2194920652929, 409.45325386505937, -119.76592756589368, 337.58586147889383, 337.58586147889383, 516.4245657590599, 278.64899744450065, 52.721841621144534, -169.99183930890055, 493.1413567245889, -786.3852504149557, 429.2828040349414, 429.2828040349414, 429.2828040349414, 429.2828040349414, 429.2828040349414, 429.2828040349414, 429.2828040349414, 410.13150371064324, 341.3117866231016, 103.84898441125097, 427.6867614242321, 423.92682170912684, 354.81592692285267, 399.67376388213313, -1913.4200270637064, -3710.0349368629745, 317.7115586836611, -779.3716441681564, -164.7630386696855, 92.84962140761264, 437.8383535414766, 477.0288856522295, 475.6272645993796, 374.29204412264886, 390.46104342968823, 144.29149571748928, 374.65311321111193, -1023.5943589151884, -215.717133850212, -608.305426805421, -573.9273520169162, 453.1418593438377, 383.8502076415419, 51.84664759837715, -8.207584393379339, 418.62133542548537, 291.0461329441195, 306.03148718906897, 324.5761151054924, -487.3684969070652, 357.88729445364305, 362.17431450770584, 229.87450811604734, 458.6751434175114, 265.4418738449245, 516.5475982284493, 408.1594975374626, -896.7938553688366, -1243.4678269571884, -228.43288126389552, -1434.7953773208187, 118.11342710020901, 373.2116218723612, -14.118515080567848, 230.0973873530924, 516.3482626976248, -393.31117776000673, -393.31117776000673, -525.0355692728522, -525.0355692728522, 53.80892670598309, 53.80892670598309, 13.137987768469413, 13.137987768469413, 168.36488635758542, 675.4802999347577, -134.91377710460475, -589.8801652216449, -376.195757701936, 58.4093424671761, -572.0743434309444, -778.9746706563994, 207.52888610310302, 154.1295611696049, -2596.481227373433, 455.6208194026397, -1003.5077194950045, -98.7455144462155, 194.8265764262356, 508.212905227802, 336.44906815531004, -92.73104416026129, -815.6595687454205, -354.0839806239895, 509.630545932056, 59.170347043239836, 426.45445088959787, 190.01076674418704, 493.15206202648056, 491.53622875517306, 491.2822620372463, 491.2822620372463, 289.09428285078474, 442.0973407345763, 376.81456980710414, 460.7265417363371, 494.7264642188232, 344.0346162263639, 362.43221010443784, 371.04073962723015, 500.95205851993387, -192.2469247693735, 393.37337793320074, 246.0863801514594, 408.56218677318117, 429.43488554203054, 405.3388078858602, -1074.111845402453, 136.64316429786356, 446.48216918501265, 94.26963114403199, 508.13113204884706, 356.020031667416, 364.10453045723534, 332.1223741418526, -71.85413235498613, 484.4377824169618, -234.2185347965653, 197.71529728028605, -1811.5106821761292, -486.8878110159451, 355.3768783753422, 328.8980301269375, 430.5835615728476, -176.65128805804997, -252.75166823680226, -524.3093014692324, 86.77482042148009, 7306.777883985037, -397.4329620855123, 421.08487488690804, -1218.8778644565098, -1249.6257517811157, 233.05435292995003, -422.2421729563664, -4067.2456358098516, 59.79397600808291, 292.14889162363926, -749.0339455729948, -1367.67445722987, 161.40486178271016, -77.02405483415274, -116.37030869715139, -955.3179371632158, -786.8232432068453, -1351.571715883616, -1375.768212747851, 479.91360830108823, 425.4475214090393, 516.5373948677092, 511.3532801261224, 311.41124355653864, 479.91360830108823, 422.33141700679954, 253.34561124812404, 516.5373948677092, 511.3532801261224, 464.037838557823, 469.07652914398426, 360.520966720183, 445.70674392081224, 445.70674392081224, -6.264083010033335, 484.06499081837546, 443.6781814011076, 449.0093968460249, 419.26606793355705, 484.06499081837546, 443.6781814011076, 449.0093968460249, 419.26606793355705, 528.8564322642809, 528.8564322642809, 528.5921693843234, 516.4849825621242, 476.4493345370475, 176.63636430900166, 516.3371096824742, 480.43289167490593, 425.9701216883029, 370.17777315376674, 324.6556813699312, -82.9267657698438, 296.80132713457215, -86.74018264284501, 406.7949416773424, 410.9841443570976, 396.055774636338, 78.8303858817924, 78.81336927296049, 299.6459001675353, 185.82260148422398, 181.29190553980064, 58.171179768388264, -426.8811068525096, 259.10986017017797, 443.5117686263969, -134.06743471507667, 17.67932180523357, -164.85951065020774, -538.259133220437, 149.25666078083898, 232.84375177694298, 18.013393045691505, 425.8296067182483, 457.53251778329945, -128.64628058060904, 455.13514828634646, -705.8964199737388, -347.6001206473167, 175.99745556378514, 503.64090714227694, 362.6742950584218, -462.4535823969973, 203.15594750114528, 488.27016017732745, 433.0546144313147, 480.240390526735, 419.18177706950166, 378.3151072103419, 341.17595454074075, 488.63899359405013, 508.4010441379653, 319.68017624122876, -120.90946536868665, -41.62212063045489, -373.1087630898398, 193.40440577122385, -281.3431762396268, -3934.414901911098, -819.8932176080284, -2953.5065669311207, -1415.3112762893804, 378.64875837025784, 378.64875837025784, -100.28392446248526, 50.647027280777436, -1125.4980761806798, -126.1846861787635, -2952.655958554579, -6174.261176933682, -2358.655129215896, -1350.261191342323, -540.5408757666563, -386.3073429611899, -641.4103437479253, -146.47864099516372, -153.4543870292926, 371.3855959621329, -1015.5389423845687, 35.650407778699496, 136.55999030703416, -1260.0030591321447, 24.909501135101202, -738.4654412099168, -3.0777758863271005, -855.9475519544766, 83.22324472897415, -455.89466192295254, 408.5620960525231, 122.7854048887294, 252.6601908894053, 130.9085043753658, 226.16213586934632, 426.36533865855193, -323.90344925212287, -2716.928291803264, -578.1269081632597, 51.35253799390674, -1105.7194072191548, 383.5806912677161, 50.42117011091075]}],                        {\"template\": {\"data\": {\"bar\": [{\"error_x\": {\"color\": \"#2a3f5f\"}, \"error_y\": {\"color\": \"#2a3f5f\"}, \"marker\": {\"line\": {\"color\": \"#E5ECF6\", \"width\": 0.5}}, \"type\": \"bar\"}], \"barpolar\": [{\"marker\": {\"line\": {\"color\": \"#E5ECF6\", \"width\": 0.5}}, \"type\": \"barpolar\"}], \"carpet\": [{\"aaxis\": {\"endlinecolor\": \"#2a3f5f\", \"gridcolor\": \"white\", \"linecolor\": \"white\", \"minorgridcolor\": \"white\", \"startlinecolor\": \"#2a3f5f\"}, \"baxis\": {\"endlinecolor\": \"#2a3f5f\", \"gridcolor\": \"white\", \"linecolor\": \"white\", \"minorgridcolor\": \"white\", \"startlinecolor\": \"#2a3f5f\"}, \"type\": \"carpet\"}], \"choropleth\": [{\"colorbar\": {\"outlinewidth\": 0, \"ticks\": \"\"}, \"type\": \"choropleth\"}], \"contour\": [{\"colorbar\": {\"outlinewidth\": 0, \"ticks\": \"\"}, \"colorscale\": [[0.0, \"#0d0887\"], [0.1111111111111111, \"#46039f\"], [0.2222222222222222, \"#7201a8\"], [0.3333333333333333, \"#9c179e\"], [0.4444444444444444, \"#bd3786\"], [0.5555555555555556, \"#d8576b\"], [0.6666666666666666, \"#ed7953\"], [0.7777777777777778, \"#fb9f3a\"], [0.8888888888888888, \"#fdca26\"], [1.0, \"#f0f921\"]], \"type\": \"contour\"}], \"contourcarpet\": [{\"colorbar\": {\"outlinewidth\": 0, \"ticks\": \"\"}, \"type\": \"contourcarpet\"}], \"heatmap\": [{\"colorbar\": {\"outlinewidth\": 0, \"ticks\": \"\"}, \"colorscale\": [[0.0, \"#0d0887\"], [0.1111111111111111, \"#46039f\"], [0.2222222222222222, \"#7201a8\"], [0.3333333333333333, \"#9c179e\"], [0.4444444444444444, \"#bd3786\"], [0.5555555555555556, \"#d8576b\"], [0.6666666666666666, \"#ed7953\"], [0.7777777777777778, \"#fb9f3a\"], [0.8888888888888888, \"#fdca26\"], [1.0, \"#f0f921\"]], \"type\": \"heatmap\"}], \"heatmapgl\": [{\"colorbar\": {\"outlinewidth\": 0, \"ticks\": \"\"}, \"colorscale\": [[0.0, \"#0d0887\"], [0.1111111111111111, \"#46039f\"], [0.2222222222222222, \"#7201a8\"], [0.3333333333333333, \"#9c179e\"], [0.4444444444444444, \"#bd3786\"], [0.5555555555555556, \"#d8576b\"], [0.6666666666666666, \"#ed7953\"], [0.7777777777777778, \"#fb9f3a\"], [0.8888888888888888, \"#fdca26\"], [1.0, \"#f0f921\"]], \"type\": \"heatmapgl\"}], \"histogram\": [{\"marker\": {\"colorbar\": {\"outlinewidth\": 0, \"ticks\": \"\"}}, \"type\": \"histogram\"}], \"histogram2d\": [{\"colorbar\": {\"outlinewidth\": 0, \"ticks\": \"\"}, \"colorscale\": [[0.0, \"#0d0887\"], [0.1111111111111111, \"#46039f\"], [0.2222222222222222, \"#7201a8\"], [0.3333333333333333, \"#9c179e\"], [0.4444444444444444, \"#bd3786\"], [0.5555555555555556, \"#d8576b\"], [0.6666666666666666, \"#ed7953\"], [0.7777777777777778, \"#fb9f3a\"], [0.8888888888888888, \"#fdca26\"], [1.0, \"#f0f921\"]], \"type\": \"histogram2d\"}], \"histogram2dcontour\": [{\"colorbar\": {\"outlinewidth\": 0, \"ticks\": \"\"}, \"colorscale\": [[0.0, \"#0d0887\"], [0.1111111111111111, \"#46039f\"], [0.2222222222222222, \"#7201a8\"], [0.3333333333333333, \"#9c179e\"], [0.4444444444444444, \"#bd3786\"], [0.5555555555555556, \"#d8576b\"], [0.6666666666666666, \"#ed7953\"], [0.7777777777777778, \"#fb9f3a\"], [0.8888888888888888, \"#fdca26\"], [1.0, \"#f0f921\"]], \"type\": \"histogram2dcontour\"}], \"mesh3d\": [{\"colorbar\": {\"outlinewidth\": 0, \"ticks\": \"\"}, \"type\": \"mesh3d\"}], \"parcoords\": [{\"line\": {\"colorbar\": {\"outlinewidth\": 0, \"ticks\": \"\"}}, \"type\": \"parcoords\"}], \"pie\": [{\"automargin\": true, \"type\": \"pie\"}], \"scatter\": [{\"marker\": {\"colorbar\": {\"outlinewidth\": 0, \"ticks\": \"\"}}, \"type\": \"scatter\"}], \"scatter3d\": [{\"line\": {\"colorbar\": {\"outlinewidth\": 0, \"ticks\": \"\"}}, \"marker\": {\"colorbar\": {\"outlinewidth\": 0, \"ticks\": \"\"}}, \"type\": \"scatter3d\"}], \"scattercarpet\": [{\"marker\": {\"colorbar\": {\"outlinewidth\": 0, \"ticks\": \"\"}}, \"type\": \"scattercarpet\"}], \"scattergeo\": [{\"marker\": {\"colorbar\": {\"outlinewidth\": 0, \"ticks\": \"\"}}, \"type\": \"scattergeo\"}], \"scattergl\": [{\"marker\": {\"colorbar\": {\"outlinewidth\": 0, \"ticks\": \"\"}}, \"type\": \"scattergl\"}], \"scattermapbox\": [{\"marker\": {\"colorbar\": {\"outlinewidth\": 0, \"ticks\": \"\"}}, \"type\": \"scattermapbox\"}], \"scatterpolar\": [{\"marker\": {\"colorbar\": {\"outlinewidth\": 0, \"ticks\": \"\"}}, \"type\": \"scatterpolar\"}], \"scatterpolargl\": [{\"marker\": {\"colorbar\": {\"outlinewidth\": 0, \"ticks\": \"\"}}, \"type\": \"scatterpolargl\"}], \"scatterternary\": [{\"marker\": {\"colorbar\": {\"outlinewidth\": 0, \"ticks\": \"\"}}, \"type\": \"scatterternary\"}], \"surface\": [{\"colorbar\": {\"outlinewidth\": 0, \"ticks\": \"\"}, \"colorscale\": [[0.0, \"#0d0887\"], [0.1111111111111111, \"#46039f\"], [0.2222222222222222, \"#7201a8\"], [0.3333333333333333, \"#9c179e\"], [0.4444444444444444, \"#bd3786\"], [0.5555555555555556, \"#d8576b\"], [0.6666666666666666, \"#ed7953\"], [0.7777777777777778, \"#fb9f3a\"], [0.8888888888888888, \"#fdca26\"], [1.0, \"#f0f921\"]], \"type\": \"surface\"}], \"table\": [{\"cells\": {\"fill\": {\"color\": \"#EBF0F8\"}, \"line\": {\"color\": \"white\"}}, \"header\": {\"fill\": {\"color\": \"#C8D4E3\"}, \"line\": {\"color\": \"white\"}}, \"type\": \"table\"}]}, \"layout\": {\"annotationdefaults\": {\"arrowcolor\": \"#2a3f5f\", \"arrowhead\": 0, \"arrowwidth\": 1}, \"autotypenumbers\": \"strict\", \"coloraxis\": {\"colorbar\": {\"outlinewidth\": 0, \"ticks\": \"\"}}, \"colorscale\": {\"diverging\": [[0, \"#8e0152\"], [0.1, \"#c51b7d\"], [0.2, \"#de77ae\"], [0.3, \"#f1b6da\"], [0.4, \"#fde0ef\"], [0.5, \"#f7f7f7\"], [0.6, \"#e6f5d0\"], [0.7, \"#b8e186\"], [0.8, \"#7fbc41\"], [0.9, \"#4d9221\"], [1, \"#276419\"]], \"sequential\": [[0.0, \"#0d0887\"], [0.1111111111111111, \"#46039f\"], [0.2222222222222222, \"#7201a8\"], [0.3333333333333333, \"#9c179e\"], [0.4444444444444444, \"#bd3786\"], [0.5555555555555556, \"#d8576b\"], [0.6666666666666666, \"#ed7953\"], [0.7777777777777778, \"#fb9f3a\"], [0.8888888888888888, \"#fdca26\"], [1.0, \"#f0f921\"]], \"sequentialminus\": [[0.0, \"#0d0887\"], [0.1111111111111111, \"#46039f\"], [0.2222222222222222, \"#7201a8\"], [0.3333333333333333, \"#9c179e\"], [0.4444444444444444, \"#bd3786\"], [0.5555555555555556, \"#d8576b\"], [0.6666666666666666, \"#ed7953\"], [0.7777777777777778, \"#fb9f3a\"], [0.8888888888888888, \"#fdca26\"], [1.0, \"#f0f921\"]]}, \"colorway\": [\"#636efa\", \"#EF553B\", \"#00cc96\", \"#ab63fa\", \"#FFA15A\", \"#19d3f3\", \"#FF6692\", \"#B6E880\", \"#FF97FF\", \"#FECB52\"], \"font\": {\"color\": \"#2a3f5f\"}, \"geo\": {\"bgcolor\": \"white\", \"lakecolor\": \"white\", \"landcolor\": \"#E5ECF6\", \"showlakes\": true, \"showland\": true, \"subunitcolor\": \"white\"}, \"hoverlabel\": {\"align\": \"left\"}, \"hovermode\": \"closest\", \"mapbox\": {\"style\": \"light\"}, \"paper_bgcolor\": \"white\", \"plot_bgcolor\": \"#E5ECF6\", \"polar\": {\"angularaxis\": {\"gridcolor\": \"white\", \"linecolor\": \"white\", \"ticks\": \"\"}, \"bgcolor\": \"#E5ECF6\", \"radialaxis\": {\"gridcolor\": \"white\", \"linecolor\": \"white\", \"ticks\": \"\"}}, \"scene\": {\"xaxis\": {\"backgroundcolor\": \"#E5ECF6\", \"gridcolor\": \"white\", \"gridwidth\": 2, \"linecolor\": \"white\", \"showbackground\": true, \"ticks\": \"\", \"zerolinecolor\": \"white\"}, \"yaxis\": {\"backgroundcolor\": \"#E5ECF6\", \"gridcolor\": \"white\", \"gridwidth\": 2, \"linecolor\": \"white\", \"showbackground\": true, \"ticks\": \"\", \"zerolinecolor\": \"white\"}, \"zaxis\": {\"backgroundcolor\": \"#E5ECF6\", \"gridcolor\": \"white\", \"gridwidth\": 2, \"linecolor\": \"white\", \"showbackground\": true, \"ticks\": \"\", \"zerolinecolor\": \"white\"}}, \"shapedefaults\": {\"line\": {\"color\": \"#2a3f5f\"}}, \"ternary\": {\"aaxis\": {\"gridcolor\": \"white\", \"linecolor\": \"white\", \"ticks\": \"\"}, \"baxis\": {\"gridcolor\": \"white\", \"linecolor\": \"white\", \"ticks\": \"\"}, \"bgcolor\": \"#E5ECF6\", \"caxis\": {\"gridcolor\": \"white\", \"linecolor\": \"white\", \"ticks\": \"\"}}, \"title\": {\"x\": 0.05}, \"xaxis\": {\"automargin\": true, \"gridcolor\": \"white\", \"linecolor\": \"white\", \"ticks\": \"\", \"title\": {\"standoff\": 15}, \"zerolinecolor\": \"white\", \"zerolinewidth\": 2}, \"yaxis\": {\"automargin\": true, \"gridcolor\": \"white\", \"linecolor\": \"white\", \"ticks\": \"\", \"title\": {\"standoff\": 15}, \"zerolinecolor\": \"white\", \"zerolinewidth\": 2}}}},                        {\"responsive\": true}                    ).then(function(){\n",
       "                            \n",
       "var gd = document.getElementById('60b2105a-991d-4f53-b112-9ea205ba295e');\n",
       "var x = new MutationObserver(function (mutations, observer) {{\n",
       "        var display = window.getComputedStyle(gd).display;\n",
       "        if (!display || display === 'none') {{\n",
       "            console.log([gd, 'removed!']);\n",
       "            Plotly.purge(gd);\n",
       "            observer.disconnect();\n",
       "        }}\n",
       "}});\n",
       "\n",
       "// Listen for the removal of the full notebook cells\n",
       "var notebookContainer = gd.closest('#notebook-container');\n",
       "if (notebookContainer) {{\n",
       "    x.observe(notebookContainer, {childList: true});\n",
       "}}\n",
       "\n",
       "// Listen for the clearing of the current output cell\n",
       "var outputEl = gd.closest('.output');\n",
       "if (outputEl) {{\n",
       "    x.observe(outputEl, {childList: true});\n",
       "}}\n",
       "\n",
       "                        })                };                });            </script>        </div>"
      ]
     },
     "metadata": {},
     "output_type": "display_data"
    }
   ],
   "source": [
    "fig = go.Figure(data=go.Scatter(x = pca_result[:,0],\n",
    "                                y = pca_result[:,1],\n",
    "                                mode='markers',\n",
    "                                marker_color=full_dataframe['defects'],\n",
    "                                text=full_dataframe['defects']))\n",
    "\n",
    "fig.update_traces(marker=dict(size=5, line=dict(width=1,color='grey')),\n",
    "                  selector=dict(mode='markers'))\n",
    "fig.show()"
   ]
  },
  {
   "cell_type": "markdown",
   "metadata": {},
   "source": [
    "### K-means"
   ]
  },
  {
   "cell_type": "markdown",
   "metadata": {},
   "source": [
    "### df_false -> defects == false"
   ]
  },
  {
   "cell_type": "code",
   "execution_count": 79,
   "metadata": {},
   "outputs": [],
   "source": [
    "from sklearn.cluster import KMeans\n",
    "from kneed import DataGenerator, KneeLocator\n",
    "import plotly.express as px\n",
    "\n",
    "def get_kmeans_sse(df, kmeans_kwargs, k_range):\n",
    "    sse = []\n",
    "    for k in k_range:\n",
    "        kmeans = KMeans(n_clusters=k, **kmeans_kwargs)\n",
    "        kmeans.fit(df)\n",
    "        sse.append(kmeans.inertia_)\n",
    "    \n",
    "    return sse\n",
    "\n",
    "def elbow_plot(k_range, sse):\n",
    "    fig = px.line(range(2,7), y=sse)\n",
    "    fig.show()\n",
    "\n",
    "def get_best_k(k_range, sse):\n",
    "    kl = KneeLocator(k_range, sse, curve=\"convex\", direction=\"decreasing\")\n",
    "    return kl.elbow\n",
    "\n",
    "def reduce_dimensions(df, n_dimensions):\n",
    "    pca = PCA(n_components=n_dimensions)\n",
    "    df = pca.fit_transform(df[df.columns].values)\n",
    "    return df\n",
    "\n",
    "def plot_clusters(df, kmeans):\n",
    "    fig.data = []\n",
    "    fig.layout = {}\n",
    "        \n",
    "    label = kmeans.fit_predict(df)\n",
    "    u_labels = np.unique(label)\n",
    "\n",
    "#     for i in u_labels:\n",
    "#         fig.add_trace(\n",
    "#             go.Scatter(\n",
    "#                 x=df[label == i , 0],\n",
    "#                 y=df[label == i , 1],\n",
    "#                 mode=\"markers\",\n",
    "#                 text=u_labels))\n",
    "#     fig.show()\n",
    "    \n",
    "#     for i in range(len(df)):\n",
    "        \n",
    "        \n",
    "#     return df"
   ]
  },
  {
   "cell_type": "code",
   "execution_count": 80,
   "metadata": {
    "scrolled": true
   },
   "outputs": [],
   "source": [
    "kmeans_kwargs = {\n",
    "    \"init\": \"random\",\n",
    "    \"n_init\": 10,\n",
    "    \"max_iter\": 300,\n",
    "    \"random_state\": 42,\n",
    "}\n",
    "\n",
    "k = [2,3,4,5,6]\n",
    "sse = get_kmeans_sse(df_false, kmeans_kwargs, k)\n",
    "#elbow_plot(k, sse)"
   ]
  },
  {
   "cell_type": "code",
   "execution_count": 81,
   "metadata": {
    "scrolled": true
   },
   "outputs": [],
   "source": [
    "kmeans = KMeans(n_clusters=get_best_k(k, sse), **kmeans_kwargs)\n",
    "\n",
    "if df_false.shape[1] != 2:\n",
    "    df_false = reduce_dimensions(df_false,2)\n",
    "\n",
    "df_false = plot_clusters(df_false, kmeans)"
   ]
  },
  {
   "cell_type": "markdown",
   "metadata": {},
   "source": [
    "### df_true -> defects == true"
   ]
  },
  {
   "cell_type": "code",
   "execution_count": 82,
   "metadata": {
    "scrolled": false
   },
   "outputs": [
    {
     "data": {
      "application/vnd.plotly.v1+json": {
       "config": {
        "plotlyServerURL": "https://plot.ly"
       },
       "data": [
        {
         "hovertemplate": "index=%{x}<br>y=%{y}<extra></extra>",
         "legendgroup": "",
         "line": {
          "color": "#636efa",
          "dash": "solid"
         },
         "mode": "lines",
         "name": "",
         "orientation": "v",
         "showlegend": false,
         "type": "scatter",
         "x": [
          0,
          1,
          2,
          3,
          4
         ],
         "xaxis": "x",
         "y": [
          275255044573.05383,
          58011027987.86572,
          29689562207.0275,
          21974681923.436607,
          19721838201.55718
         ],
         "yaxis": "y"
        }
       ],
       "layout": {
        "legend": {
         "tracegroupgap": 0
        },
        "margin": {
         "t": 60
        },
        "template": {
         "data": {
          "bar": [
           {
            "error_x": {
             "color": "#2a3f5f"
            },
            "error_y": {
             "color": "#2a3f5f"
            },
            "marker": {
             "line": {
              "color": "#E5ECF6",
              "width": 0.5
             }
            },
            "type": "bar"
           }
          ],
          "barpolar": [
           {
            "marker": {
             "line": {
              "color": "#E5ECF6",
              "width": 0.5
             }
            },
            "type": "barpolar"
           }
          ],
          "carpet": [
           {
            "aaxis": {
             "endlinecolor": "#2a3f5f",
             "gridcolor": "white",
             "linecolor": "white",
             "minorgridcolor": "white",
             "startlinecolor": "#2a3f5f"
            },
            "baxis": {
             "endlinecolor": "#2a3f5f",
             "gridcolor": "white",
             "linecolor": "white",
             "minorgridcolor": "white",
             "startlinecolor": "#2a3f5f"
            },
            "type": "carpet"
           }
          ],
          "choropleth": [
           {
            "colorbar": {
             "outlinewidth": 0,
             "ticks": ""
            },
            "type": "choropleth"
           }
          ],
          "contour": [
           {
            "colorbar": {
             "outlinewidth": 0,
             "ticks": ""
            },
            "colorscale": [
             [
              0,
              "#0d0887"
             ],
             [
              0.1111111111111111,
              "#46039f"
             ],
             [
              0.2222222222222222,
              "#7201a8"
             ],
             [
              0.3333333333333333,
              "#9c179e"
             ],
             [
              0.4444444444444444,
              "#bd3786"
             ],
             [
              0.5555555555555556,
              "#d8576b"
             ],
             [
              0.6666666666666666,
              "#ed7953"
             ],
             [
              0.7777777777777778,
              "#fb9f3a"
             ],
             [
              0.8888888888888888,
              "#fdca26"
             ],
             [
              1,
              "#f0f921"
             ]
            ],
            "type": "contour"
           }
          ],
          "contourcarpet": [
           {
            "colorbar": {
             "outlinewidth": 0,
             "ticks": ""
            },
            "type": "contourcarpet"
           }
          ],
          "heatmap": [
           {
            "colorbar": {
             "outlinewidth": 0,
             "ticks": ""
            },
            "colorscale": [
             [
              0,
              "#0d0887"
             ],
             [
              0.1111111111111111,
              "#46039f"
             ],
             [
              0.2222222222222222,
              "#7201a8"
             ],
             [
              0.3333333333333333,
              "#9c179e"
             ],
             [
              0.4444444444444444,
              "#bd3786"
             ],
             [
              0.5555555555555556,
              "#d8576b"
             ],
             [
              0.6666666666666666,
              "#ed7953"
             ],
             [
              0.7777777777777778,
              "#fb9f3a"
             ],
             [
              0.8888888888888888,
              "#fdca26"
             ],
             [
              1,
              "#f0f921"
             ]
            ],
            "type": "heatmap"
           }
          ],
          "heatmapgl": [
           {
            "colorbar": {
             "outlinewidth": 0,
             "ticks": ""
            },
            "colorscale": [
             [
              0,
              "#0d0887"
             ],
             [
              0.1111111111111111,
              "#46039f"
             ],
             [
              0.2222222222222222,
              "#7201a8"
             ],
             [
              0.3333333333333333,
              "#9c179e"
             ],
             [
              0.4444444444444444,
              "#bd3786"
             ],
             [
              0.5555555555555556,
              "#d8576b"
             ],
             [
              0.6666666666666666,
              "#ed7953"
             ],
             [
              0.7777777777777778,
              "#fb9f3a"
             ],
             [
              0.8888888888888888,
              "#fdca26"
             ],
             [
              1,
              "#f0f921"
             ]
            ],
            "type": "heatmapgl"
           }
          ],
          "histogram": [
           {
            "marker": {
             "colorbar": {
              "outlinewidth": 0,
              "ticks": ""
             }
            },
            "type": "histogram"
           }
          ],
          "histogram2d": [
           {
            "colorbar": {
             "outlinewidth": 0,
             "ticks": ""
            },
            "colorscale": [
             [
              0,
              "#0d0887"
             ],
             [
              0.1111111111111111,
              "#46039f"
             ],
             [
              0.2222222222222222,
              "#7201a8"
             ],
             [
              0.3333333333333333,
              "#9c179e"
             ],
             [
              0.4444444444444444,
              "#bd3786"
             ],
             [
              0.5555555555555556,
              "#d8576b"
             ],
             [
              0.6666666666666666,
              "#ed7953"
             ],
             [
              0.7777777777777778,
              "#fb9f3a"
             ],
             [
              0.8888888888888888,
              "#fdca26"
             ],
             [
              1,
              "#f0f921"
             ]
            ],
            "type": "histogram2d"
           }
          ],
          "histogram2dcontour": [
           {
            "colorbar": {
             "outlinewidth": 0,
             "ticks": ""
            },
            "colorscale": [
             [
              0,
              "#0d0887"
             ],
             [
              0.1111111111111111,
              "#46039f"
             ],
             [
              0.2222222222222222,
              "#7201a8"
             ],
             [
              0.3333333333333333,
              "#9c179e"
             ],
             [
              0.4444444444444444,
              "#bd3786"
             ],
             [
              0.5555555555555556,
              "#d8576b"
             ],
             [
              0.6666666666666666,
              "#ed7953"
             ],
             [
              0.7777777777777778,
              "#fb9f3a"
             ],
             [
              0.8888888888888888,
              "#fdca26"
             ],
             [
              1,
              "#f0f921"
             ]
            ],
            "type": "histogram2dcontour"
           }
          ],
          "mesh3d": [
           {
            "colorbar": {
             "outlinewidth": 0,
             "ticks": ""
            },
            "type": "mesh3d"
           }
          ],
          "parcoords": [
           {
            "line": {
             "colorbar": {
              "outlinewidth": 0,
              "ticks": ""
             }
            },
            "type": "parcoords"
           }
          ],
          "pie": [
           {
            "automargin": true,
            "type": "pie"
           }
          ],
          "scatter": [
           {
            "marker": {
             "colorbar": {
              "outlinewidth": 0,
              "ticks": ""
             }
            },
            "type": "scatter"
           }
          ],
          "scatter3d": [
           {
            "line": {
             "colorbar": {
              "outlinewidth": 0,
              "ticks": ""
             }
            },
            "marker": {
             "colorbar": {
              "outlinewidth": 0,
              "ticks": ""
             }
            },
            "type": "scatter3d"
           }
          ],
          "scattercarpet": [
           {
            "marker": {
             "colorbar": {
              "outlinewidth": 0,
              "ticks": ""
             }
            },
            "type": "scattercarpet"
           }
          ],
          "scattergeo": [
           {
            "marker": {
             "colorbar": {
              "outlinewidth": 0,
              "ticks": ""
             }
            },
            "type": "scattergeo"
           }
          ],
          "scattergl": [
           {
            "marker": {
             "colorbar": {
              "outlinewidth": 0,
              "ticks": ""
             }
            },
            "type": "scattergl"
           }
          ],
          "scattermapbox": [
           {
            "marker": {
             "colorbar": {
              "outlinewidth": 0,
              "ticks": ""
             }
            },
            "type": "scattermapbox"
           }
          ],
          "scatterpolar": [
           {
            "marker": {
             "colorbar": {
              "outlinewidth": 0,
              "ticks": ""
             }
            },
            "type": "scatterpolar"
           }
          ],
          "scatterpolargl": [
           {
            "marker": {
             "colorbar": {
              "outlinewidth": 0,
              "ticks": ""
             }
            },
            "type": "scatterpolargl"
           }
          ],
          "scatterternary": [
           {
            "marker": {
             "colorbar": {
              "outlinewidth": 0,
              "ticks": ""
             }
            },
            "type": "scatterternary"
           }
          ],
          "surface": [
           {
            "colorbar": {
             "outlinewidth": 0,
             "ticks": ""
            },
            "colorscale": [
             [
              0,
              "#0d0887"
             ],
             [
              0.1111111111111111,
              "#46039f"
             ],
             [
              0.2222222222222222,
              "#7201a8"
             ],
             [
              0.3333333333333333,
              "#9c179e"
             ],
             [
              0.4444444444444444,
              "#bd3786"
             ],
             [
              0.5555555555555556,
              "#d8576b"
             ],
             [
              0.6666666666666666,
              "#ed7953"
             ],
             [
              0.7777777777777778,
              "#fb9f3a"
             ],
             [
              0.8888888888888888,
              "#fdca26"
             ],
             [
              1,
              "#f0f921"
             ]
            ],
            "type": "surface"
           }
          ],
          "table": [
           {
            "cells": {
             "fill": {
              "color": "#EBF0F8"
             },
             "line": {
              "color": "white"
             }
            },
            "header": {
             "fill": {
              "color": "#C8D4E3"
             },
             "line": {
              "color": "white"
             }
            },
            "type": "table"
           }
          ]
         },
         "layout": {
          "annotationdefaults": {
           "arrowcolor": "#2a3f5f",
           "arrowhead": 0,
           "arrowwidth": 1
          },
          "autotypenumbers": "strict",
          "coloraxis": {
           "colorbar": {
            "outlinewidth": 0,
            "ticks": ""
           }
          },
          "colorscale": {
           "diverging": [
            [
             0,
             "#8e0152"
            ],
            [
             0.1,
             "#c51b7d"
            ],
            [
             0.2,
             "#de77ae"
            ],
            [
             0.3,
             "#f1b6da"
            ],
            [
             0.4,
             "#fde0ef"
            ],
            [
             0.5,
             "#f7f7f7"
            ],
            [
             0.6,
             "#e6f5d0"
            ],
            [
             0.7,
             "#b8e186"
            ],
            [
             0.8,
             "#7fbc41"
            ],
            [
             0.9,
             "#4d9221"
            ],
            [
             1,
             "#276419"
            ]
           ],
           "sequential": [
            [
             0,
             "#0d0887"
            ],
            [
             0.1111111111111111,
             "#46039f"
            ],
            [
             0.2222222222222222,
             "#7201a8"
            ],
            [
             0.3333333333333333,
             "#9c179e"
            ],
            [
             0.4444444444444444,
             "#bd3786"
            ],
            [
             0.5555555555555556,
             "#d8576b"
            ],
            [
             0.6666666666666666,
             "#ed7953"
            ],
            [
             0.7777777777777778,
             "#fb9f3a"
            ],
            [
             0.8888888888888888,
             "#fdca26"
            ],
            [
             1,
             "#f0f921"
            ]
           ],
           "sequentialminus": [
            [
             0,
             "#0d0887"
            ],
            [
             0.1111111111111111,
             "#46039f"
            ],
            [
             0.2222222222222222,
             "#7201a8"
            ],
            [
             0.3333333333333333,
             "#9c179e"
            ],
            [
             0.4444444444444444,
             "#bd3786"
            ],
            [
             0.5555555555555556,
             "#d8576b"
            ],
            [
             0.6666666666666666,
             "#ed7953"
            ],
            [
             0.7777777777777778,
             "#fb9f3a"
            ],
            [
             0.8888888888888888,
             "#fdca26"
            ],
            [
             1,
             "#f0f921"
            ]
           ]
          },
          "colorway": [
           "#636efa",
           "#EF553B",
           "#00cc96",
           "#ab63fa",
           "#FFA15A",
           "#19d3f3",
           "#FF6692",
           "#B6E880",
           "#FF97FF",
           "#FECB52"
          ],
          "font": {
           "color": "#2a3f5f"
          },
          "geo": {
           "bgcolor": "white",
           "lakecolor": "white",
           "landcolor": "#E5ECF6",
           "showlakes": true,
           "showland": true,
           "subunitcolor": "white"
          },
          "hoverlabel": {
           "align": "left"
          },
          "hovermode": "closest",
          "mapbox": {
           "style": "light"
          },
          "paper_bgcolor": "white",
          "plot_bgcolor": "#E5ECF6",
          "polar": {
           "angularaxis": {
            "gridcolor": "white",
            "linecolor": "white",
            "ticks": ""
           },
           "bgcolor": "#E5ECF6",
           "radialaxis": {
            "gridcolor": "white",
            "linecolor": "white",
            "ticks": ""
           }
          },
          "scene": {
           "xaxis": {
            "backgroundcolor": "#E5ECF6",
            "gridcolor": "white",
            "gridwidth": 2,
            "linecolor": "white",
            "showbackground": true,
            "ticks": "",
            "zerolinecolor": "white"
           },
           "yaxis": {
            "backgroundcolor": "#E5ECF6",
            "gridcolor": "white",
            "gridwidth": 2,
            "linecolor": "white",
            "showbackground": true,
            "ticks": "",
            "zerolinecolor": "white"
           },
           "zaxis": {
            "backgroundcolor": "#E5ECF6",
            "gridcolor": "white",
            "gridwidth": 2,
            "linecolor": "white",
            "showbackground": true,
            "ticks": "",
            "zerolinecolor": "white"
           }
          },
          "shapedefaults": {
           "line": {
            "color": "#2a3f5f"
           }
          },
          "ternary": {
           "aaxis": {
            "gridcolor": "white",
            "linecolor": "white",
            "ticks": ""
           },
           "baxis": {
            "gridcolor": "white",
            "linecolor": "white",
            "ticks": ""
           },
           "bgcolor": "#E5ECF6",
           "caxis": {
            "gridcolor": "white",
            "linecolor": "white",
            "ticks": ""
           }
          },
          "title": {
           "x": 0.05
          },
          "xaxis": {
           "automargin": true,
           "gridcolor": "white",
           "linecolor": "white",
           "ticks": "",
           "title": {
            "standoff": 15
           },
           "zerolinecolor": "white",
           "zerolinewidth": 2
          },
          "yaxis": {
           "automargin": true,
           "gridcolor": "white",
           "linecolor": "white",
           "ticks": "",
           "title": {
            "standoff": 15
           },
           "zerolinecolor": "white",
           "zerolinewidth": 2
          }
         }
        },
        "xaxis": {
         "anchor": "y",
         "domain": [
          0,
          1
         ],
         "title": {
          "text": "index"
         }
        },
        "yaxis": {
         "anchor": "x",
         "domain": [
          0,
          1
         ],
         "title": {
          "text": "y"
         }
        }
       }
      },
      "text/html": [
       "<div>                            <div id=\"5d6605b3-c3e9-4477-a7c5-b1da7cf9174b\" class=\"plotly-graph-div\" style=\"height:525px; width:100%;\"></div>            <script type=\"text/javascript\">                require([\"plotly\"], function(Plotly) {                    window.PLOTLYENV=window.PLOTLYENV || {};                                    if (document.getElementById(\"5d6605b3-c3e9-4477-a7c5-b1da7cf9174b\")) {                    Plotly.newPlot(                        \"5d6605b3-c3e9-4477-a7c5-b1da7cf9174b\",                        [{\"hovertemplate\": \"index=%{x}<br>y=%{y}<extra></extra>\", \"legendgroup\": \"\", \"line\": {\"color\": \"#636efa\", \"dash\": \"solid\"}, \"mode\": \"lines\", \"name\": \"\", \"orientation\": \"v\", \"showlegend\": false, \"type\": \"scatter\", \"x\": [0, 1, 2, 3, 4], \"xaxis\": \"x\", \"y\": [275255044573.05383, 58011027987.86572, 29689562207.0275, 21974681923.436607, 19721838201.55718], \"yaxis\": \"y\"}],                        {\"legend\": {\"tracegroupgap\": 0}, \"margin\": {\"t\": 60}, \"template\": {\"data\": {\"bar\": [{\"error_x\": {\"color\": \"#2a3f5f\"}, \"error_y\": {\"color\": \"#2a3f5f\"}, \"marker\": {\"line\": {\"color\": \"#E5ECF6\", \"width\": 0.5}}, \"type\": \"bar\"}], \"barpolar\": [{\"marker\": {\"line\": {\"color\": \"#E5ECF6\", \"width\": 0.5}}, \"type\": \"barpolar\"}], \"carpet\": [{\"aaxis\": {\"endlinecolor\": \"#2a3f5f\", \"gridcolor\": \"white\", \"linecolor\": \"white\", \"minorgridcolor\": \"white\", \"startlinecolor\": \"#2a3f5f\"}, \"baxis\": {\"endlinecolor\": \"#2a3f5f\", \"gridcolor\": \"white\", \"linecolor\": \"white\", \"minorgridcolor\": \"white\", \"startlinecolor\": \"#2a3f5f\"}, \"type\": \"carpet\"}], \"choropleth\": [{\"colorbar\": {\"outlinewidth\": 0, \"ticks\": \"\"}, \"type\": \"choropleth\"}], \"contour\": [{\"colorbar\": {\"outlinewidth\": 0, \"ticks\": \"\"}, \"colorscale\": [[0.0, \"#0d0887\"], [0.1111111111111111, \"#46039f\"], [0.2222222222222222, \"#7201a8\"], [0.3333333333333333, \"#9c179e\"], [0.4444444444444444, \"#bd3786\"], [0.5555555555555556, \"#d8576b\"], [0.6666666666666666, \"#ed7953\"], [0.7777777777777778, \"#fb9f3a\"], [0.8888888888888888, \"#fdca26\"], [1.0, \"#f0f921\"]], \"type\": \"contour\"}], \"contourcarpet\": [{\"colorbar\": {\"outlinewidth\": 0, \"ticks\": \"\"}, \"type\": \"contourcarpet\"}], \"heatmap\": [{\"colorbar\": {\"outlinewidth\": 0, \"ticks\": \"\"}, \"colorscale\": [[0.0, \"#0d0887\"], [0.1111111111111111, \"#46039f\"], [0.2222222222222222, \"#7201a8\"], [0.3333333333333333, \"#9c179e\"], [0.4444444444444444, \"#bd3786\"], [0.5555555555555556, \"#d8576b\"], [0.6666666666666666, \"#ed7953\"], [0.7777777777777778, \"#fb9f3a\"], [0.8888888888888888, \"#fdca26\"], [1.0, \"#f0f921\"]], \"type\": \"heatmap\"}], \"heatmapgl\": [{\"colorbar\": {\"outlinewidth\": 0, \"ticks\": \"\"}, \"colorscale\": [[0.0, \"#0d0887\"], [0.1111111111111111, \"#46039f\"], [0.2222222222222222, \"#7201a8\"], [0.3333333333333333, \"#9c179e\"], [0.4444444444444444, \"#bd3786\"], [0.5555555555555556, \"#d8576b\"], [0.6666666666666666, \"#ed7953\"], [0.7777777777777778, \"#fb9f3a\"], [0.8888888888888888, \"#fdca26\"], [1.0, \"#f0f921\"]], \"type\": \"heatmapgl\"}], \"histogram\": [{\"marker\": {\"colorbar\": {\"outlinewidth\": 0, \"ticks\": \"\"}}, \"type\": \"histogram\"}], \"histogram2d\": [{\"colorbar\": {\"outlinewidth\": 0, \"ticks\": \"\"}, \"colorscale\": [[0.0, \"#0d0887\"], [0.1111111111111111, \"#46039f\"], [0.2222222222222222, \"#7201a8\"], [0.3333333333333333, \"#9c179e\"], [0.4444444444444444, \"#bd3786\"], [0.5555555555555556, \"#d8576b\"], [0.6666666666666666, \"#ed7953\"], [0.7777777777777778, \"#fb9f3a\"], [0.8888888888888888, \"#fdca26\"], [1.0, \"#f0f921\"]], \"type\": \"histogram2d\"}], \"histogram2dcontour\": [{\"colorbar\": {\"outlinewidth\": 0, \"ticks\": \"\"}, \"colorscale\": [[0.0, \"#0d0887\"], [0.1111111111111111, \"#46039f\"], [0.2222222222222222, \"#7201a8\"], [0.3333333333333333, \"#9c179e\"], [0.4444444444444444, \"#bd3786\"], [0.5555555555555556, \"#d8576b\"], [0.6666666666666666, \"#ed7953\"], [0.7777777777777778, \"#fb9f3a\"], [0.8888888888888888, \"#fdca26\"], [1.0, \"#f0f921\"]], \"type\": \"histogram2dcontour\"}], \"mesh3d\": [{\"colorbar\": {\"outlinewidth\": 0, \"ticks\": \"\"}, \"type\": \"mesh3d\"}], \"parcoords\": [{\"line\": {\"colorbar\": {\"outlinewidth\": 0, \"ticks\": \"\"}}, \"type\": \"parcoords\"}], \"pie\": [{\"automargin\": true, \"type\": \"pie\"}], \"scatter\": [{\"marker\": {\"colorbar\": {\"outlinewidth\": 0, \"ticks\": \"\"}}, \"type\": \"scatter\"}], \"scatter3d\": [{\"line\": {\"colorbar\": {\"outlinewidth\": 0, \"ticks\": \"\"}}, \"marker\": {\"colorbar\": {\"outlinewidth\": 0, \"ticks\": \"\"}}, \"type\": \"scatter3d\"}], \"scattercarpet\": [{\"marker\": {\"colorbar\": {\"outlinewidth\": 0, \"ticks\": \"\"}}, \"type\": \"scattercarpet\"}], \"scattergeo\": [{\"marker\": {\"colorbar\": {\"outlinewidth\": 0, \"ticks\": \"\"}}, \"type\": \"scattergeo\"}], \"scattergl\": [{\"marker\": {\"colorbar\": {\"outlinewidth\": 0, \"ticks\": \"\"}}, \"type\": \"scattergl\"}], \"scattermapbox\": [{\"marker\": {\"colorbar\": {\"outlinewidth\": 0, \"ticks\": \"\"}}, \"type\": \"scattermapbox\"}], \"scatterpolar\": [{\"marker\": {\"colorbar\": {\"outlinewidth\": 0, \"ticks\": \"\"}}, \"type\": \"scatterpolar\"}], \"scatterpolargl\": [{\"marker\": {\"colorbar\": {\"outlinewidth\": 0, \"ticks\": \"\"}}, \"type\": \"scatterpolargl\"}], \"scatterternary\": [{\"marker\": {\"colorbar\": {\"outlinewidth\": 0, \"ticks\": \"\"}}, \"type\": \"scatterternary\"}], \"surface\": [{\"colorbar\": {\"outlinewidth\": 0, \"ticks\": \"\"}, \"colorscale\": [[0.0, \"#0d0887\"], [0.1111111111111111, \"#46039f\"], [0.2222222222222222, \"#7201a8\"], [0.3333333333333333, \"#9c179e\"], [0.4444444444444444, \"#bd3786\"], [0.5555555555555556, \"#d8576b\"], [0.6666666666666666, \"#ed7953\"], [0.7777777777777778, \"#fb9f3a\"], [0.8888888888888888, \"#fdca26\"], [1.0, \"#f0f921\"]], \"type\": \"surface\"}], \"table\": [{\"cells\": {\"fill\": {\"color\": \"#EBF0F8\"}, \"line\": {\"color\": \"white\"}}, \"header\": {\"fill\": {\"color\": \"#C8D4E3\"}, \"line\": {\"color\": \"white\"}}, \"type\": \"table\"}]}, \"layout\": {\"annotationdefaults\": {\"arrowcolor\": \"#2a3f5f\", \"arrowhead\": 0, \"arrowwidth\": 1}, \"autotypenumbers\": \"strict\", \"coloraxis\": {\"colorbar\": {\"outlinewidth\": 0, \"ticks\": \"\"}}, \"colorscale\": {\"diverging\": [[0, \"#8e0152\"], [0.1, \"#c51b7d\"], [0.2, \"#de77ae\"], [0.3, \"#f1b6da\"], [0.4, \"#fde0ef\"], [0.5, \"#f7f7f7\"], [0.6, \"#e6f5d0\"], [0.7, \"#b8e186\"], [0.8, \"#7fbc41\"], [0.9, \"#4d9221\"], [1, \"#276419\"]], \"sequential\": [[0.0, \"#0d0887\"], [0.1111111111111111, \"#46039f\"], [0.2222222222222222, \"#7201a8\"], [0.3333333333333333, \"#9c179e\"], [0.4444444444444444, \"#bd3786\"], [0.5555555555555556, \"#d8576b\"], [0.6666666666666666, \"#ed7953\"], [0.7777777777777778, \"#fb9f3a\"], [0.8888888888888888, \"#fdca26\"], [1.0, \"#f0f921\"]], \"sequentialminus\": [[0.0, \"#0d0887\"], [0.1111111111111111, \"#46039f\"], [0.2222222222222222, \"#7201a8\"], [0.3333333333333333, \"#9c179e\"], [0.4444444444444444, \"#bd3786\"], [0.5555555555555556, \"#d8576b\"], [0.6666666666666666, \"#ed7953\"], [0.7777777777777778, \"#fb9f3a\"], [0.8888888888888888, \"#fdca26\"], [1.0, \"#f0f921\"]]}, \"colorway\": [\"#636efa\", \"#EF553B\", \"#00cc96\", \"#ab63fa\", \"#FFA15A\", \"#19d3f3\", \"#FF6692\", \"#B6E880\", \"#FF97FF\", \"#FECB52\"], \"font\": {\"color\": \"#2a3f5f\"}, \"geo\": {\"bgcolor\": \"white\", \"lakecolor\": \"white\", \"landcolor\": \"#E5ECF6\", \"showlakes\": true, \"showland\": true, \"subunitcolor\": \"white\"}, \"hoverlabel\": {\"align\": \"left\"}, \"hovermode\": \"closest\", \"mapbox\": {\"style\": \"light\"}, \"paper_bgcolor\": \"white\", \"plot_bgcolor\": \"#E5ECF6\", \"polar\": {\"angularaxis\": {\"gridcolor\": \"white\", \"linecolor\": \"white\", \"ticks\": \"\"}, \"bgcolor\": \"#E5ECF6\", \"radialaxis\": {\"gridcolor\": \"white\", \"linecolor\": \"white\", \"ticks\": \"\"}}, \"scene\": {\"xaxis\": {\"backgroundcolor\": \"#E5ECF6\", \"gridcolor\": \"white\", \"gridwidth\": 2, \"linecolor\": \"white\", \"showbackground\": true, \"ticks\": \"\", \"zerolinecolor\": \"white\"}, \"yaxis\": {\"backgroundcolor\": \"#E5ECF6\", \"gridcolor\": \"white\", \"gridwidth\": 2, \"linecolor\": \"white\", \"showbackground\": true, \"ticks\": \"\", \"zerolinecolor\": \"white\"}, \"zaxis\": {\"backgroundcolor\": \"#E5ECF6\", \"gridcolor\": \"white\", \"gridwidth\": 2, \"linecolor\": \"white\", \"showbackground\": true, \"ticks\": \"\", \"zerolinecolor\": \"white\"}}, \"shapedefaults\": {\"line\": {\"color\": \"#2a3f5f\"}}, \"ternary\": {\"aaxis\": {\"gridcolor\": \"white\", \"linecolor\": \"white\", \"ticks\": \"\"}, \"baxis\": {\"gridcolor\": \"white\", \"linecolor\": \"white\", \"ticks\": \"\"}, \"bgcolor\": \"#E5ECF6\", \"caxis\": {\"gridcolor\": \"white\", \"linecolor\": \"white\", \"ticks\": \"\"}}, \"title\": {\"x\": 0.05}, \"xaxis\": {\"automargin\": true, \"gridcolor\": \"white\", \"linecolor\": \"white\", \"ticks\": \"\", \"title\": {\"standoff\": 15}, \"zerolinecolor\": \"white\", \"zerolinewidth\": 2}, \"yaxis\": {\"automargin\": true, \"gridcolor\": \"white\", \"linecolor\": \"white\", \"ticks\": \"\", \"title\": {\"standoff\": 15}, \"zerolinecolor\": \"white\", \"zerolinewidth\": 2}}}, \"xaxis\": {\"anchor\": \"y\", \"domain\": [0.0, 1.0], \"title\": {\"text\": \"index\"}}, \"yaxis\": {\"anchor\": \"x\", \"domain\": [0.0, 1.0], \"title\": {\"text\": \"y\"}}},                        {\"responsive\": true}                    ).then(function(){\n",
       "                            \n",
       "var gd = document.getElementById('5d6605b3-c3e9-4477-a7c5-b1da7cf9174b');\n",
       "var x = new MutationObserver(function (mutations, observer) {{\n",
       "        var display = window.getComputedStyle(gd).display;\n",
       "        if (!display || display === 'none') {{\n",
       "            console.log([gd, 'removed!']);\n",
       "            Plotly.purge(gd);\n",
       "            observer.disconnect();\n",
       "        }}\n",
       "}});\n",
       "\n",
       "// Listen for the removal of the full notebook cells\n",
       "var notebookContainer = gd.closest('#notebook-container');\n",
       "if (notebookContainer) {{\n",
       "    x.observe(notebookContainer, {childList: true});\n",
       "}}\n",
       "\n",
       "// Listen for the clearing of the current output cell\n",
       "var outputEl = gd.closest('.output');\n",
       "if (outputEl) {{\n",
       "    x.observe(outputEl, {childList: true});\n",
       "}}\n",
       "\n",
       "                        })                };                });            </script>        </div>"
      ]
     },
     "metadata": {},
     "output_type": "display_data"
    }
   ],
   "source": [
    "sse = get_kmeans_sse(df_true, kmeans_kwargs, k)\n",
    "#elbow_plot(k, sse)"
   ]
  },
  {
   "cell_type": "code",
   "execution_count": 83,
   "metadata": {
    "scrolled": true
   },
   "outputs": [],
   "source": [
    "kmeans = KMeans(n_clusters=get_best_k(k, sse), **kmeans_kwargs)\n",
    "\n",
    "if df_true.shape[1] != 2:\n",
    "    df_true = reduce_dimensions(df_true,2)\n",
    "\n",
    "df_true = plot_clusters(df_true, kmeans)"
   ]
  },
  {
   "cell_type": "code",
   "execution_count": 84,
   "metadata": {},
   "outputs": [],
   "source": [
    "df_false"
   ]
  },
  {
   "cell_type": "code",
   "execution_count": 85,
   "metadata": {},
   "outputs": [],
   "source": [
    "df_true"
   ]
  }
 ],
 "metadata": {
  "kernelspec": {
   "display_name": "Python 3",
   "language": "python",
   "name": "python3"
  },
  "language_info": {
   "codemirror_mode": {
    "name": "ipython",
    "version": 3
   },
   "file_extension": ".py",
   "mimetype": "text/x-python",
   "name": "python",
   "nbconvert_exporter": "python",
   "pygments_lexer": "ipython3",
   "version": "3.8.5"
  }
 },
 "nbformat": 4,
 "nbformat_minor": 5
}
