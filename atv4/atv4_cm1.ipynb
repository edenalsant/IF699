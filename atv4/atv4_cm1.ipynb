{
 "cells": [
  {
   "cell_type": "code",
   "execution_count": 89,
   "metadata": {},
   "outputs": [
    {
     "name": "stdout",
     "output_type": "stream",
     "text": [
      "Requirement already satisfied: sklearn in /home/eeas/.local/lib/python3.8/site-packages (0.0)\n",
      "Requirement already satisfied: scikit-learn in /home/eeas/.local/lib/python3.8/site-packages (from sklearn) (0.24.1)\n",
      "Requirement already satisfied: scipy>=0.19.1 in /home/eeas/.local/lib/python3.8/site-packages (from scikit-learn->sklearn) (1.6.1)\n",
      "Requirement already satisfied: numpy>=1.13.3 in /home/eeas/.local/lib/python3.8/site-packages (from scikit-learn->sklearn) (1.20.1)\n",
      "Requirement already satisfied: threadpoolctl>=2.0.0 in /home/eeas/.local/lib/python3.8/site-packages (from scikit-learn->sklearn) (2.1.0)\n",
      "Requirement already satisfied: joblib>=0.11 in /home/eeas/.local/lib/python3.8/site-packages (from scikit-learn->sklearn) (1.0.1)\n",
      "Requirement already satisfied: scipy in /home/eeas/.local/lib/python3.8/site-packages (1.6.1)\n",
      "Requirement already satisfied: numpy>=1.16.5 in /home/eeas/.local/lib/python3.8/site-packages (from scipy) (1.20.1)\n",
      "Requirement already satisfied: pandas in /home/eeas/.local/lib/python3.8/site-packages (1.2.2)\n",
      "Requirement already satisfied: python-dateutil>=2.7.3 in /usr/lib/python3/dist-packages (from pandas) (2.7.3)\n",
      "Requirement already satisfied: numpy>=1.16.5 in /home/eeas/.local/lib/python3.8/site-packages (from pandas) (1.20.1)\n",
      "Requirement already satisfied: pytz>=2017.3 in /usr/lib/python3/dist-packages (from pandas) (2019.3)\n",
      "Requirement already satisfied: numpy in /home/eeas/.local/lib/python3.8/site-packages (1.20.1)\n",
      "Requirement already satisfied: kneed in /home/eeas/.local/lib/python3.8/site-packages (0.7.0)\n",
      "Requirement already satisfied: numpy>=1.14.2 in /home/eeas/.local/lib/python3.8/site-packages (from kneed) (1.20.1)\n",
      "Requirement already satisfied: scipy in /home/eeas/.local/lib/python3.8/site-packages (from kneed) (1.6.1)\n",
      "Requirement already satisfied: matplotlib in /home/eeas/.local/lib/python3.8/site-packages (from kneed) (3.4.1)\n",
      "Requirement already satisfied: cycler>=0.10 in /home/eeas/.local/lib/python3.8/site-packages (from matplotlib->kneed) (0.10.0)\n",
      "Requirement already satisfied: kiwisolver>=1.0.1 in /home/eeas/.local/lib/python3.8/site-packages (from matplotlib->kneed) (1.3.1)\n",
      "Requirement already satisfied: python-dateutil>=2.7 in /usr/lib/python3/dist-packages (from matplotlib->kneed) (2.7.3)\n",
      "Requirement already satisfied: pyparsing>=2.2.1 in /home/eeas/.local/lib/python3.8/site-packages (from matplotlib->kneed) (2.4.7)\n",
      "Requirement already satisfied: pillow>=6.2.0 in /usr/lib/python3/dist-packages (from matplotlib->kneed) (7.0.0)\n",
      "Requirement already satisfied: six in /usr/lib/python3/dist-packages (from cycler>=0.10->matplotlib->kneed) (1.14.0)\n",
      "Requirement already satisfied: plotly in /home/eeas/.local/lib/python3.8/site-packages (4.14.3)\n",
      "Requirement already satisfied: retrying>=1.3.3 in /home/eeas/.local/lib/python3.8/site-packages (from plotly) (1.3.3)\n",
      "Requirement already satisfied: six in /usr/lib/python3/dist-packages (from plotly) (1.14.0)\n"
     ]
    }
   ],
   "source": [
    "!pip3 install sklearn\n",
    "!pip3 install scipy\n",
    "!pip3 install pandas\n",
    "!pip3 install numpy\n",
    "!pip3 install kneed\n",
    "!pip3 install plotly"
   ]
  },
  {
   "cell_type": "code",
   "execution_count": 90,
   "metadata": {},
   "outputs": [],
   "source": [
    "from sklearn import preprocessing\n",
    "from sklearn.cluster import KMeans\n",
    "from sklearn.decomposition import PCA\n",
    "from sklearn.model_selection import KFold\n",
    "from sklearn.naive_bayes import GaussianNB\n",
    "from sklearn.neighbors import KNeighborsClassifier\n",
    "from scipy.io import arff\n",
    "\n",
    "from kneed import KneeLocator\n",
    "\n",
    "import pandas as pd\n",
    "import numpy as np\n",
    "import plotly.graph_objects as go\n",
    "import plotly.express as px"
   ]
  },
  {
   "cell_type": "markdown",
   "metadata": {},
   "source": [
    "## Utils: Visualização"
   ]
  },
  {
   "cell_type": "code",
   "execution_count": 91,
   "metadata": {},
   "outputs": [],
   "source": [
    "def reduce_dimensions(df, n_dimensions):\n",
    "    pca = PCA(n_components=n_dimensions)\n",
    "    df = pca.fit_transform(df[df.columns].values)\n",
    "    return df\n",
    "\n",
    "def plot_clusters(df, kmeans):\n",
    "    fig = go.Figure(\n",
    "        data=[go.Bar(x=[1, 2, 3], y=[1, 3, 2])],\n",
    "        layout=dict(title=dict(text=\"A Figure Specified By A Graph Object\"))\n",
    "    )\n",
    "    fig.data = []\n",
    "    fig.layout = {}\n",
    "        \n",
    "    label = kmeans.fit_predict(df)\n",
    "    u_labels = np.unique(label)\n",
    "    \n",
    "    for i in u_labels:\n",
    "        fig.add_trace(\n",
    "            go.Scatter(\n",
    "                x=df[label == i , 0],\n",
    "                y=df[label == i , 1],\n",
    "                mode=\"markers\",\n",
    "                text=u_labels))\n",
    "    fig.show()"
   ]
  },
  {
   "cell_type": "markdown",
   "metadata": {},
   "source": [
    "## pré-processamento"
   ]
  },
  {
   "cell_type": "code",
   "execution_count": 92,
   "metadata": {},
   "outputs": [],
   "source": [
    "def group_by_class(X):\n",
    "    lines_to_remove = []\n",
    "    for index, row in X.iterrows():\n",
    "        if row['defects'] == b'true':\n",
    "            lines_to_remove.append(index)\n",
    "    defects_false = X.drop(lines_to_remove)\n",
    "    defects_true = X.iloc[lines_to_remove]\n",
    "    return defects_false, defects_true\n",
    "\n",
    "def normalize_data(X):\n",
    "    arr = X.values\n",
    "    scaler = preprocessing.MinMaxScaler()\n",
    "    X_scaled = scaler.fit_transform(arr)\n",
    "    return pd.DataFrame(X_scaled)\n",
    "\n",
    "def randomize_dataframe(df):\n",
    "    df = df.sample(frac=1, random_state=20)\n",
    "    df.reset_index(drop=True, inplace=True)\n",
    "    return df"
   ]
  },
  {
   "cell_type": "code",
   "execution_count": 93,
   "metadata": {},
   "outputs": [],
   "source": [
    "data = arff.loadarff('./datasets/CM1.arff')\n",
    "df = pd.DataFrame(data[0])\n",
    "df_false, df_true = group_by_class(df)\n",
    "\n",
    "df_false = df_false.drop(columns=['defects'])\n",
    "df_true = df_true.drop(columns=['defects'])\n",
    "\n",
    "df_false = normalize_data(df_false)\n",
    "df_true = normalize_data(df_true)"
   ]
  },
  {
   "cell_type": "markdown",
   "metadata": {},
   "source": [
    "## treinamento"
   ]
  },
  {
   "cell_type": "code",
   "execution_count": 94,
   "metadata": {},
   "outputs": [],
   "source": [
    "def get_sse(df, k_range, args):\n",
    "    sse = []\n",
    "    for k in k_range:\n",
    "        kmeans = KMeans(n_clusters=k, **args)\n",
    "        kmeans.fit(df)\n",
    "        sse.append(kmeans.inertia_)\n",
    "        \n",
    "    return sse\n",
    "\n",
    "def get_best_k(k_range, sse):\n",
    "    kl = KneeLocator(k_range, sse, curve=\"convex\", direction=\"decreasing\")\n",
    "    return kl.elbow\n",
    "\n",
    "def elbow_plot(k_range, sse):\n",
    "    fig = px.line(range(2,7), y=sse)\n",
    "    fig.show()\n",
    "    \n",
    "def generate_metaclasses(df, args):\n",
    "    kmeans = KMeans(**args)\n",
    "    metaclass = kmeans.fit_predict(df)\n",
    "    df['metaclass'] = metaclass\n",
    "    return df\n",
    "\n",
    "def nb_fit(df):\n",
    "    gnb = GaussianNB()\n",
    "    \n",
    "    y = df['metaclass']\n",
    "    X = df.drop(columns=['metaclass'])\n",
    "    \n",
    "    return gnb.fit(X, y)\n",
    "\n",
    "def nb_predict(gnb, test):\n",
    "    test = test.drop(columns=['metaclass'])\n",
    "    predicted_metaclasses = gnb.predict(test)\n",
    "    return predicted_metaclasses\n",
    "\n",
    "def nb_score(gnb, test_samples, true_labels):\n",
    "    return gnb.score(test_samples, true_labels)\n"
   ]
  },
  {
   "cell_type": "markdown",
   "metadata": {},
   "source": [
    "### clusters gerados com defects = false"
   ]
  },
  {
   "cell_type": "code",
   "execution_count": 95,
   "metadata": {
    "scrolled": false
   },
   "outputs": [
    {
     "name": "stdout",
     "output_type": "stream",
     "text": [
      "Melhor k: 4\n"
     ]
    },
    {
     "data": {
      "application/vnd.plotly.v1+json": {
       "config": {
        "plotlyServerURL": "https://plot.ly"
       },
       "data": [
        {
         "hovertemplate": "index=%{x}<br>y=%{y}<extra></extra>",
         "legendgroup": "",
         "line": {
          "color": "#636efa",
          "dash": "solid"
         },
         "mode": "lines",
         "name": "",
         "orientation": "v",
         "showlegend": false,
         "type": "scatter",
         "x": [
          0,
          1,
          2,
          3,
          4
         ],
         "xaxis": "x",
         "y": [
          54.13466811321928,
          38.25035560766174,
          28.784659030716146,
          23.974472338501997,
          20.725706618775643
         ],
         "yaxis": "y"
        }
       ],
       "layout": {
        "legend": {
         "tracegroupgap": 0
        },
        "margin": {
         "t": 60
        },
        "template": {
         "data": {
          "bar": [
           {
            "error_x": {
             "color": "#2a3f5f"
            },
            "error_y": {
             "color": "#2a3f5f"
            },
            "marker": {
             "line": {
              "color": "#E5ECF6",
              "width": 0.5
             }
            },
            "type": "bar"
           }
          ],
          "barpolar": [
           {
            "marker": {
             "line": {
              "color": "#E5ECF6",
              "width": 0.5
             }
            },
            "type": "barpolar"
           }
          ],
          "carpet": [
           {
            "aaxis": {
             "endlinecolor": "#2a3f5f",
             "gridcolor": "white",
             "linecolor": "white",
             "minorgridcolor": "white",
             "startlinecolor": "#2a3f5f"
            },
            "baxis": {
             "endlinecolor": "#2a3f5f",
             "gridcolor": "white",
             "linecolor": "white",
             "minorgridcolor": "white",
             "startlinecolor": "#2a3f5f"
            },
            "type": "carpet"
           }
          ],
          "choropleth": [
           {
            "colorbar": {
             "outlinewidth": 0,
             "ticks": ""
            },
            "type": "choropleth"
           }
          ],
          "contour": [
           {
            "colorbar": {
             "outlinewidth": 0,
             "ticks": ""
            },
            "colorscale": [
             [
              0,
              "#0d0887"
             ],
             [
              0.1111111111111111,
              "#46039f"
             ],
             [
              0.2222222222222222,
              "#7201a8"
             ],
             [
              0.3333333333333333,
              "#9c179e"
             ],
             [
              0.4444444444444444,
              "#bd3786"
             ],
             [
              0.5555555555555556,
              "#d8576b"
             ],
             [
              0.6666666666666666,
              "#ed7953"
             ],
             [
              0.7777777777777778,
              "#fb9f3a"
             ],
             [
              0.8888888888888888,
              "#fdca26"
             ],
             [
              1,
              "#f0f921"
             ]
            ],
            "type": "contour"
           }
          ],
          "contourcarpet": [
           {
            "colorbar": {
             "outlinewidth": 0,
             "ticks": ""
            },
            "type": "contourcarpet"
           }
          ],
          "heatmap": [
           {
            "colorbar": {
             "outlinewidth": 0,
             "ticks": ""
            },
            "colorscale": [
             [
              0,
              "#0d0887"
             ],
             [
              0.1111111111111111,
              "#46039f"
             ],
             [
              0.2222222222222222,
              "#7201a8"
             ],
             [
              0.3333333333333333,
              "#9c179e"
             ],
             [
              0.4444444444444444,
              "#bd3786"
             ],
             [
              0.5555555555555556,
              "#d8576b"
             ],
             [
              0.6666666666666666,
              "#ed7953"
             ],
             [
              0.7777777777777778,
              "#fb9f3a"
             ],
             [
              0.8888888888888888,
              "#fdca26"
             ],
             [
              1,
              "#f0f921"
             ]
            ],
            "type": "heatmap"
           }
          ],
          "heatmapgl": [
           {
            "colorbar": {
             "outlinewidth": 0,
             "ticks": ""
            },
            "colorscale": [
             [
              0,
              "#0d0887"
             ],
             [
              0.1111111111111111,
              "#46039f"
             ],
             [
              0.2222222222222222,
              "#7201a8"
             ],
             [
              0.3333333333333333,
              "#9c179e"
             ],
             [
              0.4444444444444444,
              "#bd3786"
             ],
             [
              0.5555555555555556,
              "#d8576b"
             ],
             [
              0.6666666666666666,
              "#ed7953"
             ],
             [
              0.7777777777777778,
              "#fb9f3a"
             ],
             [
              0.8888888888888888,
              "#fdca26"
             ],
             [
              1,
              "#f0f921"
             ]
            ],
            "type": "heatmapgl"
           }
          ],
          "histogram": [
           {
            "marker": {
             "colorbar": {
              "outlinewidth": 0,
              "ticks": ""
             }
            },
            "type": "histogram"
           }
          ],
          "histogram2d": [
           {
            "colorbar": {
             "outlinewidth": 0,
             "ticks": ""
            },
            "colorscale": [
             [
              0,
              "#0d0887"
             ],
             [
              0.1111111111111111,
              "#46039f"
             ],
             [
              0.2222222222222222,
              "#7201a8"
             ],
             [
              0.3333333333333333,
              "#9c179e"
             ],
             [
              0.4444444444444444,
              "#bd3786"
             ],
             [
              0.5555555555555556,
              "#d8576b"
             ],
             [
              0.6666666666666666,
              "#ed7953"
             ],
             [
              0.7777777777777778,
              "#fb9f3a"
             ],
             [
              0.8888888888888888,
              "#fdca26"
             ],
             [
              1,
              "#f0f921"
             ]
            ],
            "type": "histogram2d"
           }
          ],
          "histogram2dcontour": [
           {
            "colorbar": {
             "outlinewidth": 0,
             "ticks": ""
            },
            "colorscale": [
             [
              0,
              "#0d0887"
             ],
             [
              0.1111111111111111,
              "#46039f"
             ],
             [
              0.2222222222222222,
              "#7201a8"
             ],
             [
              0.3333333333333333,
              "#9c179e"
             ],
             [
              0.4444444444444444,
              "#bd3786"
             ],
             [
              0.5555555555555556,
              "#d8576b"
             ],
             [
              0.6666666666666666,
              "#ed7953"
             ],
             [
              0.7777777777777778,
              "#fb9f3a"
             ],
             [
              0.8888888888888888,
              "#fdca26"
             ],
             [
              1,
              "#f0f921"
             ]
            ],
            "type": "histogram2dcontour"
           }
          ],
          "mesh3d": [
           {
            "colorbar": {
             "outlinewidth": 0,
             "ticks": ""
            },
            "type": "mesh3d"
           }
          ],
          "parcoords": [
           {
            "line": {
             "colorbar": {
              "outlinewidth": 0,
              "ticks": ""
             }
            },
            "type": "parcoords"
           }
          ],
          "pie": [
           {
            "automargin": true,
            "type": "pie"
           }
          ],
          "scatter": [
           {
            "marker": {
             "colorbar": {
              "outlinewidth": 0,
              "ticks": ""
             }
            },
            "type": "scatter"
           }
          ],
          "scatter3d": [
           {
            "line": {
             "colorbar": {
              "outlinewidth": 0,
              "ticks": ""
             }
            },
            "marker": {
             "colorbar": {
              "outlinewidth": 0,
              "ticks": ""
             }
            },
            "type": "scatter3d"
           }
          ],
          "scattercarpet": [
           {
            "marker": {
             "colorbar": {
              "outlinewidth": 0,
              "ticks": ""
             }
            },
            "type": "scattercarpet"
           }
          ],
          "scattergeo": [
           {
            "marker": {
             "colorbar": {
              "outlinewidth": 0,
              "ticks": ""
             }
            },
            "type": "scattergeo"
           }
          ],
          "scattergl": [
           {
            "marker": {
             "colorbar": {
              "outlinewidth": 0,
              "ticks": ""
             }
            },
            "type": "scattergl"
           }
          ],
          "scattermapbox": [
           {
            "marker": {
             "colorbar": {
              "outlinewidth": 0,
              "ticks": ""
             }
            },
            "type": "scattermapbox"
           }
          ],
          "scatterpolar": [
           {
            "marker": {
             "colorbar": {
              "outlinewidth": 0,
              "ticks": ""
             }
            },
            "type": "scatterpolar"
           }
          ],
          "scatterpolargl": [
           {
            "marker": {
             "colorbar": {
              "outlinewidth": 0,
              "ticks": ""
             }
            },
            "type": "scatterpolargl"
           }
          ],
          "scatterternary": [
           {
            "marker": {
             "colorbar": {
              "outlinewidth": 0,
              "ticks": ""
             }
            },
            "type": "scatterternary"
           }
          ],
          "surface": [
           {
            "colorbar": {
             "outlinewidth": 0,
             "ticks": ""
            },
            "colorscale": [
             [
              0,
              "#0d0887"
             ],
             [
              0.1111111111111111,
              "#46039f"
             ],
             [
              0.2222222222222222,
              "#7201a8"
             ],
             [
              0.3333333333333333,
              "#9c179e"
             ],
             [
              0.4444444444444444,
              "#bd3786"
             ],
             [
              0.5555555555555556,
              "#d8576b"
             ],
             [
              0.6666666666666666,
              "#ed7953"
             ],
             [
              0.7777777777777778,
              "#fb9f3a"
             ],
             [
              0.8888888888888888,
              "#fdca26"
             ],
             [
              1,
              "#f0f921"
             ]
            ],
            "type": "surface"
           }
          ],
          "table": [
           {
            "cells": {
             "fill": {
              "color": "#EBF0F8"
             },
             "line": {
              "color": "white"
             }
            },
            "header": {
             "fill": {
              "color": "#C8D4E3"
             },
             "line": {
              "color": "white"
             }
            },
            "type": "table"
           }
          ]
         },
         "layout": {
          "annotationdefaults": {
           "arrowcolor": "#2a3f5f",
           "arrowhead": 0,
           "arrowwidth": 1
          },
          "autotypenumbers": "strict",
          "coloraxis": {
           "colorbar": {
            "outlinewidth": 0,
            "ticks": ""
           }
          },
          "colorscale": {
           "diverging": [
            [
             0,
             "#8e0152"
            ],
            [
             0.1,
             "#c51b7d"
            ],
            [
             0.2,
             "#de77ae"
            ],
            [
             0.3,
             "#f1b6da"
            ],
            [
             0.4,
             "#fde0ef"
            ],
            [
             0.5,
             "#f7f7f7"
            ],
            [
             0.6,
             "#e6f5d0"
            ],
            [
             0.7,
             "#b8e186"
            ],
            [
             0.8,
             "#7fbc41"
            ],
            [
             0.9,
             "#4d9221"
            ],
            [
             1,
             "#276419"
            ]
           ],
           "sequential": [
            [
             0,
             "#0d0887"
            ],
            [
             0.1111111111111111,
             "#46039f"
            ],
            [
             0.2222222222222222,
             "#7201a8"
            ],
            [
             0.3333333333333333,
             "#9c179e"
            ],
            [
             0.4444444444444444,
             "#bd3786"
            ],
            [
             0.5555555555555556,
             "#d8576b"
            ],
            [
             0.6666666666666666,
             "#ed7953"
            ],
            [
             0.7777777777777778,
             "#fb9f3a"
            ],
            [
             0.8888888888888888,
             "#fdca26"
            ],
            [
             1,
             "#f0f921"
            ]
           ],
           "sequentialminus": [
            [
             0,
             "#0d0887"
            ],
            [
             0.1111111111111111,
             "#46039f"
            ],
            [
             0.2222222222222222,
             "#7201a8"
            ],
            [
             0.3333333333333333,
             "#9c179e"
            ],
            [
             0.4444444444444444,
             "#bd3786"
            ],
            [
             0.5555555555555556,
             "#d8576b"
            ],
            [
             0.6666666666666666,
             "#ed7953"
            ],
            [
             0.7777777777777778,
             "#fb9f3a"
            ],
            [
             0.8888888888888888,
             "#fdca26"
            ],
            [
             1,
             "#f0f921"
            ]
           ]
          },
          "colorway": [
           "#636efa",
           "#EF553B",
           "#00cc96",
           "#ab63fa",
           "#FFA15A",
           "#19d3f3",
           "#FF6692",
           "#B6E880",
           "#FF97FF",
           "#FECB52"
          ],
          "font": {
           "color": "#2a3f5f"
          },
          "geo": {
           "bgcolor": "white",
           "lakecolor": "white",
           "landcolor": "#E5ECF6",
           "showlakes": true,
           "showland": true,
           "subunitcolor": "white"
          },
          "hoverlabel": {
           "align": "left"
          },
          "hovermode": "closest",
          "mapbox": {
           "style": "light"
          },
          "paper_bgcolor": "white",
          "plot_bgcolor": "#E5ECF6",
          "polar": {
           "angularaxis": {
            "gridcolor": "white",
            "linecolor": "white",
            "ticks": ""
           },
           "bgcolor": "#E5ECF6",
           "radialaxis": {
            "gridcolor": "white",
            "linecolor": "white",
            "ticks": ""
           }
          },
          "scene": {
           "xaxis": {
            "backgroundcolor": "#E5ECF6",
            "gridcolor": "white",
            "gridwidth": 2,
            "linecolor": "white",
            "showbackground": true,
            "ticks": "",
            "zerolinecolor": "white"
           },
           "yaxis": {
            "backgroundcolor": "#E5ECF6",
            "gridcolor": "white",
            "gridwidth": 2,
            "linecolor": "white",
            "showbackground": true,
            "ticks": "",
            "zerolinecolor": "white"
           },
           "zaxis": {
            "backgroundcolor": "#E5ECF6",
            "gridcolor": "white",
            "gridwidth": 2,
            "linecolor": "white",
            "showbackground": true,
            "ticks": "",
            "zerolinecolor": "white"
           }
          },
          "shapedefaults": {
           "line": {
            "color": "#2a3f5f"
           }
          },
          "ternary": {
           "aaxis": {
            "gridcolor": "white",
            "linecolor": "white",
            "ticks": ""
           },
           "baxis": {
            "gridcolor": "white",
            "linecolor": "white",
            "ticks": ""
           },
           "bgcolor": "#E5ECF6",
           "caxis": {
            "gridcolor": "white",
            "linecolor": "white",
            "ticks": ""
           }
          },
          "title": {
           "x": 0.05
          },
          "xaxis": {
           "automargin": true,
           "gridcolor": "white",
           "linecolor": "white",
           "ticks": "",
           "title": {
            "standoff": 15
           },
           "zerolinecolor": "white",
           "zerolinewidth": 2
          },
          "yaxis": {
           "automargin": true,
           "gridcolor": "white",
           "linecolor": "white",
           "ticks": "",
           "title": {
            "standoff": 15
           },
           "zerolinecolor": "white",
           "zerolinewidth": 2
          }
         }
        },
        "xaxis": {
         "anchor": "y",
         "domain": [
          0,
          1
         ],
         "title": {
          "text": "index"
         }
        },
        "yaxis": {
         "anchor": "x",
         "domain": [
          0,
          1
         ],
         "title": {
          "text": "y"
         }
        }
       }
      },
      "text/html": [
       "<div>                            <div id=\"c77db909-ec41-4771-a9fc-eb36b2dbda09\" class=\"plotly-graph-div\" style=\"height:525px; width:100%;\"></div>            <script type=\"text/javascript\">                require([\"plotly\"], function(Plotly) {                    window.PLOTLYENV=window.PLOTLYENV || {};                                    if (document.getElementById(\"c77db909-ec41-4771-a9fc-eb36b2dbda09\")) {                    Plotly.newPlot(                        \"c77db909-ec41-4771-a9fc-eb36b2dbda09\",                        [{\"hovertemplate\": \"index=%{x}<br>y=%{y}<extra></extra>\", \"legendgroup\": \"\", \"line\": {\"color\": \"#636efa\", \"dash\": \"solid\"}, \"mode\": \"lines\", \"name\": \"\", \"orientation\": \"v\", \"showlegend\": false, \"type\": \"scatter\", \"x\": [0, 1, 2, 3, 4], \"xaxis\": \"x\", \"y\": [54.13466811321928, 38.25035560766174, 28.784659030716146, 23.974472338501997, 20.725706618775643], \"yaxis\": \"y\"}],                        {\"legend\": {\"tracegroupgap\": 0}, \"margin\": {\"t\": 60}, \"template\": {\"data\": {\"bar\": [{\"error_x\": {\"color\": \"#2a3f5f\"}, \"error_y\": {\"color\": \"#2a3f5f\"}, \"marker\": {\"line\": {\"color\": \"#E5ECF6\", \"width\": 0.5}}, \"type\": \"bar\"}], \"barpolar\": [{\"marker\": {\"line\": {\"color\": \"#E5ECF6\", \"width\": 0.5}}, \"type\": \"barpolar\"}], \"carpet\": [{\"aaxis\": {\"endlinecolor\": \"#2a3f5f\", \"gridcolor\": \"white\", \"linecolor\": \"white\", \"minorgridcolor\": \"white\", \"startlinecolor\": \"#2a3f5f\"}, \"baxis\": {\"endlinecolor\": \"#2a3f5f\", \"gridcolor\": \"white\", \"linecolor\": \"white\", \"minorgridcolor\": \"white\", \"startlinecolor\": \"#2a3f5f\"}, \"type\": \"carpet\"}], \"choropleth\": [{\"colorbar\": {\"outlinewidth\": 0, \"ticks\": \"\"}, \"type\": \"choropleth\"}], \"contour\": [{\"colorbar\": {\"outlinewidth\": 0, \"ticks\": \"\"}, \"colorscale\": [[0.0, \"#0d0887\"], [0.1111111111111111, \"#46039f\"], [0.2222222222222222, \"#7201a8\"], [0.3333333333333333, \"#9c179e\"], [0.4444444444444444, \"#bd3786\"], [0.5555555555555556, \"#d8576b\"], [0.6666666666666666, \"#ed7953\"], [0.7777777777777778, \"#fb9f3a\"], [0.8888888888888888, \"#fdca26\"], [1.0, \"#f0f921\"]], \"type\": \"contour\"}], \"contourcarpet\": [{\"colorbar\": {\"outlinewidth\": 0, \"ticks\": \"\"}, \"type\": \"contourcarpet\"}], \"heatmap\": [{\"colorbar\": {\"outlinewidth\": 0, \"ticks\": \"\"}, \"colorscale\": [[0.0, \"#0d0887\"], [0.1111111111111111, \"#46039f\"], [0.2222222222222222, \"#7201a8\"], [0.3333333333333333, \"#9c179e\"], [0.4444444444444444, \"#bd3786\"], [0.5555555555555556, \"#d8576b\"], [0.6666666666666666, \"#ed7953\"], [0.7777777777777778, \"#fb9f3a\"], [0.8888888888888888, \"#fdca26\"], [1.0, \"#f0f921\"]], \"type\": \"heatmap\"}], \"heatmapgl\": [{\"colorbar\": {\"outlinewidth\": 0, \"ticks\": \"\"}, \"colorscale\": [[0.0, \"#0d0887\"], [0.1111111111111111, \"#46039f\"], [0.2222222222222222, \"#7201a8\"], [0.3333333333333333, \"#9c179e\"], [0.4444444444444444, \"#bd3786\"], [0.5555555555555556, \"#d8576b\"], [0.6666666666666666, \"#ed7953\"], [0.7777777777777778, \"#fb9f3a\"], [0.8888888888888888, \"#fdca26\"], [1.0, \"#f0f921\"]], \"type\": \"heatmapgl\"}], \"histogram\": [{\"marker\": {\"colorbar\": {\"outlinewidth\": 0, \"ticks\": \"\"}}, \"type\": \"histogram\"}], \"histogram2d\": [{\"colorbar\": {\"outlinewidth\": 0, \"ticks\": \"\"}, \"colorscale\": [[0.0, \"#0d0887\"], [0.1111111111111111, \"#46039f\"], [0.2222222222222222, \"#7201a8\"], [0.3333333333333333, \"#9c179e\"], [0.4444444444444444, \"#bd3786\"], [0.5555555555555556, \"#d8576b\"], [0.6666666666666666, \"#ed7953\"], [0.7777777777777778, \"#fb9f3a\"], [0.8888888888888888, \"#fdca26\"], [1.0, \"#f0f921\"]], \"type\": \"histogram2d\"}], \"histogram2dcontour\": [{\"colorbar\": {\"outlinewidth\": 0, \"ticks\": \"\"}, \"colorscale\": [[0.0, \"#0d0887\"], [0.1111111111111111, \"#46039f\"], [0.2222222222222222, \"#7201a8\"], [0.3333333333333333, \"#9c179e\"], [0.4444444444444444, \"#bd3786\"], [0.5555555555555556, \"#d8576b\"], [0.6666666666666666, \"#ed7953\"], [0.7777777777777778, \"#fb9f3a\"], [0.8888888888888888, \"#fdca26\"], [1.0, \"#f0f921\"]], \"type\": \"histogram2dcontour\"}], \"mesh3d\": [{\"colorbar\": {\"outlinewidth\": 0, \"ticks\": \"\"}, \"type\": \"mesh3d\"}], \"parcoords\": [{\"line\": {\"colorbar\": {\"outlinewidth\": 0, \"ticks\": \"\"}}, \"type\": \"parcoords\"}], \"pie\": [{\"automargin\": true, \"type\": \"pie\"}], \"scatter\": [{\"marker\": {\"colorbar\": {\"outlinewidth\": 0, \"ticks\": \"\"}}, \"type\": \"scatter\"}], \"scatter3d\": [{\"line\": {\"colorbar\": {\"outlinewidth\": 0, \"ticks\": \"\"}}, \"marker\": {\"colorbar\": {\"outlinewidth\": 0, \"ticks\": \"\"}}, \"type\": \"scatter3d\"}], \"scattercarpet\": [{\"marker\": {\"colorbar\": {\"outlinewidth\": 0, \"ticks\": \"\"}}, \"type\": \"scattercarpet\"}], \"scattergeo\": [{\"marker\": {\"colorbar\": {\"outlinewidth\": 0, \"ticks\": \"\"}}, \"type\": \"scattergeo\"}], \"scattergl\": [{\"marker\": {\"colorbar\": {\"outlinewidth\": 0, \"ticks\": \"\"}}, \"type\": \"scattergl\"}], \"scattermapbox\": [{\"marker\": {\"colorbar\": {\"outlinewidth\": 0, \"ticks\": \"\"}}, \"type\": \"scattermapbox\"}], \"scatterpolar\": [{\"marker\": {\"colorbar\": {\"outlinewidth\": 0, \"ticks\": \"\"}}, \"type\": \"scatterpolar\"}], \"scatterpolargl\": [{\"marker\": {\"colorbar\": {\"outlinewidth\": 0, \"ticks\": \"\"}}, \"type\": \"scatterpolargl\"}], \"scatterternary\": [{\"marker\": {\"colorbar\": {\"outlinewidth\": 0, \"ticks\": \"\"}}, \"type\": \"scatterternary\"}], \"surface\": [{\"colorbar\": {\"outlinewidth\": 0, \"ticks\": \"\"}, \"colorscale\": [[0.0, \"#0d0887\"], [0.1111111111111111, \"#46039f\"], [0.2222222222222222, \"#7201a8\"], [0.3333333333333333, \"#9c179e\"], [0.4444444444444444, \"#bd3786\"], [0.5555555555555556, \"#d8576b\"], [0.6666666666666666, \"#ed7953\"], [0.7777777777777778, \"#fb9f3a\"], [0.8888888888888888, \"#fdca26\"], [1.0, \"#f0f921\"]], \"type\": \"surface\"}], \"table\": [{\"cells\": {\"fill\": {\"color\": \"#EBF0F8\"}, \"line\": {\"color\": \"white\"}}, \"header\": {\"fill\": {\"color\": \"#C8D4E3\"}, \"line\": {\"color\": \"white\"}}, \"type\": \"table\"}]}, \"layout\": {\"annotationdefaults\": {\"arrowcolor\": \"#2a3f5f\", \"arrowhead\": 0, \"arrowwidth\": 1}, \"autotypenumbers\": \"strict\", \"coloraxis\": {\"colorbar\": {\"outlinewidth\": 0, \"ticks\": \"\"}}, \"colorscale\": {\"diverging\": [[0, \"#8e0152\"], [0.1, \"#c51b7d\"], [0.2, \"#de77ae\"], [0.3, \"#f1b6da\"], [0.4, \"#fde0ef\"], [0.5, \"#f7f7f7\"], [0.6, \"#e6f5d0\"], [0.7, \"#b8e186\"], [0.8, \"#7fbc41\"], [0.9, \"#4d9221\"], [1, \"#276419\"]], \"sequential\": [[0.0, \"#0d0887\"], [0.1111111111111111, \"#46039f\"], [0.2222222222222222, \"#7201a8\"], [0.3333333333333333, \"#9c179e\"], [0.4444444444444444, \"#bd3786\"], [0.5555555555555556, \"#d8576b\"], [0.6666666666666666, \"#ed7953\"], [0.7777777777777778, \"#fb9f3a\"], [0.8888888888888888, \"#fdca26\"], [1.0, \"#f0f921\"]], \"sequentialminus\": [[0.0, \"#0d0887\"], [0.1111111111111111, \"#46039f\"], [0.2222222222222222, \"#7201a8\"], [0.3333333333333333, \"#9c179e\"], [0.4444444444444444, \"#bd3786\"], [0.5555555555555556, \"#d8576b\"], [0.6666666666666666, \"#ed7953\"], [0.7777777777777778, \"#fb9f3a\"], [0.8888888888888888, \"#fdca26\"], [1.0, \"#f0f921\"]]}, \"colorway\": [\"#636efa\", \"#EF553B\", \"#00cc96\", \"#ab63fa\", \"#FFA15A\", \"#19d3f3\", \"#FF6692\", \"#B6E880\", \"#FF97FF\", \"#FECB52\"], \"font\": {\"color\": \"#2a3f5f\"}, \"geo\": {\"bgcolor\": \"white\", \"lakecolor\": \"white\", \"landcolor\": \"#E5ECF6\", \"showlakes\": true, \"showland\": true, \"subunitcolor\": \"white\"}, \"hoverlabel\": {\"align\": \"left\"}, \"hovermode\": \"closest\", \"mapbox\": {\"style\": \"light\"}, \"paper_bgcolor\": \"white\", \"plot_bgcolor\": \"#E5ECF6\", \"polar\": {\"angularaxis\": {\"gridcolor\": \"white\", \"linecolor\": \"white\", \"ticks\": \"\"}, \"bgcolor\": \"#E5ECF6\", \"radialaxis\": {\"gridcolor\": \"white\", \"linecolor\": \"white\", \"ticks\": \"\"}}, \"scene\": {\"xaxis\": {\"backgroundcolor\": \"#E5ECF6\", \"gridcolor\": \"white\", \"gridwidth\": 2, \"linecolor\": \"white\", \"showbackground\": true, \"ticks\": \"\", \"zerolinecolor\": \"white\"}, \"yaxis\": {\"backgroundcolor\": \"#E5ECF6\", \"gridcolor\": \"white\", \"gridwidth\": 2, \"linecolor\": \"white\", \"showbackground\": true, \"ticks\": \"\", \"zerolinecolor\": \"white\"}, \"zaxis\": {\"backgroundcolor\": \"#E5ECF6\", \"gridcolor\": \"white\", \"gridwidth\": 2, \"linecolor\": \"white\", \"showbackground\": true, \"ticks\": \"\", \"zerolinecolor\": \"white\"}}, \"shapedefaults\": {\"line\": {\"color\": \"#2a3f5f\"}}, \"ternary\": {\"aaxis\": {\"gridcolor\": \"white\", \"linecolor\": \"white\", \"ticks\": \"\"}, \"baxis\": {\"gridcolor\": \"white\", \"linecolor\": \"white\", \"ticks\": \"\"}, \"bgcolor\": \"#E5ECF6\", \"caxis\": {\"gridcolor\": \"white\", \"linecolor\": \"white\", \"ticks\": \"\"}}, \"title\": {\"x\": 0.05}, \"xaxis\": {\"automargin\": true, \"gridcolor\": \"white\", \"linecolor\": \"white\", \"ticks\": \"\", \"title\": {\"standoff\": 15}, \"zerolinecolor\": \"white\", \"zerolinewidth\": 2}, \"yaxis\": {\"automargin\": true, \"gridcolor\": \"white\", \"linecolor\": \"white\", \"ticks\": \"\", \"title\": {\"standoff\": 15}, \"zerolinecolor\": \"white\", \"zerolinewidth\": 2}}}, \"xaxis\": {\"anchor\": \"y\", \"domain\": [0.0, 1.0], \"title\": {\"text\": \"index\"}}, \"yaxis\": {\"anchor\": \"x\", \"domain\": [0.0, 1.0], \"title\": {\"text\": \"y\"}}},                        {\"responsive\": true}                    ).then(function(){\n",
       "                            \n",
       "var gd = document.getElementById('c77db909-ec41-4771-a9fc-eb36b2dbda09');\n",
       "var x = new MutationObserver(function (mutations, observer) {{\n",
       "        var display = window.getComputedStyle(gd).display;\n",
       "        if (!display || display === 'none') {{\n",
       "            console.log([gd, 'removed!']);\n",
       "            Plotly.purge(gd);\n",
       "            observer.disconnect();\n",
       "        }}\n",
       "}});\n",
       "\n",
       "// Listen for the removal of the full notebook cells\n",
       "var notebookContainer = gd.closest('#notebook-container');\n",
       "if (notebookContainer) {{\n",
       "    x.observe(notebookContainer, {childList: true});\n",
       "}}\n",
       "\n",
       "// Listen for the clearing of the current output cell\n",
       "var outputEl = gd.closest('.output');\n",
       "if (outputEl) {{\n",
       "    x.observe(outputEl, {childList: true});\n",
       "}}\n",
       "\n",
       "                        })                };                });            </script>        </div>"
      ]
     },
     "metadata": {},
     "output_type": "display_data"
    }
   ],
   "source": [
    "# criar meta classes de todo mundo\n",
    "k_range = [2,3,4,5,6]\n",
    "args = {\n",
    "    \"init\": \"random\",\n",
    "    \"n_init\": 10,\n",
    "    \"max_iter\": 300,\n",
    "    \"random_state\": 42,\n",
    "}\n",
    "sse = get_sse(df_false, k_range, args)\n",
    "best_k = get_best_k(k_range, sse) if get_best_k(k_range, sse) else 4\n",
    "print(\"Melhor k: {}\".format(best_k))\n",
    "elbow_plot(k_range, sse)"
   ]
  },
  {
   "cell_type": "code",
   "execution_count": 96,
   "metadata": {},
   "outputs": [],
   "source": [
    "args[\"n_clusters\"] = best_k\n",
    "df_false = generate_metaclasses(df_false, args)\n",
    "df_false_copy = df_false.copy()"
   ]
  },
  {
   "cell_type": "code",
   "execution_count": 97,
   "metadata": {
    "scrolled": true
   },
   "outputs": [
    {
     "data": {
      "application/vnd.plotly.v1+json": {
       "config": {
        "plotlyServerURL": "https://plot.ly"
       },
       "data": [
        {
         "mode": "markers",
         "text": [
          0,
          1,
          2,
          3
         ],
         "type": "scatter",
         "x": [
          -1.5126539105223433,
          -1.4784713692137135,
          -1.4569871818042521,
          -1.4539778468349567,
          -1.4649585424699627,
          -1.4652513369972615,
          -1.4544950801098349,
          -1.4662159317835224,
          -1.4626082582998816,
          -1.4506736276260994,
          -1.4485688440861175,
          -1.4725575320057482,
          -1.4761809283851837,
          -1.4565480584533566,
          -1.474593594170126,
          -1.4536993443368222,
          -1.4669878770496851,
          -1.4546780932686754,
          -1.467162120396963,
          -1.4501327955740357,
          -1.4586604850033946,
          -1.4541201152524619,
          -1.4520915546980546,
          -1.447472747755018,
          -1.4785505052577383,
          -1.4748165141522624,
          -1.456819064500975,
          -1.453954801919537,
          -1.455616274428649,
          -1.4753602533905024,
          -1.4590465921122406,
          -1.4472342491679782,
          -1.464797237014927,
          -1.4594617758130564,
          -1.4686092796285708,
          -1.4748165141522624,
          -1.471583575716664,
          -1.4689822338479663,
          -1.44728096979272,
          -1.4497329231307365,
          -1.4468006544734098,
          -1.4644809036100457,
          -1.4711736286342874,
          -1.47447829161887,
          -1.446152848465197,
          -1.4553497478334092,
          -1.4652230482591335,
          -1.4809601702349882,
          -1.4809601702349882,
          -1.4809601702349882,
          -1.4740017457554275,
          -1.469250925129465,
          -1.469394236508448,
          -1.4760376170062006,
          -1.480140122584163,
          -1.4583128548355433,
          -1.4471218592360167,
          -1.4684877446611022,
          -1.4531799241327084,
          -1.4531799241327084,
          -1.4684543131520418,
          -1.447506844930293,
          -1.4886612080110968,
          -1.4736260445585019,
          -1.4652230482591335,
          -1.469250925129465,
          -1.4809601702349882,
          -1.4809601702349882,
          -1.4892594852813674,
          -1.481509221415768,
          -1.4760376170062006,
          -1.4748843326098362,
          -1.474310400695236,
          -1.4551834671462094,
          -1.4482702113237453,
          -1.480140122584163,
          -1.4599876800199296,
          -1.472414220626765,
          -1.4654603251492542,
          -1.4547696349827446,
          -1.4892594852813674,
          -1.4657172184858227,
          -1.471312637161245,
          -1.4715881769601764,
          -1.4764327474480037,
          -1.4544950801098335,
          -1.4662159317835215,
          -1.4626082582998798,
          -1.4506736276260994,
          -1.4485688440861175,
          -1.4725575320057482,
          -1.4761809283851837,
          -1.4881035927807968,
          -1.4881035927807968,
          -1.4881035927807968,
          -1.4881035927807968,
          -1.4799079182902453,
          -1.4573277631457866,
          -1.4470415873756255,
          -1.4470415873756255,
          -1.4803264238601408,
          -1.4681474916835717,
          -1.4580243977422482,
          -1.4580243977422482,
          -1.4580243977422482,
          -1.4580243977422482,
          -1.4580243977422482,
          -1.4580243977422482,
          -1.4580243977422482,
          -1.4513381178607265,
          -1.4490938359655845,
          -1.4546652967770826,
          -1.4545718845286733,
          -1.4515839226893386,
          -1.450116823643014,
          -1.4558553581515563,
          -1.4593070261006862,
          -1.4635423523684064,
          -1.4631338744944309,
          -1.4532374334073404,
          -1.4556078290667602,
          -1.448676965581303,
          -1.4626810528089067,
          -1.4566891904242407,
          -1.457048708146028,
          -1.4468209425465859,
          -1.4504618574464898,
          -1.451377988300132,
          -1.4516290768421323,
          -1.4606753784902704,
          -1.4816525327947505,
          -1.4531902032416157,
          -1.4543848912216897,
          -1.488289834677725,
          -1.4596792602684625,
          -1.4802696246267057,
          -1.4801526243297336,
          -1.4587227800435438,
          -1.469301707679515,
          -1.4690265094385444,
          -1.471078087714965,
          -1.471078087714965,
          -1.4484992837099688,
          -1.458920373675671,
          -1.4592777117229587,
          -1.4615283599345603,
          -1.4713546173443786,
          -1.4547957657836308,
          -1.4518834816740007,
          -1.4473229468283535,
          -1.472085525378092,
          -1.4566372314489764,
          -1.4489390893010234,
          -1.4590437045575644,
          -1.4597447434042528,
          -1.4484089745669197,
          -1.4588489889503946,
          -1.4795093431147552,
          -1.4513747488680502,
          -1.4486807850523564,
          -1.446104587869487,
          -1.4697597216372404,
          -1.4479247570766258,
          -1.4611520602821024,
          -1.4580670666777915,
          -1.4555875567000305,
          -1.4639015300495697,
          -1.4561101612440217,
          -1.4815061355311017,
          -1.4881162902721365,
          -1.4639015300495697,
          -1.458034250487237,
          -1.4815061355311017,
          -1.4881162902721365,
          -1.4616163169094682,
          -1.463682407053336,
          -1.44816505800407,
          -1.4599086028711394,
          -1.4599086028711394,
          -1.4726427824660455,
          -1.4603923444842675,
          -1.4620359500643823,
          -1.4552065186076495,
          -1.4726427824660455,
          -1.4603923444842675,
          -1.4620359500643823,
          -1.4552065186076495,
          -1.4660076008324068,
          -1.4660076008324068,
          -1.4636529815710204,
          -1.4807540662115133,
          -1.4641873393730882,
          -1.4881035927807968,
          -1.468273401310185,
          -1.4583580583041738,
          -1.450553655915122,
          -1.4496835333562252,
          -1.4554011369303406,
          -1.455307749475825,
          -1.450438917088656,
          -1.4482014321318373,
          -1.4540204732529263,
          -1.4601793244063601,
          -1.4672489742025692,
          -1.4683843692009242,
          -1.4448923009270198,
          -1.479667893814262,
          -1.4530996616038931,
          -1.4690646136026075,
          -1.4544950801098333,
          -1.4662159317835208,
          -1.4626082582998798,
          -1.450673627626099,
          -1.448568844086118,
          -1.4725575320057482,
          -1.4761809283851834,
          -1.450798529045162
         ],
         "y": [
          -0.12824678461642566,
          -0.10998392174379387,
          -0.03665145853248959,
          -0.022284762562267194,
          -0.07438432871662642,
          -0.07715752684040661,
          -0.04129581396301471,
          -0.0885241054132012,
          -0.06465790408686733,
          -0.015016037935450848,
          -0.0006072634244684522,
          -0.1058196447302214,
          -0.11774189792838742,
          -0.036004189448081036,
          -0.10681750622564996,
          -0.011427592659493906,
          -0.0763133374405876,
          -0.03849004782817157,
          -0.08059632547283502,
          0.003422419729379334,
          -0.046086880894664554,
          -0.017895881144615936,
          -0.018482307421934543,
          0.017910436343606482,
          -0.10794604714482912,
          -0.10638913659597551,
          -0.03710695412312833,
          -0.018414801141782306,
          -0.03666431789436845,
          -0.11030661424282717,
          -0.05142827409323414,
          0.020616616025007844,
          -0.08043917012666693,
          -0.05901798500653467,
          -0.09012142945670004,
          -0.10638913659597551,
          -0.10165288366880876,
          -0.09357608886946149,
          0.022781935782858895,
          0.008234442909516842,
          0.02426400135564923,
          -0.08201608085863249,
          -0.09943123592527352,
          -0.10656581479793588,
          0.034033611929212865,
          -0.03510825660229939,
          -0.06242035163002132,
          -0.1269324700355827,
          -0.1269324700355827,
          -0.1269324700355827,
          -0.08065657773466875,
          -0.0722357264161024,
          -0.07381416672020889,
          -0.1161634576242809,
          -0.12155864073071652,
          -0.03347794216944362,
          0.013809303159187013,
          -0.09123213549043017,
          -0.018049871018724507,
          -0.018049871018724507,
          -0.09294786106096994,
          0.027699403849898906,
          -0.1420921742561062,
          -0.08967957411191833,
          -0.06242035163002132,
          -0.0722357264161024,
          -0.1269324700355827,
          -0.1269324700355827,
          -0.1460497239884207,
          -0.1308507600484904,
          -0.1161634576242809,
          -0.10691601880765031,
          -0.08717133593326554,
          0.001081683817597747,
          0.0148904130872724,
          -0.12155864073071652,
          -0.0648726894766111,
          -0.10424120442611491,
          -0.085757972435314,
          -0.04085482268933775,
          -0.1460497239884207,
          -0.06921482474825316,
          -0.09932214782068631,
          -0.10069030558862897,
          -0.11959428389759869,
          -0.041295813963014856,
          -0.08852410541320131,
          -0.06465790408686754,
          -0.015016037935450848,
          -0.0006072634244684522,
          -0.1058196447302214,
          -0.11774189792838742,
          -0.13598426008905962,
          -0.13598426008905962,
          -0.13598426008905962,
          -0.13598426008905962,
          -0.11561393603407333,
          -0.03131432392614033,
          0.02045684309591157,
          0.02045684309591157,
          -0.11702112025884023,
          -0.08586714637772076,
          -0.04403129979449239,
          -0.04403129979449239,
          -0.04403129979449239,
          -0.04403129979449239,
          -0.04403129979449239,
          -0.04403129979449239,
          -0.04403129979449239,
          -0.01783249899847934,
          -7.948020851842539e-05,
          -0.014360281677337229,
          -0.029175114309557562,
          -0.009068437174620393,
          -0.008403587914588184,
          -0.024535832532141665,
          -0.04590254929119236,
          -0.07235311471970332,
          -0.06801509177951137,
          -0.016181436526551646,
          -0.02425046207730747,
          0.009543577240237881,
          -0.06495249501832837,
          -0.021751665351109867,
          -0.046641548377327154,
          0.025098652484305078,
          0.0002681841680886775,
          -0.006922977523103107,
          -0.00901515748646256,
          -0.042485558514210695,
          -0.13242920035259692,
          0.010411235055244406,
          -0.02419704242717277,
          -0.1384592592821106,
          -0.05907967902648112,
          -0.12209678824695458,
          -0.11924037265909312,
          -0.044193895094636046,
          -0.09676736218698605,
          -0.094524620636821,
          -0.09837894238920251,
          -0.09837894238920251,
          0.00793548480661222,
          -0.04108981303075603,
          -0.047176694682892845,
          -0.06647777103504635,
          -0.10036058633597374,
          -0.028332798603274697,
          -0.016616054544207375,
          0.02143970183656838,
          -0.10576899795234923,
          -0.035672700330310086,
          0.014244787773869146,
          -0.051615288724216474,
          -0.05868648221986402,
          -0.00031668903647095477,
          -0.04604409048402174,
          -0.1130357065091154,
          -0.00945579568516121,
          0.0008815777351141565,
          0.015284649995796843,
          -0.08128905302997327,
          0.020210275205370477,
          -0.021414270035303756,
          -0.04941952713209367,
          -0.004309396878409767,
          -0.06466130462752807,
          -0.033985430436106134,
          -0.13104260129070675,
          -0.13898942240214687,
          -0.06466130462752807,
          -0.03899478297224347,
          -0.13104260129070675,
          -0.13898942240214687,
          -0.05616500568513617,
          -0.06235264333796591,
          0.008085048301042633,
          -0.05237890766461639,
          -0.05237890766461639,
          -0.08860732564397004,
          -0.057528621235268806,
          -0.06298424687764155,
          -0.023522223675125742,
          -0.08860732564397004,
          -0.057528621235268806,
          -0.06298424687764155,
          -0.023522223675125742,
          -0.1250309110658971,
          -0.1250309110658971,
          -0.10160413307192476,
          -0.12222060374173842,
          -0.06796373732633282,
          -0.13598426008905962,
          -0.08577669963714159,
          -0.04159483764966843,
          -0.0057629729328897185,
          0.01059550147214218,
          -0.02950638995527557,
          -0.028098764538919213,
          -0.011310996141608262,
          0.018034146279666523,
          -0.023261610845330693,
          -0.05500078716756094,
          -0.08090405656445211,
          -0.06940606899685425,
          0.050146758312473776,
          -0.11764651042060555,
          0.0034041327571206845,
          -0.09585684653303093,
          -0.04129581396301484,
          -0.08852410541320131,
          -0.06465790408686754,
          -0.015016037935450888,
          -0.0006072634244684078,
          -0.10581964473022139,
          -0.11774189792838746,
          -0.005004921740552677
         ]
        },
        {
         "mode": "markers",
         "text": [
          0,
          1,
          2,
          3
         ],
         "type": "scatter",
         "x": [
          -0.10017209745244353,
          -0.06849722689749953
         ],
         "y": [
          3.336999395793074,
          3.7638374213515777
         ]
        },
        {
         "mode": "markers",
         "text": [
          0,
          1,
          2,
          3
         ],
         "type": "scatter",
         "x": [
          1.5344358800676914,
          1.5354422960199736,
          1.5415213946994186,
          1.5415213946994208,
          1.5503999087422304,
          1.571901419726138,
          1.5610626200233573,
          1.557722341353175,
          1.550552105154534,
          1.5673369983592438,
          1.5515579789771106,
          1.5320890876618853,
          1.546314308913636,
          1.5422209846798247,
          1.5333452925431115,
          1.5753777021023352,
          1.5339032830684343,
          1.546810866486172,
          1.534714109734641,
          1.53676700741046,
          1.559246575373993,
          1.5515865606731056,
          1.5439660896152618,
          1.5553658256337286,
          1.5465311733530345,
          1.5619835130942732,
          1.5910022743839434,
          1.5816769609908512,
          1.5388964183115517,
          1.583840730225465,
          1.5447902287414086,
          1.5605585411277634,
          1.5677990975156786,
          1.5332395334175872,
          1.5399163099783844,
          1.5422345504026607,
          1.561488736745822,
          1.560316933328957,
          1.5343179667127633,
          1.5343179667127633,
          1.5453406135804877,
          1.538204645231104,
          1.5753293941677298,
          1.5625423528662876,
          1.5515339517422837,
          1.587399745744128,
          1.5535733696927079,
          1.5909046803552094,
          1.5358775709069628,
          1.5530891426233868,
          1.5557145419097305,
          1.5488055700159613,
          1.542505718135547,
          1.5495897975470578,
          1.5507863457806907,
          1.545454534595771,
          1.54803801486698,
          1.5689191317645617,
          1.5320154660487943,
          1.531869068785145,
          1.5608876803426228,
          1.5426729001997785,
          1.533167368063613,
          1.5317693664932621,
          1.536709958576162,
          1.5383206048650104,
          1.5507077624999421,
          1.587826941669522,
          1.5582037210256352,
          1.565289411775759,
          1.5493492418334032,
          1.535857242243793,
          1.5355546362508035,
          1.5516746463894935,
          1.5328641880568323,
          1.5423538784532655,
          1.5772269915961363,
          1.585268164348693,
          1.5412469031129488,
          1.5615031970195148,
          1.5363027484768272,
          1.562865000763076,
          1.5336647896462356,
          1.5366729749422585,
          1.5327059444042828,
          1.5383983021277003,
          1.5499340901092633,
          1.5335982963005896,
          1.5471223350264702,
          1.541815313371372,
          1.5604211741314091,
          1.5362076971315846,
          1.5674208386606878,
          1.5518671741372605,
          1.552171553107563,
          1.5427839847009714,
          1.5458276407949791,
          1.5530742897520162,
          1.5487704600051633,
          1.5597754306601472,
          1.5458625069565104,
          1.5321820653332225,
          1.545483394976728,
          1.5616166087422065,
          1.5523371291087473,
          1.573767880271591,
          1.5603775010285126,
          1.5442195187770993,
          1.542901624154761,
          1.56198100568306,
          1.537058015451633,
          1.551540553256849,
          1.5354537176175052,
          1.5863433582618347,
          1.5369015064855693,
          1.5324844135708697,
          1.5691332303538632,
          1.5389895897048178,
          1.5475260738621583,
          1.5328636531903543,
          1.5494592957858961,
          1.5494592957858961,
          1.5506169821600109,
          1.5506169821600109,
          1.592117237120891,
          1.56906552902821,
          1.5852425589996673,
          1.5650020720926565,
          1.550548794471008,
          1.5649902153107162,
          1.5889540807138187,
          1.5365566719953936,
          1.5448830615536546,
          1.557668030784038,
          1.5372797777533025,
          1.5359226834574145,
          1.559265644507426,
          1.5819469615242436,
          1.5493289315981398,
          1.5375559751942967,
          1.5605694712313904,
          1.5421159130020679,
          1.5419754551706744,
          1.5466486067974072,
          1.5534412730970446,
          1.5367145270655866,
          1.555754866404319,
          1.559556410672982,
          1.5595803648996691,
          1.569677028463854,
          1.5474910446130672,
          1.5517151938371134,
          1.5392796625393625,
          1.5836209329879798,
          1.5332284232680053,
          1.532315316964029,
          1.581063321805491,
          1.5454327695851175,
          1.5605065710771346,
          1.563830102695485,
          1.5726303199960279,
          1.5849651478402604,
          1.5379193823750876,
          1.5363008208180065,
          1.545201739903343,
          1.5327045195938034,
          1.5711518155977393,
          1.5394478718682076,
          1.5674945260854758,
          1.543476970614119,
          1.5429473292081137,
          1.5368005801179532,
          1.5367142946190748,
          1.5440768058221044,
          1.5655815373473292,
          1.5369389843739942,
          1.5588289727993494,
          1.5595124285435145,
          1.560217912363985,
          1.5694970787364306,
          1.5499340901092633,
          1.5335982963005896,
          1.5471223350264702,
          1.559399995913213,
          1.5581652905785384,
          1.5605307694439676,
          1.5349573006838673
         ],
         "y": [
          -0.26691796877643126,
          -0.26741742180499956,
          -0.20801011173027636,
          -0.20801011173027653,
          -0.1138912651226875,
          0.06559573347545498,
          -0.04140180855678583,
          -0.06777793374081549,
          -0.12095077963951024,
          -0.017980048117560068,
          -0.13936453087386647,
          -0.2832361839249429,
          -0.17097802969871986,
          -0.20490259168579786,
          -0.2812046905162385,
          0.06227878803171102,
          -0.2754922924371523,
          -0.17686926484715546,
          -0.24760288450694518,
          -0.247734244165013,
          -0.05273134618023998,
          -0.1439545070995145,
          -0.17941164510158125,
          -0.11525637750349037,
          -0.1855734800517724,
          -0.06878934706786811,
          0.2000513169149064,
          0.13339461409713008,
          -0.22340945833332948,
          0.13077876897780377,
          -0.1608166696914163,
          -0.07561163574822777,
          0.001903527613035073,
          -0.2549151200588586,
          -0.23676358998021535,
          -0.21995231510810576,
          -0.06934325017123386,
          -0.04296933050502427,
          -0.27244237070558036,
          -0.27244237070558036,
          -0.1951106060657185,
          -0.24357132833994588,
          0.06202706529780409,
          -0.0590129689955609,
          -0.1447597434538576,
          0.18468811190209775,
          -0.1359029314045725,
          0.18153969624196467,
          -0.24033302262991105,
          -0.14147336241074504,
          -0.10668644194129487,
          -0.16496882700523288,
          -0.20680941954121831,
          -0.15614824335131822,
          -0.13366196042164408,
          -0.18590970239804505,
          -0.14956494142938354,
          -0.007930068071548458,
          -0.3030778557969804,
          -0.3044644548588704,
          -0.044604835748399574,
          -0.2137617296775078,
          -0.2869980568943502,
          -0.2952475706829608,
          -0.26404363855861207,
          -0.24751146727751883,
          -0.14663435467440875,
          0.187426875353198,
          -0.08077650689121371,
          -0.03668007380862449,
          -0.16613415641325252,
          -0.2780750956052723,
          -0.24638042456377462,
          -0.13278144616086382,
          -0.2885834944392789,
          -0.22124827828210136,
          0.07903191795154466,
          0.1707319515683008,
          -0.2208176760295526,
          -0.05086024405612371,
          -0.2581089808301496,
          -0.062189191302818185,
          -0.2717458329918842,
          -0.2474862988445556,
          -0.28670643557842973,
          -0.24996992362948017,
          -0.15297644917389036,
          -0.2965666029377748,
          -0.18031004496506053,
          -0.20298697740822264,
          -0.05636022403966685,
          -0.2609755502191883,
          -0.021879026218651194,
          -0.16201013272447515,
          -0.1583883541020442,
          -0.21027850092629452,
          -0.16918652693059943,
          -0.12531480484934523,
          -0.16780286740304687,
          -0.07019828706809911,
          -0.1855399073513624,
          -0.279370238491046,
          -0.18373941942534075,
          -0.04436605076792408,
          -0.10180135486275477,
          0.04439757920242291,
          -0.06074521852321163,
          -0.181271791574474,
          -0.22935224545006844,
          -0.07674101031826518,
          -0.24343439286104257,
          -0.14596993619451953,
          -0.2616345979232605,
          0.12376005329055867,
          -0.2644556569384228,
          -0.294079759439777,
          -0.010735419620329178,
          -0.2383837778865451,
          -0.18042155354118977,
          -0.27884416378384663,
          -0.1619379566292809,
          -0.1619379566292809,
          -0.15588718644437902,
          -0.15588718644437902,
          0.2053469702807953,
          -0.006543469009658337,
          0.13593982529046847,
          -0.013649271798360686,
          -0.14987236217529978,
          -0.026242306253974248,
          0.19652676591990878,
          -0.2330501865563077,
          -0.20158551734263694,
          -0.0845119919719653,
          -0.2527359936818188,
          -0.25980776443518444,
          -0.08663822289358052,
          0.14033887596258923,
          -0.15895491039086865,
          -0.23105071726568885,
          -0.07989056062364454,
          -0.221913178149712,
          -0.20899457568066937,
          -0.18280321164966318,
          -0.12161019409966276,
          -0.24815871635651232,
          -0.09372476734149225,
          -0.08139389178738486,
          -0.07829852543408926,
          0.01502918280391815,
          -0.18873629887507673,
          -0.1267100751160762,
          -0.2217385321726599,
          0.18134554037680994,
          -0.2683885533943946,
          -0.2896521935390033,
          0.13644277453794013,
          -0.18453824547064626,
          -0.07685446132626293,
          -0.05188078170574359,
          0.03978040997558775,
          0.1760670449084393,
          -0.24584321367820614,
          -0.25123978834346544,
          -0.1954197088262087,
          -0.2871801919029683,
          0.01147961035788746,
          -0.22790117723890155,
          -0.012459692710498793,
          -0.18456581201094585,
          -0.19123524409747844,
          -0.26336121611733754,
          -0.26187416690927223,
          -0.1954209969837056,
          -0.008961820427175884,
          -0.2552003584791547,
          -0.02548796709226302,
          -0.046299015731241996,
          -0.014365272128101028,
          0.0289225328605188,
          -0.15297644917389036,
          -0.2965666029377748,
          -0.18031004496506053,
          -0.08862109212231524,
          -0.09936892546940998,
          -0.08378507769772622,
          -0.2623972755647069
         ]
        },
        {
         "mode": "markers",
         "text": [
          0,
          1,
          2,
          3
         ],
         "type": "scatter",
         "x": [
          0.6152961855753307,
          0.7081600385602347,
          0.6121568568123464,
          0.6611227695901339,
          0.6739807305553235,
          0.6267588567365431,
          0.6755840455512798,
          0.6774790809691026,
          0.6394110481427123,
          0.6469563829001305,
          0.6487035479519312,
          0.6623678137272686,
          0.6287308423818196,
          0.6595526578457083,
          0.629805779859272,
          0.6141573056558728,
          0.6072861213035032,
          0.602534459890535,
          0.6407250646563948,
          0.7012244146833357,
          0.6361741173649643,
          0.6746272089739481,
          0.6101215773901734,
          0.6864327114523331,
          0.6202055882429937,
          0.6090533266126492,
          0.6057265180203124,
          0.6057265180203124,
          0.6096922728724442,
          0.6096922728724442,
          0.6252721170045278,
          0.6938958240382117,
          0.6026414715010587,
          0.6286199495728534,
          0.6043026725662957,
          0.6420335874913041,
          0.6301938812143314,
          0.6776847961599359,
          0.7420272542835157,
          0.6331380646000551,
          0.6330259103187599,
          0.6408795091555854,
          0.6158709649890376
         ],
         "y": [
          0.4866414711408305,
          1.3675686664257003,
          0.41093498782987004,
          0.8468907371424361,
          1.0665788854029383,
          0.5595784990795526,
          1.0627169402485774,
          1.0500630472924406,
          0.6264004864768162,
          0.7856534808591527,
          0.7800244563313634,
          0.9144031792769078,
          0.6120509477407738,
          0.8426618498983331,
          0.6845113208968485,
          0.46229142711907756,
          0.36260743211036905,
          0.355569944735532,
          0.6823346352488907,
          1.2720599109931847,
          0.658633974619027,
          0.9959474129084115,
          0.3782184896044412,
          1.1143238359910919,
          0.49719635592641387,
          0.41552326058814787,
          0.36938816522579354,
          0.36938816522579354,
          0.4002950261311005,
          0.4002950261311005,
          0.574757613611794,
          1.2014527164650852,
          0.3410269214970434,
          0.5992989169335484,
          0.37724114583516677,
          0.7229500525048904,
          0.6447805161692969,
          1.1092021631046656,
          1.7537723006396815,
          0.63014156041602,
          0.6240431039462836,
          0.7117573087039128,
          0.43332866397955383
         ]
        }
       ],
       "layout": {
        "template": {
         "data": {
          "bar": [
           {
            "error_x": {
             "color": "#2a3f5f"
            },
            "error_y": {
             "color": "#2a3f5f"
            },
            "marker": {
             "line": {
              "color": "#E5ECF6",
              "width": 0.5
             }
            },
            "type": "bar"
           }
          ],
          "barpolar": [
           {
            "marker": {
             "line": {
              "color": "#E5ECF6",
              "width": 0.5
             }
            },
            "type": "barpolar"
           }
          ],
          "carpet": [
           {
            "aaxis": {
             "endlinecolor": "#2a3f5f",
             "gridcolor": "white",
             "linecolor": "white",
             "minorgridcolor": "white",
             "startlinecolor": "#2a3f5f"
            },
            "baxis": {
             "endlinecolor": "#2a3f5f",
             "gridcolor": "white",
             "linecolor": "white",
             "minorgridcolor": "white",
             "startlinecolor": "#2a3f5f"
            },
            "type": "carpet"
           }
          ],
          "choropleth": [
           {
            "colorbar": {
             "outlinewidth": 0,
             "ticks": ""
            },
            "type": "choropleth"
           }
          ],
          "contour": [
           {
            "colorbar": {
             "outlinewidth": 0,
             "ticks": ""
            },
            "colorscale": [
             [
              0,
              "#0d0887"
             ],
             [
              0.1111111111111111,
              "#46039f"
             ],
             [
              0.2222222222222222,
              "#7201a8"
             ],
             [
              0.3333333333333333,
              "#9c179e"
             ],
             [
              0.4444444444444444,
              "#bd3786"
             ],
             [
              0.5555555555555556,
              "#d8576b"
             ],
             [
              0.6666666666666666,
              "#ed7953"
             ],
             [
              0.7777777777777778,
              "#fb9f3a"
             ],
             [
              0.8888888888888888,
              "#fdca26"
             ],
             [
              1,
              "#f0f921"
             ]
            ],
            "type": "contour"
           }
          ],
          "contourcarpet": [
           {
            "colorbar": {
             "outlinewidth": 0,
             "ticks": ""
            },
            "type": "contourcarpet"
           }
          ],
          "heatmap": [
           {
            "colorbar": {
             "outlinewidth": 0,
             "ticks": ""
            },
            "colorscale": [
             [
              0,
              "#0d0887"
             ],
             [
              0.1111111111111111,
              "#46039f"
             ],
             [
              0.2222222222222222,
              "#7201a8"
             ],
             [
              0.3333333333333333,
              "#9c179e"
             ],
             [
              0.4444444444444444,
              "#bd3786"
             ],
             [
              0.5555555555555556,
              "#d8576b"
             ],
             [
              0.6666666666666666,
              "#ed7953"
             ],
             [
              0.7777777777777778,
              "#fb9f3a"
             ],
             [
              0.8888888888888888,
              "#fdca26"
             ],
             [
              1,
              "#f0f921"
             ]
            ],
            "type": "heatmap"
           }
          ],
          "heatmapgl": [
           {
            "colorbar": {
             "outlinewidth": 0,
             "ticks": ""
            },
            "colorscale": [
             [
              0,
              "#0d0887"
             ],
             [
              0.1111111111111111,
              "#46039f"
             ],
             [
              0.2222222222222222,
              "#7201a8"
             ],
             [
              0.3333333333333333,
              "#9c179e"
             ],
             [
              0.4444444444444444,
              "#bd3786"
             ],
             [
              0.5555555555555556,
              "#d8576b"
             ],
             [
              0.6666666666666666,
              "#ed7953"
             ],
             [
              0.7777777777777778,
              "#fb9f3a"
             ],
             [
              0.8888888888888888,
              "#fdca26"
             ],
             [
              1,
              "#f0f921"
             ]
            ],
            "type": "heatmapgl"
           }
          ],
          "histogram": [
           {
            "marker": {
             "colorbar": {
              "outlinewidth": 0,
              "ticks": ""
             }
            },
            "type": "histogram"
           }
          ],
          "histogram2d": [
           {
            "colorbar": {
             "outlinewidth": 0,
             "ticks": ""
            },
            "colorscale": [
             [
              0,
              "#0d0887"
             ],
             [
              0.1111111111111111,
              "#46039f"
             ],
             [
              0.2222222222222222,
              "#7201a8"
             ],
             [
              0.3333333333333333,
              "#9c179e"
             ],
             [
              0.4444444444444444,
              "#bd3786"
             ],
             [
              0.5555555555555556,
              "#d8576b"
             ],
             [
              0.6666666666666666,
              "#ed7953"
             ],
             [
              0.7777777777777778,
              "#fb9f3a"
             ],
             [
              0.8888888888888888,
              "#fdca26"
             ],
             [
              1,
              "#f0f921"
             ]
            ],
            "type": "histogram2d"
           }
          ],
          "histogram2dcontour": [
           {
            "colorbar": {
             "outlinewidth": 0,
             "ticks": ""
            },
            "colorscale": [
             [
              0,
              "#0d0887"
             ],
             [
              0.1111111111111111,
              "#46039f"
             ],
             [
              0.2222222222222222,
              "#7201a8"
             ],
             [
              0.3333333333333333,
              "#9c179e"
             ],
             [
              0.4444444444444444,
              "#bd3786"
             ],
             [
              0.5555555555555556,
              "#d8576b"
             ],
             [
              0.6666666666666666,
              "#ed7953"
             ],
             [
              0.7777777777777778,
              "#fb9f3a"
             ],
             [
              0.8888888888888888,
              "#fdca26"
             ],
             [
              1,
              "#f0f921"
             ]
            ],
            "type": "histogram2dcontour"
           }
          ],
          "mesh3d": [
           {
            "colorbar": {
             "outlinewidth": 0,
             "ticks": ""
            },
            "type": "mesh3d"
           }
          ],
          "parcoords": [
           {
            "line": {
             "colorbar": {
              "outlinewidth": 0,
              "ticks": ""
             }
            },
            "type": "parcoords"
           }
          ],
          "pie": [
           {
            "automargin": true,
            "type": "pie"
           }
          ],
          "scatter": [
           {
            "marker": {
             "colorbar": {
              "outlinewidth": 0,
              "ticks": ""
             }
            },
            "type": "scatter"
           }
          ],
          "scatter3d": [
           {
            "line": {
             "colorbar": {
              "outlinewidth": 0,
              "ticks": ""
             }
            },
            "marker": {
             "colorbar": {
              "outlinewidth": 0,
              "ticks": ""
             }
            },
            "type": "scatter3d"
           }
          ],
          "scattercarpet": [
           {
            "marker": {
             "colorbar": {
              "outlinewidth": 0,
              "ticks": ""
             }
            },
            "type": "scattercarpet"
           }
          ],
          "scattergeo": [
           {
            "marker": {
             "colorbar": {
              "outlinewidth": 0,
              "ticks": ""
             }
            },
            "type": "scattergeo"
           }
          ],
          "scattergl": [
           {
            "marker": {
             "colorbar": {
              "outlinewidth": 0,
              "ticks": ""
             }
            },
            "type": "scattergl"
           }
          ],
          "scattermapbox": [
           {
            "marker": {
             "colorbar": {
              "outlinewidth": 0,
              "ticks": ""
             }
            },
            "type": "scattermapbox"
           }
          ],
          "scatterpolar": [
           {
            "marker": {
             "colorbar": {
              "outlinewidth": 0,
              "ticks": ""
             }
            },
            "type": "scatterpolar"
           }
          ],
          "scatterpolargl": [
           {
            "marker": {
             "colorbar": {
              "outlinewidth": 0,
              "ticks": ""
             }
            },
            "type": "scatterpolargl"
           }
          ],
          "scatterternary": [
           {
            "marker": {
             "colorbar": {
              "outlinewidth": 0,
              "ticks": ""
             }
            },
            "type": "scatterternary"
           }
          ],
          "surface": [
           {
            "colorbar": {
             "outlinewidth": 0,
             "ticks": ""
            },
            "colorscale": [
             [
              0,
              "#0d0887"
             ],
             [
              0.1111111111111111,
              "#46039f"
             ],
             [
              0.2222222222222222,
              "#7201a8"
             ],
             [
              0.3333333333333333,
              "#9c179e"
             ],
             [
              0.4444444444444444,
              "#bd3786"
             ],
             [
              0.5555555555555556,
              "#d8576b"
             ],
             [
              0.6666666666666666,
              "#ed7953"
             ],
             [
              0.7777777777777778,
              "#fb9f3a"
             ],
             [
              0.8888888888888888,
              "#fdca26"
             ],
             [
              1,
              "#f0f921"
             ]
            ],
            "type": "surface"
           }
          ],
          "table": [
           {
            "cells": {
             "fill": {
              "color": "#EBF0F8"
             },
             "line": {
              "color": "white"
             }
            },
            "header": {
             "fill": {
              "color": "#C8D4E3"
             },
             "line": {
              "color": "white"
             }
            },
            "type": "table"
           }
          ]
         },
         "layout": {
          "annotationdefaults": {
           "arrowcolor": "#2a3f5f",
           "arrowhead": 0,
           "arrowwidth": 1
          },
          "autotypenumbers": "strict",
          "coloraxis": {
           "colorbar": {
            "outlinewidth": 0,
            "ticks": ""
           }
          },
          "colorscale": {
           "diverging": [
            [
             0,
             "#8e0152"
            ],
            [
             0.1,
             "#c51b7d"
            ],
            [
             0.2,
             "#de77ae"
            ],
            [
             0.3,
             "#f1b6da"
            ],
            [
             0.4,
             "#fde0ef"
            ],
            [
             0.5,
             "#f7f7f7"
            ],
            [
             0.6,
             "#e6f5d0"
            ],
            [
             0.7,
             "#b8e186"
            ],
            [
             0.8,
             "#7fbc41"
            ],
            [
             0.9,
             "#4d9221"
            ],
            [
             1,
             "#276419"
            ]
           ],
           "sequential": [
            [
             0,
             "#0d0887"
            ],
            [
             0.1111111111111111,
             "#46039f"
            ],
            [
             0.2222222222222222,
             "#7201a8"
            ],
            [
             0.3333333333333333,
             "#9c179e"
            ],
            [
             0.4444444444444444,
             "#bd3786"
            ],
            [
             0.5555555555555556,
             "#d8576b"
            ],
            [
             0.6666666666666666,
             "#ed7953"
            ],
            [
             0.7777777777777778,
             "#fb9f3a"
            ],
            [
             0.8888888888888888,
             "#fdca26"
            ],
            [
             1,
             "#f0f921"
            ]
           ],
           "sequentialminus": [
            [
             0,
             "#0d0887"
            ],
            [
             0.1111111111111111,
             "#46039f"
            ],
            [
             0.2222222222222222,
             "#7201a8"
            ],
            [
             0.3333333333333333,
             "#9c179e"
            ],
            [
             0.4444444444444444,
             "#bd3786"
            ],
            [
             0.5555555555555556,
             "#d8576b"
            ],
            [
             0.6666666666666666,
             "#ed7953"
            ],
            [
             0.7777777777777778,
             "#fb9f3a"
            ],
            [
             0.8888888888888888,
             "#fdca26"
            ],
            [
             1,
             "#f0f921"
            ]
           ]
          },
          "colorway": [
           "#636efa",
           "#EF553B",
           "#00cc96",
           "#ab63fa",
           "#FFA15A",
           "#19d3f3",
           "#FF6692",
           "#B6E880",
           "#FF97FF",
           "#FECB52"
          ],
          "font": {
           "color": "#2a3f5f"
          },
          "geo": {
           "bgcolor": "white",
           "lakecolor": "white",
           "landcolor": "#E5ECF6",
           "showlakes": true,
           "showland": true,
           "subunitcolor": "white"
          },
          "hoverlabel": {
           "align": "left"
          },
          "hovermode": "closest",
          "mapbox": {
           "style": "light"
          },
          "paper_bgcolor": "white",
          "plot_bgcolor": "#E5ECF6",
          "polar": {
           "angularaxis": {
            "gridcolor": "white",
            "linecolor": "white",
            "ticks": ""
           },
           "bgcolor": "#E5ECF6",
           "radialaxis": {
            "gridcolor": "white",
            "linecolor": "white",
            "ticks": ""
           }
          },
          "scene": {
           "xaxis": {
            "backgroundcolor": "#E5ECF6",
            "gridcolor": "white",
            "gridwidth": 2,
            "linecolor": "white",
            "showbackground": true,
            "ticks": "",
            "zerolinecolor": "white"
           },
           "yaxis": {
            "backgroundcolor": "#E5ECF6",
            "gridcolor": "white",
            "gridwidth": 2,
            "linecolor": "white",
            "showbackground": true,
            "ticks": "",
            "zerolinecolor": "white"
           },
           "zaxis": {
            "backgroundcolor": "#E5ECF6",
            "gridcolor": "white",
            "gridwidth": 2,
            "linecolor": "white",
            "showbackground": true,
            "ticks": "",
            "zerolinecolor": "white"
           }
          },
          "shapedefaults": {
           "line": {
            "color": "#2a3f5f"
           }
          },
          "ternary": {
           "aaxis": {
            "gridcolor": "white",
            "linecolor": "white",
            "ticks": ""
           },
           "baxis": {
            "gridcolor": "white",
            "linecolor": "white",
            "ticks": ""
           },
           "bgcolor": "#E5ECF6",
           "caxis": {
            "gridcolor": "white",
            "linecolor": "white",
            "ticks": ""
           }
          },
          "title": {
           "x": 0.05
          },
          "xaxis": {
           "automargin": true,
           "gridcolor": "white",
           "linecolor": "white",
           "ticks": "",
           "title": {
            "standoff": 15
           },
           "zerolinecolor": "white",
           "zerolinewidth": 2
          },
          "yaxis": {
           "automargin": true,
           "gridcolor": "white",
           "linecolor": "white",
           "ticks": "",
           "title": {
            "standoff": 15
           },
           "zerolinecolor": "white",
           "zerolinewidth": 2
          }
         }
        }
       }
      },
      "text/html": [
       "<div>                            <div id=\"d35be2f9-8681-438f-b5ff-beb968a07c8a\" class=\"plotly-graph-div\" style=\"height:525px; width:100%;\"></div>            <script type=\"text/javascript\">                require([\"plotly\"], function(Plotly) {                    window.PLOTLYENV=window.PLOTLYENV || {};                                    if (document.getElementById(\"d35be2f9-8681-438f-b5ff-beb968a07c8a\")) {                    Plotly.newPlot(                        \"d35be2f9-8681-438f-b5ff-beb968a07c8a\",                        [{\"mode\": \"markers\", \"text\": [0.0, 1.0, 2.0, 3.0], \"type\": \"scatter\", \"x\": [-1.5126539105223433, -1.4784713692137135, -1.4569871818042521, -1.4539778468349567, -1.4649585424699627, -1.4652513369972615, -1.4544950801098349, -1.4662159317835224, -1.4626082582998816, -1.4506736276260994, -1.4485688440861175, -1.4725575320057482, -1.4761809283851837, -1.4565480584533566, -1.474593594170126, -1.4536993443368222, -1.4669878770496851, -1.4546780932686754, -1.467162120396963, -1.4501327955740357, -1.4586604850033946, -1.4541201152524619, -1.4520915546980546, -1.447472747755018, -1.4785505052577383, -1.4748165141522624, -1.456819064500975, -1.453954801919537, -1.455616274428649, -1.4753602533905024, -1.4590465921122406, -1.4472342491679782, -1.464797237014927, -1.4594617758130564, -1.4686092796285708, -1.4748165141522624, -1.471583575716664, -1.4689822338479663, -1.44728096979272, -1.4497329231307365, -1.4468006544734098, -1.4644809036100457, -1.4711736286342874, -1.47447829161887, -1.446152848465197, -1.4553497478334092, -1.4652230482591335, -1.4809601702349882, -1.4809601702349882, -1.4809601702349882, -1.4740017457554275, -1.469250925129465, -1.469394236508448, -1.4760376170062006, -1.480140122584163, -1.4583128548355433, -1.4471218592360167, -1.4684877446611022, -1.4531799241327084, -1.4531799241327084, -1.4684543131520418, -1.447506844930293, -1.4886612080110968, -1.4736260445585019, -1.4652230482591335, -1.469250925129465, -1.4809601702349882, -1.4809601702349882, -1.4892594852813674, -1.481509221415768, -1.4760376170062006, -1.4748843326098362, -1.474310400695236, -1.4551834671462094, -1.4482702113237453, -1.480140122584163, -1.4599876800199296, -1.472414220626765, -1.4654603251492542, -1.4547696349827446, -1.4892594852813674, -1.4657172184858227, -1.471312637161245, -1.4715881769601764, -1.4764327474480037, -1.4544950801098335, -1.4662159317835215, -1.4626082582998798, -1.4506736276260994, -1.4485688440861175, -1.4725575320057482, -1.4761809283851837, -1.4881035927807968, -1.4881035927807968, -1.4881035927807968, -1.4881035927807968, -1.4799079182902453, -1.4573277631457866, -1.4470415873756255, -1.4470415873756255, -1.4803264238601408, -1.4681474916835717, -1.4580243977422482, -1.4580243977422482, -1.4580243977422482, -1.4580243977422482, -1.4580243977422482, -1.4580243977422482, -1.4580243977422482, -1.4513381178607265, -1.4490938359655845, -1.4546652967770826, -1.4545718845286733, -1.4515839226893386, -1.450116823643014, -1.4558553581515563, -1.4593070261006862, -1.4635423523684064, -1.4631338744944309, -1.4532374334073404, -1.4556078290667602, -1.448676965581303, -1.4626810528089067, -1.4566891904242407, -1.457048708146028, -1.4468209425465859, -1.4504618574464898, -1.451377988300132, -1.4516290768421323, -1.4606753784902704, -1.4816525327947505, -1.4531902032416157, -1.4543848912216897, -1.488289834677725, -1.4596792602684625, -1.4802696246267057, -1.4801526243297336, -1.4587227800435438, -1.469301707679515, -1.4690265094385444, -1.471078087714965, -1.471078087714965, -1.4484992837099688, -1.458920373675671, -1.4592777117229587, -1.4615283599345603, -1.4713546173443786, -1.4547957657836308, -1.4518834816740007, -1.4473229468283535, -1.472085525378092, -1.4566372314489764, -1.4489390893010234, -1.4590437045575644, -1.4597447434042528, -1.4484089745669197, -1.4588489889503946, -1.4795093431147552, -1.4513747488680502, -1.4486807850523564, -1.446104587869487, -1.4697597216372404, -1.4479247570766258, -1.4611520602821024, -1.4580670666777915, -1.4555875567000305, -1.4639015300495697, -1.4561101612440217, -1.4815061355311017, -1.4881162902721365, -1.4639015300495697, -1.458034250487237, -1.4815061355311017, -1.4881162902721365, -1.4616163169094682, -1.463682407053336, -1.44816505800407, -1.4599086028711394, -1.4599086028711394, -1.4726427824660455, -1.4603923444842675, -1.4620359500643823, -1.4552065186076495, -1.4726427824660455, -1.4603923444842675, -1.4620359500643823, -1.4552065186076495, -1.4660076008324068, -1.4660076008324068, -1.4636529815710204, -1.4807540662115133, -1.4641873393730882, -1.4881035927807968, -1.468273401310185, -1.4583580583041738, -1.450553655915122, -1.4496835333562252, -1.4554011369303406, -1.455307749475825, -1.450438917088656, -1.4482014321318373, -1.4540204732529263, -1.4601793244063601, -1.4672489742025692, -1.4683843692009242, -1.4448923009270198, -1.479667893814262, -1.4530996616038931, -1.4690646136026075, -1.4544950801098333, -1.4662159317835208, -1.4626082582998798, -1.450673627626099, -1.448568844086118, -1.4725575320057482, -1.4761809283851834, -1.450798529045162], \"y\": [-0.12824678461642566, -0.10998392174379387, -0.03665145853248959, -0.022284762562267194, -0.07438432871662642, -0.07715752684040661, -0.04129581396301471, -0.0885241054132012, -0.06465790408686733, -0.015016037935450848, -0.0006072634244684522, -0.1058196447302214, -0.11774189792838742, -0.036004189448081036, -0.10681750622564996, -0.011427592659493906, -0.0763133374405876, -0.03849004782817157, -0.08059632547283502, 0.003422419729379334, -0.046086880894664554, -0.017895881144615936, -0.018482307421934543, 0.017910436343606482, -0.10794604714482912, -0.10638913659597551, -0.03710695412312833, -0.018414801141782306, -0.03666431789436845, -0.11030661424282717, -0.05142827409323414, 0.020616616025007844, -0.08043917012666693, -0.05901798500653467, -0.09012142945670004, -0.10638913659597551, -0.10165288366880876, -0.09357608886946149, 0.022781935782858895, 0.008234442909516842, 0.02426400135564923, -0.08201608085863249, -0.09943123592527352, -0.10656581479793588, 0.034033611929212865, -0.03510825660229939, -0.06242035163002132, -0.1269324700355827, -0.1269324700355827, -0.1269324700355827, -0.08065657773466875, -0.0722357264161024, -0.07381416672020889, -0.1161634576242809, -0.12155864073071652, -0.03347794216944362, 0.013809303159187013, -0.09123213549043017, -0.018049871018724507, -0.018049871018724507, -0.09294786106096994, 0.027699403849898906, -0.1420921742561062, -0.08967957411191833, -0.06242035163002132, -0.0722357264161024, -0.1269324700355827, -0.1269324700355827, -0.1460497239884207, -0.1308507600484904, -0.1161634576242809, -0.10691601880765031, -0.08717133593326554, 0.001081683817597747, 0.0148904130872724, -0.12155864073071652, -0.0648726894766111, -0.10424120442611491, -0.085757972435314, -0.04085482268933775, -0.1460497239884207, -0.06921482474825316, -0.09932214782068631, -0.10069030558862897, -0.11959428389759869, -0.041295813963014856, -0.08852410541320131, -0.06465790408686754, -0.015016037935450848, -0.0006072634244684522, -0.1058196447302214, -0.11774189792838742, -0.13598426008905962, -0.13598426008905962, -0.13598426008905962, -0.13598426008905962, -0.11561393603407333, -0.03131432392614033, 0.02045684309591157, 0.02045684309591157, -0.11702112025884023, -0.08586714637772076, -0.04403129979449239, -0.04403129979449239, -0.04403129979449239, -0.04403129979449239, -0.04403129979449239, -0.04403129979449239, -0.04403129979449239, -0.01783249899847934, -7.948020851842539e-05, -0.014360281677337229, -0.029175114309557562, -0.009068437174620393, -0.008403587914588184, -0.024535832532141665, -0.04590254929119236, -0.07235311471970332, -0.06801509177951137, -0.016181436526551646, -0.02425046207730747, 0.009543577240237881, -0.06495249501832837, -0.021751665351109867, -0.046641548377327154, 0.025098652484305078, 0.0002681841680886775, -0.006922977523103107, -0.00901515748646256, -0.042485558514210695, -0.13242920035259692, 0.010411235055244406, -0.02419704242717277, -0.1384592592821106, -0.05907967902648112, -0.12209678824695458, -0.11924037265909312, -0.044193895094636046, -0.09676736218698605, -0.094524620636821, -0.09837894238920251, -0.09837894238920251, 0.00793548480661222, -0.04108981303075603, -0.047176694682892845, -0.06647777103504635, -0.10036058633597374, -0.028332798603274697, -0.016616054544207375, 0.02143970183656838, -0.10576899795234923, -0.035672700330310086, 0.014244787773869146, -0.051615288724216474, -0.05868648221986402, -0.00031668903647095477, -0.04604409048402174, -0.1130357065091154, -0.00945579568516121, 0.0008815777351141565, 0.015284649995796843, -0.08128905302997327, 0.020210275205370477, -0.021414270035303756, -0.04941952713209367, -0.004309396878409767, -0.06466130462752807, -0.033985430436106134, -0.13104260129070675, -0.13898942240214687, -0.06466130462752807, -0.03899478297224347, -0.13104260129070675, -0.13898942240214687, -0.05616500568513617, -0.06235264333796591, 0.008085048301042633, -0.05237890766461639, -0.05237890766461639, -0.08860732564397004, -0.057528621235268806, -0.06298424687764155, -0.023522223675125742, -0.08860732564397004, -0.057528621235268806, -0.06298424687764155, -0.023522223675125742, -0.1250309110658971, -0.1250309110658971, -0.10160413307192476, -0.12222060374173842, -0.06796373732633282, -0.13598426008905962, -0.08577669963714159, -0.04159483764966843, -0.0057629729328897185, 0.01059550147214218, -0.02950638995527557, -0.028098764538919213, -0.011310996141608262, 0.018034146279666523, -0.023261610845330693, -0.05500078716756094, -0.08090405656445211, -0.06940606899685425, 0.050146758312473776, -0.11764651042060555, 0.0034041327571206845, -0.09585684653303093, -0.04129581396301484, -0.08852410541320131, -0.06465790408686754, -0.015016037935450888, -0.0006072634244684078, -0.10581964473022139, -0.11774189792838746, -0.005004921740552677]}, {\"mode\": \"markers\", \"text\": [0.0, 1.0, 2.0, 3.0], \"type\": \"scatter\", \"x\": [-0.10017209745244353, -0.06849722689749953], \"y\": [3.336999395793074, 3.7638374213515777]}, {\"mode\": \"markers\", \"text\": [0.0, 1.0, 2.0, 3.0], \"type\": \"scatter\", \"x\": [1.5344358800676914, 1.5354422960199736, 1.5415213946994186, 1.5415213946994208, 1.5503999087422304, 1.571901419726138, 1.5610626200233573, 1.557722341353175, 1.550552105154534, 1.5673369983592438, 1.5515579789771106, 1.5320890876618853, 1.546314308913636, 1.5422209846798247, 1.5333452925431115, 1.5753777021023352, 1.5339032830684343, 1.546810866486172, 1.534714109734641, 1.53676700741046, 1.559246575373993, 1.5515865606731056, 1.5439660896152618, 1.5553658256337286, 1.5465311733530345, 1.5619835130942732, 1.5910022743839434, 1.5816769609908512, 1.5388964183115517, 1.583840730225465, 1.5447902287414086, 1.5605585411277634, 1.5677990975156786, 1.5332395334175872, 1.5399163099783844, 1.5422345504026607, 1.561488736745822, 1.560316933328957, 1.5343179667127633, 1.5343179667127633, 1.5453406135804877, 1.538204645231104, 1.5753293941677298, 1.5625423528662876, 1.5515339517422837, 1.587399745744128, 1.5535733696927079, 1.5909046803552094, 1.5358775709069628, 1.5530891426233868, 1.5557145419097305, 1.5488055700159613, 1.542505718135547, 1.5495897975470578, 1.5507863457806907, 1.545454534595771, 1.54803801486698, 1.5689191317645617, 1.5320154660487943, 1.531869068785145, 1.5608876803426228, 1.5426729001997785, 1.533167368063613, 1.5317693664932621, 1.536709958576162, 1.5383206048650104, 1.5507077624999421, 1.587826941669522, 1.5582037210256352, 1.565289411775759, 1.5493492418334032, 1.535857242243793, 1.5355546362508035, 1.5516746463894935, 1.5328641880568323, 1.5423538784532655, 1.5772269915961363, 1.585268164348693, 1.5412469031129488, 1.5615031970195148, 1.5363027484768272, 1.562865000763076, 1.5336647896462356, 1.5366729749422585, 1.5327059444042828, 1.5383983021277003, 1.5499340901092633, 1.5335982963005896, 1.5471223350264702, 1.541815313371372, 1.5604211741314091, 1.5362076971315846, 1.5674208386606878, 1.5518671741372605, 1.552171553107563, 1.5427839847009714, 1.5458276407949791, 1.5530742897520162, 1.5487704600051633, 1.5597754306601472, 1.5458625069565104, 1.5321820653332225, 1.545483394976728, 1.5616166087422065, 1.5523371291087473, 1.573767880271591, 1.5603775010285126, 1.5442195187770993, 1.542901624154761, 1.56198100568306, 1.537058015451633, 1.551540553256849, 1.5354537176175052, 1.5863433582618347, 1.5369015064855693, 1.5324844135708697, 1.5691332303538632, 1.5389895897048178, 1.5475260738621583, 1.5328636531903543, 1.5494592957858961, 1.5494592957858961, 1.5506169821600109, 1.5506169821600109, 1.592117237120891, 1.56906552902821, 1.5852425589996673, 1.5650020720926565, 1.550548794471008, 1.5649902153107162, 1.5889540807138187, 1.5365566719953936, 1.5448830615536546, 1.557668030784038, 1.5372797777533025, 1.5359226834574145, 1.559265644507426, 1.5819469615242436, 1.5493289315981398, 1.5375559751942967, 1.5605694712313904, 1.5421159130020679, 1.5419754551706744, 1.5466486067974072, 1.5534412730970446, 1.5367145270655866, 1.555754866404319, 1.559556410672982, 1.5595803648996691, 1.569677028463854, 1.5474910446130672, 1.5517151938371134, 1.5392796625393625, 1.5836209329879798, 1.5332284232680053, 1.532315316964029, 1.581063321805491, 1.5454327695851175, 1.5605065710771346, 1.563830102695485, 1.5726303199960279, 1.5849651478402604, 1.5379193823750876, 1.5363008208180065, 1.545201739903343, 1.5327045195938034, 1.5711518155977393, 1.5394478718682076, 1.5674945260854758, 1.543476970614119, 1.5429473292081137, 1.5368005801179532, 1.5367142946190748, 1.5440768058221044, 1.5655815373473292, 1.5369389843739942, 1.5588289727993494, 1.5595124285435145, 1.560217912363985, 1.5694970787364306, 1.5499340901092633, 1.5335982963005896, 1.5471223350264702, 1.559399995913213, 1.5581652905785384, 1.5605307694439676, 1.5349573006838673], \"y\": [-0.26691796877643126, -0.26741742180499956, -0.20801011173027636, -0.20801011173027653, -0.1138912651226875, 0.06559573347545498, -0.04140180855678583, -0.06777793374081549, -0.12095077963951024, -0.017980048117560068, -0.13936453087386647, -0.2832361839249429, -0.17097802969871986, -0.20490259168579786, -0.2812046905162385, 0.06227878803171102, -0.2754922924371523, -0.17686926484715546, -0.24760288450694518, -0.247734244165013, -0.05273134618023998, -0.1439545070995145, -0.17941164510158125, -0.11525637750349037, -0.1855734800517724, -0.06878934706786811, 0.2000513169149064, 0.13339461409713008, -0.22340945833332948, 0.13077876897780377, -0.1608166696914163, -0.07561163574822777, 0.001903527613035073, -0.2549151200588586, -0.23676358998021535, -0.21995231510810576, -0.06934325017123386, -0.04296933050502427, -0.27244237070558036, -0.27244237070558036, -0.1951106060657185, -0.24357132833994588, 0.06202706529780409, -0.0590129689955609, -0.1447597434538576, 0.18468811190209775, -0.1359029314045725, 0.18153969624196467, -0.24033302262991105, -0.14147336241074504, -0.10668644194129487, -0.16496882700523288, -0.20680941954121831, -0.15614824335131822, -0.13366196042164408, -0.18590970239804505, -0.14956494142938354, -0.007930068071548458, -0.3030778557969804, -0.3044644548588704, -0.044604835748399574, -0.2137617296775078, -0.2869980568943502, -0.2952475706829608, -0.26404363855861207, -0.24751146727751883, -0.14663435467440875, 0.187426875353198, -0.08077650689121371, -0.03668007380862449, -0.16613415641325252, -0.2780750956052723, -0.24638042456377462, -0.13278144616086382, -0.2885834944392789, -0.22124827828210136, 0.07903191795154466, 0.1707319515683008, -0.2208176760295526, -0.05086024405612371, -0.2581089808301496, -0.062189191302818185, -0.2717458329918842, -0.2474862988445556, -0.28670643557842973, -0.24996992362948017, -0.15297644917389036, -0.2965666029377748, -0.18031004496506053, -0.20298697740822264, -0.05636022403966685, -0.2609755502191883, -0.021879026218651194, -0.16201013272447515, -0.1583883541020442, -0.21027850092629452, -0.16918652693059943, -0.12531480484934523, -0.16780286740304687, -0.07019828706809911, -0.1855399073513624, -0.279370238491046, -0.18373941942534075, -0.04436605076792408, -0.10180135486275477, 0.04439757920242291, -0.06074521852321163, -0.181271791574474, -0.22935224545006844, -0.07674101031826518, -0.24343439286104257, -0.14596993619451953, -0.2616345979232605, 0.12376005329055867, -0.2644556569384228, -0.294079759439777, -0.010735419620329178, -0.2383837778865451, -0.18042155354118977, -0.27884416378384663, -0.1619379566292809, -0.1619379566292809, -0.15588718644437902, -0.15588718644437902, 0.2053469702807953, -0.006543469009658337, 0.13593982529046847, -0.013649271798360686, -0.14987236217529978, -0.026242306253974248, 0.19652676591990878, -0.2330501865563077, -0.20158551734263694, -0.0845119919719653, -0.2527359936818188, -0.25980776443518444, -0.08663822289358052, 0.14033887596258923, -0.15895491039086865, -0.23105071726568885, -0.07989056062364454, -0.221913178149712, -0.20899457568066937, -0.18280321164966318, -0.12161019409966276, -0.24815871635651232, -0.09372476734149225, -0.08139389178738486, -0.07829852543408926, 0.01502918280391815, -0.18873629887507673, -0.1267100751160762, -0.2217385321726599, 0.18134554037680994, -0.2683885533943946, -0.2896521935390033, 0.13644277453794013, -0.18453824547064626, -0.07685446132626293, -0.05188078170574359, 0.03978040997558775, 0.1760670449084393, -0.24584321367820614, -0.25123978834346544, -0.1954197088262087, -0.2871801919029683, 0.01147961035788746, -0.22790117723890155, -0.012459692710498793, -0.18456581201094585, -0.19123524409747844, -0.26336121611733754, -0.26187416690927223, -0.1954209969837056, -0.008961820427175884, -0.2552003584791547, -0.02548796709226302, -0.046299015731241996, -0.014365272128101028, 0.0289225328605188, -0.15297644917389036, -0.2965666029377748, -0.18031004496506053, -0.08862109212231524, -0.09936892546940998, -0.08378507769772622, -0.2623972755647069]}, {\"mode\": \"markers\", \"text\": [0.0, 1.0, 2.0, 3.0], \"type\": \"scatter\", \"x\": [0.6152961855753307, 0.7081600385602347, 0.6121568568123464, 0.6611227695901339, 0.6739807305553235, 0.6267588567365431, 0.6755840455512798, 0.6774790809691026, 0.6394110481427123, 0.6469563829001305, 0.6487035479519312, 0.6623678137272686, 0.6287308423818196, 0.6595526578457083, 0.629805779859272, 0.6141573056558728, 0.6072861213035032, 0.602534459890535, 0.6407250646563948, 0.7012244146833357, 0.6361741173649643, 0.6746272089739481, 0.6101215773901734, 0.6864327114523331, 0.6202055882429937, 0.6090533266126492, 0.6057265180203124, 0.6057265180203124, 0.6096922728724442, 0.6096922728724442, 0.6252721170045278, 0.6938958240382117, 0.6026414715010587, 0.6286199495728534, 0.6043026725662957, 0.6420335874913041, 0.6301938812143314, 0.6776847961599359, 0.7420272542835157, 0.6331380646000551, 0.6330259103187599, 0.6408795091555854, 0.6158709649890376], \"y\": [0.4866414711408305, 1.3675686664257003, 0.41093498782987004, 0.8468907371424361, 1.0665788854029383, 0.5595784990795526, 1.0627169402485774, 1.0500630472924406, 0.6264004864768162, 0.7856534808591527, 0.7800244563313634, 0.9144031792769078, 0.6120509477407738, 0.8426618498983331, 0.6845113208968485, 0.46229142711907756, 0.36260743211036905, 0.355569944735532, 0.6823346352488907, 1.2720599109931847, 0.658633974619027, 0.9959474129084115, 0.3782184896044412, 1.1143238359910919, 0.49719635592641387, 0.41552326058814787, 0.36938816522579354, 0.36938816522579354, 0.4002950261311005, 0.4002950261311005, 0.574757613611794, 1.2014527164650852, 0.3410269214970434, 0.5992989169335484, 0.37724114583516677, 0.7229500525048904, 0.6447805161692969, 1.1092021631046656, 1.7537723006396815, 0.63014156041602, 0.6240431039462836, 0.7117573087039128, 0.43332866397955383]}],                        {\"template\": {\"data\": {\"bar\": [{\"error_x\": {\"color\": \"#2a3f5f\"}, \"error_y\": {\"color\": \"#2a3f5f\"}, \"marker\": {\"line\": {\"color\": \"#E5ECF6\", \"width\": 0.5}}, \"type\": \"bar\"}], \"barpolar\": [{\"marker\": {\"line\": {\"color\": \"#E5ECF6\", \"width\": 0.5}}, \"type\": \"barpolar\"}], \"carpet\": [{\"aaxis\": {\"endlinecolor\": \"#2a3f5f\", \"gridcolor\": \"white\", \"linecolor\": \"white\", \"minorgridcolor\": \"white\", \"startlinecolor\": \"#2a3f5f\"}, \"baxis\": {\"endlinecolor\": \"#2a3f5f\", \"gridcolor\": \"white\", \"linecolor\": \"white\", \"minorgridcolor\": \"white\", \"startlinecolor\": \"#2a3f5f\"}, \"type\": \"carpet\"}], \"choropleth\": [{\"colorbar\": {\"outlinewidth\": 0, \"ticks\": \"\"}, \"type\": \"choropleth\"}], \"contour\": [{\"colorbar\": {\"outlinewidth\": 0, \"ticks\": \"\"}, \"colorscale\": [[0.0, \"#0d0887\"], [0.1111111111111111, \"#46039f\"], [0.2222222222222222, \"#7201a8\"], [0.3333333333333333, \"#9c179e\"], [0.4444444444444444, \"#bd3786\"], [0.5555555555555556, \"#d8576b\"], [0.6666666666666666, \"#ed7953\"], [0.7777777777777778, \"#fb9f3a\"], [0.8888888888888888, \"#fdca26\"], [1.0, \"#f0f921\"]], \"type\": \"contour\"}], \"contourcarpet\": [{\"colorbar\": {\"outlinewidth\": 0, \"ticks\": \"\"}, \"type\": \"contourcarpet\"}], \"heatmap\": [{\"colorbar\": {\"outlinewidth\": 0, \"ticks\": \"\"}, \"colorscale\": [[0.0, \"#0d0887\"], [0.1111111111111111, \"#46039f\"], [0.2222222222222222, \"#7201a8\"], [0.3333333333333333, \"#9c179e\"], [0.4444444444444444, \"#bd3786\"], [0.5555555555555556, \"#d8576b\"], [0.6666666666666666, \"#ed7953\"], [0.7777777777777778, \"#fb9f3a\"], [0.8888888888888888, \"#fdca26\"], [1.0, \"#f0f921\"]], \"type\": \"heatmap\"}], \"heatmapgl\": [{\"colorbar\": {\"outlinewidth\": 0, \"ticks\": \"\"}, \"colorscale\": [[0.0, \"#0d0887\"], [0.1111111111111111, \"#46039f\"], [0.2222222222222222, \"#7201a8\"], [0.3333333333333333, \"#9c179e\"], [0.4444444444444444, \"#bd3786\"], [0.5555555555555556, \"#d8576b\"], [0.6666666666666666, \"#ed7953\"], [0.7777777777777778, \"#fb9f3a\"], [0.8888888888888888, \"#fdca26\"], [1.0, \"#f0f921\"]], \"type\": \"heatmapgl\"}], \"histogram\": [{\"marker\": {\"colorbar\": {\"outlinewidth\": 0, \"ticks\": \"\"}}, \"type\": \"histogram\"}], \"histogram2d\": [{\"colorbar\": {\"outlinewidth\": 0, \"ticks\": \"\"}, \"colorscale\": [[0.0, \"#0d0887\"], [0.1111111111111111, \"#46039f\"], [0.2222222222222222, \"#7201a8\"], [0.3333333333333333, \"#9c179e\"], [0.4444444444444444, \"#bd3786\"], [0.5555555555555556, \"#d8576b\"], [0.6666666666666666, \"#ed7953\"], [0.7777777777777778, \"#fb9f3a\"], [0.8888888888888888, \"#fdca26\"], [1.0, \"#f0f921\"]], \"type\": \"histogram2d\"}], \"histogram2dcontour\": [{\"colorbar\": {\"outlinewidth\": 0, \"ticks\": \"\"}, \"colorscale\": [[0.0, \"#0d0887\"], [0.1111111111111111, \"#46039f\"], [0.2222222222222222, \"#7201a8\"], [0.3333333333333333, \"#9c179e\"], [0.4444444444444444, \"#bd3786\"], [0.5555555555555556, \"#d8576b\"], [0.6666666666666666, \"#ed7953\"], [0.7777777777777778, \"#fb9f3a\"], [0.8888888888888888, \"#fdca26\"], [1.0, \"#f0f921\"]], \"type\": \"histogram2dcontour\"}], \"mesh3d\": [{\"colorbar\": {\"outlinewidth\": 0, \"ticks\": \"\"}, \"type\": \"mesh3d\"}], \"parcoords\": [{\"line\": {\"colorbar\": {\"outlinewidth\": 0, \"ticks\": \"\"}}, \"type\": \"parcoords\"}], \"pie\": [{\"automargin\": true, \"type\": \"pie\"}], \"scatter\": [{\"marker\": {\"colorbar\": {\"outlinewidth\": 0, \"ticks\": \"\"}}, \"type\": \"scatter\"}], \"scatter3d\": [{\"line\": {\"colorbar\": {\"outlinewidth\": 0, \"ticks\": \"\"}}, \"marker\": {\"colorbar\": {\"outlinewidth\": 0, \"ticks\": \"\"}}, \"type\": \"scatter3d\"}], \"scattercarpet\": [{\"marker\": {\"colorbar\": {\"outlinewidth\": 0, \"ticks\": \"\"}}, \"type\": \"scattercarpet\"}], \"scattergeo\": [{\"marker\": {\"colorbar\": {\"outlinewidth\": 0, \"ticks\": \"\"}}, \"type\": \"scattergeo\"}], \"scattergl\": [{\"marker\": {\"colorbar\": {\"outlinewidth\": 0, \"ticks\": \"\"}}, \"type\": \"scattergl\"}], \"scattermapbox\": [{\"marker\": {\"colorbar\": {\"outlinewidth\": 0, \"ticks\": \"\"}}, \"type\": \"scattermapbox\"}], \"scatterpolar\": [{\"marker\": {\"colorbar\": {\"outlinewidth\": 0, \"ticks\": \"\"}}, \"type\": \"scatterpolar\"}], \"scatterpolargl\": [{\"marker\": {\"colorbar\": {\"outlinewidth\": 0, \"ticks\": \"\"}}, \"type\": \"scatterpolargl\"}], \"scatterternary\": [{\"marker\": {\"colorbar\": {\"outlinewidth\": 0, \"ticks\": \"\"}}, \"type\": \"scatterternary\"}], \"surface\": [{\"colorbar\": {\"outlinewidth\": 0, \"ticks\": \"\"}, \"colorscale\": [[0.0, \"#0d0887\"], [0.1111111111111111, \"#46039f\"], [0.2222222222222222, \"#7201a8\"], [0.3333333333333333, \"#9c179e\"], [0.4444444444444444, \"#bd3786\"], [0.5555555555555556, \"#d8576b\"], [0.6666666666666666, \"#ed7953\"], [0.7777777777777778, \"#fb9f3a\"], [0.8888888888888888, \"#fdca26\"], [1.0, \"#f0f921\"]], \"type\": \"surface\"}], \"table\": [{\"cells\": {\"fill\": {\"color\": \"#EBF0F8\"}, \"line\": {\"color\": \"white\"}}, \"header\": {\"fill\": {\"color\": \"#C8D4E3\"}, \"line\": {\"color\": \"white\"}}, \"type\": \"table\"}]}, \"layout\": {\"annotationdefaults\": {\"arrowcolor\": \"#2a3f5f\", \"arrowhead\": 0, \"arrowwidth\": 1}, \"autotypenumbers\": \"strict\", \"coloraxis\": {\"colorbar\": {\"outlinewidth\": 0, \"ticks\": \"\"}}, \"colorscale\": {\"diverging\": [[0, \"#8e0152\"], [0.1, \"#c51b7d\"], [0.2, \"#de77ae\"], [0.3, \"#f1b6da\"], [0.4, \"#fde0ef\"], [0.5, \"#f7f7f7\"], [0.6, \"#e6f5d0\"], [0.7, \"#b8e186\"], [0.8, \"#7fbc41\"], [0.9, \"#4d9221\"], [1, \"#276419\"]], \"sequential\": [[0.0, \"#0d0887\"], [0.1111111111111111, \"#46039f\"], [0.2222222222222222, \"#7201a8\"], [0.3333333333333333, \"#9c179e\"], [0.4444444444444444, \"#bd3786\"], [0.5555555555555556, \"#d8576b\"], [0.6666666666666666, \"#ed7953\"], [0.7777777777777778, \"#fb9f3a\"], [0.8888888888888888, \"#fdca26\"], [1.0, \"#f0f921\"]], \"sequentialminus\": [[0.0, \"#0d0887\"], [0.1111111111111111, \"#46039f\"], [0.2222222222222222, \"#7201a8\"], [0.3333333333333333, \"#9c179e\"], [0.4444444444444444, \"#bd3786\"], [0.5555555555555556, \"#d8576b\"], [0.6666666666666666, \"#ed7953\"], [0.7777777777777778, \"#fb9f3a\"], [0.8888888888888888, \"#fdca26\"], [1.0, \"#f0f921\"]]}, \"colorway\": [\"#636efa\", \"#EF553B\", \"#00cc96\", \"#ab63fa\", \"#FFA15A\", \"#19d3f3\", \"#FF6692\", \"#B6E880\", \"#FF97FF\", \"#FECB52\"], \"font\": {\"color\": \"#2a3f5f\"}, \"geo\": {\"bgcolor\": \"white\", \"lakecolor\": \"white\", \"landcolor\": \"#E5ECF6\", \"showlakes\": true, \"showland\": true, \"subunitcolor\": \"white\"}, \"hoverlabel\": {\"align\": \"left\"}, \"hovermode\": \"closest\", \"mapbox\": {\"style\": \"light\"}, \"paper_bgcolor\": \"white\", \"plot_bgcolor\": \"#E5ECF6\", \"polar\": {\"angularaxis\": {\"gridcolor\": \"white\", \"linecolor\": \"white\", \"ticks\": \"\"}, \"bgcolor\": \"#E5ECF6\", \"radialaxis\": {\"gridcolor\": \"white\", \"linecolor\": \"white\", \"ticks\": \"\"}}, \"scene\": {\"xaxis\": {\"backgroundcolor\": \"#E5ECF6\", \"gridcolor\": \"white\", \"gridwidth\": 2, \"linecolor\": \"white\", \"showbackground\": true, \"ticks\": \"\", \"zerolinecolor\": \"white\"}, \"yaxis\": {\"backgroundcolor\": \"#E5ECF6\", \"gridcolor\": \"white\", \"gridwidth\": 2, \"linecolor\": \"white\", \"showbackground\": true, \"ticks\": \"\", \"zerolinecolor\": \"white\"}, \"zaxis\": {\"backgroundcolor\": \"#E5ECF6\", \"gridcolor\": \"white\", \"gridwidth\": 2, \"linecolor\": \"white\", \"showbackground\": true, \"ticks\": \"\", \"zerolinecolor\": \"white\"}}, \"shapedefaults\": {\"line\": {\"color\": \"#2a3f5f\"}}, \"ternary\": {\"aaxis\": {\"gridcolor\": \"white\", \"linecolor\": \"white\", \"ticks\": \"\"}, \"baxis\": {\"gridcolor\": \"white\", \"linecolor\": \"white\", \"ticks\": \"\"}, \"bgcolor\": \"#E5ECF6\", \"caxis\": {\"gridcolor\": \"white\", \"linecolor\": \"white\", \"ticks\": \"\"}}, \"title\": {\"x\": 0.05}, \"xaxis\": {\"automargin\": true, \"gridcolor\": \"white\", \"linecolor\": \"white\", \"ticks\": \"\", \"title\": {\"standoff\": 15}, \"zerolinecolor\": \"white\", \"zerolinewidth\": 2}, \"yaxis\": {\"automargin\": true, \"gridcolor\": \"white\", \"linecolor\": \"white\", \"ticks\": \"\", \"title\": {\"standoff\": 15}, \"zerolinecolor\": \"white\", \"zerolinewidth\": 2}}}},                        {\"responsive\": true}                    ).then(function(){\n",
       "                            \n",
       "var gd = document.getElementById('d35be2f9-8681-438f-b5ff-beb968a07c8a');\n",
       "var x = new MutationObserver(function (mutations, observer) {{\n",
       "        var display = window.getComputedStyle(gd).display;\n",
       "        if (!display || display === 'none') {{\n",
       "            console.log([gd, 'removed!']);\n",
       "            Plotly.purge(gd);\n",
       "            observer.disconnect();\n",
       "        }}\n",
       "}});\n",
       "\n",
       "// Listen for the removal of the full notebook cells\n",
       "var notebookContainer = gd.closest('#notebook-container');\n",
       "if (notebookContainer) {{\n",
       "    x.observe(notebookContainer, {childList: true});\n",
       "}}\n",
       "\n",
       "// Listen for the clearing of the current output cell\n",
       "var outputEl = gd.closest('.output');\n",
       "if (outputEl) {{\n",
       "    x.observe(outputEl, {childList: true});\n",
       "}}\n",
       "\n",
       "                        })                };                });            </script>        </div>"
      ]
     },
     "metadata": {},
     "output_type": "display_data"
    }
   ],
   "source": [
    "df_false_2d = reduce_dimensions(df_false, 2)\n",
    "plot_clusters(df_false_2d, KMeans(**args))"
   ]
  },
  {
   "cell_type": "code",
   "execution_count": 98,
   "metadata": {
    "scrolled": true
   },
   "outputs": [
    {
     "name": "stdout",
     "output_type": "stream",
     "text": [
      "Running fold 0\n",
      "Acurácia: 92.22%\n",
      "\n",
      "\n",
      "Running fold 1\n",
      "Acurácia: 95.56%\n",
      "\n",
      "\n",
      "Running fold 2\n",
      "Acurácia: 98.89%\n",
      "\n",
      "\n",
      "Running fold 3\n",
      "Acurácia: 87.78%\n",
      "\n",
      "\n",
      "Running fold 4\n",
      "Acurácia: 96.63%\n",
      "\n",
      "\n"
     ]
    }
   ],
   "source": [
    "kf = KFold(n_splits=5)\n",
    "i = 0\n",
    "for train, test in kf.split(df_false):\n",
    "    print(\"Running fold {}\".format(i))\n",
    "    training_set = df_false.iloc[train]\n",
    "    gnb = nb_fit(training_set)\n",
    "\n",
    "    test_set = df_false.iloc[test]\n",
    "    real_labels = test_set['metaclass']\n",
    "    predicted_classes = nb_predict(gnb, test_set)\n",
    "    \n",
    "    test_set = test_set.drop(columns=['metaclass'])\n",
    "    acc = nb_score(gnb, test_set, real_labels)\n",
    "    print(\"Acurácia: {}%\".format(round(acc*100, 2)))\n",
    "    print('\\n')\n",
    "    i += 1"
   ]
  },
  {
   "cell_type": "markdown",
   "metadata": {},
   "source": [
    "### clusters gerados com defects = true"
   ]
  },
  {
   "cell_type": "code",
   "execution_count": 99,
   "metadata": {},
   "outputs": [
    {
     "name": "stdout",
     "output_type": "stream",
     "text": [
      "Melhor k: 3\n"
     ]
    },
    {
     "data": {
      "application/vnd.plotly.v1+json": {
       "config": {
        "plotlyServerURL": "https://plot.ly"
       },
       "data": [
        {
         "hovertemplate": "index=%{x}<br>y=%{y}<extra></extra>",
         "legendgroup": "",
         "line": {
          "color": "#636efa",
          "dash": "solid"
         },
         "mode": "lines",
         "name": "",
         "orientation": "v",
         "showlegend": false,
         "type": "scatter",
         "x": [
          0,
          1,
          2,
          3,
          4
         ],
         "xaxis": "x",
         "y": [
          18.235028362635614,
          9.717811128650707,
          8.178003833007983,
          6.474306231455226,
          4.959396154623512
         ],
         "yaxis": "y"
        }
       ],
       "layout": {
        "legend": {
         "tracegroupgap": 0
        },
        "margin": {
         "t": 60
        },
        "template": {
         "data": {
          "bar": [
           {
            "error_x": {
             "color": "#2a3f5f"
            },
            "error_y": {
             "color": "#2a3f5f"
            },
            "marker": {
             "line": {
              "color": "#E5ECF6",
              "width": 0.5
             }
            },
            "type": "bar"
           }
          ],
          "barpolar": [
           {
            "marker": {
             "line": {
              "color": "#E5ECF6",
              "width": 0.5
             }
            },
            "type": "barpolar"
           }
          ],
          "carpet": [
           {
            "aaxis": {
             "endlinecolor": "#2a3f5f",
             "gridcolor": "white",
             "linecolor": "white",
             "minorgridcolor": "white",
             "startlinecolor": "#2a3f5f"
            },
            "baxis": {
             "endlinecolor": "#2a3f5f",
             "gridcolor": "white",
             "linecolor": "white",
             "minorgridcolor": "white",
             "startlinecolor": "#2a3f5f"
            },
            "type": "carpet"
           }
          ],
          "choropleth": [
           {
            "colorbar": {
             "outlinewidth": 0,
             "ticks": ""
            },
            "type": "choropleth"
           }
          ],
          "contour": [
           {
            "colorbar": {
             "outlinewidth": 0,
             "ticks": ""
            },
            "colorscale": [
             [
              0,
              "#0d0887"
             ],
             [
              0.1111111111111111,
              "#46039f"
             ],
             [
              0.2222222222222222,
              "#7201a8"
             ],
             [
              0.3333333333333333,
              "#9c179e"
             ],
             [
              0.4444444444444444,
              "#bd3786"
             ],
             [
              0.5555555555555556,
              "#d8576b"
             ],
             [
              0.6666666666666666,
              "#ed7953"
             ],
             [
              0.7777777777777778,
              "#fb9f3a"
             ],
             [
              0.8888888888888888,
              "#fdca26"
             ],
             [
              1,
              "#f0f921"
             ]
            ],
            "type": "contour"
           }
          ],
          "contourcarpet": [
           {
            "colorbar": {
             "outlinewidth": 0,
             "ticks": ""
            },
            "type": "contourcarpet"
           }
          ],
          "heatmap": [
           {
            "colorbar": {
             "outlinewidth": 0,
             "ticks": ""
            },
            "colorscale": [
             [
              0,
              "#0d0887"
             ],
             [
              0.1111111111111111,
              "#46039f"
             ],
             [
              0.2222222222222222,
              "#7201a8"
             ],
             [
              0.3333333333333333,
              "#9c179e"
             ],
             [
              0.4444444444444444,
              "#bd3786"
             ],
             [
              0.5555555555555556,
              "#d8576b"
             ],
             [
              0.6666666666666666,
              "#ed7953"
             ],
             [
              0.7777777777777778,
              "#fb9f3a"
             ],
             [
              0.8888888888888888,
              "#fdca26"
             ],
             [
              1,
              "#f0f921"
             ]
            ],
            "type": "heatmap"
           }
          ],
          "heatmapgl": [
           {
            "colorbar": {
             "outlinewidth": 0,
             "ticks": ""
            },
            "colorscale": [
             [
              0,
              "#0d0887"
             ],
             [
              0.1111111111111111,
              "#46039f"
             ],
             [
              0.2222222222222222,
              "#7201a8"
             ],
             [
              0.3333333333333333,
              "#9c179e"
             ],
             [
              0.4444444444444444,
              "#bd3786"
             ],
             [
              0.5555555555555556,
              "#d8576b"
             ],
             [
              0.6666666666666666,
              "#ed7953"
             ],
             [
              0.7777777777777778,
              "#fb9f3a"
             ],
             [
              0.8888888888888888,
              "#fdca26"
             ],
             [
              1,
              "#f0f921"
             ]
            ],
            "type": "heatmapgl"
           }
          ],
          "histogram": [
           {
            "marker": {
             "colorbar": {
              "outlinewidth": 0,
              "ticks": ""
             }
            },
            "type": "histogram"
           }
          ],
          "histogram2d": [
           {
            "colorbar": {
             "outlinewidth": 0,
             "ticks": ""
            },
            "colorscale": [
             [
              0,
              "#0d0887"
             ],
             [
              0.1111111111111111,
              "#46039f"
             ],
             [
              0.2222222222222222,
              "#7201a8"
             ],
             [
              0.3333333333333333,
              "#9c179e"
             ],
             [
              0.4444444444444444,
              "#bd3786"
             ],
             [
              0.5555555555555556,
              "#d8576b"
             ],
             [
              0.6666666666666666,
              "#ed7953"
             ],
             [
              0.7777777777777778,
              "#fb9f3a"
             ],
             [
              0.8888888888888888,
              "#fdca26"
             ],
             [
              1,
              "#f0f921"
             ]
            ],
            "type": "histogram2d"
           }
          ],
          "histogram2dcontour": [
           {
            "colorbar": {
             "outlinewidth": 0,
             "ticks": ""
            },
            "colorscale": [
             [
              0,
              "#0d0887"
             ],
             [
              0.1111111111111111,
              "#46039f"
             ],
             [
              0.2222222222222222,
              "#7201a8"
             ],
             [
              0.3333333333333333,
              "#9c179e"
             ],
             [
              0.4444444444444444,
              "#bd3786"
             ],
             [
              0.5555555555555556,
              "#d8576b"
             ],
             [
              0.6666666666666666,
              "#ed7953"
             ],
             [
              0.7777777777777778,
              "#fb9f3a"
             ],
             [
              0.8888888888888888,
              "#fdca26"
             ],
             [
              1,
              "#f0f921"
             ]
            ],
            "type": "histogram2dcontour"
           }
          ],
          "mesh3d": [
           {
            "colorbar": {
             "outlinewidth": 0,
             "ticks": ""
            },
            "type": "mesh3d"
           }
          ],
          "parcoords": [
           {
            "line": {
             "colorbar": {
              "outlinewidth": 0,
              "ticks": ""
             }
            },
            "type": "parcoords"
           }
          ],
          "pie": [
           {
            "automargin": true,
            "type": "pie"
           }
          ],
          "scatter": [
           {
            "marker": {
             "colorbar": {
              "outlinewidth": 0,
              "ticks": ""
             }
            },
            "type": "scatter"
           }
          ],
          "scatter3d": [
           {
            "line": {
             "colorbar": {
              "outlinewidth": 0,
              "ticks": ""
             }
            },
            "marker": {
             "colorbar": {
              "outlinewidth": 0,
              "ticks": ""
             }
            },
            "type": "scatter3d"
           }
          ],
          "scattercarpet": [
           {
            "marker": {
             "colorbar": {
              "outlinewidth": 0,
              "ticks": ""
             }
            },
            "type": "scattercarpet"
           }
          ],
          "scattergeo": [
           {
            "marker": {
             "colorbar": {
              "outlinewidth": 0,
              "ticks": ""
             }
            },
            "type": "scattergeo"
           }
          ],
          "scattergl": [
           {
            "marker": {
             "colorbar": {
              "outlinewidth": 0,
              "ticks": ""
             }
            },
            "type": "scattergl"
           }
          ],
          "scattermapbox": [
           {
            "marker": {
             "colorbar": {
              "outlinewidth": 0,
              "ticks": ""
             }
            },
            "type": "scattermapbox"
           }
          ],
          "scatterpolar": [
           {
            "marker": {
             "colorbar": {
              "outlinewidth": 0,
              "ticks": ""
             }
            },
            "type": "scatterpolar"
           }
          ],
          "scatterpolargl": [
           {
            "marker": {
             "colorbar": {
              "outlinewidth": 0,
              "ticks": ""
             }
            },
            "type": "scatterpolargl"
           }
          ],
          "scatterternary": [
           {
            "marker": {
             "colorbar": {
              "outlinewidth": 0,
              "ticks": ""
             }
            },
            "type": "scatterternary"
           }
          ],
          "surface": [
           {
            "colorbar": {
             "outlinewidth": 0,
             "ticks": ""
            },
            "colorscale": [
             [
              0,
              "#0d0887"
             ],
             [
              0.1111111111111111,
              "#46039f"
             ],
             [
              0.2222222222222222,
              "#7201a8"
             ],
             [
              0.3333333333333333,
              "#9c179e"
             ],
             [
              0.4444444444444444,
              "#bd3786"
             ],
             [
              0.5555555555555556,
              "#d8576b"
             ],
             [
              0.6666666666666666,
              "#ed7953"
             ],
             [
              0.7777777777777778,
              "#fb9f3a"
             ],
             [
              0.8888888888888888,
              "#fdca26"
             ],
             [
              1,
              "#f0f921"
             ]
            ],
            "type": "surface"
           }
          ],
          "table": [
           {
            "cells": {
             "fill": {
              "color": "#EBF0F8"
             },
             "line": {
              "color": "white"
             }
            },
            "header": {
             "fill": {
              "color": "#C8D4E3"
             },
             "line": {
              "color": "white"
             }
            },
            "type": "table"
           }
          ]
         },
         "layout": {
          "annotationdefaults": {
           "arrowcolor": "#2a3f5f",
           "arrowhead": 0,
           "arrowwidth": 1
          },
          "autotypenumbers": "strict",
          "coloraxis": {
           "colorbar": {
            "outlinewidth": 0,
            "ticks": ""
           }
          },
          "colorscale": {
           "diverging": [
            [
             0,
             "#8e0152"
            ],
            [
             0.1,
             "#c51b7d"
            ],
            [
             0.2,
             "#de77ae"
            ],
            [
             0.3,
             "#f1b6da"
            ],
            [
             0.4,
             "#fde0ef"
            ],
            [
             0.5,
             "#f7f7f7"
            ],
            [
             0.6,
             "#e6f5d0"
            ],
            [
             0.7,
             "#b8e186"
            ],
            [
             0.8,
             "#7fbc41"
            ],
            [
             0.9,
             "#4d9221"
            ],
            [
             1,
             "#276419"
            ]
           ],
           "sequential": [
            [
             0,
             "#0d0887"
            ],
            [
             0.1111111111111111,
             "#46039f"
            ],
            [
             0.2222222222222222,
             "#7201a8"
            ],
            [
             0.3333333333333333,
             "#9c179e"
            ],
            [
             0.4444444444444444,
             "#bd3786"
            ],
            [
             0.5555555555555556,
             "#d8576b"
            ],
            [
             0.6666666666666666,
             "#ed7953"
            ],
            [
             0.7777777777777778,
             "#fb9f3a"
            ],
            [
             0.8888888888888888,
             "#fdca26"
            ],
            [
             1,
             "#f0f921"
            ]
           ],
           "sequentialminus": [
            [
             0,
             "#0d0887"
            ],
            [
             0.1111111111111111,
             "#46039f"
            ],
            [
             0.2222222222222222,
             "#7201a8"
            ],
            [
             0.3333333333333333,
             "#9c179e"
            ],
            [
             0.4444444444444444,
             "#bd3786"
            ],
            [
             0.5555555555555556,
             "#d8576b"
            ],
            [
             0.6666666666666666,
             "#ed7953"
            ],
            [
             0.7777777777777778,
             "#fb9f3a"
            ],
            [
             0.8888888888888888,
             "#fdca26"
            ],
            [
             1,
             "#f0f921"
            ]
           ]
          },
          "colorway": [
           "#636efa",
           "#EF553B",
           "#00cc96",
           "#ab63fa",
           "#FFA15A",
           "#19d3f3",
           "#FF6692",
           "#B6E880",
           "#FF97FF",
           "#FECB52"
          ],
          "font": {
           "color": "#2a3f5f"
          },
          "geo": {
           "bgcolor": "white",
           "lakecolor": "white",
           "landcolor": "#E5ECF6",
           "showlakes": true,
           "showland": true,
           "subunitcolor": "white"
          },
          "hoverlabel": {
           "align": "left"
          },
          "hovermode": "closest",
          "mapbox": {
           "style": "light"
          },
          "paper_bgcolor": "white",
          "plot_bgcolor": "#E5ECF6",
          "polar": {
           "angularaxis": {
            "gridcolor": "white",
            "linecolor": "white",
            "ticks": ""
           },
           "bgcolor": "#E5ECF6",
           "radialaxis": {
            "gridcolor": "white",
            "linecolor": "white",
            "ticks": ""
           }
          },
          "scene": {
           "xaxis": {
            "backgroundcolor": "#E5ECF6",
            "gridcolor": "white",
            "gridwidth": 2,
            "linecolor": "white",
            "showbackground": true,
            "ticks": "",
            "zerolinecolor": "white"
           },
           "yaxis": {
            "backgroundcolor": "#E5ECF6",
            "gridcolor": "white",
            "gridwidth": 2,
            "linecolor": "white",
            "showbackground": true,
            "ticks": "",
            "zerolinecolor": "white"
           },
           "zaxis": {
            "backgroundcolor": "#E5ECF6",
            "gridcolor": "white",
            "gridwidth": 2,
            "linecolor": "white",
            "showbackground": true,
            "ticks": "",
            "zerolinecolor": "white"
           }
          },
          "shapedefaults": {
           "line": {
            "color": "#2a3f5f"
           }
          },
          "ternary": {
           "aaxis": {
            "gridcolor": "white",
            "linecolor": "white",
            "ticks": ""
           },
           "baxis": {
            "gridcolor": "white",
            "linecolor": "white",
            "ticks": ""
           },
           "bgcolor": "#E5ECF6",
           "caxis": {
            "gridcolor": "white",
            "linecolor": "white",
            "ticks": ""
           }
          },
          "title": {
           "x": 0.05
          },
          "xaxis": {
           "automargin": true,
           "gridcolor": "white",
           "linecolor": "white",
           "ticks": "",
           "title": {
            "standoff": 15
           },
           "zerolinecolor": "white",
           "zerolinewidth": 2
          },
          "yaxis": {
           "automargin": true,
           "gridcolor": "white",
           "linecolor": "white",
           "ticks": "",
           "title": {
            "standoff": 15
           },
           "zerolinecolor": "white",
           "zerolinewidth": 2
          }
         }
        },
        "xaxis": {
         "anchor": "y",
         "domain": [
          0,
          1
         ],
         "title": {
          "text": "index"
         }
        },
        "yaxis": {
         "anchor": "x",
         "domain": [
          0,
          1
         ],
         "title": {
          "text": "y"
         }
        }
       }
      },
      "text/html": [
       "<div>                            <div id=\"c0d9b39f-a01c-435b-b496-831ccc9f8a6f\" class=\"plotly-graph-div\" style=\"height:525px; width:100%;\"></div>            <script type=\"text/javascript\">                require([\"plotly\"], function(Plotly) {                    window.PLOTLYENV=window.PLOTLYENV || {};                                    if (document.getElementById(\"c0d9b39f-a01c-435b-b496-831ccc9f8a6f\")) {                    Plotly.newPlot(                        \"c0d9b39f-a01c-435b-b496-831ccc9f8a6f\",                        [{\"hovertemplate\": \"index=%{x}<br>y=%{y}<extra></extra>\", \"legendgroup\": \"\", \"line\": {\"color\": \"#636efa\", \"dash\": \"solid\"}, \"mode\": \"lines\", \"name\": \"\", \"orientation\": \"v\", \"showlegend\": false, \"type\": \"scatter\", \"x\": [0, 1, 2, 3, 4], \"xaxis\": \"x\", \"y\": [18.235028362635614, 9.717811128650707, 8.178003833007983, 6.474306231455226, 4.959396154623512], \"yaxis\": \"y\"}],                        {\"legend\": {\"tracegroupgap\": 0}, \"margin\": {\"t\": 60}, \"template\": {\"data\": {\"bar\": [{\"error_x\": {\"color\": \"#2a3f5f\"}, \"error_y\": {\"color\": \"#2a3f5f\"}, \"marker\": {\"line\": {\"color\": \"#E5ECF6\", \"width\": 0.5}}, \"type\": \"bar\"}], \"barpolar\": [{\"marker\": {\"line\": {\"color\": \"#E5ECF6\", \"width\": 0.5}}, \"type\": \"barpolar\"}], \"carpet\": [{\"aaxis\": {\"endlinecolor\": \"#2a3f5f\", \"gridcolor\": \"white\", \"linecolor\": \"white\", \"minorgridcolor\": \"white\", \"startlinecolor\": \"#2a3f5f\"}, \"baxis\": {\"endlinecolor\": \"#2a3f5f\", \"gridcolor\": \"white\", \"linecolor\": \"white\", \"minorgridcolor\": \"white\", \"startlinecolor\": \"#2a3f5f\"}, \"type\": \"carpet\"}], \"choropleth\": [{\"colorbar\": {\"outlinewidth\": 0, \"ticks\": \"\"}, \"type\": \"choropleth\"}], \"contour\": [{\"colorbar\": {\"outlinewidth\": 0, \"ticks\": \"\"}, \"colorscale\": [[0.0, \"#0d0887\"], [0.1111111111111111, \"#46039f\"], [0.2222222222222222, \"#7201a8\"], [0.3333333333333333, \"#9c179e\"], [0.4444444444444444, \"#bd3786\"], [0.5555555555555556, \"#d8576b\"], [0.6666666666666666, \"#ed7953\"], [0.7777777777777778, \"#fb9f3a\"], [0.8888888888888888, \"#fdca26\"], [1.0, \"#f0f921\"]], \"type\": \"contour\"}], \"contourcarpet\": [{\"colorbar\": {\"outlinewidth\": 0, \"ticks\": \"\"}, \"type\": \"contourcarpet\"}], \"heatmap\": [{\"colorbar\": {\"outlinewidth\": 0, \"ticks\": \"\"}, \"colorscale\": [[0.0, \"#0d0887\"], [0.1111111111111111, \"#46039f\"], [0.2222222222222222, \"#7201a8\"], [0.3333333333333333, \"#9c179e\"], [0.4444444444444444, \"#bd3786\"], [0.5555555555555556, \"#d8576b\"], [0.6666666666666666, \"#ed7953\"], [0.7777777777777778, \"#fb9f3a\"], [0.8888888888888888, \"#fdca26\"], [1.0, \"#f0f921\"]], \"type\": \"heatmap\"}], \"heatmapgl\": [{\"colorbar\": {\"outlinewidth\": 0, \"ticks\": \"\"}, \"colorscale\": [[0.0, \"#0d0887\"], [0.1111111111111111, \"#46039f\"], [0.2222222222222222, \"#7201a8\"], [0.3333333333333333, \"#9c179e\"], [0.4444444444444444, \"#bd3786\"], [0.5555555555555556, \"#d8576b\"], [0.6666666666666666, \"#ed7953\"], [0.7777777777777778, \"#fb9f3a\"], [0.8888888888888888, \"#fdca26\"], [1.0, \"#f0f921\"]], \"type\": \"heatmapgl\"}], \"histogram\": [{\"marker\": {\"colorbar\": {\"outlinewidth\": 0, \"ticks\": \"\"}}, \"type\": \"histogram\"}], \"histogram2d\": [{\"colorbar\": {\"outlinewidth\": 0, \"ticks\": \"\"}, \"colorscale\": [[0.0, \"#0d0887\"], [0.1111111111111111, \"#46039f\"], [0.2222222222222222, \"#7201a8\"], [0.3333333333333333, \"#9c179e\"], [0.4444444444444444, \"#bd3786\"], [0.5555555555555556, \"#d8576b\"], [0.6666666666666666, \"#ed7953\"], [0.7777777777777778, \"#fb9f3a\"], [0.8888888888888888, \"#fdca26\"], [1.0, \"#f0f921\"]], \"type\": \"histogram2d\"}], \"histogram2dcontour\": [{\"colorbar\": {\"outlinewidth\": 0, \"ticks\": \"\"}, \"colorscale\": [[0.0, \"#0d0887\"], [0.1111111111111111, \"#46039f\"], [0.2222222222222222, \"#7201a8\"], [0.3333333333333333, \"#9c179e\"], [0.4444444444444444, \"#bd3786\"], [0.5555555555555556, \"#d8576b\"], [0.6666666666666666, \"#ed7953\"], [0.7777777777777778, \"#fb9f3a\"], [0.8888888888888888, \"#fdca26\"], [1.0, \"#f0f921\"]], \"type\": \"histogram2dcontour\"}], \"mesh3d\": [{\"colorbar\": {\"outlinewidth\": 0, \"ticks\": \"\"}, \"type\": \"mesh3d\"}], \"parcoords\": [{\"line\": {\"colorbar\": {\"outlinewidth\": 0, \"ticks\": \"\"}}, \"type\": \"parcoords\"}], \"pie\": [{\"automargin\": true, \"type\": \"pie\"}], \"scatter\": [{\"marker\": {\"colorbar\": {\"outlinewidth\": 0, \"ticks\": \"\"}}, \"type\": \"scatter\"}], \"scatter3d\": [{\"line\": {\"colorbar\": {\"outlinewidth\": 0, \"ticks\": \"\"}}, \"marker\": {\"colorbar\": {\"outlinewidth\": 0, \"ticks\": \"\"}}, \"type\": \"scatter3d\"}], \"scattercarpet\": [{\"marker\": {\"colorbar\": {\"outlinewidth\": 0, \"ticks\": \"\"}}, \"type\": \"scattercarpet\"}], \"scattergeo\": [{\"marker\": {\"colorbar\": {\"outlinewidth\": 0, \"ticks\": \"\"}}, \"type\": \"scattergeo\"}], \"scattergl\": [{\"marker\": {\"colorbar\": {\"outlinewidth\": 0, \"ticks\": \"\"}}, \"type\": \"scattergl\"}], \"scattermapbox\": [{\"marker\": {\"colorbar\": {\"outlinewidth\": 0, \"ticks\": \"\"}}, \"type\": \"scattermapbox\"}], \"scatterpolar\": [{\"marker\": {\"colorbar\": {\"outlinewidth\": 0, \"ticks\": \"\"}}, \"type\": \"scatterpolar\"}], \"scatterpolargl\": [{\"marker\": {\"colorbar\": {\"outlinewidth\": 0, \"ticks\": \"\"}}, \"type\": \"scatterpolargl\"}], \"scatterternary\": [{\"marker\": {\"colorbar\": {\"outlinewidth\": 0, \"ticks\": \"\"}}, \"type\": \"scatterternary\"}], \"surface\": [{\"colorbar\": {\"outlinewidth\": 0, \"ticks\": \"\"}, \"colorscale\": [[0.0, \"#0d0887\"], [0.1111111111111111, \"#46039f\"], [0.2222222222222222, \"#7201a8\"], [0.3333333333333333, \"#9c179e\"], [0.4444444444444444, \"#bd3786\"], [0.5555555555555556, \"#d8576b\"], [0.6666666666666666, \"#ed7953\"], [0.7777777777777778, \"#fb9f3a\"], [0.8888888888888888, \"#fdca26\"], [1.0, \"#f0f921\"]], \"type\": \"surface\"}], \"table\": [{\"cells\": {\"fill\": {\"color\": \"#EBF0F8\"}, \"line\": {\"color\": \"white\"}}, \"header\": {\"fill\": {\"color\": \"#C8D4E3\"}, \"line\": {\"color\": \"white\"}}, \"type\": \"table\"}]}, \"layout\": {\"annotationdefaults\": {\"arrowcolor\": \"#2a3f5f\", \"arrowhead\": 0, \"arrowwidth\": 1}, \"autotypenumbers\": \"strict\", \"coloraxis\": {\"colorbar\": {\"outlinewidth\": 0, \"ticks\": \"\"}}, \"colorscale\": {\"diverging\": [[0, \"#8e0152\"], [0.1, \"#c51b7d\"], [0.2, \"#de77ae\"], [0.3, \"#f1b6da\"], [0.4, \"#fde0ef\"], [0.5, \"#f7f7f7\"], [0.6, \"#e6f5d0\"], [0.7, \"#b8e186\"], [0.8, \"#7fbc41\"], [0.9, \"#4d9221\"], [1, \"#276419\"]], \"sequential\": [[0.0, \"#0d0887\"], [0.1111111111111111, \"#46039f\"], [0.2222222222222222, \"#7201a8\"], [0.3333333333333333, \"#9c179e\"], [0.4444444444444444, \"#bd3786\"], [0.5555555555555556, \"#d8576b\"], [0.6666666666666666, \"#ed7953\"], [0.7777777777777778, \"#fb9f3a\"], [0.8888888888888888, \"#fdca26\"], [1.0, \"#f0f921\"]], \"sequentialminus\": [[0.0, \"#0d0887\"], [0.1111111111111111, \"#46039f\"], [0.2222222222222222, \"#7201a8\"], [0.3333333333333333, \"#9c179e\"], [0.4444444444444444, \"#bd3786\"], [0.5555555555555556, \"#d8576b\"], [0.6666666666666666, \"#ed7953\"], [0.7777777777777778, \"#fb9f3a\"], [0.8888888888888888, \"#fdca26\"], [1.0, \"#f0f921\"]]}, \"colorway\": [\"#636efa\", \"#EF553B\", \"#00cc96\", \"#ab63fa\", \"#FFA15A\", \"#19d3f3\", \"#FF6692\", \"#B6E880\", \"#FF97FF\", \"#FECB52\"], \"font\": {\"color\": \"#2a3f5f\"}, \"geo\": {\"bgcolor\": \"white\", \"lakecolor\": \"white\", \"landcolor\": \"#E5ECF6\", \"showlakes\": true, \"showland\": true, \"subunitcolor\": \"white\"}, \"hoverlabel\": {\"align\": \"left\"}, \"hovermode\": \"closest\", \"mapbox\": {\"style\": \"light\"}, \"paper_bgcolor\": \"white\", \"plot_bgcolor\": \"#E5ECF6\", \"polar\": {\"angularaxis\": {\"gridcolor\": \"white\", \"linecolor\": \"white\", \"ticks\": \"\"}, \"bgcolor\": \"#E5ECF6\", \"radialaxis\": {\"gridcolor\": \"white\", \"linecolor\": \"white\", \"ticks\": \"\"}}, \"scene\": {\"xaxis\": {\"backgroundcolor\": \"#E5ECF6\", \"gridcolor\": \"white\", \"gridwidth\": 2, \"linecolor\": \"white\", \"showbackground\": true, \"ticks\": \"\", \"zerolinecolor\": \"white\"}, \"yaxis\": {\"backgroundcolor\": \"#E5ECF6\", \"gridcolor\": \"white\", \"gridwidth\": 2, \"linecolor\": \"white\", \"showbackground\": true, \"ticks\": \"\", \"zerolinecolor\": \"white\"}, \"zaxis\": {\"backgroundcolor\": \"#E5ECF6\", \"gridcolor\": \"white\", \"gridwidth\": 2, \"linecolor\": \"white\", \"showbackground\": true, \"ticks\": \"\", \"zerolinecolor\": \"white\"}}, \"shapedefaults\": {\"line\": {\"color\": \"#2a3f5f\"}}, \"ternary\": {\"aaxis\": {\"gridcolor\": \"white\", \"linecolor\": \"white\", \"ticks\": \"\"}, \"baxis\": {\"gridcolor\": \"white\", \"linecolor\": \"white\", \"ticks\": \"\"}, \"bgcolor\": \"#E5ECF6\", \"caxis\": {\"gridcolor\": \"white\", \"linecolor\": \"white\", \"ticks\": \"\"}}, \"title\": {\"x\": 0.05}, \"xaxis\": {\"automargin\": true, \"gridcolor\": \"white\", \"linecolor\": \"white\", \"ticks\": \"\", \"title\": {\"standoff\": 15}, \"zerolinecolor\": \"white\", \"zerolinewidth\": 2}, \"yaxis\": {\"automargin\": true, \"gridcolor\": \"white\", \"linecolor\": \"white\", \"ticks\": \"\", \"title\": {\"standoff\": 15}, \"zerolinecolor\": \"white\", \"zerolinewidth\": 2}}}, \"xaxis\": {\"anchor\": \"y\", \"domain\": [0.0, 1.0], \"title\": {\"text\": \"index\"}}, \"yaxis\": {\"anchor\": \"x\", \"domain\": [0.0, 1.0], \"title\": {\"text\": \"y\"}}},                        {\"responsive\": true}                    ).then(function(){\n",
       "                            \n",
       "var gd = document.getElementById('c0d9b39f-a01c-435b-b496-831ccc9f8a6f');\n",
       "var x = new MutationObserver(function (mutations, observer) {{\n",
       "        var display = window.getComputedStyle(gd).display;\n",
       "        if (!display || display === 'none') {{\n",
       "            console.log([gd, 'removed!']);\n",
       "            Plotly.purge(gd);\n",
       "            observer.disconnect();\n",
       "        }}\n",
       "}});\n",
       "\n",
       "// Listen for the removal of the full notebook cells\n",
       "var notebookContainer = gd.closest('#notebook-container');\n",
       "if (notebookContainer) {{\n",
       "    x.observe(notebookContainer, {childList: true});\n",
       "}}\n",
       "\n",
       "// Listen for the clearing of the current output cell\n",
       "var outputEl = gd.closest('.output');\n",
       "if (outputEl) {{\n",
       "    x.observe(outputEl, {childList: true});\n",
       "}}\n",
       "\n",
       "                        })                };                });            </script>        </div>"
      ]
     },
     "metadata": {},
     "output_type": "display_data"
    }
   ],
   "source": [
    "# criar meta classes de todo mundo\n",
    "k_range = [2,3,4,5,6]\n",
    "args = {\n",
    "    \"init\": \"random\",\n",
    "    \"n_init\": 10,\n",
    "    \"max_iter\": 300,\n",
    "    \"random_state\": 42,\n",
    "}\n",
    "sse = get_sse(df_true, k_range, args)\n",
    "best_k = get_best_k(k_range, sse)\n",
    "print(\"Melhor k: {}\".format(best_k))\n",
    "elbow_plot(k_range, sse)"
   ]
  },
  {
   "cell_type": "code",
   "execution_count": 100,
   "metadata": {},
   "outputs": [],
   "source": [
    "args[\"n_clusters\"] = best_k\n",
    "df_true = generate_metaclasses(df_true, args)\n",
    "df_true_copy = df_true.copy()"
   ]
  },
  {
   "cell_type": "code",
   "execution_count": 101,
   "metadata": {},
   "outputs": [
    {
     "data": {
      "application/vnd.plotly.v1+json": {
       "config": {
        "plotlyServerURL": "https://plot.ly"
       },
       "data": [
        {
         "mode": "markers",
         "text": [
          0,
          1,
          2
         ],
         "type": "scatter",
         "x": [
          1.6369938355165725,
          1.6096310081341194,
          1.802834324311846,
          1.5602841649691839,
          1.6011230428069996,
          1.4083148069122013,
          1.6540975763793109,
          1.4314140058364047,
          1.2891834859063585,
          1.5742923379861353,
          1.458204127717514,
          1.4048292794672328
         ],
         "y": [
          -0.3681353472579626,
          -0.3615510565652588,
          -0.1997548308777542,
          -0.38242471047731463,
          -0.3781619360396959,
          -0.5928344750544365,
          -0.2747005923092815,
          -0.5611463274824822,
          -0.7232844525420742,
          -0.4197346040301729,
          -0.5156940600430331,
          -0.6212635451110246
         ]
        },
        {
         "mode": "markers",
         "text": [
          0,
          1,
          2
         ],
         "type": "scatter",
         "x": [
          1.8241890055122134,
          2.366116176829801
         ],
         "y": [
          1.492165062044615,
          2.388703767913901
         ]
        },
        {
         "mode": "markers",
         "text": [
          0,
          1,
          2
         ],
         "type": "scatter",
         "x": [
          -0.8994032674062098,
          -0.607972108377015,
          -0.6372130941189119,
          -0.43786799772103174,
          -0.7227743553237665,
          -0.5697151079596218,
          -0.4441949676150664,
          -0.7981960814384164,
          -0.798196081438416,
          -0.6875559231321945,
          -0.650896417507661,
          -0.48641212867839606,
          -0.47792419969762295,
          -0.5614384562161405,
          -0.5300247092295188,
          -0.6163158479433374,
          -0.7895339779483177,
          -0.4051198463991865,
          -0.693002608161144,
          -0.6889697502490038,
          -0.35261977060605126,
          -0.7335217858247078,
          -0.6469807033742567,
          -0.672641582734725,
          -0.8258675969134099,
          -0.7204216696178369,
          -0.7309501522937556,
          -0.7012585654922895,
          -0.7236714846819365,
          -0.820236508359869,
          -0.5675683889954252,
          -0.5203362293810999,
          -0.6588058492468855,
          -0.793164813959471,
          -0.6507351502431897
         ],
         "y": [
          -0.19946783417870392,
          0.06005437276370978,
          0.05634478441360203,
          0.30557442699981996,
          -0.060210035101938696,
          0.13346139168773583,
          0.2602934056371137,
          -0.13350710109438052,
          -0.13350710109438066,
          -0.019717946273811453,
          0.03699116777595117,
          0.2936096552158627,
          0.21009224647748156,
          0.14471241984568128,
          0.16508425064210447,
          0.056714258866501284,
          -0.1104101743968099,
          0.3154435976256788,
          -0.020540751283913826,
          0.007169960491678847,
          0.3867593920177647,
          -0.06517176695862263,
          0.03369817896432699,
          -0.013277898402533498,
          -0.15566145263437545,
          -0.036936747274417876,
          -0.03938811160146643,
          -0.01965817071681331,
          -0.04220577775532806,
          -0.14607364789377517,
          0.1530589793426387,
          0.14862732175270474,
          0.015235518465697461,
          -0.11580019950935894,
          0.04642649501655013
         ]
        }
       ],
       "layout": {
        "template": {
         "data": {
          "bar": [
           {
            "error_x": {
             "color": "#2a3f5f"
            },
            "error_y": {
             "color": "#2a3f5f"
            },
            "marker": {
             "line": {
              "color": "#E5ECF6",
              "width": 0.5
             }
            },
            "type": "bar"
           }
          ],
          "barpolar": [
           {
            "marker": {
             "line": {
              "color": "#E5ECF6",
              "width": 0.5
             }
            },
            "type": "barpolar"
           }
          ],
          "carpet": [
           {
            "aaxis": {
             "endlinecolor": "#2a3f5f",
             "gridcolor": "white",
             "linecolor": "white",
             "minorgridcolor": "white",
             "startlinecolor": "#2a3f5f"
            },
            "baxis": {
             "endlinecolor": "#2a3f5f",
             "gridcolor": "white",
             "linecolor": "white",
             "minorgridcolor": "white",
             "startlinecolor": "#2a3f5f"
            },
            "type": "carpet"
           }
          ],
          "choropleth": [
           {
            "colorbar": {
             "outlinewidth": 0,
             "ticks": ""
            },
            "type": "choropleth"
           }
          ],
          "contour": [
           {
            "colorbar": {
             "outlinewidth": 0,
             "ticks": ""
            },
            "colorscale": [
             [
              0,
              "#0d0887"
             ],
             [
              0.1111111111111111,
              "#46039f"
             ],
             [
              0.2222222222222222,
              "#7201a8"
             ],
             [
              0.3333333333333333,
              "#9c179e"
             ],
             [
              0.4444444444444444,
              "#bd3786"
             ],
             [
              0.5555555555555556,
              "#d8576b"
             ],
             [
              0.6666666666666666,
              "#ed7953"
             ],
             [
              0.7777777777777778,
              "#fb9f3a"
             ],
             [
              0.8888888888888888,
              "#fdca26"
             ],
             [
              1,
              "#f0f921"
             ]
            ],
            "type": "contour"
           }
          ],
          "contourcarpet": [
           {
            "colorbar": {
             "outlinewidth": 0,
             "ticks": ""
            },
            "type": "contourcarpet"
           }
          ],
          "heatmap": [
           {
            "colorbar": {
             "outlinewidth": 0,
             "ticks": ""
            },
            "colorscale": [
             [
              0,
              "#0d0887"
             ],
             [
              0.1111111111111111,
              "#46039f"
             ],
             [
              0.2222222222222222,
              "#7201a8"
             ],
             [
              0.3333333333333333,
              "#9c179e"
             ],
             [
              0.4444444444444444,
              "#bd3786"
             ],
             [
              0.5555555555555556,
              "#d8576b"
             ],
             [
              0.6666666666666666,
              "#ed7953"
             ],
             [
              0.7777777777777778,
              "#fb9f3a"
             ],
             [
              0.8888888888888888,
              "#fdca26"
             ],
             [
              1,
              "#f0f921"
             ]
            ],
            "type": "heatmap"
           }
          ],
          "heatmapgl": [
           {
            "colorbar": {
             "outlinewidth": 0,
             "ticks": ""
            },
            "colorscale": [
             [
              0,
              "#0d0887"
             ],
             [
              0.1111111111111111,
              "#46039f"
             ],
             [
              0.2222222222222222,
              "#7201a8"
             ],
             [
              0.3333333333333333,
              "#9c179e"
             ],
             [
              0.4444444444444444,
              "#bd3786"
             ],
             [
              0.5555555555555556,
              "#d8576b"
             ],
             [
              0.6666666666666666,
              "#ed7953"
             ],
             [
              0.7777777777777778,
              "#fb9f3a"
             ],
             [
              0.8888888888888888,
              "#fdca26"
             ],
             [
              1,
              "#f0f921"
             ]
            ],
            "type": "heatmapgl"
           }
          ],
          "histogram": [
           {
            "marker": {
             "colorbar": {
              "outlinewidth": 0,
              "ticks": ""
             }
            },
            "type": "histogram"
           }
          ],
          "histogram2d": [
           {
            "colorbar": {
             "outlinewidth": 0,
             "ticks": ""
            },
            "colorscale": [
             [
              0,
              "#0d0887"
             ],
             [
              0.1111111111111111,
              "#46039f"
             ],
             [
              0.2222222222222222,
              "#7201a8"
             ],
             [
              0.3333333333333333,
              "#9c179e"
             ],
             [
              0.4444444444444444,
              "#bd3786"
             ],
             [
              0.5555555555555556,
              "#d8576b"
             ],
             [
              0.6666666666666666,
              "#ed7953"
             ],
             [
              0.7777777777777778,
              "#fb9f3a"
             ],
             [
              0.8888888888888888,
              "#fdca26"
             ],
             [
              1,
              "#f0f921"
             ]
            ],
            "type": "histogram2d"
           }
          ],
          "histogram2dcontour": [
           {
            "colorbar": {
             "outlinewidth": 0,
             "ticks": ""
            },
            "colorscale": [
             [
              0,
              "#0d0887"
             ],
             [
              0.1111111111111111,
              "#46039f"
             ],
             [
              0.2222222222222222,
              "#7201a8"
             ],
             [
              0.3333333333333333,
              "#9c179e"
             ],
             [
              0.4444444444444444,
              "#bd3786"
             ],
             [
              0.5555555555555556,
              "#d8576b"
             ],
             [
              0.6666666666666666,
              "#ed7953"
             ],
             [
              0.7777777777777778,
              "#fb9f3a"
             ],
             [
              0.8888888888888888,
              "#fdca26"
             ],
             [
              1,
              "#f0f921"
             ]
            ],
            "type": "histogram2dcontour"
           }
          ],
          "mesh3d": [
           {
            "colorbar": {
             "outlinewidth": 0,
             "ticks": ""
            },
            "type": "mesh3d"
           }
          ],
          "parcoords": [
           {
            "line": {
             "colorbar": {
              "outlinewidth": 0,
              "ticks": ""
             }
            },
            "type": "parcoords"
           }
          ],
          "pie": [
           {
            "automargin": true,
            "type": "pie"
           }
          ],
          "scatter": [
           {
            "marker": {
             "colorbar": {
              "outlinewidth": 0,
              "ticks": ""
             }
            },
            "type": "scatter"
           }
          ],
          "scatter3d": [
           {
            "line": {
             "colorbar": {
              "outlinewidth": 0,
              "ticks": ""
             }
            },
            "marker": {
             "colorbar": {
              "outlinewidth": 0,
              "ticks": ""
             }
            },
            "type": "scatter3d"
           }
          ],
          "scattercarpet": [
           {
            "marker": {
             "colorbar": {
              "outlinewidth": 0,
              "ticks": ""
             }
            },
            "type": "scattercarpet"
           }
          ],
          "scattergeo": [
           {
            "marker": {
             "colorbar": {
              "outlinewidth": 0,
              "ticks": ""
             }
            },
            "type": "scattergeo"
           }
          ],
          "scattergl": [
           {
            "marker": {
             "colorbar": {
              "outlinewidth": 0,
              "ticks": ""
             }
            },
            "type": "scattergl"
           }
          ],
          "scattermapbox": [
           {
            "marker": {
             "colorbar": {
              "outlinewidth": 0,
              "ticks": ""
             }
            },
            "type": "scattermapbox"
           }
          ],
          "scatterpolar": [
           {
            "marker": {
             "colorbar": {
              "outlinewidth": 0,
              "ticks": ""
             }
            },
            "type": "scatterpolar"
           }
          ],
          "scatterpolargl": [
           {
            "marker": {
             "colorbar": {
              "outlinewidth": 0,
              "ticks": ""
             }
            },
            "type": "scatterpolargl"
           }
          ],
          "scatterternary": [
           {
            "marker": {
             "colorbar": {
              "outlinewidth": 0,
              "ticks": ""
             }
            },
            "type": "scatterternary"
           }
          ],
          "surface": [
           {
            "colorbar": {
             "outlinewidth": 0,
             "ticks": ""
            },
            "colorscale": [
             [
              0,
              "#0d0887"
             ],
             [
              0.1111111111111111,
              "#46039f"
             ],
             [
              0.2222222222222222,
              "#7201a8"
             ],
             [
              0.3333333333333333,
              "#9c179e"
             ],
             [
              0.4444444444444444,
              "#bd3786"
             ],
             [
              0.5555555555555556,
              "#d8576b"
             ],
             [
              0.6666666666666666,
              "#ed7953"
             ],
             [
              0.7777777777777778,
              "#fb9f3a"
             ],
             [
              0.8888888888888888,
              "#fdca26"
             ],
             [
              1,
              "#f0f921"
             ]
            ],
            "type": "surface"
           }
          ],
          "table": [
           {
            "cells": {
             "fill": {
              "color": "#EBF0F8"
             },
             "line": {
              "color": "white"
             }
            },
            "header": {
             "fill": {
              "color": "#C8D4E3"
             },
             "line": {
              "color": "white"
             }
            },
            "type": "table"
           }
          ]
         },
         "layout": {
          "annotationdefaults": {
           "arrowcolor": "#2a3f5f",
           "arrowhead": 0,
           "arrowwidth": 1
          },
          "autotypenumbers": "strict",
          "coloraxis": {
           "colorbar": {
            "outlinewidth": 0,
            "ticks": ""
           }
          },
          "colorscale": {
           "diverging": [
            [
             0,
             "#8e0152"
            ],
            [
             0.1,
             "#c51b7d"
            ],
            [
             0.2,
             "#de77ae"
            ],
            [
             0.3,
             "#f1b6da"
            ],
            [
             0.4,
             "#fde0ef"
            ],
            [
             0.5,
             "#f7f7f7"
            ],
            [
             0.6,
             "#e6f5d0"
            ],
            [
             0.7,
             "#b8e186"
            ],
            [
             0.8,
             "#7fbc41"
            ],
            [
             0.9,
             "#4d9221"
            ],
            [
             1,
             "#276419"
            ]
           ],
           "sequential": [
            [
             0,
             "#0d0887"
            ],
            [
             0.1111111111111111,
             "#46039f"
            ],
            [
             0.2222222222222222,
             "#7201a8"
            ],
            [
             0.3333333333333333,
             "#9c179e"
            ],
            [
             0.4444444444444444,
             "#bd3786"
            ],
            [
             0.5555555555555556,
             "#d8576b"
            ],
            [
             0.6666666666666666,
             "#ed7953"
            ],
            [
             0.7777777777777778,
             "#fb9f3a"
            ],
            [
             0.8888888888888888,
             "#fdca26"
            ],
            [
             1,
             "#f0f921"
            ]
           ],
           "sequentialminus": [
            [
             0,
             "#0d0887"
            ],
            [
             0.1111111111111111,
             "#46039f"
            ],
            [
             0.2222222222222222,
             "#7201a8"
            ],
            [
             0.3333333333333333,
             "#9c179e"
            ],
            [
             0.4444444444444444,
             "#bd3786"
            ],
            [
             0.5555555555555556,
             "#d8576b"
            ],
            [
             0.6666666666666666,
             "#ed7953"
            ],
            [
             0.7777777777777778,
             "#fb9f3a"
            ],
            [
             0.8888888888888888,
             "#fdca26"
            ],
            [
             1,
             "#f0f921"
            ]
           ]
          },
          "colorway": [
           "#636efa",
           "#EF553B",
           "#00cc96",
           "#ab63fa",
           "#FFA15A",
           "#19d3f3",
           "#FF6692",
           "#B6E880",
           "#FF97FF",
           "#FECB52"
          ],
          "font": {
           "color": "#2a3f5f"
          },
          "geo": {
           "bgcolor": "white",
           "lakecolor": "white",
           "landcolor": "#E5ECF6",
           "showlakes": true,
           "showland": true,
           "subunitcolor": "white"
          },
          "hoverlabel": {
           "align": "left"
          },
          "hovermode": "closest",
          "mapbox": {
           "style": "light"
          },
          "paper_bgcolor": "white",
          "plot_bgcolor": "#E5ECF6",
          "polar": {
           "angularaxis": {
            "gridcolor": "white",
            "linecolor": "white",
            "ticks": ""
           },
           "bgcolor": "#E5ECF6",
           "radialaxis": {
            "gridcolor": "white",
            "linecolor": "white",
            "ticks": ""
           }
          },
          "scene": {
           "xaxis": {
            "backgroundcolor": "#E5ECF6",
            "gridcolor": "white",
            "gridwidth": 2,
            "linecolor": "white",
            "showbackground": true,
            "ticks": "",
            "zerolinecolor": "white"
           },
           "yaxis": {
            "backgroundcolor": "#E5ECF6",
            "gridcolor": "white",
            "gridwidth": 2,
            "linecolor": "white",
            "showbackground": true,
            "ticks": "",
            "zerolinecolor": "white"
           },
           "zaxis": {
            "backgroundcolor": "#E5ECF6",
            "gridcolor": "white",
            "gridwidth": 2,
            "linecolor": "white",
            "showbackground": true,
            "ticks": "",
            "zerolinecolor": "white"
           }
          },
          "shapedefaults": {
           "line": {
            "color": "#2a3f5f"
           }
          },
          "ternary": {
           "aaxis": {
            "gridcolor": "white",
            "linecolor": "white",
            "ticks": ""
           },
           "baxis": {
            "gridcolor": "white",
            "linecolor": "white",
            "ticks": ""
           },
           "bgcolor": "#E5ECF6",
           "caxis": {
            "gridcolor": "white",
            "linecolor": "white",
            "ticks": ""
           }
          },
          "title": {
           "x": 0.05
          },
          "xaxis": {
           "automargin": true,
           "gridcolor": "white",
           "linecolor": "white",
           "ticks": "",
           "title": {
            "standoff": 15
           },
           "zerolinecolor": "white",
           "zerolinewidth": 2
          },
          "yaxis": {
           "automargin": true,
           "gridcolor": "white",
           "linecolor": "white",
           "ticks": "",
           "title": {
            "standoff": 15
           },
           "zerolinecolor": "white",
           "zerolinewidth": 2
          }
         }
        }
       }
      },
      "text/html": [
       "<div>                            <div id=\"d72c900b-4cc7-4b01-b476-5490866020a0\" class=\"plotly-graph-div\" style=\"height:525px; width:100%;\"></div>            <script type=\"text/javascript\">                require([\"plotly\"], function(Plotly) {                    window.PLOTLYENV=window.PLOTLYENV || {};                                    if (document.getElementById(\"d72c900b-4cc7-4b01-b476-5490866020a0\")) {                    Plotly.newPlot(                        \"d72c900b-4cc7-4b01-b476-5490866020a0\",                        [{\"mode\": \"markers\", \"text\": [0.0, 1.0, 2.0], \"type\": \"scatter\", \"x\": [1.6369938355165725, 1.6096310081341194, 1.802834324311846, 1.5602841649691839, 1.6011230428069996, 1.4083148069122013, 1.6540975763793109, 1.4314140058364047, 1.2891834859063585, 1.5742923379861353, 1.458204127717514, 1.4048292794672328], \"y\": [-0.3681353472579626, -0.3615510565652588, -0.1997548308777542, -0.38242471047731463, -0.3781619360396959, -0.5928344750544365, -0.2747005923092815, -0.5611463274824822, -0.7232844525420742, -0.4197346040301729, -0.5156940600430331, -0.6212635451110246]}, {\"mode\": \"markers\", \"text\": [0.0, 1.0, 2.0], \"type\": \"scatter\", \"x\": [1.8241890055122134, 2.366116176829801], \"y\": [1.492165062044615, 2.388703767913901]}, {\"mode\": \"markers\", \"text\": [0.0, 1.0, 2.0], \"type\": \"scatter\", \"x\": [-0.8994032674062098, -0.607972108377015, -0.6372130941189119, -0.43786799772103174, -0.7227743553237665, -0.5697151079596218, -0.4441949676150664, -0.7981960814384164, -0.798196081438416, -0.6875559231321945, -0.650896417507661, -0.48641212867839606, -0.47792419969762295, -0.5614384562161405, -0.5300247092295188, -0.6163158479433374, -0.7895339779483177, -0.4051198463991865, -0.693002608161144, -0.6889697502490038, -0.35261977060605126, -0.7335217858247078, -0.6469807033742567, -0.672641582734725, -0.8258675969134099, -0.7204216696178369, -0.7309501522937556, -0.7012585654922895, -0.7236714846819365, -0.820236508359869, -0.5675683889954252, -0.5203362293810999, -0.6588058492468855, -0.793164813959471, -0.6507351502431897], \"y\": [-0.19946783417870392, 0.06005437276370978, 0.05634478441360203, 0.30557442699981996, -0.060210035101938696, 0.13346139168773583, 0.2602934056371137, -0.13350710109438052, -0.13350710109438066, -0.019717946273811453, 0.03699116777595117, 0.2936096552158627, 0.21009224647748156, 0.14471241984568128, 0.16508425064210447, 0.056714258866501284, -0.1104101743968099, 0.3154435976256788, -0.020540751283913826, 0.007169960491678847, 0.3867593920177647, -0.06517176695862263, 0.03369817896432699, -0.013277898402533498, -0.15566145263437545, -0.036936747274417876, -0.03938811160146643, -0.01965817071681331, -0.04220577775532806, -0.14607364789377517, 0.1530589793426387, 0.14862732175270474, 0.015235518465697461, -0.11580019950935894, 0.04642649501655013]}],                        {\"template\": {\"data\": {\"bar\": [{\"error_x\": {\"color\": \"#2a3f5f\"}, \"error_y\": {\"color\": \"#2a3f5f\"}, \"marker\": {\"line\": {\"color\": \"#E5ECF6\", \"width\": 0.5}}, \"type\": \"bar\"}], \"barpolar\": [{\"marker\": {\"line\": {\"color\": \"#E5ECF6\", \"width\": 0.5}}, \"type\": \"barpolar\"}], \"carpet\": [{\"aaxis\": {\"endlinecolor\": \"#2a3f5f\", \"gridcolor\": \"white\", \"linecolor\": \"white\", \"minorgridcolor\": \"white\", \"startlinecolor\": \"#2a3f5f\"}, \"baxis\": {\"endlinecolor\": \"#2a3f5f\", \"gridcolor\": \"white\", \"linecolor\": \"white\", \"minorgridcolor\": \"white\", \"startlinecolor\": \"#2a3f5f\"}, \"type\": \"carpet\"}], \"choropleth\": [{\"colorbar\": {\"outlinewidth\": 0, \"ticks\": \"\"}, \"type\": \"choropleth\"}], \"contour\": [{\"colorbar\": {\"outlinewidth\": 0, \"ticks\": \"\"}, \"colorscale\": [[0.0, \"#0d0887\"], [0.1111111111111111, \"#46039f\"], [0.2222222222222222, \"#7201a8\"], [0.3333333333333333, \"#9c179e\"], [0.4444444444444444, \"#bd3786\"], [0.5555555555555556, \"#d8576b\"], [0.6666666666666666, \"#ed7953\"], [0.7777777777777778, \"#fb9f3a\"], [0.8888888888888888, \"#fdca26\"], [1.0, \"#f0f921\"]], \"type\": \"contour\"}], \"contourcarpet\": [{\"colorbar\": {\"outlinewidth\": 0, \"ticks\": \"\"}, \"type\": \"contourcarpet\"}], \"heatmap\": [{\"colorbar\": {\"outlinewidth\": 0, \"ticks\": \"\"}, \"colorscale\": [[0.0, \"#0d0887\"], [0.1111111111111111, \"#46039f\"], [0.2222222222222222, \"#7201a8\"], [0.3333333333333333, \"#9c179e\"], [0.4444444444444444, \"#bd3786\"], [0.5555555555555556, \"#d8576b\"], [0.6666666666666666, \"#ed7953\"], [0.7777777777777778, \"#fb9f3a\"], [0.8888888888888888, \"#fdca26\"], [1.0, \"#f0f921\"]], \"type\": \"heatmap\"}], \"heatmapgl\": [{\"colorbar\": {\"outlinewidth\": 0, \"ticks\": \"\"}, \"colorscale\": [[0.0, \"#0d0887\"], [0.1111111111111111, \"#46039f\"], [0.2222222222222222, \"#7201a8\"], [0.3333333333333333, \"#9c179e\"], [0.4444444444444444, \"#bd3786\"], [0.5555555555555556, \"#d8576b\"], [0.6666666666666666, \"#ed7953\"], [0.7777777777777778, \"#fb9f3a\"], [0.8888888888888888, \"#fdca26\"], [1.0, \"#f0f921\"]], \"type\": \"heatmapgl\"}], \"histogram\": [{\"marker\": {\"colorbar\": {\"outlinewidth\": 0, \"ticks\": \"\"}}, \"type\": \"histogram\"}], \"histogram2d\": [{\"colorbar\": {\"outlinewidth\": 0, \"ticks\": \"\"}, \"colorscale\": [[0.0, \"#0d0887\"], [0.1111111111111111, \"#46039f\"], [0.2222222222222222, \"#7201a8\"], [0.3333333333333333, \"#9c179e\"], [0.4444444444444444, \"#bd3786\"], [0.5555555555555556, \"#d8576b\"], [0.6666666666666666, \"#ed7953\"], [0.7777777777777778, \"#fb9f3a\"], [0.8888888888888888, \"#fdca26\"], [1.0, \"#f0f921\"]], \"type\": \"histogram2d\"}], \"histogram2dcontour\": [{\"colorbar\": {\"outlinewidth\": 0, \"ticks\": \"\"}, \"colorscale\": [[0.0, \"#0d0887\"], [0.1111111111111111, \"#46039f\"], [0.2222222222222222, \"#7201a8\"], [0.3333333333333333, \"#9c179e\"], [0.4444444444444444, \"#bd3786\"], [0.5555555555555556, \"#d8576b\"], [0.6666666666666666, \"#ed7953\"], [0.7777777777777778, \"#fb9f3a\"], [0.8888888888888888, \"#fdca26\"], [1.0, \"#f0f921\"]], \"type\": \"histogram2dcontour\"}], \"mesh3d\": [{\"colorbar\": {\"outlinewidth\": 0, \"ticks\": \"\"}, \"type\": \"mesh3d\"}], \"parcoords\": [{\"line\": {\"colorbar\": {\"outlinewidth\": 0, \"ticks\": \"\"}}, \"type\": \"parcoords\"}], \"pie\": [{\"automargin\": true, \"type\": \"pie\"}], \"scatter\": [{\"marker\": {\"colorbar\": {\"outlinewidth\": 0, \"ticks\": \"\"}}, \"type\": \"scatter\"}], \"scatter3d\": [{\"line\": {\"colorbar\": {\"outlinewidth\": 0, \"ticks\": \"\"}}, \"marker\": {\"colorbar\": {\"outlinewidth\": 0, \"ticks\": \"\"}}, \"type\": \"scatter3d\"}], \"scattercarpet\": [{\"marker\": {\"colorbar\": {\"outlinewidth\": 0, \"ticks\": \"\"}}, \"type\": \"scattercarpet\"}], \"scattergeo\": [{\"marker\": {\"colorbar\": {\"outlinewidth\": 0, \"ticks\": \"\"}}, \"type\": \"scattergeo\"}], \"scattergl\": [{\"marker\": {\"colorbar\": {\"outlinewidth\": 0, \"ticks\": \"\"}}, \"type\": \"scattergl\"}], \"scattermapbox\": [{\"marker\": {\"colorbar\": {\"outlinewidth\": 0, \"ticks\": \"\"}}, \"type\": \"scattermapbox\"}], \"scatterpolar\": [{\"marker\": {\"colorbar\": {\"outlinewidth\": 0, \"ticks\": \"\"}}, \"type\": \"scatterpolar\"}], \"scatterpolargl\": [{\"marker\": {\"colorbar\": {\"outlinewidth\": 0, \"ticks\": \"\"}}, \"type\": \"scatterpolargl\"}], \"scatterternary\": [{\"marker\": {\"colorbar\": {\"outlinewidth\": 0, \"ticks\": \"\"}}, \"type\": \"scatterternary\"}], \"surface\": [{\"colorbar\": {\"outlinewidth\": 0, \"ticks\": \"\"}, \"colorscale\": [[0.0, \"#0d0887\"], [0.1111111111111111, \"#46039f\"], [0.2222222222222222, \"#7201a8\"], [0.3333333333333333, \"#9c179e\"], [0.4444444444444444, \"#bd3786\"], [0.5555555555555556, \"#d8576b\"], [0.6666666666666666, \"#ed7953\"], [0.7777777777777778, \"#fb9f3a\"], [0.8888888888888888, \"#fdca26\"], [1.0, \"#f0f921\"]], \"type\": \"surface\"}], \"table\": [{\"cells\": {\"fill\": {\"color\": \"#EBF0F8\"}, \"line\": {\"color\": \"white\"}}, \"header\": {\"fill\": {\"color\": \"#C8D4E3\"}, \"line\": {\"color\": \"white\"}}, \"type\": \"table\"}]}, \"layout\": {\"annotationdefaults\": {\"arrowcolor\": \"#2a3f5f\", \"arrowhead\": 0, \"arrowwidth\": 1}, \"autotypenumbers\": \"strict\", \"coloraxis\": {\"colorbar\": {\"outlinewidth\": 0, \"ticks\": \"\"}}, \"colorscale\": {\"diverging\": [[0, \"#8e0152\"], [0.1, \"#c51b7d\"], [0.2, \"#de77ae\"], [0.3, \"#f1b6da\"], [0.4, \"#fde0ef\"], [0.5, \"#f7f7f7\"], [0.6, \"#e6f5d0\"], [0.7, \"#b8e186\"], [0.8, \"#7fbc41\"], [0.9, \"#4d9221\"], [1, \"#276419\"]], \"sequential\": [[0.0, \"#0d0887\"], [0.1111111111111111, \"#46039f\"], [0.2222222222222222, \"#7201a8\"], [0.3333333333333333, \"#9c179e\"], [0.4444444444444444, \"#bd3786\"], [0.5555555555555556, \"#d8576b\"], [0.6666666666666666, \"#ed7953\"], [0.7777777777777778, \"#fb9f3a\"], [0.8888888888888888, \"#fdca26\"], [1.0, \"#f0f921\"]], \"sequentialminus\": [[0.0, \"#0d0887\"], [0.1111111111111111, \"#46039f\"], [0.2222222222222222, \"#7201a8\"], [0.3333333333333333, \"#9c179e\"], [0.4444444444444444, \"#bd3786\"], [0.5555555555555556, \"#d8576b\"], [0.6666666666666666, \"#ed7953\"], [0.7777777777777778, \"#fb9f3a\"], [0.8888888888888888, \"#fdca26\"], [1.0, \"#f0f921\"]]}, \"colorway\": [\"#636efa\", \"#EF553B\", \"#00cc96\", \"#ab63fa\", \"#FFA15A\", \"#19d3f3\", \"#FF6692\", \"#B6E880\", \"#FF97FF\", \"#FECB52\"], \"font\": {\"color\": \"#2a3f5f\"}, \"geo\": {\"bgcolor\": \"white\", \"lakecolor\": \"white\", \"landcolor\": \"#E5ECF6\", \"showlakes\": true, \"showland\": true, \"subunitcolor\": \"white\"}, \"hoverlabel\": {\"align\": \"left\"}, \"hovermode\": \"closest\", \"mapbox\": {\"style\": \"light\"}, \"paper_bgcolor\": \"white\", \"plot_bgcolor\": \"#E5ECF6\", \"polar\": {\"angularaxis\": {\"gridcolor\": \"white\", \"linecolor\": \"white\", \"ticks\": \"\"}, \"bgcolor\": \"#E5ECF6\", \"radialaxis\": {\"gridcolor\": \"white\", \"linecolor\": \"white\", \"ticks\": \"\"}}, \"scene\": {\"xaxis\": {\"backgroundcolor\": \"#E5ECF6\", \"gridcolor\": \"white\", \"gridwidth\": 2, \"linecolor\": \"white\", \"showbackground\": true, \"ticks\": \"\", \"zerolinecolor\": \"white\"}, \"yaxis\": {\"backgroundcolor\": \"#E5ECF6\", \"gridcolor\": \"white\", \"gridwidth\": 2, \"linecolor\": \"white\", \"showbackground\": true, \"ticks\": \"\", \"zerolinecolor\": \"white\"}, \"zaxis\": {\"backgroundcolor\": \"#E5ECF6\", \"gridcolor\": \"white\", \"gridwidth\": 2, \"linecolor\": \"white\", \"showbackground\": true, \"ticks\": \"\", \"zerolinecolor\": \"white\"}}, \"shapedefaults\": {\"line\": {\"color\": \"#2a3f5f\"}}, \"ternary\": {\"aaxis\": {\"gridcolor\": \"white\", \"linecolor\": \"white\", \"ticks\": \"\"}, \"baxis\": {\"gridcolor\": \"white\", \"linecolor\": \"white\", \"ticks\": \"\"}, \"bgcolor\": \"#E5ECF6\", \"caxis\": {\"gridcolor\": \"white\", \"linecolor\": \"white\", \"ticks\": \"\"}}, \"title\": {\"x\": 0.05}, \"xaxis\": {\"automargin\": true, \"gridcolor\": \"white\", \"linecolor\": \"white\", \"ticks\": \"\", \"title\": {\"standoff\": 15}, \"zerolinecolor\": \"white\", \"zerolinewidth\": 2}, \"yaxis\": {\"automargin\": true, \"gridcolor\": \"white\", \"linecolor\": \"white\", \"ticks\": \"\", \"title\": {\"standoff\": 15}, \"zerolinecolor\": \"white\", \"zerolinewidth\": 2}}}},                        {\"responsive\": true}                    ).then(function(){\n",
       "                            \n",
       "var gd = document.getElementById('d72c900b-4cc7-4b01-b476-5490866020a0');\n",
       "var x = new MutationObserver(function (mutations, observer) {{\n",
       "        var display = window.getComputedStyle(gd).display;\n",
       "        if (!display || display === 'none') {{\n",
       "            console.log([gd, 'removed!']);\n",
       "            Plotly.purge(gd);\n",
       "            observer.disconnect();\n",
       "        }}\n",
       "}});\n",
       "\n",
       "// Listen for the removal of the full notebook cells\n",
       "var notebookContainer = gd.closest('#notebook-container');\n",
       "if (notebookContainer) {{\n",
       "    x.observe(notebookContainer, {childList: true});\n",
       "}}\n",
       "\n",
       "// Listen for the clearing of the current output cell\n",
       "var outputEl = gd.closest('.output');\n",
       "if (outputEl) {{\n",
       "    x.observe(outputEl, {childList: true});\n",
       "}}\n",
       "\n",
       "                        })                };                });            </script>        </div>"
      ]
     },
     "metadata": {},
     "output_type": "display_data"
    }
   ],
   "source": [
    "df_true_2d = reduce_dimensions(df_true, 2)\n",
    "plot_clusters(df_true_2d, KMeans(**args))"
   ]
  },
  {
   "cell_type": "code",
   "execution_count": 102,
   "metadata": {
    "scrolled": true
   },
   "outputs": [
    {
     "name": "stdout",
     "output_type": "stream",
     "text": [
      "Running fold 0\n",
      "Acurácia: 90.0%\n",
      "\n",
      "\n",
      "Running fold 1\n",
      "Acurácia: 90.0%\n",
      "\n",
      "\n",
      "Running fold 2\n",
      "Acurácia: 70.0%\n",
      "\n",
      "\n",
      "Running fold 3\n",
      "Acurácia: 100.0%\n",
      "\n",
      "\n",
      "Running fold 4\n",
      "Acurácia: 100.0%\n",
      "\n",
      "\n"
     ]
    }
   ],
   "source": [
    "kf = KFold(n_splits=5)\n",
    "i = 0\n",
    "for train, test in kf.split(df_true):\n",
    "    print(\"Running fold {}\".format(i))\n",
    "    training_set = df_true.iloc[train]\n",
    "    gnb = nb_fit(training_set)\n",
    "\n",
    "    test_set = df_true.iloc[test]\n",
    "    real_labels = test_set['metaclass']\n",
    "    predicted_classes = nb_predict(gnb, test_set)\n",
    "    \n",
    "    test_set = test_set.drop(columns=['metaclass'])\n",
    "    acc = nb_score(gnb, test_set, real_labels)\n",
    "    print(\"Acurácia: {}%\".format(round(acc*100, 2)))\n",
    "    print('\\n')\n",
    "    i+=1"
   ]
  },
  {
   "cell_type": "markdown",
   "metadata": {},
   "source": [
    "## Pós processamento"
   ]
  },
  {
   "cell_type": "code",
   "execution_count": 103,
   "metadata": {},
   "outputs": [],
   "source": [
    "df_true_copy[\"metaclass\"] = df_true_copy[\"metaclass\"].apply(lambda x: x + 4)\n",
    "\n",
    "df_final = pd.concat([df_false_copy, df_true_copy])\n",
    "df_final = df_final.sample(frac=1, random_state=20)"
   ]
  },
  {
   "cell_type": "code",
   "execution_count": 104,
   "metadata": {},
   "outputs": [
    {
     "data": {
      "application/vnd.plotly.v1+json": {
       "config": {
        "plotlyServerURL": "https://plot.ly"
       },
       "data": [
        {
         "mode": "markers",
         "text": [
          0,
          1,
          2,
          3,
          4,
          5,
          6
         ],
         "type": "scatter",
         "x": [
          4.058568682319327,
          4.051357082614986,
          4.054363960984802,
          4.0490095122351315,
          4.05267075955701,
          4.056009231090174,
          4.091533017475247,
          4.056147462973754,
          4.054618607082617,
          4.051128954035097,
          4.0573015312256695,
          4.064420556401688,
          4.055541996453829,
          4.056761547804987,
          4.0468150352203605,
          4.058337478772446,
          4.054068491469216,
          4.050475943127436,
          4.061678267997488,
          4.0507563445121875,
          4.057456330994709,
          4.054553686016975,
          4.056164719525912,
          4.046090206669684,
          4.05327871439976,
          4.043669501043857,
          4.05237467776008,
          4.050215292725215,
          4.058071927222689,
          4.061678267997488,
          4.064460138221996,
          4.045401745731483,
          4.0620144587927545,
          4.047299990169603,
          4.062452370891555
         ],
         "y": [
          0.017647603979654213,
          0.28153513542529524,
          0.15008137729976953,
          0.42284066512332275,
          0.20587829521946807,
          0.08520843409784516,
          -0.2935059109539937,
          0.09995011290174201,
          0.1513684738499632,
          0.2805133115355183,
          0.03428049559106548,
          -0.13725525887431264,
          0.09005681414587433,
          0.06719587389508756,
          0.47878574971959637,
          1.884793159149753e-05,
          0.1452824837016102,
          0.28536857263136567,
          -0.09845829258567407,
          0.3395929588493069,
          0.02876462146497705,
          0.13495217940353887,
          0.07411048374699396,
          0.5052648575347951,
          0.17911474790357934,
          0.6306978999466359,
          0.21928695354275804,
          0.34151803664537406,
          0.029431630330337286,
          -0.09845829258567407,
          -0.14953848940043973,
          0.5398216368204326,
          -0.08834298691373989,
          0.42585157904204696,
          -0.08734170933237968
         ]
        },
        {
         "mode": "markers",
         "text": [
          0,
          1,
          2,
          3,
          4,
          5,
          6
         ],
         "type": "scatter",
         "x": [
          -1.9394695240834754,
          -1.9385396623910625,
          -1.937767657315005,
          -1.9354457560965188,
          -1.9363685205789043,
          -1.943705235542616,
          -1.939916382521767,
          -1.9400311540177921,
          -1.9385767151470286,
          -1.9405670169381006,
          -1.9353899759047637,
          -1.9368688683064779,
          -1.9423294904459447,
          -1.936483781368658,
          -1.9436175167216982,
          -1.9356353056244466,
          -1.935348045138292,
          -1.9484099745082781,
          -1.9364213000574808,
          -1.9387507772450894,
          -1.936605385067582,
          -1.935744230528719,
          -1.9390854552480186,
          -1.9431191247857602,
          -1.9368127055766364,
          -1.9376788607227335,
          -1.938887343226791,
          -1.9366218951871539,
          -1.939586551456927,
          -1.94329970783838,
          -1.9391278426492586,
          -1.9406084621524897,
          -1.9416118639144933,
          -1.9443377081926208,
          -1.9435723816603527,
          -1.9420829936314705,
          -1.9377063340749754,
          -1.9393832171809775,
          -1.93752300082588,
          -1.941380978295562,
          -1.9422610594465899,
          -1.9420472916498117,
          -1.9485442618102058,
          -1.9416710094916434,
          -1.9436956056604455,
          -1.940369059757724,
          -1.9369607841226815,
          -1.9501600469612848,
          -1.944771233575321,
          -1.944537412909813,
          -1.9360334866008146,
          -1.9390034739586461,
          -1.943590708985086,
          -1.9366111819516412,
          -1.9421202900314667,
          -1.9375576438828583,
          -1.9414269423872033,
          -1.949586897765915,
          -1.9395939562494275,
          -1.943609271291722,
          -1.9457849183888125,
          -1.9451103493340263,
          -1.9357357495994347,
          -1.9395955943162666,
          -1.9461660674593513,
          -1.9437142939255145,
          -1.946902269522363,
          -1.9384029582252724,
          -1.9437955581944244,
          -1.9360045582785654,
          -1.9385804097632275,
          -1.939901565796768,
          -1.94334422347407,
          -1.9485132316223441,
          -1.9366906275947526,
          -1.9354951335325663,
          -1.9370109457419304,
          -1.9356538465834792,
          -1.9502741816410094,
          -1.9365856358660511,
          -1.935744230528719,
          -1.9421806493039648,
          -1.9446344294680276,
          -1.940000658413191,
          -1.9366449851907177,
          -1.9375075848174055,
          -1.9377653732392168,
          -1.9427087315364917,
          -1.940761285683612,
          -1.9372244548462536,
          -1.935491563100166,
          -1.9388913279187672,
          -1.940145878330327,
          -1.9377011143623069,
          -1.9389520250458103,
          -1.9427125397449003,
          -1.9500744093090123,
          -1.9364008551167162,
          -1.944740460877308,
          -1.936559208910123,
          -1.9391062417597422,
          -1.937035032128327,
          -1.9432839726685707,
          -1.9439659054497305,
          -1.9362712330720835,
          -1.9359360535904173,
          -1.935600536942353,
          -1.949525997763348,
          -1.9381871406616795,
          -1.9400346033276146,
          -1.9395216461243874,
          -1.9403443225218548,
          -1.938651241075287,
          -1.9354593813836318,
          -1.9450762956374477,
          -1.9419072394329895,
          -1.937700047611081,
          -1.9441806567926752,
          -1.9401272376085,
          -1.9366475479815308,
          -1.9403471945084512,
          -1.9431967579871818,
          -1.9367479759480233,
          -1.9374031651735264,
          -1.937529161730496,
          -1.9360334866008146,
          -1.9402400273217717,
          -1.936092469169564,
          -1.9403061510657453,
          -1.935297671822163,
          -1.943631664326882,
          -1.9429572844540248,
          -1.9371222053944355,
          -1.9417637960289948,
          -1.9403295869767188,
          -1.9428866927543766,
          -1.9393832171809775,
          -1.9430491769300984,
          -1.9365438578250063,
          -1.939901565796768,
          -1.9493602181898944,
          -1.936061073619708,
          -1.9389174250771148,
          -1.938003783893605,
          -1.9463483811026694,
          -1.9466509151272888,
          -1.9509998990830328,
          -1.9379128911730268,
          -1.937007950060091,
          -1.9400346033276146,
          -1.9448254074481806,
          -1.9453680633803554,
          -1.9382538338195316,
          -1.9395665446951011,
          -1.9387151847881423,
          -1.9477157962378946,
          -1.9371193331945253,
          -1.9384257216192815,
          -1.9495771673525029,
          -1.9357405229445244,
          -1.9397263674678098,
          -1.9406282078071744,
          -1.9403563093391316,
          -1.9379553888240708,
          -1.9472352775862447,
          -1.9383613993878024,
          -1.9406298188102649,
          -1.9383613993878024,
          -1.9415454978276996,
          -1.9416281198218126,
          -1.9477131722474381,
          -1.9417856524741959,
          -1.936337745438336,
          -1.9390059995594258,
          -1.941433546432065,
          -1.9509471640455969,
          -1.9359169017206068,
          -1.939353751172397,
          -1.9442600024835577,
          -1.9401272376085,
          -1.9409627071872297,
          -1.939533616961023,
          -1.9392094400495752,
          -1.9353890004800873,
          -1.9426597297113428,
          -1.9407890314424072,
          -1.9388847594399359
         ],
         "y": [
          -0.10272108328233279,
          -0.10079667178007835,
          -0.1399046414629877,
          -0.2127074421528704,
          -0.17398915213104257,
          0.06913838142406196,
          -0.050333686706438514,
          -0.09282132260336558,
          -0.10389835344606203,
          -0.057290658224006315,
          -0.19785938758247404,
          -0.16806155685073457,
          -0.002312638535292632,
          -0.18597894012413851,
          0.032511360673114616,
          -0.20515939596423968,
          -0.21978512474986991,
          0.2142823767070792,
          -0.17181299259256202,
          -0.0990605615849546,
          -0.16337960158838358,
          -0.2094860060745579,
          -0.09651472952645501,
          -0.001447910920872227,
          -0.17317201040639404,
          -0.13418063772493274,
          -0.09258698084623608,
          -0.18180752327870078,
          -0.08043750079106227,
          0.03393643416725866,
          -0.10229106936068942,
          -0.041125822091566004,
          0.001825216103276785,
          0.0650832480709222,
          0.07334316325998823,
          -0.003814078681669088,
          -0.1454306304733853,
          -0.09575320770740291,
          -0.15587677893139826,
          -0.04480355072189206,
          0.020978108203280842,
          0.02837456582711897,
          0.2113449061519027,
          0.044223327692268895,
          0.032203470551695076,
          -0.07246545840826801,
          -0.1697605874245421,
          0.2660275472334522,
          0.09631639090206037,
          0.05023341463602392,
          -0.18976970920960592,
          -0.08732981822905299,
          0.08340137580224911,
          -0.17721994566143262,
          0.008160578312139946,
          -0.13492612069350635,
          -0.008056766521646948,
          0.24879740999950528,
          -0.07485901299174182,
          0.10451948818429317,
          0.14723249331346253,
          0.06817333063518928,
          -0.17782221418543023,
          -0.06735155226102588,
          0.14051804135640378,
          0.06569149231890814,
          0.15067988584193548,
          -0.12946294746025858,
          0.059869358414766094,
          -0.19308167570749032,
          -0.12616726040607412,
          -0.07735153480874972,
          0.03028842282145139,
          0.11771970823689817,
          -0.1795496706450414,
          -0.21063536938008265,
          -0.1418741026212874,
          -0.19720811527840365,
          0.24350504723329194,
          -0.16693811225672742,
          -0.2094860060745579,
          0.00933506688958871,
          0.02204776743549702,
          -0.0692550191169256,
          -0.17822980855386192,
          -0.1685231500525863,
          -0.1367685168007118,
          0.010972777963027504,
          -0.06122749143525605,
          -0.16565959968469057,
          -0.20369483839076838,
          -0.11413196401025384,
          -0.060660363858881156,
          -0.14931646927802217,
          -0.10403786849848348,
          0.018443933554862273,
          0.2080049270091093,
          -0.15228930461825593,
          0.1129576367302512,
          -0.179144723006181,
          -0.11501701484176236,
          -0.17090335815421645,
          -0.014851285443088355,
          0.039877151403732845,
          -0.18088098920179901,
          -0.1849831137781542,
          -0.20281050202449274,
          0.20955935825452507,
          -0.12748066690917598,
          -0.07003597214288143,
          -0.0902949406816135,
          -0.08111022371855814,
          -0.10858006141009781,
          -0.19972739845463883,
          0.04674821978315723,
          0.009512792044887801,
          -0.1656633466036879,
          0.022742489335629577,
          -0.07035087868447502,
          -0.19009214453176407,
          -0.046149436475357936,
          0.009884827518722054,
          -0.17127014260221132,
          -0.16186580498891776,
          -0.15234277149903835,
          -0.18976970920960592,
          -0.04240145301943205,
          -0.19161217687974288,
          -0.033148752925004396,
          -0.20553825804347184,
          0.08464495962378692,
          0.0277405607225948,
          -0.16522393042786862,
          -0.054402438965081984,
          -0.061164002561638245,
          0.022323326441954516,
          -0.09575320770740291,
          0.033371352058657544,
          -0.1798082511054521,
          -0.07735153480874972,
          0.2467779383269229,
          -0.1903965520183929,
          -0.0996629050434572,
          -0.13494285031106967,
          0.28256547653588787,
          0.12677615862911865,
          0.2607820544165636,
          -0.12719096735598037,
          -0.15343894412523207,
          -0.07003597214288143,
          0.08143772874266962,
          0.16917906076773057,
          -0.12574207941978188,
          -0.063944123866299,
          -0.10339656993987964,
          0.22508788041554254,
          -0.16334697617368926,
          -0.11505450090892914,
          0.27068181206536795,
          -0.2035814086488456,
          -0.08244369633404902,
          -0.02620544332999181,
          -0.05621823907635293,
          -0.12371946507683061,
          0.2184472111952842,
          -0.13009483179532091,
          -0.04733224281769693,
          -0.13009483179532091,
          0.010044841416217679,
          0.024860733372451194,
          0.3020225607857377,
          0.005666777002731288,
          -0.17735240892082602,
          -0.10808949001597147,
          -0.024965686450864735,
          0.2790511547569868,
          -0.20491453997976541,
          -0.05602602552178418,
          0.07675785008553183,
          -0.07035087868447502,
          0.01797052894610125,
          -0.070591145478447,
          -0.11255041631856813,
          -0.2185415409283321,
          0.0113408533982894,
          -0.028059945626042398,
          -0.09234839724268949
         ]
        },
        {
         "mode": "markers",
         "text": [
          0,
          1,
          2,
          3,
          4,
          5,
          6
         ],
         "type": "scatter",
         "x": [
          1.0742152504630234,
          1.0686286927055775,
          1.07246666726798,
          1.0747166435686557,
          1.0740645018761248,
          1.0690597748166322,
          1.0689208860726669,
          1.0653217388677012,
          1.068317814287263,
          1.0679724576302922,
          1.0692200606262214,
          1.0717254234653173,
          1.0719497085783716,
          1.071316997976977,
          1.0698358044092764,
          1.0678753316951988,
          1.0742214552314207,
          1.0743121057254252,
          1.0737324725209194,
          1.072030531163264,
          1.0689190072923296,
          1.069714776423141,
          1.0741157854818695,
          1.070581081109435,
          1.0707005960884142,
          1.0778302724683402,
          1.0716868628093013,
          1.0717960902634451,
          1.093378848387672,
          1.0707005960884142,
          1.0683997249708548,
          1.0696556758721807,
          1.0745314244664372,
          1.0724386344944643,
          1.0705063363828293,
          1.0747166435686557,
          1.0684650680922687,
          1.0707005960884142,
          1.0674729786945227,
          1.069301624313451,
          1.0677634686987405,
          1.0696356692352114,
          1.0697371921241547,
          1.0744569594766777,
          1.0736100371091881,
          1.0705687322373592,
          1.0697406419204056,
          1.0777544950723843,
          1.072562542971785,
          1.0697652248976717,
          1.0660535362006907,
          1.0660535362006907,
          1.0745314244664372,
          1.072022188941889,
          1.0781982639617114,
          1.0700398721585827,
          1.0724666672679808,
          1.0778302724683402,
          1.0704876478671512,
          1.0706880533136403,
          1.0779695189722613,
          1.0697406618479073,
          1.071316997976977,
          1.0722262883299964,
          1.0708461276382801,
          1.0742214552314207,
          1.0695261749463376,
          1.0684650680922687,
          1.0715759740840867,
          1.0681504808298687,
          1.0777544950723843,
          1.0745314244664372,
          1.0747575989104514,
          1.0745646560846518,
          1.0697371921241547,
          1.0778302724683402,
          1.0742724756887974,
          1.0706725633148972,
          1.0678695757786376,
          1.0724386344944643,
          1.0745314244664372,
          1.0745314244664372,
          1.0704876478671512,
          1.072030531163264,
          1.0781982639617114,
          1.0778302724683402,
          1.0778383107254985,
          1.0778302724683402,
          1.0724666672679808,
          1.0684650680922687,
          1.0707008239039824,
          1.0747295661369343,
          1.0694775526274156
         ],
         "y": [
          -0.30834345104020755,
          -0.25356240213962833,
          -0.30604528716887675,
          -0.32287650242565263,
          -0.3097866940641215,
          -0.2649266472597576,
          -0.26167755186122704,
          -0.28429048046221184,
          -0.257208093369325,
          -0.26253918326049547,
          -0.2714035671256292,
          -0.2957055827840367,
          -0.2729140892002626,
          -0.27827140490875535,
          -0.28060867901143527,
          -0.25119115907044587,
          -0.31344766152500564,
          -0.3116179424661679,
          -0.30067397884651387,
          -0.2952129991293429,
          -0.2657465113897725,
          -0.2796991014988838,
          -0.3059393816816664,
          -0.28623569055893405,
          -0.2929068162062492,
          -0.33375422707650126,
          -0.29551439581619476,
          -0.2791196183283191,
          -0.34931645413470075,
          -0.2929068162062492,
          -0.2596952610124006,
          -0.2569748042372736,
          -0.318759637466434,
          -0.3045245868639935,
          -0.2852744263828016,
          -0.32287650242565263,
          -0.2706269058775059,
          -0.2929068162062492,
          -0.26384210561483823,
          -0.27713127666083504,
          -0.2495578089500435,
          -0.2746091161240261,
          -0.2611658815824371,
          -0.3100347071045525,
          -0.30216996318223643,
          -0.28531098606551936,
          -0.27847517505771996,
          -0.33609532793718666,
          -0.30780819223760836,
          -0.26268658188732036,
          -0.30580519852969956,
          -0.30580519852969956,
          -0.318759637466434,
          -0.2956382841719002,
          -0.3431458547617901,
          -0.2694888450736978,
          -0.3060452871688767,
          -0.33375422707650126,
          -0.284260626179546,
          -0.28761517608448195,
          -0.33926263171671794,
          -0.27780549533388604,
          -0.27827140490875535,
          -0.29903470681878286,
          -0.29145745496102876,
          -0.31344766152500564,
          -0.27520992260103383,
          -0.2706269058775059,
          -0.28030918132556115,
          -0.2675096127224435,
          -0.33609532793718666,
          -0.318759637466434,
          -0.3241200862471904,
          -0.31487661568592723,
          -0.2611658815824371,
          -0.33375422707650126,
          -0.3142278123027395,
          -0.2913861159013661,
          -0.2535468802835962,
          -0.3045245868639935,
          -0.318759637466434,
          -0.318759637466434,
          -0.284260626179546,
          -0.2952129991293429,
          -0.3431458547617901,
          -0.33375422707650126,
          -0.33595716529466196,
          -0.33375422707650126,
          -0.3060452871688767,
          -0.2706269058775059,
          -0.28678214910595384,
          -0.3225993859423072,
          -0.2708555098634078
         ]
        },
        {
         "mode": "markers",
         "text": [
          0,
          1,
          2,
          3,
          4,
          5,
          6
         ],
         "type": "scatter",
         "x": [
          3.0131322592246326,
          -0.007408383781420211,
          2.9870904952993214,
          -0.004910418809670311
         ],
         "y": [
          2.7573957215229967,
          3.243822150319389,
          3.6831393105786687,
          3.7010865668527066
         ]
        },
        {
         "mode": "markers",
         "text": [
          0,
          1,
          2,
          3,
          4,
          5,
          6
         ],
         "type": "scatter",
         "x": [
          1.0651221949379495,
          1.0677912247962025,
          1.0645845638711822,
          1.0658368822244084,
          1.066573057658383,
          1.068125763222794,
          1.0668025843737043,
          1.0662671638354722,
          1.0677912247961987,
          1.066470540961976,
          1.0660782122213308,
          1.064555793872864,
          1.0629812133024816,
          1.0631610355550498,
          1.062943061140741,
          1.0643708711904991,
          1.0640357187720646,
          1.0644432099290941,
          1.0653724672309552,
          1.065144105116875,
          1.0663197678315302,
          1.0647308997825413,
          1.0662035535277699,
          1.066093891482717,
          1.063142716818183,
          1.066470540961976,
          1.0637568679075446,
          1.0640026434158543,
          1.064622685109484,
          1.0671799589092088,
          1.0646823274854695,
          1.0639261900317427,
          1.067025220631374,
          1.0629015418661854,
          1.0629082312754405,
          1.065836882224409,
          1.063657318837549,
          1.0656501081285166,
          1.0627927019174706,
          1.067025220631374,
          1.0653296946811768,
          1.0650228035332974,
          1.0647325869610353,
          1.0635821742676768,
          1.0652496350355587,
          1.065836882224409,
          1.0649638558989432,
          1.0625495695718634,
          1.0654849352173772,
          1.0624278060679875,
          1.067025220631374,
          1.067302783002482,
          1.0639480732249273,
          1.0653337672578378,
          1.0647201227688614,
          1.0672020219517417,
          1.06738678500974,
          1.0631610355550498,
          1.0629670974074283,
          1.0651174798464293,
          1.065836882224409,
          1.0631610355550498,
          1.0652795879904247,
          1.0679066171658056,
          1.0648724124168119,
          1.0665322499221048,
          1.0643970858083942,
          1.0662474701558735,
          1.0652496350355587,
          1.0630083402306036,
          1.065706624789454,
          1.065836882224409,
          1.0639543653275572,
          1.0662281226468273,
          1.063657318837549,
          1.0659171567844592,
          1.065836882224409,
          1.063146287014813,
          1.0681257632227947,
          1.0633781459246345,
          1.0643194744391264,
          1.0628902835375995,
          1.0656841612489691,
          1.063545563432449,
          1.0624525271894876,
          1.0623622483525366,
          1.0661250018865127,
          1.064622685109484,
          1.065131032961079,
          1.066293956941923,
          1.0648972559152388,
          1.067302783002482,
          1.0658159323233685,
          1.0632654868975584,
          1.0646137630652888,
          1.0615681207375303,
          1.0636807978836693,
          1.0640939171783725,
          1.063155401769951,
          1.062490085719061,
          1.063657318837549,
          1.0661482085112792,
          1.066539916977449,
          1.064816347318347,
          1.0643857582418454,
          1.0626546775508887,
          1.0641791066314157,
          1.064622685109484,
          1.0626333635627327,
          1.0628883297342808,
          1.065444276670574,
          1.0657186559924667,
          1.0635031893202227,
          1.0643970858083942,
          1.065836882224409,
          1.0633947556309828,
          1.0633173417389088,
          1.0634106924171025,
          1.0658488467249303,
          1.0668025843737048,
          1.0629015418661851,
          1.0638295658089256,
          1.0639229841263318,
          1.0652728023550229
         ],
         "y": [
          -0.20676053376856143,
          -0.2483156438322057,
          -0.20665790409919116,
          -0.22318917318454398,
          -0.22714867782324122,
          -0.24836823132286096,
          -0.23740610440578636,
          -0.22240416073949965,
          -0.2483156438322058,
          -0.2331687275166278,
          -0.23822707950509048,
          -0.1843775647589656,
          -0.16712096077228455,
          -0.17339268703439562,
          -0.16343010532416713,
          -0.19776605176833204,
          -0.18006626231972844,
          -0.2005759697082,
          -0.2124528785481312,
          -0.2079393387429922,
          -0.2377461718841462,
          -0.20571928005209456,
          -0.24333663208064574,
          -0.2310362471139544,
          -0.15786737808954338,
          -0.2331687275166278,
          -0.18640691542775034,
          -0.19409770288010272,
          -0.21596773304037664,
          -0.245879841543289,
          -0.2161443498991354,
          -0.18575792283580658,
          -0.24701488800485463,
          -0.15525452579414298,
          -0.15470087468822222,
          -0.22318917318454398,
          -0.1884622248698246,
          -0.22848184720151793,
          -0.15083166650611818,
          -0.24701488800485463,
          -0.20471856841309233,
          -0.19456407293658248,
          -0.21410217231573328,
          -0.18248186903800928,
          -0.202323491213299,
          -0.22318917318454398,
          -0.2156384088196605,
          -0.15447569981578474,
          -0.22425018024467347,
          -0.15524319425711927,
          -0.24701488800485463,
          -0.24417752158206552,
          -0.19225917442667204,
          -0.21685533571156934,
          -0.20181486264699935,
          -0.23826699637086374,
          -0.24688376905312212,
          -0.17339268703439562,
          -0.1573848122977394,
          -0.21226768679938587,
          -0.22318917318454398,
          -0.17339268703439562,
          -0.21541225721600976,
          -0.2460392703094343,
          -0.21447744107889297,
          -0.21045526152935565,
          -0.195558041957846,
          -0.23763193479141684,
          -0.202323491213299,
          -0.17025884691062296,
          -0.22705387769274699,
          -0.22318917318454398,
          -0.19217505625997677,
          -0.22422963927778677,
          -0.1884622248698246,
          -0.21910903661309641,
          -0.22318917318454398,
          -0.15650874388200858,
          -0.24836823132286093,
          -0.16736649819524552,
          -0.20233679244480712,
          -0.1630395068791646,
          -0.22894685943227727,
          -0.18114356717772553,
          -0.14201371839708157,
          -0.15298667279158362,
          -0.2312390598868237,
          -0.21596773304037664,
          -0.20465948432510936,
          -0.22699636407967458,
          -0.20625741733088165,
          -0.24417752158206552,
          -0.2123716167592423,
          -0.17450642116773477,
          -0.19128854071867635,
          -0.12958491015023849,
          -0.1815588395536843,
          -0.183474026735995,
          -0.17336529198049608,
          -0.16043786474269947,
          -0.1884622248698246,
          -0.22679173174906583,
          -0.2352845344258037,
          -0.19630048379636011,
          -0.19469455856445433,
          -0.1514674242379467,
          -0.18550317955480297,
          -0.21596773304037664,
          -0.15695624171221642,
          -0.16755325472300556,
          -0.21669319703700898,
          -0.21569923168946661,
          -0.1765941196003164,
          -0.195558041957846,
          -0.22318917318454398,
          -0.16517230270187067,
          -0.1738102088315312,
          -0.17178437525184295,
          -0.22257869482706472,
          -0.23740610440578633,
          -0.1552545257941431,
          -0.18543220222580195,
          -0.17563153569425435,
          -0.18858905617012525
         ]
        },
        {
         "mode": "markers",
         "text": [
          0,
          1,
          2,
          3,
          4,
          5,
          6
         ],
         "type": "scatter",
         "x": [
          2.035037779975229,
          2.0302458617239036,
          2.0362974277490355,
          2.0371117359735464,
          2.032912227437116,
          2.0425605862823297,
          2.0355904790835035,
          2.0422699442816588,
          2.036684293930898,
          2.0379492643821124,
          2.0383437380219354,
          2.040868204201552
         ],
         "y": [
          1.161007108086477,
          1.2288817825001839,
          0.9545869243375859,
          1.1325810349546694,
          1.2030193783896292,
          0.7193980868162475,
          1.2742659976556423,
          0.8720075443035122,
          1.4594356343021164,
          1.1421628474494685,
          0.8768694989460367,
          0.9238874335009116
         ]
        },
        {
         "mode": "markers",
         "text": [
          0,
          1,
          2,
          3,
          4,
          5,
          6
         ],
         "type": "scatter",
         "x": [
          -0.9588192966546063,
          -0.9534473493691145,
          -0.9520460950255699,
          -0.9794275204582925,
          -0.9522207465511024,
          -0.9674538922371821,
          -0.9592159996525702,
          -0.9696409516863972,
          -0.962304319106375,
          -0.9712259861668656,
          -0.9504869542729852,
          -0.9652564728749348,
          -0.9520460950255699,
          -0.9561834346864815,
          -0.9582755807924821,
          -0.9530843139472309,
          -0.974809943605617,
          -0.9661051122241814,
          -0.9619906457919025,
          -0.9568858512920689,
          -0.953682431394775,
          -0.960767309956734,
          -0.9636784516504188,
          -0.9557971243688788,
          -0.9627486757629287,
          -0.9512521640961069,
          -0.9515534858418079,
          -0.9849684277381475,
          -0.9582181028536522,
          -0.9631373845982293,
          -0.9512970257661771,
          -0.9528911227988481,
          -0.9522849780486383,
          -0.9648752892581987,
          -0.9598952387825933,
          -0.9537811159658767,
          -0.9507072766814724,
          -0.9566831970801163,
          -0.9510806327070479,
          -0.9677741794243462,
          -0.9675291224680759,
          -0.9504869542729852,
          -0.9576737063072965
         ],
         "y": [
          0.5936451170267325,
          0.4104426268292803,
          0.40270079805919506,
          1.234853328764045,
          0.3699823401519669,
          0.8406105035825004,
          0.6120358316593655,
          1.0356082043228934,
          1.0190100632609653,
          1.3544046164500259,
          0.3759895847896579,
          0.8481571508867711,
          0.40270079805919506,
          0.6271572164042601,
          0.5842801129998376,
          0.45761604776920345,
          1.1748421615010303,
          1.057570757057282,
          0.7793527216332334,
          0.6260502536151105,
          0.5829380216830534,
          0.7099821740121718,
          0.7681773688067595,
          0.5601300646466623,
          0.6659268738144453,
          0.36827151099978056,
          0.3387668483139524,
          1.7062933452061602,
          0.6560844594925481,
          1.0656583587913064,
          0.3475590829323769,
          0.41344164408343953,
          0.5106565293617094,
          0.9113713406499279,
          0.6974040397511331,
          0.4863703401634038,
          0.458003372730365,
          0.660669015308354,
          0.38870193724535007,
          1.0739279211173665,
          1.1099994227495995,
          0.3759895847896579,
          0.6414540624553995
         ]
        }
       ],
       "layout": {
        "template": {
         "data": {
          "bar": [
           {
            "error_x": {
             "color": "#2a3f5f"
            },
            "error_y": {
             "color": "#2a3f5f"
            },
            "marker": {
             "line": {
              "color": "#E5ECF6",
              "width": 0.5
             }
            },
            "type": "bar"
           }
          ],
          "barpolar": [
           {
            "marker": {
             "line": {
              "color": "#E5ECF6",
              "width": 0.5
             }
            },
            "type": "barpolar"
           }
          ],
          "carpet": [
           {
            "aaxis": {
             "endlinecolor": "#2a3f5f",
             "gridcolor": "white",
             "linecolor": "white",
             "minorgridcolor": "white",
             "startlinecolor": "#2a3f5f"
            },
            "baxis": {
             "endlinecolor": "#2a3f5f",
             "gridcolor": "white",
             "linecolor": "white",
             "minorgridcolor": "white",
             "startlinecolor": "#2a3f5f"
            },
            "type": "carpet"
           }
          ],
          "choropleth": [
           {
            "colorbar": {
             "outlinewidth": 0,
             "ticks": ""
            },
            "type": "choropleth"
           }
          ],
          "contour": [
           {
            "colorbar": {
             "outlinewidth": 0,
             "ticks": ""
            },
            "colorscale": [
             [
              0,
              "#0d0887"
             ],
             [
              0.1111111111111111,
              "#46039f"
             ],
             [
              0.2222222222222222,
              "#7201a8"
             ],
             [
              0.3333333333333333,
              "#9c179e"
             ],
             [
              0.4444444444444444,
              "#bd3786"
             ],
             [
              0.5555555555555556,
              "#d8576b"
             ],
             [
              0.6666666666666666,
              "#ed7953"
             ],
             [
              0.7777777777777778,
              "#fb9f3a"
             ],
             [
              0.8888888888888888,
              "#fdca26"
             ],
             [
              1,
              "#f0f921"
             ]
            ],
            "type": "contour"
           }
          ],
          "contourcarpet": [
           {
            "colorbar": {
             "outlinewidth": 0,
             "ticks": ""
            },
            "type": "contourcarpet"
           }
          ],
          "heatmap": [
           {
            "colorbar": {
             "outlinewidth": 0,
             "ticks": ""
            },
            "colorscale": [
             [
              0,
              "#0d0887"
             ],
             [
              0.1111111111111111,
              "#46039f"
             ],
             [
              0.2222222222222222,
              "#7201a8"
             ],
             [
              0.3333333333333333,
              "#9c179e"
             ],
             [
              0.4444444444444444,
              "#bd3786"
             ],
             [
              0.5555555555555556,
              "#d8576b"
             ],
             [
              0.6666666666666666,
              "#ed7953"
             ],
             [
              0.7777777777777778,
              "#fb9f3a"
             ],
             [
              0.8888888888888888,
              "#fdca26"
             ],
             [
              1,
              "#f0f921"
             ]
            ],
            "type": "heatmap"
           }
          ],
          "heatmapgl": [
           {
            "colorbar": {
             "outlinewidth": 0,
             "ticks": ""
            },
            "colorscale": [
             [
              0,
              "#0d0887"
             ],
             [
              0.1111111111111111,
              "#46039f"
             ],
             [
              0.2222222222222222,
              "#7201a8"
             ],
             [
              0.3333333333333333,
              "#9c179e"
             ],
             [
              0.4444444444444444,
              "#bd3786"
             ],
             [
              0.5555555555555556,
              "#d8576b"
             ],
             [
              0.6666666666666666,
              "#ed7953"
             ],
             [
              0.7777777777777778,
              "#fb9f3a"
             ],
             [
              0.8888888888888888,
              "#fdca26"
             ],
             [
              1,
              "#f0f921"
             ]
            ],
            "type": "heatmapgl"
           }
          ],
          "histogram": [
           {
            "marker": {
             "colorbar": {
              "outlinewidth": 0,
              "ticks": ""
             }
            },
            "type": "histogram"
           }
          ],
          "histogram2d": [
           {
            "colorbar": {
             "outlinewidth": 0,
             "ticks": ""
            },
            "colorscale": [
             [
              0,
              "#0d0887"
             ],
             [
              0.1111111111111111,
              "#46039f"
             ],
             [
              0.2222222222222222,
              "#7201a8"
             ],
             [
              0.3333333333333333,
              "#9c179e"
             ],
             [
              0.4444444444444444,
              "#bd3786"
             ],
             [
              0.5555555555555556,
              "#d8576b"
             ],
             [
              0.6666666666666666,
              "#ed7953"
             ],
             [
              0.7777777777777778,
              "#fb9f3a"
             ],
             [
              0.8888888888888888,
              "#fdca26"
             ],
             [
              1,
              "#f0f921"
             ]
            ],
            "type": "histogram2d"
           }
          ],
          "histogram2dcontour": [
           {
            "colorbar": {
             "outlinewidth": 0,
             "ticks": ""
            },
            "colorscale": [
             [
              0,
              "#0d0887"
             ],
             [
              0.1111111111111111,
              "#46039f"
             ],
             [
              0.2222222222222222,
              "#7201a8"
             ],
             [
              0.3333333333333333,
              "#9c179e"
             ],
             [
              0.4444444444444444,
              "#bd3786"
             ],
             [
              0.5555555555555556,
              "#d8576b"
             ],
             [
              0.6666666666666666,
              "#ed7953"
             ],
             [
              0.7777777777777778,
              "#fb9f3a"
             ],
             [
              0.8888888888888888,
              "#fdca26"
             ],
             [
              1,
              "#f0f921"
             ]
            ],
            "type": "histogram2dcontour"
           }
          ],
          "mesh3d": [
           {
            "colorbar": {
             "outlinewidth": 0,
             "ticks": ""
            },
            "type": "mesh3d"
           }
          ],
          "parcoords": [
           {
            "line": {
             "colorbar": {
              "outlinewidth": 0,
              "ticks": ""
             }
            },
            "type": "parcoords"
           }
          ],
          "pie": [
           {
            "automargin": true,
            "type": "pie"
           }
          ],
          "scatter": [
           {
            "marker": {
             "colorbar": {
              "outlinewidth": 0,
              "ticks": ""
             }
            },
            "type": "scatter"
           }
          ],
          "scatter3d": [
           {
            "line": {
             "colorbar": {
              "outlinewidth": 0,
              "ticks": ""
             }
            },
            "marker": {
             "colorbar": {
              "outlinewidth": 0,
              "ticks": ""
             }
            },
            "type": "scatter3d"
           }
          ],
          "scattercarpet": [
           {
            "marker": {
             "colorbar": {
              "outlinewidth": 0,
              "ticks": ""
             }
            },
            "type": "scattercarpet"
           }
          ],
          "scattergeo": [
           {
            "marker": {
             "colorbar": {
              "outlinewidth": 0,
              "ticks": ""
             }
            },
            "type": "scattergeo"
           }
          ],
          "scattergl": [
           {
            "marker": {
             "colorbar": {
              "outlinewidth": 0,
              "ticks": ""
             }
            },
            "type": "scattergl"
           }
          ],
          "scattermapbox": [
           {
            "marker": {
             "colorbar": {
              "outlinewidth": 0,
              "ticks": ""
             }
            },
            "type": "scattermapbox"
           }
          ],
          "scatterpolar": [
           {
            "marker": {
             "colorbar": {
              "outlinewidth": 0,
              "ticks": ""
             }
            },
            "type": "scatterpolar"
           }
          ],
          "scatterpolargl": [
           {
            "marker": {
             "colorbar": {
              "outlinewidth": 0,
              "ticks": ""
             }
            },
            "type": "scatterpolargl"
           }
          ],
          "scatterternary": [
           {
            "marker": {
             "colorbar": {
              "outlinewidth": 0,
              "ticks": ""
             }
            },
            "type": "scatterternary"
           }
          ],
          "surface": [
           {
            "colorbar": {
             "outlinewidth": 0,
             "ticks": ""
            },
            "colorscale": [
             [
              0,
              "#0d0887"
             ],
             [
              0.1111111111111111,
              "#46039f"
             ],
             [
              0.2222222222222222,
              "#7201a8"
             ],
             [
              0.3333333333333333,
              "#9c179e"
             ],
             [
              0.4444444444444444,
              "#bd3786"
             ],
             [
              0.5555555555555556,
              "#d8576b"
             ],
             [
              0.6666666666666666,
              "#ed7953"
             ],
             [
              0.7777777777777778,
              "#fb9f3a"
             ],
             [
              0.8888888888888888,
              "#fdca26"
             ],
             [
              1,
              "#f0f921"
             ]
            ],
            "type": "surface"
           }
          ],
          "table": [
           {
            "cells": {
             "fill": {
              "color": "#EBF0F8"
             },
             "line": {
              "color": "white"
             }
            },
            "header": {
             "fill": {
              "color": "#C8D4E3"
             },
             "line": {
              "color": "white"
             }
            },
            "type": "table"
           }
          ]
         },
         "layout": {
          "annotationdefaults": {
           "arrowcolor": "#2a3f5f",
           "arrowhead": 0,
           "arrowwidth": 1
          },
          "autotypenumbers": "strict",
          "coloraxis": {
           "colorbar": {
            "outlinewidth": 0,
            "ticks": ""
           }
          },
          "colorscale": {
           "diverging": [
            [
             0,
             "#8e0152"
            ],
            [
             0.1,
             "#c51b7d"
            ],
            [
             0.2,
             "#de77ae"
            ],
            [
             0.3,
             "#f1b6da"
            ],
            [
             0.4,
             "#fde0ef"
            ],
            [
             0.5,
             "#f7f7f7"
            ],
            [
             0.6,
             "#e6f5d0"
            ],
            [
             0.7,
             "#b8e186"
            ],
            [
             0.8,
             "#7fbc41"
            ],
            [
             0.9,
             "#4d9221"
            ],
            [
             1,
             "#276419"
            ]
           ],
           "sequential": [
            [
             0,
             "#0d0887"
            ],
            [
             0.1111111111111111,
             "#46039f"
            ],
            [
             0.2222222222222222,
             "#7201a8"
            ],
            [
             0.3333333333333333,
             "#9c179e"
            ],
            [
             0.4444444444444444,
             "#bd3786"
            ],
            [
             0.5555555555555556,
             "#d8576b"
            ],
            [
             0.6666666666666666,
             "#ed7953"
            ],
            [
             0.7777777777777778,
             "#fb9f3a"
            ],
            [
             0.8888888888888888,
             "#fdca26"
            ],
            [
             1,
             "#f0f921"
            ]
           ],
           "sequentialminus": [
            [
             0,
             "#0d0887"
            ],
            [
             0.1111111111111111,
             "#46039f"
            ],
            [
             0.2222222222222222,
             "#7201a8"
            ],
            [
             0.3333333333333333,
             "#9c179e"
            ],
            [
             0.4444444444444444,
             "#bd3786"
            ],
            [
             0.5555555555555556,
             "#d8576b"
            ],
            [
             0.6666666666666666,
             "#ed7953"
            ],
            [
             0.7777777777777778,
             "#fb9f3a"
            ],
            [
             0.8888888888888888,
             "#fdca26"
            ],
            [
             1,
             "#f0f921"
            ]
           ]
          },
          "colorway": [
           "#636efa",
           "#EF553B",
           "#00cc96",
           "#ab63fa",
           "#FFA15A",
           "#19d3f3",
           "#FF6692",
           "#B6E880",
           "#FF97FF",
           "#FECB52"
          ],
          "font": {
           "color": "#2a3f5f"
          },
          "geo": {
           "bgcolor": "white",
           "lakecolor": "white",
           "landcolor": "#E5ECF6",
           "showlakes": true,
           "showland": true,
           "subunitcolor": "white"
          },
          "hoverlabel": {
           "align": "left"
          },
          "hovermode": "closest",
          "mapbox": {
           "style": "light"
          },
          "paper_bgcolor": "white",
          "plot_bgcolor": "#E5ECF6",
          "polar": {
           "angularaxis": {
            "gridcolor": "white",
            "linecolor": "white",
            "ticks": ""
           },
           "bgcolor": "#E5ECF6",
           "radialaxis": {
            "gridcolor": "white",
            "linecolor": "white",
            "ticks": ""
           }
          },
          "scene": {
           "xaxis": {
            "backgroundcolor": "#E5ECF6",
            "gridcolor": "white",
            "gridwidth": 2,
            "linecolor": "white",
            "showbackground": true,
            "ticks": "",
            "zerolinecolor": "white"
           },
           "yaxis": {
            "backgroundcolor": "#E5ECF6",
            "gridcolor": "white",
            "gridwidth": 2,
            "linecolor": "white",
            "showbackground": true,
            "ticks": "",
            "zerolinecolor": "white"
           },
           "zaxis": {
            "backgroundcolor": "#E5ECF6",
            "gridcolor": "white",
            "gridwidth": 2,
            "linecolor": "white",
            "showbackground": true,
            "ticks": "",
            "zerolinecolor": "white"
           }
          },
          "shapedefaults": {
           "line": {
            "color": "#2a3f5f"
           }
          },
          "ternary": {
           "aaxis": {
            "gridcolor": "white",
            "linecolor": "white",
            "ticks": ""
           },
           "baxis": {
            "gridcolor": "white",
            "linecolor": "white",
            "ticks": ""
           },
           "bgcolor": "#E5ECF6",
           "caxis": {
            "gridcolor": "white",
            "linecolor": "white",
            "ticks": ""
           }
          },
          "title": {
           "x": 0.05
          },
          "xaxis": {
           "automargin": true,
           "gridcolor": "white",
           "linecolor": "white",
           "ticks": "",
           "title": {
            "standoff": 15
           },
           "zerolinecolor": "white",
           "zerolinewidth": 2
          },
          "yaxis": {
           "automargin": true,
           "gridcolor": "white",
           "linecolor": "white",
           "ticks": "",
           "title": {
            "standoff": 15
           },
           "zerolinecolor": "white",
           "zerolinewidth": 2
          }
         }
        }
       }
      },
      "text/html": [
       "<div>                            <div id=\"a2e27524-3422-4470-928e-ac53cb2a1991\" class=\"plotly-graph-div\" style=\"height:525px; width:100%;\"></div>            <script type=\"text/javascript\">                require([\"plotly\"], function(Plotly) {                    window.PLOTLYENV=window.PLOTLYENV || {};                                    if (document.getElementById(\"a2e27524-3422-4470-928e-ac53cb2a1991\")) {                    Plotly.newPlot(                        \"a2e27524-3422-4470-928e-ac53cb2a1991\",                        [{\"mode\": \"markers\", \"text\": [0.0, 1.0, 2.0, 3.0, 4.0, 5.0, 6.0], \"type\": \"scatter\", \"x\": [4.058568682319327, 4.051357082614986, 4.054363960984802, 4.0490095122351315, 4.05267075955701, 4.056009231090174, 4.091533017475247, 4.056147462973754, 4.054618607082617, 4.051128954035097, 4.0573015312256695, 4.064420556401688, 4.055541996453829, 4.056761547804987, 4.0468150352203605, 4.058337478772446, 4.054068491469216, 4.050475943127436, 4.061678267997488, 4.0507563445121875, 4.057456330994709, 4.054553686016975, 4.056164719525912, 4.046090206669684, 4.05327871439976, 4.043669501043857, 4.05237467776008, 4.050215292725215, 4.058071927222689, 4.061678267997488, 4.064460138221996, 4.045401745731483, 4.0620144587927545, 4.047299990169603, 4.062452370891555], \"y\": [0.017647603979654213, 0.28153513542529524, 0.15008137729976953, 0.42284066512332275, 0.20587829521946807, 0.08520843409784516, -0.2935059109539937, 0.09995011290174201, 0.1513684738499632, 0.2805133115355183, 0.03428049559106548, -0.13725525887431264, 0.09005681414587433, 0.06719587389508756, 0.47878574971959637, 1.884793159149753e-05, 0.1452824837016102, 0.28536857263136567, -0.09845829258567407, 0.3395929588493069, 0.02876462146497705, 0.13495217940353887, 0.07411048374699396, 0.5052648575347951, 0.17911474790357934, 0.6306978999466359, 0.21928695354275804, 0.34151803664537406, 0.029431630330337286, -0.09845829258567407, -0.14953848940043973, 0.5398216368204326, -0.08834298691373989, 0.42585157904204696, -0.08734170933237968]}, {\"mode\": \"markers\", \"text\": [0.0, 1.0, 2.0, 3.0, 4.0, 5.0, 6.0], \"type\": \"scatter\", \"x\": [-1.9394695240834754, -1.9385396623910625, -1.937767657315005, -1.9354457560965188, -1.9363685205789043, -1.943705235542616, -1.939916382521767, -1.9400311540177921, -1.9385767151470286, -1.9405670169381006, -1.9353899759047637, -1.9368688683064779, -1.9423294904459447, -1.936483781368658, -1.9436175167216982, -1.9356353056244466, -1.935348045138292, -1.9484099745082781, -1.9364213000574808, -1.9387507772450894, -1.936605385067582, -1.935744230528719, -1.9390854552480186, -1.9431191247857602, -1.9368127055766364, -1.9376788607227335, -1.938887343226791, -1.9366218951871539, -1.939586551456927, -1.94329970783838, -1.9391278426492586, -1.9406084621524897, -1.9416118639144933, -1.9443377081926208, -1.9435723816603527, -1.9420829936314705, -1.9377063340749754, -1.9393832171809775, -1.93752300082588, -1.941380978295562, -1.9422610594465899, -1.9420472916498117, -1.9485442618102058, -1.9416710094916434, -1.9436956056604455, -1.940369059757724, -1.9369607841226815, -1.9501600469612848, -1.944771233575321, -1.944537412909813, -1.9360334866008146, -1.9390034739586461, -1.943590708985086, -1.9366111819516412, -1.9421202900314667, -1.9375576438828583, -1.9414269423872033, -1.949586897765915, -1.9395939562494275, -1.943609271291722, -1.9457849183888125, -1.9451103493340263, -1.9357357495994347, -1.9395955943162666, -1.9461660674593513, -1.9437142939255145, -1.946902269522363, -1.9384029582252724, -1.9437955581944244, -1.9360045582785654, -1.9385804097632275, -1.939901565796768, -1.94334422347407, -1.9485132316223441, -1.9366906275947526, -1.9354951335325663, -1.9370109457419304, -1.9356538465834792, -1.9502741816410094, -1.9365856358660511, -1.935744230528719, -1.9421806493039648, -1.9446344294680276, -1.940000658413191, -1.9366449851907177, -1.9375075848174055, -1.9377653732392168, -1.9427087315364917, -1.940761285683612, -1.9372244548462536, -1.935491563100166, -1.9388913279187672, -1.940145878330327, -1.9377011143623069, -1.9389520250458103, -1.9427125397449003, -1.9500744093090123, -1.9364008551167162, -1.944740460877308, -1.936559208910123, -1.9391062417597422, -1.937035032128327, -1.9432839726685707, -1.9439659054497305, -1.9362712330720835, -1.9359360535904173, -1.935600536942353, -1.949525997763348, -1.9381871406616795, -1.9400346033276146, -1.9395216461243874, -1.9403443225218548, -1.938651241075287, -1.9354593813836318, -1.9450762956374477, -1.9419072394329895, -1.937700047611081, -1.9441806567926752, -1.9401272376085, -1.9366475479815308, -1.9403471945084512, -1.9431967579871818, -1.9367479759480233, -1.9374031651735264, -1.937529161730496, -1.9360334866008146, -1.9402400273217717, -1.936092469169564, -1.9403061510657453, -1.935297671822163, -1.943631664326882, -1.9429572844540248, -1.9371222053944355, -1.9417637960289948, -1.9403295869767188, -1.9428866927543766, -1.9393832171809775, -1.9430491769300984, -1.9365438578250063, -1.939901565796768, -1.9493602181898944, -1.936061073619708, -1.9389174250771148, -1.938003783893605, -1.9463483811026694, -1.9466509151272888, -1.9509998990830328, -1.9379128911730268, -1.937007950060091, -1.9400346033276146, -1.9448254074481806, -1.9453680633803554, -1.9382538338195316, -1.9395665446951011, -1.9387151847881423, -1.9477157962378946, -1.9371193331945253, -1.9384257216192815, -1.9495771673525029, -1.9357405229445244, -1.9397263674678098, -1.9406282078071744, -1.9403563093391316, -1.9379553888240708, -1.9472352775862447, -1.9383613993878024, -1.9406298188102649, -1.9383613993878024, -1.9415454978276996, -1.9416281198218126, -1.9477131722474381, -1.9417856524741959, -1.936337745438336, -1.9390059995594258, -1.941433546432065, -1.9509471640455969, -1.9359169017206068, -1.939353751172397, -1.9442600024835577, -1.9401272376085, -1.9409627071872297, -1.939533616961023, -1.9392094400495752, -1.9353890004800873, -1.9426597297113428, -1.9407890314424072, -1.9388847594399359], \"y\": [-0.10272108328233279, -0.10079667178007835, -0.1399046414629877, -0.2127074421528704, -0.17398915213104257, 0.06913838142406196, -0.050333686706438514, -0.09282132260336558, -0.10389835344606203, -0.057290658224006315, -0.19785938758247404, -0.16806155685073457, -0.002312638535292632, -0.18597894012413851, 0.032511360673114616, -0.20515939596423968, -0.21978512474986991, 0.2142823767070792, -0.17181299259256202, -0.0990605615849546, -0.16337960158838358, -0.2094860060745579, -0.09651472952645501, -0.001447910920872227, -0.17317201040639404, -0.13418063772493274, -0.09258698084623608, -0.18180752327870078, -0.08043750079106227, 0.03393643416725866, -0.10229106936068942, -0.041125822091566004, 0.001825216103276785, 0.0650832480709222, 0.07334316325998823, -0.003814078681669088, -0.1454306304733853, -0.09575320770740291, -0.15587677893139826, -0.04480355072189206, 0.020978108203280842, 0.02837456582711897, 0.2113449061519027, 0.044223327692268895, 0.032203470551695076, -0.07246545840826801, -0.1697605874245421, 0.2660275472334522, 0.09631639090206037, 0.05023341463602392, -0.18976970920960592, -0.08732981822905299, 0.08340137580224911, -0.17721994566143262, 0.008160578312139946, -0.13492612069350635, -0.008056766521646948, 0.24879740999950528, -0.07485901299174182, 0.10451948818429317, 0.14723249331346253, 0.06817333063518928, -0.17782221418543023, -0.06735155226102588, 0.14051804135640378, 0.06569149231890814, 0.15067988584193548, -0.12946294746025858, 0.059869358414766094, -0.19308167570749032, -0.12616726040607412, -0.07735153480874972, 0.03028842282145139, 0.11771970823689817, -0.1795496706450414, -0.21063536938008265, -0.1418741026212874, -0.19720811527840365, 0.24350504723329194, -0.16693811225672742, -0.2094860060745579, 0.00933506688958871, 0.02204776743549702, -0.0692550191169256, -0.17822980855386192, -0.1685231500525863, -0.1367685168007118, 0.010972777963027504, -0.06122749143525605, -0.16565959968469057, -0.20369483839076838, -0.11413196401025384, -0.060660363858881156, -0.14931646927802217, -0.10403786849848348, 0.018443933554862273, 0.2080049270091093, -0.15228930461825593, 0.1129576367302512, -0.179144723006181, -0.11501701484176236, -0.17090335815421645, -0.014851285443088355, 0.039877151403732845, -0.18088098920179901, -0.1849831137781542, -0.20281050202449274, 0.20955935825452507, -0.12748066690917598, -0.07003597214288143, -0.0902949406816135, -0.08111022371855814, -0.10858006141009781, -0.19972739845463883, 0.04674821978315723, 0.009512792044887801, -0.1656633466036879, 0.022742489335629577, -0.07035087868447502, -0.19009214453176407, -0.046149436475357936, 0.009884827518722054, -0.17127014260221132, -0.16186580498891776, -0.15234277149903835, -0.18976970920960592, -0.04240145301943205, -0.19161217687974288, -0.033148752925004396, -0.20553825804347184, 0.08464495962378692, 0.0277405607225948, -0.16522393042786862, -0.054402438965081984, -0.061164002561638245, 0.022323326441954516, -0.09575320770740291, 0.033371352058657544, -0.1798082511054521, -0.07735153480874972, 0.2467779383269229, -0.1903965520183929, -0.0996629050434572, -0.13494285031106967, 0.28256547653588787, 0.12677615862911865, 0.2607820544165636, -0.12719096735598037, -0.15343894412523207, -0.07003597214288143, 0.08143772874266962, 0.16917906076773057, -0.12574207941978188, -0.063944123866299, -0.10339656993987964, 0.22508788041554254, -0.16334697617368926, -0.11505450090892914, 0.27068181206536795, -0.2035814086488456, -0.08244369633404902, -0.02620544332999181, -0.05621823907635293, -0.12371946507683061, 0.2184472111952842, -0.13009483179532091, -0.04733224281769693, -0.13009483179532091, 0.010044841416217679, 0.024860733372451194, 0.3020225607857377, 0.005666777002731288, -0.17735240892082602, -0.10808949001597147, -0.024965686450864735, 0.2790511547569868, -0.20491453997976541, -0.05602602552178418, 0.07675785008553183, -0.07035087868447502, 0.01797052894610125, -0.070591145478447, -0.11255041631856813, -0.2185415409283321, 0.0113408533982894, -0.028059945626042398, -0.09234839724268949]}, {\"mode\": \"markers\", \"text\": [0.0, 1.0, 2.0, 3.0, 4.0, 5.0, 6.0], \"type\": \"scatter\", \"x\": [1.0742152504630234, 1.0686286927055775, 1.07246666726798, 1.0747166435686557, 1.0740645018761248, 1.0690597748166322, 1.0689208860726669, 1.0653217388677012, 1.068317814287263, 1.0679724576302922, 1.0692200606262214, 1.0717254234653173, 1.0719497085783716, 1.071316997976977, 1.0698358044092764, 1.0678753316951988, 1.0742214552314207, 1.0743121057254252, 1.0737324725209194, 1.072030531163264, 1.0689190072923296, 1.069714776423141, 1.0741157854818695, 1.070581081109435, 1.0707005960884142, 1.0778302724683402, 1.0716868628093013, 1.0717960902634451, 1.093378848387672, 1.0707005960884142, 1.0683997249708548, 1.0696556758721807, 1.0745314244664372, 1.0724386344944643, 1.0705063363828293, 1.0747166435686557, 1.0684650680922687, 1.0707005960884142, 1.0674729786945227, 1.069301624313451, 1.0677634686987405, 1.0696356692352114, 1.0697371921241547, 1.0744569594766777, 1.0736100371091881, 1.0705687322373592, 1.0697406419204056, 1.0777544950723843, 1.072562542971785, 1.0697652248976717, 1.0660535362006907, 1.0660535362006907, 1.0745314244664372, 1.072022188941889, 1.0781982639617114, 1.0700398721585827, 1.0724666672679808, 1.0778302724683402, 1.0704876478671512, 1.0706880533136403, 1.0779695189722613, 1.0697406618479073, 1.071316997976977, 1.0722262883299964, 1.0708461276382801, 1.0742214552314207, 1.0695261749463376, 1.0684650680922687, 1.0715759740840867, 1.0681504808298687, 1.0777544950723843, 1.0745314244664372, 1.0747575989104514, 1.0745646560846518, 1.0697371921241547, 1.0778302724683402, 1.0742724756887974, 1.0706725633148972, 1.0678695757786376, 1.0724386344944643, 1.0745314244664372, 1.0745314244664372, 1.0704876478671512, 1.072030531163264, 1.0781982639617114, 1.0778302724683402, 1.0778383107254985, 1.0778302724683402, 1.0724666672679808, 1.0684650680922687, 1.0707008239039824, 1.0747295661369343, 1.0694775526274156], \"y\": [-0.30834345104020755, -0.25356240213962833, -0.30604528716887675, -0.32287650242565263, -0.3097866940641215, -0.2649266472597576, -0.26167755186122704, -0.28429048046221184, -0.257208093369325, -0.26253918326049547, -0.2714035671256292, -0.2957055827840367, -0.2729140892002626, -0.27827140490875535, -0.28060867901143527, -0.25119115907044587, -0.31344766152500564, -0.3116179424661679, -0.30067397884651387, -0.2952129991293429, -0.2657465113897725, -0.2796991014988838, -0.3059393816816664, -0.28623569055893405, -0.2929068162062492, -0.33375422707650126, -0.29551439581619476, -0.2791196183283191, -0.34931645413470075, -0.2929068162062492, -0.2596952610124006, -0.2569748042372736, -0.318759637466434, -0.3045245868639935, -0.2852744263828016, -0.32287650242565263, -0.2706269058775059, -0.2929068162062492, -0.26384210561483823, -0.27713127666083504, -0.2495578089500435, -0.2746091161240261, -0.2611658815824371, -0.3100347071045525, -0.30216996318223643, -0.28531098606551936, -0.27847517505771996, -0.33609532793718666, -0.30780819223760836, -0.26268658188732036, -0.30580519852969956, -0.30580519852969956, -0.318759637466434, -0.2956382841719002, -0.3431458547617901, -0.2694888450736978, -0.3060452871688767, -0.33375422707650126, -0.284260626179546, -0.28761517608448195, -0.33926263171671794, -0.27780549533388604, -0.27827140490875535, -0.29903470681878286, -0.29145745496102876, -0.31344766152500564, -0.27520992260103383, -0.2706269058775059, -0.28030918132556115, -0.2675096127224435, -0.33609532793718666, -0.318759637466434, -0.3241200862471904, -0.31487661568592723, -0.2611658815824371, -0.33375422707650126, -0.3142278123027395, -0.2913861159013661, -0.2535468802835962, -0.3045245868639935, -0.318759637466434, -0.318759637466434, -0.284260626179546, -0.2952129991293429, -0.3431458547617901, -0.33375422707650126, -0.33595716529466196, -0.33375422707650126, -0.3060452871688767, -0.2706269058775059, -0.28678214910595384, -0.3225993859423072, -0.2708555098634078]}, {\"mode\": \"markers\", \"text\": [0.0, 1.0, 2.0, 3.0, 4.0, 5.0, 6.0], \"type\": \"scatter\", \"x\": [3.0131322592246326, -0.007408383781420211, 2.9870904952993214, -0.004910418809670311], \"y\": [2.7573957215229967, 3.243822150319389, 3.6831393105786687, 3.7010865668527066]}, {\"mode\": \"markers\", \"text\": [0.0, 1.0, 2.0, 3.0, 4.0, 5.0, 6.0], \"type\": \"scatter\", \"x\": [1.0651221949379495, 1.0677912247962025, 1.0645845638711822, 1.0658368822244084, 1.066573057658383, 1.068125763222794, 1.0668025843737043, 1.0662671638354722, 1.0677912247961987, 1.066470540961976, 1.0660782122213308, 1.064555793872864, 1.0629812133024816, 1.0631610355550498, 1.062943061140741, 1.0643708711904991, 1.0640357187720646, 1.0644432099290941, 1.0653724672309552, 1.065144105116875, 1.0663197678315302, 1.0647308997825413, 1.0662035535277699, 1.066093891482717, 1.063142716818183, 1.066470540961976, 1.0637568679075446, 1.0640026434158543, 1.064622685109484, 1.0671799589092088, 1.0646823274854695, 1.0639261900317427, 1.067025220631374, 1.0629015418661854, 1.0629082312754405, 1.065836882224409, 1.063657318837549, 1.0656501081285166, 1.0627927019174706, 1.067025220631374, 1.0653296946811768, 1.0650228035332974, 1.0647325869610353, 1.0635821742676768, 1.0652496350355587, 1.065836882224409, 1.0649638558989432, 1.0625495695718634, 1.0654849352173772, 1.0624278060679875, 1.067025220631374, 1.067302783002482, 1.0639480732249273, 1.0653337672578378, 1.0647201227688614, 1.0672020219517417, 1.06738678500974, 1.0631610355550498, 1.0629670974074283, 1.0651174798464293, 1.065836882224409, 1.0631610355550498, 1.0652795879904247, 1.0679066171658056, 1.0648724124168119, 1.0665322499221048, 1.0643970858083942, 1.0662474701558735, 1.0652496350355587, 1.0630083402306036, 1.065706624789454, 1.065836882224409, 1.0639543653275572, 1.0662281226468273, 1.063657318837549, 1.0659171567844592, 1.065836882224409, 1.063146287014813, 1.0681257632227947, 1.0633781459246345, 1.0643194744391264, 1.0628902835375995, 1.0656841612489691, 1.063545563432449, 1.0624525271894876, 1.0623622483525366, 1.0661250018865127, 1.064622685109484, 1.065131032961079, 1.066293956941923, 1.0648972559152388, 1.067302783002482, 1.0658159323233685, 1.0632654868975584, 1.0646137630652888, 1.0615681207375303, 1.0636807978836693, 1.0640939171783725, 1.063155401769951, 1.062490085719061, 1.063657318837549, 1.0661482085112792, 1.066539916977449, 1.064816347318347, 1.0643857582418454, 1.0626546775508887, 1.0641791066314157, 1.064622685109484, 1.0626333635627327, 1.0628883297342808, 1.065444276670574, 1.0657186559924667, 1.0635031893202227, 1.0643970858083942, 1.065836882224409, 1.0633947556309828, 1.0633173417389088, 1.0634106924171025, 1.0658488467249303, 1.0668025843737048, 1.0629015418661851, 1.0638295658089256, 1.0639229841263318, 1.0652728023550229], \"y\": [-0.20676053376856143, -0.2483156438322057, -0.20665790409919116, -0.22318917318454398, -0.22714867782324122, -0.24836823132286096, -0.23740610440578636, -0.22240416073949965, -0.2483156438322058, -0.2331687275166278, -0.23822707950509048, -0.1843775647589656, -0.16712096077228455, -0.17339268703439562, -0.16343010532416713, -0.19776605176833204, -0.18006626231972844, -0.2005759697082, -0.2124528785481312, -0.2079393387429922, -0.2377461718841462, -0.20571928005209456, -0.24333663208064574, -0.2310362471139544, -0.15786737808954338, -0.2331687275166278, -0.18640691542775034, -0.19409770288010272, -0.21596773304037664, -0.245879841543289, -0.2161443498991354, -0.18575792283580658, -0.24701488800485463, -0.15525452579414298, -0.15470087468822222, -0.22318917318454398, -0.1884622248698246, -0.22848184720151793, -0.15083166650611818, -0.24701488800485463, -0.20471856841309233, -0.19456407293658248, -0.21410217231573328, -0.18248186903800928, -0.202323491213299, -0.22318917318454398, -0.2156384088196605, -0.15447569981578474, -0.22425018024467347, -0.15524319425711927, -0.24701488800485463, -0.24417752158206552, -0.19225917442667204, -0.21685533571156934, -0.20181486264699935, -0.23826699637086374, -0.24688376905312212, -0.17339268703439562, -0.1573848122977394, -0.21226768679938587, -0.22318917318454398, -0.17339268703439562, -0.21541225721600976, -0.2460392703094343, -0.21447744107889297, -0.21045526152935565, -0.195558041957846, -0.23763193479141684, -0.202323491213299, -0.17025884691062296, -0.22705387769274699, -0.22318917318454398, -0.19217505625997677, -0.22422963927778677, -0.1884622248698246, -0.21910903661309641, -0.22318917318454398, -0.15650874388200858, -0.24836823132286093, -0.16736649819524552, -0.20233679244480712, -0.1630395068791646, -0.22894685943227727, -0.18114356717772553, -0.14201371839708157, -0.15298667279158362, -0.2312390598868237, -0.21596773304037664, -0.20465948432510936, -0.22699636407967458, -0.20625741733088165, -0.24417752158206552, -0.2123716167592423, -0.17450642116773477, -0.19128854071867635, -0.12958491015023849, -0.1815588395536843, -0.183474026735995, -0.17336529198049608, -0.16043786474269947, -0.1884622248698246, -0.22679173174906583, -0.2352845344258037, -0.19630048379636011, -0.19469455856445433, -0.1514674242379467, -0.18550317955480297, -0.21596773304037664, -0.15695624171221642, -0.16755325472300556, -0.21669319703700898, -0.21569923168946661, -0.1765941196003164, -0.195558041957846, -0.22318917318454398, -0.16517230270187067, -0.1738102088315312, -0.17178437525184295, -0.22257869482706472, -0.23740610440578633, -0.1552545257941431, -0.18543220222580195, -0.17563153569425435, -0.18858905617012525]}, {\"mode\": \"markers\", \"text\": [0.0, 1.0, 2.0, 3.0, 4.0, 5.0, 6.0], \"type\": \"scatter\", \"x\": [2.035037779975229, 2.0302458617239036, 2.0362974277490355, 2.0371117359735464, 2.032912227437116, 2.0425605862823297, 2.0355904790835035, 2.0422699442816588, 2.036684293930898, 2.0379492643821124, 2.0383437380219354, 2.040868204201552], \"y\": [1.161007108086477, 1.2288817825001839, 0.9545869243375859, 1.1325810349546694, 1.2030193783896292, 0.7193980868162475, 1.2742659976556423, 0.8720075443035122, 1.4594356343021164, 1.1421628474494685, 0.8768694989460367, 0.9238874335009116]}, {\"mode\": \"markers\", \"text\": [0.0, 1.0, 2.0, 3.0, 4.0, 5.0, 6.0], \"type\": \"scatter\", \"x\": [-0.9588192966546063, -0.9534473493691145, -0.9520460950255699, -0.9794275204582925, -0.9522207465511024, -0.9674538922371821, -0.9592159996525702, -0.9696409516863972, -0.962304319106375, -0.9712259861668656, -0.9504869542729852, -0.9652564728749348, -0.9520460950255699, -0.9561834346864815, -0.9582755807924821, -0.9530843139472309, -0.974809943605617, -0.9661051122241814, -0.9619906457919025, -0.9568858512920689, -0.953682431394775, -0.960767309956734, -0.9636784516504188, -0.9557971243688788, -0.9627486757629287, -0.9512521640961069, -0.9515534858418079, -0.9849684277381475, -0.9582181028536522, -0.9631373845982293, -0.9512970257661771, -0.9528911227988481, -0.9522849780486383, -0.9648752892581987, -0.9598952387825933, -0.9537811159658767, -0.9507072766814724, -0.9566831970801163, -0.9510806327070479, -0.9677741794243462, -0.9675291224680759, -0.9504869542729852, -0.9576737063072965], \"y\": [0.5936451170267325, 0.4104426268292803, 0.40270079805919506, 1.234853328764045, 0.3699823401519669, 0.8406105035825004, 0.6120358316593655, 1.0356082043228934, 1.0190100632609653, 1.3544046164500259, 0.3759895847896579, 0.8481571508867711, 0.40270079805919506, 0.6271572164042601, 0.5842801129998376, 0.45761604776920345, 1.1748421615010303, 1.057570757057282, 0.7793527216332334, 0.6260502536151105, 0.5829380216830534, 0.7099821740121718, 0.7681773688067595, 0.5601300646466623, 0.6659268738144453, 0.36827151099978056, 0.3387668483139524, 1.7062933452061602, 0.6560844594925481, 1.0656583587913064, 0.3475590829323769, 0.41344164408343953, 0.5106565293617094, 0.9113713406499279, 0.6974040397511331, 0.4863703401634038, 0.458003372730365, 0.660669015308354, 0.38870193724535007, 1.0739279211173665, 1.1099994227495995, 0.3759895847896579, 0.6414540624553995]}],                        {\"template\": {\"data\": {\"bar\": [{\"error_x\": {\"color\": \"#2a3f5f\"}, \"error_y\": {\"color\": \"#2a3f5f\"}, \"marker\": {\"line\": {\"color\": \"#E5ECF6\", \"width\": 0.5}}, \"type\": \"bar\"}], \"barpolar\": [{\"marker\": {\"line\": {\"color\": \"#E5ECF6\", \"width\": 0.5}}, \"type\": \"barpolar\"}], \"carpet\": [{\"aaxis\": {\"endlinecolor\": \"#2a3f5f\", \"gridcolor\": \"white\", \"linecolor\": \"white\", \"minorgridcolor\": \"white\", \"startlinecolor\": \"#2a3f5f\"}, \"baxis\": {\"endlinecolor\": \"#2a3f5f\", \"gridcolor\": \"white\", \"linecolor\": \"white\", \"minorgridcolor\": \"white\", \"startlinecolor\": \"#2a3f5f\"}, \"type\": \"carpet\"}], \"choropleth\": [{\"colorbar\": {\"outlinewidth\": 0, \"ticks\": \"\"}, \"type\": \"choropleth\"}], \"contour\": [{\"colorbar\": {\"outlinewidth\": 0, \"ticks\": \"\"}, \"colorscale\": [[0.0, \"#0d0887\"], [0.1111111111111111, \"#46039f\"], [0.2222222222222222, \"#7201a8\"], [0.3333333333333333, \"#9c179e\"], [0.4444444444444444, \"#bd3786\"], [0.5555555555555556, \"#d8576b\"], [0.6666666666666666, \"#ed7953\"], [0.7777777777777778, \"#fb9f3a\"], [0.8888888888888888, \"#fdca26\"], [1.0, \"#f0f921\"]], \"type\": \"contour\"}], \"contourcarpet\": [{\"colorbar\": {\"outlinewidth\": 0, \"ticks\": \"\"}, \"type\": \"contourcarpet\"}], \"heatmap\": [{\"colorbar\": {\"outlinewidth\": 0, \"ticks\": \"\"}, \"colorscale\": [[0.0, \"#0d0887\"], [0.1111111111111111, \"#46039f\"], [0.2222222222222222, \"#7201a8\"], [0.3333333333333333, \"#9c179e\"], [0.4444444444444444, \"#bd3786\"], [0.5555555555555556, \"#d8576b\"], [0.6666666666666666, \"#ed7953\"], [0.7777777777777778, \"#fb9f3a\"], [0.8888888888888888, \"#fdca26\"], [1.0, \"#f0f921\"]], \"type\": \"heatmap\"}], \"heatmapgl\": [{\"colorbar\": {\"outlinewidth\": 0, \"ticks\": \"\"}, \"colorscale\": [[0.0, \"#0d0887\"], [0.1111111111111111, \"#46039f\"], [0.2222222222222222, \"#7201a8\"], [0.3333333333333333, \"#9c179e\"], [0.4444444444444444, \"#bd3786\"], [0.5555555555555556, \"#d8576b\"], [0.6666666666666666, \"#ed7953\"], [0.7777777777777778, \"#fb9f3a\"], [0.8888888888888888, \"#fdca26\"], [1.0, \"#f0f921\"]], \"type\": \"heatmapgl\"}], \"histogram\": [{\"marker\": {\"colorbar\": {\"outlinewidth\": 0, \"ticks\": \"\"}}, \"type\": \"histogram\"}], \"histogram2d\": [{\"colorbar\": {\"outlinewidth\": 0, \"ticks\": \"\"}, \"colorscale\": [[0.0, \"#0d0887\"], [0.1111111111111111, \"#46039f\"], [0.2222222222222222, \"#7201a8\"], [0.3333333333333333, \"#9c179e\"], [0.4444444444444444, \"#bd3786\"], [0.5555555555555556, \"#d8576b\"], [0.6666666666666666, \"#ed7953\"], [0.7777777777777778, \"#fb9f3a\"], [0.8888888888888888, \"#fdca26\"], [1.0, \"#f0f921\"]], \"type\": \"histogram2d\"}], \"histogram2dcontour\": [{\"colorbar\": {\"outlinewidth\": 0, \"ticks\": \"\"}, \"colorscale\": [[0.0, \"#0d0887\"], [0.1111111111111111, \"#46039f\"], [0.2222222222222222, \"#7201a8\"], [0.3333333333333333, \"#9c179e\"], [0.4444444444444444, \"#bd3786\"], [0.5555555555555556, \"#d8576b\"], [0.6666666666666666, \"#ed7953\"], [0.7777777777777778, \"#fb9f3a\"], [0.8888888888888888, \"#fdca26\"], [1.0, \"#f0f921\"]], \"type\": \"histogram2dcontour\"}], \"mesh3d\": [{\"colorbar\": {\"outlinewidth\": 0, \"ticks\": \"\"}, \"type\": \"mesh3d\"}], \"parcoords\": [{\"line\": {\"colorbar\": {\"outlinewidth\": 0, \"ticks\": \"\"}}, \"type\": \"parcoords\"}], \"pie\": [{\"automargin\": true, \"type\": \"pie\"}], \"scatter\": [{\"marker\": {\"colorbar\": {\"outlinewidth\": 0, \"ticks\": \"\"}}, \"type\": \"scatter\"}], \"scatter3d\": [{\"line\": {\"colorbar\": {\"outlinewidth\": 0, \"ticks\": \"\"}}, \"marker\": {\"colorbar\": {\"outlinewidth\": 0, \"ticks\": \"\"}}, \"type\": \"scatter3d\"}], \"scattercarpet\": [{\"marker\": {\"colorbar\": {\"outlinewidth\": 0, \"ticks\": \"\"}}, \"type\": \"scattercarpet\"}], \"scattergeo\": [{\"marker\": {\"colorbar\": {\"outlinewidth\": 0, \"ticks\": \"\"}}, \"type\": \"scattergeo\"}], \"scattergl\": [{\"marker\": {\"colorbar\": {\"outlinewidth\": 0, \"ticks\": \"\"}}, \"type\": \"scattergl\"}], \"scattermapbox\": [{\"marker\": {\"colorbar\": {\"outlinewidth\": 0, \"ticks\": \"\"}}, \"type\": \"scattermapbox\"}], \"scatterpolar\": [{\"marker\": {\"colorbar\": {\"outlinewidth\": 0, \"ticks\": \"\"}}, \"type\": \"scatterpolar\"}], \"scatterpolargl\": [{\"marker\": {\"colorbar\": {\"outlinewidth\": 0, \"ticks\": \"\"}}, \"type\": \"scatterpolargl\"}], \"scatterternary\": [{\"marker\": {\"colorbar\": {\"outlinewidth\": 0, \"ticks\": \"\"}}, \"type\": \"scatterternary\"}], \"surface\": [{\"colorbar\": {\"outlinewidth\": 0, \"ticks\": \"\"}, \"colorscale\": [[0.0, \"#0d0887\"], [0.1111111111111111, \"#46039f\"], [0.2222222222222222, \"#7201a8\"], [0.3333333333333333, \"#9c179e\"], [0.4444444444444444, \"#bd3786\"], [0.5555555555555556, \"#d8576b\"], [0.6666666666666666, \"#ed7953\"], [0.7777777777777778, \"#fb9f3a\"], [0.8888888888888888, \"#fdca26\"], [1.0, \"#f0f921\"]], \"type\": \"surface\"}], \"table\": [{\"cells\": {\"fill\": {\"color\": \"#EBF0F8\"}, \"line\": {\"color\": \"white\"}}, \"header\": {\"fill\": {\"color\": \"#C8D4E3\"}, \"line\": {\"color\": \"white\"}}, \"type\": \"table\"}]}, \"layout\": {\"annotationdefaults\": {\"arrowcolor\": \"#2a3f5f\", \"arrowhead\": 0, \"arrowwidth\": 1}, \"autotypenumbers\": \"strict\", \"coloraxis\": {\"colorbar\": {\"outlinewidth\": 0, \"ticks\": \"\"}}, \"colorscale\": {\"diverging\": [[0, \"#8e0152\"], [0.1, \"#c51b7d\"], [0.2, \"#de77ae\"], [0.3, \"#f1b6da\"], [0.4, \"#fde0ef\"], [0.5, \"#f7f7f7\"], [0.6, \"#e6f5d0\"], [0.7, \"#b8e186\"], [0.8, \"#7fbc41\"], [0.9, \"#4d9221\"], [1, \"#276419\"]], \"sequential\": [[0.0, \"#0d0887\"], [0.1111111111111111, \"#46039f\"], [0.2222222222222222, \"#7201a8\"], [0.3333333333333333, \"#9c179e\"], [0.4444444444444444, \"#bd3786\"], [0.5555555555555556, \"#d8576b\"], [0.6666666666666666, \"#ed7953\"], [0.7777777777777778, \"#fb9f3a\"], [0.8888888888888888, \"#fdca26\"], [1.0, \"#f0f921\"]], \"sequentialminus\": [[0.0, \"#0d0887\"], [0.1111111111111111, \"#46039f\"], [0.2222222222222222, \"#7201a8\"], [0.3333333333333333, \"#9c179e\"], [0.4444444444444444, \"#bd3786\"], [0.5555555555555556, \"#d8576b\"], [0.6666666666666666, \"#ed7953\"], [0.7777777777777778, \"#fb9f3a\"], [0.8888888888888888, \"#fdca26\"], [1.0, \"#f0f921\"]]}, \"colorway\": [\"#636efa\", \"#EF553B\", \"#00cc96\", \"#ab63fa\", \"#FFA15A\", \"#19d3f3\", \"#FF6692\", \"#B6E880\", \"#FF97FF\", \"#FECB52\"], \"font\": {\"color\": \"#2a3f5f\"}, \"geo\": {\"bgcolor\": \"white\", \"lakecolor\": \"white\", \"landcolor\": \"#E5ECF6\", \"showlakes\": true, \"showland\": true, \"subunitcolor\": \"white\"}, \"hoverlabel\": {\"align\": \"left\"}, \"hovermode\": \"closest\", \"mapbox\": {\"style\": \"light\"}, \"paper_bgcolor\": \"white\", \"plot_bgcolor\": \"#E5ECF6\", \"polar\": {\"angularaxis\": {\"gridcolor\": \"white\", \"linecolor\": \"white\", \"ticks\": \"\"}, \"bgcolor\": \"#E5ECF6\", \"radialaxis\": {\"gridcolor\": \"white\", \"linecolor\": \"white\", \"ticks\": \"\"}}, \"scene\": {\"xaxis\": {\"backgroundcolor\": \"#E5ECF6\", \"gridcolor\": \"white\", \"gridwidth\": 2, \"linecolor\": \"white\", \"showbackground\": true, \"ticks\": \"\", \"zerolinecolor\": \"white\"}, \"yaxis\": {\"backgroundcolor\": \"#E5ECF6\", \"gridcolor\": \"white\", \"gridwidth\": 2, \"linecolor\": \"white\", \"showbackground\": true, \"ticks\": \"\", \"zerolinecolor\": \"white\"}, \"zaxis\": {\"backgroundcolor\": \"#E5ECF6\", \"gridcolor\": \"white\", \"gridwidth\": 2, \"linecolor\": \"white\", \"showbackground\": true, \"ticks\": \"\", \"zerolinecolor\": \"white\"}}, \"shapedefaults\": {\"line\": {\"color\": \"#2a3f5f\"}}, \"ternary\": {\"aaxis\": {\"gridcolor\": \"white\", \"linecolor\": \"white\", \"ticks\": \"\"}, \"baxis\": {\"gridcolor\": \"white\", \"linecolor\": \"white\", \"ticks\": \"\"}, \"bgcolor\": \"#E5ECF6\", \"caxis\": {\"gridcolor\": \"white\", \"linecolor\": \"white\", \"ticks\": \"\"}}, \"title\": {\"x\": 0.05}, \"xaxis\": {\"automargin\": true, \"gridcolor\": \"white\", \"linecolor\": \"white\", \"ticks\": \"\", \"title\": {\"standoff\": 15}, \"zerolinecolor\": \"white\", \"zerolinewidth\": 2}, \"yaxis\": {\"automargin\": true, \"gridcolor\": \"white\", \"linecolor\": \"white\", \"ticks\": \"\", \"title\": {\"standoff\": 15}, \"zerolinecolor\": \"white\", \"zerolinewidth\": 2}}}},                        {\"responsive\": true}                    ).then(function(){\n",
       "                            \n",
       "var gd = document.getElementById('a2e27524-3422-4470-928e-ac53cb2a1991');\n",
       "var x = new MutationObserver(function (mutations, observer) {{\n",
       "        var display = window.getComputedStyle(gd).display;\n",
       "        if (!display || display === 'none') {{\n",
       "            console.log([gd, 'removed!']);\n",
       "            Plotly.purge(gd);\n",
       "            observer.disconnect();\n",
       "        }}\n",
       "}});\n",
       "\n",
       "// Listen for the removal of the full notebook cells\n",
       "var notebookContainer = gd.closest('#notebook-container');\n",
       "if (notebookContainer) {{\n",
       "    x.observe(notebookContainer, {childList: true});\n",
       "}}\n",
       "\n",
       "// Listen for the clearing of the current output cell\n",
       "var outputEl = gd.closest('.output');\n",
       "if (outputEl) {{\n",
       "    x.observe(outputEl, {childList: true});\n",
       "}}\n",
       "\n",
       "                        })                };                });            </script>        </div>"
      ]
     },
     "metadata": {},
     "output_type": "display_data"
    }
   ],
   "source": [
    "args = {\n",
    "    \"n_clusters\": 7,\n",
    "    \"init\": \"random\",\n",
    "    \"n_init\": 10,\n",
    "    \"max_iter\": 300,\n",
    "    \"random_state\": 42,\n",
    "}\n",
    "\n",
    "\n",
    "reduced = reduce_dimensions(df_final, 2)\n",
    "plot_clusters(reduced, KMeans(**args))"
   ]
  },
  {
   "cell_type": "code",
   "execution_count": 105,
   "metadata": {
    "scrolled": true
   },
   "outputs": [
    {
     "name": "stdout",
     "output_type": "stream",
     "text": [
      "Running fold 0\n",
      "Acurácia: 95.0%\n",
      "\n",
      "\n",
      "Running fold 1\n",
      "Acurácia: 82.0%\n",
      "\n",
      "\n",
      "Running fold 2\n",
      "Acurácia: 90.0%\n",
      "\n",
      "\n",
      "Running fold 3\n",
      "Acurácia: 85.86%\n",
      "\n",
      "\n",
      "Running fold 4\n",
      "Acurácia: 76.77%\n",
      "\n",
      "\n"
     ]
    }
   ],
   "source": [
    "kf = KFold(n_splits=5)\n",
    "\n",
    "results = []\n",
    "i = 0\n",
    "for train, test in kf.split(df_final):\n",
    "    result = {}\n",
    "    print(\"Running fold {}\".format(i))\n",
    "    result[\"fold\"] = i\n",
    "    training_set = df_final.iloc[train]\n",
    "    gnb = nb_fit(training_set)\n",
    "\n",
    "    test_set = df_final.iloc[test]\n",
    "    \n",
    "    real_labels = test_set['metaclass']\n",
    "    result[\"real_labels\"] = real_labels\n",
    "    \n",
    "    predicted_classes = nb_predict(gnb, test_set)\n",
    "    result[\"predicted_classes\"] = predicted_classes\n",
    "    \n",
    "    test_set = test_set.drop(columns=['metaclass'])\n",
    "    acc = nb_score(gnb, test_set, real_labels)\n",
    "    results.append(result)\n",
    "    print(\"Acurácia: {}%\".format(round(acc*100, 2)))\n",
    "    print('\\n')\n",
    "    i+=1"
   ]
  },
  {
   "cell_type": "code",
   "execution_count": 106,
   "metadata": {},
   "outputs": [
    {
     "name": "stdout",
     "output_type": "stream",
     "text": [
      "Acertos por cluster\n",
      "\n",
      "\n",
      "Avaliando fold 0\n",
      "Acurácia: 95.0%\n",
      "\n",
      "\n",
      "Avaliando fold 1\n",
      "Acurácia: 82.0%\n",
      "\n",
      "\n",
      "Avaliando fold 2\n",
      "Acurácia: 90.0%\n",
      "\n",
      "\n",
      "Avaliando fold 3\n",
      "Acurácia: 85.86%\n",
      "\n",
      "\n",
      "Avaliando fold 4\n",
      "Acurácia: 76.77%\n",
      "\n",
      "\n"
     ]
    }
   ],
   "source": [
    "### Verificar acertos por cluster\n",
    "print(\"Acertos por cluster\")\n",
    "print('\\n')\n",
    "cluster_hits = 0\n",
    "for result in results:\n",
    "    print('Avaliando fold {}'.format(result[\"fold\"]))\n",
    "    \n",
    "    predicted_classes = result[\"predicted_classes\"]\n",
    "    real_labels = result[\"real_labels\"]\n",
    "    \n",
    "    for i, j in zip(predicted_classes, real_labels):\n",
    "        if i == j:\n",
    "            cluster_hits += 1\n",
    "    \n",
    "    acc = cluster_hits/len(predicted_classes)\n",
    "    print(\"Acurácia: {}%\".format(round(acc*100, 2)))\n",
    "    print('\\n')\n",
    "    acc = 0\n",
    "    cluster_hits = 0"
   ]
  },
  {
   "cell_type": "code",
   "execution_count": 107,
   "metadata": {},
   "outputs": [
    {
     "name": "stdout",
     "output_type": "stream",
     "text": [
      "Acertos por label\n",
      "\n",
      "\n",
      "Avaliando fold 0\n",
      "Acurácia: 96.0%\n",
      "\n",
      "\n",
      "Avaliando fold 1\n",
      "Acurácia: 84.0%\n",
      "\n",
      "\n",
      "Avaliando fold 2\n",
      "Acurácia: 92.0%\n",
      "\n",
      "\n",
      "Avaliando fold 3\n",
      "Acurácia: 90.91%\n",
      "\n",
      "\n",
      "Avaliando fold 4\n",
      "Acurácia: 87.88%\n",
      "\n",
      "\n"
     ]
    }
   ],
   "source": [
    "### Verificar acertos por label\n",
    "print(\"Acertos por label\")\n",
    "print('\\n')\n",
    "label_hits = 0\n",
    "label_false = set([0,1,2,3])\n",
    "label_true = set([4,5,6])\n",
    "\n",
    "for result in results:\n",
    "    print('Avaliando fold {}'.format(result[\"fold\"]))\n",
    "    \n",
    "    predicted_classes = result[\"predicted_classes\"]\n",
    "    real_labels = result[\"real_labels\"]\n",
    "    \n",
    "    for i, j in zip(predicted_classes, real_labels):\n",
    "        if i == j:\n",
    "            label_hits += 1\n",
    "        elif ((i in label_false and j in label_false) or (i in label_true and j in label_true)):\n",
    "            label_hits += 1\n",
    "    \n",
    "    acc = label_hits/len(predicted_classes)\n",
    "    print(\"Acurácia: {}%\".format(round(acc*100, 2)))\n",
    "    print('\\n')\n",
    "    acc = 0\n",
    "    label_hits = 0"
   ]
  },
  {
   "cell_type": "markdown",
   "metadata": {},
   "source": [
    "-------------------------------------------"
   ]
  },
  {
   "cell_type": "markdown",
   "metadata": {},
   "source": [
    "## Naïve Bayes"
   ]
  },
  {
   "cell_type": "code",
   "execution_count": 108,
   "metadata": {},
   "outputs": [],
   "source": [
    "data = arff.loadarff('./datasets/CM1.arff')\n",
    "df = pd.DataFrame(data[0])"
   ]
  },
  {
   "cell_type": "code",
   "execution_count": 109,
   "metadata": {},
   "outputs": [
    {
     "name": "stderr",
     "output_type": "stream",
     "text": [
      "<ipython-input-109-ed92112f7322>:5: FutureWarning:\n",
      "\n",
      "The default value of regex will change from True to False in a future version.\n",
      "\n"
     ]
    }
   ],
   "source": [
    "defects = df['defects']# = df['defects'].apply(lambda x: 0 if x == \"b'false'\" else 1)\n",
    "df = df.drop(columns='defects')\n",
    "df = normalize_data(df)\n",
    "df['defects'] = defects\n",
    "df['defects'] = df['defects'].apply(str).str.replace(\"b|'\", '')\n",
    "df['defects'] = df['defects'].apply(lambda x: 1 if x == 'true' else 0)\n",
    "df = randomize_dataframe(df)"
   ]
  },
  {
   "cell_type": "code",
   "execution_count": 110,
   "metadata": {
    "scrolled": true
   },
   "outputs": [
    {
     "name": "stdout",
     "output_type": "stream",
     "text": [
      "Running fold 0\n",
      "Acurácia: 87.0%\n",
      "\n",
      "\n",
      "Running fold 1\n",
      "Acurácia: 89.0%\n",
      "\n",
      "\n",
      "Running fold 2\n",
      "Acurácia: 68.0%\n",
      "\n",
      "\n",
      "Running fold 3\n",
      "Acurácia: 87.88%\n",
      "\n",
      "\n",
      "Running fold 4\n",
      "Acurácia: 79.8%\n",
      "\n",
      "\n"
     ]
    }
   ],
   "source": [
    "kf = KFold(n_splits=5)\n",
    "\n",
    "results = []\n",
    "i = 0\n",
    "for train, test in kf.split(df):\n",
    "    result = {}\n",
    "    print(\"Running fold {}\".format(i))\n",
    "    \n",
    "    result[\"fold\"] = i\n",
    "    \n",
    "    training_set = df.iloc[train]\n",
    "    target_values = training_set['defects']\n",
    "    training_set = training_set.drop(columns=['defects'])\n",
    "    \n",
    "    gnb = GaussianNB()\n",
    "    gnb.fit(training_set, target_values)\n",
    "\n",
    "    test_set = df.iloc[test]\n",
    "    real_labels = test_set['defects']\n",
    "    result[\"real_labels\"] = real_labels\n",
    "    \n",
    "    test_set = test_set.drop(columns=['defects'])\n",
    "    predicted_classes = gnb.predict(test_set)\n",
    "    result[\"predicted_classes\"] = predicted_classes\n",
    "    \n",
    "\n",
    "    acc = gnb.score(test_set, real_labels)\n",
    "    results.append(result)\n",
    "    print(\"Acurácia: {}%\".format(round(acc*100, 2)))\n",
    "    print('\\n')\n",
    "    i+=1"
   ]
  },
  {
   "cell_type": "markdown",
   "metadata": {},
   "source": [
    "## 1NN"
   ]
  },
  {
   "cell_type": "code",
   "execution_count": 111,
   "metadata": {},
   "outputs": [
    {
     "name": "stdout",
     "output_type": "stream",
     "text": [
      "Running fold 0\n",
      "Acurácia: 84.0%\n",
      "\n",
      "\n",
      "Running fold 1\n",
      "Acurácia: 90.0%\n",
      "\n",
      "\n",
      "Running fold 2\n",
      "Acurácia: 82.0%\n",
      "\n",
      "\n",
      "Running fold 3\n",
      "Acurácia: 88.89%\n",
      "\n",
      "\n",
      "Running fold 4\n",
      "Acurácia: 83.84%\n",
      "\n",
      "\n"
     ]
    }
   ],
   "source": [
    "\n",
    "kf = KFold(n_splits=5)\n",
    "\n",
    "results = []\n",
    "i = 0\n",
    "for train, test in kf.split(df):\n",
    "    result = {}\n",
    "    print(\"Running fold {}\".format(i))\n",
    "    result[\"fold\"] = i\n",
    "    \n",
    "    \n",
    "    training_set = df.iloc[train]\n",
    "    target_values = training_set['defects']\n",
    "    training_set = training_set.drop(columns=['defects'])\n",
    "    \n",
    "    knn = KNeighborsClassifier(n_neighbors=1)\n",
    "    knn.fit(training_set, target_values)\n",
    "    \n",
    "    test_set = df.iloc[test]\n",
    "    real_labels = test_set['defects']\n",
    "    result[\"real_labels\"] = real_labels\n",
    "    \n",
    "    test_set = test_set.drop(columns=['defects'])\n",
    "    predicted_classes = knn.predict(test_set)\n",
    "    result[\"predicted_classes\"] = predicted_classes\n",
    "    \n",
    "    acc = 0\n",
    "    for j, k in  zip(predicted_classes, real_labels):\n",
    "        if j == k:\n",
    "            acc += 1\n",
    "    \n",
    "    acc = acc/len(predicted_classes)\n",
    "    print(\"Acurácia: {}%\".format(round(acc*100, 2)))\n",
    "    print('\\n')\n",
    "    i+=1\n"
   ]
  }
 ],
 "metadata": {
  "kernelspec": {
   "display_name": "Python 3",
   "language": "python",
   "name": "python3"
  },
  "language_info": {
   "codemirror_mode": {
    "name": "ipython",
    "version": 3
   },
   "file_extension": ".py",
   "mimetype": "text/x-python",
   "name": "python",
   "nbconvert_exporter": "python",
   "pygments_lexer": "ipython3",
   "version": "3.8.5"
  }
 },
 "nbformat": 4,
 "nbformat_minor": 4
}
